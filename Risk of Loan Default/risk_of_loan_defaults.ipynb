{
 "cells": [
  {
   "cell_type": "markdown",
   "metadata": {},
   "source": [
    "# Risk of Loan Defaults\n",
    "\n",
    "**Objective**\n",
    "\n",
    "The bank's loan division is seeking to build a **credit scoring system** based on past internal data that evaluates a potential customer's likelihood to repay a loan. This analysis will help to determine what customer characteristics may be correlated with a defaulted loan in effort to decrease the overall default rate on loans."
   ]
  },
  {
   "cell_type": "markdown",
   "metadata": {},
   "source": [
    "**Data Description**\n",
    "\n",
    "<code>credit_scoring_eng</code>: table with customer characteristics and whether they defaulted a loan.\n",
    "\n",
    "- **<code>children</code>:** the number of children in the family\n",
    "- **<code>days_employed</code>:** how long the customer has been working\n",
    "- **<code>dob_year</code>:** the customer’s age\n",
    "- **<code>education</code>:** the customer’s education level\n",
    "- **<code>education_id</code>:** identifier for the customer’s education\n",
    "- **<code>family_status</code>:** the customer’s marital status\n",
    "- **<code>family_status_id</code>:** identifier for the customer’s marital status\n",
    "- **<code>gender</code>:** the customer’s gender\n",
    "- **<code>income_type</code>:** the customer’s income type\n",
    "- **<code>debt</code>:** whether the customer has ever defaulted on a loan\n",
    "- **<code>total_income</code>:** monthly income\n",
    "- **<code>purpose</code>:** reason for taking out a loan"
   ]
  },
  {
   "cell_type": "markdown",
   "metadata": {
    "toc": true
   },
   "source": [
    "<h1>Table of Contents<span class=\"tocSkip\"></span></h1>\n",
    "<div class=\"toc\"><ul class=\"toc-item\"><li><span><a href=\"#Setup\" data-toc-modified-id=\"Setup-1\"><span class=\"toc-item-num\">1&nbsp;&nbsp;</span>Setup</a></span></li><li><span><a href=\"#Data-exploration-and-pre-processing\" data-toc-modified-id=\"Data-exploration-and-pre-processing-2\"><span class=\"toc-item-num\">2&nbsp;&nbsp;</span>Data exploration and pre-processing</a></span><ul class=\"toc-item\"><li><span><a href=\"#Incorrect-data\" data-toc-modified-id=\"Incorrect-data-2.1\"><span class=\"toc-item-num\">2.1&nbsp;&nbsp;</span>Incorrect data</a></span></li><li><span><a href=\"#Duplicate-data\" data-toc-modified-id=\"Duplicate-data-2.2\"><span class=\"toc-item-num\">2.2&nbsp;&nbsp;</span>Duplicate data</a></span></li><li><span><a href=\"#Missing-values\" data-toc-modified-id=\"Missing-values-2.3\"><span class=\"toc-item-num\">2.3&nbsp;&nbsp;</span>Missing values</a></span></li></ul></li><li><span><a href=\"#Categorization-of-data\" data-toc-modified-id=\"Categorization-of-data-3\"><span class=\"toc-item-num\">3&nbsp;&nbsp;</span>Categorization of data</a></span><ul class=\"toc-item\"><li><span><a href=\"#Categorizing-by-Family-status-and-Children\" data-toc-modified-id=\"Categorizing-by-Family-status-and-Children-3.1\"><span class=\"toc-item-num\">3.1&nbsp;&nbsp;</span>Categorizing by Family status and Children</a></span></li><li><span><a href=\"#Categorizing-by-Purpose\" data-toc-modified-id=\"Categorizing-by-Purpose-3.2\"><span class=\"toc-item-num\">3.2&nbsp;&nbsp;</span>Categorizing by Purpose</a></span></li><li><span><a href=\"#Categorizing-by-new_income\" data-toc-modified-id=\"Categorizing-by-new_income-3.3\"><span class=\"toc-item-num\">3.3&nbsp;&nbsp;</span>Categorizing by new_income</a></span></li></ul></li><li><span><a href=\"#Checking-the-Hypotheses\" data-toc-modified-id=\"Checking-the-Hypotheses-4\"><span class=\"toc-item-num\">4&nbsp;&nbsp;</span>Checking the Hypotheses</a></span></li><li><span><a href=\"#General-conclusions\" data-toc-modified-id=\"General-conclusions-5\"><span class=\"toc-item-num\">5&nbsp;&nbsp;</span>General conclusions</a></span><ul class=\"toc-item\"><li><span><a href=\"#Limitations\" data-toc-modified-id=\"Limitations-5.1\"><span class=\"toc-item-num\">5.1&nbsp;&nbsp;</span>Limitations</a></span></li><li><span><a href=\"#Summary-of-findings\" data-toc-modified-id=\"Summary-of-findings-5.2\"><span class=\"toc-item-num\">5.2&nbsp;&nbsp;</span>Summary of findings</a></span></li></ul></li></ul></div>"
   ]
  },
  {
   "cell_type": "markdown",
   "metadata": {},
   "source": [
    "## Setup\n",
    "\n",
    "**Install & update libraries**"
   ]
  },
  {
   "cell_type": "code",
   "execution_count": 1,
   "metadata": {},
   "outputs": [],
   "source": [
    "# Loading all the libraries\n",
    "import pandas as pd\n",
    "import seaborn as sns\n",
    "import matplotlib.pylab as plt\n",
    "import numpy as np"
   ]
  },
  {
   "cell_type": "markdown",
   "metadata": {},
   "source": [
    "**Load and optimize data**"
   ]
  },
  {
   "cell_type": "code",
   "execution_count": 2,
   "metadata": {},
   "outputs": [
    {
     "data": {
      "text/html": [
       "<div>\n",
       "<style scoped>\n",
       "    .dataframe tbody tr th:only-of-type {\n",
       "        vertical-align: middle;\n",
       "    }\n",
       "\n",
       "    .dataframe tbody tr th {\n",
       "        vertical-align: top;\n",
       "    }\n",
       "\n",
       "    .dataframe thead th {\n",
       "        text-align: right;\n",
       "    }\n",
       "</style>\n",
       "<table border=\"1\" class=\"dataframe\">\n",
       "  <thead>\n",
       "    <tr style=\"text-align: right;\">\n",
       "      <th></th>\n",
       "      <th>children</th>\n",
       "      <th>days_employed</th>\n",
       "      <th>dob_years</th>\n",
       "      <th>education</th>\n",
       "      <th>education_id</th>\n",
       "      <th>family_status</th>\n",
       "      <th>family_status_id</th>\n",
       "      <th>gender</th>\n",
       "      <th>income_type</th>\n",
       "      <th>debt</th>\n",
       "      <th>total_income</th>\n",
       "      <th>purpose</th>\n",
       "    </tr>\n",
       "  </thead>\n",
       "  <tbody>\n",
       "    <tr>\n",
       "      <th>0</th>\n",
       "      <td>1</td>\n",
       "      <td>-8437.673028</td>\n",
       "      <td>42</td>\n",
       "      <td>bachelor's degree</td>\n",
       "      <td>0</td>\n",
       "      <td>married</td>\n",
       "      <td>0</td>\n",
       "      <td>F</td>\n",
       "      <td>employee</td>\n",
       "      <td>0</td>\n",
       "      <td>40620.102</td>\n",
       "      <td>purchase of the house</td>\n",
       "    </tr>\n",
       "    <tr>\n",
       "      <th>1</th>\n",
       "      <td>1</td>\n",
       "      <td>-4024.803754</td>\n",
       "      <td>36</td>\n",
       "      <td>secondary education</td>\n",
       "      <td>1</td>\n",
       "      <td>married</td>\n",
       "      <td>0</td>\n",
       "      <td>F</td>\n",
       "      <td>employee</td>\n",
       "      <td>0</td>\n",
       "      <td>17932.802</td>\n",
       "      <td>car purchase</td>\n",
       "    </tr>\n",
       "    <tr>\n",
       "      <th>2</th>\n",
       "      <td>0</td>\n",
       "      <td>-5623.422610</td>\n",
       "      <td>33</td>\n",
       "      <td>Secondary Education</td>\n",
       "      <td>1</td>\n",
       "      <td>married</td>\n",
       "      <td>0</td>\n",
       "      <td>M</td>\n",
       "      <td>employee</td>\n",
       "      <td>0</td>\n",
       "      <td>23341.752</td>\n",
       "      <td>purchase of the house</td>\n",
       "    </tr>\n",
       "    <tr>\n",
       "      <th>3</th>\n",
       "      <td>3</td>\n",
       "      <td>-4124.747207</td>\n",
       "      <td>32</td>\n",
       "      <td>secondary education</td>\n",
       "      <td>1</td>\n",
       "      <td>married</td>\n",
       "      <td>0</td>\n",
       "      <td>M</td>\n",
       "      <td>employee</td>\n",
       "      <td>0</td>\n",
       "      <td>42820.568</td>\n",
       "      <td>supplementary education</td>\n",
       "    </tr>\n",
       "    <tr>\n",
       "      <th>4</th>\n",
       "      <td>0</td>\n",
       "      <td>340266.072047</td>\n",
       "      <td>53</td>\n",
       "      <td>secondary education</td>\n",
       "      <td>1</td>\n",
       "      <td>civil partnership</td>\n",
       "      <td>1</td>\n",
       "      <td>F</td>\n",
       "      <td>retiree</td>\n",
       "      <td>0</td>\n",
       "      <td>25378.572</td>\n",
       "      <td>to have a wedding</td>\n",
       "    </tr>\n",
       "  </tbody>\n",
       "</table>\n",
       "</div>"
      ],
      "text/plain": [
       "   children  days_employed  dob_years            education  education_id  \\\n",
       "0         1   -8437.673028         42    bachelor's degree             0   \n",
       "1         1   -4024.803754         36  secondary education             1   \n",
       "2         0   -5623.422610         33  Secondary Education             1   \n",
       "3         3   -4124.747207         32  secondary education             1   \n",
       "4         0  340266.072047         53  secondary education             1   \n",
       "\n",
       "       family_status  family_status_id gender income_type  debt  total_income  \\\n",
       "0            married                 0      F    employee     0     40620.102   \n",
       "1            married                 0      F    employee     0     17932.802   \n",
       "2            married                 0      M    employee     0     23341.752   \n",
       "3            married                 0      M    employee     0     42820.568   \n",
       "4  civil partnership                 1      F     retiree     0     25378.572   \n",
       "\n",
       "                   purpose  \n",
       "0    purchase of the house  \n",
       "1             car purchase  \n",
       "2    purchase of the house  \n",
       "3  supplementary education  \n",
       "4        to have a wedding  "
      ]
     },
     "execution_count": 2,
     "metadata": {},
     "output_type": "execute_result"
    }
   ],
   "source": [
    "# Load the data\n",
    "credit_score = pd.read_csv(r'C:\\Users\\Talia\\Downloads\\credit_scoring_eng.csv')\n",
    "credit_score.head()"
   ]
  },
  {
   "cell_type": "code",
   "execution_count": 3,
   "metadata": {
    "scrolled": true
   },
   "outputs": [
    {
     "name": "stdout",
     "output_type": "stream",
     "text": [
      "<class 'pandas.core.frame.DataFrame'>\n",
      "RangeIndex: 21525 entries, 0 to 21524\n",
      "Data columns (total 12 columns):\n",
      " #   Column            Non-Null Count  Dtype  \n",
      "---  ------            --------------  -----  \n",
      " 0   children          21525 non-null  int64  \n",
      " 1   days_employed     19351 non-null  float64\n",
      " 2   dob_years         21525 non-null  int64  \n",
      " 3   education         21525 non-null  object \n",
      " 4   education_id      21525 non-null  int64  \n",
      " 5   family_status     21525 non-null  object \n",
      " 6   family_status_id  21525 non-null  int64  \n",
      " 7   gender            21525 non-null  object \n",
      " 8   income_type       21525 non-null  object \n",
      " 9   debt              21525 non-null  int64  \n",
      " 10  total_income      19351 non-null  float64\n",
      " 11  purpose           21525 non-null  object \n",
      "dtypes: float64(2), int64(5), object(5)\n",
      "memory usage: 2.0+ MB\n"
     ]
    }
   ],
   "source": [
    "credit_score.info()"
   ]
  },
  {
   "cell_type": "code",
   "execution_count": 4,
   "metadata": {
    "scrolled": true
   },
   "outputs": [
    {
     "name": "stdout",
     "output_type": "stream",
     "text": [
      "<class 'pandas.core.frame.DataFrame'>\n",
      "RangeIndex: 21525 entries, 0 to 21524\n",
      "Data columns (total 12 columns):\n",
      " #   Column            Non-Null Count  Dtype   \n",
      "---  ------            --------------  -----   \n",
      " 0   children          21525 non-null  int64   \n",
      " 1   days_employed     19351 non-null  float64 \n",
      " 2   dob_years         21525 non-null  int64   \n",
      " 3   education         21525 non-null  category\n",
      " 4   education_id      21525 non-null  category\n",
      " 5   family_status     21525 non-null  category\n",
      " 6   family_status_id  21525 non-null  int64   \n",
      " 7   gender            21525 non-null  category\n",
      " 8   income_type       21525 non-null  category\n",
      " 9   debt              21525 non-null  int64   \n",
      " 10  total_income      19351 non-null  float64 \n",
      " 11  purpose           21525 non-null  object  \n",
      "dtypes: category(5), float64(2), int64(4), object(1)\n",
      "memory usage: 1.3+ MB\n"
     ]
    }
   ],
   "source": [
    "#change data types to save memory space \n",
    "credit_score[['gender', 'education','education_id','family_status','income_type']]= credit_score[['gender', 'education','education_id','family_status','income_type']].astype('category')\n",
    "credit_score.info()"
   ]
  },
  {
   "cell_type": "markdown",
   "metadata": {},
   "source": [
    "- By changing the dtypes, a significant amount of memory usage was saved."
   ]
  },
  {
   "cell_type": "markdown",
   "metadata": {},
   "source": [
    "## Data exploration and pre-processing"
   ]
  },
  {
   "cell_type": "markdown",
   "metadata": {},
   "source": [
    "**High level and missing values**"
   ]
  },
  {
   "cell_type": "code",
   "execution_count": 5,
   "metadata": {},
   "outputs": [
    {
     "data": {
      "text/html": [
       "<div>\n",
       "<style scoped>\n",
       "    .dataframe tbody tr th:only-of-type {\n",
       "        vertical-align: middle;\n",
       "    }\n",
       "\n",
       "    .dataframe tbody tr th {\n",
       "        vertical-align: top;\n",
       "    }\n",
       "\n",
       "    .dataframe thead th {\n",
       "        text-align: right;\n",
       "    }\n",
       "</style>\n",
       "<table border=\"1\" class=\"dataframe\">\n",
       "  <thead>\n",
       "    <tr style=\"text-align: right;\">\n",
       "      <th></th>\n",
       "      <th>children</th>\n",
       "      <th>days_employed</th>\n",
       "      <th>dob_years</th>\n",
       "      <th>education</th>\n",
       "      <th>education_id</th>\n",
       "      <th>family_status</th>\n",
       "      <th>family_status_id</th>\n",
       "      <th>gender</th>\n",
       "      <th>income_type</th>\n",
       "      <th>debt</th>\n",
       "      <th>total_income</th>\n",
       "      <th>purpose</th>\n",
       "    </tr>\n",
       "  </thead>\n",
       "  <tbody>\n",
       "    <tr>\n",
       "      <th>count</th>\n",
       "      <td>21525.000000</td>\n",
       "      <td>19351.000000</td>\n",
       "      <td>21525.000000</td>\n",
       "      <td>21525</td>\n",
       "      <td>21525.0</td>\n",
       "      <td>21525</td>\n",
       "      <td>21525.000000</td>\n",
       "      <td>21525</td>\n",
       "      <td>21525</td>\n",
       "      <td>21525.000000</td>\n",
       "      <td>19351.000000</td>\n",
       "      <td>21525</td>\n",
       "    </tr>\n",
       "    <tr>\n",
       "      <th>unique</th>\n",
       "      <td>NaN</td>\n",
       "      <td>NaN</td>\n",
       "      <td>NaN</td>\n",
       "      <td>15</td>\n",
       "      <td>5.0</td>\n",
       "      <td>5</td>\n",
       "      <td>NaN</td>\n",
       "      <td>3</td>\n",
       "      <td>8</td>\n",
       "      <td>NaN</td>\n",
       "      <td>NaN</td>\n",
       "      <td>38</td>\n",
       "    </tr>\n",
       "    <tr>\n",
       "      <th>top</th>\n",
       "      <td>NaN</td>\n",
       "      <td>NaN</td>\n",
       "      <td>NaN</td>\n",
       "      <td>secondary education</td>\n",
       "      <td>1.0</td>\n",
       "      <td>married</td>\n",
       "      <td>NaN</td>\n",
       "      <td>F</td>\n",
       "      <td>employee</td>\n",
       "      <td>NaN</td>\n",
       "      <td>NaN</td>\n",
       "      <td>wedding ceremony</td>\n",
       "    </tr>\n",
       "    <tr>\n",
       "      <th>freq</th>\n",
       "      <td>NaN</td>\n",
       "      <td>NaN</td>\n",
       "      <td>NaN</td>\n",
       "      <td>13750</td>\n",
       "      <td>15233.0</td>\n",
       "      <td>12380</td>\n",
       "      <td>NaN</td>\n",
       "      <td>14236</td>\n",
       "      <td>11119</td>\n",
       "      <td>NaN</td>\n",
       "      <td>NaN</td>\n",
       "      <td>797</td>\n",
       "    </tr>\n",
       "    <tr>\n",
       "      <th>mean</th>\n",
       "      <td>0.538908</td>\n",
       "      <td>63046.497661</td>\n",
       "      <td>43.293380</td>\n",
       "      <td>NaN</td>\n",
       "      <td>NaN</td>\n",
       "      <td>NaN</td>\n",
       "      <td>0.972544</td>\n",
       "      <td>NaN</td>\n",
       "      <td>NaN</td>\n",
       "      <td>0.080883</td>\n",
       "      <td>26787.568355</td>\n",
       "      <td>NaN</td>\n",
       "    </tr>\n",
       "    <tr>\n",
       "      <th>std</th>\n",
       "      <td>1.381587</td>\n",
       "      <td>140827.311974</td>\n",
       "      <td>12.574584</td>\n",
       "      <td>NaN</td>\n",
       "      <td>NaN</td>\n",
       "      <td>NaN</td>\n",
       "      <td>1.420324</td>\n",
       "      <td>NaN</td>\n",
       "      <td>NaN</td>\n",
       "      <td>0.272661</td>\n",
       "      <td>16475.450632</td>\n",
       "      <td>NaN</td>\n",
       "    </tr>\n",
       "    <tr>\n",
       "      <th>min</th>\n",
       "      <td>-1.000000</td>\n",
       "      <td>-18388.949901</td>\n",
       "      <td>0.000000</td>\n",
       "      <td>NaN</td>\n",
       "      <td>NaN</td>\n",
       "      <td>NaN</td>\n",
       "      <td>0.000000</td>\n",
       "      <td>NaN</td>\n",
       "      <td>NaN</td>\n",
       "      <td>0.000000</td>\n",
       "      <td>3306.762000</td>\n",
       "      <td>NaN</td>\n",
       "    </tr>\n",
       "    <tr>\n",
       "      <th>25%</th>\n",
       "      <td>0.000000</td>\n",
       "      <td>-2747.423625</td>\n",
       "      <td>33.000000</td>\n",
       "      <td>NaN</td>\n",
       "      <td>NaN</td>\n",
       "      <td>NaN</td>\n",
       "      <td>0.000000</td>\n",
       "      <td>NaN</td>\n",
       "      <td>NaN</td>\n",
       "      <td>0.000000</td>\n",
       "      <td>16488.504500</td>\n",
       "      <td>NaN</td>\n",
       "    </tr>\n",
       "    <tr>\n",
       "      <th>50%</th>\n",
       "      <td>0.000000</td>\n",
       "      <td>-1203.369529</td>\n",
       "      <td>42.000000</td>\n",
       "      <td>NaN</td>\n",
       "      <td>NaN</td>\n",
       "      <td>NaN</td>\n",
       "      <td>0.000000</td>\n",
       "      <td>NaN</td>\n",
       "      <td>NaN</td>\n",
       "      <td>0.000000</td>\n",
       "      <td>23202.870000</td>\n",
       "      <td>NaN</td>\n",
       "    </tr>\n",
       "    <tr>\n",
       "      <th>75%</th>\n",
       "      <td>1.000000</td>\n",
       "      <td>-291.095954</td>\n",
       "      <td>53.000000</td>\n",
       "      <td>NaN</td>\n",
       "      <td>NaN</td>\n",
       "      <td>NaN</td>\n",
       "      <td>1.000000</td>\n",
       "      <td>NaN</td>\n",
       "      <td>NaN</td>\n",
       "      <td>0.000000</td>\n",
       "      <td>32549.611000</td>\n",
       "      <td>NaN</td>\n",
       "    </tr>\n",
       "    <tr>\n",
       "      <th>max</th>\n",
       "      <td>20.000000</td>\n",
       "      <td>401755.400475</td>\n",
       "      <td>75.000000</td>\n",
       "      <td>NaN</td>\n",
       "      <td>NaN</td>\n",
       "      <td>NaN</td>\n",
       "      <td>4.000000</td>\n",
       "      <td>NaN</td>\n",
       "      <td>NaN</td>\n",
       "      <td>1.000000</td>\n",
       "      <td>362496.645000</td>\n",
       "      <td>NaN</td>\n",
       "    </tr>\n",
       "  </tbody>\n",
       "</table>\n",
       "</div>"
      ],
      "text/plain": [
       "            children  days_employed     dob_years            education  \\\n",
       "count   21525.000000   19351.000000  21525.000000                21525   \n",
       "unique           NaN            NaN           NaN                   15   \n",
       "top              NaN            NaN           NaN  secondary education   \n",
       "freq             NaN            NaN           NaN                13750   \n",
       "mean        0.538908   63046.497661     43.293380                  NaN   \n",
       "std         1.381587  140827.311974     12.574584                  NaN   \n",
       "min        -1.000000  -18388.949901      0.000000                  NaN   \n",
       "25%         0.000000   -2747.423625     33.000000                  NaN   \n",
       "50%         0.000000   -1203.369529     42.000000                  NaN   \n",
       "75%         1.000000    -291.095954     53.000000                  NaN   \n",
       "max        20.000000  401755.400475     75.000000                  NaN   \n",
       "\n",
       "        education_id family_status  family_status_id gender income_type  \\\n",
       "count        21525.0         21525      21525.000000  21525       21525   \n",
       "unique           5.0             5               NaN      3           8   \n",
       "top              1.0       married               NaN      F    employee   \n",
       "freq         15233.0         12380               NaN  14236       11119   \n",
       "mean             NaN           NaN          0.972544    NaN         NaN   \n",
       "std              NaN           NaN          1.420324    NaN         NaN   \n",
       "min              NaN           NaN          0.000000    NaN         NaN   \n",
       "25%              NaN           NaN          0.000000    NaN         NaN   \n",
       "50%              NaN           NaN          0.000000    NaN         NaN   \n",
       "75%              NaN           NaN          1.000000    NaN         NaN   \n",
       "max              NaN           NaN          4.000000    NaN         NaN   \n",
       "\n",
       "                debt   total_income           purpose  \n",
       "count   21525.000000   19351.000000             21525  \n",
       "unique           NaN            NaN                38  \n",
       "top              NaN            NaN  wedding ceremony  \n",
       "freq             NaN            NaN               797  \n",
       "mean        0.080883   26787.568355               NaN  \n",
       "std         0.272661   16475.450632               NaN  \n",
       "min         0.000000    3306.762000               NaN  \n",
       "25%         0.000000   16488.504500               NaN  \n",
       "50%         0.000000   23202.870000               NaN  \n",
       "75%         0.000000   32549.611000               NaN  \n",
       "max         1.000000  362496.645000               NaN  "
      ]
     },
     "execution_count": 5,
     "metadata": {},
     "output_type": "execute_result"
    }
   ],
   "source": [
    "#distribution of dataset\n",
    "credit_score.describe(include='all')"
   ]
  },
  {
   "cell_type": "code",
   "execution_count": 6,
   "metadata": {
    "scrolled": true
   },
   "outputs": [
    {
     "data": {
      "text/html": [
       "<div>\n",
       "<style scoped>\n",
       "    .dataframe tbody tr th:only-of-type {\n",
       "        vertical-align: middle;\n",
       "    }\n",
       "\n",
       "    .dataframe tbody tr th {\n",
       "        vertical-align: top;\n",
       "    }\n",
       "\n",
       "    .dataframe thead th {\n",
       "        text-align: right;\n",
       "    }\n",
       "</style>\n",
       "<table border=\"1\" class=\"dataframe\">\n",
       "  <thead>\n",
       "    <tr style=\"text-align: right;\">\n",
       "      <th></th>\n",
       "      <th>children</th>\n",
       "      <th>days_employed</th>\n",
       "      <th>dob_years</th>\n",
       "      <th>education</th>\n",
       "      <th>education_id</th>\n",
       "      <th>family_status</th>\n",
       "      <th>family_status_id</th>\n",
       "      <th>gender</th>\n",
       "      <th>income_type</th>\n",
       "      <th>debt</th>\n",
       "      <th>total_income</th>\n",
       "      <th>purpose</th>\n",
       "    </tr>\n",
       "  </thead>\n",
       "  <tbody>\n",
       "    <tr>\n",
       "      <th>0</th>\n",
       "      <td>1</td>\n",
       "      <td>-8437.673028</td>\n",
       "      <td>42</td>\n",
       "      <td>bachelor's degree</td>\n",
       "      <td>0</td>\n",
       "      <td>married</td>\n",
       "      <td>0</td>\n",
       "      <td>F</td>\n",
       "      <td>employee</td>\n",
       "      <td>0</td>\n",
       "      <td>40620.102</td>\n",
       "      <td>purchase of the house</td>\n",
       "    </tr>\n",
       "    <tr>\n",
       "      <th>1</th>\n",
       "      <td>1</td>\n",
       "      <td>-4024.803754</td>\n",
       "      <td>36</td>\n",
       "      <td>secondary education</td>\n",
       "      <td>1</td>\n",
       "      <td>married</td>\n",
       "      <td>0</td>\n",
       "      <td>F</td>\n",
       "      <td>employee</td>\n",
       "      <td>0</td>\n",
       "      <td>17932.802</td>\n",
       "      <td>car purchase</td>\n",
       "    </tr>\n",
       "    <tr>\n",
       "      <th>2</th>\n",
       "      <td>0</td>\n",
       "      <td>-5623.422610</td>\n",
       "      <td>33</td>\n",
       "      <td>Secondary Education</td>\n",
       "      <td>1</td>\n",
       "      <td>married</td>\n",
       "      <td>0</td>\n",
       "      <td>M</td>\n",
       "      <td>employee</td>\n",
       "      <td>0</td>\n",
       "      <td>23341.752</td>\n",
       "      <td>purchase of the house</td>\n",
       "    </tr>\n",
       "    <tr>\n",
       "      <th>3</th>\n",
       "      <td>3</td>\n",
       "      <td>-4124.747207</td>\n",
       "      <td>32</td>\n",
       "      <td>secondary education</td>\n",
       "      <td>1</td>\n",
       "      <td>married</td>\n",
       "      <td>0</td>\n",
       "      <td>M</td>\n",
       "      <td>employee</td>\n",
       "      <td>0</td>\n",
       "      <td>42820.568</td>\n",
       "      <td>supplementary education</td>\n",
       "    </tr>\n",
       "    <tr>\n",
       "      <th>4</th>\n",
       "      <td>0</td>\n",
       "      <td>340266.072047</td>\n",
       "      <td>53</td>\n",
       "      <td>secondary education</td>\n",
       "      <td>1</td>\n",
       "      <td>civil partnership</td>\n",
       "      <td>1</td>\n",
       "      <td>F</td>\n",
       "      <td>retiree</td>\n",
       "      <td>0</td>\n",
       "      <td>25378.572</td>\n",
       "      <td>to have a wedding</td>\n",
       "    </tr>\n",
       "    <tr>\n",
       "      <th>5</th>\n",
       "      <td>0</td>\n",
       "      <td>-926.185831</td>\n",
       "      <td>27</td>\n",
       "      <td>bachelor's degree</td>\n",
       "      <td>0</td>\n",
       "      <td>civil partnership</td>\n",
       "      <td>1</td>\n",
       "      <td>M</td>\n",
       "      <td>business</td>\n",
       "      <td>0</td>\n",
       "      <td>40922.170</td>\n",
       "      <td>purchase of the house</td>\n",
       "    </tr>\n",
       "    <tr>\n",
       "      <th>6</th>\n",
       "      <td>0</td>\n",
       "      <td>-2879.202052</td>\n",
       "      <td>43</td>\n",
       "      <td>bachelor's degree</td>\n",
       "      <td>0</td>\n",
       "      <td>married</td>\n",
       "      <td>0</td>\n",
       "      <td>F</td>\n",
       "      <td>business</td>\n",
       "      <td>0</td>\n",
       "      <td>38484.156</td>\n",
       "      <td>housing transactions</td>\n",
       "    </tr>\n",
       "    <tr>\n",
       "      <th>7</th>\n",
       "      <td>0</td>\n",
       "      <td>-152.779569</td>\n",
       "      <td>50</td>\n",
       "      <td>SECONDARY EDUCATION</td>\n",
       "      <td>1</td>\n",
       "      <td>married</td>\n",
       "      <td>0</td>\n",
       "      <td>M</td>\n",
       "      <td>employee</td>\n",
       "      <td>0</td>\n",
       "      <td>21731.829</td>\n",
       "      <td>education</td>\n",
       "    </tr>\n",
       "    <tr>\n",
       "      <th>8</th>\n",
       "      <td>2</td>\n",
       "      <td>-6929.865299</td>\n",
       "      <td>35</td>\n",
       "      <td>BACHELOR'S DEGREE</td>\n",
       "      <td>0</td>\n",
       "      <td>civil partnership</td>\n",
       "      <td>1</td>\n",
       "      <td>F</td>\n",
       "      <td>employee</td>\n",
       "      <td>0</td>\n",
       "      <td>15337.093</td>\n",
       "      <td>having a wedding</td>\n",
       "    </tr>\n",
       "    <tr>\n",
       "      <th>9</th>\n",
       "      <td>0</td>\n",
       "      <td>-2188.756445</td>\n",
       "      <td>41</td>\n",
       "      <td>secondary education</td>\n",
       "      <td>1</td>\n",
       "      <td>married</td>\n",
       "      <td>0</td>\n",
       "      <td>M</td>\n",
       "      <td>employee</td>\n",
       "      <td>0</td>\n",
       "      <td>23108.150</td>\n",
       "      <td>purchase of the house for my family</td>\n",
       "    </tr>\n",
       "  </tbody>\n",
       "</table>\n",
       "</div>"
      ],
      "text/plain": [
       "   children  days_employed  dob_years            education education_id  \\\n",
       "0         1   -8437.673028         42    bachelor's degree            0   \n",
       "1         1   -4024.803754         36  secondary education            1   \n",
       "2         0   -5623.422610         33  Secondary Education            1   \n",
       "3         3   -4124.747207         32  secondary education            1   \n",
       "4         0  340266.072047         53  secondary education            1   \n",
       "5         0    -926.185831         27    bachelor's degree            0   \n",
       "6         0   -2879.202052         43    bachelor's degree            0   \n",
       "7         0    -152.779569         50  SECONDARY EDUCATION            1   \n",
       "8         2   -6929.865299         35    BACHELOR'S DEGREE            0   \n",
       "9         0   -2188.756445         41  secondary education            1   \n",
       "\n",
       "       family_status  family_status_id gender income_type  debt  total_income  \\\n",
       "0            married                 0      F    employee     0     40620.102   \n",
       "1            married                 0      F    employee     0     17932.802   \n",
       "2            married                 0      M    employee     0     23341.752   \n",
       "3            married                 0      M    employee     0     42820.568   \n",
       "4  civil partnership                 1      F     retiree     0     25378.572   \n",
       "5  civil partnership                 1      M    business     0     40922.170   \n",
       "6            married                 0      F    business     0     38484.156   \n",
       "7            married                 0      M    employee     0     21731.829   \n",
       "8  civil partnership                 1      F    employee     0     15337.093   \n",
       "9            married                 0      M    employee     0     23108.150   \n",
       "\n",
       "                               purpose  \n",
       "0                purchase of the house  \n",
       "1                         car purchase  \n",
       "2                purchase of the house  \n",
       "3              supplementary education  \n",
       "4                    to have a wedding  \n",
       "5                purchase of the house  \n",
       "6                 housing transactions  \n",
       "7                            education  \n",
       "8                     having a wedding  \n",
       "9  purchase of the house for my family  "
      ]
     },
     "execution_count": 6,
     "metadata": {},
     "output_type": "execute_result"
    }
   ],
   "source": [
    "# Print first 10 rows\n",
    "credit_score.head(10)"
   ]
  },
  {
   "cell_type": "code",
   "execution_count": 7,
   "metadata": {
    "scrolled": false
   },
   "outputs": [
    {
     "name": "stdout",
     "output_type": "stream",
     "text": [
      "<class 'pandas.core.frame.DataFrame'>\n",
      "RangeIndex: 21525 entries, 0 to 21524\n",
      "Data columns (total 12 columns):\n",
      " #   Column            Non-Null Count  Dtype   \n",
      "---  ------            --------------  -----   \n",
      " 0   children          21525 non-null  int64   \n",
      " 1   days_employed     19351 non-null  float64 \n",
      " 2   dob_years         21525 non-null  int64   \n",
      " 3   education         21525 non-null  category\n",
      " 4   education_id      21525 non-null  category\n",
      " 5   family_status     21525 non-null  category\n",
      " 6   family_status_id  21525 non-null  int64   \n",
      " 7   gender            21525 non-null  category\n",
      " 8   income_type       21525 non-null  category\n",
      " 9   debt              21525 non-null  int64   \n",
      " 10  total_income      19351 non-null  float64 \n",
      " 11  purpose           21525 non-null  object  \n",
      "dtypes: category(5), float64(2), int64(4), object(1)\n",
      "memory usage: 1.3+ MB\n"
     ]
    }
   ],
   "source": [
    "# Get info on data\n",
    "credit_score.info()"
   ]
  },
  {
   "cell_type": "code",
   "execution_count": 8,
   "metadata": {
    "scrolled": true
   },
   "outputs": [
    {
     "name": "stdout",
     "output_type": "stream",
     "text": [
      "<class 'pandas.core.frame.DataFrame'>\n",
      "Int64Index: 2174 entries, 12 to 21510\n",
      "Data columns (total 12 columns):\n",
      " #   Column            Non-Null Count  Dtype   \n",
      "---  ------            --------------  -----   \n",
      " 0   children          2174 non-null   int64   \n",
      " 1   days_employed     0 non-null      float64 \n",
      " 2   dob_years         2174 non-null   int64   \n",
      " 3   education         2174 non-null   category\n",
      " 4   education_id      2174 non-null   category\n",
      " 5   family_status     2174 non-null   category\n",
      " 6   family_status_id  2174 non-null   int64   \n",
      " 7   gender            2174 non-null   category\n",
      " 8   income_type       2174 non-null   category\n",
      " 9   debt              2174 non-null   int64   \n",
      " 10  total_income      0 non-null      float64 \n",
      " 11  purpose           2174 non-null   object  \n",
      "dtypes: category(5), float64(2), int64(4), object(1)\n",
      "memory usage: 148.1+ KB\n"
     ]
    }
   ],
   "source": [
    "# Filtered table with the the first column with missing data\n",
    "credit_score_filtered_null=credit_score[credit_score['days_employed'].isna()]\n",
    "credit_score_filtered_null.info()"
   ]
  },
  {
   "cell_type": "code",
   "execution_count": 9,
   "metadata": {},
   "outputs": [
    {
     "name": "stdout",
     "output_type": "stream",
     "text": [
      "Medium amount of data missing: 10%\n"
     ]
    }
   ],
   "source": [
    "#Calculate the percentage of the missing values compared to the whole dataset.\n",
    "filtered_table_nan=credit_score[(credit_score['days_employed'].isna()) & (credit_score['total_income'].isna())]\n",
    "if filtered_table_nan.shape[0]/credit_score.shape[0]<=0.06:\n",
    "    print(\"Not so much data missing:\",'{:.0%}'.format(filtered_table_nan.shape[0]/credit_score.shape[0]))    \n",
    "elif filtered_table_nan.shape[0]/credit_score.shape[0]<=0.11:\n",
    "    print(\"Medium amount of data missing:\",'{:.0%}'.format(filtered_table_nan.shape[0]/credit_score.shape[0]))    \n",
    "else: \n",
    "    print(\"Too much data missing:\",'{:.0%}'.format(filtered_table_nan.shape[0]/credit_score.shape[0]))"
   ]
  },
  {
   "cell_type": "markdown",
   "metadata": {},
   "source": [
    "**Initial observations:**\n",
    "\n",
    "1. The days_employed column has negative values. \n",
    "2. The entry at index[4] has been employed for about 93 years.\n",
    "3. Entries in the education column contain both upercase and lowercase (e.g., 'secondary education' and 'Secondary Education').\n",
    "4. The entries in the total income column have 3 decimal places (instead of 2).\n",
    "5. The entries in the purpose column are not uniform indicating that they were likely entered by free-write. \n",
    "Some are also vague like 'housing transactions'.\n",
    "6. The first 10 entries in the debt column are all 0. More exploration needed to see what entries in this column look like.\n",
    "7. The columns days_employed and total_income contain the same number of missing values (2,174) from the same rows. It is logical that without knowing the number of days imployed, the total income cannot be calculated.\n",
    "8. About 10% of the rows in the dataset contain missing values; 5% is a common accepted threshhold to not be concerned with missing values so we will need to investigate further. \n",
    "\n",
    "**<u>Next steps:</u>**\n",
    "1. Explore whether the missing data is due to a specific client characteristic, such as income type or debt. (I do not see a reason why the missing values would relate to another characteristic.)"
   ]
  },
  {
   "cell_type": "code",
   "execution_count": 10,
   "metadata": {},
   "outputs": [
    {
     "name": "stdout",
     "output_type": "stream",
     "text": [
      "Count of missing income_type values by days_employed:\n",
      "business                       10%\n",
      "civil servant                  10%\n",
      "employee                       10%\n",
      "entrepreneur                   50%\n",
      "paternity / maternity leave     0%\n",
      "retiree                        11%\n",
      "student                         0%\n",
      "unemployed                      0%\n",
      "Name: income_type, dtype: object\n",
      "\n",
      "Count of missing debt values by debt:\n",
      "0    10%\n",
      "1    10%\n",
      "Name: debt, dtype: object\n",
      "\n"
     ]
    }
   ],
   "source": [
    "#Check to see if there is a connection between missing data and a specific client characteristic:\n",
    "columns = ['income_type', 'debt']\n",
    "\n",
    "missing_values = []\n",
    "\n",
    "                                       \n",
    "for value in columns:\n",
    " \n",
    "    filtered_data = credit_score[credit_score['days_employed'].isna()][value].value_counts()/credit_score[value].value_counts()\n",
    "    missing_values.append(filtered_data)\n",
    "\n",
    "print('Count of missing income_type values by days_employed:')\n",
    "print(missing_values[0].apply(lambda x: \"{:0.0%}\".format(x)))\n",
    "print()\n",
    "\n",
    "print('Count of missing debt values by debt:')\n",
    "print(missing_values[1].apply(lambda x: \"{:0.0%}\".format(x)))\n",
    "print()"
   ]
  },
  {
   "cell_type": "code",
   "execution_count": 11,
   "metadata": {},
   "outputs": [
    {
     "data": {
      "text/html": [
       "<div>\n",
       "<style scoped>\n",
       "    .dataframe tbody tr th:only-of-type {\n",
       "        vertical-align: middle;\n",
       "    }\n",
       "\n",
       "    .dataframe tbody tr th {\n",
       "        vertical-align: top;\n",
       "    }\n",
       "\n",
       "    .dataframe thead th {\n",
       "        text-align: right;\n",
       "    }\n",
       "</style>\n",
       "<table border=\"1\" class=\"dataframe\">\n",
       "  <thead>\n",
       "    <tr style=\"text-align: right;\">\n",
       "      <th></th>\n",
       "      <th>children</th>\n",
       "      <th>days_employed</th>\n",
       "      <th>dob_years</th>\n",
       "      <th>education</th>\n",
       "      <th>education_id</th>\n",
       "      <th>family_status</th>\n",
       "      <th>family_status_id</th>\n",
       "      <th>gender</th>\n",
       "      <th>income_type</th>\n",
       "      <th>debt</th>\n",
       "      <th>total_income</th>\n",
       "      <th>purpose</th>\n",
       "    </tr>\n",
       "  </thead>\n",
       "  <tbody>\n",
       "    <tr>\n",
       "      <th>count</th>\n",
       "      <td>21525.000000</td>\n",
       "      <td>19351.000000</td>\n",
       "      <td>21525.000000</td>\n",
       "      <td>21525</td>\n",
       "      <td>21525.0</td>\n",
       "      <td>21525</td>\n",
       "      <td>21525.000000</td>\n",
       "      <td>21525</td>\n",
       "      <td>21525</td>\n",
       "      <td>21525.000000</td>\n",
       "      <td>19351.000000</td>\n",
       "      <td>21525</td>\n",
       "    </tr>\n",
       "    <tr>\n",
       "      <th>unique</th>\n",
       "      <td>NaN</td>\n",
       "      <td>NaN</td>\n",
       "      <td>NaN</td>\n",
       "      <td>15</td>\n",
       "      <td>5.0</td>\n",
       "      <td>5</td>\n",
       "      <td>NaN</td>\n",
       "      <td>3</td>\n",
       "      <td>8</td>\n",
       "      <td>NaN</td>\n",
       "      <td>NaN</td>\n",
       "      <td>38</td>\n",
       "    </tr>\n",
       "    <tr>\n",
       "      <th>top</th>\n",
       "      <td>NaN</td>\n",
       "      <td>NaN</td>\n",
       "      <td>NaN</td>\n",
       "      <td>secondary education</td>\n",
       "      <td>1.0</td>\n",
       "      <td>married</td>\n",
       "      <td>NaN</td>\n",
       "      <td>F</td>\n",
       "      <td>employee</td>\n",
       "      <td>NaN</td>\n",
       "      <td>NaN</td>\n",
       "      <td>wedding ceremony</td>\n",
       "    </tr>\n",
       "    <tr>\n",
       "      <th>freq</th>\n",
       "      <td>NaN</td>\n",
       "      <td>NaN</td>\n",
       "      <td>NaN</td>\n",
       "      <td>13750</td>\n",
       "      <td>15233.0</td>\n",
       "      <td>12380</td>\n",
       "      <td>NaN</td>\n",
       "      <td>14236</td>\n",
       "      <td>11119</td>\n",
       "      <td>NaN</td>\n",
       "      <td>NaN</td>\n",
       "      <td>797</td>\n",
       "    </tr>\n",
       "    <tr>\n",
       "      <th>mean</th>\n",
       "      <td>0.538908</td>\n",
       "      <td>63046.497661</td>\n",
       "      <td>43.293380</td>\n",
       "      <td>NaN</td>\n",
       "      <td>NaN</td>\n",
       "      <td>NaN</td>\n",
       "      <td>0.972544</td>\n",
       "      <td>NaN</td>\n",
       "      <td>NaN</td>\n",
       "      <td>0.080883</td>\n",
       "      <td>26787.568355</td>\n",
       "      <td>NaN</td>\n",
       "    </tr>\n",
       "    <tr>\n",
       "      <th>std</th>\n",
       "      <td>1.381587</td>\n",
       "      <td>140827.311974</td>\n",
       "      <td>12.574584</td>\n",
       "      <td>NaN</td>\n",
       "      <td>NaN</td>\n",
       "      <td>NaN</td>\n",
       "      <td>1.420324</td>\n",
       "      <td>NaN</td>\n",
       "      <td>NaN</td>\n",
       "      <td>0.272661</td>\n",
       "      <td>16475.450632</td>\n",
       "      <td>NaN</td>\n",
       "    </tr>\n",
       "    <tr>\n",
       "      <th>min</th>\n",
       "      <td>-1.000000</td>\n",
       "      <td>-18388.949901</td>\n",
       "      <td>0.000000</td>\n",
       "      <td>NaN</td>\n",
       "      <td>NaN</td>\n",
       "      <td>NaN</td>\n",
       "      <td>0.000000</td>\n",
       "      <td>NaN</td>\n",
       "      <td>NaN</td>\n",
       "      <td>0.000000</td>\n",
       "      <td>3306.762000</td>\n",
       "      <td>NaN</td>\n",
       "    </tr>\n",
       "    <tr>\n",
       "      <th>25%</th>\n",
       "      <td>0.000000</td>\n",
       "      <td>-2747.423625</td>\n",
       "      <td>33.000000</td>\n",
       "      <td>NaN</td>\n",
       "      <td>NaN</td>\n",
       "      <td>NaN</td>\n",
       "      <td>0.000000</td>\n",
       "      <td>NaN</td>\n",
       "      <td>NaN</td>\n",
       "      <td>0.000000</td>\n",
       "      <td>16488.504500</td>\n",
       "      <td>NaN</td>\n",
       "    </tr>\n",
       "    <tr>\n",
       "      <th>50%</th>\n",
       "      <td>0.000000</td>\n",
       "      <td>-1203.369529</td>\n",
       "      <td>42.000000</td>\n",
       "      <td>NaN</td>\n",
       "      <td>NaN</td>\n",
       "      <td>NaN</td>\n",
       "      <td>0.000000</td>\n",
       "      <td>NaN</td>\n",
       "      <td>NaN</td>\n",
       "      <td>0.000000</td>\n",
       "      <td>23202.870000</td>\n",
       "      <td>NaN</td>\n",
       "    </tr>\n",
       "    <tr>\n",
       "      <th>75%</th>\n",
       "      <td>1.000000</td>\n",
       "      <td>-291.095954</td>\n",
       "      <td>53.000000</td>\n",
       "      <td>NaN</td>\n",
       "      <td>NaN</td>\n",
       "      <td>NaN</td>\n",
       "      <td>1.000000</td>\n",
       "      <td>NaN</td>\n",
       "      <td>NaN</td>\n",
       "      <td>0.000000</td>\n",
       "      <td>32549.611000</td>\n",
       "      <td>NaN</td>\n",
       "    </tr>\n",
       "    <tr>\n",
       "      <th>max</th>\n",
       "      <td>20.000000</td>\n",
       "      <td>401755.400475</td>\n",
       "      <td>75.000000</td>\n",
       "      <td>NaN</td>\n",
       "      <td>NaN</td>\n",
       "      <td>NaN</td>\n",
       "      <td>4.000000</td>\n",
       "      <td>NaN</td>\n",
       "      <td>NaN</td>\n",
       "      <td>1.000000</td>\n",
       "      <td>362496.645000</td>\n",
       "      <td>NaN</td>\n",
       "    </tr>\n",
       "  </tbody>\n",
       "</table>\n",
       "</div>"
      ],
      "text/plain": [
       "            children  days_employed     dob_years            education  \\\n",
       "count   21525.000000   19351.000000  21525.000000                21525   \n",
       "unique           NaN            NaN           NaN                   15   \n",
       "top              NaN            NaN           NaN  secondary education   \n",
       "freq             NaN            NaN           NaN                13750   \n",
       "mean        0.538908   63046.497661     43.293380                  NaN   \n",
       "std         1.381587  140827.311974     12.574584                  NaN   \n",
       "min        -1.000000  -18388.949901      0.000000                  NaN   \n",
       "25%         0.000000   -2747.423625     33.000000                  NaN   \n",
       "50%         0.000000   -1203.369529     42.000000                  NaN   \n",
       "75%         1.000000    -291.095954     53.000000                  NaN   \n",
       "max        20.000000  401755.400475     75.000000                  NaN   \n",
       "\n",
       "        education_id family_status  family_status_id gender income_type  \\\n",
       "count        21525.0         21525      21525.000000  21525       21525   \n",
       "unique           5.0             5               NaN      3           8   \n",
       "top              1.0       married               NaN      F    employee   \n",
       "freq         15233.0         12380               NaN  14236       11119   \n",
       "mean             NaN           NaN          0.972544    NaN         NaN   \n",
       "std              NaN           NaN          1.420324    NaN         NaN   \n",
       "min              NaN           NaN          0.000000    NaN         NaN   \n",
       "25%              NaN           NaN          0.000000    NaN         NaN   \n",
       "50%              NaN           NaN          0.000000    NaN         NaN   \n",
       "75%              NaN           NaN          1.000000    NaN         NaN   \n",
       "max              NaN           NaN          4.000000    NaN         NaN   \n",
       "\n",
       "                debt   total_income           purpose  \n",
       "count   21525.000000   19351.000000             21525  \n",
       "unique           NaN            NaN                38  \n",
       "top              NaN            NaN  wedding ceremony  \n",
       "freq             NaN            NaN               797  \n",
       "mean        0.080883   26787.568355               NaN  \n",
       "std         0.272661   16475.450632               NaN  \n",
       "min         0.000000    3306.762000               NaN  \n",
       "25%         0.000000   16488.504500               NaN  \n",
       "50%         0.000000   23202.870000               NaN  \n",
       "75%         0.000000   32549.611000               NaN  \n",
       "max         1.000000  362496.645000               NaN  "
      ]
     },
     "execution_count": 11,
     "metadata": {},
     "output_type": "execute_result"
    }
   ],
   "source": [
    "# Checking distribution of filtered table without null values\n",
    "filtered_table_not_nan = credit_score[credit_score.notnull()]\n",
    "filtered_table_not_nan.describe(include='all')"
   ]
  },
  {
   "cell_type": "code",
   "execution_count": 12,
   "metadata": {},
   "outputs": [
    {
     "data": {
      "text/html": [
       "<div>\n",
       "<style scoped>\n",
       "    .dataframe tbody tr th:only-of-type {\n",
       "        vertical-align: middle;\n",
       "    }\n",
       "\n",
       "    .dataframe tbody tr th {\n",
       "        vertical-align: top;\n",
       "    }\n",
       "\n",
       "    .dataframe thead th {\n",
       "        text-align: right;\n",
       "    }\n",
       "</style>\n",
       "<table border=\"1\" class=\"dataframe\">\n",
       "  <thead>\n",
       "    <tr style=\"text-align: right;\">\n",
       "      <th></th>\n",
       "      <th>children</th>\n",
       "      <th>days_employed</th>\n",
       "      <th>dob_years</th>\n",
       "      <th>education</th>\n",
       "      <th>education_id</th>\n",
       "      <th>family_status</th>\n",
       "      <th>family_status_id</th>\n",
       "      <th>gender</th>\n",
       "      <th>income_type</th>\n",
       "      <th>debt</th>\n",
       "      <th>total_income</th>\n",
       "      <th>purpose</th>\n",
       "    </tr>\n",
       "  </thead>\n",
       "  <tbody>\n",
       "    <tr>\n",
       "      <th>count</th>\n",
       "      <td>21525.000000</td>\n",
       "      <td>19351.000000</td>\n",
       "      <td>21525.000000</td>\n",
       "      <td>21525</td>\n",
       "      <td>21525.0</td>\n",
       "      <td>21525</td>\n",
       "      <td>21525.000000</td>\n",
       "      <td>21525</td>\n",
       "      <td>21525</td>\n",
       "      <td>21525.000000</td>\n",
       "      <td>19351.000000</td>\n",
       "      <td>21525</td>\n",
       "    </tr>\n",
       "    <tr>\n",
       "      <th>unique</th>\n",
       "      <td>NaN</td>\n",
       "      <td>NaN</td>\n",
       "      <td>NaN</td>\n",
       "      <td>15</td>\n",
       "      <td>5.0</td>\n",
       "      <td>5</td>\n",
       "      <td>NaN</td>\n",
       "      <td>3</td>\n",
       "      <td>8</td>\n",
       "      <td>NaN</td>\n",
       "      <td>NaN</td>\n",
       "      <td>38</td>\n",
       "    </tr>\n",
       "    <tr>\n",
       "      <th>top</th>\n",
       "      <td>NaN</td>\n",
       "      <td>NaN</td>\n",
       "      <td>NaN</td>\n",
       "      <td>secondary education</td>\n",
       "      <td>1.0</td>\n",
       "      <td>married</td>\n",
       "      <td>NaN</td>\n",
       "      <td>F</td>\n",
       "      <td>employee</td>\n",
       "      <td>NaN</td>\n",
       "      <td>NaN</td>\n",
       "      <td>wedding ceremony</td>\n",
       "    </tr>\n",
       "    <tr>\n",
       "      <th>freq</th>\n",
       "      <td>NaN</td>\n",
       "      <td>NaN</td>\n",
       "      <td>NaN</td>\n",
       "      <td>13750</td>\n",
       "      <td>15233.0</td>\n",
       "      <td>12380</td>\n",
       "      <td>NaN</td>\n",
       "      <td>14236</td>\n",
       "      <td>11119</td>\n",
       "      <td>NaN</td>\n",
       "      <td>NaN</td>\n",
       "      <td>797</td>\n",
       "    </tr>\n",
       "    <tr>\n",
       "      <th>mean</th>\n",
       "      <td>0.538908</td>\n",
       "      <td>63046.497661</td>\n",
       "      <td>43.293380</td>\n",
       "      <td>NaN</td>\n",
       "      <td>NaN</td>\n",
       "      <td>NaN</td>\n",
       "      <td>0.972544</td>\n",
       "      <td>NaN</td>\n",
       "      <td>NaN</td>\n",
       "      <td>0.080883</td>\n",
       "      <td>26787.568355</td>\n",
       "      <td>NaN</td>\n",
       "    </tr>\n",
       "    <tr>\n",
       "      <th>std</th>\n",
       "      <td>1.381587</td>\n",
       "      <td>140827.311974</td>\n",
       "      <td>12.574584</td>\n",
       "      <td>NaN</td>\n",
       "      <td>NaN</td>\n",
       "      <td>NaN</td>\n",
       "      <td>1.420324</td>\n",
       "      <td>NaN</td>\n",
       "      <td>NaN</td>\n",
       "      <td>0.272661</td>\n",
       "      <td>16475.450632</td>\n",
       "      <td>NaN</td>\n",
       "    </tr>\n",
       "    <tr>\n",
       "      <th>min</th>\n",
       "      <td>-1.000000</td>\n",
       "      <td>-18388.949901</td>\n",
       "      <td>0.000000</td>\n",
       "      <td>NaN</td>\n",
       "      <td>NaN</td>\n",
       "      <td>NaN</td>\n",
       "      <td>0.000000</td>\n",
       "      <td>NaN</td>\n",
       "      <td>NaN</td>\n",
       "      <td>0.000000</td>\n",
       "      <td>3306.762000</td>\n",
       "      <td>NaN</td>\n",
       "    </tr>\n",
       "    <tr>\n",
       "      <th>25%</th>\n",
       "      <td>0.000000</td>\n",
       "      <td>-2747.423625</td>\n",
       "      <td>33.000000</td>\n",
       "      <td>NaN</td>\n",
       "      <td>NaN</td>\n",
       "      <td>NaN</td>\n",
       "      <td>0.000000</td>\n",
       "      <td>NaN</td>\n",
       "      <td>NaN</td>\n",
       "      <td>0.000000</td>\n",
       "      <td>16488.504500</td>\n",
       "      <td>NaN</td>\n",
       "    </tr>\n",
       "    <tr>\n",
       "      <th>50%</th>\n",
       "      <td>0.000000</td>\n",
       "      <td>-1203.369529</td>\n",
       "      <td>42.000000</td>\n",
       "      <td>NaN</td>\n",
       "      <td>NaN</td>\n",
       "      <td>NaN</td>\n",
       "      <td>0.000000</td>\n",
       "      <td>NaN</td>\n",
       "      <td>NaN</td>\n",
       "      <td>0.000000</td>\n",
       "      <td>23202.870000</td>\n",
       "      <td>NaN</td>\n",
       "    </tr>\n",
       "    <tr>\n",
       "      <th>75%</th>\n",
       "      <td>1.000000</td>\n",
       "      <td>-291.095954</td>\n",
       "      <td>53.000000</td>\n",
       "      <td>NaN</td>\n",
       "      <td>NaN</td>\n",
       "      <td>NaN</td>\n",
       "      <td>1.000000</td>\n",
       "      <td>NaN</td>\n",
       "      <td>NaN</td>\n",
       "      <td>0.000000</td>\n",
       "      <td>32549.611000</td>\n",
       "      <td>NaN</td>\n",
       "    </tr>\n",
       "    <tr>\n",
       "      <th>max</th>\n",
       "      <td>20.000000</td>\n",
       "      <td>401755.400475</td>\n",
       "      <td>75.000000</td>\n",
       "      <td>NaN</td>\n",
       "      <td>NaN</td>\n",
       "      <td>NaN</td>\n",
       "      <td>4.000000</td>\n",
       "      <td>NaN</td>\n",
       "      <td>NaN</td>\n",
       "      <td>1.000000</td>\n",
       "      <td>362496.645000</td>\n",
       "      <td>NaN</td>\n",
       "    </tr>\n",
       "  </tbody>\n",
       "</table>\n",
       "</div>"
      ],
      "text/plain": [
       "            children  days_employed     dob_years            education  \\\n",
       "count   21525.000000   19351.000000  21525.000000                21525   \n",
       "unique           NaN            NaN           NaN                   15   \n",
       "top              NaN            NaN           NaN  secondary education   \n",
       "freq             NaN            NaN           NaN                13750   \n",
       "mean        0.538908   63046.497661     43.293380                  NaN   \n",
       "std         1.381587  140827.311974     12.574584                  NaN   \n",
       "min        -1.000000  -18388.949901      0.000000                  NaN   \n",
       "25%         0.000000   -2747.423625     33.000000                  NaN   \n",
       "50%         0.000000   -1203.369529     42.000000                  NaN   \n",
       "75%         1.000000    -291.095954     53.000000                  NaN   \n",
       "max        20.000000  401755.400475     75.000000                  NaN   \n",
       "\n",
       "        education_id family_status  family_status_id gender income_type  \\\n",
       "count        21525.0         21525      21525.000000  21525       21525   \n",
       "unique           5.0             5               NaN      3           8   \n",
       "top              1.0       married               NaN      F    employee   \n",
       "freq         15233.0         12380               NaN  14236       11119   \n",
       "mean             NaN           NaN          0.972544    NaN         NaN   \n",
       "std              NaN           NaN          1.420324    NaN         NaN   \n",
       "min              NaN           NaN          0.000000    NaN         NaN   \n",
       "25%              NaN           NaN          0.000000    NaN         NaN   \n",
       "50%              NaN           NaN          0.000000    NaN         NaN   \n",
       "75%              NaN           NaN          1.000000    NaN         NaN   \n",
       "max              NaN           NaN          4.000000    NaN         NaN   \n",
       "\n",
       "                debt   total_income           purpose  \n",
       "count   21525.000000   19351.000000             21525  \n",
       "unique           NaN            NaN                38  \n",
       "top              NaN            NaN  wedding ceremony  \n",
       "freq             NaN            NaN               797  \n",
       "mean        0.080883   26787.568355               NaN  \n",
       "std         0.272661   16475.450632               NaN  \n",
       "min         0.000000    3306.762000               NaN  \n",
       "25%         0.000000   16488.504500               NaN  \n",
       "50%         0.000000   23202.870000               NaN  \n",
       "75%         0.000000   32549.611000               NaN  \n",
       "max         1.000000  362496.645000               NaN  "
      ]
     },
     "execution_count": 12,
     "metadata": {},
     "output_type": "execute_result"
    }
   ],
   "source": [
    "# Checking distribution of table with null values (as done above; redoing here for side-by-side comparison purposes.)\n",
    "credit_score.describe(include='all')"
   ]
  },
  {
   "cell_type": "markdown",
   "metadata": {},
   "source": [
    "**Possible reasons for missing values in data**\n",
    "\n",
    "- Although, 50% of clients with entrepreneur values have missing data in the fields in question, this is insignificant as only 2 clients are entrepreneurs (to be addressed later).  \n",
    "\n",
    "- It is unclear why certan values in the days_employed and total_income fields are missing. Removing them does not significantly alter the distribution and they do not seem to be related to any other client characteristic. Likely the clients were either unemployed at the time they were entered into the database or at the time of the export, depending on protocol for the frequency at which the database is updated.\n",
    "\n",
    "\n",
    "**Considerations for addressing missing columns**\n",
    "\n",
    "- Since the total_income is integral to the analysis, I will fill them in after I address duplicates; although the distributions of the dataset with and dataset without null values are very similar, the larger the dataset the better. However, the overall findings should not be affected one way or another. \n",
    "- Since the days_employed column is not necessary to answer the proposed questions, I am inclined to not fill in the missing values, unless there is a clear way to do so. Otherise, I am inclined to delete the column altogether as null values may affect locating duplicates (as possibly all other data in the same row is identical, but won't seem to be because of duplicates).\n",
    "\n",
    "**<u>Next Steps</u>:**\n",
    "1. Uncover incorrect and duplicate data."
   ]
  },
  {
   "cell_type": "markdown",
   "metadata": {},
   "source": [
    "### Incorrect data\n",
    "\n",
    "**Education field**"
   ]
  },
  {
   "cell_type": "code",
   "execution_count": 13,
   "metadata": {
    "scrolled": true
   },
   "outputs": [
    {
     "data": {
      "text/plain": [
       "secondary education    13750\n",
       "bachelor's degree       4718\n",
       "SECONDARY EDUCATION      772\n",
       "Secondary Education      711\n",
       "some college             668\n",
       "BACHELOR'S DEGREE        274\n",
       "Bachelor's Degree        268\n",
       "primary education        250\n",
       "Some College              47\n",
       "SOME COLLEGE              29\n",
       "PRIMARY EDUCATION         17\n",
       "Primary Education         15\n",
       "graduate degree            4\n",
       "Graduate Degree            1\n",
       "GRADUATE DEGREE            1\n",
       "Name: education, dtype: int64"
      ]
     },
     "execution_count": 13,
     "metadata": {},
     "output_type": "execute_result"
    }
   ],
   "source": [
    "# Values in education column to check if and what spellings will need to be fixed\n",
    "credit_score['education'].value_counts()"
   ]
  },
  {
   "cell_type": "code",
   "execution_count": 14,
   "metadata": {},
   "outputs": [
    {
     "data": {
      "text/html": [
       "<div>\n",
       "<style scoped>\n",
       "    .dataframe tbody tr th:only-of-type {\n",
       "        vertical-align: middle;\n",
       "    }\n",
       "\n",
       "    .dataframe tbody tr th {\n",
       "        vertical-align: top;\n",
       "    }\n",
       "\n",
       "    .dataframe thead th {\n",
       "        text-align: right;\n",
       "    }\n",
       "</style>\n",
       "<table border=\"1\" class=\"dataframe\">\n",
       "  <thead>\n",
       "    <tr style=\"text-align: right;\">\n",
       "      <th></th>\n",
       "      <th></th>\n",
       "      <th>children</th>\n",
       "    </tr>\n",
       "    <tr>\n",
       "      <th>education_id</th>\n",
       "      <th>education</th>\n",
       "      <th></th>\n",
       "    </tr>\n",
       "  </thead>\n",
       "  <tbody>\n",
       "    <tr>\n",
       "      <th rowspan=\"3\" valign=\"top\">0</th>\n",
       "      <th>BACHELOR'S DEGREE</th>\n",
       "      <td>274</td>\n",
       "    </tr>\n",
       "    <tr>\n",
       "      <th>Bachelor's Degree</th>\n",
       "      <td>268</td>\n",
       "    </tr>\n",
       "    <tr>\n",
       "      <th>bachelor's degree</th>\n",
       "      <td>4718</td>\n",
       "    </tr>\n",
       "    <tr>\n",
       "      <th rowspan=\"3\" valign=\"top\">1</th>\n",
       "      <th>SECONDARY EDUCATION</th>\n",
       "      <td>772</td>\n",
       "    </tr>\n",
       "    <tr>\n",
       "      <th>Secondary Education</th>\n",
       "      <td>711</td>\n",
       "    </tr>\n",
       "    <tr>\n",
       "      <th>secondary education</th>\n",
       "      <td>13750</td>\n",
       "    </tr>\n",
       "    <tr>\n",
       "      <th rowspan=\"3\" valign=\"top\">2</th>\n",
       "      <th>SOME COLLEGE</th>\n",
       "      <td>29</td>\n",
       "    </tr>\n",
       "    <tr>\n",
       "      <th>Some College</th>\n",
       "      <td>47</td>\n",
       "    </tr>\n",
       "    <tr>\n",
       "      <th>some college</th>\n",
       "      <td>668</td>\n",
       "    </tr>\n",
       "    <tr>\n",
       "      <th rowspan=\"3\" valign=\"top\">3</th>\n",
       "      <th>PRIMARY EDUCATION</th>\n",
       "      <td>17</td>\n",
       "    </tr>\n",
       "    <tr>\n",
       "      <th>Primary Education</th>\n",
       "      <td>15</td>\n",
       "    </tr>\n",
       "    <tr>\n",
       "      <th>primary education</th>\n",
       "      <td>250</td>\n",
       "    </tr>\n",
       "    <tr>\n",
       "      <th rowspan=\"3\" valign=\"top\">4</th>\n",
       "      <th>GRADUATE DEGREE</th>\n",
       "      <td>1</td>\n",
       "    </tr>\n",
       "    <tr>\n",
       "      <th>Graduate Degree</th>\n",
       "      <td>1</td>\n",
       "    </tr>\n",
       "    <tr>\n",
       "      <th>graduate degree</th>\n",
       "      <td>4</td>\n",
       "    </tr>\n",
       "  </tbody>\n",
       "</table>\n",
       "</div>"
      ],
      "text/plain": [
       "                                  children\n",
       "education_id education                    \n",
       "0            BACHELOR'S DEGREE         274\n",
       "             Bachelor's Degree         268\n",
       "             bachelor's degree        4718\n",
       "1            SECONDARY EDUCATION       772\n",
       "             Secondary Education       711\n",
       "             secondary education     13750\n",
       "2            SOME COLLEGE               29\n",
       "             Some College               47\n",
       "             some college              668\n",
       "3            PRIMARY EDUCATION          17\n",
       "             Primary Education          15\n",
       "             primary education         250\n",
       "4            GRADUATE DEGREE             1\n",
       "             Graduate Degree             1\n",
       "             graduate degree             4"
      ]
     },
     "execution_count": 14,
     "metadata": {},
     "output_type": "execute_result"
    }
   ],
   "source": [
    "# Check that duplicates all match to the correct education_id\n",
    "credit_score.pivot_table(index=['education_id','education'],values='children', aggfunc='count')"
   ]
  },
  {
   "cell_type": "markdown",
   "metadata": {},
   "source": [
    "- Each education_id has 3 format options for the corresponding category.\n",
    "- The numbering in the education_id column is not intuitive; the lower the education level, the lower the id should be, but it's mixed up.\n",
    "\n",
    "**<u>Next Steps</u>:**\n",
    "1. Make all values for the education field lowercase.\n",
    "2. Make the education_id and corresponding education values more intuitively related."
   ]
  },
  {
   "cell_type": "code",
   "execution_count": 15,
   "metadata": {},
   "outputs": [
    {
     "data": {
      "text/plain": [
       "secondary education    15233\n",
       "bachelor's degree       5260\n",
       "some college             744\n",
       "primary education        282\n",
       "graduate degree            6\n",
       "Name: education, dtype: int64"
      ]
     },
     "execution_count": 15,
     "metadata": {},
     "output_type": "execute_result"
    }
   ],
   "source": [
    "#Covert all values to lower case \n",
    "credit_score['education'] = credit_score['education'].str.lower()\n",
    "credit_score['education'].value_counts()"
   ]
  },
  {
   "cell_type": "code",
   "execution_count": 16,
   "metadata": {},
   "outputs": [
    {
     "data": {
      "text/html": [
       "<div>\n",
       "<style scoped>\n",
       "    .dataframe tbody tr th:only-of-type {\n",
       "        vertical-align: middle;\n",
       "    }\n",
       "\n",
       "    .dataframe tbody tr th {\n",
       "        vertical-align: top;\n",
       "    }\n",
       "\n",
       "    .dataframe thead th {\n",
       "        text-align: right;\n",
       "    }\n",
       "</style>\n",
       "<table border=\"1\" class=\"dataframe\">\n",
       "  <thead>\n",
       "    <tr style=\"text-align: right;\">\n",
       "      <th></th>\n",
       "      <th></th>\n",
       "      <th>children</th>\n",
       "    </tr>\n",
       "    <tr>\n",
       "      <th>education_id</th>\n",
       "      <th>education</th>\n",
       "      <th></th>\n",
       "    </tr>\n",
       "  </thead>\n",
       "  <tbody>\n",
       "    <tr>\n",
       "      <th>1</th>\n",
       "      <th>primary education</th>\n",
       "      <td>282</td>\n",
       "    </tr>\n",
       "    <tr>\n",
       "      <th>2</th>\n",
       "      <th>secondary education</th>\n",
       "      <td>15233</td>\n",
       "    </tr>\n",
       "    <tr>\n",
       "      <th>3</th>\n",
       "      <th>some college</th>\n",
       "      <td>744</td>\n",
       "    </tr>\n",
       "    <tr>\n",
       "      <th>4</th>\n",
       "      <th>bachelor's degree</th>\n",
       "      <td>5260</td>\n",
       "    </tr>\n",
       "    <tr>\n",
       "      <th>5</th>\n",
       "      <th>graduate degree</th>\n",
       "      <td>6</td>\n",
       "    </tr>\n",
       "  </tbody>\n",
       "</table>\n",
       "</div>"
      ],
      "text/plain": [
       "                                  children\n",
       "education_id education                    \n",
       "1            primary education         282\n",
       "2            secondary education     15233\n",
       "3            some college              744\n",
       "4            bachelor's degree        5260\n",
       "5            graduate degree             6"
      ]
     },
     "execution_count": 16,
     "metadata": {},
     "output_type": "execute_result"
    }
   ],
   "source": [
    "# Use a dictionary to convert the values in education_id so that they are more intuitive.\n",
    "education_dict = {3:1, 1:2, 2:3,0:4,4:5}\n",
    "credit_score=credit_score.replace({\"education_id\": education_dict})\n",
    "credit_score.pivot_table(index=['education_id','education'],values='children', aggfunc='count')"
   ]
  },
  {
   "cell_type": "markdown",
   "metadata": {},
   "source": [
    "**Children field**"
   ]
  },
  {
   "cell_type": "code",
   "execution_count": 17,
   "metadata": {
    "scrolled": true
   },
   "outputs": [
    {
     "data": {
      "text/plain": [
       " 0     14149\n",
       " 1      4818\n",
       " 2      2055\n",
       " 3       330\n",
       " 20       76\n",
       "-1        47\n",
       " 4        41\n",
       " 5         9\n",
       "Name: children, dtype: int64"
      ]
     },
     "execution_count": 17,
     "metadata": {},
     "output_type": "execute_result"
    }
   ],
   "source": [
    "# The distribution of values in the `children` column\n",
    "credit_score['children'].value_counts()"
   ]
  },
  {
   "cell_type": "code",
   "execution_count": 18,
   "metadata": {
    "scrolled": true
   },
   "outputs": [
    {
     "data": {
      "text/html": [
       "<div>\n",
       "<style scoped>\n",
       "    .dataframe tbody tr th:only-of-type {\n",
       "        vertical-align: middle;\n",
       "    }\n",
       "\n",
       "    .dataframe tbody tr th {\n",
       "        vertical-align: top;\n",
       "    }\n",
       "\n",
       "    .dataframe thead th {\n",
       "        text-align: right;\n",
       "    }\n",
       "</style>\n",
       "<table border=\"1\" class=\"dataframe\">\n",
       "  <thead>\n",
       "    <tr style=\"text-align: right;\">\n",
       "      <th></th>\n",
       "      <th>children</th>\n",
       "      <th>days_employed</th>\n",
       "      <th>dob_years</th>\n",
       "      <th>education</th>\n",
       "      <th>education_id</th>\n",
       "      <th>family_status</th>\n",
       "      <th>family_status_id</th>\n",
       "      <th>gender</th>\n",
       "      <th>income_type</th>\n",
       "      <th>debt</th>\n",
       "      <th>total_income</th>\n",
       "      <th>purpose</th>\n",
       "    </tr>\n",
       "  </thead>\n",
       "  <tbody>\n",
       "    <tr>\n",
       "      <th>606</th>\n",
       "      <td>20</td>\n",
       "      <td>-880.221113</td>\n",
       "      <td>21</td>\n",
       "      <td>secondary education</td>\n",
       "      <td>2</td>\n",
       "      <td>married</td>\n",
       "      <td>0</td>\n",
       "      <td>M</td>\n",
       "      <td>business</td>\n",
       "      <td>0</td>\n",
       "      <td>23253.578</td>\n",
       "      <td>purchase of the house</td>\n",
       "    </tr>\n",
       "    <tr>\n",
       "      <th>720</th>\n",
       "      <td>20</td>\n",
       "      <td>-855.595512</td>\n",
       "      <td>44</td>\n",
       "      <td>secondary education</td>\n",
       "      <td>2</td>\n",
       "      <td>married</td>\n",
       "      <td>0</td>\n",
       "      <td>F</td>\n",
       "      <td>business</td>\n",
       "      <td>0</td>\n",
       "      <td>18079.798</td>\n",
       "      <td>buy real estate</td>\n",
       "    </tr>\n",
       "    <tr>\n",
       "      <th>1074</th>\n",
       "      <td>20</td>\n",
       "      <td>-3310.411598</td>\n",
       "      <td>56</td>\n",
       "      <td>secondary education</td>\n",
       "      <td>2</td>\n",
       "      <td>married</td>\n",
       "      <td>0</td>\n",
       "      <td>F</td>\n",
       "      <td>employee</td>\n",
       "      <td>1</td>\n",
       "      <td>36722.966</td>\n",
       "      <td>getting an education</td>\n",
       "    </tr>\n",
       "    <tr>\n",
       "      <th>2510</th>\n",
       "      <td>20</td>\n",
       "      <td>-2714.161249</td>\n",
       "      <td>59</td>\n",
       "      <td>bachelor's degree</td>\n",
       "      <td>4</td>\n",
       "      <td>widow / widower</td>\n",
       "      <td>2</td>\n",
       "      <td>F</td>\n",
       "      <td>employee</td>\n",
       "      <td>0</td>\n",
       "      <td>42315.974</td>\n",
       "      <td>transactions with commercial real estate</td>\n",
       "    </tr>\n",
       "    <tr>\n",
       "      <th>2941</th>\n",
       "      <td>20</td>\n",
       "      <td>-2161.591519</td>\n",
       "      <td>0</td>\n",
       "      <td>secondary education</td>\n",
       "      <td>2</td>\n",
       "      <td>married</td>\n",
       "      <td>0</td>\n",
       "      <td>F</td>\n",
       "      <td>employee</td>\n",
       "      <td>0</td>\n",
       "      <td>31958.391</td>\n",
       "      <td>to buy a car</td>\n",
       "    </tr>\n",
       "    <tr>\n",
       "      <th>3302</th>\n",
       "      <td>20</td>\n",
       "      <td>NaN</td>\n",
       "      <td>35</td>\n",
       "      <td>secondary education</td>\n",
       "      <td>2</td>\n",
       "      <td>unmarried</td>\n",
       "      <td>4</td>\n",
       "      <td>F</td>\n",
       "      <td>civil servant</td>\n",
       "      <td>0</td>\n",
       "      <td>NaN</td>\n",
       "      <td>profile education</td>\n",
       "    </tr>\n",
       "    <tr>\n",
       "      <th>3396</th>\n",
       "      <td>20</td>\n",
       "      <td>NaN</td>\n",
       "      <td>56</td>\n",
       "      <td>bachelor's degree</td>\n",
       "      <td>4</td>\n",
       "      <td>married</td>\n",
       "      <td>0</td>\n",
       "      <td>F</td>\n",
       "      <td>business</td>\n",
       "      <td>0</td>\n",
       "      <td>NaN</td>\n",
       "      <td>university education</td>\n",
       "    </tr>\n",
       "    <tr>\n",
       "      <th>3671</th>\n",
       "      <td>20</td>\n",
       "      <td>-913.161503</td>\n",
       "      <td>23</td>\n",
       "      <td>secondary education</td>\n",
       "      <td>2</td>\n",
       "      <td>unmarried</td>\n",
       "      <td>4</td>\n",
       "      <td>F</td>\n",
       "      <td>employee</td>\n",
       "      <td>0</td>\n",
       "      <td>16200.879</td>\n",
       "      <td>buying a second-hand car</td>\n",
       "    </tr>\n",
       "    <tr>\n",
       "      <th>3697</th>\n",
       "      <td>20</td>\n",
       "      <td>-2907.910616</td>\n",
       "      <td>40</td>\n",
       "      <td>secondary education</td>\n",
       "      <td>2</td>\n",
       "      <td>civil partnership</td>\n",
       "      <td>1</td>\n",
       "      <td>M</td>\n",
       "      <td>employee</td>\n",
       "      <td>0</td>\n",
       "      <td>18460.911</td>\n",
       "      <td>buying a second-hand car</td>\n",
       "    </tr>\n",
       "    <tr>\n",
       "      <th>3735</th>\n",
       "      <td>20</td>\n",
       "      <td>-805.044438</td>\n",
       "      <td>26</td>\n",
       "      <td>bachelor's degree</td>\n",
       "      <td>4</td>\n",
       "      <td>unmarried</td>\n",
       "      <td>4</td>\n",
       "      <td>M</td>\n",
       "      <td>employee</td>\n",
       "      <td>0</td>\n",
       "      <td>21952.103</td>\n",
       "      <td>housing renovation</td>\n",
       "    </tr>\n",
       "  </tbody>\n",
       "</table>\n",
       "</div>"
      ],
      "text/plain": [
       "      children  days_employed  dob_years            education  education_id  \\\n",
       "606         20    -880.221113         21  secondary education             2   \n",
       "720         20    -855.595512         44  secondary education             2   \n",
       "1074        20   -3310.411598         56  secondary education             2   \n",
       "2510        20   -2714.161249         59    bachelor's degree             4   \n",
       "2941        20   -2161.591519          0  secondary education             2   \n",
       "3302        20            NaN         35  secondary education             2   \n",
       "3396        20            NaN         56    bachelor's degree             4   \n",
       "3671        20    -913.161503         23  secondary education             2   \n",
       "3697        20   -2907.910616         40  secondary education             2   \n",
       "3735        20    -805.044438         26    bachelor's degree             4   \n",
       "\n",
       "          family_status  family_status_id gender    income_type  debt  \\\n",
       "606             married                 0      M       business     0   \n",
       "720             married                 0      F       business     0   \n",
       "1074            married                 0      F       employee     1   \n",
       "2510    widow / widower                 2      F       employee     0   \n",
       "2941            married                 0      F       employee     0   \n",
       "3302          unmarried                 4      F  civil servant     0   \n",
       "3396            married                 0      F       business     0   \n",
       "3671          unmarried                 4      F       employee     0   \n",
       "3697  civil partnership                 1      M       employee     0   \n",
       "3735          unmarried                 4      M       employee     0   \n",
       "\n",
       "      total_income                                   purpose  \n",
       "606      23253.578                     purchase of the house  \n",
       "720      18079.798                           buy real estate  \n",
       "1074     36722.966                      getting an education  \n",
       "2510     42315.974  transactions with commercial real estate  \n",
       "2941     31958.391                              to buy a car  \n",
       "3302           NaN                         profile education  \n",
       "3396           NaN                      university education  \n",
       "3671     16200.879                  buying a second-hand car  \n",
       "3697     18460.911                  buying a second-hand car  \n",
       "3735     21952.103                        housing renovation  "
      ]
     },
     "execution_count": 18,
     "metadata": {},
     "output_type": "execute_result"
    }
   ],
   "source": [
    "#Investigate rows with 20 children.\n",
    "credit_score[credit_score['children']==20].head(10)"
   ]
  },
  {
   "cell_type": "code",
   "execution_count": 19,
   "metadata": {},
   "outputs": [
    {
     "data": {
      "text/html": [
       "<div>\n",
       "<style scoped>\n",
       "    .dataframe tbody tr th:only-of-type {\n",
       "        vertical-align: middle;\n",
       "    }\n",
       "\n",
       "    .dataframe tbody tr th {\n",
       "        vertical-align: top;\n",
       "    }\n",
       "\n",
       "    .dataframe thead th {\n",
       "        text-align: right;\n",
       "    }\n",
       "</style>\n",
       "<table border=\"1\" class=\"dataframe\">\n",
       "  <thead>\n",
       "    <tr style=\"text-align: right;\">\n",
       "      <th></th>\n",
       "      <th>children</th>\n",
       "      <th>days_employed</th>\n",
       "      <th>dob_years</th>\n",
       "      <th>education</th>\n",
       "      <th>education_id</th>\n",
       "      <th>family_status</th>\n",
       "      <th>family_status_id</th>\n",
       "      <th>gender</th>\n",
       "      <th>income_type</th>\n",
       "      <th>debt</th>\n",
       "      <th>total_income</th>\n",
       "      <th>purpose</th>\n",
       "    </tr>\n",
       "  </thead>\n",
       "  <tbody>\n",
       "    <tr>\n",
       "      <th>291</th>\n",
       "      <td>-1</td>\n",
       "      <td>-4417.703588</td>\n",
       "      <td>46</td>\n",
       "      <td>secondary education</td>\n",
       "      <td>2</td>\n",
       "      <td>civil partnership</td>\n",
       "      <td>1</td>\n",
       "      <td>F</td>\n",
       "      <td>employee</td>\n",
       "      <td>0</td>\n",
       "      <td>16450.615</td>\n",
       "      <td>profile education</td>\n",
       "    </tr>\n",
       "    <tr>\n",
       "      <th>705</th>\n",
       "      <td>-1</td>\n",
       "      <td>-902.084528</td>\n",
       "      <td>50</td>\n",
       "      <td>secondary education</td>\n",
       "      <td>2</td>\n",
       "      <td>married</td>\n",
       "      <td>0</td>\n",
       "      <td>F</td>\n",
       "      <td>civil servant</td>\n",
       "      <td>0</td>\n",
       "      <td>22061.264</td>\n",
       "      <td>car purchase</td>\n",
       "    </tr>\n",
       "    <tr>\n",
       "      <th>742</th>\n",
       "      <td>-1</td>\n",
       "      <td>-3174.456205</td>\n",
       "      <td>57</td>\n",
       "      <td>secondary education</td>\n",
       "      <td>2</td>\n",
       "      <td>married</td>\n",
       "      <td>0</td>\n",
       "      <td>F</td>\n",
       "      <td>employee</td>\n",
       "      <td>0</td>\n",
       "      <td>10282.887</td>\n",
       "      <td>supplementary education</td>\n",
       "    </tr>\n",
       "    <tr>\n",
       "      <th>800</th>\n",
       "      <td>-1</td>\n",
       "      <td>349987.852217</td>\n",
       "      <td>54</td>\n",
       "      <td>secondary education</td>\n",
       "      <td>2</td>\n",
       "      <td>unmarried</td>\n",
       "      <td>4</td>\n",
       "      <td>F</td>\n",
       "      <td>retiree</td>\n",
       "      <td>0</td>\n",
       "      <td>13806.996</td>\n",
       "      <td>supplementary education</td>\n",
       "    </tr>\n",
       "    <tr>\n",
       "      <th>941</th>\n",
       "      <td>-1</td>\n",
       "      <td>NaN</td>\n",
       "      <td>57</td>\n",
       "      <td>secondary education</td>\n",
       "      <td>2</td>\n",
       "      <td>married</td>\n",
       "      <td>0</td>\n",
       "      <td>F</td>\n",
       "      <td>retiree</td>\n",
       "      <td>0</td>\n",
       "      <td>NaN</td>\n",
       "      <td>buying my own car</td>\n",
       "    </tr>\n",
       "    <tr>\n",
       "      <th>1363</th>\n",
       "      <td>-1</td>\n",
       "      <td>-1195.264956</td>\n",
       "      <td>55</td>\n",
       "      <td>secondary education</td>\n",
       "      <td>2</td>\n",
       "      <td>married</td>\n",
       "      <td>0</td>\n",
       "      <td>F</td>\n",
       "      <td>business</td>\n",
       "      <td>0</td>\n",
       "      <td>11128.112</td>\n",
       "      <td>profile education</td>\n",
       "    </tr>\n",
       "    <tr>\n",
       "      <th>1929</th>\n",
       "      <td>-1</td>\n",
       "      <td>-1461.303336</td>\n",
       "      <td>38</td>\n",
       "      <td>secondary education</td>\n",
       "      <td>2</td>\n",
       "      <td>unmarried</td>\n",
       "      <td>4</td>\n",
       "      <td>M</td>\n",
       "      <td>employee</td>\n",
       "      <td>0</td>\n",
       "      <td>17459.451</td>\n",
       "      <td>purchase of the house</td>\n",
       "    </tr>\n",
       "    <tr>\n",
       "      <th>2073</th>\n",
       "      <td>-1</td>\n",
       "      <td>-2539.761232</td>\n",
       "      <td>42</td>\n",
       "      <td>secondary education</td>\n",
       "      <td>2</td>\n",
       "      <td>divorced</td>\n",
       "      <td>3</td>\n",
       "      <td>F</td>\n",
       "      <td>business</td>\n",
       "      <td>0</td>\n",
       "      <td>26022.177</td>\n",
       "      <td>purchase of the house</td>\n",
       "    </tr>\n",
       "    <tr>\n",
       "      <th>3814</th>\n",
       "      <td>-1</td>\n",
       "      <td>-3045.290443</td>\n",
       "      <td>26</td>\n",
       "      <td>secondary education</td>\n",
       "      <td>2</td>\n",
       "      <td>civil partnership</td>\n",
       "      <td>1</td>\n",
       "      <td>F</td>\n",
       "      <td>civil servant</td>\n",
       "      <td>0</td>\n",
       "      <td>21102.846</td>\n",
       "      <td>having a wedding</td>\n",
       "    </tr>\n",
       "    <tr>\n",
       "      <th>4201</th>\n",
       "      <td>-1</td>\n",
       "      <td>-901.101738</td>\n",
       "      <td>41</td>\n",
       "      <td>secondary education</td>\n",
       "      <td>2</td>\n",
       "      <td>married</td>\n",
       "      <td>0</td>\n",
       "      <td>F</td>\n",
       "      <td>civil servant</td>\n",
       "      <td>0</td>\n",
       "      <td>36220.123</td>\n",
       "      <td>transactions with my real estate</td>\n",
       "    </tr>\n",
       "  </tbody>\n",
       "</table>\n",
       "</div>"
      ],
      "text/plain": [
       "      children  days_employed  dob_years            education  education_id  \\\n",
       "291         -1   -4417.703588         46  secondary education             2   \n",
       "705         -1    -902.084528         50  secondary education             2   \n",
       "742         -1   -3174.456205         57  secondary education             2   \n",
       "800         -1  349987.852217         54  secondary education             2   \n",
       "941         -1            NaN         57  secondary education             2   \n",
       "1363        -1   -1195.264956         55  secondary education             2   \n",
       "1929        -1   -1461.303336         38  secondary education             2   \n",
       "2073        -1   -2539.761232         42  secondary education             2   \n",
       "3814        -1   -3045.290443         26  secondary education             2   \n",
       "4201        -1    -901.101738         41  secondary education             2   \n",
       "\n",
       "          family_status  family_status_id gender    income_type  debt  \\\n",
       "291   civil partnership                 1      F       employee     0   \n",
       "705             married                 0      F  civil servant     0   \n",
       "742             married                 0      F       employee     0   \n",
       "800           unmarried                 4      F        retiree     0   \n",
       "941             married                 0      F        retiree     0   \n",
       "1363            married                 0      F       business     0   \n",
       "1929          unmarried                 4      M       employee     0   \n",
       "2073           divorced                 3      F       business     0   \n",
       "3814  civil partnership                 1      F  civil servant     0   \n",
       "4201            married                 0      F  civil servant     0   \n",
       "\n",
       "      total_income                           purpose  \n",
       "291      16450.615                 profile education  \n",
       "705      22061.264                      car purchase  \n",
       "742      10282.887           supplementary education  \n",
       "800      13806.996           supplementary education  \n",
       "941            NaN                 buying my own car  \n",
       "1363     11128.112                 profile education  \n",
       "1929     17459.451             purchase of the house  \n",
       "2073     26022.177             purchase of the house  \n",
       "3814     21102.846                  having a wedding  \n",
       "4201     36220.123  transactions with my real estate  "
      ]
     },
     "execution_count": 19,
     "metadata": {},
     "output_type": "execute_result"
    }
   ],
   "source": [
    "#Investigate rows with 20 children.\n",
    "credit_score[credit_score['children']==-1].head(10)"
   ]
  },
  {
   "cell_type": "markdown",
   "metadata": {},
   "source": [
    "There are 47 entries with negative children, which is impossible and 76 with 20 children, which is unlikely (and viewing the rows in which this phenomenon occurred, did not reveal any reason this could be). There is a chance that -1 is 1 child and 20 is 2 children, but \n",
    "1. It would be odd to consistently make the negative error on 1 and never on 2+ children and the tens error on 2 and not any other number of children, and \n",
    "2. These rows represent a small fractin of the data.\n",
    "\n",
    "Since: $$\\frac{123}{21525}<1\\% $$  and the children column is integral to the analysis, these rows can  be deleted without having an affect on the outcomes of the overall analysis. "
   ]
  },
  {
   "cell_type": "code",
   "execution_count": 20,
   "metadata": {},
   "outputs": [
    {
     "data": {
      "text/plain": [
       "0    14149\n",
       "1     4818\n",
       "2     2055\n",
       "3      330\n",
       "4       41\n",
       "5        9\n",
       "Name: children, dtype: int64"
      ]
     },
     "execution_count": 20,
     "metadata": {},
     "output_type": "execute_result"
    }
   ],
   "source": [
    "# delete the problematic rows\n",
    "credit_score = credit_score[credit_score['children'] != -1]\n",
    "credit_score = credit_score[credit_score['children'] != 20]\n",
    "\n",
    "# Checking the `children` column again to make sure it's all fixed\n",
    "credit_score['children'].value_counts()"
   ]
  },
  {
   "cell_type": "markdown",
   "metadata": {},
   "source": [
    "**Days_employed field**"
   ]
  },
  {
   "cell_type": "code",
   "execution_count": 21,
   "metadata": {},
   "outputs": [
    {
     "name": "stdout",
     "output_type": "stream",
     "text": [
      "Number of clients who seemingly started working before age 16: 3431\n",
      "Number of clients who seemingly worked negative days: 15809\n",
      "Percent of combined errors: 90%\n"
     ]
    }
   ],
   "source": [
    "#Number of clients for who started working prior to age 16, which is illegal and could indicate innacuracies.\n",
    "print(\"Number of clients who seemingly started working before age 16:\",credit_score['days_employed'][credit_score['days_employed']> credit_score['dob_years']-16].count())\n",
    "\n",
    "#Number of clients who worked less than 0 days\n",
    "print(\"Number of clients who seemingly worked negative days:\",credit_score['days_employed'][credit_score['days_employed']<0].count())\n",
    "\n",
    "#percent of errored data for days_employed column\n",
    "print (\"Percent of combined errors:\",'{:.0%}'.format((credit_score['days_employed'][credit_score['days_employed']> credit_score['dob_years']-21].count()\n",
    "       +\n",
    "       credit_score['days_employed'][credit_score['days_employed']<0].count())/credit_score.shape[0] ))"
   ]
  },
  {
   "cell_type": "markdown",
   "metadata": {},
   "source": [
    "**<u>Next Steps</u>:**\n",
    "1. Check the values for retirees in days_employed to see if there is an easy fix. (In theory, they should all be 0.)"
   ]
  },
  {
   "cell_type": "code",
   "execution_count": 22,
   "metadata": {},
   "outputs": [
    {
     "data": {
      "text/html": [
       "<div>\n",
       "<style scoped>\n",
       "    .dataframe tbody tr th:only-of-type {\n",
       "        vertical-align: middle;\n",
       "    }\n",
       "\n",
       "    .dataframe tbody tr th {\n",
       "        vertical-align: top;\n",
       "    }\n",
       "\n",
       "    .dataframe thead th {\n",
       "        text-align: right;\n",
       "    }\n",
       "</style>\n",
       "<table border=\"1\" class=\"dataframe\">\n",
       "  <thead>\n",
       "    <tr style=\"text-align: right;\">\n",
       "      <th></th>\n",
       "      <th>children</th>\n",
       "      <th>days_employed</th>\n",
       "      <th>dob_years</th>\n",
       "      <th>education</th>\n",
       "      <th>education_id</th>\n",
       "      <th>family_status</th>\n",
       "      <th>family_status_id</th>\n",
       "      <th>gender</th>\n",
       "      <th>income_type</th>\n",
       "      <th>debt</th>\n",
       "      <th>total_income</th>\n",
       "      <th>purpose</th>\n",
       "    </tr>\n",
       "  </thead>\n",
       "  <tbody>\n",
       "    <tr>\n",
       "      <th>4</th>\n",
       "      <td>0</td>\n",
       "      <td>340266.072047</td>\n",
       "      <td>53</td>\n",
       "      <td>secondary education</td>\n",
       "      <td>2</td>\n",
       "      <td>civil partnership</td>\n",
       "      <td>1</td>\n",
       "      <td>F</td>\n",
       "      <td>retiree</td>\n",
       "      <td>0</td>\n",
       "      <td>25378.572</td>\n",
       "      <td>to have a wedding</td>\n",
       "    </tr>\n",
       "    <tr>\n",
       "      <th>12</th>\n",
       "      <td>0</td>\n",
       "      <td>NaN</td>\n",
       "      <td>65</td>\n",
       "      <td>secondary education</td>\n",
       "      <td>2</td>\n",
       "      <td>civil partnership</td>\n",
       "      <td>1</td>\n",
       "      <td>M</td>\n",
       "      <td>retiree</td>\n",
       "      <td>0</td>\n",
       "      <td>NaN</td>\n",
       "      <td>to have a wedding</td>\n",
       "    </tr>\n",
       "    <tr>\n",
       "      <th>18</th>\n",
       "      <td>0</td>\n",
       "      <td>400281.136913</td>\n",
       "      <td>53</td>\n",
       "      <td>secondary education</td>\n",
       "      <td>2</td>\n",
       "      <td>widow / widower</td>\n",
       "      <td>2</td>\n",
       "      <td>F</td>\n",
       "      <td>retiree</td>\n",
       "      <td>0</td>\n",
       "      <td>9091.804</td>\n",
       "      <td>buying a second-hand car</td>\n",
       "    </tr>\n",
       "    <tr>\n",
       "      <th>24</th>\n",
       "      <td>1</td>\n",
       "      <td>338551.952911</td>\n",
       "      <td>57</td>\n",
       "      <td>secondary education</td>\n",
       "      <td>2</td>\n",
       "      <td>unmarried</td>\n",
       "      <td>4</td>\n",
       "      <td>F</td>\n",
       "      <td>retiree</td>\n",
       "      <td>0</td>\n",
       "      <td>46487.558</td>\n",
       "      <td>transactions with commercial real estate</td>\n",
       "    </tr>\n",
       "    <tr>\n",
       "      <th>25</th>\n",
       "      <td>0</td>\n",
       "      <td>363548.489348</td>\n",
       "      <td>67</td>\n",
       "      <td>secondary education</td>\n",
       "      <td>2</td>\n",
       "      <td>married</td>\n",
       "      <td>0</td>\n",
       "      <td>M</td>\n",
       "      <td>retiree</td>\n",
       "      <td>0</td>\n",
       "      <td>8818.041</td>\n",
       "      <td>buy real estate</td>\n",
       "    </tr>\n",
       "    <tr>\n",
       "      <th>29</th>\n",
       "      <td>0</td>\n",
       "      <td>NaN</td>\n",
       "      <td>63</td>\n",
       "      <td>secondary education</td>\n",
       "      <td>2</td>\n",
       "      <td>unmarried</td>\n",
       "      <td>4</td>\n",
       "      <td>F</td>\n",
       "      <td>retiree</td>\n",
       "      <td>0</td>\n",
       "      <td>NaN</td>\n",
       "      <td>building a real estate</td>\n",
       "    </tr>\n",
       "    <tr>\n",
       "      <th>30</th>\n",
       "      <td>1</td>\n",
       "      <td>335581.668515</td>\n",
       "      <td>62</td>\n",
       "      <td>secondary education</td>\n",
       "      <td>2</td>\n",
       "      <td>married</td>\n",
       "      <td>0</td>\n",
       "      <td>F</td>\n",
       "      <td>retiree</td>\n",
       "      <td>0</td>\n",
       "      <td>27432.971</td>\n",
       "      <td>transactions with commercial real estate</td>\n",
       "    </tr>\n",
       "    <tr>\n",
       "      <th>35</th>\n",
       "      <td>0</td>\n",
       "      <td>394021.072184</td>\n",
       "      <td>68</td>\n",
       "      <td>secondary education</td>\n",
       "      <td>2</td>\n",
       "      <td>civil partnership</td>\n",
       "      <td>1</td>\n",
       "      <td>M</td>\n",
       "      <td>retiree</td>\n",
       "      <td>0</td>\n",
       "      <td>12448.908</td>\n",
       "      <td>having a wedding</td>\n",
       "    </tr>\n",
       "    <tr>\n",
       "      <th>50</th>\n",
       "      <td>0</td>\n",
       "      <td>353731.432338</td>\n",
       "      <td>63</td>\n",
       "      <td>secondary education</td>\n",
       "      <td>2</td>\n",
       "      <td>married</td>\n",
       "      <td>0</td>\n",
       "      <td>F</td>\n",
       "      <td>retiree</td>\n",
       "      <td>0</td>\n",
       "      <td>14774.837</td>\n",
       "      <td>cars</td>\n",
       "    </tr>\n",
       "    <tr>\n",
       "      <th>55</th>\n",
       "      <td>0</td>\n",
       "      <td>NaN</td>\n",
       "      <td>54</td>\n",
       "      <td>secondary education</td>\n",
       "      <td>2</td>\n",
       "      <td>civil partnership</td>\n",
       "      <td>1</td>\n",
       "      <td>F</td>\n",
       "      <td>retiree</td>\n",
       "      <td>1</td>\n",
       "      <td>NaN</td>\n",
       "      <td>to have a wedding</td>\n",
       "    </tr>\n",
       "  </tbody>\n",
       "</table>\n",
       "</div>"
      ],
      "text/plain": [
       "    children  days_employed  dob_years            education  education_id  \\\n",
       "4          0  340266.072047         53  secondary education             2   \n",
       "12         0            NaN         65  secondary education             2   \n",
       "18         0  400281.136913         53  secondary education             2   \n",
       "24         1  338551.952911         57  secondary education             2   \n",
       "25         0  363548.489348         67  secondary education             2   \n",
       "29         0            NaN         63  secondary education             2   \n",
       "30         1  335581.668515         62  secondary education             2   \n",
       "35         0  394021.072184         68  secondary education             2   \n",
       "50         0  353731.432338         63  secondary education             2   \n",
       "55         0            NaN         54  secondary education             2   \n",
       "\n",
       "        family_status  family_status_id gender income_type  debt  \\\n",
       "4   civil partnership                 1      F     retiree     0   \n",
       "12  civil partnership                 1      M     retiree     0   \n",
       "18    widow / widower                 2      F     retiree     0   \n",
       "24          unmarried                 4      F     retiree     0   \n",
       "25            married                 0      M     retiree     0   \n",
       "29          unmarried                 4      F     retiree     0   \n",
       "30            married                 0      F     retiree     0   \n",
       "35  civil partnership                 1      M     retiree     0   \n",
       "50            married                 0      F     retiree     0   \n",
       "55  civil partnership                 1      F     retiree     1   \n",
       "\n",
       "    total_income                                   purpose  \n",
       "4      25378.572                         to have a wedding  \n",
       "12           NaN                         to have a wedding  \n",
       "18      9091.804                  buying a second-hand car  \n",
       "24     46487.558  transactions with commercial real estate  \n",
       "25      8818.041                           buy real estate  \n",
       "29           NaN                    building a real estate  \n",
       "30     27432.971  transactions with commercial real estate  \n",
       "35     12448.908                          having a wedding  \n",
       "50     14774.837                                      cars  \n",
       "55           NaN                         to have a wedding  "
      ]
     },
     "execution_count": 22,
     "metadata": {},
     "output_type": "execute_result"
    }
   ],
   "source": [
    "#Checking values for retirees in days_employed\n",
    "credit_score[credit_score['income_type']=='retiree'].head(10)"
   ]
  },
  {
   "cell_type": "code",
   "execution_count": 23,
   "metadata": {},
   "outputs": [
    {
     "name": "stdout",
     "output_type": "stream",
     "text": [
      "Retirees with positive values in days_employed: 3429\n",
      "Retirees with null values in days_employed: 410\n",
      "Total retirees: 3839\n",
      "All retiree days_employed values accounted for. Replace with 0s.\n"
     ]
    }
   ],
   "source": [
    "#Number of retirees with positive values in days_employed column\n",
    "retiree_days_worked_pos=credit_score[(credit_score['income_type']=='retiree') & (credit_score['days_employed']>0)].shape[0]\n",
    "\n",
    "retiree_days_worked_null=credit_score[(credit_score['income_type']=='retiree') & (credit_score['days_employed'].isna())].shape[0]\n",
    "\n",
    "total_retirees=credit_score[credit_score['income_type']=='retiree'].shape[0]\n",
    "\n",
    "print(\"Retirees with positive values in days_employed:\",retiree_days_worked_pos)\n",
    "print(\"Retirees with null values in days_employed:\",retiree_days_worked_null)\n",
    "print(\"Total retirees:\", total_retirees)\n",
    "\n",
    "if (retiree_days_worked_pos + retiree_days_worked_null) == total_retirees:\n",
    "    print(\"All retiree days_employed values accounted for. Replace with 0s.\")\n",
    "else:\n",
    "    print(\"Not all values accounted for.\")"
   ]
  },
  {
   "cell_type": "markdown",
   "metadata": {},
   "source": [
    "**<u>Next Steps</u>:**\n",
    "\n",
    "1. All values for retirees for days_employed will become 0.\n",
    "\n",
    "(Likely a clock for days_employed is still running for certain clients after they retire making it seem like they have worked more days than they have.)"
   ]
  },
  {
   "cell_type": "code",
   "execution_count": 24,
   "metadata": {},
   "outputs": [
    {
     "data": {
      "text/html": [
       "<div>\n",
       "<style scoped>\n",
       "    .dataframe tbody tr th:only-of-type {\n",
       "        vertical-align: middle;\n",
       "    }\n",
       "\n",
       "    .dataframe tbody tr th {\n",
       "        vertical-align: top;\n",
       "    }\n",
       "\n",
       "    .dataframe thead th {\n",
       "        text-align: right;\n",
       "    }\n",
       "</style>\n",
       "<table border=\"1\" class=\"dataframe\">\n",
       "  <thead>\n",
       "    <tr style=\"text-align: right;\">\n",
       "      <th></th>\n",
       "      <th>children</th>\n",
       "      <th>days_employed</th>\n",
       "      <th>dob_years</th>\n",
       "      <th>education</th>\n",
       "      <th>education_id</th>\n",
       "      <th>family_status</th>\n",
       "      <th>family_status_id</th>\n",
       "      <th>gender</th>\n",
       "      <th>income_type</th>\n",
       "      <th>debt</th>\n",
       "      <th>total_income</th>\n",
       "      <th>purpose</th>\n",
       "    </tr>\n",
       "  </thead>\n",
       "  <tbody>\n",
       "    <tr>\n",
       "      <th>4</th>\n",
       "      <td>0</td>\n",
       "      <td>0.0</td>\n",
       "      <td>53</td>\n",
       "      <td>secondary education</td>\n",
       "      <td>2</td>\n",
       "      <td>civil partnership</td>\n",
       "      <td>1</td>\n",
       "      <td>F</td>\n",
       "      <td>retiree</td>\n",
       "      <td>0</td>\n",
       "      <td>25378.572</td>\n",
       "      <td>to have a wedding</td>\n",
       "    </tr>\n",
       "    <tr>\n",
       "      <th>12</th>\n",
       "      <td>0</td>\n",
       "      <td>0.0</td>\n",
       "      <td>65</td>\n",
       "      <td>secondary education</td>\n",
       "      <td>2</td>\n",
       "      <td>civil partnership</td>\n",
       "      <td>1</td>\n",
       "      <td>M</td>\n",
       "      <td>retiree</td>\n",
       "      <td>0</td>\n",
       "      <td>NaN</td>\n",
       "      <td>to have a wedding</td>\n",
       "    </tr>\n",
       "    <tr>\n",
       "      <th>18</th>\n",
       "      <td>0</td>\n",
       "      <td>0.0</td>\n",
       "      <td>53</td>\n",
       "      <td>secondary education</td>\n",
       "      <td>2</td>\n",
       "      <td>widow / widower</td>\n",
       "      <td>2</td>\n",
       "      <td>F</td>\n",
       "      <td>retiree</td>\n",
       "      <td>0</td>\n",
       "      <td>9091.804</td>\n",
       "      <td>buying a second-hand car</td>\n",
       "    </tr>\n",
       "    <tr>\n",
       "      <th>24</th>\n",
       "      <td>1</td>\n",
       "      <td>0.0</td>\n",
       "      <td>57</td>\n",
       "      <td>secondary education</td>\n",
       "      <td>2</td>\n",
       "      <td>unmarried</td>\n",
       "      <td>4</td>\n",
       "      <td>F</td>\n",
       "      <td>retiree</td>\n",
       "      <td>0</td>\n",
       "      <td>46487.558</td>\n",
       "      <td>transactions with commercial real estate</td>\n",
       "    </tr>\n",
       "    <tr>\n",
       "      <th>25</th>\n",
       "      <td>0</td>\n",
       "      <td>0.0</td>\n",
       "      <td>67</td>\n",
       "      <td>secondary education</td>\n",
       "      <td>2</td>\n",
       "      <td>married</td>\n",
       "      <td>0</td>\n",
       "      <td>M</td>\n",
       "      <td>retiree</td>\n",
       "      <td>0</td>\n",
       "      <td>8818.041</td>\n",
       "      <td>buy real estate</td>\n",
       "    </tr>\n",
       "  </tbody>\n",
       "</table>\n",
       "</div>"
      ],
      "text/plain": [
       "    children  days_employed  dob_years            education  education_id  \\\n",
       "4          0            0.0         53  secondary education             2   \n",
       "12         0            0.0         65  secondary education             2   \n",
       "18         0            0.0         53  secondary education             2   \n",
       "24         1            0.0         57  secondary education             2   \n",
       "25         0            0.0         67  secondary education             2   \n",
       "\n",
       "        family_status  family_status_id gender income_type  debt  \\\n",
       "4   civil partnership                 1      F     retiree     0   \n",
       "12  civil partnership                 1      M     retiree     0   \n",
       "18    widow / widower                 2      F     retiree     0   \n",
       "24          unmarried                 4      F     retiree     0   \n",
       "25            married                 0      M     retiree     0   \n",
       "\n",
       "    total_income                                   purpose  \n",
       "4      25378.572                         to have a wedding  \n",
       "12           NaN                         to have a wedding  \n",
       "18      9091.804                  buying a second-hand car  \n",
       "24     46487.558  transactions with commercial real estate  \n",
       "25      8818.041                           buy real estate  "
      ]
     },
     "execution_count": 24,
     "metadata": {},
     "output_type": "execute_result"
    }
   ],
   "source": [
    "#Replace all values in days_employed for retirees with 0s.\n",
    "credit_score['days_employed'][credit_score.income_type=='retiree'] = 0\n",
    "credit_score[credit_score['income_type']=='retiree'].head()"
   ]
  },
  {
   "cell_type": "code",
   "execution_count": 25,
   "metadata": {},
   "outputs": [
    {
     "name": "stdout",
     "output_type": "stream",
     "text": [
      "<class 'pandas.core.frame.DataFrame'>\n",
      "Int64Index: 21402 entries, 0 to 21524\n",
      "Data columns (total 12 columns):\n",
      " #   Column            Non-Null Count  Dtype   \n",
      "---  ------            --------------  -----   \n",
      " 0   children          21402 non-null  int64   \n",
      " 1   days_employed     19650 non-null  float64 \n",
      " 2   dob_years         21402 non-null  int64   \n",
      " 3   education         21402 non-null  object  \n",
      " 4   education_id      21402 non-null  int64   \n",
      " 5   family_status     21402 non-null  category\n",
      " 6   family_status_id  21402 non-null  int64   \n",
      " 7   gender            21402 non-null  category\n",
      " 8   income_type       21402 non-null  category\n",
      " 9   debt              21402 non-null  int64   \n",
      " 10  total_income      19240 non-null  float64 \n",
      " 11  purpose           21402 non-null  object  \n",
      "dtypes: category(3), float64(2), int64(5), object(2)\n",
      "memory usage: 1.7+ MB\n"
     ]
    }
   ],
   "source": [
    "#Checking for any Null values left\n",
    "credit_score.info()"
   ]
  },
  {
   "cell_type": "code",
   "execution_count": 26,
   "metadata": {},
   "outputs": [
    {
     "data": {
      "text/html": [
       "<div>\n",
       "<style scoped>\n",
       "    .dataframe tbody tr th:only-of-type {\n",
       "        vertical-align: middle;\n",
       "    }\n",
       "\n",
       "    .dataframe tbody tr th {\n",
       "        vertical-align: top;\n",
       "    }\n",
       "\n",
       "    .dataframe thead th {\n",
       "        text-align: right;\n",
       "    }\n",
       "</style>\n",
       "<table border=\"1\" class=\"dataframe\">\n",
       "  <thead>\n",
       "    <tr style=\"text-align: right;\">\n",
       "      <th></th>\n",
       "      <th>children</th>\n",
       "      <th>days_employed</th>\n",
       "      <th>dob_years</th>\n",
       "      <th>education</th>\n",
       "      <th>education_id</th>\n",
       "      <th>family_status</th>\n",
       "      <th>family_status_id</th>\n",
       "      <th>gender</th>\n",
       "      <th>income_type</th>\n",
       "      <th>debt</th>\n",
       "      <th>total_income</th>\n",
       "      <th>purpose</th>\n",
       "    </tr>\n",
       "  </thead>\n",
       "  <tbody>\n",
       "    <tr>\n",
       "      <th>26</th>\n",
       "      <td>0</td>\n",
       "      <td>NaN</td>\n",
       "      <td>41</td>\n",
       "      <td>secondary education</td>\n",
       "      <td>2</td>\n",
       "      <td>married</td>\n",
       "      <td>0</td>\n",
       "      <td>M</td>\n",
       "      <td>civil servant</td>\n",
       "      <td>0</td>\n",
       "      <td>NaN</td>\n",
       "      <td>education</td>\n",
       "    </tr>\n",
       "    <tr>\n",
       "      <th>41</th>\n",
       "      <td>0</td>\n",
       "      <td>NaN</td>\n",
       "      <td>50</td>\n",
       "      <td>secondary education</td>\n",
       "      <td>2</td>\n",
       "      <td>married</td>\n",
       "      <td>0</td>\n",
       "      <td>F</td>\n",
       "      <td>civil servant</td>\n",
       "      <td>0</td>\n",
       "      <td>NaN</td>\n",
       "      <td>second-hand car purchase</td>\n",
       "    </tr>\n",
       "    <tr>\n",
       "      <th>65</th>\n",
       "      <td>0</td>\n",
       "      <td>NaN</td>\n",
       "      <td>21</td>\n",
       "      <td>secondary education</td>\n",
       "      <td>2</td>\n",
       "      <td>unmarried</td>\n",
       "      <td>4</td>\n",
       "      <td>M</td>\n",
       "      <td>business</td>\n",
       "      <td>0</td>\n",
       "      <td>NaN</td>\n",
       "      <td>transactions with commercial real estate</td>\n",
       "    </tr>\n",
       "    <tr>\n",
       "      <th>72</th>\n",
       "      <td>1</td>\n",
       "      <td>NaN</td>\n",
       "      <td>32</td>\n",
       "      <td>bachelor's degree</td>\n",
       "      <td>4</td>\n",
       "      <td>married</td>\n",
       "      <td>0</td>\n",
       "      <td>M</td>\n",
       "      <td>civil servant</td>\n",
       "      <td>0</td>\n",
       "      <td>NaN</td>\n",
       "      <td>transactions with commercial real estate</td>\n",
       "    </tr>\n",
       "    <tr>\n",
       "      <th>82</th>\n",
       "      <td>2</td>\n",
       "      <td>NaN</td>\n",
       "      <td>50</td>\n",
       "      <td>bachelor's degree</td>\n",
       "      <td>4</td>\n",
       "      <td>married</td>\n",
       "      <td>0</td>\n",
       "      <td>F</td>\n",
       "      <td>employee</td>\n",
       "      <td>0</td>\n",
       "      <td>NaN</td>\n",
       "      <td>housing</td>\n",
       "    </tr>\n",
       "    <tr>\n",
       "      <th>83</th>\n",
       "      <td>0</td>\n",
       "      <td>NaN</td>\n",
       "      <td>52</td>\n",
       "      <td>secondary education</td>\n",
       "      <td>2</td>\n",
       "      <td>married</td>\n",
       "      <td>0</td>\n",
       "      <td>M</td>\n",
       "      <td>employee</td>\n",
       "      <td>0</td>\n",
       "      <td>NaN</td>\n",
       "      <td>housing</td>\n",
       "    </tr>\n",
       "    <tr>\n",
       "      <th>90</th>\n",
       "      <td>2</td>\n",
       "      <td>NaN</td>\n",
       "      <td>35</td>\n",
       "      <td>bachelor's degree</td>\n",
       "      <td>4</td>\n",
       "      <td>married</td>\n",
       "      <td>0</td>\n",
       "      <td>F</td>\n",
       "      <td>employee</td>\n",
       "      <td>0</td>\n",
       "      <td>NaN</td>\n",
       "      <td>housing transactions</td>\n",
       "    </tr>\n",
       "    <tr>\n",
       "      <th>94</th>\n",
       "      <td>1</td>\n",
       "      <td>NaN</td>\n",
       "      <td>34</td>\n",
       "      <td>bachelor's degree</td>\n",
       "      <td>4</td>\n",
       "      <td>civil partnership</td>\n",
       "      <td>1</td>\n",
       "      <td>F</td>\n",
       "      <td>business</td>\n",
       "      <td>0</td>\n",
       "      <td>NaN</td>\n",
       "      <td>having a wedding</td>\n",
       "    </tr>\n",
       "    <tr>\n",
       "      <th>96</th>\n",
       "      <td>0</td>\n",
       "      <td>NaN</td>\n",
       "      <td>44</td>\n",
       "      <td>secondary education</td>\n",
       "      <td>2</td>\n",
       "      <td>married</td>\n",
       "      <td>0</td>\n",
       "      <td>F</td>\n",
       "      <td>employee</td>\n",
       "      <td>0</td>\n",
       "      <td>NaN</td>\n",
       "      <td>buy residential real estate</td>\n",
       "    </tr>\n",
       "    <tr>\n",
       "      <th>97</th>\n",
       "      <td>0</td>\n",
       "      <td>NaN</td>\n",
       "      <td>47</td>\n",
       "      <td>bachelor's degree</td>\n",
       "      <td>4</td>\n",
       "      <td>married</td>\n",
       "      <td>0</td>\n",
       "      <td>F</td>\n",
       "      <td>employee</td>\n",
       "      <td>0</td>\n",
       "      <td>NaN</td>\n",
       "      <td>profile education</td>\n",
       "    </tr>\n",
       "  </tbody>\n",
       "</table>\n",
       "</div>"
      ],
      "text/plain": [
       "    children  days_employed  dob_years            education  education_id  \\\n",
       "26         0            NaN         41  secondary education             2   \n",
       "41         0            NaN         50  secondary education             2   \n",
       "65         0            NaN         21  secondary education             2   \n",
       "72         1            NaN         32    bachelor's degree             4   \n",
       "82         2            NaN         50    bachelor's degree             4   \n",
       "83         0            NaN         52  secondary education             2   \n",
       "90         2            NaN         35    bachelor's degree             4   \n",
       "94         1            NaN         34    bachelor's degree             4   \n",
       "96         0            NaN         44  secondary education             2   \n",
       "97         0            NaN         47    bachelor's degree             4   \n",
       "\n",
       "        family_status  family_status_id gender    income_type  debt  \\\n",
       "26            married                 0      M  civil servant     0   \n",
       "41            married                 0      F  civil servant     0   \n",
       "65          unmarried                 4      M       business     0   \n",
       "72            married                 0      M  civil servant     0   \n",
       "82            married                 0      F       employee     0   \n",
       "83            married                 0      M       employee     0   \n",
       "90            married                 0      F       employee     0   \n",
       "94  civil partnership                 1      F       business     0   \n",
       "96            married                 0      F       employee     0   \n",
       "97            married                 0      F       employee     0   \n",
       "\n",
       "    total_income                                   purpose  \n",
       "26           NaN                                 education  \n",
       "41           NaN                  second-hand car purchase  \n",
       "65           NaN  transactions with commercial real estate  \n",
       "72           NaN  transactions with commercial real estate  \n",
       "82           NaN                                   housing  \n",
       "83           NaN                                   housing  \n",
       "90           NaN                      housing transactions  \n",
       "94           NaN                          having a wedding  \n",
       "96           NaN               buy residential real estate  \n",
       "97           NaN                         profile education  "
      ]
     },
     "execution_count": 26,
     "metadata": {},
     "output_type": "execute_result"
    }
   ],
   "source": [
    "#Overview of other rows with missing values in days_employed\n",
    "credit_score[credit_score['days_employed'].isna()].head(10)"
   ]
  },
  {
   "cell_type": "code",
   "execution_count": 27,
   "metadata": {
    "scrolled": true
   },
   "outputs": [
    {
     "data": {
      "text/html": [
       "<div>\n",
       "<style scoped>\n",
       "    .dataframe tbody tr th:only-of-type {\n",
       "        vertical-align: middle;\n",
       "    }\n",
       "\n",
       "    .dataframe tbody tr th {\n",
       "        vertical-align: top;\n",
       "    }\n",
       "\n",
       "    .dataframe thead th {\n",
       "        text-align: right;\n",
       "    }\n",
       "</style>\n",
       "<table border=\"1\" class=\"dataframe\">\n",
       "  <thead>\n",
       "    <tr style=\"text-align: right;\">\n",
       "      <th></th>\n",
       "      <th>children</th>\n",
       "      <th>days_employed</th>\n",
       "      <th>dob_years</th>\n",
       "      <th>education</th>\n",
       "      <th>education_id</th>\n",
       "      <th>family_status</th>\n",
       "      <th>family_status_id</th>\n",
       "      <th>gender</th>\n",
       "      <th>income_type</th>\n",
       "      <th>debt</th>\n",
       "      <th>total_income</th>\n",
       "      <th>purpose</th>\n",
       "    </tr>\n",
       "  </thead>\n",
       "  <tbody>\n",
       "    <tr>\n",
       "      <th>0</th>\n",
       "      <td>1</td>\n",
       "      <td>-8437.673028</td>\n",
       "      <td>42</td>\n",
       "      <td>bachelor's degree</td>\n",
       "      <td>4</td>\n",
       "      <td>married</td>\n",
       "      <td>0</td>\n",
       "      <td>F</td>\n",
       "      <td>employee</td>\n",
       "      <td>0</td>\n",
       "      <td>40620.102</td>\n",
       "      <td>purchase of the house</td>\n",
       "    </tr>\n",
       "    <tr>\n",
       "      <th>1</th>\n",
       "      <td>1</td>\n",
       "      <td>-4024.803754</td>\n",
       "      <td>36</td>\n",
       "      <td>secondary education</td>\n",
       "      <td>2</td>\n",
       "      <td>married</td>\n",
       "      <td>0</td>\n",
       "      <td>F</td>\n",
       "      <td>employee</td>\n",
       "      <td>0</td>\n",
       "      <td>17932.802</td>\n",
       "      <td>car purchase</td>\n",
       "    </tr>\n",
       "    <tr>\n",
       "      <th>2</th>\n",
       "      <td>0</td>\n",
       "      <td>-5623.422610</td>\n",
       "      <td>33</td>\n",
       "      <td>secondary education</td>\n",
       "      <td>2</td>\n",
       "      <td>married</td>\n",
       "      <td>0</td>\n",
       "      <td>M</td>\n",
       "      <td>employee</td>\n",
       "      <td>0</td>\n",
       "      <td>23341.752</td>\n",
       "      <td>purchase of the house</td>\n",
       "    </tr>\n",
       "    <tr>\n",
       "      <th>3</th>\n",
       "      <td>3</td>\n",
       "      <td>-4124.747207</td>\n",
       "      <td>32</td>\n",
       "      <td>secondary education</td>\n",
       "      <td>2</td>\n",
       "      <td>married</td>\n",
       "      <td>0</td>\n",
       "      <td>M</td>\n",
       "      <td>employee</td>\n",
       "      <td>0</td>\n",
       "      <td>42820.568</td>\n",
       "      <td>supplementary education</td>\n",
       "    </tr>\n",
       "    <tr>\n",
       "      <th>5</th>\n",
       "      <td>0</td>\n",
       "      <td>-926.185831</td>\n",
       "      <td>27</td>\n",
       "      <td>bachelor's degree</td>\n",
       "      <td>4</td>\n",
       "      <td>civil partnership</td>\n",
       "      <td>1</td>\n",
       "      <td>M</td>\n",
       "      <td>business</td>\n",
       "      <td>0</td>\n",
       "      <td>40922.170</td>\n",
       "      <td>purchase of the house</td>\n",
       "    </tr>\n",
       "    <tr>\n",
       "      <th>6</th>\n",
       "      <td>0</td>\n",
       "      <td>-2879.202052</td>\n",
       "      <td>43</td>\n",
       "      <td>bachelor's degree</td>\n",
       "      <td>4</td>\n",
       "      <td>married</td>\n",
       "      <td>0</td>\n",
       "      <td>F</td>\n",
       "      <td>business</td>\n",
       "      <td>0</td>\n",
       "      <td>38484.156</td>\n",
       "      <td>housing transactions</td>\n",
       "    </tr>\n",
       "    <tr>\n",
       "      <th>7</th>\n",
       "      <td>0</td>\n",
       "      <td>-152.779569</td>\n",
       "      <td>50</td>\n",
       "      <td>secondary education</td>\n",
       "      <td>2</td>\n",
       "      <td>married</td>\n",
       "      <td>0</td>\n",
       "      <td>M</td>\n",
       "      <td>employee</td>\n",
       "      <td>0</td>\n",
       "      <td>21731.829</td>\n",
       "      <td>education</td>\n",
       "    </tr>\n",
       "    <tr>\n",
       "      <th>8</th>\n",
       "      <td>2</td>\n",
       "      <td>-6929.865299</td>\n",
       "      <td>35</td>\n",
       "      <td>bachelor's degree</td>\n",
       "      <td>4</td>\n",
       "      <td>civil partnership</td>\n",
       "      <td>1</td>\n",
       "      <td>F</td>\n",
       "      <td>employee</td>\n",
       "      <td>0</td>\n",
       "      <td>15337.093</td>\n",
       "      <td>having a wedding</td>\n",
       "    </tr>\n",
       "    <tr>\n",
       "      <th>9</th>\n",
       "      <td>0</td>\n",
       "      <td>-2188.756445</td>\n",
       "      <td>41</td>\n",
       "      <td>secondary education</td>\n",
       "      <td>2</td>\n",
       "      <td>married</td>\n",
       "      <td>0</td>\n",
       "      <td>M</td>\n",
       "      <td>employee</td>\n",
       "      <td>0</td>\n",
       "      <td>23108.150</td>\n",
       "      <td>purchase of the house for my family</td>\n",
       "    </tr>\n",
       "    <tr>\n",
       "      <th>10</th>\n",
       "      <td>2</td>\n",
       "      <td>-4171.483647</td>\n",
       "      <td>36</td>\n",
       "      <td>bachelor's degree</td>\n",
       "      <td>4</td>\n",
       "      <td>married</td>\n",
       "      <td>0</td>\n",
       "      <td>M</td>\n",
       "      <td>business</td>\n",
       "      <td>0</td>\n",
       "      <td>18230.959</td>\n",
       "      <td>buy real estate</td>\n",
       "    </tr>\n",
       "  </tbody>\n",
       "</table>\n",
       "</div>"
      ],
      "text/plain": [
       "    children  days_employed  dob_years            education  education_id  \\\n",
       "0          1   -8437.673028         42    bachelor's degree             4   \n",
       "1          1   -4024.803754         36  secondary education             2   \n",
       "2          0   -5623.422610         33  secondary education             2   \n",
       "3          3   -4124.747207         32  secondary education             2   \n",
       "5          0    -926.185831         27    bachelor's degree             4   \n",
       "6          0   -2879.202052         43    bachelor's degree             4   \n",
       "7          0    -152.779569         50  secondary education             2   \n",
       "8          2   -6929.865299         35    bachelor's degree             4   \n",
       "9          0   -2188.756445         41  secondary education             2   \n",
       "10         2   -4171.483647         36    bachelor's degree             4   \n",
       "\n",
       "        family_status  family_status_id gender income_type  debt  \\\n",
       "0             married                 0      F    employee     0   \n",
       "1             married                 0      F    employee     0   \n",
       "2             married                 0      M    employee     0   \n",
       "3             married                 0      M    employee     0   \n",
       "5   civil partnership                 1      M    business     0   \n",
       "6             married                 0      F    business     0   \n",
       "7             married                 0      M    employee     0   \n",
       "8   civil partnership                 1      F    employee     0   \n",
       "9             married                 0      M    employee     0   \n",
       "10            married                 0      M    business     0   \n",
       "\n",
       "    total_income                              purpose  \n",
       "0      40620.102                purchase of the house  \n",
       "1      17932.802                         car purchase  \n",
       "2      23341.752                purchase of the house  \n",
       "3      42820.568              supplementary education  \n",
       "5      40922.170                purchase of the house  \n",
       "6      38484.156                 housing transactions  \n",
       "7      21731.829                            education  \n",
       "8      15337.093                     having a wedding  \n",
       "9      23108.150  purchase of the house for my family  \n",
       "10     18230.959                      buy real estate  "
      ]
     },
     "execution_count": 27,
     "metadata": {},
     "output_type": "execute_result"
    }
   ],
   "source": [
    "#Overview of negative values in days_employed column\n",
    "credit_score[credit_score['days_employed']<0].head(10)"
   ]
  },
  {
   "cell_type": "markdown",
   "metadata": {},
   "source": [
    "- The days_employed column continues to contain at least 15,809 problematic values. \n",
    "- The negative values may simply be a glitch and could just be changed to positive, but I'd be hesitant to do that before speaking with the software engineer in charge of maintaining the dataset."
   ]
  },
  {
   "cell_type": "markdown",
   "metadata": {},
   "source": [
    "**Age field**"
   ]
  },
  {
   "cell_type": "code",
   "execution_count": 28,
   "metadata": {
    "scrolled": true
   },
   "outputs": [
    {
     "data": {
      "image/png": "[encoded data removed]",
      "text/plain": [
       "<Figure size 576x288 with 1 Axes>"
      ]
     },
     "metadata": {
      "needs_background": "light"
     },
     "output_type": "display_data"
    }
   ],
   "source": [
    "# Histogram of 'age' frequencies\n",
    "plt.figure(figsize=(8,4))\n",
    "plt.hist(credit_score['dob_years'], bins=np.arange(0,80,10), color='c')\n",
    "plt.title('Customer Age Distribution', size=15)\n",
    "plt.xlabel('age', size=12);"
   ]
  },
  {
   "cell_type": "code",
   "execution_count": 29,
   "metadata": {},
   "outputs": [
    {
     "data": {
      "text/plain": [
       "100"
      ]
     },
     "execution_count": 29,
     "metadata": {},
     "output_type": "execute_result"
    }
   ],
   "source": [
    "#Count number of rows with 0 for dob_years\n",
    "(credit_score['dob_years']==0).sum()"
   ]
  },
  {
   "cell_type": "code",
   "execution_count": 30,
   "metadata": {},
   "outputs": [
    {
     "name": "stdout",
     "output_type": "stream",
     "text": [
      "The average age is: 43\n",
      "The median age is: 42.0\n"
     ]
    }
   ],
   "source": [
    "#Get means and medians\n",
    "avg_age=int(credit_score['dob_years'].mean())\n",
    "med_age=credit_score['dob_years'].median()\n",
    "print('The average age is:',avg_age)\n",
    "print('The median age is:', med_age)"
   ]
  },
  {
   "cell_type": "markdown",
   "metadata": {},
   "source": [
    "- 100 clients have an age of 0 which is less than 1% of the total clients. \n",
    "    - The mean and median age are very similar which indicates that the mean age is OK to use as a replacement.\n",
    "\n",
    "**<u>Next Steps</u>:**\n",
    "1. Replace dob_years==0 with mean value."
   ]
  },
  {
   "cell_type": "code",
   "execution_count": 31,
   "metadata": {},
   "outputs": [
    {
     "data": {
      "text/plain": [
       "0"
      ]
     },
     "execution_count": 31,
     "metadata": {},
     "output_type": "execute_result"
    }
   ],
   "source": [
    "# Replace 0s with mean\n",
    "credit_score['dob_years'] = credit_score['dob_years'].replace(0,avg_age)\n",
    "\n",
    "# Check the result \n",
    "(credit_score['dob_years']==0).sum()"
   ]
  },
  {
   "cell_type": "markdown",
   "metadata": {},
   "source": [
    "**Family_status field**"
   ]
  },
  {
   "cell_type": "code",
   "execution_count": 32,
   "metadata": {
    "scrolled": true
   },
   "outputs": [
    {
     "data": {
      "text/plain": [
       "married              0.574806\n",
       "civil partnership    0.194374\n",
       "unmarried            0.130782\n",
       "divorced             0.055556\n",
       "widow / widower      0.044482\n",
       "Name: family_status, dtype: float64"
      ]
     },
     "execution_count": 32,
     "metadata": {},
     "output_type": "execute_result"
    }
   ],
   "source": [
    "# Values for the column\n",
    "credit_score['family_status'].value_counts(normalize=True)"
   ]
  },
  {
   "cell_type": "markdown",
   "metadata": {},
   "source": [
    "- No problematic values in the family_status field.\n"
   ]
  },
  {
   "cell_type": "markdown",
   "metadata": {},
   "source": [
    "**Gender**"
   ]
  },
  {
   "cell_type": "code",
   "execution_count": 33,
   "metadata": {},
   "outputs": [
    {
     "data": {
      "text/plain": [
       "F      14154\n",
       "M       7247\n",
       "XNA        1\n",
       "Name: gender, dtype: int64"
      ]
     },
     "execution_count": 33,
     "metadata": {},
     "output_type": "execute_result"
    }
   ],
   "source": [
    "# Let's see the values in the column\n",
    "credit_score['gender'].value_counts()"
   ]
  },
  {
   "cell_type": "markdown",
   "metadata": {},
   "source": [
    "- It is unknown what XNA refers to and there is only 1 value. \n",
    "\n",
    "**<u>Next Steps</u>:**\n",
    "1. Change XNA to \"unknown\"."
   ]
  },
  {
   "cell_type": "code",
   "execution_count": 34,
   "metadata": {},
   "outputs": [
    {
     "data": {
      "text/plain": [
       "F          14154\n",
       "M           7247\n",
       "Unknown        1\n",
       "Name: gender, dtype: int64"
      ]
     },
     "execution_count": 34,
     "metadata": {},
     "output_type": "execute_result"
    }
   ],
   "source": [
    "#Change XNA to Unknown\n",
    "credit_score['gender'] = credit_score['gender'].replace('XNA','Unknown')\n",
    "\n",
    "# Check the result - make sure it's fixed\n",
    "credit_score['gender'].value_counts()"
   ]
  },
  {
   "cell_type": "markdown",
   "metadata": {},
   "source": [
    "**Income_type field**"
   ]
  },
  {
   "cell_type": "code",
   "execution_count": 35,
   "metadata": {},
   "outputs": [
    {
     "data": {
      "text/plain": [
       "employee                       11050\n",
       "business                        5054\n",
       "retiree                         3839\n",
       "civil servant                   1453\n",
       "unemployed                         2\n",
       "entrepreneur                       2\n",
       "student                            1\n",
       "paternity / maternity leave        1\n",
       "Name: income_type, dtype: int64"
      ]
     },
     "execution_count": 35,
     "metadata": {},
     "output_type": "execute_result"
    }
   ],
   "source": [
    "#Values in the income_type\n",
    "credit_score['income_type'].value_counts()"
   ]
  },
  {
   "cell_type": "code",
   "execution_count": 36,
   "metadata": {},
   "outputs": [
    {
     "data": {
      "text/html": [
       "<div>\n",
       "<style scoped>\n",
       "    .dataframe tbody tr th:only-of-type {\n",
       "        vertical-align: middle;\n",
       "    }\n",
       "\n",
       "    .dataframe tbody tr th {\n",
       "        vertical-align: top;\n",
       "    }\n",
       "\n",
       "    .dataframe thead th {\n",
       "        text-align: right;\n",
       "    }\n",
       "</style>\n",
       "<table border=\"1\" class=\"dataframe\">\n",
       "  <thead>\n",
       "    <tr style=\"text-align: right;\">\n",
       "      <th></th>\n",
       "      <th>children</th>\n",
       "      <th>days_employed</th>\n",
       "      <th>dob_years</th>\n",
       "      <th>education</th>\n",
       "      <th>education_id</th>\n",
       "      <th>family_status</th>\n",
       "      <th>family_status_id</th>\n",
       "      <th>gender</th>\n",
       "      <th>income_type</th>\n",
       "      <th>debt</th>\n",
       "      <th>total_income</th>\n",
       "      <th>purpose</th>\n",
       "    </tr>\n",
       "  </thead>\n",
       "  <tbody>\n",
       "    <tr>\n",
       "      <th>3133</th>\n",
       "      <td>1</td>\n",
       "      <td>337524.466835</td>\n",
       "      <td>31</td>\n",
       "      <td>secondary education</td>\n",
       "      <td>2</td>\n",
       "      <td>married</td>\n",
       "      <td>0</td>\n",
       "      <td>M</td>\n",
       "      <td>unemployed</td>\n",
       "      <td>1</td>\n",
       "      <td>9593.119</td>\n",
       "      <td>buying property for renting out</td>\n",
       "    </tr>\n",
       "    <tr>\n",
       "      <th>9410</th>\n",
       "      <td>0</td>\n",
       "      <td>-578.751554</td>\n",
       "      <td>22</td>\n",
       "      <td>bachelor's degree</td>\n",
       "      <td>4</td>\n",
       "      <td>unmarried</td>\n",
       "      <td>4</td>\n",
       "      <td>M</td>\n",
       "      <td>student</td>\n",
       "      <td>0</td>\n",
       "      <td>15712.260</td>\n",
       "      <td>construction of own property</td>\n",
       "    </tr>\n",
       "    <tr>\n",
       "      <th>14798</th>\n",
       "      <td>0</td>\n",
       "      <td>395302.838654</td>\n",
       "      <td>45</td>\n",
       "      <td>bachelor's degree</td>\n",
       "      <td>4</td>\n",
       "      <td>civil partnership</td>\n",
       "      <td>1</td>\n",
       "      <td>F</td>\n",
       "      <td>unemployed</td>\n",
       "      <td>0</td>\n",
       "      <td>32435.602</td>\n",
       "      <td>housing renovation</td>\n",
       "    </tr>\n",
       "  </tbody>\n",
       "</table>\n",
       "</div>"
      ],
      "text/plain": [
       "       children  days_employed  dob_years            education  education_id  \\\n",
       "3133          1  337524.466835         31  secondary education             2   \n",
       "9410          0    -578.751554         22    bachelor's degree             4   \n",
       "14798         0  395302.838654         45    bachelor's degree             4   \n",
       "\n",
       "           family_status  family_status_id gender income_type  debt  \\\n",
       "3133             married                 0      M  unemployed     1   \n",
       "9410           unmarried                 4      M     student     0   \n",
       "14798  civil partnership                 1      F  unemployed     0   \n",
       "\n",
       "       total_income                          purpose  \n",
       "3133       9593.119  buying property for renting out  \n",
       "9410      15712.260     construction of own property  \n",
       "14798     32435.602               housing renovation  "
      ]
     },
     "execution_count": 36,
     "metadata": {},
     "output_type": "execute_result"
    }
   ],
   "source": [
    "#Checking to see whether clients who are unemployed or students have responses in days-employed and total_income.\n",
    "student_unemployed = ['student', 'unemployed']\n",
    "credit_score.loc[credit_score['income_type'].isin(student_unemployed)]"
   ]
  },
  {
   "cell_type": "markdown",
   "metadata": {},
   "source": [
    "A few problems with the values in the income_type field:\n",
    "<ol start=\"1\">\n",
    "  <li>Entrepreneur - which only has 2 clients associated with it - is likely a subtype of business.</li>\n",
    "  <li>A person can be on paternity/maternity leave and still be an employee, civil servant, business, or entrepreneur. There may be other clients on parental leave not accounted for. There is no way to know which other category to file this one case with and we cannot conduct an analysis on just one case. \n",
    "  <li>All 3 clients who are unemployed or students have values in days_employed and total_income columns which either indicates an input error or that at one point they were employed, but are no longer.</li>\n",
    "  <li>In general, the process for selecting the value for income_type and definitions are unknown. \n",
    "</ol>\n",
    "\n",
    "**<u>Next steps</u>:**\n",
    "1. Remove these values (rather than replace) because the reasons for the questionable values is unknown and it is only 6 clients."
   ]
  },
  {
   "cell_type": "code",
   "execution_count": 37,
   "metadata": {
    "scrolled": true
   },
   "outputs": [
    {
     "data": {
      "text/plain": [
       "array(['employee', 'retiree', 'business', 'civil servant'], dtype=object)"
      ]
     },
     "execution_count": 37,
     "metadata": {},
     "output_type": "execute_result"
    }
   ],
   "source": [
    "# Change to object type to make it easier to drop rows\n",
    "credit_score['income_type'] = credit_score['income_type'].astype('object')\n",
    "\n",
    "# Drop unwanted rows\n",
    "credit_score = credit_score.query('income_type == \"employee\" | income_type == \"business\" | income_type == \"retiree\" | income_type == \"civil servant\"')\n",
    "\n",
    "# Check the result - make sure it's fixed\n",
    "credit_score['income_type'].unique()"
   ]
  },
  {
   "cell_type": "markdown",
   "metadata": {},
   "source": [
    "### Duplicate data"
   ]
  },
  {
   "cell_type": "code",
   "execution_count": 38,
   "metadata": {},
   "outputs": [
    {
     "data": {
      "text/plain": [
       "71"
      ]
     },
     "execution_count": 38,
     "metadata": {},
     "output_type": "execute_result"
    }
   ],
   "source": [
    "# Checking number of duplicates\n",
    "credit_score.duplicated().sum()"
   ]
  },
  {
   "cell_type": "code",
   "execution_count": 39,
   "metadata": {},
   "outputs": [
    {
     "data": {
      "text/html": [
       "<div>\n",
       "<style scoped>\n",
       "    .dataframe tbody tr th:only-of-type {\n",
       "        vertical-align: middle;\n",
       "    }\n",
       "\n",
       "    .dataframe tbody tr th {\n",
       "        vertical-align: top;\n",
       "    }\n",
       "\n",
       "    .dataframe thead th {\n",
       "        text-align: right;\n",
       "    }\n",
       "</style>\n",
       "<table border=\"1\" class=\"dataframe\">\n",
       "  <thead>\n",
       "    <tr style=\"text-align: right;\">\n",
       "      <th></th>\n",
       "      <th>children</th>\n",
       "      <th>days_employed</th>\n",
       "      <th>dob_years</th>\n",
       "      <th>education</th>\n",
       "      <th>education_id</th>\n",
       "      <th>family_status</th>\n",
       "      <th>family_status_id</th>\n",
       "      <th>gender</th>\n",
       "      <th>income_type</th>\n",
       "      <th>debt</th>\n",
       "      <th>total_income</th>\n",
       "      <th>purpose</th>\n",
       "    </tr>\n",
       "  </thead>\n",
       "  <tbody>\n",
       "    <tr>\n",
       "      <th>120</th>\n",
       "      <td>0</td>\n",
       "      <td>NaN</td>\n",
       "      <td>46</td>\n",
       "      <td>secondary education</td>\n",
       "      <td>2</td>\n",
       "      <td>married</td>\n",
       "      <td>0</td>\n",
       "      <td>F</td>\n",
       "      <td>employee</td>\n",
       "      <td>0</td>\n",
       "      <td>NaN</td>\n",
       "      <td>university education</td>\n",
       "    </tr>\n",
       "    <tr>\n",
       "      <th>520</th>\n",
       "      <td>0</td>\n",
       "      <td>NaN</td>\n",
       "      <td>35</td>\n",
       "      <td>secondary education</td>\n",
       "      <td>2</td>\n",
       "      <td>civil partnership</td>\n",
       "      <td>1</td>\n",
       "      <td>F</td>\n",
       "      <td>employee</td>\n",
       "      <td>0</td>\n",
       "      <td>NaN</td>\n",
       "      <td>to have a wedding</td>\n",
       "    </tr>\n",
       "    <tr>\n",
       "      <th>541</th>\n",
       "      <td>0</td>\n",
       "      <td>NaN</td>\n",
       "      <td>57</td>\n",
       "      <td>secondary education</td>\n",
       "      <td>2</td>\n",
       "      <td>married</td>\n",
       "      <td>0</td>\n",
       "      <td>F</td>\n",
       "      <td>employee</td>\n",
       "      <td>0</td>\n",
       "      <td>NaN</td>\n",
       "      <td>second-hand car purchase</td>\n",
       "    </tr>\n",
       "    <tr>\n",
       "      <th>554</th>\n",
       "      <td>0</td>\n",
       "      <td>NaN</td>\n",
       "      <td>60</td>\n",
       "      <td>secondary education</td>\n",
       "      <td>2</td>\n",
       "      <td>married</td>\n",
       "      <td>0</td>\n",
       "      <td>M</td>\n",
       "      <td>employee</td>\n",
       "      <td>0</td>\n",
       "      <td>NaN</td>\n",
       "      <td>buy real estate</td>\n",
       "    </tr>\n",
       "    <tr>\n",
       "      <th>680</th>\n",
       "      <td>1</td>\n",
       "      <td>NaN</td>\n",
       "      <td>30</td>\n",
       "      <td>bachelor's degree</td>\n",
       "      <td>4</td>\n",
       "      <td>married</td>\n",
       "      <td>0</td>\n",
       "      <td>F</td>\n",
       "      <td>civil servant</td>\n",
       "      <td>0</td>\n",
       "      <td>NaN</td>\n",
       "      <td>purchase of the house for my family</td>\n",
       "    </tr>\n",
       "    <tr>\n",
       "      <th>1005</th>\n",
       "      <td>0</td>\n",
       "      <td>0.0</td>\n",
       "      <td>62</td>\n",
       "      <td>secondary education</td>\n",
       "      <td>2</td>\n",
       "      <td>married</td>\n",
       "      <td>0</td>\n",
       "      <td>F</td>\n",
       "      <td>retiree</td>\n",
       "      <td>0</td>\n",
       "      <td>NaN</td>\n",
       "      <td>housing renovation</td>\n",
       "    </tr>\n",
       "    <tr>\n",
       "      <th>1191</th>\n",
       "      <td>0</td>\n",
       "      <td>0.0</td>\n",
       "      <td>61</td>\n",
       "      <td>secondary education</td>\n",
       "      <td>2</td>\n",
       "      <td>married</td>\n",
       "      <td>0</td>\n",
       "      <td>F</td>\n",
       "      <td>retiree</td>\n",
       "      <td>0</td>\n",
       "      <td>NaN</td>\n",
       "      <td>real estate transactions</td>\n",
       "    </tr>\n",
       "    <tr>\n",
       "      <th>1431</th>\n",
       "      <td>0</td>\n",
       "      <td>NaN</td>\n",
       "      <td>41</td>\n",
       "      <td>secondary education</td>\n",
       "      <td>2</td>\n",
       "      <td>married</td>\n",
       "      <td>0</td>\n",
       "      <td>F</td>\n",
       "      <td>employee</td>\n",
       "      <td>0</td>\n",
       "      <td>NaN</td>\n",
       "      <td>purchase of the house for my family</td>\n",
       "    </tr>\n",
       "    <tr>\n",
       "      <th>1511</th>\n",
       "      <td>0</td>\n",
       "      <td>0.0</td>\n",
       "      <td>58</td>\n",
       "      <td>bachelor's degree</td>\n",
       "      <td>4</td>\n",
       "      <td>unmarried</td>\n",
       "      <td>4</td>\n",
       "      <td>F</td>\n",
       "      <td>retiree</td>\n",
       "      <td>0</td>\n",
       "      <td>NaN</td>\n",
       "      <td>supplementary education</td>\n",
       "    </tr>\n",
       "    <tr>\n",
       "      <th>1681</th>\n",
       "      <td>0</td>\n",
       "      <td>0.0</td>\n",
       "      <td>57</td>\n",
       "      <td>secondary education</td>\n",
       "      <td>2</td>\n",
       "      <td>civil partnership</td>\n",
       "      <td>1</td>\n",
       "      <td>F</td>\n",
       "      <td>retiree</td>\n",
       "      <td>0</td>\n",
       "      <td>NaN</td>\n",
       "      <td>having a wedding</td>\n",
       "    </tr>\n",
       "  </tbody>\n",
       "</table>\n",
       "</div>"
      ],
      "text/plain": [
       "      children  days_employed  dob_years            education  education_id  \\\n",
       "120          0            NaN         46  secondary education             2   \n",
       "520          0            NaN         35  secondary education             2   \n",
       "541          0            NaN         57  secondary education             2   \n",
       "554          0            NaN         60  secondary education             2   \n",
       "680          1            NaN         30    bachelor's degree             4   \n",
       "1005         0            0.0         62  secondary education             2   \n",
       "1191         0            0.0         61  secondary education             2   \n",
       "1431         0            NaN         41  secondary education             2   \n",
       "1511         0            0.0         58    bachelor's degree             4   \n",
       "1681         0            0.0         57  secondary education             2   \n",
       "\n",
       "          family_status  family_status_id gender    income_type  debt  \\\n",
       "120             married                 0      F       employee     0   \n",
       "520   civil partnership                 1      F       employee     0   \n",
       "541             married                 0      F       employee     0   \n",
       "554             married                 0      M       employee     0   \n",
       "680             married                 0      F  civil servant     0   \n",
       "1005            married                 0      F        retiree     0   \n",
       "1191            married                 0      F        retiree     0   \n",
       "1431            married                 0      F       employee     0   \n",
       "1511          unmarried                 4      F        retiree     0   \n",
       "1681  civil partnership                 1      F        retiree     0   \n",
       "\n",
       "      total_income                              purpose  \n",
       "120            NaN                 university education  \n",
       "520            NaN                    to have a wedding  \n",
       "541            NaN             second-hand car purchase  \n",
       "554            NaN                      buy real estate  \n",
       "680            NaN  purchase of the house for my family  \n",
       "1005           NaN                   housing renovation  \n",
       "1191           NaN             real estate transactions  \n",
       "1431           NaN  purchase of the house for my family  \n",
       "1511           NaN              supplementary education  \n",
       "1681           NaN                     having a wedding  "
      ]
     },
     "execution_count": 39,
     "metadata": {},
     "output_type": "execute_result"
    }
   ],
   "source": [
    "#Overview of duplicates\n",
    "credit_score[credit_score.duplicated(keep=False)].head(10)"
   ]
  },
  {
   "cell_type": "code",
   "execution_count": 40,
   "metadata": {},
   "outputs": [
    {
     "data": {
      "text/plain": [
       "0"
      ]
     },
     "execution_count": 40,
     "metadata": {},
     "output_type": "execute_result"
    }
   ],
   "source": [
    "# Address the duplicates, if they exist\n",
    "credit_score = credit_score.drop_duplicates()\n",
    "\n",
    "# Last check whether we have any duplicates\n",
    "credit_score.duplicated().sum()"
   ]
  },
  {
   "cell_type": "code",
   "execution_count": 41,
   "metadata": {},
   "outputs": [
    {
     "name": "stdout",
     "output_type": "stream",
     "text": [
      "<class 'pandas.core.frame.DataFrame'>\n",
      "Int64Index: 21325 entries, 0 to 21524\n",
      "Data columns (total 10 columns):\n",
      " #   Column            Non-Null Count  Dtype   \n",
      "---  ------            --------------  -----   \n",
      " 0   children          21325 non-null  int64   \n",
      " 1   dob_years         21325 non-null  int64   \n",
      " 2   education         21325 non-null  object  \n",
      " 3   education_id      21325 non-null  int64   \n",
      " 4   family_status     21325 non-null  category\n",
      " 5   family_status_id  21325 non-null  int64   \n",
      " 6   gender            21325 non-null  category\n",
      " 7   income_type       21325 non-null  object  \n",
      " 8   debt              21325 non-null  int64   \n",
      " 9   purpose           21325 non-null  object  \n",
      "dtypes: category(2), int64(5), object(3)\n",
      "memory usage: 1.5+ MB\n"
     ]
    }
   ],
   "source": [
    "#To esnure null values are not getting in the way of identifying duplicates, calling duplicated function on table without columns containing null values\n",
    "credit_score_less_col = credit_score.drop(columns=['days_employed', 'total_income'])\n",
    "credit_score_less_col.info()"
   ]
  },
  {
   "cell_type": "code",
   "execution_count": 42,
   "metadata": {},
   "outputs": [
    {
     "data": {
      "text/plain": [
       "3587"
      ]
     },
     "execution_count": 42,
     "metadata": {},
     "output_type": "execute_result"
    }
   ],
   "source": [
    "#Count duplicates\n",
    "credit_score_less_col.duplicated().sum()"
   ]
  },
  {
   "cell_type": "markdown",
   "metadata": {},
   "source": [
    "- There are 3,587 (about 17% ) potential duplicates that are hiding behind null values which is concerning. \n",
    "- However, since there are no unique factors in the other columns, it is conceivable that individuals would have the same entries for the columns available. \n",
    "- In this case, I would request the engineer print additional columns to the dataset to help me identify unique rows, such as date of birth + city (assuming names and social security number would not be available).\n",
    "\n",
    "The new dataset contains 21,401 rows.\n",
    "Since $$\\frac{21325}{21525}>99\\% $$\n",
    "\n",
    "this loss is not concerning. The amount of null values remains the same."
   ]
  },
  {
   "cell_type": "markdown",
   "metadata": {},
   "source": [
    "### Missing values\n",
    "\n",
    "<span style=\"color:teal\">**Total_income**</span>\n"
   ]
  },
  {
   "cell_type": "markdown",
   "metadata": {},
   "source": [
    "**<u>Next steps<u/>:**\n",
    "1. Create an age category for clients which can help with calculating values for the total income."
   ]
  },
  {
   "cell_type": "code",
   "execution_count": 43,
   "metadata": {},
   "outputs": [],
   "source": [
    "# Create a function that calculates the age category. \n",
    "def assign_age_group(dob_years):\n",
    "        \n",
    "    if dob_years < 20:\n",
    "        return 'below 21'\n",
    "    elif dob_years <30:\n",
    "        return '20-29'\n",
    "    elif dob_years <40:\n",
    "        return '30-39'\n",
    "    elif dob_years <50:\n",
    "        return '40-49'\n",
    "    elif dob_years <60:\n",
    "        return '50-59'\n",
    "    elif dob_years <70:\n",
    "        return '60-69'\n",
    "    else:\n",
    "        return '70+'"
   ]
  },
  {
   "cell_type": "code",
   "execution_count": 44,
   "metadata": {},
   "outputs": [
    {
     "name": "stdout",
     "output_type": "stream",
     "text": [
      "function works\n"
     ]
    }
   ],
   "source": [
    "# Test if the function works\n",
    "test1=18\n",
    "test2=34\n",
    "test3=80\n",
    "\n",
    "if assign_age_group(test1)=='below 21' and assign_age_group(test2)=='30-39' and assign_age_group(test3)=='70+':\n",
    "    print(\"function works\")\n",
    "else:\n",
    "    print(\"function flawed\")"
   ]
  },
  {
   "cell_type": "code",
   "execution_count": 45,
   "metadata": {},
   "outputs": [],
   "source": [
    "# Creating new column based on function\n",
    "def assign_age_group(dob_years):\n",
    "        \n",
    "    if dob_years < 20:\n",
    "        return 'below 20'\n",
    "    elif dob_years <30:\n",
    "        return '20-29'\n",
    "    elif dob_years <40:\n",
    "        return '30-39'\n",
    "    elif dob_years <50:\n",
    "        return '40-49'\n",
    "    elif dob_years <60:\n",
    "        return '50-59'\n",
    "    elif dob_years <70:\n",
    "        return '60-69'\n",
    "    else:\n",
    "        return '70+' \n",
    "\n",
    " # Apply function assign_age_group    \n",
    "credit_score['age_group'] = credit_score['dob_years'].apply(assign_age_group)"
   ]
  },
  {
   "cell_type": "code",
   "execution_count": 46,
   "metadata": {},
   "outputs": [
    {
     "data": {
      "text/html": [
       "<div>\n",
       "<style scoped>\n",
       "    .dataframe tbody tr th:only-of-type {\n",
       "        vertical-align: middle;\n",
       "    }\n",
       "\n",
       "    .dataframe tbody tr th {\n",
       "        vertical-align: top;\n",
       "    }\n",
       "\n",
       "    .dataframe thead th {\n",
       "        text-align: right;\n",
       "    }\n",
       "</style>\n",
       "<table border=\"1\" class=\"dataframe\">\n",
       "  <thead>\n",
       "    <tr style=\"text-align: right;\">\n",
       "      <th></th>\n",
       "      <th>children</th>\n",
       "      <th>days_employed</th>\n",
       "      <th>dob_years</th>\n",
       "      <th>education</th>\n",
       "      <th>education_id</th>\n",
       "      <th>family_status</th>\n",
       "      <th>family_status_id</th>\n",
       "      <th>gender</th>\n",
       "      <th>income_type</th>\n",
       "      <th>debt</th>\n",
       "      <th>total_income</th>\n",
       "      <th>purpose</th>\n",
       "      <th>age_group</th>\n",
       "    </tr>\n",
       "  </thead>\n",
       "  <tbody>\n",
       "    <tr>\n",
       "      <th>0</th>\n",
       "      <td>1</td>\n",
       "      <td>-8437.673028</td>\n",
       "      <td>42</td>\n",
       "      <td>bachelor's degree</td>\n",
       "      <td>4</td>\n",
       "      <td>married</td>\n",
       "      <td>0</td>\n",
       "      <td>F</td>\n",
       "      <td>employee</td>\n",
       "      <td>0</td>\n",
       "      <td>40620.102</td>\n",
       "      <td>purchase of the house</td>\n",
       "      <td>40-49</td>\n",
       "    </tr>\n",
       "    <tr>\n",
       "      <th>1</th>\n",
       "      <td>1</td>\n",
       "      <td>-4024.803754</td>\n",
       "      <td>36</td>\n",
       "      <td>secondary education</td>\n",
       "      <td>2</td>\n",
       "      <td>married</td>\n",
       "      <td>0</td>\n",
       "      <td>F</td>\n",
       "      <td>employee</td>\n",
       "      <td>0</td>\n",
       "      <td>17932.802</td>\n",
       "      <td>car purchase</td>\n",
       "      <td>30-39</td>\n",
       "    </tr>\n",
       "    <tr>\n",
       "      <th>2</th>\n",
       "      <td>0</td>\n",
       "      <td>-5623.422610</td>\n",
       "      <td>33</td>\n",
       "      <td>secondary education</td>\n",
       "      <td>2</td>\n",
       "      <td>married</td>\n",
       "      <td>0</td>\n",
       "      <td>M</td>\n",
       "      <td>employee</td>\n",
       "      <td>0</td>\n",
       "      <td>23341.752</td>\n",
       "      <td>purchase of the house</td>\n",
       "      <td>30-39</td>\n",
       "    </tr>\n",
       "    <tr>\n",
       "      <th>3</th>\n",
       "      <td>3</td>\n",
       "      <td>-4124.747207</td>\n",
       "      <td>32</td>\n",
       "      <td>secondary education</td>\n",
       "      <td>2</td>\n",
       "      <td>married</td>\n",
       "      <td>0</td>\n",
       "      <td>M</td>\n",
       "      <td>employee</td>\n",
       "      <td>0</td>\n",
       "      <td>42820.568</td>\n",
       "      <td>supplementary education</td>\n",
       "      <td>30-39</td>\n",
       "    </tr>\n",
       "    <tr>\n",
       "      <th>4</th>\n",
       "      <td>0</td>\n",
       "      <td>0.000000</td>\n",
       "      <td>53</td>\n",
       "      <td>secondary education</td>\n",
       "      <td>2</td>\n",
       "      <td>civil partnership</td>\n",
       "      <td>1</td>\n",
       "      <td>F</td>\n",
       "      <td>retiree</td>\n",
       "      <td>0</td>\n",
       "      <td>25378.572</td>\n",
       "      <td>to have a wedding</td>\n",
       "      <td>50-59</td>\n",
       "    </tr>\n",
       "    <tr>\n",
       "      <th>5</th>\n",
       "      <td>0</td>\n",
       "      <td>-926.185831</td>\n",
       "      <td>27</td>\n",
       "      <td>bachelor's degree</td>\n",
       "      <td>4</td>\n",
       "      <td>civil partnership</td>\n",
       "      <td>1</td>\n",
       "      <td>M</td>\n",
       "      <td>business</td>\n",
       "      <td>0</td>\n",
       "      <td>40922.170</td>\n",
       "      <td>purchase of the house</td>\n",
       "      <td>20-29</td>\n",
       "    </tr>\n",
       "    <tr>\n",
       "      <th>6</th>\n",
       "      <td>0</td>\n",
       "      <td>-2879.202052</td>\n",
       "      <td>43</td>\n",
       "      <td>bachelor's degree</td>\n",
       "      <td>4</td>\n",
       "      <td>married</td>\n",
       "      <td>0</td>\n",
       "      <td>F</td>\n",
       "      <td>business</td>\n",
       "      <td>0</td>\n",
       "      <td>38484.156</td>\n",
       "      <td>housing transactions</td>\n",
       "      <td>40-49</td>\n",
       "    </tr>\n",
       "    <tr>\n",
       "      <th>7</th>\n",
       "      <td>0</td>\n",
       "      <td>-152.779569</td>\n",
       "      <td>50</td>\n",
       "      <td>secondary education</td>\n",
       "      <td>2</td>\n",
       "      <td>married</td>\n",
       "      <td>0</td>\n",
       "      <td>M</td>\n",
       "      <td>employee</td>\n",
       "      <td>0</td>\n",
       "      <td>21731.829</td>\n",
       "      <td>education</td>\n",
       "      <td>50-59</td>\n",
       "    </tr>\n",
       "    <tr>\n",
       "      <th>8</th>\n",
       "      <td>2</td>\n",
       "      <td>-6929.865299</td>\n",
       "      <td>35</td>\n",
       "      <td>bachelor's degree</td>\n",
       "      <td>4</td>\n",
       "      <td>civil partnership</td>\n",
       "      <td>1</td>\n",
       "      <td>F</td>\n",
       "      <td>employee</td>\n",
       "      <td>0</td>\n",
       "      <td>15337.093</td>\n",
       "      <td>having a wedding</td>\n",
       "      <td>30-39</td>\n",
       "    </tr>\n",
       "    <tr>\n",
       "      <th>9</th>\n",
       "      <td>0</td>\n",
       "      <td>-2188.756445</td>\n",
       "      <td>41</td>\n",
       "      <td>secondary education</td>\n",
       "      <td>2</td>\n",
       "      <td>married</td>\n",
       "      <td>0</td>\n",
       "      <td>M</td>\n",
       "      <td>employee</td>\n",
       "      <td>0</td>\n",
       "      <td>23108.150</td>\n",
       "      <td>purchase of the house for my family</td>\n",
       "      <td>40-49</td>\n",
       "    </tr>\n",
       "  </tbody>\n",
       "</table>\n",
       "</div>"
      ],
      "text/plain": [
       "   children  days_employed  dob_years            education  education_id  \\\n",
       "0         1   -8437.673028         42    bachelor's degree             4   \n",
       "1         1   -4024.803754         36  secondary education             2   \n",
       "2         0   -5623.422610         33  secondary education             2   \n",
       "3         3   -4124.747207         32  secondary education             2   \n",
       "4         0       0.000000         53  secondary education             2   \n",
       "5         0    -926.185831         27    bachelor's degree             4   \n",
       "6         0   -2879.202052         43    bachelor's degree             4   \n",
       "7         0    -152.779569         50  secondary education             2   \n",
       "8         2   -6929.865299         35    bachelor's degree             4   \n",
       "9         0   -2188.756445         41  secondary education             2   \n",
       "\n",
       "       family_status  family_status_id gender income_type  debt  total_income  \\\n",
       "0            married                 0      F    employee     0     40620.102   \n",
       "1            married                 0      F    employee     0     17932.802   \n",
       "2            married                 0      M    employee     0     23341.752   \n",
       "3            married                 0      M    employee     0     42820.568   \n",
       "4  civil partnership                 1      F     retiree     0     25378.572   \n",
       "5  civil partnership                 1      M    business     0     40922.170   \n",
       "6            married                 0      F    business     0     38484.156   \n",
       "7            married                 0      M    employee     0     21731.829   \n",
       "8  civil partnership                 1      F    employee     0     15337.093   \n",
       "9            married                 0      M    employee     0     23108.150   \n",
       "\n",
       "                               purpose age_group  \n",
       "0                purchase of the house     40-49  \n",
       "1                         car purchase     30-39  \n",
       "2                purchase of the house     30-39  \n",
       "3              supplementary education     30-39  \n",
       "4                    to have a wedding     50-59  \n",
       "5                purchase of the house     20-29  \n",
       "6                 housing transactions     40-49  \n",
       "7                            education     50-59  \n",
       "8                     having a wedding     30-39  \n",
       "9  purchase of the house for my family     40-49  "
      ]
     },
     "execution_count": 46,
     "metadata": {},
     "output_type": "execute_result"
    }
   ],
   "source": [
    "# Checking how values in the new column\n",
    "credit_score.head(10)"
   ]
  },
  {
   "cell_type": "code",
   "execution_count": 47,
   "metadata": {},
   "outputs": [
    {
     "data": {
      "text/html": [
       "<div>\n",
       "<style scoped>\n",
       "    .dataframe tbody tr th:only-of-type {\n",
       "        vertical-align: middle;\n",
       "    }\n",
       "\n",
       "    .dataframe tbody tr th {\n",
       "        vertical-align: top;\n",
       "    }\n",
       "\n",
       "    .dataframe thead th {\n",
       "        text-align: right;\n",
       "    }\n",
       "</style>\n",
       "<table border=\"1\" class=\"dataframe\">\n",
       "  <thead>\n",
       "    <tr style=\"text-align: right;\">\n",
       "      <th></th>\n",
       "      <th>total_income</th>\n",
       "    </tr>\n",
       "    <tr>\n",
       "      <th>income_type</th>\n",
       "      <th></th>\n",
       "    </tr>\n",
       "  </thead>\n",
       "  <tbody>\n",
       "    <tr>\n",
       "      <th>business</th>\n",
       "      <td>32413.731796</td>\n",
       "    </tr>\n",
       "    <tr>\n",
       "      <th>civil servant</th>\n",
       "      <td>27318.902910</td>\n",
       "    </tr>\n",
       "    <tr>\n",
       "      <th>employee</th>\n",
       "      <td>25818.401986</td>\n",
       "    </tr>\n",
       "    <tr>\n",
       "      <th>retiree</th>\n",
       "      <td>21951.754892</td>\n",
       "    </tr>\n",
       "    <tr>\n",
       "      <th>All</th>\n",
       "      <td>26791.168945</td>\n",
       "    </tr>\n",
       "  </tbody>\n",
       "</table>\n",
       "</div>"
      ],
      "text/plain": [
       "               total_income\n",
       "income_type                \n",
       "business       32413.731796\n",
       "civil servant  27318.902910\n",
       "employee       25818.401986\n",
       "retiree        21951.754892\n",
       "All            26791.168945"
      ]
     },
     "execution_count": 47,
     "metadata": {},
     "output_type": "execute_result"
    }
   ],
   "source": [
    "# Look at the mean values for income based on type\n",
    "credit_score.pivot_table(index='income_type', \n",
    "                         values='total_income', \n",
    "                         aggfunc='mean', \n",
    "                         margins=True) "
   ]
  },
  {
   "cell_type": "code",
   "execution_count": 48,
   "metadata": {},
   "outputs": [
    {
     "data": {
      "text/html": [
       "<div>\n",
       "<style scoped>\n",
       "    .dataframe tbody tr th:only-of-type {\n",
       "        vertical-align: middle;\n",
       "    }\n",
       "\n",
       "    .dataframe tbody tr th {\n",
       "        vertical-align: top;\n",
       "    }\n",
       "\n",
       "    .dataframe thead th {\n",
       "        text-align: right;\n",
       "    }\n",
       "</style>\n",
       "<table border=\"1\" class=\"dataframe\">\n",
       "  <thead>\n",
       "    <tr style=\"text-align: right;\">\n",
       "      <th></th>\n",
       "      <th>total_income</th>\n",
       "    </tr>\n",
       "    <tr>\n",
       "      <th>income_type</th>\n",
       "      <th></th>\n",
       "    </tr>\n",
       "  </thead>\n",
       "  <tbody>\n",
       "    <tr>\n",
       "      <th>business</th>\n",
       "      <td>27602.7875</td>\n",
       "    </tr>\n",
       "    <tr>\n",
       "      <th>civil servant</th>\n",
       "      <td>24067.2240</td>\n",
       "    </tr>\n",
       "    <tr>\n",
       "      <th>employee</th>\n",
       "      <td>22814.0140</td>\n",
       "    </tr>\n",
       "    <tr>\n",
       "      <th>retiree</th>\n",
       "      <td>18956.9340</td>\n",
       "    </tr>\n",
       "    <tr>\n",
       "      <th>All</th>\n",
       "      <td>23203.7860</td>\n",
       "    </tr>\n",
       "  </tbody>\n",
       "</table>\n",
       "</div>"
      ],
      "text/plain": [
       "               total_income\n",
       "income_type                \n",
       "business         27602.7875\n",
       "civil servant    24067.2240\n",
       "employee         22814.0140\n",
       "retiree          18956.9340\n",
       "All              23203.7860"
      ]
     },
     "execution_count": 48,
     "metadata": {},
     "output_type": "execute_result"
    }
   ],
   "source": [
    "# Look at the median values for income based on type\n",
    "credit_score.pivot_table(index='income_type', \n",
    "                         values='total_income', \n",
    "                         aggfunc='median', \n",
    "                         margins=True)"
   ]
  },
  {
   "cell_type": "markdown",
   "metadata": {},
   "source": [
    "NOTE: I am hesitant to replace the total_income for all retirees with 0 (as was done with days_employed) because while some may be getting a pension, these values may also be from prior to retirement."
   ]
  },
  {
   "cell_type": "code",
   "execution_count": 49,
   "metadata": {},
   "outputs": [
    {
     "data": {
      "image/png": "[encoded data removed]",
      "text/plain": [
       "<Figure size 432x288 with 1 Axes>"
      ]
     },
     "metadata": {
      "needs_background": "light"
     },
     "output_type": "display_data"
    }
   ],
   "source": [
    "#checking correlation between age-group and total_income, with eliminating outliers.\n",
    "sns.boxplot(x=\"age_group\", \n",
    "            y=\"total_income\", \n",
    "            data=credit_score, \n",
    "            showfliers = False)\n",
    "plt.title('Age Group vs Total Income (with outliers)', \n",
    "          fontsize=15);"
   ]
  },
  {
   "cell_type": "code",
   "execution_count": 50,
   "metadata": {},
   "outputs": [
    {
     "data": {
      "image/png": "[encoded data removed]",
      "text/plain": [
       "<Figure size 432x288 with 1 Axes>"
      ]
     },
     "metadata": {
      "needs_background": "light"
     },
     "output_type": "display_data"
    }
   ],
   "source": [
    "#Checking correlation between age-group and total_income, with eliminating outliers.\n",
    "sns.boxplot(x=\"education_id\", \n",
    "            y=\"total_income\", \n",
    "            data=credit_score, \n",
    "            showfliers = False)\n",
    "\n",
    "plt.title('Age Group vs Total Income (without outliers)', \n",
    "          fontsize=15);"
   ]
  },
  {
   "cell_type": "code",
   "execution_count": 51,
   "metadata": {},
   "outputs": [
    {
     "data": {
      "text/plain": [
       "array(['employee', 'retiree', 'business', 'civil servant'], dtype=object)"
      ]
     },
     "execution_count": 51,
     "metadata": {},
     "output_type": "execute_result"
    }
   ],
   "source": [
    "credit_score['income_type'].unique()"
   ]
  },
  {
   "cell_type": "code",
   "execution_count": 52,
   "metadata": {},
   "outputs": [
    {
     "data": {
      "image/png": "[encoded data removed]",
      "text/plain": [
       "<Figure size 432x288 with 1 Axes>"
      ]
     },
     "metadata": {
      "needs_background": "light"
     },
     "output_type": "display_data"
    }
   ],
   "source": [
    "#Checking correlation between income_type and total_income, without eliminating outliers.\n",
    "sns.boxplot(x=\"income_type\", \n",
    "            y=\"total_income\", \n",
    "            data=credit_score)\n",
    "\n",
    "plt.xticks(rotation=45)\n",
    "plt.title('Income Type vs Total Income (with outliers)', \n",
    "          fontsize=15);"
   ]
  },
  {
   "cell_type": "code",
   "execution_count": 53,
   "metadata": {
    "scrolled": false
   },
   "outputs": [
    {
     "data": {
      "image/png": "[encoded data removed]",
      "text/plain": [
       "<Figure size 432x288 with 1 Axes>"
      ]
     },
     "metadata": {
      "needs_background": "light"
     },
     "output_type": "display_data"
    }
   ],
   "source": [
    "#change paternity/maternity leave to be 'parental leave' so neater in graph\n",
    "\n",
    "#Checking correlation between income_type and total_income, with eliminating outliers.\n",
    "sns.boxplot(x=\"income_type\", \n",
    "            y=\"total_income\", \n",
    "            data=credit_score, \n",
    "            showfliers = False)\n",
    "\n",
    "plt.xticks(rotation=45)\n",
    "plt.title('Income Type vs Total Income (with outliers)', \n",
    "          fontsize=15);"
   ]
  },
  {
   "cell_type": "markdown",
   "metadata": {},
   "source": [
    "- Due to substantial number of outliers, mean is not a good indicator and median will be used.\n",
    "\n",
    "**<u>Next steps</u>:**\n",
    "1. Calculate median for each combination of education and income_type.\n",
    "2. Calculate median for each combination of age_group and income_type.\n",
    "2. Calculate median for each combination of age_group and education."
   ]
  },
  {
   "cell_type": "code",
   "execution_count": 54,
   "metadata": {},
   "outputs": [
    {
     "data": {
      "text/html": [
       "<div>\n",
       "<style scoped>\n",
       "    .dataframe tbody tr th:only-of-type {\n",
       "        vertical-align: middle;\n",
       "    }\n",
       "\n",
       "    .dataframe tbody tr th {\n",
       "        vertical-align: top;\n",
       "    }\n",
       "\n",
       "    .dataframe thead th {\n",
       "        text-align: right;\n",
       "    }\n",
       "</style>\n",
       "<table border=\"1\" class=\"dataframe\">\n",
       "  <thead>\n",
       "    <tr style=\"text-align: right;\">\n",
       "      <th>education_id</th>\n",
       "      <th>1</th>\n",
       "      <th>2</th>\n",
       "      <th>3</th>\n",
       "      <th>4</th>\n",
       "      <th>5</th>\n",
       "      <th>All</th>\n",
       "    </tr>\n",
       "    <tr>\n",
       "      <th>income_type</th>\n",
       "      <th></th>\n",
       "      <th></th>\n",
       "      <th></th>\n",
       "      <th></th>\n",
       "      <th></th>\n",
       "      <th></th>\n",
       "    </tr>\n",
       "  </thead>\n",
       "  <tbody>\n",
       "    <tr>\n",
       "      <th>business</th>\n",
       "      <td>21887.825</td>\n",
       "      <td>25446.2700</td>\n",
       "      <td>28790.004</td>\n",
       "      <td>32305.8750</td>\n",
       "      <td>NaN</td>\n",
       "      <td>27602.7875</td>\n",
       "    </tr>\n",
       "    <tr>\n",
       "      <th>civil servant</th>\n",
       "      <td>23734.287</td>\n",
       "      <td>21847.7850</td>\n",
       "      <td>25694.775</td>\n",
       "      <td>27564.4590</td>\n",
       "      <td>17822.7570</td>\n",
       "      <td>24067.2240</td>\n",
       "    </tr>\n",
       "    <tr>\n",
       "      <th>employee</th>\n",
       "      <td>20159.186</td>\n",
       "      <td>21839.4075</td>\n",
       "      <td>24209.430</td>\n",
       "      <td>26578.8775</td>\n",
       "      <td>31771.3210</td>\n",
       "      <td>22814.0140</td>\n",
       "    </tr>\n",
       "    <tr>\n",
       "      <th>retiree</th>\n",
       "      <td>16415.785</td>\n",
       "      <td>18370.6715</td>\n",
       "      <td>19221.903</td>\n",
       "      <td>23030.2470</td>\n",
       "      <td>28334.2150</td>\n",
       "      <td>18956.9340</td>\n",
       "    </tr>\n",
       "    <tr>\n",
       "      <th>All</th>\n",
       "      <td>18741.976</td>\n",
       "      <td>21830.2500</td>\n",
       "      <td>25664.181</td>\n",
       "      <td>28086.3810</td>\n",
       "      <td>25161.5835</td>\n",
       "      <td>23203.7860</td>\n",
       "    </tr>\n",
       "  </tbody>\n",
       "</table>\n",
       "</div>"
      ],
      "text/plain": [
       "education_id           1           2          3           4           5  \\\n",
       "income_type                                                               \n",
       "business       21887.825  25446.2700  28790.004  32305.8750         NaN   \n",
       "civil servant  23734.287  21847.7850  25694.775  27564.4590  17822.7570   \n",
       "employee       20159.186  21839.4075  24209.430  26578.8775  31771.3210   \n",
       "retiree        16415.785  18370.6715  19221.903  23030.2470  28334.2150   \n",
       "All            18741.976  21830.2500  25664.181  28086.3810  25161.5835   \n",
       "\n",
       "education_id          All  \n",
       "income_type                \n",
       "business       27602.7875  \n",
       "civil servant  24067.2240  \n",
       "employee       22814.0140  \n",
       "retiree        18956.9340  \n",
       "All            23203.7860  "
      ]
     },
     "execution_count": 54,
     "metadata": {},
     "output_type": "execute_result"
    }
   ],
   "source": [
    "credit_score.pivot_table(index='income_type', \n",
    "                         columns='education_id', \n",
    "                         values='total_income', \n",
    "                         aggfunc='median', \n",
    "                         margins=True) "
   ]
  },
  {
   "cell_type": "code",
   "execution_count": 55,
   "metadata": {},
   "outputs": [
    {
     "data": {
      "text/html": [
       "<div>\n",
       "<style scoped>\n",
       "    .dataframe tbody tr th:only-of-type {\n",
       "        vertical-align: middle;\n",
       "    }\n",
       "\n",
       "    .dataframe tbody tr th {\n",
       "        vertical-align: top;\n",
       "    }\n",
       "\n",
       "    .dataframe thead th {\n",
       "        text-align: right;\n",
       "    }\n",
       "</style>\n",
       "<table border=\"1\" class=\"dataframe\">\n",
       "  <thead>\n",
       "    <tr style=\"text-align: right;\">\n",
       "      <th>age_group</th>\n",
       "      <th>20-29</th>\n",
       "      <th>30-39</th>\n",
       "      <th>40-49</th>\n",
       "      <th>50-59</th>\n",
       "      <th>60-69</th>\n",
       "      <th>70+</th>\n",
       "      <th>below 20</th>\n",
       "      <th>All</th>\n",
       "    </tr>\n",
       "    <tr>\n",
       "      <th>income_type</th>\n",
       "      <th></th>\n",
       "      <th></th>\n",
       "      <th></th>\n",
       "      <th></th>\n",
       "      <th></th>\n",
       "      <th></th>\n",
       "      <th></th>\n",
       "      <th></th>\n",
       "    </tr>\n",
       "  </thead>\n",
       "  <tbody>\n",
       "    <tr>\n",
       "      <th>business</th>\n",
       "      <td>25651.7930</td>\n",
       "      <td>28764.2590</td>\n",
       "      <td>28701.2180</td>\n",
       "      <td>27348.5870</td>\n",
       "      <td>29171.9890</td>\n",
       "      <td>28138.895</td>\n",
       "      <td>19321.445</td>\n",
       "      <td>27602.7875</td>\n",
       "    </tr>\n",
       "    <tr>\n",
       "      <th>civil servant</th>\n",
       "      <td>23611.6970</td>\n",
       "      <td>24653.6400</td>\n",
       "      <td>24747.1395</td>\n",
       "      <td>23158.6890</td>\n",
       "      <td>23390.0570</td>\n",
       "      <td>24525.224</td>\n",
       "      <td>12125.986</td>\n",
       "      <td>24067.2240</td>\n",
       "    </tr>\n",
       "    <tr>\n",
       "      <th>employee</th>\n",
       "      <td>21588.7985</td>\n",
       "      <td>23226.5690</td>\n",
       "      <td>23126.2980</td>\n",
       "      <td>22504.9395</td>\n",
       "      <td>23188.1785</td>\n",
       "      <td>24660.901</td>\n",
       "      <td>14575.717</td>\n",
       "      <td>22814.0140</td>\n",
       "    </tr>\n",
       "    <tr>\n",
       "      <th>retiree</th>\n",
       "      <td>13553.0235</td>\n",
       "      <td>18735.7160</td>\n",
       "      <td>22262.3090</td>\n",
       "      <td>19526.2050</td>\n",
       "      <td>18425.4360</td>\n",
       "      <td>17650.466</td>\n",
       "      <td>NaN</td>\n",
       "      <td>18956.9340</td>\n",
       "    </tr>\n",
       "    <tr>\n",
       "      <th>All</th>\n",
       "      <td>22807.0365</td>\n",
       "      <td>24709.4735</td>\n",
       "      <td>24768.1370</td>\n",
       "      <td>22195.8470</td>\n",
       "      <td>19811.3260</td>\n",
       "      <td>18751.324</td>\n",
       "      <td>14934.901</td>\n",
       "      <td>23203.7860</td>\n",
       "    </tr>\n",
       "  </tbody>\n",
       "</table>\n",
       "</div>"
      ],
      "text/plain": [
       "age_group           20-29       30-39       40-49       50-59       60-69  \\\n",
       "income_type                                                                 \n",
       "business       25651.7930  28764.2590  28701.2180  27348.5870  29171.9890   \n",
       "civil servant  23611.6970  24653.6400  24747.1395  23158.6890  23390.0570   \n",
       "employee       21588.7985  23226.5690  23126.2980  22504.9395  23188.1785   \n",
       "retiree        13553.0235  18735.7160  22262.3090  19526.2050  18425.4360   \n",
       "All            22807.0365  24709.4735  24768.1370  22195.8470  19811.3260   \n",
       "\n",
       "age_group            70+   below 20         All  \n",
       "income_type                                      \n",
       "business       28138.895  19321.445  27602.7875  \n",
       "civil servant  24525.224  12125.986  24067.2240  \n",
       "employee       24660.901  14575.717  22814.0140  \n",
       "retiree        17650.466        NaN  18956.9340  \n",
       "All            18751.324  14934.901  23203.7860  "
      ]
     },
     "execution_count": 55,
     "metadata": {},
     "output_type": "execute_result"
    }
   ],
   "source": [
    "credit_score.pivot_table(index='income_type', \n",
    "                         columns='age_group', \n",
    "                         values='total_income', \n",
    "                         aggfunc='median', \n",
    "                         margins=True) "
   ]
  },
  {
   "cell_type": "code",
   "execution_count": 56,
   "metadata": {},
   "outputs": [
    {
     "data": {
      "text/html": [
       "<div>\n",
       "<style scoped>\n",
       "    .dataframe tbody tr th:only-of-type {\n",
       "        vertical-align: middle;\n",
       "    }\n",
       "\n",
       "    .dataframe tbody tr th {\n",
       "        vertical-align: top;\n",
       "    }\n",
       "\n",
       "    .dataframe thead th {\n",
       "        text-align: right;\n",
       "    }\n",
       "</style>\n",
       "<table border=\"1\" class=\"dataframe\">\n",
       "  <thead>\n",
       "    <tr style=\"text-align: right;\">\n",
       "      <th>age_group</th>\n",
       "      <th>20-29</th>\n",
       "      <th>30-39</th>\n",
       "      <th>40-49</th>\n",
       "      <th>50-59</th>\n",
       "      <th>60-69</th>\n",
       "      <th>70+</th>\n",
       "      <th>below 20</th>\n",
       "      <th>All</th>\n",
       "    </tr>\n",
       "    <tr>\n",
       "      <th>education_id</th>\n",
       "      <th></th>\n",
       "      <th></th>\n",
       "      <th></th>\n",
       "      <th></th>\n",
       "      <th></th>\n",
       "      <th></th>\n",
       "      <th></th>\n",
       "      <th></th>\n",
       "    </tr>\n",
       "  </thead>\n",
       "  <tbody>\n",
       "    <tr>\n",
       "      <th>1</th>\n",
       "      <td>25488.9160</td>\n",
       "      <td>19542.3265</td>\n",
       "      <td>21511.5635</td>\n",
       "      <td>16922.6250</td>\n",
       "      <td>17657.4995</td>\n",
       "      <td>15013.505</td>\n",
       "      <td>NaN</td>\n",
       "      <td>18741.9760</td>\n",
       "    </tr>\n",
       "    <tr>\n",
       "      <th>2</th>\n",
       "      <td>21176.7800</td>\n",
       "      <td>22907.8415</td>\n",
       "      <td>22960.5920</td>\n",
       "      <td>21220.5350</td>\n",
       "      <td>18873.7640</td>\n",
       "      <td>18508.577</td>\n",
       "      <td>15761.569</td>\n",
       "      <td>21830.2500</td>\n",
       "    </tr>\n",
       "    <tr>\n",
       "      <th>3</th>\n",
       "      <td>22709.1490</td>\n",
       "      <td>28470.6140</td>\n",
       "      <td>29323.6730</td>\n",
       "      <td>21132.3090</td>\n",
       "      <td>28058.6760</td>\n",
       "      <td>14479.193</td>\n",
       "      <td>14575.717</td>\n",
       "      <td>25664.1810</td>\n",
       "    </tr>\n",
       "    <tr>\n",
       "      <th>4</th>\n",
       "      <td>25956.1640</td>\n",
       "      <td>28847.4385</td>\n",
       "      <td>30100.7975</td>\n",
       "      <td>28152.1765</td>\n",
       "      <td>25195.1730</td>\n",
       "      <td>25497.392</td>\n",
       "      <td>NaN</td>\n",
       "      <td>28086.3810</td>\n",
       "    </tr>\n",
       "    <tr>\n",
       "      <th>5</th>\n",
       "      <td>NaN</td>\n",
       "      <td>18187.3015</td>\n",
       "      <td>31771.3210</td>\n",
       "      <td>42945.7940</td>\n",
       "      <td>28334.2150</td>\n",
       "      <td>NaN</td>\n",
       "      <td>NaN</td>\n",
       "      <td>25161.5835</td>\n",
       "    </tr>\n",
       "    <tr>\n",
       "      <th>All</th>\n",
       "      <td>22807.0365</td>\n",
       "      <td>24709.4735</td>\n",
       "      <td>24768.1370</td>\n",
       "      <td>22195.8470</td>\n",
       "      <td>19811.3260</td>\n",
       "      <td>18751.324</td>\n",
       "      <td>14934.901</td>\n",
       "      <td>23203.7860</td>\n",
       "    </tr>\n",
       "  </tbody>\n",
       "</table>\n",
       "</div>"
      ],
      "text/plain": [
       "age_group          20-29       30-39       40-49       50-59       60-69  \\\n",
       "education_id                                                               \n",
       "1             25488.9160  19542.3265  21511.5635  16922.6250  17657.4995   \n",
       "2             21176.7800  22907.8415  22960.5920  21220.5350  18873.7640   \n",
       "3             22709.1490  28470.6140  29323.6730  21132.3090  28058.6760   \n",
       "4             25956.1640  28847.4385  30100.7975  28152.1765  25195.1730   \n",
       "5                    NaN  18187.3015  31771.3210  42945.7940  28334.2150   \n",
       "All           22807.0365  24709.4735  24768.1370  22195.8470  19811.3260   \n",
       "\n",
       "age_group           70+   below 20         All  \n",
       "education_id                                    \n",
       "1             15013.505        NaN  18741.9760  \n",
       "2             18508.577  15761.569  21830.2500  \n",
       "3             14479.193  14575.717  25664.1810  \n",
       "4             25497.392        NaN  28086.3810  \n",
       "5                   NaN        NaN  25161.5835  \n",
       "All           18751.324  14934.901  23203.7860  "
      ]
     },
     "execution_count": 56,
     "metadata": {},
     "output_type": "execute_result"
    }
   ],
   "source": [
    "credit_score.pivot_table(index='education_id', \n",
    "                         columns='age_group', \n",
    "                         values='total_income', \n",
    "                         aggfunc='median', \n",
    "                         margins=True) "
   ]
  },
  {
   "cell_type": "markdown",
   "metadata": {},
   "source": [
    "- TOTAL INCOME:\n",
    "    - Age_group and total_income appear to be positively correlated, but not substantially. \n",
    "    - Education and total_income appear to be positively correlated as well, but not substantially (and clients with a bachelor degree having a slightly higher total_income than those with a graduate degree which is counter intuitive). \n",
    "    - For income_type, business has the highest level income, followed by civil servant, and employee. <br> \n",
    "<br>\n",
    "- AGE:\n",
    "    - Customer age adds some understanding to the total income. \n",
    "        - For example, the oddity of bachelor's degree having an overall higher income than graduate can be explained when broken down by age: people often study for their graduate degrees in their 30s, which is why the income is lower than any other age group for this category. \n",
    "    - Also, age helps to understand the difference between civil servant and employee with the 2 starting off similar at younger ages and ending at civil servants having higher income in the final age group, possibly because of pre-determined gradual increases in pay for civil servants and pensions. <br>\n",
    "<br>\n",
    "- All in all, it seems that education_id and age-group contribute the most value to understanding total_income.\n",
    "\n",
    "**<u>Next steps</u>:**\n",
    "1. Use education and age_group grouped to populate the missing values for total_income. "
   ]
  },
  {
   "cell_type": "code",
   "execution_count": 57,
   "metadata": {},
   "outputs": [
    {
     "data": {
      "text/html": [
       "<div>\n",
       "<style scoped>\n",
       "    .dataframe tbody tr th:only-of-type {\n",
       "        vertical-align: middle;\n",
       "    }\n",
       "\n",
       "    .dataframe tbody tr th {\n",
       "        vertical-align: top;\n",
       "    }\n",
       "\n",
       "    .dataframe thead th {\n",
       "        text-align: right;\n",
       "    }\n",
       "</style>\n",
       "<table border=\"1\" class=\"dataframe\">\n",
       "  <thead>\n",
       "    <tr style=\"text-align: right;\">\n",
       "      <th></th>\n",
       "      <th>children</th>\n",
       "      <th>days_employed</th>\n",
       "      <th>dob_years</th>\n",
       "      <th>education</th>\n",
       "      <th>education_id</th>\n",
       "      <th>family_status</th>\n",
       "      <th>family_status_id</th>\n",
       "      <th>gender</th>\n",
       "      <th>income_type</th>\n",
       "      <th>debt</th>\n",
       "      <th>total_income</th>\n",
       "      <th>purpose</th>\n",
       "      <th>age_group</th>\n",
       "      <th>new_income</th>\n",
       "    </tr>\n",
       "  </thead>\n",
       "  <tbody>\n",
       "    <tr>\n",
       "      <th>12</th>\n",
       "      <td>0</td>\n",
       "      <td>0.0</td>\n",
       "      <td>65</td>\n",
       "      <td>secondary education</td>\n",
       "      <td>2</td>\n",
       "      <td>civil partnership</td>\n",
       "      <td>1</td>\n",
       "      <td>M</td>\n",
       "      <td>retiree</td>\n",
       "      <td>0</td>\n",
       "      <td>NaN</td>\n",
       "      <td>to have a wedding</td>\n",
       "      <td>60-69</td>\n",
       "      <td>18873</td>\n",
       "    </tr>\n",
       "    <tr>\n",
       "      <th>26</th>\n",
       "      <td>0</td>\n",
       "      <td>NaN</td>\n",
       "      <td>41</td>\n",
       "      <td>secondary education</td>\n",
       "      <td>2</td>\n",
       "      <td>married</td>\n",
       "      <td>0</td>\n",
       "      <td>M</td>\n",
       "      <td>civil servant</td>\n",
       "      <td>0</td>\n",
       "      <td>NaN</td>\n",
       "      <td>education</td>\n",
       "      <td>40-49</td>\n",
       "      <td>22960</td>\n",
       "    </tr>\n",
       "    <tr>\n",
       "      <th>29</th>\n",
       "      <td>0</td>\n",
       "      <td>0.0</td>\n",
       "      <td>63</td>\n",
       "      <td>secondary education</td>\n",
       "      <td>2</td>\n",
       "      <td>unmarried</td>\n",
       "      <td>4</td>\n",
       "      <td>F</td>\n",
       "      <td>retiree</td>\n",
       "      <td>0</td>\n",
       "      <td>NaN</td>\n",
       "      <td>building a real estate</td>\n",
       "      <td>60-69</td>\n",
       "      <td>18873</td>\n",
       "    </tr>\n",
       "    <tr>\n",
       "      <th>41</th>\n",
       "      <td>0</td>\n",
       "      <td>NaN</td>\n",
       "      <td>50</td>\n",
       "      <td>secondary education</td>\n",
       "      <td>2</td>\n",
       "      <td>married</td>\n",
       "      <td>0</td>\n",
       "      <td>F</td>\n",
       "      <td>civil servant</td>\n",
       "      <td>0</td>\n",
       "      <td>NaN</td>\n",
       "      <td>second-hand car purchase</td>\n",
       "      <td>50-59</td>\n",
       "      <td>21220</td>\n",
       "    </tr>\n",
       "    <tr>\n",
       "      <th>55</th>\n",
       "      <td>0</td>\n",
       "      <td>0.0</td>\n",
       "      <td>54</td>\n",
       "      <td>secondary education</td>\n",
       "      <td>2</td>\n",
       "      <td>civil partnership</td>\n",
       "      <td>1</td>\n",
       "      <td>F</td>\n",
       "      <td>retiree</td>\n",
       "      <td>1</td>\n",
       "      <td>NaN</td>\n",
       "      <td>to have a wedding</td>\n",
       "      <td>50-59</td>\n",
       "      <td>21220</td>\n",
       "    </tr>\n",
       "  </tbody>\n",
       "</table>\n",
       "</div>"
      ],
      "text/plain": [
       "    children  days_employed  dob_years            education  education_id  \\\n",
       "12         0            0.0         65  secondary education             2   \n",
       "26         0            NaN         41  secondary education             2   \n",
       "29         0            0.0         63  secondary education             2   \n",
       "41         0            NaN         50  secondary education             2   \n",
       "55         0            0.0         54  secondary education             2   \n",
       "\n",
       "        family_status  family_status_id gender    income_type  debt  \\\n",
       "12  civil partnership                 1      M        retiree     0   \n",
       "26            married                 0      M  civil servant     0   \n",
       "29          unmarried                 4      F        retiree     0   \n",
       "41            married                 0      F  civil servant     0   \n",
       "55  civil partnership                 1      F        retiree     1   \n",
       "\n",
       "    total_income                   purpose age_group  new_income  \n",
       "12           NaN         to have a wedding     60-69       18873  \n",
       "26           NaN                 education     40-49       22960  \n",
       "29           NaN    building a real estate     60-69       18873  \n",
       "41           NaN  second-hand car purchase     50-59       21220  \n",
       "55           NaN         to have a wedding     50-59       21220  "
      ]
     },
     "execution_count": 57,
     "metadata": {},
     "output_type": "execute_result"
    }
   ],
   "source": [
    "#Create 'new_income' column to contain number values from 'total_income' and replace missing values.\n",
    "credit_score['new_income'] = credit_score['total_income'].fillna(credit_score.groupby(['age_group','education_id'])['total_income'].transform('median'))\n",
    "\n",
    "#Convert values to integers.\n",
    "credit_score['new_income'] = credit_score['new_income'].astype(int)\n",
    "\n",
    "# Check if it works\n",
    "credit_score[credit_score['total_income'].isna()].head()"
   ]
  },
  {
   "cell_type": "code",
   "execution_count": 58,
   "metadata": {},
   "outputs": [
    {
     "data": {
      "text/html": [
       "<div>\n",
       "<style scoped>\n",
       "    .dataframe tbody tr th:only-of-type {\n",
       "        vertical-align: middle;\n",
       "    }\n",
       "\n",
       "    .dataframe tbody tr th {\n",
       "        vertical-align: top;\n",
       "    }\n",
       "\n",
       "    .dataframe thead th {\n",
       "        text-align: right;\n",
       "    }\n",
       "</style>\n",
       "<table border=\"1\" class=\"dataframe\">\n",
       "  <thead>\n",
       "    <tr style=\"text-align: right;\">\n",
       "      <th></th>\n",
       "      <th>children</th>\n",
       "      <th>days_employed</th>\n",
       "      <th>dob_years</th>\n",
       "      <th>education_id</th>\n",
       "      <th>family_status_id</th>\n",
       "      <th>debt</th>\n",
       "      <th>total_income</th>\n",
       "      <th>new_income</th>\n",
       "    </tr>\n",
       "  </thead>\n",
       "  <tbody>\n",
       "    <tr>\n",
       "      <th>count</th>\n",
       "      <td>21325.000000</td>\n",
       "      <td>19618.000000</td>\n",
       "      <td>21325.000000</td>\n",
       "      <td>21325.000000</td>\n",
       "      <td>21325.000000</td>\n",
       "      <td>21325.000000</td>\n",
       "      <td>19235.000000</td>\n",
       "      <td>21325.000000</td>\n",
       "    </tr>\n",
       "    <tr>\n",
       "      <th>mean</th>\n",
       "      <td>0.473998</td>\n",
       "      <td>-1896.448139</td>\n",
       "      <td>43.481360</td>\n",
       "      <td>2.512216</td>\n",
       "      <td>0.974490</td>\n",
       "      <td>0.081125</td>\n",
       "      <td>26791.168945</td>\n",
       "      <td>26468.767550</td>\n",
       "    </tr>\n",
       "    <tr>\n",
       "      <th>std</th>\n",
       "      <td>0.752375</td>\n",
       "      <td>2268.660976</td>\n",
       "      <td>12.219096</td>\n",
       "      <td>0.876282</td>\n",
       "      <td>1.421789</td>\n",
       "      <td>0.273034</td>\n",
       "      <td>16493.294235</td>\n",
       "      <td>15727.989791</td>\n",
       "    </tr>\n",
       "    <tr>\n",
       "      <th>min</th>\n",
       "      <td>0.000000</td>\n",
       "      <td>-18388.949901</td>\n",
       "      <td>19.000000</td>\n",
       "      <td>1.000000</td>\n",
       "      <td>0.000000</td>\n",
       "      <td>0.000000</td>\n",
       "      <td>3306.762000</td>\n",
       "      <td>3306.000000</td>\n",
       "    </tr>\n",
       "    <tr>\n",
       "      <th>25%</th>\n",
       "      <td>0.000000</td>\n",
       "      <td>-2707.275469</td>\n",
       "      <td>33.000000</td>\n",
       "      <td>2.000000</td>\n",
       "      <td>0.000000</td>\n",
       "      <td>0.000000</td>\n",
       "      <td>16482.158500</td>\n",
       "      <td>17190.000000</td>\n",
       "    </tr>\n",
       "    <tr>\n",
       "      <th>50%</th>\n",
       "      <td>0.000000</td>\n",
       "      <td>-1165.861485</td>\n",
       "      <td>43.000000</td>\n",
       "      <td>2.000000</td>\n",
       "      <td>0.000000</td>\n",
       "      <td>0.000000</td>\n",
       "      <td>23203.786000</td>\n",
       "      <td>22960.000000</td>\n",
       "    </tr>\n",
       "    <tr>\n",
       "      <th>75%</th>\n",
       "      <td>1.000000</td>\n",
       "      <td>-245.164468</td>\n",
       "      <td>53.000000</td>\n",
       "      <td>3.000000</td>\n",
       "      <td>1.000000</td>\n",
       "      <td>0.000000</td>\n",
       "      <td>32551.225000</td>\n",
       "      <td>31331.000000</td>\n",
       "    </tr>\n",
       "    <tr>\n",
       "      <th>max</th>\n",
       "      <td>5.000000</td>\n",
       "      <td>0.000000</td>\n",
       "      <td>75.000000</td>\n",
       "      <td>5.000000</td>\n",
       "      <td>4.000000</td>\n",
       "      <td>1.000000</td>\n",
       "      <td>362496.645000</td>\n",
       "      <td>362496.000000</td>\n",
       "    </tr>\n",
       "  </tbody>\n",
       "</table>\n",
       "</div>"
      ],
      "text/plain": [
       "           children  days_employed     dob_years  education_id  \\\n",
       "count  21325.000000   19618.000000  21325.000000  21325.000000   \n",
       "mean       0.473998   -1896.448139     43.481360      2.512216   \n",
       "std        0.752375    2268.660976     12.219096      0.876282   \n",
       "min        0.000000  -18388.949901     19.000000      1.000000   \n",
       "25%        0.000000   -2707.275469     33.000000      2.000000   \n",
       "50%        0.000000   -1165.861485     43.000000      2.000000   \n",
       "75%        1.000000    -245.164468     53.000000      3.000000   \n",
       "max        5.000000       0.000000     75.000000      5.000000   \n",
       "\n",
       "       family_status_id          debt   total_income     new_income  \n",
       "count      21325.000000  21325.000000   19235.000000   21325.000000  \n",
       "mean           0.974490      0.081125   26791.168945   26468.767550  \n",
       "std            1.421789      0.273034   16493.294235   15727.989791  \n",
       "min            0.000000      0.000000    3306.762000    3306.000000  \n",
       "25%            0.000000      0.000000   16482.158500   17190.000000  \n",
       "50%            0.000000      0.000000   23203.786000   22960.000000  \n",
       "75%            1.000000      0.000000   32551.225000   31331.000000  \n",
       "max            4.000000      1.000000  362496.645000  362496.000000  "
      ]
     },
     "execution_count": 58,
     "metadata": {},
     "output_type": "execute_result"
    }
   ],
   "source": [
    "credit_score.describe()"
   ]
  },
  {
   "cell_type": "markdown",
   "metadata": {},
   "source": [
    "- In a side-by-side comparison, it seems that the descriptive statistics are similar for the new_income and total_income columns; therefore, this change did not alter the data much and should not impact the results."
   ]
  },
  {
   "cell_type": "markdown",
   "metadata": {},
   "source": [
    "**Days_employed**"
   ]
  },
  {
   "cell_type": "markdown",
   "metadata": {},
   "source": [
    "- I opted to not restore the missing values in days_employed. \n",
    "    - The column has too many problems without a clear reason of why or path to fix them. Since the column is not integral to the specific questions asked, I will leave the column as is. \n",
    "    - However, if the question asked were simply which factors are correlated with a default on the loan, days_employed would be important. \n",
    "        - For example, the analysis could demonstrate that clients with longer histories of employment are less likely to default on a loan. In this case, I would approach discuss the data irregularities with the software engineer tasked with maintaining the database and inquire as to understand how the column is updated (i.e., does the count increase each day? Or is it the number of days the client was employed at the time they received the loan)."
   ]
  },
  {
   "cell_type": "markdown",
   "metadata": {},
   "source": [
    "## Categorization of data"
   ]
  },
  {
   "cell_type": "code",
   "execution_count": 59,
   "metadata": {},
   "outputs": [
    {
     "name": "stdout",
     "output_type": "stream",
     "text": [
      "Number of unique values for:\n",
      "\t children: 6\n",
      "\t family_status: 5\n",
      "\t purpose: 38\n",
      "\t new_income: 19233\n"
     ]
    }
   ],
   "source": [
    "# Check the unique values\n",
    "print(\"Number of unique values for:\")\n",
    "print(\"\\t children:\",len(credit_score['children'].unique()))\n",
    "print(\"\\t family_status:\",len(credit_score['family_status'].unique())) \n",
    "print(\"\\t purpose:\",len(credit_score['purpose'].unique())) \n",
    "print(\"\\t new_income:\",len(credit_score['total_income'].unique())) \n"
   ]
  },
  {
   "cell_type": "markdown",
   "metadata": {},
   "source": [
    "### Categorizing by Family status and Children\n",
    "\n",
    "The family_status field can be broken down by 2 groups: \n",
    "1. 2 person income: family_status==\"married\" or \"civil-partnership\", and\n",
    "2. 1 person income: family_status==\"unmarried\", \"divorced\", or \"widow / widower\".\n",
    "*I recognize that married or civil partnership, does not mean that both parties are working. Therefore, these categories should be considered \"potential 2 person income\"\n",
    "\n",
    "The children fields can be broken down by 2 groups:\n",
    "1. children: children>0, and\n",
    "2. childless: children==0\n",
    "\n",
    "In theory, I would expect that the order of likelihood to repay the loan is (from least to greatest):\n",
    "1. 1 person income, children\n",
    "2. 2 person income, children OR 1 person income, 0 children\n",
    "3. 2 person income, 0 children"
   ]
  },
  {
   "cell_type": "code",
   "execution_count": 60,
   "metadata": {},
   "outputs": [],
   "source": [
    "# Function to categorize the data based on common topics\n",
    "def credit_score_cat(row):\n",
    "    children = row['children']\n",
    "    family_status = row['family_status']\n",
    "    \n",
    "    if children==0:\n",
    "        if family_status == 'married' or family_status=='civil partnership':\n",
    "            return 'potential two person income, childless'\n",
    "        return 'one person income, childless'\n",
    "    if children>0:\n",
    "        if family_status == 'married' or family_status =='civil partnership':\n",
    "            return 'potential two person income, children'\n",
    "        return 'one person income, children'"
   ]
  },
  {
   "cell_type": "code",
   "execution_count": 61,
   "metadata": {},
   "outputs": [
    {
     "data": {
      "text/html": [
       "<div>\n",
       "<style scoped>\n",
       "    .dataframe tbody tr th:only-of-type {\n",
       "        vertical-align: middle;\n",
       "    }\n",
       "\n",
       "    .dataframe tbody tr th {\n",
       "        vertical-align: top;\n",
       "    }\n",
       "\n",
       "    .dataframe thead th {\n",
       "        text-align: right;\n",
       "    }\n",
       "</style>\n",
       "<table border=\"1\" class=\"dataframe\">\n",
       "  <thead>\n",
       "    <tr style=\"text-align: right;\">\n",
       "      <th></th>\n",
       "      <th>children</th>\n",
       "      <th>days_employed</th>\n",
       "      <th>dob_years</th>\n",
       "      <th>education</th>\n",
       "      <th>education_id</th>\n",
       "      <th>family_status</th>\n",
       "      <th>family_status_id</th>\n",
       "      <th>gender</th>\n",
       "      <th>income_type</th>\n",
       "      <th>debt</th>\n",
       "      <th>total_income</th>\n",
       "      <th>purpose</th>\n",
       "      <th>age_group</th>\n",
       "      <th>new_income</th>\n",
       "      <th>family_cat</th>\n",
       "    </tr>\n",
       "  </thead>\n",
       "  <tbody>\n",
       "    <tr>\n",
       "      <th>0</th>\n",
       "      <td>1</td>\n",
       "      <td>-8437.673028</td>\n",
       "      <td>42</td>\n",
       "      <td>bachelor's degree</td>\n",
       "      <td>4</td>\n",
       "      <td>married</td>\n",
       "      <td>0</td>\n",
       "      <td>F</td>\n",
       "      <td>employee</td>\n",
       "      <td>0</td>\n",
       "      <td>40620.102</td>\n",
       "      <td>purchase of the house</td>\n",
       "      <td>40-49</td>\n",
       "      <td>40620</td>\n",
       "      <td>potential two person income, children</td>\n",
       "    </tr>\n",
       "    <tr>\n",
       "      <th>1</th>\n",
       "      <td>1</td>\n",
       "      <td>-4024.803754</td>\n",
       "      <td>36</td>\n",
       "      <td>secondary education</td>\n",
       "      <td>2</td>\n",
       "      <td>married</td>\n",
       "      <td>0</td>\n",
       "      <td>F</td>\n",
       "      <td>employee</td>\n",
       "      <td>0</td>\n",
       "      <td>17932.802</td>\n",
       "      <td>car purchase</td>\n",
       "      <td>30-39</td>\n",
       "      <td>17932</td>\n",
       "      <td>potential two person income, children</td>\n",
       "    </tr>\n",
       "    <tr>\n",
       "      <th>2</th>\n",
       "      <td>0</td>\n",
       "      <td>-5623.422610</td>\n",
       "      <td>33</td>\n",
       "      <td>secondary education</td>\n",
       "      <td>2</td>\n",
       "      <td>married</td>\n",
       "      <td>0</td>\n",
       "      <td>M</td>\n",
       "      <td>employee</td>\n",
       "      <td>0</td>\n",
       "      <td>23341.752</td>\n",
       "      <td>purchase of the house</td>\n",
       "      <td>30-39</td>\n",
       "      <td>23341</td>\n",
       "      <td>potential two person income, childless</td>\n",
       "    </tr>\n",
       "    <tr>\n",
       "      <th>3</th>\n",
       "      <td>3</td>\n",
       "      <td>-4124.747207</td>\n",
       "      <td>32</td>\n",
       "      <td>secondary education</td>\n",
       "      <td>2</td>\n",
       "      <td>married</td>\n",
       "      <td>0</td>\n",
       "      <td>M</td>\n",
       "      <td>employee</td>\n",
       "      <td>0</td>\n",
       "      <td>42820.568</td>\n",
       "      <td>supplementary education</td>\n",
       "      <td>30-39</td>\n",
       "      <td>42820</td>\n",
       "      <td>potential two person income, children</td>\n",
       "    </tr>\n",
       "    <tr>\n",
       "      <th>4</th>\n",
       "      <td>0</td>\n",
       "      <td>0.000000</td>\n",
       "      <td>53</td>\n",
       "      <td>secondary education</td>\n",
       "      <td>2</td>\n",
       "      <td>civil partnership</td>\n",
       "      <td>1</td>\n",
       "      <td>F</td>\n",
       "      <td>retiree</td>\n",
       "      <td>0</td>\n",
       "      <td>25378.572</td>\n",
       "      <td>to have a wedding</td>\n",
       "      <td>50-59</td>\n",
       "      <td>25378</td>\n",
       "      <td>potential two person income, childless</td>\n",
       "    </tr>\n",
       "  </tbody>\n",
       "</table>\n",
       "</div>"
      ],
      "text/plain": [
       "   children  days_employed  dob_years            education  education_id  \\\n",
       "0         1   -8437.673028         42    bachelor's degree             4   \n",
       "1         1   -4024.803754         36  secondary education             2   \n",
       "2         0   -5623.422610         33  secondary education             2   \n",
       "3         3   -4124.747207         32  secondary education             2   \n",
       "4         0       0.000000         53  secondary education             2   \n",
       "\n",
       "       family_status  family_status_id gender income_type  debt  total_income  \\\n",
       "0            married                 0      F    employee     0     40620.102   \n",
       "1            married                 0      F    employee     0     17932.802   \n",
       "2            married                 0      M    employee     0     23341.752   \n",
       "3            married                 0      M    employee     0     42820.568   \n",
       "4  civil partnership                 1      F     retiree     0     25378.572   \n",
       "\n",
       "                   purpose age_group  new_income  \\\n",
       "0    purchase of the house     40-49       40620   \n",
       "1             car purchase     30-39       17932   \n",
       "2    purchase of the house     30-39       23341   \n",
       "3  supplementary education     30-39       42820   \n",
       "4        to have a wedding     50-59       25378   \n",
       "\n",
       "                               family_cat  \n",
       "0   potential two person income, children  \n",
       "1   potential two person income, children  \n",
       "2  potential two person income, childless  \n",
       "3   potential two person income, children  \n",
       "4  potential two person income, childless  "
      ]
     },
     "execution_count": 61,
     "metadata": {},
     "output_type": "execute_result"
    }
   ],
   "source": [
    "# Create a column with the categories and count the values for them\n",
    "credit_score['family_cat'] = credit_score.apply(credit_score_cat, axis=1) \n",
    "credit_score.head()"
   ]
  },
  {
   "cell_type": "markdown",
   "metadata": {},
   "source": [
    "### Categorizing by Purpose\n",
    "\n",
    "The purpose column can be divided into 4 categories:\n",
    "\n",
    "1. property\n",
    "2. education\n",
    "3. wedding\n",
    "4. car"
   ]
  },
  {
   "cell_type": "code",
   "execution_count": 62,
   "metadata": {},
   "outputs": [],
   "source": [
    "#Create function to categorize values in purpose column\n",
    "def purpose_type(string):\n",
    "    if  'estate' in string or 'home' in string or 'property' in string or 'housing' in string or 'house' in string:\n",
    "        return 'property'\n",
    "    elif 'car' in string:\n",
    "        return 'car'\n",
    "    elif 'education' in string or 'university' in string or 'educating' in string or 'educated' in string:\n",
    "        return 'education'\n",
    "    elif 'wedding' in string:\n",
    "        return 'wedding'\n",
    "    else:\n",
    "        return 'error'"
   ]
  },
  {
   "cell_type": "code",
   "execution_count": 63,
   "metadata": {},
   "outputs": [
    {
     "name": "stdout",
     "output_type": "stream",
     "text": [
      "car\n",
      "property\n"
     ]
    }
   ],
   "source": [
    "#Test function\n",
    "i='I love my car'\n",
    "p='I have a property'\n",
    "\n",
    "print (purpose_type(i))\n",
    "print (purpose_type(p))"
   ]
  },
  {
   "cell_type": "code",
   "execution_count": 64,
   "metadata": {},
   "outputs": [
    {
     "data": {
      "text/html": [
       "<div>\n",
       "<style scoped>\n",
       "    .dataframe tbody tr th:only-of-type {\n",
       "        vertical-align: middle;\n",
       "    }\n",
       "\n",
       "    .dataframe tbody tr th {\n",
       "        vertical-align: top;\n",
       "    }\n",
       "\n",
       "    .dataframe thead th {\n",
       "        text-align: right;\n",
       "    }\n",
       "</style>\n",
       "<table border=\"1\" class=\"dataframe\">\n",
       "  <thead>\n",
       "    <tr style=\"text-align: right;\">\n",
       "      <th></th>\n",
       "      <th>children</th>\n",
       "      <th>days_employed</th>\n",
       "      <th>dob_years</th>\n",
       "      <th>education</th>\n",
       "      <th>education_id</th>\n",
       "      <th>family_status</th>\n",
       "      <th>family_status_id</th>\n",
       "      <th>gender</th>\n",
       "      <th>income_type</th>\n",
       "      <th>debt</th>\n",
       "      <th>total_income</th>\n",
       "      <th>purpose</th>\n",
       "      <th>age_group</th>\n",
       "      <th>new_income</th>\n",
       "      <th>family_cat</th>\n",
       "      <th>purpose_cat</th>\n",
       "    </tr>\n",
       "  </thead>\n",
       "  <tbody>\n",
       "  </tbody>\n",
       "</table>\n",
       "</div>"
      ],
      "text/plain": [
       "Empty DataFrame\n",
       "Columns: [children, days_employed, dob_years, education, education_id, family_status, family_status_id, gender, income_type, debt, total_income, purpose, age_group, new_income, family_cat, purpose_cat]\n",
       "Index: []"
      ]
     },
     "execution_count": 64,
     "metadata": {},
     "output_type": "execute_result"
    }
   ],
   "source": [
    "#Create purpose_type column to categorize purpose values\n",
    "credit_score['purpose_cat'] = credit_score['purpose'].apply(purpose_type)\n",
    "\n",
    "#Test whether there are any values missed by the function.\n",
    "credit_score.loc[credit_score['purpose_cat'] == 'error']"
   ]
  },
  {
   "cell_type": "markdown",
   "metadata": {},
   "source": [
    "### Categorizing by new_income"
   ]
  },
  {
   "cell_type": "code",
   "execution_count": 65,
   "metadata": {},
   "outputs": [
    {
     "data": {
      "text/plain": [
       "count     21325.000000\n",
       "mean      26468.767550\n",
       "std       15727.989791\n",
       "min        3306.000000\n",
       "25%       17190.000000\n",
       "50%       22960.000000\n",
       "75%       31331.000000\n",
       "max      362496.000000\n",
       "Name: new_income, dtype: float64"
      ]
     },
     "execution_count": 65,
     "metadata": {},
     "output_type": "execute_result"
    }
   ],
   "source": [
    "# Summary statistics \n",
    "credit_score['new_income'].describe(include=all)"
   ]
  },
  {
   "cell_type": "markdown",
   "metadata": {},
   "source": [
    "The field total_income will be divided into 4 categories based on range:\n",
    "1. low: first quartile (<25%)\n",
    "2. medium_low: second quartile (25% <= i < 50%)\n",
    "3. medium_high: third quartile (50% <= i < 75%)\n",
    "4. high: fourth quartile (>+75%)"
   ]
  },
  {
   "cell_type": "code",
   "execution_count": 66,
   "metadata": {},
   "outputs": [],
   "source": [
    "#Creating function for categorizing into different numerical groups based on ranges\n",
    "credit_score['income_cat'] = pd.qcut(credit_score.new_income, q=4,\n",
    "                        labels=['low',\n",
    "                                'medium low',\n",
    "                                'medium high',\n",
    "                                'high'])"
   ]
  },
  {
   "cell_type": "code",
   "execution_count": 67,
   "metadata": {
    "scrolled": false
   },
   "outputs": [
    {
     "data": {
      "text/plain": [
       "income_cat\n",
       "medium low     5635\n",
       "low            5332\n",
       "high           5331\n",
       "medium high    5027\n",
       "dtype: int64"
      ]
     },
     "execution_count": 67,
     "metadata": {},
     "output_type": "execute_result"
    }
   ],
   "source": [
    "# Count each categories values to see the distribution\n",
    "credit_score.value_counts('income_cat')"
   ]
  },
  {
   "cell_type": "markdown",
   "metadata": {},
   "source": [
    "## Checking the Hypotheses\n"
   ]
  },
  {
   "cell_type": "code",
   "execution_count": 68,
   "metadata": {},
   "outputs": [
    {
     "data": {
      "text/html": [
       "<div>\n",
       "<style scoped>\n",
       "    .dataframe tbody tr th:only-of-type {\n",
       "        vertical-align: middle;\n",
       "    }\n",
       "\n",
       "    .dataframe tbody tr th {\n",
       "        vertical-align: top;\n",
       "    }\n",
       "\n",
       "    .dataframe thead tr th {\n",
       "        text-align: left;\n",
       "    }\n",
       "\n",
       "    .dataframe thead tr:last-of-type th {\n",
       "        text-align: right;\n",
       "    }\n",
       "</style>\n",
       "<table border=\"1\" class=\"dataframe\">\n",
       "  <thead>\n",
       "    <tr>\n",
       "      <th></th>\n",
       "      <th>new_income</th>\n",
       "      <th colspan=\"2\" halign=\"left\">debt</th>\n",
       "    </tr>\n",
       "    <tr>\n",
       "      <th></th>\n",
       "      <th>mean</th>\n",
       "      <th>mean</th>\n",
       "      <th>count</th>\n",
       "    </tr>\n",
       "    <tr>\n",
       "      <th>children</th>\n",
       "      <th></th>\n",
       "      <th></th>\n",
       "      <th></th>\n",
       "    </tr>\n",
       "  </thead>\n",
       "  <tbody>\n",
       "    <tr>\n",
       "      <th>0</th>\n",
       "      <td>26089.281536</td>\n",
       "      <td>0.075460</td>\n",
       "      <td>14087</td>\n",
       "    </tr>\n",
       "    <tr>\n",
       "      <th>1</th>\n",
       "      <td>27103.320782</td>\n",
       "      <td>0.092157</td>\n",
       "      <td>4807</td>\n",
       "    </tr>\n",
       "    <tr>\n",
       "      <th>2</th>\n",
       "      <td>27203.883471</td>\n",
       "      <td>0.094100</td>\n",
       "      <td>2051</td>\n",
       "    </tr>\n",
       "    <tr>\n",
       "      <th>3</th>\n",
       "      <td>28803.293939</td>\n",
       "      <td>0.081818</td>\n",
       "      <td>330</td>\n",
       "    </tr>\n",
       "    <tr>\n",
       "      <th>4</th>\n",
       "      <td>26822.878049</td>\n",
       "      <td>0.097561</td>\n",
       "      <td>41</td>\n",
       "    </tr>\n",
       "    <tr>\n",
       "      <th>5</th>\n",
       "      <td>26789.555556</td>\n",
       "      <td>0.000000</td>\n",
       "      <td>9</td>\n",
       "    </tr>\n",
       "  </tbody>\n",
       "</table>\n",
       "</div>"
      ],
      "text/plain": [
       "            new_income      debt       \n",
       "                  mean      mean  count\n",
       "children                               \n",
       "0         26089.281536  0.075460  14087\n",
       "1         27103.320782  0.092157   4807\n",
       "2         27203.883471  0.094100   2051\n",
       "3         28803.293939  0.081818    330\n",
       "4         26822.878049  0.097561     41\n",
       "5         26789.555556  0.000000      9"
      ]
     },
     "execution_count": 68,
     "metadata": {},
     "output_type": "execute_result"
    }
   ],
   "source": [
    "# Calculating default-rate based on the number of children \n",
    "credit_score.groupby('children').agg({'new_income':'mean','debt':['mean','count']})"
   ]
  },
  {
   "cell_type": "code",
   "execution_count": 69,
   "metadata": {
    "scrolled": true
   },
   "outputs": [
    {
     "data": {
      "text/html": [
       "<div>\n",
       "<style scoped>\n",
       "    .dataframe tbody tr th:only-of-type {\n",
       "        vertical-align: middle;\n",
       "    }\n",
       "\n",
       "    .dataframe tbody tr th {\n",
       "        vertical-align: top;\n",
       "    }\n",
       "\n",
       "    .dataframe thead tr th {\n",
       "        text-align: left;\n",
       "    }\n",
       "\n",
       "    .dataframe thead tr:last-of-type th {\n",
       "        text-align: right;\n",
       "    }\n",
       "</style>\n",
       "<table border=\"1\" class=\"dataframe\">\n",
       "  <thead>\n",
       "    <tr>\n",
       "      <th></th>\n",
       "      <th>new_income</th>\n",
       "      <th colspan=\"2\" halign=\"left\">debt</th>\n",
       "    </tr>\n",
       "    <tr>\n",
       "      <th></th>\n",
       "      <th>mean</th>\n",
       "      <th>mean</th>\n",
       "      <th>count</th>\n",
       "    </tr>\n",
       "    <tr>\n",
       "      <th>family_status</th>\n",
       "      <th></th>\n",
       "      <th></th>\n",
       "      <th></th>\n",
       "    </tr>\n",
       "  </thead>\n",
       "  <tbody>\n",
       "    <tr>\n",
       "      <th>civil partnership</th>\n",
       "      <td>26357.426428</td>\n",
       "      <td>0.093175</td>\n",
       "      <td>4132</td>\n",
       "    </tr>\n",
       "    <tr>\n",
       "      <th>divorced</th>\n",
       "      <td>26879.486964</td>\n",
       "      <td>0.070648</td>\n",
       "      <td>1189</td>\n",
       "    </tr>\n",
       "    <tr>\n",
       "      <th>married</th>\n",
       "      <td>26699.549845</td>\n",
       "      <td>0.075461</td>\n",
       "      <td>12258</td>\n",
       "    </tr>\n",
       "    <tr>\n",
       "      <th>unmarried</th>\n",
       "      <td>26689.073703</td>\n",
       "      <td>0.097674</td>\n",
       "      <td>2795</td>\n",
       "    </tr>\n",
       "    <tr>\n",
       "      <th>widow / widower</th>\n",
       "      <td>22816.854890</td>\n",
       "      <td>0.066246</td>\n",
       "      <td>951</td>\n",
       "    </tr>\n",
       "  </tbody>\n",
       "</table>\n",
       "</div>"
      ],
      "text/plain": [
       "                     new_income      debt       \n",
       "                           mean      mean  count\n",
       "family_status                                   \n",
       "civil partnership  26357.426428  0.093175   4132\n",
       "divorced           26879.486964  0.070648   1189\n",
       "married            26699.549845  0.075461  12258\n",
       "unmarried          26689.073703  0.097674   2795\n",
       "widow / widower    22816.854890  0.066246    951"
      ]
     },
     "execution_count": 69,
     "metadata": {},
     "output_type": "execute_result"
    }
   ],
   "source": [
    "# Calculating default-rate based on family status\n",
    "credit_score.groupby('family_status').agg({'new_income':'mean','debt':['mean','count']})"
   ]
  },
  {
   "cell_type": "code",
   "execution_count": 70,
   "metadata": {
    "scrolled": true
   },
   "outputs": [
    {
     "data": {
      "text/html": [
       "<div>\n",
       "<style scoped>\n",
       "    .dataframe tbody tr th:only-of-type {\n",
       "        vertical-align: middle;\n",
       "    }\n",
       "\n",
       "    .dataframe tbody tr th {\n",
       "        vertical-align: top;\n",
       "    }\n",
       "\n",
       "    .dataframe thead tr th {\n",
       "        text-align: left;\n",
       "    }\n",
       "\n",
       "    .dataframe thead tr:last-of-type th {\n",
       "        text-align: right;\n",
       "    }\n",
       "</style>\n",
       "<table border=\"1\" class=\"dataframe\">\n",
       "  <thead>\n",
       "    <tr>\n",
       "      <th></th>\n",
       "      <th>new_income</th>\n",
       "      <th colspan=\"2\" halign=\"left\">debt</th>\n",
       "    </tr>\n",
       "    <tr>\n",
       "      <th></th>\n",
       "      <th>mean</th>\n",
       "      <th>mean</th>\n",
       "      <th>count</th>\n",
       "    </tr>\n",
       "    <tr>\n",
       "      <th>family_cat</th>\n",
       "      <th></th>\n",
       "      <th></th>\n",
       "      <th></th>\n",
       "    </tr>\n",
       "  </thead>\n",
       "  <tbody>\n",
       "    <tr>\n",
       "      <th>one person income, childless</th>\n",
       "      <td>25790.863823</td>\n",
       "      <td>0.081706</td>\n",
       "      <td>3892</td>\n",
       "    </tr>\n",
       "    <tr>\n",
       "      <th>one person income, children</th>\n",
       "      <td>26727.188878</td>\n",
       "      <td>0.097795</td>\n",
       "      <td>1043</td>\n",
       "    </tr>\n",
       "    <tr>\n",
       "      <th>potential two person income, childless</th>\n",
       "      <td>26203.204218</td>\n",
       "      <td>0.073075</td>\n",
       "      <td>10195</td>\n",
       "    </tr>\n",
       "    <tr>\n",
       "      <th>potential two person income, children</th>\n",
       "      <td>27288.184181</td>\n",
       "      <td>0.091203</td>\n",
       "      <td>6195</td>\n",
       "    </tr>\n",
       "  </tbody>\n",
       "</table>\n",
       "</div>"
      ],
      "text/plain": [
       "                                          new_income      debt       \n",
       "                                                mean      mean  count\n",
       "family_cat                                                           \n",
       "one person income, childless            25790.863823  0.081706   3892\n",
       "one person income, children             26727.188878  0.097795   1043\n",
       "potential two person income, childless  26203.204218  0.073075  10195\n",
       "potential two person income, children   27288.184181  0.091203   6195"
      ]
     },
     "execution_count": 70,
     "metadata": {},
     "output_type": "execute_result"
    }
   ],
   "source": [
    "# Calculating default-rate based on family category \n",
    "credit_score.groupby('family_cat').agg({'new_income':'mean','debt':['mean','count']})"
   ]
  },
  {
   "cell_type": "code",
   "execution_count": 71,
   "metadata": {},
   "outputs": [
    {
     "data": {
      "text/html": [
       "<div>\n",
       "<style scoped>\n",
       "    .dataframe tbody tr th:only-of-type {\n",
       "        vertical-align: middle;\n",
       "    }\n",
       "\n",
       "    .dataframe tbody tr th {\n",
       "        vertical-align: top;\n",
       "    }\n",
       "\n",
       "    .dataframe thead tr th {\n",
       "        text-align: left;\n",
       "    }\n",
       "\n",
       "    .dataframe thead tr:last-of-type th {\n",
       "        text-align: right;\n",
       "    }\n",
       "</style>\n",
       "<table border=\"1\" class=\"dataframe\">\n",
       "  <thead>\n",
       "    <tr>\n",
       "      <th></th>\n",
       "      <th>new_income</th>\n",
       "      <th colspan=\"2\" halign=\"left\">debt</th>\n",
       "    </tr>\n",
       "    <tr>\n",
       "      <th></th>\n",
       "      <th>mean</th>\n",
       "      <th>mean</th>\n",
       "      <th>count</th>\n",
       "    </tr>\n",
       "    <tr>\n",
       "      <th>income_cat</th>\n",
       "      <th></th>\n",
       "      <th></th>\n",
       "      <th></th>\n",
       "    </tr>\n",
       "  </thead>\n",
       "  <tbody>\n",
       "    <tr>\n",
       "      <th>low</th>\n",
       "      <td>12947.576144</td>\n",
       "      <td>0.079707</td>\n",
       "      <td>5332</td>\n",
       "    </tr>\n",
       "    <tr>\n",
       "      <th>medium low</th>\n",
       "      <td>20503.152440</td>\n",
       "      <td>0.089264</td>\n",
       "      <td>5635</td>\n",
       "    </tr>\n",
       "    <tr>\n",
       "      <th>medium high</th>\n",
       "      <td>26938.381540</td>\n",
       "      <td>0.083748</td>\n",
       "      <td>5027</td>\n",
       "    </tr>\n",
       "    <tr>\n",
       "      <th>high</th>\n",
       "      <td>45855.465016</td>\n",
       "      <td>0.071469</td>\n",
       "      <td>5331</td>\n",
       "    </tr>\n",
       "  </tbody>\n",
       "</table>\n",
       "</div>"
      ],
      "text/plain": [
       "               new_income      debt      \n",
       "                     mean      mean count\n",
       "income_cat                               \n",
       "low          12947.576144  0.079707  5332\n",
       "medium low   20503.152440  0.089264  5635\n",
       "medium high  26938.381540  0.083748  5027\n",
       "high         45855.465016  0.071469  5331"
      ]
     },
     "execution_count": 71,
     "metadata": {},
     "output_type": "execute_result"
    }
   ],
   "source": [
    "# Calculating default-rate based on income level\n",
    "credit_score.groupby('income_cat').agg({'new_income':'mean','debt':['mean','count']})"
   ]
  },
  {
   "cell_type": "code",
   "execution_count": 72,
   "metadata": {
    "scrolled": true
   },
   "outputs": [
    {
     "data": {
      "text/html": [
       "<div>\n",
       "<style scoped>\n",
       "    .dataframe tbody tr th:only-of-type {\n",
       "        vertical-align: middle;\n",
       "    }\n",
       "\n",
       "    .dataframe tbody tr th {\n",
       "        vertical-align: top;\n",
       "    }\n",
       "\n",
       "    .dataframe thead tr th {\n",
       "        text-align: left;\n",
       "    }\n",
       "\n",
       "    .dataframe thead tr:last-of-type th {\n",
       "        text-align: right;\n",
       "    }\n",
       "</style>\n",
       "<table border=\"1\" class=\"dataframe\">\n",
       "  <thead>\n",
       "    <tr>\n",
       "      <th></th>\n",
       "      <th>new_income</th>\n",
       "      <th colspan=\"2\" halign=\"left\">debt</th>\n",
       "    </tr>\n",
       "    <tr>\n",
       "      <th></th>\n",
       "      <th>mean</th>\n",
       "      <th>mean</th>\n",
       "      <th>count</th>\n",
       "    </tr>\n",
       "    <tr>\n",
       "      <th>purpose_cat</th>\n",
       "      <th></th>\n",
       "      <th></th>\n",
       "      <th></th>\n",
       "    </tr>\n",
       "  </thead>\n",
       "  <tbody>\n",
       "    <tr>\n",
       "      <th>car</th>\n",
       "      <td>26446.422861</td>\n",
       "      <td>0.093268</td>\n",
       "      <td>4278</td>\n",
       "    </tr>\n",
       "    <tr>\n",
       "      <th>education</th>\n",
       "      <td>26029.951354</td>\n",
       "      <td>0.092528</td>\n",
       "      <td>3988</td>\n",
       "    </tr>\n",
       "    <tr>\n",
       "      <th>property</th>\n",
       "      <td>26690.857728</td>\n",
       "      <td>0.072485</td>\n",
       "      <td>10747</td>\n",
       "    </tr>\n",
       "    <tr>\n",
       "      <th>wedding</th>\n",
       "      <td>26234.678633</td>\n",
       "      <td>0.079152</td>\n",
       "      <td>2312</td>\n",
       "    </tr>\n",
       "  </tbody>\n",
       "</table>\n",
       "</div>"
      ],
      "text/plain": [
       "               new_income      debt       \n",
       "                     mean      mean  count\n",
       "purpose_cat                               \n",
       "car          26446.422861  0.093268   4278\n",
       "education    26029.951354  0.092528   3988\n",
       "property     26690.857728  0.072485  10747\n",
       "wedding      26234.678633  0.079152   2312"
      ]
     },
     "execution_count": 72,
     "metadata": {},
     "output_type": "execute_result"
    }
   ],
   "source": [
    "# Calculating default-rate based on purpose_cat \n",
    "credit_score.groupby('purpose_cat').agg({'new_income':'mean','debt':['mean','count']})"
   ]
  },
  {
   "cell_type": "code",
   "execution_count": 73,
   "metadata": {},
   "outputs": [
    {
     "data": {
      "text/html": [
       "<div>\n",
       "<style scoped>\n",
       "    .dataframe tbody tr th:only-of-type {\n",
       "        vertical-align: middle;\n",
       "    }\n",
       "\n",
       "    .dataframe tbody tr th {\n",
       "        vertical-align: top;\n",
       "    }\n",
       "\n",
       "    .dataframe thead tr th {\n",
       "        text-align: left;\n",
       "    }\n",
       "\n",
       "    .dataframe thead tr:last-of-type th {\n",
       "        text-align: right;\n",
       "    }\n",
       "</style>\n",
       "<table border=\"1\" class=\"dataframe\">\n",
       "  <thead>\n",
       "    <tr>\n",
       "      <th></th>\n",
       "      <th></th>\n",
       "      <th>new_income</th>\n",
       "      <th colspan=\"2\" halign=\"left\">debt</th>\n",
       "    </tr>\n",
       "    <tr>\n",
       "      <th></th>\n",
       "      <th></th>\n",
       "      <th>mean</th>\n",
       "      <th>mean</th>\n",
       "      <th>count</th>\n",
       "    </tr>\n",
       "    <tr>\n",
       "      <th>purpose_cat</th>\n",
       "      <th>income_cat</th>\n",
       "      <th></th>\n",
       "      <th></th>\n",
       "      <th></th>\n",
       "    </tr>\n",
       "  </thead>\n",
       "  <tbody>\n",
       "    <tr>\n",
       "      <th rowspan=\"4\" valign=\"top\">car</th>\n",
       "      <th>low</th>\n",
       "      <td>12899.858245</td>\n",
       "      <td>0.095468</td>\n",
       "      <td>1037</td>\n",
       "    </tr>\n",
       "    <tr>\n",
       "      <th>medium low</th>\n",
       "      <td>20515.888141</td>\n",
       "      <td>0.093356</td>\n",
       "      <td>1189</td>\n",
       "    </tr>\n",
       "    <tr>\n",
       "      <th>medium high</th>\n",
       "      <td>26948.093429</td>\n",
       "      <td>0.099589</td>\n",
       "      <td>974</td>\n",
       "    </tr>\n",
       "    <tr>\n",
       "      <th>high</th>\n",
       "      <td>45565.686456</td>\n",
       "      <td>0.085343</td>\n",
       "      <td>1078</td>\n",
       "    </tr>\n",
       "    <tr>\n",
       "      <th rowspan=\"4\" valign=\"top\">education</th>\n",
       "      <th>low</th>\n",
       "      <td>12979.506305</td>\n",
       "      <td>0.088264</td>\n",
       "      <td>1031</td>\n",
       "    </tr>\n",
       "    <tr>\n",
       "      <th>medium low</th>\n",
       "      <td>20614.981256</td>\n",
       "      <td>0.105904</td>\n",
       "      <td>1067</td>\n",
       "    </tr>\n",
       "    <tr>\n",
       "      <th>medium high</th>\n",
       "      <td>26909.497377</td>\n",
       "      <td>0.095488</td>\n",
       "      <td>953</td>\n",
       "    </tr>\n",
       "    <tr>\n",
       "      <th>high</th>\n",
       "      <td>45661.300961</td>\n",
       "      <td>0.078975</td>\n",
       "      <td>937</td>\n",
       "    </tr>\n",
       "    <tr>\n",
       "      <th rowspan=\"4\" valign=\"top\">property</th>\n",
       "      <th>low</th>\n",
       "      <td>12907.207661</td>\n",
       "      <td>0.067968</td>\n",
       "      <td>2663</td>\n",
       "    </tr>\n",
       "    <tr>\n",
       "      <th>medium low</th>\n",
       "      <td>20473.702906</td>\n",
       "      <td>0.079297</td>\n",
       "      <td>2787</td>\n",
       "    </tr>\n",
       "    <tr>\n",
       "      <th>medium high</th>\n",
       "      <td>26941.076321</td>\n",
       "      <td>0.074755</td>\n",
       "      <td>2555</td>\n",
       "    </tr>\n",
       "    <tr>\n",
       "      <th>high</th>\n",
       "      <td>46163.418673</td>\n",
       "      <td>0.067834</td>\n",
       "      <td>2742</td>\n",
       "    </tr>\n",
       "    <tr>\n",
       "      <th rowspan=\"4\" valign=\"top\">wedding</th>\n",
       "      <th>low</th>\n",
       "      <td>13154.006656</td>\n",
       "      <td>0.089850</td>\n",
       "      <td>601</td>\n",
       "    </tr>\n",
       "    <tr>\n",
       "      <th>medium low</th>\n",
       "      <td>20414.658784</td>\n",
       "      <td>0.097973</td>\n",
       "      <td>592</td>\n",
       "    </tr>\n",
       "    <tr>\n",
       "      <th>medium high</th>\n",
       "      <td>26958.899083</td>\n",
       "      <td>0.077064</td>\n",
       "      <td>545</td>\n",
       "    </tr>\n",
       "    <tr>\n",
       "      <th>high</th>\n",
       "      <td>45245.541812</td>\n",
       "      <td>0.050523</td>\n",
       "      <td>574</td>\n",
       "    </tr>\n",
       "  </tbody>\n",
       "</table>\n",
       "</div>"
      ],
      "text/plain": [
       "                           new_income      debt      \n",
       "                                 mean      mean count\n",
       "purpose_cat income_cat                               \n",
       "car         low          12899.858245  0.095468  1037\n",
       "            medium low   20515.888141  0.093356  1189\n",
       "            medium high  26948.093429  0.099589   974\n",
       "            high         45565.686456  0.085343  1078\n",
       "education   low          12979.506305  0.088264  1031\n",
       "            medium low   20614.981256  0.105904  1067\n",
       "            medium high  26909.497377  0.095488   953\n",
       "            high         45661.300961  0.078975   937\n",
       "property    low          12907.207661  0.067968  2663\n",
       "            medium low   20473.702906  0.079297  2787\n",
       "            medium high  26941.076321  0.074755  2555\n",
       "            high         46163.418673  0.067834  2742\n",
       "wedding     low          13154.006656  0.089850   601\n",
       "            medium low   20414.658784  0.097973   592\n",
       "            medium high  26958.899083  0.077064   545\n",
       "            high         45245.541812  0.050523   574"
      ]
     },
     "execution_count": 73,
     "metadata": {},
     "output_type": "execute_result"
    }
   ],
   "source": [
    "# Calculating default-rate based on income_cat and purpose_cat (which is equal to the mean).\n",
    "credit_score.groupby(['purpose_cat','income_cat']).agg({'new_income':'mean','debt':['mean','count']})"
   ]
  },
  {
   "cell_type": "markdown",
   "metadata": {},
   "source": [
    "**Conclusion**\n",
    "\n",
    "1. Clients are less likely to default on their loan if they do not have children.</li>\n",
    "2. A potential two person income household is significantly less likely to default than a one person income household when there are no children.\n",
    "3. A potential two person income household is slightly less likely to default than a one person income household when there are  children. \n",
    "4. Clients who took out a loan to finance their property or wedding are signiciantly less likely to default than clients who took out a loan for a car or education.\n",
    "\n",
    "The order of most likely to least likely to default  for family makeup is:\n",
    "\n",
    "1. one person income, children\n",
    "2. potential two person income, children\n",
    "3. one person income, childless\n",
    "4. potential two person income, childless"
   ]
  },
  {
   "cell_type": "markdown",
   "metadata": {},
   "source": [
    "## General conclusions"
   ]
  },
  {
   "cell_type": "markdown",
   "metadata": {},
   "source": [
    "### Limitations\n",
    "\n",
    "1. The days_employed column was very messy and how to fix it was unclear. Therefore, and since it was not important to answering the questions in this analysis, it was not fixed. However, it could be important to determining factors which affect loan defaults in general.\n",
    "\n",
    "2. The total_income column was missing many values for reasons unclear. The median of income when clients were grouped by age and education seemed to be the best way to fill in missing values without affecting the distribution too much.\n",
    "\n",
    "3. It is unclear if pension for retirees is included in income.\n",
    "\n",
    "4. The dataset lacks unique values for clients to help identify duplicate values.\n",
    "\n",
    "5. Other important information missing from the dataset is details about the loan such as amount, interest rate, and length of time; all of which could help to understand who defaults and why."
   ]
  },
  {
   "cell_type": "markdown",
   "metadata": {},
   "source": [
    "### Summary of findings\n",
    "\n",
    "1. Clients with no children are least likely to default, followed by the potential for a 2 income household.\n",
    "\n",
    "7. Clients who took out a loan to finance their property or wedding are signiciantly less likely to default than clients who took out a loan for a car or education. This may be because property is an asset that often increasing in value and wedding loans can be paid back with monetary gifs from the wedding. "
   ]
  }
 ],
 "metadata": {
  "ExecuteTimeLog": [
   {
    "duration": 2741,
    "start_time": "2021-10-21T01:08:49.480Z"
   },
   {
    "duration": 52,
    "start_time": "2021-10-21T01:08:53.315Z"
   },
   {
    "duration": 49,
    "start_time": "2021-10-21T01:08:57.432Z"
   },
   {
    "duration": 70,
    "start_time": "2021-10-21T01:09:07.706Z"
   },
   {
    "duration": 592,
    "start_time": "2022-07-26T12:54:24.168Z"
   },
   {
    "duration": 20,
    "start_time": "2022-07-26T12:54:42.931Z"
   },
   {
    "duration": 19,
    "start_time": "2022-07-26T12:55:30.321Z"
   },
   {
    "duration": 59,
    "start_time": "2022-07-26T12:57:55.410Z"
   },
   {
    "duration": 4,
    "start_time": "2022-07-26T12:58:12.229Z"
   },
   {
    "duration": 14,
    "start_time": "2022-07-26T12:58:29.507Z"
   },
   {
    "duration": 5,
    "start_time": "2022-07-26T13:08:34.718Z"
   },
   {
    "duration": 60,
    "start_time": "2022-07-26T13:09:20.787Z"
   },
   {
    "duration": 4,
    "start_time": "2022-07-26T13:09:32.548Z"
   },
   {
    "duration": 5,
    "start_time": "2022-07-26T13:12:06.816Z"
   },
   {
    "duration": 3,
    "start_time": "2022-07-27T09:16:42.467Z"
   },
   {
    "duration": 41,
    "start_time": "2022-07-27T09:18:07.262Z"
   },
   {
    "duration": 624,
    "start_time": "2022-07-27T09:18:14.935Z"
   },
   {
    "duration": 20,
    "start_time": "2022-07-27T09:18:17.863Z"
   },
   {
    "duration": 4,
    "start_time": "2022-07-27T09:18:25.690Z"
   },
   {
    "duration": 13,
    "start_time": "2022-07-27T09:18:35.883Z"
   },
   {
    "duration": 18,
    "start_time": "2022-07-27T09:25:54.587Z"
   },
   {
    "duration": 77,
    "start_time": "2022-07-27T09:55:16.185Z"
   },
   {
    "duration": 94,
    "start_time": "2022-07-27T09:55:23.039Z"
   },
   {
    "duration": 91,
    "start_time": "2022-07-27T09:55:42.308Z"
   },
   {
    "duration": 6,
    "start_time": "2022-07-27T09:55:52.581Z"
   },
   {
    "duration": 4,
    "start_time": "2022-07-27T09:56:04.369Z"
   },
   {
    "duration": 4,
    "start_time": "2022-07-27T09:56:18.810Z"
   },
   {
    "duration": 49,
    "start_time": "2022-07-27T14:58:18.974Z"
   },
   {
    "duration": 591,
    "start_time": "2022-07-27T14:58:35.806Z"
   },
   {
    "duration": 32,
    "start_time": "2022-07-27T14:58:41.588Z"
   },
   {
    "duration": 56,
    "start_time": "2022-07-27T14:58:54.714Z"
   },
   {
    "duration": 9,
    "start_time": "2022-07-27T14:59:00.153Z"
   },
   {
    "duration": 14,
    "start_time": "2022-07-27T14:59:02.917Z"
   },
   {
    "duration": 14,
    "start_time": "2022-07-27T14:59:06.465Z"
   },
   {
    "duration": 8,
    "start_time": "2022-07-27T14:59:08.962Z"
   },
   {
    "duration": 71,
    "start_time": "2022-07-27T14:59:28.486Z"
   },
   {
    "duration": 7,
    "start_time": "2022-07-27T14:59:35.863Z"
   },
   {
    "duration": 14,
    "start_time": "2022-07-27T15:00:04.725Z"
   },
   {
    "duration": 4,
    "start_time": "2022-07-27T15:00:36.554Z"
   },
   {
    "duration": 5,
    "start_time": "2022-07-27T15:00:54.350Z"
   },
   {
    "duration": 22,
    "start_time": "2022-07-27T15:01:28.517Z"
   },
   {
    "duration": 21,
    "start_time": "2022-07-27T15:03:46.368Z"
   },
   {
    "duration": 20,
    "start_time": "2022-07-27T15:08:38.460Z"
   },
   {
    "duration": 10,
    "start_time": "2022-07-27T15:22:01.580Z"
   },
   {
    "duration": 2,
    "start_time": "2022-07-27T15:25:31.817Z"
   },
   {
    "duration": 14,
    "start_time": "2022-07-27T15:36:03.481Z"
   },
   {
    "duration": 17,
    "start_time": "2022-07-27T15:37:05.518Z"
   },
   {
    "duration": 14,
    "start_time": "2022-07-27T15:38:35.443Z"
   },
   {
    "duration": 15,
    "start_time": "2022-07-27T15:41:11.288Z"
   },
   {
    "duration": 14,
    "start_time": "2022-07-27T15:41:19.187Z"
   },
   {
    "duration": 10,
    "start_time": "2022-07-27T16:09:36.421Z"
   },
   {
    "duration": 16,
    "start_time": "2022-07-27T16:39:05.546Z"
   },
   {
    "duration": 5,
    "start_time": "2022-07-27T16:39:15.036Z"
   },
   {
    "duration": 4,
    "start_time": "2022-07-27T16:39:35.414Z"
   },
   {
    "duration": 18,
    "start_time": "2022-07-27T16:39:48.077Z"
   },
   {
    "duration": 12,
    "start_time": "2022-07-27T16:40:36.161Z"
   },
   {
    "duration": 12,
    "start_time": "2022-07-27T16:41:43.361Z"
   },
   {
    "duration": 9,
    "start_time": "2022-07-27T16:42:43.699Z"
   },
   {
    "duration": 52,
    "start_time": "2022-07-27T16:44:16.750Z"
   },
   {
    "duration": 31,
    "start_time": "2022-07-27T16:44:30.599Z"
   },
   {
    "duration": 48,
    "start_time": "2022-07-27T16:44:58.544Z"
   },
   {
    "duration": 55,
    "start_time": "2022-07-27T19:03:32.130Z"
   },
   {
    "duration": 641,
    "start_time": "2022-07-27T19:03:46.730Z"
   },
   {
    "duration": 9,
    "start_time": "2022-07-27T19:03:47.373Z"
   },
   {
    "duration": 71,
    "start_time": "2022-07-27T19:03:47.384Z"
   },
   {
    "duration": 14,
    "start_time": "2022-07-27T19:03:47.457Z"
   },
   {
    "duration": 19,
    "start_time": "2022-07-27T19:03:47.473Z"
   },
   {
    "duration": 27,
    "start_time": "2022-07-27T19:03:47.494Z"
   },
   {
    "duration": 39,
    "start_time": "2022-07-27T19:03:56.379Z"
   },
   {
    "duration": 11,
    "start_time": "2022-07-27T19:07:31.979Z"
   },
   {
    "duration": 12,
    "start_time": "2022-07-27T19:08:17.893Z"
   },
   {
    "duration": 11,
    "start_time": "2022-07-27T19:08:55.661Z"
   },
   {
    "duration": 17,
    "start_time": "2022-07-27T19:15:04.745Z"
   },
   {
    "duration": 17,
    "start_time": "2022-07-27T19:17:16.436Z"
   },
   {
    "duration": 21,
    "start_time": "2022-07-27T19:19:54.505Z"
   },
   {
    "duration": 75,
    "start_time": "2022-07-27T19:22:01.423Z"
   },
   {
    "duration": 24,
    "start_time": "2022-07-27T19:23:53.465Z"
   },
   {
    "duration": 22,
    "start_time": "2022-07-27T19:28:53.247Z"
   },
   {
    "duration": 19,
    "start_time": "2022-07-27T19:29:15.144Z"
   },
   {
    "duration": 19,
    "start_time": "2022-07-27T19:29:37.666Z"
   },
   {
    "duration": 272,
    "start_time": "2022-07-27T19:35:24.865Z"
   },
   {
    "duration": 19,
    "start_time": "2022-07-27T19:35:32.996Z"
   },
   {
    "duration": 81,
    "start_time": "2022-07-27T19:39:17.903Z"
   },
   {
    "duration": 15,
    "start_time": "2022-07-27T19:40:18.935Z"
   },
   {
    "duration": 21,
    "start_time": "2022-07-27T19:43:09.680Z"
   },
   {
    "duration": 22,
    "start_time": "2022-07-27T19:43:32.341Z"
   },
   {
    "duration": 17,
    "start_time": "2022-07-27T19:46:02.681Z"
   },
   {
    "duration": 552,
    "start_time": "2022-07-28T05:40:44.324Z"
   },
   {
    "duration": 8,
    "start_time": "2022-07-28T05:40:44.877Z"
   },
   {
    "duration": 61,
    "start_time": "2022-07-28T05:40:44.887Z"
   },
   {
    "duration": 12,
    "start_time": "2022-07-28T05:40:44.951Z"
   },
   {
    "duration": 17,
    "start_time": "2022-07-28T05:40:44.965Z"
   },
   {
    "duration": 9,
    "start_time": "2022-07-28T05:40:44.984Z"
   },
   {
    "duration": 694,
    "start_time": "2022-07-28T05:47:33.754Z"
   },
   {
    "duration": 46,
    "start_time": "2022-07-28T05:48:30.487Z"
   },
   {
    "duration": 47,
    "start_time": "2022-07-28T05:49:29.918Z"
   },
   {
    "duration": 14,
    "start_time": "2022-07-28T05:52:53.898Z"
   },
   {
    "duration": 11,
    "start_time": "2022-07-28T05:53:26.045Z"
   },
   {
    "duration": 11,
    "start_time": "2022-07-28T05:53:37.296Z"
   },
   {
    "duration": 10,
    "start_time": "2022-07-28T05:54:08.715Z"
   },
   {
    "duration": 4,
    "start_time": "2022-07-28T05:54:37.345Z"
   },
   {
    "duration": 17,
    "start_time": "2022-07-28T05:58:56.272Z"
   },
   {
    "duration": 10,
    "start_time": "2022-07-28T05:59:18.119Z"
   },
   {
    "duration": 5,
    "start_time": "2022-07-28T05:59:44.549Z"
   },
   {
    "duration": 4,
    "start_time": "2022-07-28T06:05:11.916Z"
   },
   {
    "duration": 8,
    "start_time": "2022-07-28T06:07:21.639Z"
   },
   {
    "duration": 11,
    "start_time": "2022-07-28T06:07:35.354Z"
   },
   {
    "duration": 9,
    "start_time": "2022-07-28T06:07:40.886Z"
   },
   {
    "duration": 17,
    "start_time": "2022-07-28T06:07:51.947Z"
   },
   {
    "duration": 56,
    "start_time": "2022-07-28T06:08:48.867Z"
   },
   {
    "duration": 12,
    "start_time": "2022-07-28T06:08:56.808Z"
   },
   {
    "duration": 6,
    "start_time": "2022-07-28T06:09:13.914Z"
   },
   {
    "duration": 19,
    "start_time": "2022-07-28T06:09:56.523Z"
   },
   {
    "duration": 8,
    "start_time": "2022-07-28T06:10:11.378Z"
   },
   {
    "duration": 7,
    "start_time": "2022-07-28T06:10:38.256Z"
   },
   {
    "duration": 8,
    "start_time": "2022-07-28T06:17:26.024Z"
   },
   {
    "duration": 13,
    "start_time": "2022-07-28T06:18:02.528Z"
   },
   {
    "duration": 9,
    "start_time": "2022-07-28T06:18:18.314Z"
   },
   {
    "duration": 8,
    "start_time": "2022-07-28T06:18:44.516Z"
   },
   {
    "duration": 9,
    "start_time": "2022-07-28T06:19:17.120Z"
   },
   {
    "duration": 10,
    "start_time": "2022-07-28T06:19:26.437Z"
   },
   {
    "duration": 8,
    "start_time": "2022-07-28T06:20:41.060Z"
   },
   {
    "duration": 3,
    "start_time": "2022-07-28T06:27:28.829Z"
   },
   {
    "duration": 4,
    "start_time": "2022-07-28T06:28:11.077Z"
   },
   {
    "duration": 5,
    "start_time": "2022-07-28T06:28:24.371Z"
   },
   {
    "duration": 63,
    "start_time": "2022-07-28T06:35:23.467Z"
   },
   {
    "duration": 4,
    "start_time": "2022-07-28T06:35:47.532Z"
   },
   {
    "duration": 18,
    "start_time": "2022-07-28T06:43:59.514Z"
   },
   {
    "duration": 15,
    "start_time": "2022-07-28T06:44:11.115Z"
   },
   {
    "duration": 14,
    "start_time": "2022-07-28T06:44:38.187Z"
   },
   {
    "duration": 18,
    "start_time": "2022-07-28T06:46:49.172Z"
   },
   {
    "duration": 105,
    "start_time": "2022-07-28T07:03:16.723Z"
   },
   {
    "duration": 14,
    "start_time": "2022-07-28T07:03:31.429Z"
   },
   {
    "duration": 14,
    "start_time": "2022-07-28T07:06:38.123Z"
   },
   {
    "duration": 78,
    "start_time": "2022-07-28T07:09:25.283Z"
   },
   {
    "duration": 18,
    "start_time": "2022-07-28T07:10:20.368Z"
   },
   {
    "duration": 14,
    "start_time": "2022-07-28T07:19:48.854Z"
   },
   {
    "duration": 70,
    "start_time": "2022-07-28T07:20:37.513Z"
   },
   {
    "duration": 65,
    "start_time": "2022-07-28T07:21:09.323Z"
   },
   {
    "duration": 15,
    "start_time": "2022-07-28T07:21:27.214Z"
   },
   {
    "duration": 57,
    "start_time": "2022-07-28T07:22:43.178Z"
   },
   {
    "duration": 17,
    "start_time": "2022-07-28T07:23:06.097Z"
   },
   {
    "duration": 15,
    "start_time": "2022-07-28T07:23:30.556Z"
   },
   {
    "duration": 24,
    "start_time": "2022-07-28T07:25:01.855Z"
   },
   {
    "duration": 27,
    "start_time": "2022-07-28T07:25:11.868Z"
   },
   {
    "duration": 16,
    "start_time": "2022-07-28T07:25:25.328Z"
   },
   {
    "duration": 19,
    "start_time": "2022-07-28T07:25:47.132Z"
   },
   {
    "duration": 85,
    "start_time": "2022-07-28T07:31:17.110Z"
   },
   {
    "duration": 48,
    "start_time": "2022-07-28T07:31:47.810Z"
   },
   {
    "duration": 47,
    "start_time": "2022-07-28T07:31:53.861Z"
   },
   {
    "duration": 35,
    "start_time": "2022-07-28T08:28:46.355Z"
   },
   {
    "duration": 10,
    "start_time": "2022-07-28T08:51:52.379Z"
   },
   {
    "duration": 3,
    "start_time": "2022-07-28T09:08:04.120Z"
   },
   {
    "duration": 10,
    "start_time": "2022-07-28T09:13:07.888Z"
   },
   {
    "duration": 15,
    "start_time": "2022-07-28T09:13:23.689Z"
   },
   {
    "duration": 81,
    "start_time": "2022-07-28T09:14:36.460Z"
   },
   {
    "duration": 81,
    "start_time": "2022-07-28T09:14:52.359Z"
   },
   {
    "duration": 15,
    "start_time": "2022-07-28T09:15:35.750Z"
   },
   {
    "duration": 9,
    "start_time": "2022-07-28T09:15:55.593Z"
   },
   {
    "duration": 8,
    "start_time": "2022-07-28T09:18:35.082Z"
   },
   {
    "duration": 8,
    "start_time": "2022-07-28T09:18:57.491Z"
   },
   {
    "duration": 10,
    "start_time": "2022-07-28T09:19:08.416Z"
   },
   {
    "duration": 58,
    "start_time": "2022-07-28T09:19:17.700Z"
   },
   {
    "duration": 7,
    "start_time": "2022-07-28T09:19:17.761Z"
   },
   {
    "duration": 74,
    "start_time": "2022-07-28T09:19:17.770Z"
   },
   {
    "duration": 15,
    "start_time": "2022-07-28T09:19:17.847Z"
   },
   {
    "duration": 44,
    "start_time": "2022-07-28T09:19:17.864Z"
   },
   {
    "duration": 16,
    "start_time": "2022-07-28T09:19:17.910Z"
   },
   {
    "duration": 9,
    "start_time": "2022-07-28T09:19:17.928Z"
   },
   {
    "duration": 6,
    "start_time": "2022-07-28T09:19:17.939Z"
   },
   {
    "duration": 23,
    "start_time": "2022-07-28T09:19:18.000Z"
   },
   {
    "duration": 37,
    "start_time": "2022-07-28T09:19:18.025Z"
   },
   {
    "duration": 56,
    "start_time": "2022-07-28T09:19:18.064Z"
   },
   {
    "duration": 76,
    "start_time": "2022-07-28T09:19:18.122Z"
   },
   {
    "duration": 3,
    "start_time": "2022-07-28T09:19:18.200Z"
   },
   {
    "duration": 9,
    "start_time": "2022-07-28T09:19:18.205Z"
   },
   {
    "duration": 6,
    "start_time": "2022-07-28T09:19:18.216Z"
   },
   {
    "duration": 11,
    "start_time": "2022-07-28T09:19:18.223Z"
   },
   {
    "duration": 8,
    "start_time": "2022-07-28T09:19:22.683Z"
   },
   {
    "duration": 7,
    "start_time": "2022-07-28T09:20:01.000Z"
   },
   {
    "duration": 74,
    "start_time": "2022-07-28T09:21:29.709Z"
   },
   {
    "duration": 4,
    "start_time": "2022-07-28T09:21:29.786Z"
   },
   {
    "duration": 74,
    "start_time": "2022-07-28T09:21:29.792Z"
   },
   {
    "duration": 19,
    "start_time": "2022-07-28T09:21:29.868Z"
   },
   {
    "duration": 17,
    "start_time": "2022-07-28T09:21:29.889Z"
   },
   {
    "duration": 15,
    "start_time": "2022-07-28T09:21:29.908Z"
   },
   {
    "duration": 39,
    "start_time": "2022-07-28T09:21:29.925Z"
   },
   {
    "duration": 6,
    "start_time": "2022-07-28T09:21:29.967Z"
   },
   {
    "duration": 31,
    "start_time": "2022-07-28T09:21:29.976Z"
   },
   {
    "duration": 29,
    "start_time": "2022-07-28T09:21:30.009Z"
   },
   {
    "duration": 79,
    "start_time": "2022-07-28T09:21:30.041Z"
   },
   {
    "duration": 77,
    "start_time": "2022-07-28T09:21:30.123Z"
   },
   {
    "duration": 3,
    "start_time": "2022-07-28T09:21:30.202Z"
   },
   {
    "duration": 12,
    "start_time": "2022-07-28T09:21:30.207Z"
   },
   {
    "duration": 20,
    "start_time": "2022-07-28T09:21:30.221Z"
   },
   {
    "duration": 24,
    "start_time": "2022-07-28T09:21:30.243Z"
   },
   {
    "duration": 15,
    "start_time": "2022-07-28T09:22:04.476Z"
   },
   {
    "duration": 26,
    "start_time": "2022-07-28T09:22:15.853Z"
   },
   {
    "duration": 9,
    "start_time": "2022-07-28T09:24:42.007Z"
   },
   {
    "duration": 10,
    "start_time": "2022-07-28T09:25:37.533Z"
   },
   {
    "duration": 7,
    "start_time": "2022-07-28T09:25:57.385Z"
   },
   {
    "duration": 8,
    "start_time": "2022-07-28T10:01:18.962Z"
   },
   {
    "duration": 6,
    "start_time": "2022-07-28T10:01:34.241Z"
   },
   {
    "duration": 72,
    "start_time": "2022-07-28T11:18:44.434Z"
   },
   {
    "duration": 56,
    "start_time": "2022-07-28T11:18:53.193Z"
   },
   {
    "duration": 1595,
    "start_time": "2022-07-28T11:19:12.559Z"
   },
   {
    "duration": 15,
    "start_time": "2022-07-28T11:19:26.632Z"
   },
   {
    "duration": 15,
    "start_time": "2022-07-28T11:20:36.583Z"
   },
   {
    "duration": 5,
    "start_time": "2022-07-28T11:21:50.789Z"
   },
   {
    "duration": 9,
    "start_time": "2022-07-28T11:22:45.533Z"
   },
   {
    "duration": 32,
    "start_time": "2022-07-28T11:24:21.296Z"
   },
   {
    "duration": 18,
    "start_time": "2022-07-28T11:24:49.561Z"
   },
   {
    "duration": 36,
    "start_time": "2022-07-28T11:25:11.119Z"
   },
   {
    "duration": 260,
    "start_time": "2022-07-28T11:25:23.981Z"
   },
   {
    "duration": 49,
    "start_time": "2022-07-28T11:25:53.665Z"
   },
   {
    "duration": 11,
    "start_time": "2022-07-28T11:26:20.118Z"
   },
   {
    "duration": 68,
    "start_time": "2022-07-28T11:28:27.323Z"
   },
   {
    "duration": 260,
    "start_time": "2022-07-28T11:29:09.019Z"
   },
   {
    "duration": 9,
    "start_time": "2022-07-28T11:29:29.004Z"
   },
   {
    "duration": 17,
    "start_time": "2022-07-28T11:29:53.496Z"
   },
   {
    "duration": 4,
    "start_time": "2022-07-28T11:36:35.813Z"
   },
   {
    "duration": 7,
    "start_time": "2022-07-28T11:38:00.187Z"
   },
   {
    "duration": 7,
    "start_time": "2022-07-28T11:39:13.108Z"
   },
   {
    "duration": 4,
    "start_time": "2022-07-28T11:41:23.481Z"
   },
   {
    "duration": 5,
    "start_time": "2022-07-28T11:41:32.668Z"
   },
   {
    "duration": 6,
    "start_time": "2022-07-28T11:42:06.586Z"
   },
   {
    "duration": 9,
    "start_time": "2022-07-28T11:42:39.316Z"
   },
   {
    "duration": 10,
    "start_time": "2022-07-28T11:43:59.561Z"
   },
   {
    "duration": 50,
    "start_time": "2022-07-28T11:45:21.250Z"
   },
   {
    "duration": 20,
    "start_time": "2022-07-28T11:45:32.780Z"
   },
   {
    "duration": 5,
    "start_time": "2022-07-28T11:46:15.163Z"
   },
   {
    "duration": 9,
    "start_time": "2022-07-28T11:47:00.607Z"
   },
   {
    "duration": 9,
    "start_time": "2022-07-28T12:10:45.191Z"
   },
   {
    "duration": 9,
    "start_time": "2022-07-28T12:11:32.376Z"
   },
   {
    "duration": 8,
    "start_time": "2022-07-28T12:13:02.947Z"
   },
   {
    "duration": 8,
    "start_time": "2022-07-28T12:13:13.922Z"
   },
   {
    "duration": 10,
    "start_time": "2022-07-28T12:13:23.365Z"
   },
   {
    "duration": 10,
    "start_time": "2022-07-28T12:13:39.059Z"
   },
   {
    "duration": 7,
    "start_time": "2022-07-28T12:13:48.352Z"
   },
   {
    "duration": 18,
    "start_time": "2022-07-28T12:21:38.856Z"
   },
   {
    "duration": 20,
    "start_time": "2022-07-28T12:24:11.074Z"
   },
   {
    "duration": 6,
    "start_time": "2022-07-28T12:25:06.580Z"
   },
   {
    "duration": 20,
    "start_time": "2022-07-28T12:25:14.236Z"
   },
   {
    "duration": 56,
    "start_time": "2022-07-28T12:25:32.094Z"
   },
   {
    "duration": 4,
    "start_time": "2022-07-28T12:25:32.152Z"
   },
   {
    "duration": 70,
    "start_time": "2022-07-28T12:25:32.157Z"
   },
   {
    "duration": 12,
    "start_time": "2022-07-28T12:25:32.228Z"
   },
   {
    "duration": 35,
    "start_time": "2022-07-28T12:25:32.241Z"
   },
   {
    "duration": 20,
    "start_time": "2022-07-28T12:25:32.277Z"
   },
   {
    "duration": 37,
    "start_time": "2022-07-28T12:25:32.299Z"
   },
   {
    "duration": 57,
    "start_time": "2022-07-28T12:25:32.338Z"
   },
   {
    "duration": 31,
    "start_time": "2022-07-28T12:25:32.398Z"
   },
   {
    "duration": 50,
    "start_time": "2022-07-28T12:25:32.431Z"
   },
   {
    "duration": 66,
    "start_time": "2022-07-28T12:25:32.483Z"
   },
   {
    "duration": 49,
    "start_time": "2022-07-28T12:25:32.551Z"
   },
   {
    "duration": 2,
    "start_time": "2022-07-28T12:25:32.602Z"
   },
   {
    "duration": 27,
    "start_time": "2022-07-28T12:25:32.606Z"
   },
   {
    "duration": 16,
    "start_time": "2022-07-28T12:25:32.635Z"
   },
   {
    "duration": 28,
    "start_time": "2022-07-28T12:25:32.652Z"
   },
   {
    "duration": 38,
    "start_time": "2022-07-28T12:25:32.682Z"
   },
   {
    "duration": 23,
    "start_time": "2022-07-28T12:25:32.722Z"
   },
   {
    "duration": 54,
    "start_time": "2022-07-28T12:25:32.747Z"
   },
   {
    "duration": 31,
    "start_time": "2022-07-28T12:25:32.803Z"
   },
   {
    "duration": 36,
    "start_time": "2022-07-28T12:25:32.836Z"
   },
   {
    "duration": 5,
    "start_time": "2022-07-28T12:25:34.697Z"
   },
   {
    "duration": 3,
    "start_time": "2022-07-28T12:25:40.236Z"
   },
   {
    "duration": 15,
    "start_time": "2022-07-28T12:25:44.583Z"
   },
   {
    "duration": 6,
    "start_time": "2022-07-28T12:48:06.739Z"
   },
   {
    "duration": 9,
    "start_time": "2022-07-28T12:48:55.850Z"
   },
   {
    "duration": 11,
    "start_time": "2022-07-28T12:50:18.089Z"
   },
   {
    "duration": 13,
    "start_time": "2022-07-28T12:53:27.022Z"
   },
   {
    "duration": 9,
    "start_time": "2022-07-28T12:55:24.831Z"
   },
   {
    "duration": 6,
    "start_time": "2022-07-28T12:55:34.318Z"
   },
   {
    "duration": 316,
    "start_time": "2022-07-28T12:56:25.032Z"
   },
   {
    "duration": 49,
    "start_time": "2022-07-28T12:56:53.872Z"
   },
   {
    "duration": 7,
    "start_time": "2022-07-28T12:57:02.964Z"
   },
   {
    "duration": 6,
    "start_time": "2022-07-28T12:57:11.029Z"
   },
   {
    "duration": 8,
    "start_time": "2022-07-28T12:57:28.590Z"
   },
   {
    "duration": 7,
    "start_time": "2022-07-28T12:58:33.663Z"
   },
   {
    "duration": 7,
    "start_time": "2022-07-28T13:01:24.833Z"
   },
   {
    "duration": 8,
    "start_time": "2022-07-28T13:01:36.168Z"
   },
   {
    "duration": 7,
    "start_time": "2022-07-28T13:01:56.842Z"
   },
   {
    "duration": 16,
    "start_time": "2022-07-28T13:07:27.743Z"
   },
   {
    "duration": 12,
    "start_time": "2022-07-28T13:07:41.424Z"
   },
   {
    "duration": 110,
    "start_time": "2022-07-28T13:07:57.524Z"
   },
   {
    "duration": 57,
    "start_time": "2022-07-28T13:08:33.081Z"
   },
   {
    "duration": 17,
    "start_time": "2022-07-28T13:08:38.465Z"
   },
   {
    "duration": 13,
    "start_time": "2022-07-28T13:08:44.120Z"
   },
   {
    "duration": 56,
    "start_time": "2022-07-28T13:08:48.284Z"
   },
   {
    "duration": 138,
    "start_time": "2022-07-28T13:11:45.360Z"
   },
   {
    "duration": 4,
    "start_time": "2022-07-28T13:11:53.667Z"
   },
   {
    "duration": 973,
    "start_time": "2022-07-28T13:12:18.128Z"
   },
   {
    "duration": 11,
    "start_time": "2022-07-28T13:12:29.247Z"
   },
   {
    "duration": 37,
    "start_time": "2022-07-28T13:12:43.156Z"
   },
   {
    "duration": 17,
    "start_time": "2022-07-28T13:13:23.823Z"
   },
   {
    "duration": 18,
    "start_time": "2022-07-28T13:13:39.924Z"
   },
   {
    "duration": 4,
    "start_time": "2022-07-28T13:17:52.429Z"
   },
   {
    "duration": 3,
    "start_time": "2022-07-28T13:18:04.246Z"
   },
   {
    "duration": 3,
    "start_time": "2022-07-28T13:18:37.034Z"
   },
   {
    "duration": 51,
    "start_time": "2022-07-28T13:18:46.157Z"
   },
   {
    "duration": 3,
    "start_time": "2022-07-28T13:19:19.034Z"
   },
   {
    "duration": 4,
    "start_time": "2022-07-28T13:20:45.615Z"
   },
   {
    "duration": 5,
    "start_time": "2022-07-28T13:21:06.683Z"
   },
   {
    "duration": 9,
    "start_time": "2022-07-28T13:21:52.964Z"
   },
   {
    "duration": 8,
    "start_time": "2022-07-28T13:23:35.553Z"
   },
   {
    "duration": 8,
    "start_time": "2022-07-28T13:23:48.633Z"
   },
   {
    "duration": 13,
    "start_time": "2022-07-28T13:23:56.476Z"
   },
   {
    "duration": 8,
    "start_time": "2022-07-28T13:24:22.423Z"
   },
   {
    "duration": 11,
    "start_time": "2022-07-28T13:25:26.944Z"
   },
   {
    "duration": 68,
    "start_time": "2022-07-28T13:25:59.738Z"
   },
   {
    "duration": 11,
    "start_time": "2022-07-28T13:26:06.576Z"
   },
   {
    "duration": 9,
    "start_time": "2022-07-28T13:26:35.769Z"
   },
   {
    "duration": 12,
    "start_time": "2022-07-28T13:27:16.414Z"
   },
   {
    "duration": 7,
    "start_time": "2022-07-28T13:27:25.929Z"
   },
   {
    "duration": 7,
    "start_time": "2022-07-28T13:41:49.005Z"
   },
   {
    "duration": 7,
    "start_time": "2022-07-28T13:43:35.424Z"
   },
   {
    "duration": 5,
    "start_time": "2022-07-28T13:44:10.919Z"
   },
   {
    "duration": 5,
    "start_time": "2022-07-28T14:23:33.951Z"
   },
   {
    "duration": 5,
    "start_time": "2022-07-28T14:23:36.939Z"
   },
   {
    "duration": 5,
    "start_time": "2022-07-28T14:23:42.639Z"
   },
   {
    "duration": 10,
    "start_time": "2022-07-28T14:24:55.255Z"
   },
   {
    "duration": 6,
    "start_time": "2022-07-28T14:25:05.990Z"
   },
   {
    "duration": 6,
    "start_time": "2022-07-28T14:27:02.511Z"
   },
   {
    "duration": 9,
    "start_time": "2022-07-28T14:27:38.402Z"
   },
   {
    "duration": 99,
    "start_time": "2022-07-28T14:29:37.239Z"
   },
   {
    "duration": 10,
    "start_time": "2022-07-28T14:29:53.399Z"
   },
   {
    "duration": 8,
    "start_time": "2022-07-28T14:29:57.804Z"
   },
   {
    "duration": 5,
    "start_time": "2022-07-28T14:30:33.225Z"
   },
   {
    "duration": 68,
    "start_time": "2022-07-28T14:30:48.533Z"
   },
   {
    "duration": 4,
    "start_time": "2022-07-28T14:30:48.604Z"
   },
   {
    "duration": 64,
    "start_time": "2022-07-28T14:30:48.610Z"
   },
   {
    "duration": 13,
    "start_time": "2022-07-28T14:30:48.677Z"
   },
   {
    "duration": 32,
    "start_time": "2022-07-28T14:30:48.692Z"
   },
   {
    "duration": 14,
    "start_time": "2022-07-28T14:30:48.726Z"
   },
   {
    "duration": 21,
    "start_time": "2022-07-28T14:30:48.741Z"
   },
   {
    "duration": 6,
    "start_time": "2022-07-28T14:30:48.764Z"
   },
   {
    "duration": 20,
    "start_time": "2022-07-28T14:30:48.772Z"
   },
   {
    "duration": 21,
    "start_time": "2022-07-28T14:30:48.795Z"
   },
   {
    "duration": 93,
    "start_time": "2022-07-28T14:30:48.818Z"
   },
   {
    "duration": 72,
    "start_time": "2022-07-28T14:30:48.913Z"
   },
   {
    "duration": 2,
    "start_time": "2022-07-28T14:30:48.987Z"
   },
   {
    "duration": 10,
    "start_time": "2022-07-28T14:30:48.991Z"
   },
   {
    "duration": 6,
    "start_time": "2022-07-28T14:30:49.003Z"
   },
   {
    "duration": 11,
    "start_time": "2022-07-28T14:30:49.011Z"
   },
   {
    "duration": 12,
    "start_time": "2022-07-28T14:30:49.024Z"
   },
   {
    "duration": 37,
    "start_time": "2022-07-28T14:30:49.038Z"
   },
   {
    "duration": 19,
    "start_time": "2022-07-28T14:30:49.077Z"
   },
   {
    "duration": 8,
    "start_time": "2022-07-28T14:30:49.098Z"
   },
   {
    "duration": 6,
    "start_time": "2022-07-28T14:30:49.107Z"
   },
   {
    "duration": 11,
    "start_time": "2022-07-28T14:30:49.114Z"
   },
   {
    "duration": 4,
    "start_time": "2022-07-28T14:30:49.126Z"
   },
   {
    "duration": 16,
    "start_time": "2022-07-28T14:30:49.131Z"
   },
   {
    "duration": 7,
    "start_time": "2022-07-28T14:30:57.414Z"
   },
   {
    "duration": 6,
    "start_time": "2022-07-28T14:31:01.470Z"
   },
   {
    "duration": 8,
    "start_time": "2022-07-28T14:33:33.653Z"
   },
   {
    "duration": 10,
    "start_time": "2022-07-28T14:33:35.325Z"
   },
   {
    "duration": 8,
    "start_time": "2022-07-28T14:34:47.379Z"
   },
   {
    "duration": 4,
    "start_time": "2022-07-28T14:35:37.492Z"
   },
   {
    "duration": 4,
    "start_time": "2022-07-28T14:36:14.590Z"
   },
   {
    "duration": 7,
    "start_time": "2022-07-28T14:36:35.413Z"
   },
   {
    "duration": 8,
    "start_time": "2022-07-28T14:36:54.702Z"
   },
   {
    "duration": 8,
    "start_time": "2022-07-28T14:37:23.390Z"
   },
   {
    "duration": 7,
    "start_time": "2022-07-28T14:37:29.923Z"
   },
   {
    "duration": 8,
    "start_time": "2022-07-28T14:37:49.499Z"
   },
   {
    "duration": 7,
    "start_time": "2022-07-28T14:40:10.328Z"
   },
   {
    "duration": 4,
    "start_time": "2022-07-28T14:40:24.435Z"
   },
   {
    "duration": 11,
    "start_time": "2022-07-28T14:40:32.384Z"
   },
   {
    "duration": 8,
    "start_time": "2022-07-28T14:40:41.356Z"
   },
   {
    "duration": 10,
    "start_time": "2022-07-28T14:41:16.307Z"
   },
   {
    "duration": 608,
    "start_time": "2022-07-30T16:48:04.024Z"
   },
   {
    "duration": 9,
    "start_time": "2022-07-30T16:48:04.634Z"
   },
   {
    "duration": 61,
    "start_time": "2022-07-30T16:48:04.645Z"
   },
   {
    "duration": 14,
    "start_time": "2022-07-30T16:48:04.709Z"
   },
   {
    "duration": 19,
    "start_time": "2022-07-30T16:48:04.725Z"
   },
   {
    "duration": 16,
    "start_time": "2022-07-30T16:48:04.746Z"
   },
   {
    "duration": 40,
    "start_time": "2022-07-30T16:48:04.764Z"
   },
   {
    "duration": 4,
    "start_time": "2022-07-30T16:48:04.806Z"
   },
   {
    "duration": 69,
    "start_time": "2022-07-30T16:48:08.504Z"
   },
   {
    "duration": 22,
    "start_time": "2022-07-30T16:48:48.791Z"
   },
   {
    "duration": 22,
    "start_time": "2022-07-30T16:50:19.693Z"
   },
   {
    "duration": 23,
    "start_time": "2022-07-30T16:50:45.020Z"
   },
   {
    "duration": 37,
    "start_time": "2022-07-30T16:58:31.719Z"
   },
   {
    "duration": 37,
    "start_time": "2022-07-30T16:59:19.320Z"
   },
   {
    "duration": 570,
    "start_time": "2022-07-31T07:08:20.947Z"
   },
   {
    "duration": 7,
    "start_time": "2022-07-31T07:08:21.519Z"
   },
   {
    "duration": 56,
    "start_time": "2022-07-31T07:08:21.528Z"
   },
   {
    "duration": 12,
    "start_time": "2022-07-31T07:08:21.586Z"
   },
   {
    "duration": 15,
    "start_time": "2022-07-31T07:08:21.599Z"
   },
   {
    "duration": 14,
    "start_time": "2022-07-31T07:08:21.615Z"
   },
   {
    "duration": 8,
    "start_time": "2022-07-31T07:08:21.630Z"
   },
   {
    "duration": 23,
    "start_time": "2022-07-31T07:08:21.639Z"
   },
   {
    "duration": 29,
    "start_time": "2022-07-31T07:08:21.664Z"
   },
   {
    "duration": 19,
    "start_time": "2022-07-31T07:08:21.695Z"
   },
   {
    "duration": 66,
    "start_time": "2022-07-31T07:08:21.716Z"
   },
   {
    "duration": 61,
    "start_time": "2022-07-31T07:43:48.853Z"
   },
   {
    "duration": 13,
    "start_time": "2022-07-31T07:52:02.047Z"
   },
   {
    "duration": 9,
    "start_time": "2022-07-31T07:52:08.541Z"
   },
   {
    "duration": 8,
    "start_time": "2022-07-31T07:53:32.399Z"
   },
   {
    "duration": 13,
    "start_time": "2022-07-31T07:53:41.498Z"
   },
   {
    "duration": 13,
    "start_time": "2022-07-31T07:54:06.974Z"
   },
   {
    "duration": 10,
    "start_time": "2022-07-31T08:04:43.500Z"
   },
   {
    "duration": 9,
    "start_time": "2022-07-31T08:05:01.082Z"
   },
   {
    "duration": 9,
    "start_time": "2022-07-31T08:05:25.177Z"
   },
   {
    "duration": 12,
    "start_time": "2022-07-31T08:05:40.497Z"
   },
   {
    "duration": 12,
    "start_time": "2022-07-31T08:06:06.356Z"
   },
   {
    "duration": 12,
    "start_time": "2022-07-31T08:06:17.656Z"
   },
   {
    "duration": 12,
    "start_time": "2022-07-31T08:09:54.537Z"
   },
   {
    "duration": 2,
    "start_time": "2022-07-31T08:16:03.667Z"
   },
   {
    "duration": 20,
    "start_time": "2022-07-31T08:17:36.802Z"
   },
   {
    "duration": 18,
    "start_time": "2022-07-31T08:17:55.037Z"
   },
   {
    "duration": 56,
    "start_time": "2022-07-31T08:18:22.506Z"
   },
   {
    "duration": 16,
    "start_time": "2022-07-31T08:19:50.611Z"
   },
   {
    "duration": 4,
    "start_time": "2022-07-31T10:30:58.769Z"
   },
   {
    "duration": 4,
    "start_time": "2022-07-31T10:31:31.477Z"
   },
   {
    "duration": 30,
    "start_time": "2022-07-31T10:33:26.816Z"
   },
   {
    "duration": 17,
    "start_time": "2022-07-31T10:35:15.550Z"
   },
   {
    "duration": 15,
    "start_time": "2022-07-31T10:35:32.137Z"
   },
   {
    "duration": 16,
    "start_time": "2022-07-31T10:35:43.302Z"
   },
   {
    "duration": 31,
    "start_time": "2022-07-31T10:41:56.930Z"
   },
   {
    "duration": 18,
    "start_time": "2022-07-31T10:45:27.721Z"
   },
   {
    "duration": 17,
    "start_time": "2022-07-31T10:45:45.694Z"
   },
   {
    "duration": 18,
    "start_time": "2022-07-31T10:45:51.562Z"
   },
   {
    "duration": 19,
    "start_time": "2022-07-31T10:45:57.502Z"
   },
   {
    "duration": 7,
    "start_time": "2022-07-31T10:46:24.009Z"
   },
   {
    "duration": 4,
    "start_time": "2022-07-31T10:46:50.280Z"
   },
   {
    "duration": 15,
    "start_time": "2022-07-31T10:50:36.516Z"
   },
   {
    "duration": 20,
    "start_time": "2022-07-31T11:17:13.452Z"
   },
   {
    "duration": 15,
    "start_time": "2022-07-31T11:17:29.614Z"
   },
   {
    "duration": 26,
    "start_time": "2022-07-31T11:18:05.347Z"
   },
   {
    "duration": 4,
    "start_time": "2022-07-31T11:18:17.619Z"
   },
   {
    "duration": 15,
    "start_time": "2022-07-31T11:18:47.143Z"
   },
   {
    "duration": 25,
    "start_time": "2022-07-31T11:19:18.264Z"
   },
   {
    "duration": 75,
    "start_time": "2022-07-31T11:21:22.722Z"
   },
   {
    "duration": 55,
    "start_time": "2022-07-31T11:21:42.673Z"
   },
   {
    "duration": 8,
    "start_time": "2022-07-31T11:21:57.089Z"
   },
   {
    "duration": 15,
    "start_time": "2022-07-31T11:22:21.314Z"
   },
   {
    "duration": 14,
    "start_time": "2022-07-31T11:22:28.320Z"
   },
   {
    "duration": 4,
    "start_time": "2022-07-31T11:25:34.320Z"
   },
   {
    "duration": 10,
    "start_time": "2022-07-31T11:25:42.465Z"
   },
   {
    "duration": 13,
    "start_time": "2022-07-31T11:25:53.567Z"
   },
   {
    "duration": 14,
    "start_time": "2022-07-31T11:27:38.876Z"
   },
   {
    "duration": 18,
    "start_time": "2022-07-31T11:28:08.997Z"
   },
   {
    "duration": 18,
    "start_time": "2022-07-31T11:30:01.050Z"
   },
   {
    "duration": 17,
    "start_time": "2022-07-31T11:30:29.565Z"
   },
   {
    "duration": 15,
    "start_time": "2022-07-31T11:31:23.127Z"
   },
   {
    "duration": 22,
    "start_time": "2022-07-31T11:33:27.084Z"
   },
   {
    "duration": 7,
    "start_time": "2022-07-31T15:50:30.230Z"
   },
   {
    "duration": 9,
    "start_time": "2022-07-31T15:50:43.816Z"
   },
   {
    "duration": 8,
    "start_time": "2022-07-31T15:50:55.780Z"
   },
   {
    "duration": 12,
    "start_time": "2022-07-31T15:52:38.034Z"
   },
   {
    "duration": 72,
    "start_time": "2022-07-31T15:52:54.019Z"
   },
   {
    "duration": 4,
    "start_time": "2022-07-31T15:52:54.094Z"
   },
   {
    "duration": 85,
    "start_time": "2022-07-31T15:52:54.100Z"
   },
   {
    "duration": 15,
    "start_time": "2022-07-31T15:52:54.187Z"
   },
   {
    "duration": 21,
    "start_time": "2022-07-31T15:52:54.204Z"
   },
   {
    "duration": 49,
    "start_time": "2022-07-31T15:52:54.228Z"
   },
   {
    "duration": 10,
    "start_time": "2022-07-31T15:52:54.280Z"
   },
   {
    "duration": 9,
    "start_time": "2022-07-31T15:52:54.292Z"
   },
   {
    "duration": 38,
    "start_time": "2022-07-31T15:52:54.303Z"
   },
   {
    "duration": 45,
    "start_time": "2022-07-31T15:52:54.343Z"
   },
   {
    "duration": 77,
    "start_time": "2022-07-31T15:52:54.391Z"
   },
   {
    "duration": 54,
    "start_time": "2022-07-31T15:52:54.472Z"
   },
   {
    "duration": 3,
    "start_time": "2022-07-31T15:52:54.529Z"
   },
   {
    "duration": 10,
    "start_time": "2022-07-31T15:52:54.534Z"
   },
   {
    "duration": 12,
    "start_time": "2022-07-31T15:52:54.546Z"
   },
   {
    "duration": 29,
    "start_time": "2022-07-31T15:52:54.561Z"
   },
   {
    "duration": 19,
    "start_time": "2022-07-31T15:52:54.592Z"
   },
   {
    "duration": 14,
    "start_time": "2022-07-31T15:52:54.614Z"
   },
   {
    "duration": 7,
    "start_time": "2022-07-31T15:52:54.630Z"
   },
   {
    "duration": 9,
    "start_time": "2022-07-31T15:52:54.639Z"
   },
   {
    "duration": 9,
    "start_time": "2022-07-31T15:52:54.650Z"
   },
   {
    "duration": 46,
    "start_time": "2022-07-31T15:52:54.660Z"
   },
   {
    "duration": 17,
    "start_time": "2022-07-31T15:52:54.708Z"
   },
   {
    "duration": 21,
    "start_time": "2022-07-31T15:52:54.728Z"
   },
   {
    "duration": 10,
    "start_time": "2022-07-31T15:52:54.750Z"
   },
   {
    "duration": 23,
    "start_time": "2022-07-31T15:52:54.763Z"
   },
   {
    "duration": 10,
    "start_time": "2022-07-31T15:52:54.788Z"
   },
   {
    "duration": 9,
    "start_time": "2022-07-31T15:52:54.801Z"
   },
   {
    "duration": 8,
    "start_time": "2022-07-31T15:52:54.812Z"
   },
   {
    "duration": 7,
    "start_time": "2022-07-31T15:52:54.821Z"
   },
   {
    "duration": 6,
    "start_time": "2022-07-31T15:52:54.829Z"
   },
   {
    "duration": 25,
    "start_time": "2022-07-31T15:52:54.837Z"
   },
   {
    "duration": 24,
    "start_time": "2022-07-31T15:52:54.865Z"
   },
   {
    "duration": 19,
    "start_time": "2022-07-31T15:52:54.891Z"
   },
   {
    "duration": 14,
    "start_time": "2022-07-31T15:52:54.912Z"
   },
   {
    "duration": 21,
    "start_time": "2022-07-31T15:52:54.927Z"
   },
   {
    "duration": 3,
    "start_time": "2022-07-31T15:52:54.950Z"
   },
   {
    "duration": 22,
    "start_time": "2022-07-31T15:52:54.955Z"
   },
   {
    "duration": 20,
    "start_time": "2022-07-31T15:52:54.979Z"
   },
   {
    "duration": 31,
    "start_time": "2022-07-31T15:52:55.001Z"
   },
   {
    "duration": 17,
    "start_time": "2022-07-31T15:52:55.034Z"
   },
   {
    "duration": 38,
    "start_time": "2022-07-31T15:52:55.053Z"
   },
   {
    "duration": 14,
    "start_time": "2022-07-31T15:52:55.093Z"
   },
   {
    "duration": 4,
    "start_time": "2022-07-31T15:52:55.108Z"
   },
   {
    "duration": 15,
    "start_time": "2022-07-31T15:52:55.114Z"
   },
   {
    "duration": 16,
    "start_time": "2022-07-31T15:52:57.619Z"
   },
   {
    "duration": 11,
    "start_time": "2022-07-31T15:54:37.756Z"
   },
   {
    "duration": 7,
    "start_time": "2022-07-31T15:56:45.131Z"
   },
   {
    "duration": 8,
    "start_time": "2022-07-31T16:11:20.664Z"
   },
   {
    "duration": 181,
    "start_time": "2022-07-31T16:12:07.177Z"
   },
   {
    "duration": 20,
    "start_time": "2022-07-31T17:18:46.794Z"
   },
   {
    "duration": 14,
    "start_time": "2022-07-31T17:19:27.288Z"
   },
   {
    "duration": 6,
    "start_time": "2022-07-31T17:20:38.837Z"
   },
   {
    "duration": 5,
    "start_time": "2022-07-31T17:20:46.624Z"
   },
   {
    "duration": 3,
    "start_time": "2022-07-31T17:21:34.382Z"
   },
   {
    "duration": 6,
    "start_time": "2022-07-31T17:27:06.094Z"
   },
   {
    "duration": 3,
    "start_time": "2022-07-31T17:27:53.713Z"
   },
   {
    "duration": 12,
    "start_time": "2022-07-31T17:27:59.587Z"
   },
   {
    "duration": 9,
    "start_time": "2022-07-31T17:28:02.394Z"
   },
   {
    "duration": 22,
    "start_time": "2022-07-31T17:28:10.595Z"
   },
   {
    "duration": 479,
    "start_time": "2022-07-31T17:40:13.590Z"
   },
   {
    "duration": 797,
    "start_time": "2022-07-31T17:42:51.594Z"
   },
   {
    "duration": 583,
    "start_time": "2022-07-31T17:45:05.117Z"
   },
   {
    "duration": 26,
    "start_time": "2022-07-31T17:45:18.514Z"
   },
   {
    "duration": 20,
    "start_time": "2022-07-31T17:49:03.408Z"
   },
   {
    "duration": 31,
    "start_time": "2022-07-31T17:51:16.265Z"
   },
   {
    "duration": 5,
    "start_time": "2022-07-31T17:54:16.605Z"
   },
   {
    "duration": 10,
    "start_time": "2022-07-31T17:54:51.234Z"
   },
   {
    "duration": 554,
    "start_time": "2022-07-31T18:01:40.421Z"
   },
   {
    "duration": 553,
    "start_time": "2022-07-31T18:02:59.693Z"
   },
   {
    "duration": 359,
    "start_time": "2022-07-31T18:04:26.989Z"
   },
   {
    "duration": 310,
    "start_time": "2022-07-31T18:09:00.043Z"
   },
   {
    "duration": 187,
    "start_time": "2022-07-31T18:09:46.686Z"
   },
   {
    "duration": 177,
    "start_time": "2022-07-31T18:10:05.606Z"
   },
   {
    "duration": 15,
    "start_time": "2022-07-31T18:12:24.286Z"
   },
   {
    "duration": 165,
    "start_time": "2022-07-31T18:18:08.885Z"
   },
   {
    "duration": 237,
    "start_time": "2022-07-31T18:33:29.596Z"
   },
   {
    "duration": 161,
    "start_time": "2022-07-31T18:33:38.305Z"
   },
   {
    "duration": 143,
    "start_time": "2022-07-31T18:34:33.043Z"
   },
   {
    "duration": 192,
    "start_time": "2022-07-31T18:36:40.039Z"
   },
   {
    "duration": 2,
    "start_time": "2022-07-31T18:44:11.811Z"
   },
   {
    "duration": 12,
    "start_time": "2022-07-31T18:44:25.491Z"
   },
   {
    "duration": 15,
    "start_time": "2022-07-31T18:44:52.363Z"
   },
   {
    "duration": 3,
    "start_time": "2022-07-31T18:50:54.899Z"
   },
   {
    "duration": 46,
    "start_time": "2022-07-31T18:51:03.027Z"
   },
   {
    "duration": 7,
    "start_time": "2022-07-31T18:58:21.105Z"
   },
   {
    "duration": 15,
    "start_time": "2022-07-31T18:59:23.391Z"
   },
   {
    "duration": 7,
    "start_time": "2022-07-31T18:59:37.621Z"
   },
   {
    "duration": 61,
    "start_time": "2022-07-31T19:00:01.968Z"
   },
   {
    "duration": 4,
    "start_time": "2022-07-31T19:00:02.031Z"
   },
   {
    "duration": 94,
    "start_time": "2022-07-31T19:00:02.036Z"
   },
   {
    "duration": 12,
    "start_time": "2022-07-31T19:00:02.132Z"
   },
   {
    "duration": 23,
    "start_time": "2022-07-31T19:00:02.146Z"
   },
   {
    "duration": 29,
    "start_time": "2022-07-31T19:00:02.171Z"
   },
   {
    "duration": 13,
    "start_time": "2022-07-31T19:00:02.201Z"
   },
   {
    "duration": 45,
    "start_time": "2022-07-31T19:00:02.216Z"
   },
   {
    "duration": 35,
    "start_time": "2022-07-31T19:00:02.264Z"
   },
   {
    "duration": 18,
    "start_time": "2022-07-31T19:00:02.300Z"
   },
   {
    "duration": 63,
    "start_time": "2022-07-31T19:00:02.320Z"
   },
   {
    "duration": 50,
    "start_time": "2022-07-31T19:00:02.384Z"
   },
   {
    "duration": 3,
    "start_time": "2022-07-31T19:00:02.436Z"
   },
   {
    "duration": 21,
    "start_time": "2022-07-31T19:00:02.441Z"
   },
   {
    "duration": 10,
    "start_time": "2022-07-31T19:00:02.464Z"
   },
   {
    "duration": 25,
    "start_time": "2022-07-31T19:00:02.476Z"
   },
   {
    "duration": 26,
    "start_time": "2022-07-31T19:00:02.503Z"
   },
   {
    "duration": 42,
    "start_time": "2022-07-31T19:00:02.531Z"
   },
   {
    "duration": 46,
    "start_time": "2022-07-31T19:00:02.575Z"
   },
   {
    "duration": 61,
    "start_time": "2022-07-31T19:00:02.624Z"
   },
   {
    "duration": 61,
    "start_time": "2022-07-31T19:00:02.687Z"
   },
   {
    "duration": 42,
    "start_time": "2022-07-31T19:00:02.750Z"
   },
   {
    "duration": 51,
    "start_time": "2022-07-31T19:00:02.794Z"
   },
   {
    "duration": 43,
    "start_time": "2022-07-31T19:00:02.847Z"
   },
   {
    "duration": 39,
    "start_time": "2022-07-31T19:00:02.892Z"
   },
   {
    "duration": 37,
    "start_time": "2022-07-31T19:00:02.932Z"
   },
   {
    "duration": 54,
    "start_time": "2022-07-31T19:00:02.971Z"
   },
   {
    "duration": 41,
    "start_time": "2022-07-31T19:00:03.028Z"
   },
   {
    "duration": 36,
    "start_time": "2022-07-31T19:00:03.071Z"
   },
   {
    "duration": 20,
    "start_time": "2022-07-31T19:00:03.109Z"
   },
   {
    "duration": 21,
    "start_time": "2022-07-31T19:00:03.131Z"
   },
   {
    "duration": 11,
    "start_time": "2022-07-31T19:00:03.154Z"
   },
   {
    "duration": 19,
    "start_time": "2022-07-31T19:00:03.167Z"
   },
   {
    "duration": 31,
    "start_time": "2022-07-31T19:00:03.188Z"
   },
   {
    "duration": 29,
    "start_time": "2022-07-31T19:00:03.221Z"
   },
   {
    "duration": 17,
    "start_time": "2022-07-31T19:00:03.252Z"
   },
   {
    "duration": 33,
    "start_time": "2022-07-31T19:00:03.271Z"
   },
   {
    "duration": 24,
    "start_time": "2022-07-31T19:00:03.306Z"
   },
   {
    "duration": 24,
    "start_time": "2022-07-31T19:00:03.331Z"
   },
   {
    "duration": 39,
    "start_time": "2022-07-31T19:00:03.356Z"
   },
   {
    "duration": 73,
    "start_time": "2022-07-31T19:00:03.397Z"
   },
   {
    "duration": 49,
    "start_time": "2022-07-31T19:00:03.471Z"
   },
   {
    "duration": 15,
    "start_time": "2022-07-31T19:00:03.522Z"
   },
   {
    "duration": 33,
    "start_time": "2022-07-31T19:00:03.539Z"
   },
   {
    "duration": 21,
    "start_time": "2022-07-31T19:00:03.573Z"
   },
   {
    "duration": 31,
    "start_time": "2022-07-31T19:00:03.595Z"
   },
   {
    "duration": 3,
    "start_time": "2022-07-31T19:03:01.418Z"
   },
   {
    "duration": 8,
    "start_time": "2022-07-31T19:03:01.423Z"
   },
   {
    "duration": 16,
    "start_time": "2022-07-31T19:03:01.433Z"
   },
   {
    "duration": 17,
    "start_time": "2022-07-31T19:03:01.450Z"
   },
   {
    "duration": 29,
    "start_time": "2022-07-31T19:03:01.469Z"
   },
   {
    "duration": 212,
    "start_time": "2022-07-31T19:03:01.500Z"
   },
   {
    "duration": 183,
    "start_time": "2022-07-31T19:03:01.714Z"
   },
   {
    "duration": 150,
    "start_time": "2022-07-31T19:03:01.899Z"
   },
   {
    "duration": 52,
    "start_time": "2022-07-31T19:03:02.051Z"
   },
   {
    "duration": 2,
    "start_time": "2022-07-31T19:03:02.104Z"
   },
   {
    "duration": 11,
    "start_time": "2022-07-31T19:03:02.109Z"
   },
   {
    "duration": 9,
    "start_time": "2022-07-31T19:03:02.121Z"
   },
   {
    "duration": 15,
    "start_time": "2022-07-31T19:03:02.132Z"
   },
   {
    "duration": 6,
    "start_time": "2022-07-31T19:03:02.149Z"
   },
   {
    "duration": 8,
    "start_time": "2022-07-31T19:03:02.157Z"
   },
   {
    "duration": 7,
    "start_time": "2022-07-31T19:03:02.166Z"
   },
   {
    "duration": 5,
    "start_time": "2022-07-31T19:03:02.175Z"
   },
   {
    "duration": 6,
    "start_time": "2022-07-31T19:03:02.182Z"
   },
   {
    "duration": 10,
    "start_time": "2022-07-31T19:03:02.189Z"
   },
   {
    "duration": 16,
    "start_time": "2022-07-31T19:03:02.200Z"
   },
   {
    "duration": 9,
    "start_time": "2022-07-31T19:03:02.217Z"
   },
   {
    "duration": 7,
    "start_time": "2022-07-31T19:03:02.228Z"
   },
   {
    "duration": 12,
    "start_time": "2022-07-31T19:03:02.236Z"
   },
   {
    "duration": 8,
    "start_time": "2022-07-31T19:03:02.249Z"
   },
   {
    "duration": 8,
    "start_time": "2022-07-31T19:03:02.258Z"
   },
   {
    "duration": 31,
    "start_time": "2022-07-31T19:03:02.267Z"
   },
   {
    "duration": 10,
    "start_time": "2022-07-31T19:03:02.300Z"
   },
   {
    "duration": 7,
    "start_time": "2022-07-31T19:03:02.311Z"
   },
   {
    "duration": 4,
    "start_time": "2022-07-31T19:03:02.321Z"
   },
   {
    "duration": 4,
    "start_time": "2022-07-31T19:03:02.327Z"
   },
   {
    "duration": 11,
    "start_time": "2022-07-31T19:03:02.333Z"
   },
   {
    "duration": 19,
    "start_time": "2022-07-31T19:03:02.346Z"
   },
   {
    "duration": 21,
    "start_time": "2022-07-31T19:03:02.366Z"
   },
   {
    "duration": 7,
    "start_time": "2022-07-31T19:03:02.389Z"
   },
   {
    "duration": 7,
    "start_time": "2022-07-31T19:03:02.398Z"
   },
   {
    "duration": 16,
    "start_time": "2022-07-31T19:03:02.407Z"
   },
   {
    "duration": 9,
    "start_time": "2022-07-31T19:03:02.424Z"
   },
   {
    "duration": 11,
    "start_time": "2022-07-31T19:03:02.434Z"
   },
   {
    "duration": 10,
    "start_time": "2022-07-31T19:03:02.447Z"
   },
   {
    "duration": 14,
    "start_time": "2022-07-31T19:04:16.482Z"
   },
   {
    "duration": 9,
    "start_time": "2022-07-31T19:06:10.201Z"
   },
   {
    "duration": 15,
    "start_time": "2022-07-31T19:06:14.774Z"
   },
   {
    "duration": 149,
    "start_time": "2022-07-31T19:06:14.791Z"
   },
   {
    "duration": 176,
    "start_time": "2022-07-31T19:06:14.942Z"
   },
   {
    "duration": 175,
    "start_time": "2022-07-31T19:06:15.121Z"
   },
   {
    "duration": 152,
    "start_time": "2022-07-31T19:06:15.297Z"
   },
   {
    "duration": 3,
    "start_time": "2022-07-31T19:06:15.450Z"
   },
   {
    "duration": 8,
    "start_time": "2022-07-31T19:06:15.454Z"
   },
   {
    "duration": 6,
    "start_time": "2022-07-31T19:06:15.465Z"
   },
   {
    "duration": 5,
    "start_time": "2022-07-31T19:06:15.474Z"
   },
   {
    "duration": 6,
    "start_time": "2022-07-31T19:06:15.483Z"
   },
   {
    "duration": 6,
    "start_time": "2022-07-31T19:06:15.491Z"
   },
   {
    "duration": 5,
    "start_time": "2022-07-31T19:06:15.499Z"
   },
   {
    "duration": 7,
    "start_time": "2022-07-31T19:06:15.506Z"
   },
   {
    "duration": 6,
    "start_time": "2022-07-31T19:06:15.515Z"
   },
   {
    "duration": 6,
    "start_time": "2022-07-31T19:06:15.523Z"
   },
   {
    "duration": 29,
    "start_time": "2022-07-31T19:06:15.532Z"
   },
   {
    "duration": 5,
    "start_time": "2022-07-31T19:06:15.564Z"
   },
   {
    "duration": 9,
    "start_time": "2022-07-31T19:06:15.572Z"
   },
   {
    "duration": 12,
    "start_time": "2022-07-31T19:06:15.582Z"
   },
   {
    "duration": 10,
    "start_time": "2022-07-31T19:06:15.596Z"
   },
   {
    "duration": 6,
    "start_time": "2022-07-31T19:06:15.608Z"
   },
   {
    "duration": 5,
    "start_time": "2022-07-31T19:06:15.616Z"
   },
   {
    "duration": 10,
    "start_time": "2022-07-31T19:06:15.623Z"
   },
   {
    "duration": 9,
    "start_time": "2022-07-31T19:06:15.635Z"
   },
   {
    "duration": 9,
    "start_time": "2022-07-31T19:06:15.646Z"
   },
   {
    "duration": 7,
    "start_time": "2022-07-31T19:06:15.657Z"
   },
   {
    "duration": 6,
    "start_time": "2022-07-31T19:06:15.666Z"
   },
   {
    "duration": 5,
    "start_time": "2022-07-31T19:06:15.676Z"
   },
   {
    "duration": 14,
    "start_time": "2022-07-31T19:06:15.682Z"
   },
   {
    "duration": 6,
    "start_time": "2022-07-31T19:06:15.699Z"
   },
   {
    "duration": 15,
    "start_time": "2022-07-31T19:06:15.708Z"
   },
   {
    "duration": 8,
    "start_time": "2022-07-31T19:06:15.725Z"
   },
   {
    "duration": 5,
    "start_time": "2022-07-31T19:06:15.735Z"
   },
   {
    "duration": 5,
    "start_time": "2022-07-31T19:06:15.742Z"
   },
   {
    "duration": 5,
    "start_time": "2022-07-31T19:06:15.749Z"
   },
   {
    "duration": 4,
    "start_time": "2022-07-31T19:07:02.509Z"
   },
   {
    "duration": 8,
    "start_time": "2022-07-31T19:07:02.516Z"
   },
   {
    "duration": 35,
    "start_time": "2022-07-31T19:07:02.526Z"
   },
   {
    "duration": 39,
    "start_time": "2022-07-31T19:07:02.564Z"
   },
   {
    "duration": 170,
    "start_time": "2022-07-31T19:07:02.605Z"
   },
   {
    "duration": 160,
    "start_time": "2022-07-31T19:07:02.777Z"
   },
   {
    "duration": 171,
    "start_time": "2022-07-31T19:07:02.939Z"
   },
   {
    "duration": 62,
    "start_time": "2022-07-31T19:07:03.112Z"
   },
   {
    "duration": 3,
    "start_time": "2022-07-31T19:07:03.176Z"
   },
   {
    "duration": 13,
    "start_time": "2022-07-31T19:07:03.182Z"
   },
   {
    "duration": 15,
    "start_time": "2022-07-31T19:07:03.197Z"
   },
   {
    "duration": 11,
    "start_time": "2022-07-31T19:07:03.213Z"
   },
   {
    "duration": 18,
    "start_time": "2022-07-31T19:07:03.226Z"
   },
   {
    "duration": 6,
    "start_time": "2022-07-31T19:07:03.246Z"
   },
   {
    "duration": 11,
    "start_time": "2022-07-31T19:07:03.254Z"
   },
   {
    "duration": 12,
    "start_time": "2022-07-31T19:07:03.267Z"
   },
   {
    "duration": 15,
    "start_time": "2022-07-31T19:07:03.281Z"
   },
   {
    "duration": 9,
    "start_time": "2022-07-31T19:07:03.298Z"
   },
   {
    "duration": 12,
    "start_time": "2022-07-31T19:07:03.309Z"
   },
   {
    "duration": 11,
    "start_time": "2022-07-31T19:07:03.323Z"
   },
   {
    "duration": 8,
    "start_time": "2022-07-31T19:07:03.336Z"
   },
   {
    "duration": 8,
    "start_time": "2022-07-31T19:07:03.346Z"
   },
   {
    "duration": 8,
    "start_time": "2022-07-31T19:07:03.356Z"
   },
   {
    "duration": 11,
    "start_time": "2022-07-31T19:07:03.366Z"
   },
   {
    "duration": 11,
    "start_time": "2022-07-31T19:07:03.380Z"
   },
   {
    "duration": 9,
    "start_time": "2022-07-31T19:07:03.393Z"
   },
   {
    "duration": 12,
    "start_time": "2022-07-31T19:07:03.404Z"
   },
   {
    "duration": 8,
    "start_time": "2022-07-31T19:07:03.420Z"
   },
   {
    "duration": 8,
    "start_time": "2022-07-31T19:07:03.430Z"
   },
   {
    "duration": 9,
    "start_time": "2022-07-31T19:07:03.439Z"
   },
   {
    "duration": 7,
    "start_time": "2022-07-31T19:07:03.449Z"
   },
   {
    "duration": 20,
    "start_time": "2022-07-31T19:07:03.457Z"
   },
   {
    "duration": 9,
    "start_time": "2022-07-31T19:07:03.478Z"
   },
   {
    "duration": 8,
    "start_time": "2022-07-31T19:07:03.490Z"
   },
   {
    "duration": 18,
    "start_time": "2022-07-31T19:07:03.500Z"
   },
   {
    "duration": 21,
    "start_time": "2022-07-31T19:07:03.520Z"
   },
   {
    "duration": 8,
    "start_time": "2022-07-31T19:07:03.543Z"
   },
   {
    "duration": 6,
    "start_time": "2022-07-31T19:07:03.553Z"
   },
   {
    "duration": 4,
    "start_time": "2022-07-31T19:07:45.263Z"
   },
   {
    "duration": 0,
    "start_time": "2022-07-31T19:07:45.269Z"
   },
   {
    "duration": 170,
    "start_time": "2022-07-31T19:07:45.273Z"
   },
   {
    "duration": 169,
    "start_time": "2022-07-31T19:07:45.461Z"
   },
   {
    "duration": 175,
    "start_time": "2022-07-31T19:07:45.633Z"
   },
   {
    "duration": 80,
    "start_time": "2022-07-31T19:07:45.810Z"
   },
   {
    "duration": 3,
    "start_time": "2022-07-31T19:07:45.894Z"
   },
   {
    "duration": 7,
    "start_time": "2022-07-31T19:07:45.899Z"
   },
   {
    "duration": 8,
    "start_time": "2022-07-31T19:07:45.908Z"
   },
   {
    "duration": 6,
    "start_time": "2022-07-31T19:07:45.918Z"
   },
   {
    "duration": 6,
    "start_time": "2022-07-31T19:07:45.926Z"
   },
   {
    "duration": 6,
    "start_time": "2022-07-31T19:07:45.934Z"
   },
   {
    "duration": 20,
    "start_time": "2022-07-31T19:07:45.942Z"
   },
   {
    "duration": 7,
    "start_time": "2022-07-31T19:07:45.963Z"
   },
   {
    "duration": 7,
    "start_time": "2022-07-31T19:07:45.972Z"
   },
   {
    "duration": 12,
    "start_time": "2022-07-31T19:07:45.982Z"
   },
   {
    "duration": 12,
    "start_time": "2022-07-31T19:07:45.996Z"
   },
   {
    "duration": 6,
    "start_time": "2022-07-31T19:07:46.010Z"
   },
   {
    "duration": 14,
    "start_time": "2022-07-31T19:07:46.018Z"
   },
   {
    "duration": 9,
    "start_time": "2022-07-31T19:07:46.034Z"
   },
   {
    "duration": 7,
    "start_time": "2022-07-31T19:07:46.044Z"
   },
   {
    "duration": 14,
    "start_time": "2022-07-31T19:07:46.053Z"
   },
   {
    "duration": 14,
    "start_time": "2022-07-31T19:07:46.069Z"
   },
   {
    "duration": 10,
    "start_time": "2022-07-31T19:07:46.084Z"
   },
   {
    "duration": 7,
    "start_time": "2022-07-31T19:07:46.096Z"
   },
   {
    "duration": 5,
    "start_time": "2022-07-31T19:07:46.105Z"
   },
   {
    "duration": 7,
    "start_time": "2022-07-31T19:07:46.111Z"
   },
   {
    "duration": 6,
    "start_time": "2022-07-31T19:07:46.120Z"
   },
   {
    "duration": 19,
    "start_time": "2022-07-31T19:07:46.128Z"
   },
   {
    "duration": 5,
    "start_time": "2022-07-31T19:07:46.148Z"
   },
   {
    "duration": 7,
    "start_time": "2022-07-31T19:07:46.155Z"
   },
   {
    "duration": 6,
    "start_time": "2022-07-31T19:07:46.163Z"
   },
   {
    "duration": 6,
    "start_time": "2022-07-31T19:07:46.170Z"
   },
   {
    "duration": 6,
    "start_time": "2022-07-31T19:07:46.178Z"
   },
   {
    "duration": 9,
    "start_time": "2022-07-31T19:07:46.186Z"
   },
   {
    "duration": 7,
    "start_time": "2022-07-31T19:07:46.197Z"
   },
   {
    "duration": 11,
    "start_time": "2022-07-31T19:08:21.138Z"
   },
   {
    "duration": 14,
    "start_time": "2022-07-31T19:08:26.172Z"
   },
   {
    "duration": 257,
    "start_time": "2022-07-31T19:08:26.189Z"
   },
   {
    "duration": 182,
    "start_time": "2022-07-31T19:08:26.448Z"
   },
   {
    "duration": 161,
    "start_time": "2022-07-31T19:08:26.632Z"
   },
   {
    "duration": 46,
    "start_time": "2022-07-31T19:08:26.795Z"
   },
   {
    "duration": 18,
    "start_time": "2022-07-31T19:08:26.843Z"
   },
   {
    "duration": 6,
    "start_time": "2022-07-31T19:08:26.863Z"
   },
   {
    "duration": 6,
    "start_time": "2022-07-31T19:08:26.870Z"
   },
   {
    "duration": 8,
    "start_time": "2022-07-31T19:08:26.878Z"
   },
   {
    "duration": 6,
    "start_time": "2022-07-31T19:08:26.888Z"
   },
   {
    "duration": 6,
    "start_time": "2022-07-31T19:08:26.895Z"
   },
   {
    "duration": 18,
    "start_time": "2022-07-31T19:08:26.903Z"
   },
   {
    "duration": 8,
    "start_time": "2022-07-31T19:08:26.923Z"
   },
   {
    "duration": 8,
    "start_time": "2022-07-31T19:08:26.933Z"
   },
   {
    "duration": 10,
    "start_time": "2022-07-31T19:08:26.942Z"
   },
   {
    "duration": 10,
    "start_time": "2022-07-31T19:08:26.953Z"
   },
   {
    "duration": 4,
    "start_time": "2022-07-31T19:08:26.965Z"
   },
   {
    "duration": 5,
    "start_time": "2022-07-31T19:08:26.971Z"
   },
   {
    "duration": 6,
    "start_time": "2022-07-31T19:08:26.977Z"
   },
   {
    "duration": 6,
    "start_time": "2022-07-31T19:08:26.985Z"
   },
   {
    "duration": 6,
    "start_time": "2022-07-31T19:08:26.992Z"
   },
   {
    "duration": 5,
    "start_time": "2022-07-31T19:08:27.000Z"
   },
   {
    "duration": 11,
    "start_time": "2022-07-31T19:08:27.007Z"
   },
   {
    "duration": 5,
    "start_time": "2022-07-31T19:08:27.020Z"
   },
   {
    "duration": 5,
    "start_time": "2022-07-31T19:08:27.027Z"
   },
   {
    "duration": 10,
    "start_time": "2022-07-31T19:08:27.034Z"
   },
   {
    "duration": 9,
    "start_time": "2022-07-31T19:08:27.046Z"
   },
   {
    "duration": 4,
    "start_time": "2022-07-31T19:08:27.058Z"
   },
   {
    "duration": 6,
    "start_time": "2022-07-31T19:08:27.064Z"
   },
   {
    "duration": 5,
    "start_time": "2022-07-31T19:08:27.073Z"
   },
   {
    "duration": 7,
    "start_time": "2022-07-31T19:08:27.080Z"
   },
   {
    "duration": 6,
    "start_time": "2022-07-31T19:08:27.089Z"
   },
   {
    "duration": 7,
    "start_time": "2022-07-31T19:08:27.097Z"
   },
   {
    "duration": 6,
    "start_time": "2022-07-31T19:08:27.106Z"
   },
   {
    "duration": 7,
    "start_time": "2022-07-31T19:08:27.113Z"
   },
   {
    "duration": 44,
    "start_time": "2022-07-31T19:10:12.120Z"
   },
   {
    "duration": 1509,
    "start_time": "2022-08-01T05:31:33.894Z"
   },
   {
    "duration": 198,
    "start_time": "2022-08-01T05:31:48.693Z"
   },
   {
    "duration": 5,
    "start_time": "2022-08-01T05:31:48.893Z"
   },
   {
    "duration": 61,
    "start_time": "2022-08-01T05:31:48.900Z"
   },
   {
    "duration": 14,
    "start_time": "2022-08-01T05:31:48.963Z"
   },
   {
    "duration": 22,
    "start_time": "2022-08-01T05:31:48.979Z"
   },
   {
    "duration": 18,
    "start_time": "2022-08-01T05:31:49.009Z"
   },
   {
    "duration": 15,
    "start_time": "2022-08-01T05:31:49.029Z"
   },
   {
    "duration": 7,
    "start_time": "2022-08-01T05:31:49.046Z"
   },
   {
    "duration": 56,
    "start_time": "2022-08-01T05:31:49.055Z"
   },
   {
    "duration": 21,
    "start_time": "2022-08-01T05:31:49.114Z"
   },
   {
    "duration": 74,
    "start_time": "2022-08-01T05:31:49.137Z"
   },
   {
    "duration": 58,
    "start_time": "2022-08-01T05:31:49.213Z"
   },
   {
    "duration": 3,
    "start_time": "2022-08-01T05:31:49.272Z"
   },
   {
    "duration": 12,
    "start_time": "2022-08-01T05:31:49.276Z"
   },
   {
    "duration": 21,
    "start_time": "2022-08-01T05:31:49.289Z"
   },
   {
    "duration": 15,
    "start_time": "2022-08-01T05:31:49.312Z"
   },
   {
    "duration": 14,
    "start_time": "2022-08-01T05:31:49.329Z"
   },
   {
    "duration": 11,
    "start_time": "2022-08-01T05:31:49.345Z"
   },
   {
    "duration": 14,
    "start_time": "2022-08-01T05:31:49.358Z"
   },
   {
    "duration": 12,
    "start_time": "2022-08-01T05:31:49.373Z"
   },
   {
    "duration": 24,
    "start_time": "2022-08-01T05:31:49.387Z"
   },
   {
    "duration": 5,
    "start_time": "2022-08-01T05:31:49.413Z"
   },
   {
    "duration": 11,
    "start_time": "2022-08-01T05:31:49.420Z"
   },
   {
    "duration": 5,
    "start_time": "2022-08-01T05:31:49.433Z"
   },
   {
    "duration": 50,
    "start_time": "2022-08-01T05:31:49.439Z"
   },
   {
    "duration": 29,
    "start_time": "2022-08-01T05:31:49.491Z"
   },
   {
    "duration": 6,
    "start_time": "2022-08-01T05:31:49.522Z"
   },
   {
    "duration": 16,
    "start_time": "2022-08-01T05:31:49.533Z"
   },
   {
    "duration": 12,
    "start_time": "2022-08-01T05:31:49.551Z"
   },
   {
    "duration": 11,
    "start_time": "2022-08-01T05:31:49.565Z"
   },
   {
    "duration": 33,
    "start_time": "2022-08-01T05:31:49.578Z"
   },
   {
    "duration": 6,
    "start_time": "2022-08-01T05:31:49.613Z"
   },
   {
    "duration": 14,
    "start_time": "2022-08-01T05:31:49.621Z"
   },
   {
    "duration": 6,
    "start_time": "2022-08-01T05:31:49.637Z"
   },
   {
    "duration": 28,
    "start_time": "2022-08-01T05:31:49.645Z"
   },
   {
    "duration": 14,
    "start_time": "2022-08-01T05:31:49.675Z"
   },
   {
    "duration": 30,
    "start_time": "2022-08-01T05:31:49.691Z"
   },
   {
    "duration": 25,
    "start_time": "2022-08-01T05:31:49.723Z"
   },
   {
    "duration": 8,
    "start_time": "2022-08-01T05:31:49.749Z"
   },
   {
    "duration": 30,
    "start_time": "2022-08-01T05:31:49.758Z"
   },
   {
    "duration": 48,
    "start_time": "2022-08-01T05:31:49.790Z"
   },
   {
    "duration": 19,
    "start_time": "2022-08-01T05:31:49.840Z"
   },
   {
    "duration": 20,
    "start_time": "2022-08-01T05:31:49.861Z"
   },
   {
    "duration": 37,
    "start_time": "2022-08-01T05:31:49.883Z"
   },
   {
    "duration": 4,
    "start_time": "2022-08-01T05:31:49.921Z"
   },
   {
    "duration": 18,
    "start_time": "2022-08-01T05:31:49.927Z"
   },
   {
    "duration": 4,
    "start_time": "2022-08-01T05:31:49.947Z"
   },
   {
    "duration": 5,
    "start_time": "2022-08-01T05:31:49.953Z"
   },
   {
    "duration": 12,
    "start_time": "2022-08-01T05:31:49.960Z"
   },
   {
    "duration": 41,
    "start_time": "2022-08-01T05:31:49.974Z"
   },
   {
    "duration": 19,
    "start_time": "2022-08-01T05:31:50.017Z"
   },
   {
    "duration": 232,
    "start_time": "2022-08-01T05:31:52.823Z"
   },
   {
    "duration": 196,
    "start_time": "2022-08-01T05:32:03.441Z"
   },
   {
    "duration": 225,
    "start_time": "2022-08-01T05:32:58.325Z"
   },
   {
    "duration": 186,
    "start_time": "2022-08-01T05:32:58.552Z"
   },
   {
    "duration": 173,
    "start_time": "2022-08-01T05:32:58.741Z"
   },
   {
    "duration": 45,
    "start_time": "2022-08-01T05:32:58.917Z"
   },
   {
    "duration": 64,
    "start_time": "2022-08-01T05:32:58.964Z"
   },
   {
    "duration": 3,
    "start_time": "2022-08-01T05:32:59.030Z"
   },
   {
    "duration": 6,
    "start_time": "2022-08-01T05:32:59.035Z"
   },
   {
    "duration": 4,
    "start_time": "2022-08-01T05:32:59.043Z"
   },
   {
    "duration": 9,
    "start_time": "2022-08-01T05:32:59.049Z"
   },
   {
    "duration": 10,
    "start_time": "2022-08-01T05:32:59.061Z"
   },
   {
    "duration": 9,
    "start_time": "2022-08-01T05:32:59.073Z"
   },
   {
    "duration": 6,
    "start_time": "2022-08-01T05:32:59.084Z"
   },
   {
    "duration": 22,
    "start_time": "2022-08-01T05:32:59.091Z"
   },
   {
    "duration": 5,
    "start_time": "2022-08-01T05:32:59.115Z"
   },
   {
    "duration": 5,
    "start_time": "2022-08-01T05:32:59.121Z"
   },
   {
    "duration": 5,
    "start_time": "2022-08-01T05:32:59.127Z"
   },
   {
    "duration": 5,
    "start_time": "2022-08-01T05:32:59.133Z"
   },
   {
    "duration": 4,
    "start_time": "2022-08-01T05:32:59.140Z"
   },
   {
    "duration": 15,
    "start_time": "2022-08-01T05:32:59.145Z"
   },
   {
    "duration": 13,
    "start_time": "2022-08-01T05:32:59.161Z"
   },
   {
    "duration": 6,
    "start_time": "2022-08-01T05:32:59.178Z"
   },
   {
    "duration": 4,
    "start_time": "2022-08-01T05:32:59.186Z"
   },
   {
    "duration": 5,
    "start_time": "2022-08-01T05:32:59.192Z"
   },
   {
    "duration": 15,
    "start_time": "2022-08-01T05:32:59.198Z"
   },
   {
    "duration": 5,
    "start_time": "2022-08-01T05:32:59.215Z"
   },
   {
    "duration": 11,
    "start_time": "2022-08-01T05:32:59.221Z"
   },
   {
    "duration": 7,
    "start_time": "2022-08-01T05:32:59.234Z"
   },
   {
    "duration": 8,
    "start_time": "2022-08-01T05:32:59.245Z"
   },
   {
    "duration": 17,
    "start_time": "2022-08-01T05:32:59.254Z"
   },
   {
    "duration": 7,
    "start_time": "2022-08-01T05:32:59.272Z"
   },
   {
    "duration": 4,
    "start_time": "2022-08-01T05:32:59.281Z"
   },
   {
    "duration": 4,
    "start_time": "2022-08-01T05:32:59.287Z"
   },
   {
    "duration": 7,
    "start_time": "2022-08-01T05:32:59.293Z"
   },
   {
    "duration": 6,
    "start_time": "2022-08-01T05:32:59.301Z"
   },
   {
    "duration": 5,
    "start_time": "2022-08-01T05:32:59.309Z"
   },
   {
    "duration": 15,
    "start_time": "2022-08-01T05:37:01.647Z"
   },
   {
    "duration": 24,
    "start_time": "2022-08-01T05:39:05.356Z"
   },
   {
    "duration": 24,
    "start_time": "2022-08-01T05:39:29.049Z"
   },
   {
    "duration": 21,
    "start_time": "2022-08-01T05:41:09.522Z"
   },
   {
    "duration": 22,
    "start_time": "2022-08-01T05:41:13.553Z"
   },
   {
    "duration": 13,
    "start_time": "2022-08-01T06:54:41.250Z"
   },
   {
    "duration": 84,
    "start_time": "2022-08-01T07:03:20.936Z"
   },
   {
    "duration": 24,
    "start_time": "2022-08-01T07:04:08.278Z"
   },
   {
    "duration": 47,
    "start_time": "2022-08-01T07:20:14.344Z"
   },
   {
    "duration": 66,
    "start_time": "2022-08-01T07:20:20.745Z"
   },
   {
    "duration": 74,
    "start_time": "2022-08-01T07:22:00.079Z"
   },
   {
    "duration": 15,
    "start_time": "2022-08-01T07:57:29.981Z"
   },
   {
    "duration": 12,
    "start_time": "2022-08-01T07:57:58.586Z"
   },
   {
    "duration": 139,
    "start_time": "2022-08-01T07:58:22.978Z"
   },
   {
    "duration": 73,
    "start_time": "2022-08-01T07:58:30.394Z"
   },
   {
    "duration": 101,
    "start_time": "2022-08-01T07:58:54.382Z"
   },
   {
    "duration": 10,
    "start_time": "2022-08-01T07:59:04.569Z"
   },
   {
    "duration": 13,
    "start_time": "2022-08-01T07:59:42.249Z"
   },
   {
    "duration": 96,
    "start_time": "2022-08-01T07:59:56.373Z"
   },
   {
    "duration": 11,
    "start_time": "2022-08-01T08:03:43.196Z"
   },
   {
    "duration": 77,
    "start_time": "2022-08-01T08:05:05.864Z"
   },
   {
    "duration": 131,
    "start_time": "2022-08-01T08:06:25.524Z"
   },
   {
    "duration": 76,
    "start_time": "2022-08-01T08:06:56.977Z"
   },
   {
    "duration": 75,
    "start_time": "2022-08-01T08:07:08.707Z"
   },
   {
    "duration": 74,
    "start_time": "2022-08-01T08:07:36.846Z"
   },
   {
    "duration": 73,
    "start_time": "2022-08-01T08:08:15.392Z"
   },
   {
    "duration": 78,
    "start_time": "2022-08-01T08:08:36.078Z"
   },
   {
    "duration": 11,
    "start_time": "2022-08-01T08:08:44.336Z"
   },
   {
    "duration": 6,
    "start_time": "2022-08-01T08:09:12.221Z"
   },
   {
    "duration": 11,
    "start_time": "2022-08-01T08:24:58.448Z"
   },
   {
    "duration": 16,
    "start_time": "2022-08-01T08:29:09.712Z"
   },
   {
    "duration": 144,
    "start_time": "2022-08-01T08:36:59.941Z"
   },
   {
    "duration": 108,
    "start_time": "2022-08-01T08:37:38.808Z"
   },
   {
    "duration": 31,
    "start_time": "2022-08-01T08:39:20.247Z"
   },
   {
    "duration": 550,
    "start_time": "2022-08-01T08:39:39.762Z"
   },
   {
    "duration": 162,
    "start_time": "2022-08-01T08:41:08.325Z"
   },
   {
    "duration": 9,
    "start_time": "2022-08-01T08:41:38.681Z"
   },
   {
    "duration": 9,
    "start_time": "2022-08-01T08:41:50.576Z"
   },
   {
    "duration": 149,
    "start_time": "2022-08-01T08:42:01.364Z"
   },
   {
    "duration": 23,
    "start_time": "2022-08-01T08:43:38.417Z"
   },
   {
    "duration": 4,
    "start_time": "2022-08-01T08:46:05.753Z"
   },
   {
    "duration": 1289,
    "start_time": "2022-08-01T08:46:10.813Z"
   },
   {
    "duration": 24,
    "start_time": "2022-08-01T08:46:48.786Z"
   },
   {
    "duration": 142,
    "start_time": "2022-08-01T08:47:07.190Z"
   },
   {
    "duration": 43,
    "start_time": "2022-08-01T08:49:03.457Z"
   },
   {
    "duration": 8,
    "start_time": "2022-08-01T08:50:33.512Z"
   },
   {
    "duration": 6,
    "start_time": "2022-08-01T08:53:15.976Z"
   },
   {
    "duration": 26,
    "start_time": "2022-08-01T08:53:38.824Z"
   },
   {
    "duration": 10,
    "start_time": "2022-08-01T08:57:24.454Z"
   },
   {
    "duration": 8,
    "start_time": "2022-08-01T08:57:29.019Z"
   },
   {
    "duration": 17,
    "start_time": "2022-08-01T08:57:29.030Z"
   },
   {
    "duration": 10,
    "start_time": "2022-08-01T08:57:29.048Z"
   },
   {
    "duration": 23,
    "start_time": "2022-08-01T08:57:29.061Z"
   },
   {
    "duration": 52,
    "start_time": "2022-08-01T08:57:29.086Z"
   },
   {
    "duration": 7,
    "start_time": "2022-08-01T08:57:29.141Z"
   },
   {
    "duration": 6,
    "start_time": "2022-08-01T08:57:29.150Z"
   },
   {
    "duration": 13,
    "start_time": "2022-08-01T08:57:29.158Z"
   },
   {
    "duration": 8,
    "start_time": "2022-08-01T08:57:29.173Z"
   },
   {
    "duration": 52,
    "start_time": "2022-08-01T08:57:29.182Z"
   },
   {
    "duration": 10,
    "start_time": "2022-08-01T08:57:29.236Z"
   },
   {
    "duration": 16,
    "start_time": "2022-08-01T08:57:29.248Z"
   },
   {
    "duration": 7,
    "start_time": "2022-08-01T08:57:29.266Z"
   },
   {
    "duration": 10,
    "start_time": "2022-08-01T08:57:29.275Z"
   },
   {
    "duration": 14,
    "start_time": "2022-08-01T08:57:29.287Z"
   },
   {
    "duration": 19,
    "start_time": "2022-08-01T08:57:29.303Z"
   },
   {
    "duration": 40,
    "start_time": "2022-08-01T08:57:29.325Z"
   },
   {
    "duration": 10,
    "start_time": "2022-08-01T08:57:29.367Z"
   },
   {
    "duration": 25,
    "start_time": "2022-08-01T08:57:29.380Z"
   },
   {
    "duration": 36,
    "start_time": "2022-08-01T08:57:29.410Z"
   },
   {
    "duration": 23,
    "start_time": "2022-08-01T08:57:29.449Z"
   },
   {
    "duration": 39,
    "start_time": "2022-08-01T08:57:29.474Z"
   },
   {
    "duration": 29,
    "start_time": "2022-08-01T08:57:29.514Z"
   },
   {
    "duration": 5,
    "start_time": "2022-08-01T08:57:29.545Z"
   },
   {
    "duration": 19,
    "start_time": "2022-08-01T08:57:29.552Z"
   },
   {
    "duration": 4,
    "start_time": "2022-08-01T08:57:29.573Z"
   },
   {
    "duration": 34,
    "start_time": "2022-08-01T08:57:29.579Z"
   },
   {
    "duration": 27,
    "start_time": "2022-08-01T08:57:29.614Z"
   },
   {
    "duration": 27,
    "start_time": "2022-08-01T08:57:29.643Z"
   },
   {
    "duration": 23,
    "start_time": "2022-08-01T08:57:29.673Z"
   },
   {
    "duration": 42,
    "start_time": "2022-08-01T08:57:29.698Z"
   },
   {
    "duration": 25,
    "start_time": "2022-08-01T08:57:29.742Z"
   },
   {
    "duration": 255,
    "start_time": "2022-08-01T08:57:29.769Z"
   },
   {
    "duration": 212,
    "start_time": "2022-08-01T08:57:30.026Z"
   },
   {
    "duration": 294,
    "start_time": "2022-08-01T08:57:30.240Z"
   },
   {
    "duration": 46,
    "start_time": "2022-08-01T08:57:30.536Z"
   },
   {
    "duration": 77,
    "start_time": "2022-08-01T08:57:30.584Z"
   },
   {
    "duration": 70,
    "start_time": "2022-08-01T08:57:30.663Z"
   },
   {
    "duration": 23,
    "start_time": "2022-08-01T08:57:30.735Z"
   },
   {
    "duration": 12,
    "start_time": "2022-08-01T08:57:30.759Z"
   },
   {
    "duration": 6,
    "start_time": "2022-08-01T08:57:30.772Z"
   },
   {
    "duration": 57,
    "start_time": "2022-08-01T08:57:30.780Z"
   },
   {
    "duration": 0,
    "start_time": "2022-08-01T08:57:30.839Z"
   },
   {
    "duration": 0,
    "start_time": "2022-08-01T08:57:30.840Z"
   },
   {
    "duration": 0,
    "start_time": "2022-08-01T08:57:30.841Z"
   },
   {
    "duration": 0,
    "start_time": "2022-08-01T08:57:30.843Z"
   },
   {
    "duration": 0,
    "start_time": "2022-08-01T08:57:30.844Z"
   },
   {
    "duration": 0,
    "start_time": "2022-08-01T08:57:30.845Z"
   },
   {
    "duration": 0,
    "start_time": "2022-08-01T08:57:30.846Z"
   },
   {
    "duration": 0,
    "start_time": "2022-08-01T08:57:30.848Z"
   },
   {
    "duration": 0,
    "start_time": "2022-08-01T08:57:30.849Z"
   },
   {
    "duration": 0,
    "start_time": "2022-08-01T08:57:30.850Z"
   },
   {
    "duration": 0,
    "start_time": "2022-08-01T08:57:30.851Z"
   },
   {
    "duration": 0,
    "start_time": "2022-08-01T08:57:30.852Z"
   },
   {
    "duration": 0,
    "start_time": "2022-08-01T08:57:30.853Z"
   },
   {
    "duration": 0,
    "start_time": "2022-08-01T08:57:30.855Z"
   },
   {
    "duration": 0,
    "start_time": "2022-08-01T08:57:30.856Z"
   },
   {
    "duration": 0,
    "start_time": "2022-08-01T08:57:30.858Z"
   },
   {
    "duration": 0,
    "start_time": "2022-08-01T08:57:30.859Z"
   },
   {
    "duration": 0,
    "start_time": "2022-08-01T08:57:30.861Z"
   },
   {
    "duration": 0,
    "start_time": "2022-08-01T08:57:30.863Z"
   },
   {
    "duration": 0,
    "start_time": "2022-08-01T08:57:30.864Z"
   },
   {
    "duration": 0,
    "start_time": "2022-08-01T08:57:30.866Z"
   },
   {
    "duration": 0,
    "start_time": "2022-08-01T08:57:30.867Z"
   },
   {
    "duration": 0,
    "start_time": "2022-08-01T08:57:30.869Z"
   },
   {
    "duration": 0,
    "start_time": "2022-08-01T08:57:30.870Z"
   },
   {
    "duration": 0,
    "start_time": "2022-08-01T08:57:30.872Z"
   },
   {
    "duration": 0,
    "start_time": "2022-08-01T08:57:30.917Z"
   },
   {
    "duration": 9,
    "start_time": "2022-08-01T08:59:33.238Z"
   },
   {
    "duration": 6,
    "start_time": "2022-08-01T09:00:43.372Z"
   },
   {
    "duration": 11,
    "start_time": "2022-08-01T09:07:57.183Z"
   },
   {
    "duration": 6,
    "start_time": "2022-08-01T09:08:08.924Z"
   },
   {
    "duration": 6,
    "start_time": "2022-08-01T09:09:23.630Z"
   },
   {
    "duration": 15,
    "start_time": "2022-08-01T09:10:46.114Z"
   },
   {
    "duration": 5,
    "start_time": "2022-08-01T09:10:56.791Z"
   },
   {
    "duration": 7,
    "start_time": "2022-08-01T09:13:27.261Z"
   },
   {
    "duration": 12,
    "start_time": "2022-08-01T09:31:51.706Z"
   },
   {
    "duration": 9,
    "start_time": "2022-08-01T09:32:01.722Z"
   },
   {
    "duration": 95,
    "start_time": "2022-08-01T09:32:10.805Z"
   },
   {
    "duration": 98,
    "start_time": "2022-08-01T09:32:17.683Z"
   },
   {
    "duration": 5,
    "start_time": "2022-08-01T09:32:27.061Z"
   },
   {
    "duration": 5,
    "start_time": "2022-08-01T09:32:30.008Z"
   },
   {
    "duration": 28,
    "start_time": "2022-08-01T09:32:32.255Z"
   },
   {
    "duration": 4,
    "start_time": "2022-08-01T09:33:55.604Z"
   },
   {
    "duration": 24,
    "start_time": "2022-08-01T09:33:59.245Z"
   },
   {
    "duration": 4,
    "start_time": "2022-08-01T09:36:15.797Z"
   },
   {
    "duration": 60,
    "start_time": "2022-08-01T09:37:24.265Z"
   },
   {
    "duration": 5,
    "start_time": "2022-08-01T09:37:24.327Z"
   },
   {
    "duration": 82,
    "start_time": "2022-08-01T09:37:24.333Z"
   },
   {
    "duration": 17,
    "start_time": "2022-08-01T09:37:24.417Z"
   },
   {
    "duration": 27,
    "start_time": "2022-08-01T09:37:24.436Z"
   },
   {
    "duration": 57,
    "start_time": "2022-08-01T09:37:24.465Z"
   },
   {
    "duration": 11,
    "start_time": "2022-08-01T09:37:24.524Z"
   },
   {
    "duration": 6,
    "start_time": "2022-08-01T09:37:24.537Z"
   },
   {
    "duration": 67,
    "start_time": "2022-08-01T09:37:24.545Z"
   },
   {
    "duration": 24,
    "start_time": "2022-08-01T09:37:24.615Z"
   },
   {
    "duration": 79,
    "start_time": "2022-08-01T09:37:24.641Z"
   },
   {
    "duration": 58,
    "start_time": "2022-08-01T09:37:24.722Z"
   },
   {
    "duration": 2,
    "start_time": "2022-08-01T09:37:24.783Z"
   },
   {
    "duration": 23,
    "start_time": "2022-08-01T09:37:24.787Z"
   },
   {
    "duration": 11,
    "start_time": "2022-08-01T09:37:24.812Z"
   },
   {
    "duration": 11,
    "start_time": "2022-08-01T09:37:24.825Z"
   },
   {
    "duration": 12,
    "start_time": "2022-08-01T09:37:24.837Z"
   },
   {
    "duration": 9,
    "start_time": "2022-08-01T09:37:24.851Z"
   },
   {
    "duration": 12,
    "start_time": "2022-08-01T09:37:24.862Z"
   },
   {
    "duration": 7,
    "start_time": "2022-08-01T09:37:24.876Z"
   },
   {
    "duration": 32,
    "start_time": "2022-08-01T09:37:24.911Z"
   },
   {
    "duration": 10,
    "start_time": "2022-08-01T09:37:24.945Z"
   },
   {
    "duration": 6,
    "start_time": "2022-08-01T09:37:24.957Z"
   },
   {
    "duration": 12,
    "start_time": "2022-08-01T09:37:24.964Z"
   },
   {
    "duration": 36,
    "start_time": "2022-08-01T09:37:24.977Z"
   },
   {
    "duration": 19,
    "start_time": "2022-08-01T09:37:25.014Z"
   },
   {
    "duration": 11,
    "start_time": "2022-08-01T09:37:25.035Z"
   },
   {
    "duration": 20,
    "start_time": "2022-08-01T09:37:25.051Z"
   },
   {
    "duration": 11,
    "start_time": "2022-08-01T09:37:25.073Z"
   },
   {
    "duration": 28,
    "start_time": "2022-08-01T09:37:25.086Z"
   },
   {
    "duration": 11,
    "start_time": "2022-08-01T09:37:25.116Z"
   },
   {
    "duration": 9,
    "start_time": "2022-08-01T09:37:25.129Z"
   },
   {
    "duration": 10,
    "start_time": "2022-08-01T09:37:25.140Z"
   },
   {
    "duration": 12,
    "start_time": "2022-08-01T09:37:25.153Z"
   },
   {
    "duration": 7,
    "start_time": "2022-08-01T09:37:25.167Z"
   },
   {
    "duration": 11,
    "start_time": "2022-08-01T09:37:25.175Z"
   },
   {
    "duration": 9,
    "start_time": "2022-08-01T09:37:25.211Z"
   },
   {
    "duration": 26,
    "start_time": "2022-08-01T09:37:25.222Z"
   },
   {
    "duration": 23,
    "start_time": "2022-08-01T09:37:25.250Z"
   },
   {
    "duration": 8,
    "start_time": "2022-08-01T09:37:25.275Z"
   },
   {
    "duration": 43,
    "start_time": "2022-08-01T09:37:25.286Z"
   },
   {
    "duration": 47,
    "start_time": "2022-08-01T09:37:25.331Z"
   },
   {
    "duration": 45,
    "start_time": "2022-08-01T09:37:25.380Z"
   },
   {
    "duration": 26,
    "start_time": "2022-08-01T09:37:25.427Z"
   },
   {
    "duration": 21,
    "start_time": "2022-08-01T09:37:25.455Z"
   },
   {
    "duration": 3,
    "start_time": "2022-08-01T09:37:25.478Z"
   },
   {
    "duration": 36,
    "start_time": "2022-08-01T09:37:25.483Z"
   },
   {
    "duration": 6,
    "start_time": "2022-08-01T09:37:25.521Z"
   },
   {
    "duration": 7,
    "start_time": "2022-08-01T09:37:25.529Z"
   },
   {
    "duration": 8,
    "start_time": "2022-08-01T09:37:25.538Z"
   },
   {
    "duration": 16,
    "start_time": "2022-08-01T09:37:25.548Z"
   },
   {
    "duration": 54,
    "start_time": "2022-08-01T09:37:25.565Z"
   },
   {
    "duration": 29,
    "start_time": "2022-08-01T09:37:25.620Z"
   },
   {
    "duration": 21,
    "start_time": "2022-08-01T09:37:25.651Z"
   },
   {
    "duration": 222,
    "start_time": "2022-08-01T09:37:25.674Z"
   },
   {
    "duration": 180,
    "start_time": "2022-08-01T09:37:25.898Z"
   },
   {
    "duration": 175,
    "start_time": "2022-08-01T09:37:26.079Z"
   },
   {
    "duration": 64,
    "start_time": "2022-08-01T09:37:26.255Z"
   },
   {
    "duration": 53,
    "start_time": "2022-08-01T09:37:26.322Z"
   },
   {
    "duration": 78,
    "start_time": "2022-08-01T09:37:26.378Z"
   },
   {
    "duration": 25,
    "start_time": "2022-08-01T09:37:26.457Z"
   },
   {
    "duration": 13,
    "start_time": "2022-08-01T09:37:26.483Z"
   },
   {
    "duration": 9,
    "start_time": "2022-08-01T09:37:26.510Z"
   },
   {
    "duration": 37,
    "start_time": "2022-08-01T09:37:26.521Z"
   },
   {
    "duration": 0,
    "start_time": "2022-08-01T09:37:26.560Z"
   },
   {
    "duration": 0,
    "start_time": "2022-08-01T09:37:26.561Z"
   },
   {
    "duration": 0,
    "start_time": "2022-08-01T09:37:26.563Z"
   },
   {
    "duration": 0,
    "start_time": "2022-08-01T09:37:26.565Z"
   },
   {
    "duration": 0,
    "start_time": "2022-08-01T09:37:26.566Z"
   },
   {
    "duration": 0,
    "start_time": "2022-08-01T09:37:26.568Z"
   },
   {
    "duration": 0,
    "start_time": "2022-08-01T09:37:26.570Z"
   },
   {
    "duration": 0,
    "start_time": "2022-08-01T09:37:26.571Z"
   },
   {
    "duration": 0,
    "start_time": "2022-08-01T09:37:26.573Z"
   },
   {
    "duration": 1,
    "start_time": "2022-08-01T09:37:26.574Z"
   },
   {
    "duration": 0,
    "start_time": "2022-08-01T09:37:26.576Z"
   },
   {
    "duration": 1,
    "start_time": "2022-08-01T09:37:26.577Z"
   },
   {
    "duration": 0,
    "start_time": "2022-08-01T09:37:26.579Z"
   },
   {
    "duration": 0,
    "start_time": "2022-08-01T09:37:26.580Z"
   },
   {
    "duration": 0,
    "start_time": "2022-08-01T09:37:26.582Z"
   },
   {
    "duration": 4,
    "start_time": "2022-08-01T09:37:27.055Z"
   },
   {
    "duration": 30,
    "start_time": "2022-08-01T09:37:31.887Z"
   },
   {
    "duration": 4,
    "start_time": "2022-08-01T09:59:55.268Z"
   },
   {
    "duration": 193,
    "start_time": "2022-08-01T09:59:58.607Z"
   },
   {
    "duration": 219,
    "start_time": "2022-08-01T10:00:14.533Z"
   },
   {
    "duration": 8,
    "start_time": "2022-08-01T11:04:11.718Z"
   },
   {
    "duration": 10,
    "start_time": "2022-08-01T11:04:39.486Z"
   },
   {
    "duration": 11,
    "start_time": "2022-08-01T11:04:58.699Z"
   },
   {
    "duration": 10,
    "start_time": "2022-08-01T11:05:25.775Z"
   },
   {
    "duration": 9,
    "start_time": "2022-08-01T11:17:28.388Z"
   },
   {
    "duration": 3,
    "start_time": "2022-08-01T11:17:36.618Z"
   },
   {
    "duration": 22,
    "start_time": "2022-08-01T11:17:38.269Z"
   },
   {
    "duration": 3,
    "start_time": "2022-08-01T11:18:24.519Z"
   },
   {
    "duration": 23,
    "start_time": "2022-08-01T11:18:26.357Z"
   },
   {
    "duration": 4,
    "start_time": "2022-08-01T11:18:58.463Z"
   },
   {
    "duration": 22,
    "start_time": "2022-08-01T11:18:59.896Z"
   },
   {
    "duration": 5,
    "start_time": "2022-08-01T11:20:07.602Z"
   },
   {
    "duration": 3,
    "start_time": "2022-08-01T11:22:16.157Z"
   },
   {
    "duration": 960,
    "start_time": "2022-08-01T11:23:51.081Z"
   },
   {
    "duration": 25,
    "start_time": "2022-08-01T11:23:57.600Z"
   },
   {
    "duration": 3,
    "start_time": "2022-08-01T11:27:06.704Z"
   },
   {
    "duration": 329,
    "start_time": "2022-08-01T11:27:08.068Z"
   },
   {
    "duration": 331,
    "start_time": "2022-08-01T11:27:23.479Z"
   },
   {
    "duration": 3,
    "start_time": "2022-08-01T11:27:26.781Z"
   },
   {
    "duration": 313,
    "start_time": "2022-08-01T11:27:29.765Z"
   },
   {
    "duration": 4,
    "start_time": "2022-08-01T11:28:56.664Z"
   },
   {
    "duration": 316,
    "start_time": "2022-08-01T11:28:57.576Z"
   },
   {
    "duration": 3,
    "start_time": "2022-08-01T11:29:31.593Z"
   },
   {
    "duration": 350,
    "start_time": "2022-08-01T11:29:32.466Z"
   },
   {
    "duration": 3,
    "start_time": "2022-08-01T11:30:12.969Z"
   },
   {
    "duration": 23,
    "start_time": "2022-08-01T11:30:13.913Z"
   },
   {
    "duration": 70,
    "start_time": "2022-08-01T11:31:00.563Z"
   },
   {
    "duration": 8,
    "start_time": "2022-08-01T11:31:20.626Z"
   },
   {
    "duration": 80,
    "start_time": "2022-08-01T11:32:47.052Z"
   },
   {
    "duration": 22,
    "start_time": "2022-08-01T11:32:47.886Z"
   },
   {
    "duration": 7,
    "start_time": "2022-08-01T11:32:51.085Z"
   },
   {
    "duration": 99,
    "start_time": "2022-08-01T11:33:45.171Z"
   },
   {
    "duration": 4,
    "start_time": "2022-08-01T11:33:55.988Z"
   },
   {
    "duration": 22,
    "start_time": "2022-08-01T11:33:56.752Z"
   },
   {
    "duration": 9,
    "start_time": "2022-08-01T11:34:00.309Z"
   },
   {
    "duration": 507,
    "start_time": "2022-08-01T11:37:29.398Z"
   },
   {
    "duration": 6,
    "start_time": "2022-08-01T11:37:49.671Z"
   },
   {
    "duration": 9,
    "start_time": "2022-08-01T11:52:28.122Z"
   },
   {
    "duration": 9,
    "start_time": "2022-08-01T11:52:47.302Z"
   },
   {
    "duration": 10,
    "start_time": "2022-08-01T11:53:02.176Z"
   },
   {
    "duration": 11,
    "start_time": "2022-08-01T11:55:54.263Z"
   },
   {
    "duration": 12,
    "start_time": "2022-08-01T11:56:13.088Z"
   },
   {
    "duration": 10,
    "start_time": "2022-08-01T11:56:28.909Z"
   },
   {
    "duration": 4,
    "start_time": "2022-08-01T11:57:19.512Z"
   },
   {
    "duration": 6,
    "start_time": "2022-08-01T11:57:31.112Z"
   },
   {
    "duration": 12,
    "start_time": "2022-08-01T12:00:37.505Z"
   },
   {
    "duration": 70,
    "start_time": "2022-08-01T12:01:11.685Z"
   },
   {
    "duration": 6,
    "start_time": "2022-08-01T12:02:01.450Z"
   },
   {
    "duration": 9,
    "start_time": "2022-08-01T12:02:12.706Z"
   },
   {
    "duration": 9,
    "start_time": "2022-08-01T12:25:28.865Z"
   },
   {
    "duration": 9,
    "start_time": "2022-08-01T12:26:03.817Z"
   },
   {
    "duration": 8,
    "start_time": "2022-08-01T12:26:38.736Z"
   },
   {
    "duration": 7,
    "start_time": "2022-08-01T12:26:54.688Z"
   },
   {
    "duration": 7,
    "start_time": "2022-08-01T12:28:28.327Z"
   },
   {
    "duration": 10,
    "start_time": "2022-08-01T12:39:13.244Z"
   },
   {
    "duration": 9,
    "start_time": "2022-08-01T12:39:43.515Z"
   },
   {
    "duration": 8,
    "start_time": "2022-08-01T12:43:28.370Z"
   },
   {
    "duration": 4,
    "start_time": "2022-08-01T12:44:25.909Z"
   },
   {
    "duration": 17,
    "start_time": "2022-08-01T12:44:42.671Z"
   },
   {
    "duration": 13,
    "start_time": "2022-08-01T12:45:46.756Z"
   },
   {
    "duration": 1216,
    "start_time": "2022-08-01T12:46:24.393Z"
   },
   {
    "duration": 17,
    "start_time": "2022-08-01T12:46:40.501Z"
   },
   {
    "duration": 11,
    "start_time": "2022-08-01T12:47:03.203Z"
   },
   {
    "duration": 10,
    "start_time": "2022-08-01T12:47:23.954Z"
   },
   {
    "duration": 8,
    "start_time": "2022-08-01T12:47:32.266Z"
   },
   {
    "duration": 8,
    "start_time": "2022-08-01T12:48:06.503Z"
   },
   {
    "duration": 11,
    "start_time": "2022-08-01T12:48:27.839Z"
   },
   {
    "duration": 78,
    "start_time": "2022-08-01T12:48:55.276Z"
   },
   {
    "duration": 10,
    "start_time": "2022-08-01T12:49:10.795Z"
   },
   {
    "duration": 10,
    "start_time": "2022-08-01T12:49:24.965Z"
   },
   {
    "duration": 11,
    "start_time": "2022-08-01T12:49:46.548Z"
   },
   {
    "duration": 11,
    "start_time": "2022-08-01T12:51:44.008Z"
   },
   {
    "duration": 11,
    "start_time": "2022-08-01T12:52:23.188Z"
   },
   {
    "duration": 8,
    "start_time": "2022-08-01T12:52:32.796Z"
   },
   {
    "duration": 8,
    "start_time": "2022-08-01T12:53:05.459Z"
   },
   {
    "duration": 6,
    "start_time": "2022-08-01T12:53:23.084Z"
   },
   {
    "duration": 7,
    "start_time": "2022-08-01T12:53:45.754Z"
   },
   {
    "duration": 7,
    "start_time": "2022-08-01T12:53:52.456Z"
   },
   {
    "duration": 9,
    "start_time": "2022-08-01T12:54:16.630Z"
   },
   {
    "duration": 75,
    "start_time": "2022-08-01T12:55:36.796Z"
   },
   {
    "duration": 9,
    "start_time": "2022-08-01T12:55:41.598Z"
   },
   {
    "duration": 10,
    "start_time": "2022-08-01T12:56:22.847Z"
   },
   {
    "duration": 6,
    "start_time": "2022-08-01T12:56:53.144Z"
   },
   {
    "duration": 88,
    "start_time": "2022-08-01T12:56:59.850Z"
   },
   {
    "duration": 12,
    "start_time": "2022-08-01T12:57:09.457Z"
   },
   {
    "duration": 11,
    "start_time": "2022-08-01T12:57:26.467Z"
   },
   {
    "duration": 11,
    "start_time": "2022-08-01T12:57:38.913Z"
   },
   {
    "duration": 70,
    "start_time": "2022-08-01T12:58:32.985Z"
   },
   {
    "duration": 73,
    "start_time": "2022-08-01T12:58:43.298Z"
   },
   {
    "duration": 75,
    "start_time": "2022-08-01T12:59:07.218Z"
   },
   {
    "duration": 62,
    "start_time": "2022-08-01T12:59:17.717Z"
   },
   {
    "duration": 5,
    "start_time": "2022-08-01T12:59:17.782Z"
   },
   {
    "duration": 82,
    "start_time": "2022-08-01T12:59:17.789Z"
   },
   {
    "duration": 40,
    "start_time": "2022-08-01T12:59:17.874Z"
   },
   {
    "duration": 17,
    "start_time": "2022-08-01T12:59:17.916Z"
   },
   {
    "duration": 17,
    "start_time": "2022-08-01T12:59:17.935Z"
   },
   {
    "duration": 9,
    "start_time": "2022-08-01T12:59:17.954Z"
   },
   {
    "duration": 4,
    "start_time": "2022-08-01T12:59:17.964Z"
   },
   {
    "duration": 66,
    "start_time": "2022-08-01T12:59:17.970Z"
   },
   {
    "duration": 20,
    "start_time": "2022-08-01T12:59:18.039Z"
   },
   {
    "duration": 77,
    "start_time": "2022-08-01T12:59:18.061Z"
   },
   {
    "duration": 56,
    "start_time": "2022-08-01T12:59:18.140Z"
   },
   {
    "duration": 13,
    "start_time": "2022-08-01T12:59:18.198Z"
   },
   {
    "duration": 7,
    "start_time": "2022-08-01T12:59:18.212Z"
   },
   {
    "duration": 8,
    "start_time": "2022-08-01T12:59:18.221Z"
   },
   {
    "duration": 13,
    "start_time": "2022-08-01T12:59:18.231Z"
   },
   {
    "duration": 10,
    "start_time": "2022-08-01T12:59:18.246Z"
   },
   {
    "duration": 12,
    "start_time": "2022-08-01T12:59:18.258Z"
   },
   {
    "duration": 15,
    "start_time": "2022-08-01T12:59:18.271Z"
   },
   {
    "duration": 5,
    "start_time": "2022-08-01T12:59:18.287Z"
   },
   {
    "duration": 25,
    "start_time": "2022-08-01T12:59:18.310Z"
   },
   {
    "duration": 10,
    "start_time": "2022-08-01T12:59:18.336Z"
   },
   {
    "duration": 5,
    "start_time": "2022-08-01T12:59:18.348Z"
   },
   {
    "duration": 11,
    "start_time": "2022-08-01T12:59:18.355Z"
   },
   {
    "duration": 4,
    "start_time": "2022-08-01T12:59:18.368Z"
   },
   {
    "duration": 51,
    "start_time": "2022-08-01T12:59:18.374Z"
   },
   {
    "duration": 10,
    "start_time": "2022-08-01T12:59:18.427Z"
   },
   {
    "duration": 8,
    "start_time": "2022-08-01T12:59:18.441Z"
   },
   {
    "duration": 10,
    "start_time": "2022-08-01T12:59:18.451Z"
   },
   {
    "duration": 9,
    "start_time": "2022-08-01T12:59:18.463Z"
   },
   {
    "duration": 39,
    "start_time": "2022-08-01T12:59:18.474Z"
   },
   {
    "duration": 6,
    "start_time": "2022-08-01T12:59:18.514Z"
   },
   {
    "duration": 11,
    "start_time": "2022-08-01T12:59:18.522Z"
   },
   {
    "duration": 14,
    "start_time": "2022-08-01T12:59:18.535Z"
   },
   {
    "duration": 9,
    "start_time": "2022-08-01T12:59:18.551Z"
   },
   {
    "duration": 9,
    "start_time": "2022-08-01T12:59:18.561Z"
   },
   {
    "duration": 10,
    "start_time": "2022-08-01T12:59:18.572Z"
   },
   {
    "duration": 34,
    "start_time": "2022-08-01T12:59:18.584Z"
   },
   {
    "duration": 17,
    "start_time": "2022-08-01T12:59:18.620Z"
   },
   {
    "duration": 7,
    "start_time": "2022-08-01T12:59:18.638Z"
   },
   {
    "duration": 19,
    "start_time": "2022-08-01T12:59:18.647Z"
   },
   {
    "duration": 53,
    "start_time": "2022-08-01T12:59:18.668Z"
   },
   {
    "duration": 17,
    "start_time": "2022-08-01T12:59:18.723Z"
   },
   {
    "duration": 18,
    "start_time": "2022-08-01T12:59:18.742Z"
   },
   {
    "duration": 15,
    "start_time": "2022-08-01T12:59:18.762Z"
   },
   {
    "duration": 33,
    "start_time": "2022-08-01T12:59:18.779Z"
   },
   {
    "duration": 22,
    "start_time": "2022-08-01T12:59:18.814Z"
   },
   {
    "duration": 11,
    "start_time": "2022-08-01T12:59:18.838Z"
   },
   {
    "duration": 4,
    "start_time": "2022-08-01T12:59:18.851Z"
   },
   {
    "duration": 7,
    "start_time": "2022-08-01T12:59:18.856Z"
   },
   {
    "duration": 13,
    "start_time": "2022-08-01T12:59:18.864Z"
   },
   {
    "duration": 39,
    "start_time": "2022-08-01T12:59:18.879Z"
   },
   {
    "duration": 23,
    "start_time": "2022-08-01T12:59:18.920Z"
   },
   {
    "duration": 20,
    "start_time": "2022-08-01T12:59:18.945Z"
   },
   {
    "duration": 213,
    "start_time": "2022-08-01T12:59:18.967Z"
   },
   {
    "duration": 179,
    "start_time": "2022-08-01T12:59:19.182Z"
   },
   {
    "duration": 171,
    "start_time": "2022-08-01T12:59:19.363Z"
   },
   {
    "duration": 44,
    "start_time": "2022-08-01T12:59:19.536Z"
   },
   {
    "duration": 65,
    "start_time": "2022-08-01T12:59:19.581Z"
   },
   {
    "duration": 45,
    "start_time": "2022-08-01T12:59:19.648Z"
   },
   {
    "duration": 32,
    "start_time": "2022-08-01T12:59:19.695Z"
   },
   {
    "duration": 10,
    "start_time": "2022-08-01T12:59:19.729Z"
   },
   {
    "duration": 5,
    "start_time": "2022-08-01T12:59:19.741Z"
   },
   {
    "duration": 11,
    "start_time": "2022-08-01T12:59:19.747Z"
   },
   {
    "duration": 0,
    "start_time": "2022-08-01T12:59:19.760Z"
   },
   {
    "duration": 0,
    "start_time": "2022-08-01T12:59:19.761Z"
   },
   {
    "duration": 0,
    "start_time": "2022-08-01T12:59:19.762Z"
   },
   {
    "duration": 0,
    "start_time": "2022-08-01T12:59:19.764Z"
   },
   {
    "duration": 0,
    "start_time": "2022-08-01T12:59:19.765Z"
   },
   {
    "duration": 0,
    "start_time": "2022-08-01T12:59:19.766Z"
   },
   {
    "duration": 0,
    "start_time": "2022-08-01T12:59:19.767Z"
   },
   {
    "duration": 0,
    "start_time": "2022-08-01T12:59:19.768Z"
   },
   {
    "duration": 0,
    "start_time": "2022-08-01T12:59:19.769Z"
   },
   {
    "duration": 0,
    "start_time": "2022-08-01T12:59:19.770Z"
   },
   {
    "duration": 0,
    "start_time": "2022-08-01T12:59:19.810Z"
   },
   {
    "duration": 0,
    "start_time": "2022-08-01T12:59:19.812Z"
   },
   {
    "duration": 0,
    "start_time": "2022-08-01T12:59:19.813Z"
   },
   {
    "duration": 0,
    "start_time": "2022-08-01T12:59:19.814Z"
   },
   {
    "duration": 0,
    "start_time": "2022-08-01T12:59:19.815Z"
   },
   {
    "duration": 0,
    "start_time": "2022-08-01T12:59:19.816Z"
   },
   {
    "duration": 0,
    "start_time": "2022-08-01T12:59:19.817Z"
   },
   {
    "duration": 0,
    "start_time": "2022-08-01T12:59:19.818Z"
   },
   {
    "duration": 0,
    "start_time": "2022-08-01T12:59:19.819Z"
   },
   {
    "duration": 0,
    "start_time": "2022-08-01T12:59:19.820Z"
   },
   {
    "duration": 0,
    "start_time": "2022-08-01T12:59:19.821Z"
   },
   {
    "duration": 0,
    "start_time": "2022-08-01T12:59:19.822Z"
   },
   {
    "duration": 101,
    "start_time": "2022-08-01T12:59:23.108Z"
   },
   {
    "duration": 6,
    "start_time": "2022-08-01T13:01:01.711Z"
   },
   {
    "duration": 7,
    "start_time": "2022-08-01T13:01:12.931Z"
   },
   {
    "duration": 10,
    "start_time": "2022-08-01T13:02:22.957Z"
   },
   {
    "duration": 8,
    "start_time": "2022-08-01T13:02:31.450Z"
   },
   {
    "duration": 8,
    "start_time": "2022-08-01T13:02:41.470Z"
   },
   {
    "duration": 7,
    "start_time": "2022-08-01T13:02:50.572Z"
   },
   {
    "duration": 7,
    "start_time": "2022-08-01T13:03:04.129Z"
   },
   {
    "duration": 8,
    "start_time": "2022-08-01T13:03:24.693Z"
   },
   {
    "duration": 576,
    "start_time": "2022-08-01T13:40:13.807Z"
   },
   {
    "duration": 328,
    "start_time": "2022-08-01T13:41:53.547Z"
   },
   {
    "duration": 329,
    "start_time": "2022-08-01T13:42:13.786Z"
   },
   {
    "duration": 4,
    "start_time": "2022-08-01T13:42:58.142Z"
   },
   {
    "duration": 295,
    "start_time": "2022-08-01T13:43:03.553Z"
   },
   {
    "duration": 17,
    "start_time": "2022-08-01T13:43:37.356Z"
   },
   {
    "duration": 11,
    "start_time": "2022-08-01T13:43:45.420Z"
   },
   {
    "duration": 13,
    "start_time": "2022-08-01T13:44:07.538Z"
   },
   {
    "duration": 11,
    "start_time": "2022-08-01T13:48:48.088Z"
   },
   {
    "duration": 16,
    "start_time": "2022-08-01T14:12:27.321Z"
   },
   {
    "duration": 19,
    "start_time": "2022-08-01T14:13:24.522Z"
   },
   {
    "duration": 29,
    "start_time": "2022-08-01T14:19:28.596Z"
   },
   {
    "duration": 25,
    "start_time": "2022-08-01T14:19:37.891Z"
   },
   {
    "duration": 15,
    "start_time": "2022-08-01T14:19:52.942Z"
   },
   {
    "duration": 13,
    "start_time": "2022-08-01T14:20:26.335Z"
   },
   {
    "duration": 15,
    "start_time": "2022-08-01T17:24:04.980Z"
   },
   {
    "duration": 1154,
    "start_time": "2022-08-01T17:32:30.334Z"
   },
   {
    "duration": 1192,
    "start_time": "2022-08-01T17:32:54.547Z"
   },
   {
    "duration": 10,
    "start_time": "2022-08-01T17:33:13.823Z"
   },
   {
    "duration": 14,
    "start_time": "2022-08-01T17:33:25.340Z"
   },
   {
    "duration": 8,
    "start_time": "2022-08-01T17:34:33.991Z"
   },
   {
    "duration": 17,
    "start_time": "2022-08-01T17:34:54.593Z"
   },
   {
    "duration": 38,
    "start_time": "2022-08-01T17:36:00.501Z"
   },
   {
    "duration": 6,
    "start_time": "2022-08-01T17:38:51.457Z"
   },
   {
    "duration": 10,
    "start_time": "2022-08-01T17:39:11.442Z"
   },
   {
    "duration": 18,
    "start_time": "2022-08-01T17:39:19.121Z"
   },
   {
    "duration": 577,
    "start_time": "2022-08-02T07:23:55.342Z"
   },
   {
    "duration": 7,
    "start_time": "2022-08-02T07:23:55.921Z"
   },
   {
    "duration": 68,
    "start_time": "2022-08-02T07:23:55.929Z"
   },
   {
    "duration": 11,
    "start_time": "2022-08-02T07:23:55.999Z"
   },
   {
    "duration": 28,
    "start_time": "2022-08-02T07:23:56.012Z"
   },
   {
    "duration": 27,
    "start_time": "2022-08-02T07:23:56.042Z"
   },
   {
    "duration": 11,
    "start_time": "2022-08-02T07:23:56.071Z"
   },
   {
    "duration": 7,
    "start_time": "2022-08-02T07:23:56.084Z"
   },
   {
    "duration": 35,
    "start_time": "2022-08-02T07:23:56.093Z"
   },
   {
    "duration": 24,
    "start_time": "2022-08-02T07:23:56.129Z"
   },
   {
    "duration": 41,
    "start_time": "2022-08-02T07:23:56.154Z"
   },
   {
    "duration": 58,
    "start_time": "2022-08-02T07:23:56.197Z"
   },
   {
    "duration": 2,
    "start_time": "2022-08-02T07:23:56.256Z"
   },
   {
    "duration": 6,
    "start_time": "2022-08-02T07:23:56.261Z"
   },
   {
    "duration": 18,
    "start_time": "2022-08-02T07:23:56.268Z"
   },
   {
    "duration": 22,
    "start_time": "2022-08-02T07:23:56.287Z"
   },
   {
    "duration": 17,
    "start_time": "2022-08-02T07:23:56.311Z"
   },
   {
    "duration": 27,
    "start_time": "2022-08-02T07:23:56.330Z"
   },
   {
    "duration": 22,
    "start_time": "2022-08-02T07:23:56.359Z"
   },
   {
    "duration": 18,
    "start_time": "2022-08-02T07:23:56.382Z"
   },
   {
    "duration": 40,
    "start_time": "2022-08-02T07:23:56.402Z"
   },
   {
    "duration": 33,
    "start_time": "2022-08-02T07:23:56.443Z"
   },
   {
    "duration": 6,
    "start_time": "2022-08-02T07:23:56.477Z"
   },
   {
    "duration": 22,
    "start_time": "2022-08-02T07:23:56.484Z"
   },
   {
    "duration": 12,
    "start_time": "2022-08-02T07:23:56.507Z"
   },
   {
    "duration": 33,
    "start_time": "2022-08-02T07:23:56.520Z"
   },
   {
    "duration": 20,
    "start_time": "2022-08-02T07:23:56.555Z"
   },
   {
    "duration": 18,
    "start_time": "2022-08-02T07:23:56.576Z"
   },
   {
    "duration": 20,
    "start_time": "2022-08-02T07:23:56.595Z"
   },
   {
    "duration": 18,
    "start_time": "2022-08-02T07:23:56.617Z"
   },
   {
    "duration": 30,
    "start_time": "2022-08-02T07:23:56.637Z"
   },
   {
    "duration": 19,
    "start_time": "2022-08-02T07:23:56.669Z"
   },
   {
    "duration": 18,
    "start_time": "2022-08-02T07:23:56.690Z"
   },
   {
    "duration": 19,
    "start_time": "2022-08-02T07:23:56.710Z"
   },
   {
    "duration": 31,
    "start_time": "2022-08-02T07:23:56.730Z"
   },
   {
    "duration": 18,
    "start_time": "2022-08-02T07:23:56.762Z"
   },
   {
    "duration": 10,
    "start_time": "2022-08-02T07:23:56.782Z"
   },
   {
    "duration": 13,
    "start_time": "2022-08-02T07:23:56.794Z"
   },
   {
    "duration": 15,
    "start_time": "2022-08-02T07:23:56.808Z"
   },
   {
    "duration": 17,
    "start_time": "2022-08-02T07:23:56.824Z"
   },
   {
    "duration": 16,
    "start_time": "2022-08-02T07:23:56.845Z"
   },
   {
    "duration": 27,
    "start_time": "2022-08-02T07:23:56.862Z"
   },
   {
    "duration": 13,
    "start_time": "2022-08-02T07:23:56.890Z"
   },
   {
    "duration": 37,
    "start_time": "2022-08-02T07:23:56.905Z"
   },
   {
    "duration": 13,
    "start_time": "2022-08-02T07:23:56.944Z"
   },
   {
    "duration": 3,
    "start_time": "2022-08-02T07:23:56.958Z"
   },
   {
    "duration": 14,
    "start_time": "2022-08-02T07:23:56.962Z"
   },
   {
    "duration": 6,
    "start_time": "2022-08-02T07:23:56.977Z"
   },
   {
    "duration": 4,
    "start_time": "2022-08-02T07:23:56.984Z"
   },
   {
    "duration": 7,
    "start_time": "2022-08-02T07:23:56.990Z"
   },
   {
    "duration": 43,
    "start_time": "2022-08-02T07:23:56.998Z"
   },
   {
    "duration": 15,
    "start_time": "2022-08-02T07:23:57.042Z"
   },
   {
    "duration": 22,
    "start_time": "2022-08-02T07:23:57.059Z"
   },
   {
    "duration": 18,
    "start_time": "2022-08-02T07:23:57.083Z"
   },
   {
    "duration": 1102,
    "start_time": "2022-08-02T07:23:57.102Z"
   },
   {
    "duration": 155,
    "start_time": "2022-08-02T07:23:58.205Z"
   },
   {
    "duration": 143,
    "start_time": "2022-08-02T07:23:58.361Z"
   },
   {
    "duration": 54,
    "start_time": "2022-08-02T07:23:58.505Z"
   },
   {
    "duration": 41,
    "start_time": "2022-08-02T07:23:58.560Z"
   },
   {
    "duration": 64,
    "start_time": "2022-08-02T07:23:58.602Z"
   },
   {
    "duration": 20,
    "start_time": "2022-08-02T07:23:58.667Z"
   },
   {
    "duration": 8,
    "start_time": "2022-08-02T07:23:58.688Z"
   },
   {
    "duration": 6,
    "start_time": "2022-08-02T07:23:58.697Z"
   },
   {
    "duration": 99,
    "start_time": "2022-08-02T07:23:59.654Z"
   },
   {
    "duration": 7,
    "start_time": "2022-08-02T07:24:03.542Z"
   },
   {
    "duration": 14,
    "start_time": "2022-08-02T07:24:13.043Z"
   },
   {
    "duration": 54,
    "start_time": "2022-08-02T07:24:33.266Z"
   },
   {
    "duration": 3,
    "start_time": "2022-08-02T07:24:33.322Z"
   },
   {
    "duration": 72,
    "start_time": "2022-08-02T07:24:33.327Z"
   },
   {
    "duration": 11,
    "start_time": "2022-08-02T07:24:33.401Z"
   },
   {
    "duration": 40,
    "start_time": "2022-08-02T07:24:33.414Z"
   },
   {
    "duration": 14,
    "start_time": "2022-08-02T07:24:33.455Z"
   },
   {
    "duration": 19,
    "start_time": "2022-08-02T07:24:33.470Z"
   },
   {
    "duration": 16,
    "start_time": "2022-08-02T07:24:33.490Z"
   },
   {
    "duration": 42,
    "start_time": "2022-08-02T07:24:33.508Z"
   },
   {
    "duration": 16,
    "start_time": "2022-08-02T07:24:33.553Z"
   },
   {
    "duration": 45,
    "start_time": "2022-08-02T07:24:33.570Z"
   },
   {
    "duration": 49,
    "start_time": "2022-08-02T07:24:33.617Z"
   },
   {
    "duration": 3,
    "start_time": "2022-08-02T07:24:33.667Z"
   },
   {
    "duration": 23,
    "start_time": "2022-08-02T07:24:33.671Z"
   },
   {
    "duration": 7,
    "start_time": "2022-08-02T07:24:33.696Z"
   },
   {
    "duration": 18,
    "start_time": "2022-08-02T07:24:33.705Z"
   },
   {
    "duration": 27,
    "start_time": "2022-08-02T07:24:33.725Z"
   },
   {
    "duration": 26,
    "start_time": "2022-08-02T07:24:33.753Z"
   },
   {
    "duration": 18,
    "start_time": "2022-08-02T07:24:33.780Z"
   },
   {
    "duration": 14,
    "start_time": "2022-08-02T07:24:33.799Z"
   },
   {
    "duration": 35,
    "start_time": "2022-08-02T07:24:33.814Z"
   },
   {
    "duration": 9,
    "start_time": "2022-08-02T07:24:33.850Z"
   },
   {
    "duration": 8,
    "start_time": "2022-08-02T07:24:33.860Z"
   },
   {
    "duration": 10,
    "start_time": "2022-08-02T07:24:33.869Z"
   },
   {
    "duration": 3,
    "start_time": "2022-08-02T07:24:33.880Z"
   },
   {
    "duration": 15,
    "start_time": "2022-08-02T07:24:33.884Z"
   },
   {
    "duration": 9,
    "start_time": "2022-08-02T07:24:33.900Z"
   },
   {
    "duration": 28,
    "start_time": "2022-08-02T07:24:33.912Z"
   },
   {
    "duration": 8,
    "start_time": "2022-08-02T07:24:33.942Z"
   },
   {
    "duration": 9,
    "start_time": "2022-08-02T07:24:33.952Z"
   },
   {
    "duration": 6,
    "start_time": "2022-08-02T07:24:33.962Z"
   },
   {
    "duration": 5,
    "start_time": "2022-08-02T07:24:33.969Z"
   },
   {
    "duration": 6,
    "start_time": "2022-08-02T07:24:33.975Z"
   },
   {
    "duration": 8,
    "start_time": "2022-08-02T07:24:33.982Z"
   },
   {
    "duration": 5,
    "start_time": "2022-08-02T07:24:33.991Z"
   },
   {
    "duration": 8,
    "start_time": "2022-08-02T07:24:33.997Z"
   },
   {
    "duration": 36,
    "start_time": "2022-08-02T07:24:34.006Z"
   },
   {
    "duration": 14,
    "start_time": "2022-08-02T07:24:34.044Z"
   },
   {
    "duration": 15,
    "start_time": "2022-08-02T07:24:34.059Z"
   },
   {
    "duration": 6,
    "start_time": "2022-08-02T07:24:34.075Z"
   },
   {
    "duration": 14,
    "start_time": "2022-08-02T07:24:34.082Z"
   },
   {
    "duration": 56,
    "start_time": "2022-08-02T07:24:34.098Z"
   },
   {
    "duration": 13,
    "start_time": "2022-08-02T07:24:34.155Z"
   },
   {
    "duration": 13,
    "start_time": "2022-08-02T07:24:34.170Z"
   },
   {
    "duration": 11,
    "start_time": "2022-08-02T07:24:34.185Z"
   },
   {
    "duration": 3,
    "start_time": "2022-08-02T07:24:34.198Z"
   },
   {
    "duration": 13,
    "start_time": "2022-08-02T07:24:34.202Z"
   },
   {
    "duration": 7,
    "start_time": "2022-08-02T07:24:34.235Z"
   },
   {
    "duration": 6,
    "start_time": "2022-08-02T07:24:34.243Z"
   },
   {
    "duration": 6,
    "start_time": "2022-08-02T07:24:34.251Z"
   },
   {
    "duration": 12,
    "start_time": "2022-08-02T07:24:34.258Z"
   },
   {
    "duration": 13,
    "start_time": "2022-08-02T07:24:34.272Z"
   },
   {
    "duration": 23,
    "start_time": "2022-08-02T07:24:34.286Z"
   },
   {
    "duration": 42,
    "start_time": "2022-08-02T07:24:34.310Z"
   },
   {
    "duration": 194,
    "start_time": "2022-08-02T07:24:34.353Z"
   },
   {
    "duration": 155,
    "start_time": "2022-08-02T07:24:34.549Z"
   },
   {
    "duration": 148,
    "start_time": "2022-08-02T07:24:34.706Z"
   },
   {
    "duration": 40,
    "start_time": "2022-08-02T07:24:34.855Z"
   },
   {
    "duration": 126,
    "start_time": "2022-08-02T07:24:34.896Z"
   },
   {
    "duration": 52,
    "start_time": "2022-08-02T07:24:35.023Z"
   },
   {
    "duration": 20,
    "start_time": "2022-08-02T07:24:35.076Z"
   },
   {
    "duration": 10,
    "start_time": "2022-08-02T07:24:35.097Z"
   },
   {
    "duration": 38,
    "start_time": "2022-08-02T07:24:35.108Z"
   },
   {
    "duration": 17,
    "start_time": "2022-08-02T07:24:35.148Z"
   },
   {
    "duration": 0,
    "start_time": "2022-08-02T07:24:35.166Z"
   },
   {
    "duration": 0,
    "start_time": "2022-08-02T07:24:35.168Z"
   },
   {
    "duration": 0,
    "start_time": "2022-08-02T07:24:35.168Z"
   },
   {
    "duration": 0,
    "start_time": "2022-08-02T07:24:35.170Z"
   },
   {
    "duration": 0,
    "start_time": "2022-08-02T07:24:35.171Z"
   },
   {
    "duration": 0,
    "start_time": "2022-08-02T07:24:35.171Z"
   },
   {
    "duration": 0,
    "start_time": "2022-08-02T07:24:35.172Z"
   },
   {
    "duration": 0,
    "start_time": "2022-08-02T07:24:35.173Z"
   },
   {
    "duration": 0,
    "start_time": "2022-08-02T07:24:35.175Z"
   },
   {
    "duration": 0,
    "start_time": "2022-08-02T07:24:35.176Z"
   },
   {
    "duration": 0,
    "start_time": "2022-08-02T07:24:35.177Z"
   },
   {
    "duration": 0,
    "start_time": "2022-08-02T07:24:35.178Z"
   },
   {
    "duration": 0,
    "start_time": "2022-08-02T07:24:35.179Z"
   },
   {
    "duration": 0,
    "start_time": "2022-08-02T07:24:35.180Z"
   },
   {
    "duration": 0,
    "start_time": "2022-08-02T07:24:35.181Z"
   },
   {
    "duration": 0,
    "start_time": "2022-08-02T07:24:35.182Z"
   },
   {
    "duration": 0,
    "start_time": "2022-08-02T07:24:35.183Z"
   },
   {
    "duration": 0,
    "start_time": "2022-08-02T07:24:35.184Z"
   },
   {
    "duration": 0,
    "start_time": "2022-08-02T07:24:35.185Z"
   },
   {
    "duration": 0,
    "start_time": "2022-08-02T07:24:35.186Z"
   },
   {
    "duration": 0,
    "start_time": "2022-08-02T07:24:35.187Z"
   },
   {
    "duration": 1,
    "start_time": "2022-08-02T07:24:35.188Z"
   },
   {
    "duration": 13,
    "start_time": "2022-08-02T07:24:35.995Z"
   },
   {
    "duration": 59,
    "start_time": "2022-08-02T07:26:37.766Z"
   },
   {
    "duration": 9,
    "start_time": "2022-08-02T07:26:37.827Z"
   },
   {
    "duration": 104,
    "start_time": "2022-08-02T07:26:37.837Z"
   },
   {
    "duration": 18,
    "start_time": "2022-08-02T07:26:37.943Z"
   },
   {
    "duration": 35,
    "start_time": "2022-08-02T07:26:37.963Z"
   },
   {
    "duration": 13,
    "start_time": "2022-08-02T07:26:38.000Z"
   },
   {
    "duration": 7,
    "start_time": "2022-08-02T07:26:38.014Z"
   },
   {
    "duration": 16,
    "start_time": "2022-08-02T07:26:38.022Z"
   },
   {
    "duration": 29,
    "start_time": "2022-08-02T07:26:38.040Z"
   },
   {
    "duration": 18,
    "start_time": "2022-08-02T07:26:38.071Z"
   },
   {
    "duration": 54,
    "start_time": "2022-08-02T07:26:38.091Z"
   },
   {
    "duration": 44,
    "start_time": "2022-08-02T07:26:38.146Z"
   },
   {
    "duration": 3,
    "start_time": "2022-08-02T07:26:38.191Z"
   },
   {
    "duration": 4,
    "start_time": "2022-08-02T07:26:38.195Z"
   },
   {
    "duration": 4,
    "start_time": "2022-08-02T07:26:38.201Z"
   },
   {
    "duration": 8,
    "start_time": "2022-08-02T07:26:38.206Z"
   },
   {
    "duration": 32,
    "start_time": "2022-08-02T07:26:38.215Z"
   },
   {
    "duration": 9,
    "start_time": "2022-08-02T07:26:38.249Z"
   },
   {
    "duration": 10,
    "start_time": "2022-08-02T07:26:38.260Z"
   },
   {
    "duration": 5,
    "start_time": "2022-08-02T07:26:38.271Z"
   },
   {
    "duration": 18,
    "start_time": "2022-08-02T07:26:38.277Z"
   },
   {
    "duration": 8,
    "start_time": "2022-08-02T07:26:38.297Z"
   },
   {
    "duration": 34,
    "start_time": "2022-08-02T07:26:38.307Z"
   },
   {
    "duration": 8,
    "start_time": "2022-08-02T07:26:38.342Z"
   },
   {
    "duration": 3,
    "start_time": "2022-08-02T07:26:38.352Z"
   },
   {
    "duration": 14,
    "start_time": "2022-08-02T07:26:38.356Z"
   },
   {
    "duration": 9,
    "start_time": "2022-08-02T07:26:38.371Z"
   },
   {
    "duration": 9,
    "start_time": "2022-08-02T07:26:38.383Z"
   },
   {
    "duration": 19,
    "start_time": "2022-08-02T07:26:38.394Z"
   },
   {
    "duration": 9,
    "start_time": "2022-08-02T07:26:38.415Z"
   },
   {
    "duration": 21,
    "start_time": "2022-08-02T07:26:38.425Z"
   },
   {
    "duration": 14,
    "start_time": "2022-08-02T07:26:38.448Z"
   },
   {
    "duration": 4,
    "start_time": "2022-08-02T07:26:38.464Z"
   },
   {
    "duration": 8,
    "start_time": "2022-08-02T07:26:38.470Z"
   },
   {
    "duration": 6,
    "start_time": "2022-08-02T07:26:38.479Z"
   },
   {
    "duration": 8,
    "start_time": "2022-08-02T07:26:38.487Z"
   },
   {
    "duration": 8,
    "start_time": "2022-08-02T07:26:38.496Z"
   },
   {
    "duration": 13,
    "start_time": "2022-08-02T07:26:38.506Z"
   },
   {
    "duration": 24,
    "start_time": "2022-08-02T07:26:38.520Z"
   },
   {
    "duration": 6,
    "start_time": "2022-08-02T07:26:38.546Z"
   },
   {
    "duration": 17,
    "start_time": "2022-08-02T07:26:38.554Z"
   },
   {
    "duration": 27,
    "start_time": "2022-08-02T07:26:38.572Z"
   },
   {
    "duration": 40,
    "start_time": "2022-08-02T07:26:38.601Z"
   },
   {
    "duration": 15,
    "start_time": "2022-08-02T07:26:38.643Z"
   },
   {
    "duration": 12,
    "start_time": "2022-08-02T07:26:38.659Z"
   },
   {
    "duration": 3,
    "start_time": "2022-08-02T07:26:38.672Z"
   },
   {
    "duration": 14,
    "start_time": "2022-08-02T07:26:38.676Z"
   },
   {
    "duration": 5,
    "start_time": "2022-08-02T07:26:38.691Z"
   },
   {
    "duration": 5,
    "start_time": "2022-08-02T07:26:38.697Z"
   },
   {
    "duration": 6,
    "start_time": "2022-08-02T07:26:38.703Z"
   },
   {
    "duration": 11,
    "start_time": "2022-08-02T07:26:38.742Z"
   },
   {
    "duration": 16,
    "start_time": "2022-08-02T07:26:38.754Z"
   },
   {
    "duration": 25,
    "start_time": "2022-08-02T07:26:38.772Z"
   },
   {
    "duration": 22,
    "start_time": "2022-08-02T07:26:38.798Z"
   },
   {
    "duration": 187,
    "start_time": "2022-08-02T07:26:38.831Z"
   },
   {
    "duration": 152,
    "start_time": "2022-08-02T07:26:39.019Z"
   },
   {
    "duration": 145,
    "start_time": "2022-08-02T07:26:39.172Z"
   },
   {
    "duration": 45,
    "start_time": "2022-08-02T07:26:39.319Z"
   },
   {
    "duration": 40,
    "start_time": "2022-08-02T07:26:39.365Z"
   },
   {
    "duration": 58,
    "start_time": "2022-08-02T07:26:39.407Z"
   },
   {
    "duration": 18,
    "start_time": "2022-08-02T07:26:39.466Z"
   },
   {
    "duration": 8,
    "start_time": "2022-08-02T07:26:39.485Z"
   },
   {
    "duration": 5,
    "start_time": "2022-08-02T07:26:39.494Z"
   },
   {
    "duration": 14,
    "start_time": "2022-08-02T07:26:39.500Z"
   },
   {
    "duration": 0,
    "start_time": "2022-08-02T07:26:39.531Z"
   },
   {
    "duration": 0,
    "start_time": "2022-08-02T07:26:39.532Z"
   },
   {
    "duration": 0,
    "start_time": "2022-08-02T07:26:39.533Z"
   },
   {
    "duration": 0,
    "start_time": "2022-08-02T07:26:39.534Z"
   },
   {
    "duration": 0,
    "start_time": "2022-08-02T07:26:39.535Z"
   },
   {
    "duration": 0,
    "start_time": "2022-08-02T07:26:39.535Z"
   },
   {
    "duration": 0,
    "start_time": "2022-08-02T07:26:39.536Z"
   },
   {
    "duration": 0,
    "start_time": "2022-08-02T07:26:39.537Z"
   },
   {
    "duration": 0,
    "start_time": "2022-08-02T07:26:39.538Z"
   },
   {
    "duration": 0,
    "start_time": "2022-08-02T07:26:39.539Z"
   },
   {
    "duration": 0,
    "start_time": "2022-08-02T07:26:39.541Z"
   },
   {
    "duration": 0,
    "start_time": "2022-08-02T07:26:39.542Z"
   },
   {
    "duration": 0,
    "start_time": "2022-08-02T07:26:39.543Z"
   },
   {
    "duration": 0,
    "start_time": "2022-08-02T07:26:39.544Z"
   },
   {
    "duration": 0,
    "start_time": "2022-08-02T07:26:39.545Z"
   },
   {
    "duration": 0,
    "start_time": "2022-08-02T07:26:39.546Z"
   },
   {
    "duration": 0,
    "start_time": "2022-08-02T07:26:39.547Z"
   },
   {
    "duration": 0,
    "start_time": "2022-08-02T07:26:39.549Z"
   },
   {
    "duration": 0,
    "start_time": "2022-08-02T07:26:39.550Z"
   },
   {
    "duration": 0,
    "start_time": "2022-08-02T07:26:39.551Z"
   },
   {
    "duration": 4,
    "start_time": "2022-08-02T07:26:39.884Z"
   },
   {
    "duration": 19,
    "start_time": "2022-08-02T07:26:40.550Z"
   },
   {
    "duration": 7,
    "start_time": "2022-08-02T07:26:42.153Z"
   },
   {
    "duration": 12,
    "start_time": "2022-08-02T07:26:48.498Z"
   },
   {
    "duration": 58,
    "start_time": "2022-08-02T07:27:48.947Z"
   },
   {
    "duration": 5,
    "start_time": "2022-08-02T07:27:49.007Z"
   },
   {
    "duration": 72,
    "start_time": "2022-08-02T07:27:49.013Z"
   },
   {
    "duration": 15,
    "start_time": "2022-08-02T07:27:49.087Z"
   },
   {
    "duration": 38,
    "start_time": "2022-08-02T07:27:49.105Z"
   },
   {
    "duration": 14,
    "start_time": "2022-08-02T07:27:49.146Z"
   },
   {
    "duration": 12,
    "start_time": "2022-08-02T07:27:49.161Z"
   },
   {
    "duration": 5,
    "start_time": "2022-08-02T07:27:49.175Z"
   },
   {
    "duration": 25,
    "start_time": "2022-08-02T07:27:49.182Z"
   },
   {
    "duration": 44,
    "start_time": "2022-08-02T07:27:49.209Z"
   },
   {
    "duration": 42,
    "start_time": "2022-08-02T07:27:49.254Z"
   },
   {
    "duration": 61,
    "start_time": "2022-08-02T07:27:49.297Z"
   },
   {
    "duration": 2,
    "start_time": "2022-08-02T07:27:49.360Z"
   },
   {
    "duration": 5,
    "start_time": "2022-08-02T07:27:49.364Z"
   },
   {
    "duration": 5,
    "start_time": "2022-08-02T07:27:49.370Z"
   },
   {
    "duration": 8,
    "start_time": "2022-08-02T07:27:49.376Z"
   },
   {
    "duration": 10,
    "start_time": "2022-08-02T07:27:49.385Z"
   },
   {
    "duration": 7,
    "start_time": "2022-08-02T07:27:49.396Z"
   },
   {
    "duration": 17,
    "start_time": "2022-08-02T07:27:49.431Z"
   },
   {
    "duration": 11,
    "start_time": "2022-08-02T07:27:49.450Z"
   },
   {
    "duration": 28,
    "start_time": "2022-08-02T07:27:49.462Z"
   },
   {
    "duration": 9,
    "start_time": "2022-08-02T07:27:49.491Z"
   },
   {
    "duration": 5,
    "start_time": "2022-08-02T07:27:49.501Z"
   },
   {
    "duration": 37,
    "start_time": "2022-08-02T07:27:49.507Z"
   },
   {
    "duration": 4,
    "start_time": "2022-08-02T07:27:49.546Z"
   },
   {
    "duration": 14,
    "start_time": "2022-08-02T07:27:49.552Z"
   },
   {
    "duration": 7,
    "start_time": "2022-08-02T07:27:49.568Z"
   },
   {
    "duration": 7,
    "start_time": "2022-08-02T07:27:49.576Z"
   },
   {
    "duration": 8,
    "start_time": "2022-08-02T07:27:49.585Z"
   },
   {
    "duration": 7,
    "start_time": "2022-08-02T07:27:49.594Z"
   },
   {
    "duration": 6,
    "start_time": "2022-08-02T07:27:49.602Z"
   },
   {
    "duration": 10,
    "start_time": "2022-08-02T07:27:49.636Z"
   },
   {
    "duration": 7,
    "start_time": "2022-08-02T07:27:49.647Z"
   },
   {
    "duration": 11,
    "start_time": "2022-08-02T07:27:49.656Z"
   },
   {
    "duration": 5,
    "start_time": "2022-08-02T07:27:49.669Z"
   },
   {
    "duration": 10,
    "start_time": "2022-08-02T07:27:49.676Z"
   },
   {
    "duration": 12,
    "start_time": "2022-08-02T07:27:49.687Z"
   },
   {
    "duration": 14,
    "start_time": "2022-08-02T07:27:49.701Z"
   },
   {
    "duration": 29,
    "start_time": "2022-08-02T07:27:49.716Z"
   },
   {
    "duration": 7,
    "start_time": "2022-08-02T07:27:49.749Z"
   },
   {
    "duration": 14,
    "start_time": "2022-08-02T07:27:49.760Z"
   },
   {
    "duration": 28,
    "start_time": "2022-08-02T07:27:49.776Z"
   },
   {
    "duration": 46,
    "start_time": "2022-08-02T07:27:49.806Z"
   },
   {
    "duration": 14,
    "start_time": "2022-08-02T07:27:49.854Z"
   },
   {
    "duration": 12,
    "start_time": "2022-08-02T07:27:49.870Z"
   },
   {
    "duration": 4,
    "start_time": "2022-08-02T07:27:49.884Z"
   },
   {
    "duration": 27,
    "start_time": "2022-08-02T07:27:49.890Z"
   },
   {
    "duration": 23,
    "start_time": "2022-08-02T07:27:49.919Z"
   },
   {
    "duration": 12,
    "start_time": "2022-08-02T07:27:49.943Z"
   },
   {
    "duration": 15,
    "start_time": "2022-08-02T07:27:49.958Z"
   },
   {
    "duration": 22,
    "start_time": "2022-08-02T07:27:49.975Z"
   },
   {
    "duration": 13,
    "start_time": "2022-08-02T07:27:49.999Z"
   },
   {
    "duration": 31,
    "start_time": "2022-08-02T07:27:50.014Z"
   },
   {
    "duration": 20,
    "start_time": "2022-08-02T07:27:50.046Z"
   },
   {
    "duration": 187,
    "start_time": "2022-08-02T07:27:50.067Z"
   },
   {
    "duration": 149,
    "start_time": "2022-08-02T07:27:50.255Z"
   },
   {
    "duration": 152,
    "start_time": "2022-08-02T07:27:50.406Z"
   },
   {
    "duration": 44,
    "start_time": "2022-08-02T07:27:50.560Z"
   },
   {
    "duration": 63,
    "start_time": "2022-08-02T07:27:50.605Z"
   },
   {
    "duration": 38,
    "start_time": "2022-08-02T07:27:50.669Z"
   },
   {
    "duration": 43,
    "start_time": "2022-08-02T07:27:50.708Z"
   },
   {
    "duration": 8,
    "start_time": "2022-08-02T07:27:50.753Z"
   },
   {
    "duration": 5,
    "start_time": "2022-08-02T07:27:50.763Z"
   },
   {
    "duration": 13,
    "start_time": "2022-08-02T07:27:50.769Z"
   },
   {
    "duration": 0,
    "start_time": "2022-08-02T07:27:50.783Z"
   },
   {
    "duration": 0,
    "start_time": "2022-08-02T07:27:50.784Z"
   },
   {
    "duration": 0,
    "start_time": "2022-08-02T07:27:50.786Z"
   },
   {
    "duration": 0,
    "start_time": "2022-08-02T07:27:50.787Z"
   },
   {
    "duration": 1,
    "start_time": "2022-08-02T07:27:50.788Z"
   },
   {
    "duration": 0,
    "start_time": "2022-08-02T07:27:50.790Z"
   },
   {
    "duration": 0,
    "start_time": "2022-08-02T07:27:50.791Z"
   },
   {
    "duration": 0,
    "start_time": "2022-08-02T07:27:50.791Z"
   },
   {
    "duration": 0,
    "start_time": "2022-08-02T07:27:50.793Z"
   },
   {
    "duration": 0,
    "start_time": "2022-08-02T07:27:50.794Z"
   },
   {
    "duration": 0,
    "start_time": "2022-08-02T07:27:50.795Z"
   },
   {
    "duration": 0,
    "start_time": "2022-08-02T07:27:50.798Z"
   },
   {
    "duration": 0,
    "start_time": "2022-08-02T07:27:50.799Z"
   },
   {
    "duration": 0,
    "start_time": "2022-08-02T07:27:50.800Z"
   },
   {
    "duration": 0,
    "start_time": "2022-08-02T07:27:50.801Z"
   },
   {
    "duration": 0,
    "start_time": "2022-08-02T07:27:50.833Z"
   },
   {
    "duration": 0,
    "start_time": "2022-08-02T07:27:50.834Z"
   },
   {
    "duration": 0,
    "start_time": "2022-08-02T07:27:50.834Z"
   },
   {
    "duration": 0,
    "start_time": "2022-08-02T07:27:50.835Z"
   },
   {
    "duration": 6,
    "start_time": "2022-08-02T07:28:35.906Z"
   },
   {
    "duration": 34,
    "start_time": "2022-08-02T07:28:38.211Z"
   },
   {
    "duration": 14,
    "start_time": "2022-08-02T07:29:24.061Z"
   },
   {
    "duration": 10,
    "start_time": "2022-08-02T07:30:47.589Z"
   },
   {
    "duration": 23,
    "start_time": "2022-08-02T07:30:53.100Z"
   },
   {
    "duration": 8,
    "start_time": "2022-08-02T07:43:46.147Z"
   },
   {
    "duration": 14,
    "start_time": "2022-08-02T07:44:36.547Z"
   },
   {
    "duration": 51,
    "start_time": "2022-08-02T07:45:24.486Z"
   },
   {
    "duration": 1393,
    "start_time": "2022-08-02T07:45:53.750Z"
   },
   {
    "duration": 940,
    "start_time": "2022-08-02T07:46:05.038Z"
   },
   {
    "duration": 15,
    "start_time": "2022-08-02T07:48:33.856Z"
   },
   {
    "duration": 6,
    "start_time": "2022-08-02T08:10:56.047Z"
   },
   {
    "duration": 6,
    "start_time": "2022-08-02T08:11:11.763Z"
   },
   {
    "duration": 6,
    "start_time": "2022-08-02T08:14:06.262Z"
   },
   {
    "duration": 79,
    "start_time": "2022-08-02T08:15:39.690Z"
   },
   {
    "duration": 7,
    "start_time": "2022-08-02T08:15:53.180Z"
   },
   {
    "duration": 7,
    "start_time": "2022-08-02T08:16:00.367Z"
   },
   {
    "duration": 4,
    "start_time": "2022-08-02T08:51:29.437Z"
   },
   {
    "duration": 183,
    "start_time": "2022-08-02T08:51:30.515Z"
   },
   {
    "duration": 7,
    "start_time": "2022-08-02T08:52:34.175Z"
   },
   {
    "duration": 8,
    "start_time": "2022-08-02T08:53:01.665Z"
   },
   {
    "duration": 19,
    "start_time": "2022-08-02T08:54:26.642Z"
   },
   {
    "duration": 7,
    "start_time": "2022-08-02T08:54:55.745Z"
   },
   {
    "duration": 9,
    "start_time": "2022-08-02T08:55:22.451Z"
   },
   {
    "duration": 3,
    "start_time": "2022-08-02T08:55:42.258Z"
   },
   {
    "duration": 18,
    "start_time": "2022-08-02T08:55:45.358Z"
   },
   {
    "duration": 7,
    "start_time": "2022-08-02T08:55:48.474Z"
   },
   {
    "duration": 3,
    "start_time": "2022-08-02T08:56:05.847Z"
   },
   {
    "duration": 19,
    "start_time": "2022-08-02T08:56:09.100Z"
   },
   {
    "duration": 7,
    "start_time": "2022-08-02T08:56:12.292Z"
   },
   {
    "duration": 9,
    "start_time": "2022-08-02T08:56:29.159Z"
   },
   {
    "duration": 9,
    "start_time": "2022-08-02T09:01:25.956Z"
   },
   {
    "duration": 13,
    "start_time": "2022-08-02T09:04:37.559Z"
   },
   {
    "duration": 9,
    "start_time": "2022-08-02T09:05:56.082Z"
   },
   {
    "duration": 17,
    "start_time": "2022-08-02T09:06:08.163Z"
   },
   {
    "duration": 16,
    "start_time": "2022-08-02T09:07:47.487Z"
   },
   {
    "duration": 16,
    "start_time": "2022-08-02T09:07:52.860Z"
   },
   {
    "duration": 7,
    "start_time": "2022-08-02T09:09:02.501Z"
   },
   {
    "duration": 33,
    "start_time": "2022-08-02T09:09:06.766Z"
   },
   {
    "duration": 25,
    "start_time": "2022-08-02T09:10:35.059Z"
   },
   {
    "duration": 14,
    "start_time": "2022-08-02T09:10:40.675Z"
   },
   {
    "duration": 398,
    "start_time": "2022-08-02T09:11:31.974Z"
   },
   {
    "duration": 7,
    "start_time": "2022-08-02T09:11:32.374Z"
   },
   {
    "duration": 50,
    "start_time": "2022-08-02T09:11:32.382Z"
   },
   {
    "duration": 17,
    "start_time": "2022-08-02T09:11:32.434Z"
   },
   {
    "duration": 15,
    "start_time": "2022-08-02T09:11:32.453Z"
   },
   {
    "duration": 15,
    "start_time": "2022-08-02T09:11:32.469Z"
   },
   {
    "duration": 8,
    "start_time": "2022-08-02T09:11:32.486Z"
   },
   {
    "duration": 35,
    "start_time": "2022-08-02T09:11:32.496Z"
   },
   {
    "duration": 25,
    "start_time": "2022-08-02T09:11:32.533Z"
   },
   {
    "duration": 17,
    "start_time": "2022-08-02T09:11:32.560Z"
   },
   {
    "duration": 68,
    "start_time": "2022-08-02T09:11:32.579Z"
   },
   {
    "duration": 44,
    "start_time": "2022-08-02T09:11:32.650Z"
   },
   {
    "duration": 2,
    "start_time": "2022-08-02T09:11:32.695Z"
   },
   {
    "duration": 6,
    "start_time": "2022-08-02T09:11:32.698Z"
   },
   {
    "duration": 12,
    "start_time": "2022-08-02T09:11:32.705Z"
   },
   {
    "duration": 16,
    "start_time": "2022-08-02T09:11:32.719Z"
   },
   {
    "duration": 11,
    "start_time": "2022-08-02T09:11:32.736Z"
   },
   {
    "duration": 7,
    "start_time": "2022-08-02T09:11:32.748Z"
   },
   {
    "duration": 12,
    "start_time": "2022-08-02T09:11:32.756Z"
   },
   {
    "duration": 5,
    "start_time": "2022-08-02T09:11:32.770Z"
   },
   {
    "duration": 53,
    "start_time": "2022-08-02T09:11:32.778Z"
   },
   {
    "duration": 9,
    "start_time": "2022-08-02T09:11:32.833Z"
   },
   {
    "duration": 6,
    "start_time": "2022-08-02T09:11:32.843Z"
   },
   {
    "duration": 15,
    "start_time": "2022-08-02T09:11:32.850Z"
   },
   {
    "duration": 11,
    "start_time": "2022-08-02T09:11:32.867Z"
   },
   {
    "duration": 18,
    "start_time": "2022-08-02T09:11:32.879Z"
   },
   {
    "duration": 17,
    "start_time": "2022-08-02T09:11:32.898Z"
   },
   {
    "duration": 15,
    "start_time": "2022-08-02T09:11:32.917Z"
   },
   {
    "duration": 15,
    "start_time": "2022-08-02T09:11:32.933Z"
   },
   {
    "duration": 13,
    "start_time": "2022-08-02T09:11:32.949Z"
   },
   {
    "duration": 7,
    "start_time": "2022-08-02T09:11:32.964Z"
   },
   {
    "duration": 10,
    "start_time": "2022-08-02T09:11:32.973Z"
   },
   {
    "duration": 14,
    "start_time": "2022-08-02T09:11:32.985Z"
   },
   {
    "duration": 12,
    "start_time": "2022-08-02T09:11:33.001Z"
   },
   {
    "duration": 24,
    "start_time": "2022-08-02T09:11:33.015Z"
   },
   {
    "duration": 19,
    "start_time": "2022-08-02T09:11:33.041Z"
   },
   {
    "duration": 12,
    "start_time": "2022-08-02T09:11:33.061Z"
   },
   {
    "duration": 15,
    "start_time": "2022-08-02T09:11:33.074Z"
   },
   {
    "duration": 15,
    "start_time": "2022-08-02T09:11:33.090Z"
   },
   {
    "duration": 6,
    "start_time": "2022-08-02T09:11:33.106Z"
   },
   {
    "duration": 32,
    "start_time": "2022-08-02T09:11:33.113Z"
   },
   {
    "duration": 27,
    "start_time": "2022-08-02T09:11:33.147Z"
   },
   {
    "duration": 14,
    "start_time": "2022-08-02T09:11:33.175Z"
   },
   {
    "duration": 14,
    "start_time": "2022-08-02T09:11:33.191Z"
   },
   {
    "duration": 27,
    "start_time": "2022-08-02T09:11:33.206Z"
   },
   {
    "duration": 4,
    "start_time": "2022-08-02T09:11:33.234Z"
   },
   {
    "duration": 15,
    "start_time": "2022-08-02T09:11:33.243Z"
   },
   {
    "duration": 6,
    "start_time": "2022-08-02T09:11:33.260Z"
   },
   {
    "duration": 4,
    "start_time": "2022-08-02T09:11:33.267Z"
   },
   {
    "duration": 9,
    "start_time": "2022-08-02T09:11:33.273Z"
   },
   {
    "duration": 11,
    "start_time": "2022-08-02T09:11:33.284Z"
   },
   {
    "duration": 40,
    "start_time": "2022-08-02T09:11:33.296Z"
   },
   {
    "duration": 22,
    "start_time": "2022-08-02T09:11:33.338Z"
   },
   {
    "duration": 18,
    "start_time": "2022-08-02T09:11:33.362Z"
   },
   {
    "duration": 895,
    "start_time": "2022-08-02T09:11:33.382Z"
   },
   {
    "duration": 149,
    "start_time": "2022-08-02T09:11:34.278Z"
   },
   {
    "duration": 144,
    "start_time": "2022-08-02T09:11:34.430Z"
   },
   {
    "duration": 40,
    "start_time": "2022-08-02T09:11:34.575Z"
   },
   {
    "duration": 48,
    "start_time": "2022-08-02T09:11:34.616Z"
   },
   {
    "duration": 39,
    "start_time": "2022-08-02T09:11:34.665Z"
   },
   {
    "duration": 26,
    "start_time": "2022-08-02T09:11:34.705Z"
   },
   {
    "duration": 21,
    "start_time": "2022-08-02T09:11:34.732Z"
   },
   {
    "duration": 13,
    "start_time": "2022-08-02T09:11:34.755Z"
   },
   {
    "duration": 14,
    "start_time": "2022-08-02T09:11:34.769Z"
   },
   {
    "duration": 4,
    "start_time": "2022-08-02T09:11:34.784Z"
   },
   {
    "duration": 9,
    "start_time": "2022-08-02T09:11:34.789Z"
   },
   {
    "duration": 3,
    "start_time": "2022-08-02T09:11:34.799Z"
   },
   {
    "duration": 195,
    "start_time": "2022-08-02T09:11:34.831Z"
   },
   {
    "duration": 9,
    "start_time": "2022-08-02T09:11:35.027Z"
   },
   {
    "duration": 9,
    "start_time": "2022-08-02T09:11:35.037Z"
   },
   {
    "duration": 5,
    "start_time": "2022-08-02T09:11:35.047Z"
   },
   {
    "duration": 100,
    "start_time": "2022-08-02T09:11:35.053Z"
   },
   {
    "duration": 0,
    "start_time": "2022-08-02T09:11:35.154Z"
   },
   {
    "duration": 0,
    "start_time": "2022-08-02T09:11:35.155Z"
   },
   {
    "duration": 0,
    "start_time": "2022-08-02T09:11:35.156Z"
   },
   {
    "duration": 0,
    "start_time": "2022-08-02T09:11:35.158Z"
   },
   {
    "duration": 0,
    "start_time": "2022-08-02T09:11:35.159Z"
   },
   {
    "duration": 55,
    "start_time": "2022-08-02T09:11:43.326Z"
   },
   {
    "duration": 3,
    "start_time": "2022-08-02T09:11:43.383Z"
   },
   {
    "duration": 49,
    "start_time": "2022-08-02T09:11:43.387Z"
   },
   {
    "duration": 12,
    "start_time": "2022-08-02T09:11:43.439Z"
   },
   {
    "duration": 21,
    "start_time": "2022-08-02T09:11:43.453Z"
   },
   {
    "duration": 15,
    "start_time": "2022-08-02T09:11:43.476Z"
   },
   {
    "duration": 8,
    "start_time": "2022-08-02T09:11:43.492Z"
   },
   {
    "duration": 31,
    "start_time": "2022-08-02T09:11:43.502Z"
   },
   {
    "duration": 32,
    "start_time": "2022-08-02T09:11:43.907Z"
   },
   {
    "duration": 17,
    "start_time": "2022-08-02T09:11:43.941Z"
   },
   {
    "duration": 43,
    "start_time": "2022-08-02T09:11:43.959Z"
   },
   {
    "duration": 57,
    "start_time": "2022-08-02T09:11:44.004Z"
   },
   {
    "duration": 2,
    "start_time": "2022-08-02T09:11:44.063Z"
   },
   {
    "duration": 10,
    "start_time": "2022-08-02T09:11:44.066Z"
   },
   {
    "duration": 11,
    "start_time": "2022-08-02T09:11:44.078Z"
   },
   {
    "duration": 9,
    "start_time": "2022-08-02T09:11:44.090Z"
   },
   {
    "duration": 12,
    "start_time": "2022-08-02T09:11:44.100Z"
   },
   {
    "duration": 19,
    "start_time": "2022-08-02T09:11:44.113Z"
   },
   {
    "duration": 11,
    "start_time": "2022-08-02T09:11:44.133Z"
   },
   {
    "duration": 4,
    "start_time": "2022-08-02T09:11:44.146Z"
   },
   {
    "duration": 21,
    "start_time": "2022-08-02T09:11:44.152Z"
   },
   {
    "duration": 7,
    "start_time": "2022-08-02T09:11:44.175Z"
   },
   {
    "duration": 5,
    "start_time": "2022-08-02T09:11:44.184Z"
   },
   {
    "duration": 8,
    "start_time": "2022-08-02T09:11:44.191Z"
   },
   {
    "duration": 33,
    "start_time": "2022-08-02T09:11:44.200Z"
   },
   {
    "duration": 12,
    "start_time": "2022-08-02T09:11:44.234Z"
   },
   {
    "duration": 8,
    "start_time": "2022-08-02T09:11:44.248Z"
   },
   {
    "duration": 7,
    "start_time": "2022-08-02T09:11:44.257Z"
   },
   {
    "duration": 7,
    "start_time": "2022-08-02T09:11:44.265Z"
   },
   {
    "duration": 7,
    "start_time": "2022-08-02T09:11:44.274Z"
   },
   {
    "duration": 6,
    "start_time": "2022-08-02T09:11:44.282Z"
   },
   {
    "duration": 6,
    "start_time": "2022-08-02T09:11:44.289Z"
   },
   {
    "duration": 35,
    "start_time": "2022-08-02T09:11:44.297Z"
   },
   {
    "duration": 8,
    "start_time": "2022-08-02T09:11:44.333Z"
   },
   {
    "duration": 5,
    "start_time": "2022-08-02T09:11:44.342Z"
   },
   {
    "duration": 6,
    "start_time": "2022-08-02T09:11:44.349Z"
   },
   {
    "duration": 8,
    "start_time": "2022-08-02T09:11:44.356Z"
   },
   {
    "duration": 15,
    "start_time": "2022-08-02T09:11:44.365Z"
   },
   {
    "duration": 14,
    "start_time": "2022-08-02T09:11:44.381Z"
   },
   {
    "duration": 6,
    "start_time": "2022-08-02T09:11:44.397Z"
   },
   {
    "duration": 41,
    "start_time": "2022-08-02T09:11:44.404Z"
   },
   {
    "duration": 31,
    "start_time": "2022-08-02T09:11:44.447Z"
   },
   {
    "duration": 14,
    "start_time": "2022-08-02T09:11:44.479Z"
   },
   {
    "duration": 38,
    "start_time": "2022-08-02T09:11:44.494Z"
   },
   {
    "duration": 12,
    "start_time": "2022-08-02T09:11:44.533Z"
   },
   {
    "duration": 3,
    "start_time": "2022-08-02T09:11:44.547Z"
   },
   {
    "duration": 13,
    "start_time": "2022-08-02T09:11:44.551Z"
   },
   {
    "duration": 5,
    "start_time": "2022-08-02T09:11:44.567Z"
   },
   {
    "duration": 3,
    "start_time": "2022-08-02T09:11:44.573Z"
   },
   {
    "duration": 7,
    "start_time": "2022-08-02T09:11:44.578Z"
   },
   {
    "duration": 11,
    "start_time": "2022-08-02T09:11:44.587Z"
   },
   {
    "duration": 39,
    "start_time": "2022-08-02T09:11:44.599Z"
   },
   {
    "duration": 20,
    "start_time": "2022-08-02T09:11:44.640Z"
   },
   {
    "duration": 17,
    "start_time": "2022-08-02T09:11:44.662Z"
   },
   {
    "duration": 181,
    "start_time": "2022-08-02T09:11:44.680Z"
   },
   {
    "duration": 153,
    "start_time": "2022-08-02T09:11:44.863Z"
   },
   {
    "duration": 139,
    "start_time": "2022-08-02T09:11:45.018Z"
   },
   {
    "duration": 41,
    "start_time": "2022-08-02T09:11:45.158Z"
   },
   {
    "duration": 61,
    "start_time": "2022-08-02T09:11:45.201Z"
   },
   {
    "duration": 36,
    "start_time": "2022-08-02T09:11:45.263Z"
   },
   {
    "duration": 7,
    "start_time": "2022-08-02T09:11:45.302Z"
   },
   {
    "duration": 34,
    "start_time": "2022-08-02T09:11:45.310Z"
   },
   {
    "duration": 12,
    "start_time": "2022-08-02T09:11:45.346Z"
   },
   {
    "duration": 14,
    "start_time": "2022-08-02T09:11:45.359Z"
   },
   {
    "duration": 5,
    "start_time": "2022-08-02T09:11:45.374Z"
   },
   {
    "duration": 10,
    "start_time": "2022-08-02T09:11:45.380Z"
   },
   {
    "duration": 4,
    "start_time": "2022-08-02T09:11:45.391Z"
   },
   {
    "duration": 207,
    "start_time": "2022-08-02T09:11:45.397Z"
   },
   {
    "duration": 6,
    "start_time": "2022-08-02T09:11:45.605Z"
   },
   {
    "duration": 22,
    "start_time": "2022-08-02T09:11:45.612Z"
   },
   {
    "duration": 3,
    "start_time": "2022-08-02T09:11:45.636Z"
   },
   {
    "duration": 11,
    "start_time": "2022-08-02T09:11:45.640Z"
   },
   {
    "duration": 0,
    "start_time": "2022-08-02T09:11:45.653Z"
   },
   {
    "duration": 0,
    "start_time": "2022-08-02T09:11:45.654Z"
   },
   {
    "duration": 0,
    "start_time": "2022-08-02T09:11:45.655Z"
   },
   {
    "duration": 0,
    "start_time": "2022-08-02T09:11:45.656Z"
   },
   {
    "duration": 0,
    "start_time": "2022-08-02T09:11:45.657Z"
   },
   {
    "duration": 50,
    "start_time": "2022-08-02T09:11:50.865Z"
   },
   {
    "duration": 3,
    "start_time": "2022-08-02T09:11:50.917Z"
   },
   {
    "duration": 46,
    "start_time": "2022-08-02T09:11:50.921Z"
   },
   {
    "duration": 12,
    "start_time": "2022-08-02T09:11:50.968Z"
   },
   {
    "duration": 16,
    "start_time": "2022-08-02T09:11:50.982Z"
   },
   {
    "duration": 32,
    "start_time": "2022-08-02T09:11:51.000Z"
   },
   {
    "duration": 8,
    "start_time": "2022-08-02T09:11:51.033Z"
   },
   {
    "duration": 6,
    "start_time": "2022-08-02T09:11:51.042Z"
   },
   {
    "duration": 24,
    "start_time": "2022-08-02T09:11:51.050Z"
   },
   {
    "duration": 18,
    "start_time": "2022-08-02T09:11:51.076Z"
   },
   {
    "duration": 81,
    "start_time": "2022-08-02T09:11:51.096Z"
   },
   {
    "duration": 53,
    "start_time": "2022-08-02T09:11:51.179Z"
   },
   {
    "duration": 3,
    "start_time": "2022-08-02T09:11:51.233Z"
   },
   {
    "duration": 6,
    "start_time": "2022-08-02T09:11:51.237Z"
   },
   {
    "duration": 6,
    "start_time": "2022-08-02T09:11:51.244Z"
   },
   {
    "duration": 8,
    "start_time": "2022-08-02T09:11:51.251Z"
   },
   {
    "duration": 12,
    "start_time": "2022-08-02T09:11:51.260Z"
   },
   {
    "duration": 7,
    "start_time": "2022-08-02T09:11:51.273Z"
   },
   {
    "duration": 9,
    "start_time": "2022-08-02T09:11:51.282Z"
   },
   {
    "duration": 5,
    "start_time": "2022-08-02T09:11:51.293Z"
   },
   {
    "duration": 42,
    "start_time": "2022-08-02T09:11:51.300Z"
   },
   {
    "duration": 9,
    "start_time": "2022-08-02T09:11:51.344Z"
   },
   {
    "duration": 6,
    "start_time": "2022-08-02T09:11:51.526Z"
   },
   {
    "duration": 8,
    "start_time": "2022-08-02T09:11:51.534Z"
   },
   {
    "duration": 5,
    "start_time": "2022-08-02T09:11:51.688Z"
   },
   {
    "duration": 16,
    "start_time": "2022-08-02T09:11:51.694Z"
   },
   {
    "duration": 14,
    "start_time": "2022-08-02T09:11:51.711Z"
   },
   {
    "duration": 6,
    "start_time": "2022-08-02T09:11:51.727Z"
   },
   {
    "duration": 9,
    "start_time": "2022-08-02T09:11:51.734Z"
   },
   {
    "duration": 11,
    "start_time": "2022-08-02T09:11:51.744Z"
   },
   {
    "duration": 6,
    "start_time": "2022-08-02T09:11:51.757Z"
   },
   {
    "duration": 3,
    "start_time": "2022-08-02T09:11:51.834Z"
   },
   {
    "duration": 5,
    "start_time": "2022-08-02T09:11:51.839Z"
   },
   {
    "duration": 6,
    "start_time": "2022-08-02T09:11:51.862Z"
   },
   {
    "duration": 7,
    "start_time": "2022-08-02T09:11:51.870Z"
   },
   {
    "duration": 13,
    "start_time": "2022-08-02T09:11:51.879Z"
   },
   {
    "duration": 9,
    "start_time": "2022-08-02T09:11:51.894Z"
   },
   {
    "duration": 16,
    "start_time": "2022-08-02T09:11:51.905Z"
   },
   {
    "duration": 19,
    "start_time": "2022-08-02T09:11:51.922Z"
   },
   {
    "duration": 6,
    "start_time": "2022-08-02T09:11:51.943Z"
   },
   {
    "duration": 20,
    "start_time": "2022-08-02T09:11:51.951Z"
   },
   {
    "duration": 28,
    "start_time": "2022-08-02T09:11:51.972Z"
   },
   {
    "duration": 34,
    "start_time": "2022-08-02T09:11:52.002Z"
   },
   {
    "duration": 15,
    "start_time": "2022-08-02T09:11:52.038Z"
   },
   {
    "duration": 13,
    "start_time": "2022-08-02T09:11:52.055Z"
   },
   {
    "duration": 4,
    "start_time": "2022-08-02T09:11:52.069Z"
   },
   {
    "duration": 13,
    "start_time": "2022-08-02T09:11:52.075Z"
   },
   {
    "duration": 6,
    "start_time": "2022-08-02T09:11:52.089Z"
   },
   {
    "duration": 4,
    "start_time": "2022-08-02T09:11:52.131Z"
   },
   {
    "duration": 6,
    "start_time": "2022-08-02T09:11:52.136Z"
   },
   {
    "duration": 16,
    "start_time": "2022-08-02T09:11:52.143Z"
   },
   {
    "duration": 23,
    "start_time": "2022-08-02T09:11:52.160Z"
   },
   {
    "duration": 20,
    "start_time": "2022-08-02T09:11:52.185Z"
   },
   {
    "duration": 40,
    "start_time": "2022-08-02T09:11:52.206Z"
   },
   {
    "duration": 169,
    "start_time": "2022-08-02T09:11:52.247Z"
   },
   {
    "duration": 230,
    "start_time": "2022-08-02T09:11:52.417Z"
   },
   {
    "duration": 141,
    "start_time": "2022-08-02T09:11:52.649Z"
   },
   {
    "duration": 44,
    "start_time": "2022-08-02T09:11:52.791Z"
   },
   {
    "duration": 39,
    "start_time": "2022-08-02T09:11:52.837Z"
   },
   {
    "duration": 37,
    "start_time": "2022-08-02T09:11:52.877Z"
   },
   {
    "duration": 7,
    "start_time": "2022-08-02T09:11:52.932Z"
   },
   {
    "duration": 21,
    "start_time": "2022-08-02T09:11:52.940Z"
   },
   {
    "duration": 12,
    "start_time": "2022-08-02T09:11:52.963Z"
   },
   {
    "duration": 15,
    "start_time": "2022-08-02T09:11:52.976Z"
   },
   {
    "duration": 7,
    "start_time": "2022-08-02T09:11:52.992Z"
   },
   {
    "duration": 37,
    "start_time": "2022-08-02T09:11:53.001Z"
   },
   {
    "duration": 7,
    "start_time": "2022-08-02T09:11:53.040Z"
   },
   {
    "duration": 200,
    "start_time": "2022-08-02T09:11:53.048Z"
   },
   {
    "duration": 6,
    "start_time": "2022-08-02T09:11:53.249Z"
   },
   {
    "duration": 9,
    "start_time": "2022-08-02T09:11:53.256Z"
   },
   {
    "duration": 3,
    "start_time": "2022-08-02T09:11:53.266Z"
   },
   {
    "duration": 13,
    "start_time": "2022-08-02T09:11:53.270Z"
   },
   {
    "duration": 0,
    "start_time": "2022-08-02T09:11:53.284Z"
   },
   {
    "duration": 0,
    "start_time": "2022-08-02T09:11:53.285Z"
   },
   {
    "duration": 0,
    "start_time": "2022-08-02T09:11:53.286Z"
   },
   {
    "duration": 0,
    "start_time": "2022-08-02T09:11:53.287Z"
   },
   {
    "duration": 0,
    "start_time": "2022-08-02T09:11:53.288Z"
   },
   {
    "duration": 18,
    "start_time": "2022-08-02T09:12:15.524Z"
   },
   {
    "duration": 11,
    "start_time": "2022-08-02T09:15:34.597Z"
   },
   {
    "duration": 41,
    "start_time": "2022-08-02T09:15:37.552Z"
   },
   {
    "duration": 16,
    "start_time": "2022-08-02T09:15:39.206Z"
   },
   {
    "duration": 23,
    "start_time": "2022-08-02T09:16:29.647Z"
   },
   {
    "duration": 14,
    "start_time": "2022-08-02T09:16:41.716Z"
   },
   {
    "duration": 19,
    "start_time": "2022-08-02T09:17:16.149Z"
   },
   {
    "duration": 8,
    "start_time": "2022-08-02T09:17:32.845Z"
   },
   {
    "duration": 17,
    "start_time": "2022-08-02T09:18:40.946Z"
   },
   {
    "duration": 11,
    "start_time": "2022-08-02T09:19:44.751Z"
   },
   {
    "duration": 16,
    "start_time": "2022-08-02T09:19:55.289Z"
   },
   {
    "duration": 9,
    "start_time": "2022-08-02T09:20:52.609Z"
   },
   {
    "duration": 9,
    "start_time": "2022-08-02T09:20:56.983Z"
   },
   {
    "duration": 17,
    "start_time": "2022-08-02T09:21:11.038Z"
   },
   {
    "duration": 16,
    "start_time": "2022-08-02T09:21:26.266Z"
   },
   {
    "duration": 15,
    "start_time": "2022-08-02T09:21:31.678Z"
   },
   {
    "duration": 10,
    "start_time": "2022-08-02T09:23:01.532Z"
   },
   {
    "duration": 22,
    "start_time": "2022-08-02T09:23:29.441Z"
   },
   {
    "duration": 8,
    "start_time": "2022-08-02T09:24:07.936Z"
   },
   {
    "duration": 7,
    "start_time": "2022-08-02T09:24:30.136Z"
   },
   {
    "duration": 9,
    "start_time": "2022-08-02T09:24:40.736Z"
   },
   {
    "duration": 4,
    "start_time": "2022-08-02T09:25:58.873Z"
   },
   {
    "duration": 20,
    "start_time": "2022-08-02T09:26:02.973Z"
   },
   {
    "duration": 8,
    "start_time": "2022-08-02T09:26:19.534Z"
   },
   {
    "duration": 3,
    "start_time": "2022-08-02T09:28:06.546Z"
   },
   {
    "duration": 18,
    "start_time": "2022-08-02T09:28:08.295Z"
   },
   {
    "duration": 7,
    "start_time": "2022-08-02T09:28:10.234Z"
   },
   {
    "duration": 4,
    "start_time": "2022-08-02T09:31:12.505Z"
   },
   {
    "duration": 18,
    "start_time": "2022-08-02T09:31:13.878Z"
   },
   {
    "duration": 7,
    "start_time": "2022-08-02T09:31:15.382Z"
   },
   {
    "duration": 8,
    "start_time": "2022-08-02T09:31:35.342Z"
   },
   {
    "duration": 398,
    "start_time": "2022-08-02T09:38:45.982Z"
   },
   {
    "duration": 7,
    "start_time": "2022-08-02T09:38:46.382Z"
   },
   {
    "duration": 51,
    "start_time": "2022-08-02T09:38:46.391Z"
   },
   {
    "duration": 11,
    "start_time": "2022-08-02T09:38:46.443Z"
   },
   {
    "duration": 15,
    "start_time": "2022-08-02T09:38:46.456Z"
   },
   {
    "duration": 13,
    "start_time": "2022-08-02T09:38:46.473Z"
   },
   {
    "duration": 10,
    "start_time": "2022-08-02T09:38:46.488Z"
   },
   {
    "duration": 33,
    "start_time": "2022-08-02T09:38:46.500Z"
   },
   {
    "duration": 25,
    "start_time": "2022-08-02T09:38:46.534Z"
   },
   {
    "duration": 17,
    "start_time": "2022-08-02T09:38:46.561Z"
   },
   {
    "duration": 74,
    "start_time": "2022-08-02T09:38:46.580Z"
   },
   {
    "duration": 43,
    "start_time": "2022-08-02T09:38:46.656Z"
   },
   {
    "duration": 2,
    "start_time": "2022-08-02T09:38:46.701Z"
   },
   {
    "duration": 6,
    "start_time": "2022-08-02T09:38:46.704Z"
   },
   {
    "duration": 2,
    "start_time": "2022-08-02T09:38:46.731Z"
   },
   {
    "duration": 15,
    "start_time": "2022-08-02T09:38:46.735Z"
   },
   {
    "duration": 15,
    "start_time": "2022-08-02T09:38:46.752Z"
   },
   {
    "duration": 14,
    "start_time": "2022-08-02T09:38:46.770Z"
   },
   {
    "duration": 18,
    "start_time": "2022-08-02T09:38:46.786Z"
   },
   {
    "duration": 25,
    "start_time": "2022-08-02T09:38:46.807Z"
   },
   {
    "duration": 22,
    "start_time": "2022-08-02T09:38:46.833Z"
   },
   {
    "duration": 12,
    "start_time": "2022-08-02T09:38:46.858Z"
   },
   {
    "duration": 7,
    "start_time": "2022-08-02T09:38:46.947Z"
   },
   {
    "duration": 12,
    "start_time": "2022-08-02T09:38:46.956Z"
   },
   {
    "duration": 5,
    "start_time": "2022-08-02T09:38:46.970Z"
   },
   {
    "duration": 13,
    "start_time": "2022-08-02T09:38:46.977Z"
   },
   {
    "duration": 11,
    "start_time": "2022-08-02T09:38:46.992Z"
   },
   {
    "duration": 6,
    "start_time": "2022-08-02T09:38:47.032Z"
   },
   {
    "duration": 12,
    "start_time": "2022-08-02T09:38:47.040Z"
   },
   {
    "duration": 9,
    "start_time": "2022-08-02T09:38:47.054Z"
   },
   {
    "duration": 25,
    "start_time": "2022-08-02T09:38:47.065Z"
   },
   {
    "duration": 18,
    "start_time": "2022-08-02T09:38:47.092Z"
   },
   {
    "duration": 16,
    "start_time": "2022-08-02T09:38:47.112Z"
   },
   {
    "duration": 12,
    "start_time": "2022-08-02T09:38:47.132Z"
   },
   {
    "duration": 10,
    "start_time": "2022-08-02T09:38:47.146Z"
   },
   {
    "duration": 18,
    "start_time": "2022-08-02T09:38:47.159Z"
   },
   {
    "duration": 18,
    "start_time": "2022-08-02T09:38:47.180Z"
   },
   {
    "duration": 16,
    "start_time": "2022-08-02T09:38:47.200Z"
   },
   {
    "duration": 34,
    "start_time": "2022-08-02T09:38:47.218Z"
   },
   {
    "duration": 8,
    "start_time": "2022-08-02T09:38:47.254Z"
   },
   {
    "duration": 27,
    "start_time": "2022-08-02T09:38:47.264Z"
   },
   {
    "duration": 40,
    "start_time": "2022-08-02T09:38:47.292Z"
   },
   {
    "duration": 16,
    "start_time": "2022-08-02T09:38:47.333Z"
   },
   {
    "duration": 16,
    "start_time": "2022-08-02T09:38:47.351Z"
   },
   {
    "duration": 15,
    "start_time": "2022-08-02T09:38:47.369Z"
   },
   {
    "duration": 6,
    "start_time": "2022-08-02T09:38:47.386Z"
   },
   {
    "duration": 44,
    "start_time": "2022-08-02T09:38:47.394Z"
   },
   {
    "duration": 5,
    "start_time": "2022-08-02T09:38:47.440Z"
   },
   {
    "duration": 15,
    "start_time": "2022-08-02T09:38:47.447Z"
   },
   {
    "duration": 10,
    "start_time": "2022-08-02T09:38:47.464Z"
   },
   {
    "duration": 13,
    "start_time": "2022-08-02T09:38:47.476Z"
   },
   {
    "duration": 18,
    "start_time": "2022-08-02T09:38:47.490Z"
   },
   {
    "duration": 32,
    "start_time": "2022-08-02T09:38:47.510Z"
   },
   {
    "duration": 21,
    "start_time": "2022-08-02T09:38:47.544Z"
   },
   {
    "duration": 917,
    "start_time": "2022-08-02T09:38:47.566Z"
   },
   {
    "duration": 148,
    "start_time": "2022-08-02T09:38:48.485Z"
   },
   {
    "duration": 144,
    "start_time": "2022-08-02T09:38:48.635Z"
   },
   {
    "duration": 39,
    "start_time": "2022-08-02T09:38:48.781Z"
   },
   {
    "duration": 43,
    "start_time": "2022-08-02T09:38:48.831Z"
   },
   {
    "duration": 39,
    "start_time": "2022-08-02T09:38:48.875Z"
   },
   {
    "duration": 22,
    "start_time": "2022-08-02T09:38:48.916Z"
   },
   {
    "duration": 22,
    "start_time": "2022-08-02T09:38:48.940Z"
   },
   {
    "duration": 14,
    "start_time": "2022-08-02T09:38:48.967Z"
   },
   {
    "duration": 34,
    "start_time": "2022-08-02T09:38:48.983Z"
   },
   {
    "duration": 10,
    "start_time": "2022-08-02T09:38:49.019Z"
   },
   {
    "duration": 20,
    "start_time": "2022-08-02T09:38:49.031Z"
   },
   {
    "duration": 11,
    "start_time": "2022-08-02T09:38:49.052Z"
   },
   {
    "duration": 193,
    "start_time": "2022-08-02T09:38:49.065Z"
   },
   {
    "duration": 6,
    "start_time": "2022-08-02T09:38:49.259Z"
   },
   {
    "duration": 23,
    "start_time": "2022-08-02T09:38:49.267Z"
   },
   {
    "duration": 13,
    "start_time": "2022-08-02T09:38:49.291Z"
   },
   {
    "duration": 24,
    "start_time": "2022-08-02T09:38:49.305Z"
   },
   {
    "duration": 17,
    "start_time": "2022-08-02T09:38:49.331Z"
   },
   {
    "duration": 21,
    "start_time": "2022-08-02T09:38:49.349Z"
   },
   {
    "duration": 5,
    "start_time": "2022-08-02T09:38:49.371Z"
   },
   {
    "duration": 11,
    "start_time": "2022-08-02T09:38:49.378Z"
   },
   {
    "duration": 14,
    "start_time": "2022-08-02T09:38:49.391Z"
   },
   {
    "duration": 3,
    "start_time": "2022-08-02T09:39:48.446Z"
   },
   {
    "duration": 23,
    "start_time": "2022-08-02T09:39:51.790Z"
   },
   {
    "duration": 7,
    "start_time": "2022-08-02T09:39:55.760Z"
   },
   {
    "duration": 5,
    "start_time": "2022-08-02T09:41:15.675Z"
   },
   {
    "duration": 88,
    "start_time": "2022-08-02T09:54:31.572Z"
   },
   {
    "duration": 17,
    "start_time": "2022-08-02T09:55:12.577Z"
   },
   {
    "duration": 12,
    "start_time": "2022-08-02T09:56:04.979Z"
   },
   {
    "duration": 13,
    "start_time": "2022-08-02T09:56:42.635Z"
   },
   {
    "duration": 20,
    "start_time": "2022-08-02T10:00:28.735Z"
   },
   {
    "duration": 15,
    "start_time": "2022-08-02T10:00:52.693Z"
   },
   {
    "duration": 15,
    "start_time": "2022-08-02T10:03:51.563Z"
   },
   {
    "duration": 4,
    "start_time": "2022-08-02T10:08:46.844Z"
   },
   {
    "duration": 200,
    "start_time": "2022-08-02T10:08:50.185Z"
   },
   {
    "duration": 6,
    "start_time": "2022-08-02T10:08:50.710Z"
   },
   {
    "duration": 8,
    "start_time": "2022-08-02T10:08:51.168Z"
   },
   {
    "duration": 3,
    "start_time": "2022-08-02T10:08:52.146Z"
   },
   {
    "duration": 23,
    "start_time": "2022-08-02T10:08:52.638Z"
   },
   {
    "duration": 6,
    "start_time": "2022-08-02T10:08:53.051Z"
   },
   {
    "duration": 57,
    "start_time": "2022-08-02T10:08:57.895Z"
   },
   {
    "duration": 4,
    "start_time": "2022-08-02T10:08:57.954Z"
   },
   {
    "duration": 56,
    "start_time": "2022-08-02T10:08:57.960Z"
   },
   {
    "duration": 16,
    "start_time": "2022-08-02T10:08:58.033Z"
   },
   {
    "duration": 17,
    "start_time": "2022-08-02T10:08:58.051Z"
   },
   {
    "duration": 14,
    "start_time": "2022-08-02T10:08:58.069Z"
   },
   {
    "duration": 7,
    "start_time": "2022-08-02T10:08:58.084Z"
   },
   {
    "duration": 3,
    "start_time": "2022-08-02T10:08:58.094Z"
   },
   {
    "duration": 60,
    "start_time": "2022-08-02T10:08:58.099Z"
   },
   {
    "duration": 18,
    "start_time": "2022-08-02T10:08:58.160Z"
   },
   {
    "duration": 57,
    "start_time": "2022-08-02T10:08:58.179Z"
   },
   {
    "duration": 45,
    "start_time": "2022-08-02T10:08:58.238Z"
   },
   {
    "duration": 3,
    "start_time": "2022-08-02T10:08:58.581Z"
   },
   {
    "duration": 5,
    "start_time": "2022-08-02T10:08:58.586Z"
   },
   {
    "duration": 8,
    "start_time": "2022-08-02T10:08:58.593Z"
   },
   {
    "duration": 10,
    "start_time": "2022-08-02T10:08:58.603Z"
   },
   {
    "duration": 11,
    "start_time": "2022-08-02T10:08:58.614Z"
   },
   {
    "duration": 22,
    "start_time": "2022-08-02T10:08:58.627Z"
   },
   {
    "duration": 12,
    "start_time": "2022-08-02T10:08:58.651Z"
   },
   {
    "duration": 6,
    "start_time": "2022-08-02T10:08:58.665Z"
   },
   {
    "duration": 26,
    "start_time": "2022-08-02T10:08:58.672Z"
   },
   {
    "duration": 10,
    "start_time": "2022-08-02T10:08:58.752Z"
   },
   {
    "duration": 7,
    "start_time": "2022-08-02T10:08:58.765Z"
   },
   {
    "duration": 19,
    "start_time": "2022-08-02T10:08:58.774Z"
   },
   {
    "duration": 17,
    "start_time": "2022-08-02T10:08:58.795Z"
   },
   {
    "duration": 16,
    "start_time": "2022-08-02T10:08:58.815Z"
   },
   {
    "duration": 10,
    "start_time": "2022-08-02T10:08:58.875Z"
   },
   {
    "duration": 24,
    "start_time": "2022-08-02T10:08:58.887Z"
   },
   {
    "duration": 33,
    "start_time": "2022-08-02T10:08:58.913Z"
   },
   {
    "duration": 18,
    "start_time": "2022-08-02T10:08:58.949Z"
   },
   {
    "duration": 29,
    "start_time": "2022-08-02T10:08:58.970Z"
   },
   {
    "duration": 3,
    "start_time": "2022-08-02T10:08:59.343Z"
   },
   {
    "duration": 7,
    "start_time": "2022-08-02T10:08:59.347Z"
   },
   {
    "duration": 9,
    "start_time": "2022-08-02T10:08:59.355Z"
   },
   {
    "duration": 5,
    "start_time": "2022-08-02T10:08:59.365Z"
   },
   {
    "duration": 11,
    "start_time": "2022-08-02T10:08:59.372Z"
   },
   {
    "duration": 7,
    "start_time": "2022-08-02T10:08:59.384Z"
   },
   {
    "duration": 17,
    "start_time": "2022-08-02T10:08:59.393Z"
   },
   {
    "duration": 16,
    "start_time": "2022-08-02T10:08:59.466Z"
   },
   {
    "duration": 6,
    "start_time": "2022-08-02T10:08:59.484Z"
   },
   {
    "duration": 17,
    "start_time": "2022-08-02T10:08:59.491Z"
   },
   {
    "duration": 27,
    "start_time": "2022-08-02T10:08:59.510Z"
   },
   {
    "duration": 14,
    "start_time": "2022-08-02T10:08:59.539Z"
   },
   {
    "duration": 14,
    "start_time": "2022-08-02T10:08:59.555Z"
   },
   {
    "duration": 13,
    "start_time": "2022-08-02T10:08:59.571Z"
   },
   {
    "duration": 4,
    "start_time": "2022-08-02T10:08:59.586Z"
   },
   {
    "duration": 41,
    "start_time": "2022-08-02T10:08:59.591Z"
   },
   {
    "duration": 5,
    "start_time": "2022-08-02T10:08:59.634Z"
   },
   {
    "duration": 3,
    "start_time": "2022-08-02T10:08:59.640Z"
   },
   {
    "duration": 7,
    "start_time": "2022-08-02T10:08:59.645Z"
   },
   {
    "duration": 11,
    "start_time": "2022-08-02T10:08:59.653Z"
   },
   {
    "duration": 13,
    "start_time": "2022-08-02T10:08:59.665Z"
   },
   {
    "duration": 24,
    "start_time": "2022-08-02T10:08:59.680Z"
   },
   {
    "duration": 19,
    "start_time": "2022-08-02T10:08:59.733Z"
   },
   {
    "duration": 201,
    "start_time": "2022-08-02T10:08:59.754Z"
   },
   {
    "duration": 155,
    "start_time": "2022-08-02T10:08:59.956Z"
   },
   {
    "duration": 156,
    "start_time": "2022-08-02T10:09:00.112Z"
   },
   {
    "duration": 45,
    "start_time": "2022-08-02T10:09:00.271Z"
   },
   {
    "duration": 55,
    "start_time": "2022-08-02T10:09:00.318Z"
   },
   {
    "duration": 57,
    "start_time": "2022-08-02T10:09:00.375Z"
   },
   {
    "duration": 8,
    "start_time": "2022-08-02T10:09:00.434Z"
   },
   {
    "duration": 33,
    "start_time": "2022-08-02T10:09:00.444Z"
   },
   {
    "duration": 17,
    "start_time": "2022-08-02T10:09:00.479Z"
   },
   {
    "duration": 15,
    "start_time": "2022-08-02T10:09:00.498Z"
   },
   {
    "duration": 6,
    "start_time": "2022-08-02T10:09:00.515Z"
   },
   {
    "duration": 20,
    "start_time": "2022-08-02T10:09:00.522Z"
   },
   {
    "duration": 11,
    "start_time": "2022-08-02T10:09:00.545Z"
   },
   {
    "duration": 209,
    "start_time": "2022-08-02T10:09:00.558Z"
   },
   {
    "duration": 6,
    "start_time": "2022-08-02T10:09:00.769Z"
   },
   {
    "duration": 35,
    "start_time": "2022-08-02T10:09:00.776Z"
   },
   {
    "duration": 10,
    "start_time": "2022-08-02T10:09:00.813Z"
   },
   {
    "duration": 24,
    "start_time": "2022-08-02T10:09:00.825Z"
   },
   {
    "duration": 18,
    "start_time": "2022-08-02T10:09:00.851Z"
   },
   {
    "duration": 6,
    "start_time": "2022-08-02T10:09:02.569Z"
   },
   {
    "duration": 13,
    "start_time": "2022-08-02T10:09:02.595Z"
   },
   {
    "duration": 13,
    "start_time": "2022-08-02T10:09:02.610Z"
   },
   {
    "duration": 14,
    "start_time": "2022-08-02T10:09:02.624Z"
   },
   {
    "duration": 1,
    "start_time": "2022-08-02T10:09:02.641Z"
   },
   {
    "duration": 5,
    "start_time": "2022-08-02T10:09:02.644Z"
   },
   {
    "duration": 15,
    "start_time": "2022-08-02T10:17:02.141Z"
   },
   {
    "duration": 6,
    "start_time": "2022-08-02T10:20:27.990Z"
   },
   {
    "duration": 8,
    "start_time": "2022-08-02T10:21:00.350Z"
   },
   {
    "duration": 12,
    "start_time": "2022-08-02T10:24:21.274Z"
   },
   {
    "duration": 12,
    "start_time": "2022-08-02T10:25:12.768Z"
   },
   {
    "duration": 13,
    "start_time": "2022-08-02T10:25:21.643Z"
   },
   {
    "duration": 73,
    "start_time": "2022-08-02T10:25:34.273Z"
   },
   {
    "duration": 85,
    "start_time": "2022-08-02T10:25:51.896Z"
   },
   {
    "duration": 12,
    "start_time": "2022-08-02T10:26:18.990Z"
   },
   {
    "duration": 12,
    "start_time": "2022-08-02T10:26:26.948Z"
   },
   {
    "duration": 12,
    "start_time": "2022-08-02T10:26:34.474Z"
   },
   {
    "duration": 13,
    "start_time": "2022-08-02T10:26:55.359Z"
   },
   {
    "duration": 199,
    "start_time": "2022-08-02T10:28:19.087Z"
   },
   {
    "duration": 443,
    "start_time": "2022-08-02T10:29:03.444Z"
   },
   {
    "duration": 8,
    "start_time": "2022-08-02T10:29:03.889Z"
   },
   {
    "duration": 64,
    "start_time": "2022-08-02T10:29:03.898Z"
   },
   {
    "duration": 12,
    "start_time": "2022-08-02T10:29:03.963Z"
   },
   {
    "duration": 18,
    "start_time": "2022-08-02T10:29:04.243Z"
   },
   {
    "duration": 13,
    "start_time": "2022-08-02T10:29:04.263Z"
   },
   {
    "duration": 7,
    "start_time": "2022-08-02T10:29:04.278Z"
   },
   {
    "duration": 3,
    "start_time": "2022-08-02T10:29:04.393Z"
   },
   {
    "duration": 25,
    "start_time": "2022-08-02T10:29:04.402Z"
   },
   {
    "duration": 24,
    "start_time": "2022-08-02T10:29:04.429Z"
   },
   {
    "duration": 44,
    "start_time": "2022-08-02T10:29:04.546Z"
   },
   {
    "duration": 47,
    "start_time": "2022-08-02T10:29:04.591Z"
   },
   {
    "duration": 8,
    "start_time": "2022-08-02T10:29:04.640Z"
   },
   {
    "duration": 6,
    "start_time": "2022-08-02T10:29:04.650Z"
   },
   {
    "duration": 8,
    "start_time": "2022-08-02T10:29:04.658Z"
   },
   {
    "duration": 6,
    "start_time": "2022-08-02T10:29:04.677Z"
   },
   {
    "duration": 12,
    "start_time": "2022-08-02T10:29:04.685Z"
   },
   {
    "duration": 9,
    "start_time": "2022-08-02T10:29:04.698Z"
   },
   {
    "duration": 10,
    "start_time": "2022-08-02T10:29:04.709Z"
   },
   {
    "duration": 21,
    "start_time": "2022-08-02T10:29:04.721Z"
   },
   {
    "duration": 20,
    "start_time": "2022-08-02T10:29:04.744Z"
   },
   {
    "duration": 11,
    "start_time": "2022-08-02T10:29:04.765Z"
   },
   {
    "duration": 8,
    "start_time": "2022-08-02T10:29:04.844Z"
   },
   {
    "duration": 12,
    "start_time": "2022-08-02T10:29:04.854Z"
   },
   {
    "duration": 4,
    "start_time": "2022-08-02T10:29:04.868Z"
   },
   {
    "duration": 13,
    "start_time": "2022-08-02T10:29:04.874Z"
   },
   {
    "duration": 7,
    "start_time": "2022-08-02T10:29:05.145Z"
   },
   {
    "duration": 9,
    "start_time": "2022-08-02T10:29:05.153Z"
   },
   {
    "duration": 7,
    "start_time": "2022-08-02T10:29:05.163Z"
   },
   {
    "duration": 7,
    "start_time": "2022-08-02T10:29:05.172Z"
   },
   {
    "duration": 8,
    "start_time": "2022-08-02T10:29:05.181Z"
   },
   {
    "duration": 7,
    "start_time": "2022-08-02T10:29:05.191Z"
   },
   {
    "duration": 9,
    "start_time": "2022-08-02T10:29:05.200Z"
   },
   {
    "duration": 9,
    "start_time": "2022-08-02T10:29:05.211Z"
   },
   {
    "duration": 19,
    "start_time": "2022-08-02T10:29:05.231Z"
   },
   {
    "duration": 7,
    "start_time": "2022-08-02T10:29:05.554Z"
   },
   {
    "duration": 16,
    "start_time": "2022-08-02T10:29:05.563Z"
   },
   {
    "duration": 25,
    "start_time": "2022-08-02T10:29:05.581Z"
   },
   {
    "duration": 22,
    "start_time": "2022-08-02T10:29:05.608Z"
   },
   {
    "duration": 11,
    "start_time": "2022-08-02T10:29:05.635Z"
   },
   {
    "duration": 28,
    "start_time": "2022-08-02T10:29:05.649Z"
   },
   {
    "duration": 42,
    "start_time": "2022-08-02T10:29:05.680Z"
   },
   {
    "duration": 19,
    "start_time": "2022-08-02T10:29:05.734Z"
   },
   {
    "duration": 21,
    "start_time": "2022-08-02T10:29:05.755Z"
   },
   {
    "duration": 16,
    "start_time": "2022-08-02T10:29:05.778Z"
   },
   {
    "duration": 5,
    "start_time": "2022-08-02T10:29:05.795Z"
   },
   {
    "duration": 42,
    "start_time": "2022-08-02T10:29:05.802Z"
   },
   {
    "duration": 6,
    "start_time": "2022-08-02T10:29:05.847Z"
   },
   {
    "duration": 4,
    "start_time": "2022-08-02T10:29:05.855Z"
   },
   {
    "duration": 4,
    "start_time": "2022-08-02T10:29:05.862Z"
   },
   {
    "duration": 14,
    "start_time": "2022-08-02T10:29:05.868Z"
   },
   {
    "duration": 19,
    "start_time": "2022-08-02T10:29:05.883Z"
   },
   {
    "duration": 63,
    "start_time": "2022-08-02T10:29:05.903Z"
   },
   {
    "duration": 19,
    "start_time": "2022-08-02T10:29:05.967Z"
   },
   {
    "duration": 931,
    "start_time": "2022-08-02T10:29:05.988Z"
   },
   {
    "duration": 169,
    "start_time": "2022-08-02T10:29:06.920Z"
   },
   {
    "duration": 153,
    "start_time": "2022-08-02T10:29:07.091Z"
   },
   {
    "duration": 41,
    "start_time": "2022-08-02T10:29:07.246Z"
   },
   {
    "duration": 59,
    "start_time": "2022-08-02T10:29:07.289Z"
   },
   {
    "duration": 42,
    "start_time": "2022-08-02T10:29:07.350Z"
   },
   {
    "duration": 10,
    "start_time": "2022-08-02T10:29:07.394Z"
   },
   {
    "duration": 41,
    "start_time": "2022-08-02T10:29:07.406Z"
   },
   {
    "duration": 15,
    "start_time": "2022-08-02T10:29:07.448Z"
   },
   {
    "duration": 15,
    "start_time": "2022-08-02T10:29:07.464Z"
   },
   {
    "duration": 8,
    "start_time": "2022-08-02T10:29:07.481Z"
   },
   {
    "duration": 15,
    "start_time": "2022-08-02T10:29:07.491Z"
   },
   {
    "duration": 8,
    "start_time": "2022-08-02T10:29:07.536Z"
   },
   {
    "duration": 266,
    "start_time": "2022-08-02T10:29:07.546Z"
   },
   {
    "duration": 30,
    "start_time": "2022-08-02T10:29:07.814Z"
   },
   {
    "duration": 12,
    "start_time": "2022-08-02T10:29:07.847Z"
   },
   {
    "duration": 4,
    "start_time": "2022-08-02T10:29:07.860Z"
   },
   {
    "duration": 31,
    "start_time": "2022-08-02T10:29:07.865Z"
   },
   {
    "duration": 20,
    "start_time": "2022-08-02T10:29:07.899Z"
   },
   {
    "duration": 22,
    "start_time": "2022-08-02T10:29:07.921Z"
   },
   {
    "duration": 30,
    "start_time": "2022-08-02T10:29:07.947Z"
   },
   {
    "duration": 18,
    "start_time": "2022-08-02T10:29:07.979Z"
   },
   {
    "duration": 13,
    "start_time": "2022-08-02T10:29:07.999Z"
   },
   {
    "duration": 2,
    "start_time": "2022-08-02T10:29:08.013Z"
   },
   {
    "duration": 89,
    "start_time": "2022-08-02T10:36:03.102Z"
   },
   {
    "duration": 12,
    "start_time": "2022-08-02T10:36:10.234Z"
   },
   {
    "duration": 12,
    "start_time": "2022-08-02T10:36:23.041Z"
   },
   {
    "duration": 12,
    "start_time": "2022-08-02T10:36:48.545Z"
   },
   {
    "duration": 74,
    "start_time": "2022-08-02T10:47:27.054Z"
   },
   {
    "duration": 4,
    "start_time": "2022-08-02T10:47:43.900Z"
   },
   {
    "duration": 94,
    "start_time": "2022-08-02T10:48:00.843Z"
   },
   {
    "duration": 4,
    "start_time": "2022-08-02T10:48:49.797Z"
   },
   {
    "duration": 4,
    "start_time": "2022-08-02T10:49:22.763Z"
   },
   {
    "duration": 4,
    "start_time": "2022-08-02T10:50:00.870Z"
   },
   {
    "duration": 73,
    "start_time": "2022-08-02T10:50:22.135Z"
   },
   {
    "duration": 4,
    "start_time": "2022-08-02T10:51:59.982Z"
   },
   {
    "duration": 4,
    "start_time": "2022-08-02T10:52:14.731Z"
   },
   {
    "duration": 12,
    "start_time": "2022-08-02T10:52:31.287Z"
   },
   {
    "duration": 12,
    "start_time": "2022-08-02T10:53:43.660Z"
   },
   {
    "duration": 11,
    "start_time": "2022-08-02T10:53:57.566Z"
   },
   {
    "duration": 72,
    "start_time": "2022-08-02T10:57:08.143Z"
   },
   {
    "duration": 4,
    "start_time": "2022-08-02T10:58:13.845Z"
   },
   {
    "duration": 7,
    "start_time": "2022-08-02T10:58:39.448Z"
   },
   {
    "duration": 5,
    "start_time": "2022-08-02T10:59:16.441Z"
   },
   {
    "duration": 4,
    "start_time": "2022-08-02T10:59:19.050Z"
   },
   {
    "duration": 324,
    "start_time": "2022-08-02T11:02:57.083Z"
   },
   {
    "duration": 19,
    "start_time": "2022-08-02T11:03:10.654Z"
   },
   {
    "duration": 14,
    "start_time": "2022-08-02T11:04:21.271Z"
   },
   {
    "duration": 3,
    "start_time": "2022-08-02T11:05:31.880Z"
   },
   {
    "duration": 31,
    "start_time": "2022-08-02T11:07:59.747Z"
   },
   {
    "duration": 3,
    "start_time": "2022-08-02T11:08:33.853Z"
   },
   {
    "duration": 3,
    "start_time": "2022-08-02T11:08:34.755Z"
   },
   {
    "duration": 20,
    "start_time": "2022-08-02T11:08:34.901Z"
   },
   {
    "duration": 21,
    "start_time": "2022-08-02T11:09:23.771Z"
   },
   {
    "duration": 21,
    "start_time": "2022-08-02T11:10:41.245Z"
   },
   {
    "duration": 1457,
    "start_time": "2022-08-02T11:10:48.781Z"
   },
   {
    "duration": 84,
    "start_time": "2022-08-02T11:11:07.472Z"
   },
   {
    "duration": 68,
    "start_time": "2022-08-02T11:11:19.852Z"
   },
   {
    "duration": 1482,
    "start_time": "2022-08-02T11:11:36.100Z"
   },
   {
    "duration": 1633,
    "start_time": "2022-08-02T11:11:59.752Z"
   },
   {
    "duration": 928,
    "start_time": "2022-08-02T11:12:26.278Z"
   },
   {
    "duration": 14,
    "start_time": "2022-08-02T11:13:41.368Z"
   },
   {
    "duration": 30,
    "start_time": "2022-08-02T11:13:48.651Z"
   },
   {
    "duration": 4,
    "start_time": "2022-08-02T11:14:36.155Z"
   },
   {
    "duration": 3,
    "start_time": "2022-08-02T11:14:38.180Z"
   },
   {
    "duration": 31,
    "start_time": "2022-08-02T11:14:38.185Z"
   },
   {
    "duration": 31,
    "start_time": "2022-08-02T11:15:25.720Z"
   },
   {
    "duration": 418,
    "start_time": "2022-08-02T11:15:38.802Z"
   },
   {
    "duration": 7,
    "start_time": "2022-08-02T11:15:39.285Z"
   },
   {
    "duration": 61,
    "start_time": "2022-08-02T11:15:39.294Z"
   },
   {
    "duration": 16,
    "start_time": "2022-08-02T11:15:39.357Z"
   },
   {
    "duration": 22,
    "start_time": "2022-08-02T11:15:39.374Z"
   },
   {
    "duration": 15,
    "start_time": "2022-08-02T11:15:39.399Z"
   },
   {
    "duration": 8,
    "start_time": "2022-08-02T11:15:39.464Z"
   },
   {
    "duration": 5,
    "start_time": "2022-08-02T11:15:39.474Z"
   },
   {
    "duration": 27,
    "start_time": "2022-08-02T11:15:39.957Z"
   },
   {
    "duration": 18,
    "start_time": "2022-08-02T11:15:39.986Z"
   },
   {
    "duration": 47,
    "start_time": "2022-08-02T11:15:40.006Z"
   },
   {
    "duration": 42,
    "start_time": "2022-08-02T11:15:40.054Z"
   },
   {
    "duration": 6,
    "start_time": "2022-08-02T11:15:40.130Z"
   },
   {
    "duration": 13,
    "start_time": "2022-08-02T11:15:40.137Z"
   },
   {
    "duration": 7,
    "start_time": "2022-08-02T11:15:40.151Z"
   },
   {
    "duration": 8,
    "start_time": "2022-08-02T11:15:40.159Z"
   },
   {
    "duration": 10,
    "start_time": "2022-08-02T11:15:40.169Z"
   },
   {
    "duration": 23,
    "start_time": "2022-08-02T11:15:40.180Z"
   },
   {
    "duration": 13,
    "start_time": "2022-08-02T11:15:40.205Z"
   },
   {
    "duration": 4,
    "start_time": "2022-08-02T11:15:40.219Z"
   },
   {
    "duration": 19,
    "start_time": "2022-08-02T11:15:40.271Z"
   },
   {
    "duration": 9,
    "start_time": "2022-08-02T11:15:40.291Z"
   },
   {
    "duration": 4,
    "start_time": "2022-08-02T11:15:40.302Z"
   },
   {
    "duration": 11,
    "start_time": "2022-08-02T11:15:40.307Z"
   },
   {
    "duration": 3,
    "start_time": "2022-08-02T11:15:40.320Z"
   },
   {
    "duration": 18,
    "start_time": "2022-08-02T11:15:40.324Z"
   },
   {
    "duration": 12,
    "start_time": "2022-08-02T11:15:40.343Z"
   },
   {
    "duration": 5,
    "start_time": "2022-08-02T11:15:40.406Z"
   },
   {
    "duration": 12,
    "start_time": "2022-08-02T11:15:40.413Z"
   },
   {
    "duration": 16,
    "start_time": "2022-08-02T11:15:40.427Z"
   },
   {
    "duration": 7,
    "start_time": "2022-08-02T11:15:40.444Z"
   },
   {
    "duration": 9,
    "start_time": "2022-08-02T11:15:40.453Z"
   },
   {
    "duration": 7,
    "start_time": "2022-08-02T11:15:40.464Z"
   },
   {
    "duration": 8,
    "start_time": "2022-08-02T11:15:40.472Z"
   },
   {
    "duration": 6,
    "start_time": "2022-08-02T11:15:40.481Z"
   },
   {
    "duration": 8,
    "start_time": "2022-08-02T11:15:40.488Z"
   },
   {
    "duration": 6,
    "start_time": "2022-08-02T11:15:40.944Z"
   },
   {
    "duration": 14,
    "start_time": "2022-08-02T11:15:40.952Z"
   },
   {
    "duration": 14,
    "start_time": "2022-08-02T11:15:40.967Z"
   },
   {
    "duration": 7,
    "start_time": "2022-08-02T11:15:40.983Z"
   },
   {
    "duration": 18,
    "start_time": "2022-08-02T11:15:40.992Z"
   },
   {
    "duration": 47,
    "start_time": "2022-08-02T11:15:41.012Z"
   },
   {
    "duration": 14,
    "start_time": "2022-08-02T11:15:41.061Z"
   },
   {
    "duration": 15,
    "start_time": "2022-08-02T11:15:41.076Z"
   },
   {
    "duration": 13,
    "start_time": "2022-08-02T11:15:41.092Z"
   },
   {
    "duration": 34,
    "start_time": "2022-08-02T11:15:41.106Z"
   },
   {
    "duration": 19,
    "start_time": "2022-08-02T11:15:41.141Z"
   },
   {
    "duration": 4,
    "start_time": "2022-08-02T11:15:41.162Z"
   },
   {
    "duration": 3,
    "start_time": "2022-08-02T11:15:41.168Z"
   },
   {
    "duration": 6,
    "start_time": "2022-08-02T11:15:41.174Z"
   },
   {
    "duration": 11,
    "start_time": "2022-08-02T11:15:41.181Z"
   },
   {
    "duration": 15,
    "start_time": "2022-08-02T11:15:41.194Z"
   },
   {
    "duration": 50,
    "start_time": "2022-08-02T11:15:41.211Z"
   },
   {
    "duration": 18,
    "start_time": "2022-08-02T11:15:41.262Z"
   },
   {
    "duration": 975,
    "start_time": "2022-08-02T11:15:41.281Z"
   },
   {
    "duration": 197,
    "start_time": "2022-08-02T11:15:42.257Z"
   },
   {
    "duration": 143,
    "start_time": "2022-08-02T11:15:42.455Z"
   },
   {
    "duration": 48,
    "start_time": "2022-08-02T11:15:42.599Z"
   },
   {
    "duration": 40,
    "start_time": "2022-08-02T11:15:42.648Z"
   },
   {
    "duration": 59,
    "start_time": "2022-08-02T11:15:42.689Z"
   },
   {
    "duration": 8,
    "start_time": "2022-08-02T11:15:42.749Z"
   },
   {
    "duration": 14,
    "start_time": "2022-08-02T11:15:42.758Z"
   },
   {
    "duration": 12,
    "start_time": "2022-08-02T11:15:42.774Z"
   },
   {
    "duration": 13,
    "start_time": "2022-08-02T11:15:42.789Z"
   },
   {
    "duration": 43,
    "start_time": "2022-08-02T11:15:42.803Z"
   },
   {
    "duration": 22,
    "start_time": "2022-08-02T11:15:42.847Z"
   },
   {
    "duration": 4,
    "start_time": "2022-08-02T11:15:42.870Z"
   },
   {
    "duration": 214,
    "start_time": "2022-08-02T11:15:42.875Z"
   },
   {
    "duration": 3,
    "start_time": "2022-08-02T11:15:43.091Z"
   },
   {
    "duration": 17,
    "start_time": "2022-08-02T11:15:43.095Z"
   },
   {
    "duration": 43,
    "start_time": "2022-08-02T11:15:43.114Z"
   },
   {
    "duration": 9,
    "start_time": "2022-08-02T11:15:43.159Z"
   },
   {
    "duration": 14,
    "start_time": "2022-08-02T11:15:43.169Z"
   },
   {
    "duration": 6,
    "start_time": "2022-08-02T11:15:43.185Z"
   },
   {
    "duration": 23,
    "start_time": "2022-08-02T11:15:43.192Z"
   },
   {
    "duration": 28,
    "start_time": "2022-08-02T11:15:43.217Z"
   },
   {
    "duration": 12,
    "start_time": "2022-08-02T11:15:43.247Z"
   },
   {
    "duration": 16,
    "start_time": "2022-08-02T11:15:43.260Z"
   },
   {
    "duration": 21,
    "start_time": "2022-08-02T11:15:43.277Z"
   },
   {
    "duration": 13,
    "start_time": "2022-08-02T11:15:43.299Z"
   },
   {
    "duration": 6,
    "start_time": "2022-08-02T11:15:43.313Z"
   },
   {
    "duration": 34,
    "start_time": "2022-08-02T11:16:57.050Z"
   },
   {
    "duration": 3,
    "start_time": "2022-08-02T11:17:27.748Z"
   },
   {
    "duration": 3,
    "start_time": "2022-08-02T11:17:28.576Z"
   },
   {
    "duration": 16,
    "start_time": "2022-08-02T11:17:29.542Z"
   },
   {
    "duration": 10,
    "start_time": "2022-08-02T11:18:21.931Z"
   },
   {
    "duration": 10,
    "start_time": "2022-08-02T11:18:40.359Z"
   },
   {
    "duration": 6,
    "start_time": "2022-08-02T11:20:03.063Z"
   },
   {
    "duration": 9,
    "start_time": "2022-08-02T11:20:03.896Z"
   },
   {
    "duration": 3,
    "start_time": "2022-08-02T11:20:34.858Z"
   },
   {
    "duration": 20,
    "start_time": "2022-08-02T11:20:37.476Z"
   },
   {
    "duration": 7,
    "start_time": "2022-08-02T11:20:43.402Z"
   },
   {
    "duration": 14,
    "start_time": "2022-08-02T11:22:26.033Z"
   },
   {
    "duration": 3,
    "start_time": "2022-08-02T11:25:51.357Z"
   },
   {
    "duration": 20,
    "start_time": "2022-08-02T11:25:58.169Z"
   },
   {
    "duration": 30,
    "start_time": "2022-08-02T11:26:37.661Z"
   },
   {
    "duration": 30,
    "start_time": "2022-08-02T11:29:36.763Z"
   },
   {
    "duration": 103,
    "start_time": "2022-08-02T11:30:11.736Z"
   },
   {
    "duration": 16,
    "start_time": "2022-08-02T11:31:52.740Z"
   },
   {
    "duration": 129,
    "start_time": "2022-08-02T11:32:15.374Z"
   },
   {
    "duration": 78,
    "start_time": "2022-08-02T11:32:29.106Z"
   },
   {
    "duration": 78,
    "start_time": "2022-08-02T11:33:26.989Z"
   },
   {
    "duration": 95,
    "start_time": "2022-08-02T11:33:42.901Z"
   },
   {
    "duration": 79,
    "start_time": "2022-08-02T11:33:51.403Z"
   },
   {
    "duration": 396,
    "start_time": "2022-08-02T11:35:05.704Z"
   },
   {
    "duration": 119,
    "start_time": "2022-08-02T11:36:02.607Z"
   },
   {
    "duration": 147,
    "start_time": "2022-08-02T11:36:48.429Z"
   },
   {
    "duration": 11,
    "start_time": "2022-08-02T11:36:53.787Z"
   },
   {
    "duration": 40,
    "start_time": "2022-08-02T11:37:00.569Z"
   },
   {
    "duration": 44,
    "start_time": "2022-08-02T11:37:14.369Z"
   },
   {
    "duration": 62,
    "start_time": "2022-08-02T11:46:15.331Z"
   },
   {
    "duration": 17,
    "start_time": "2022-08-02T11:46:36.192Z"
   },
   {
    "duration": 19,
    "start_time": "2022-08-02T12:26:53.044Z"
   },
   {
    "duration": 10,
    "start_time": "2022-08-02T12:27:49.674Z"
   },
   {
    "duration": 12,
    "start_time": "2022-08-02T12:27:59.064Z"
   },
   {
    "duration": 463,
    "start_time": "2022-08-02T12:28:22.042Z"
   },
   {
    "duration": 12,
    "start_time": "2022-08-02T12:28:24.629Z"
   },
   {
    "duration": 50,
    "start_time": "2022-08-02T12:28:25.177Z"
   },
   {
    "duration": 16,
    "start_time": "2022-08-02T12:28:25.673Z"
   },
   {
    "duration": 14,
    "start_time": "2022-08-02T12:28:28.187Z"
   },
   {
    "duration": 13,
    "start_time": "2022-08-02T12:28:33.657Z"
   },
   {
    "duration": 9,
    "start_time": "2022-08-02T12:35:07.041Z"
   },
   {
    "duration": 4,
    "start_time": "2022-08-02T12:35:27.647Z"
   },
   {
    "duration": 85,
    "start_time": "2022-08-02T12:38:07.905Z"
   },
   {
    "duration": 4,
    "start_time": "2022-08-02T12:38:14.950Z"
   },
   {
    "duration": 5,
    "start_time": "2022-08-02T12:38:34.874Z"
   },
   {
    "duration": 4,
    "start_time": "2022-08-02T12:38:55.951Z"
   },
   {
    "duration": 26,
    "start_time": "2022-08-02T12:42:09.445Z"
   },
   {
    "duration": 14,
    "start_time": "2022-08-02T12:44:43.642Z"
   },
   {
    "duration": 12,
    "start_time": "2022-08-02T12:44:54.167Z"
   },
   {
    "duration": 57,
    "start_time": "2022-08-02T12:51:03.443Z"
   },
   {
    "duration": 17,
    "start_time": "2022-08-02T12:51:44.422Z"
   },
   {
    "duration": 59,
    "start_time": "2022-08-02T12:53:47.626Z"
   },
   {
    "duration": 58,
    "start_time": "2022-08-02T12:53:54.419Z"
   },
   {
    "duration": 10,
    "start_time": "2022-08-02T13:06:01.536Z"
   },
   {
    "duration": 8,
    "start_time": "2022-08-02T13:06:43.586Z"
   },
   {
    "duration": 8,
    "start_time": "2022-08-02T13:06:44.353Z"
   },
   {
    "duration": 8,
    "start_time": "2022-08-02T13:06:52.453Z"
   },
   {
    "duration": 14,
    "start_time": "2022-08-02T13:10:47.230Z"
   },
   {
    "duration": 31,
    "start_time": "2022-08-02T13:10:52.716Z"
   },
   {
    "duration": 9,
    "start_time": "2022-08-02T13:12:20.115Z"
   },
   {
    "duration": 7,
    "start_time": "2022-08-02T13:12:23.630Z"
   },
   {
    "duration": 8,
    "start_time": "2022-08-02T13:16:25.725Z"
   },
   {
    "duration": 9,
    "start_time": "2022-08-02T13:55:14.854Z"
   },
   {
    "duration": 9,
    "start_time": "2022-08-02T13:55:58.995Z"
   },
   {
    "duration": 80,
    "start_time": "2022-08-02T13:56:25.163Z"
   },
   {
    "duration": 8,
    "start_time": "2022-08-02T13:57:53.274Z"
   },
   {
    "duration": 8,
    "start_time": "2022-08-02T13:58:07.377Z"
   },
   {
    "duration": 5,
    "start_time": "2022-08-02T14:51:52.736Z"
   },
   {
    "duration": 12,
    "start_time": "2022-08-02T14:52:01.431Z"
   },
   {
    "duration": 18,
    "start_time": "2022-08-02T14:58:56.422Z"
   },
   {
    "duration": 6,
    "start_time": "2022-08-02T14:59:45.553Z"
   },
   {
    "duration": 30,
    "start_time": "2022-08-02T15:00:10.628Z"
   },
   {
    "duration": 24,
    "start_time": "2022-08-02T15:01:40.565Z"
   },
   {
    "duration": 35,
    "start_time": "2022-08-02T15:02:00.622Z"
   },
   {
    "duration": 1443,
    "start_time": "2022-08-02T15:02:10.449Z"
   },
   {
    "duration": 22,
    "start_time": "2022-08-02T15:04:21.085Z"
   },
   {
    "duration": 33,
    "start_time": "2022-08-02T15:04:33.333Z"
   },
   {
    "duration": 25,
    "start_time": "2022-08-02T15:05:23.538Z"
   },
   {
    "duration": 6,
    "start_time": "2022-08-02T15:08:54.653Z"
   },
   {
    "duration": 12,
    "start_time": "2022-08-02T15:09:02.222Z"
   },
   {
    "duration": 12,
    "start_time": "2022-08-02T15:10:03.936Z"
   },
   {
    "duration": 1470,
    "start_time": "2022-08-02T15:10:48.442Z"
   },
   {
    "duration": 21,
    "start_time": "2022-08-02T15:12:51.371Z"
   },
   {
    "duration": 920,
    "start_time": "2022-08-02T15:13:25.340Z"
   },
   {
    "duration": 14,
    "start_time": "2022-08-02T15:14:03.309Z"
   },
   {
    "duration": 13,
    "start_time": "2022-08-02T15:15:07.320Z"
   },
   {
    "duration": 13,
    "start_time": "2022-08-02T15:16:03.220Z"
   },
   {
    "duration": 11,
    "start_time": "2022-08-02T15:16:11.620Z"
   },
   {
    "duration": 1163,
    "start_time": "2022-08-02T15:16:27.443Z"
   },
   {
    "duration": 14,
    "start_time": "2022-08-02T15:16:53.313Z"
   },
   {
    "duration": 15,
    "start_time": "2022-08-02T15:18:14.328Z"
   },
   {
    "duration": 14,
    "start_time": "2022-08-02T15:18:19.257Z"
   },
   {
    "duration": 39,
    "start_time": "2022-08-02T15:18:41.757Z"
   },
   {
    "duration": 29,
    "start_time": "2022-08-02T15:18:52.940Z"
   },
   {
    "duration": 17,
    "start_time": "2022-08-02T15:22:15.010Z"
   },
   {
    "duration": 16,
    "start_time": "2022-08-02T15:28:07.443Z"
   },
   {
    "duration": 1129,
    "start_time": "2022-08-02T15:29:26.436Z"
   },
   {
    "duration": 1300,
    "start_time": "2022-08-02T15:29:41.850Z"
   },
   {
    "duration": 15,
    "start_time": "2022-08-02T15:30:46.529Z"
   },
   {
    "duration": 15,
    "start_time": "2022-08-02T15:32:40.733Z"
   },
   {
    "duration": 13,
    "start_time": "2022-08-02T15:32:59.486Z"
   },
   {
    "duration": 14,
    "start_time": "2022-08-02T15:35:49.591Z"
   },
   {
    "duration": 9,
    "start_time": "2022-08-02T17:20:50.932Z"
   },
   {
    "duration": 7,
    "start_time": "2022-08-02T17:21:29.440Z"
   },
   {
    "duration": 11,
    "start_time": "2022-08-02T17:21:57.027Z"
   },
   {
    "duration": 56,
    "start_time": "2022-08-02T17:22:01.931Z"
   },
   {
    "duration": 3,
    "start_time": "2022-08-02T17:22:01.989Z"
   },
   {
    "duration": 63,
    "start_time": "2022-08-02T17:22:01.994Z"
   },
   {
    "duration": 11,
    "start_time": "2022-08-02T17:22:02.059Z"
   },
   {
    "duration": 14,
    "start_time": "2022-08-02T17:22:02.072Z"
   },
   {
    "duration": 11,
    "start_time": "2022-08-02T17:22:02.087Z"
   },
   {
    "duration": 35,
    "start_time": "2022-08-02T17:22:02.100Z"
   },
   {
    "duration": 5,
    "start_time": "2022-08-02T17:22:02.137Z"
   },
   {
    "duration": 13,
    "start_time": "2022-08-02T17:22:02.144Z"
   },
   {
    "duration": 79,
    "start_time": "2022-08-02T17:22:02.159Z"
   },
   {
    "duration": 44,
    "start_time": "2022-08-02T17:22:02.240Z"
   },
   {
    "duration": 6,
    "start_time": "2022-08-02T17:22:02.285Z"
   },
   {
    "duration": 10,
    "start_time": "2022-08-02T17:22:02.293Z"
   },
   {
    "duration": 28,
    "start_time": "2022-08-02T17:22:02.306Z"
   },
   {
    "duration": 12,
    "start_time": "2022-08-02T17:22:02.335Z"
   },
   {
    "duration": 5,
    "start_time": "2022-08-02T17:22:02.348Z"
   },
   {
    "duration": 22,
    "start_time": "2022-08-02T17:22:02.354Z"
   },
   {
    "duration": 7,
    "start_time": "2022-08-02T17:22:02.378Z"
   },
   {
    "duration": 5,
    "start_time": "2022-08-02T17:22:02.386Z"
   },
   {
    "duration": 62,
    "start_time": "2022-08-02T17:22:02.393Z"
   },
   {
    "duration": 4,
    "start_time": "2022-08-02T17:22:02.459Z"
   },
   {
    "duration": 8,
    "start_time": "2022-08-02T17:22:02.465Z"
   },
   {
    "duration": 7,
    "start_time": "2022-08-02T17:22:02.474Z"
   },
   {
    "duration": 6,
    "start_time": "2022-08-02T17:22:02.482Z"
   },
   {
    "duration": 8,
    "start_time": "2022-08-02T17:22:02.489Z"
   },
   {
    "duration": 9,
    "start_time": "2022-08-02T17:22:02.498Z"
   },
   {
    "duration": 8,
    "start_time": "2022-08-02T17:22:02.530Z"
   },
   {
    "duration": 8,
    "start_time": "2022-08-02T17:22:02.539Z"
   },
   {
    "duration": 9,
    "start_time": "2022-08-02T17:22:02.549Z"
   },
   {
    "duration": 9,
    "start_time": "2022-08-02T17:22:02.560Z"
   },
   {
    "duration": 5,
    "start_time": "2022-08-02T17:22:02.571Z"
   },
   {
    "duration": 9,
    "start_time": "2022-08-02T17:22:02.577Z"
   },
   {
    "duration": 9,
    "start_time": "2022-08-02T17:22:02.587Z"
   },
   {
    "duration": 38,
    "start_time": "2022-08-02T17:22:02.598Z"
   },
   {
    "duration": 20,
    "start_time": "2022-08-02T17:22:02.637Z"
   },
   {
    "duration": 13,
    "start_time": "2022-08-02T17:22:02.658Z"
   },
   {
    "duration": 25,
    "start_time": "2022-08-02T17:22:02.673Z"
   },
   {
    "duration": 39,
    "start_time": "2022-08-02T17:22:02.700Z"
   },
   {
    "duration": 15,
    "start_time": "2022-08-02T17:22:02.740Z"
   },
   {
    "duration": 14,
    "start_time": "2022-08-02T17:22:02.757Z"
   },
   {
    "duration": 14,
    "start_time": "2022-08-02T17:22:02.774Z"
   },
   {
    "duration": 3,
    "start_time": "2022-08-02T17:22:02.789Z"
   },
   {
    "duration": 45,
    "start_time": "2022-08-02T17:22:02.793Z"
   },
   {
    "duration": 6,
    "start_time": "2022-08-02T17:22:02.839Z"
   },
   {
    "duration": 5,
    "start_time": "2022-08-02T17:22:02.846Z"
   },
   {
    "duration": 6,
    "start_time": "2022-08-02T17:22:02.852Z"
   },
   {
    "duration": 12,
    "start_time": "2022-08-02T17:22:02.859Z"
   },
   {
    "duration": 13,
    "start_time": "2022-08-02T17:22:02.872Z"
   },
   {
    "duration": 54,
    "start_time": "2022-08-02T17:22:02.886Z"
   },
   {
    "duration": 19,
    "start_time": "2022-08-02T17:22:02.941Z"
   },
   {
    "duration": 896,
    "start_time": "2022-08-02T17:22:02.961Z"
   },
   {
    "duration": 150,
    "start_time": "2022-08-02T17:22:03.859Z"
   },
   {
    "duration": 149,
    "start_time": "2022-08-02T17:22:04.011Z"
   },
   {
    "duration": 41,
    "start_time": "2022-08-02T17:22:04.162Z"
   },
   {
    "duration": 54,
    "start_time": "2022-08-02T17:22:04.205Z"
   },
   {
    "duration": 40,
    "start_time": "2022-08-02T17:22:04.260Z"
   },
   {
    "duration": 9,
    "start_time": "2022-08-02T17:22:19.189Z"
   },
   {
    "duration": 20,
    "start_time": "2022-08-02T17:22:26.926Z"
   },
   {
    "duration": 14,
    "start_time": "2022-08-02T17:22:49.958Z"
   },
   {
    "duration": 56,
    "start_time": "2022-08-02T17:23:01.476Z"
   },
   {
    "duration": 3,
    "start_time": "2022-08-02T17:23:01.534Z"
   },
   {
    "duration": 74,
    "start_time": "2022-08-02T17:23:01.539Z"
   },
   {
    "duration": 17,
    "start_time": "2022-08-02T17:23:01.615Z"
   },
   {
    "duration": 24,
    "start_time": "2022-08-02T17:23:01.634Z"
   },
   {
    "duration": 12,
    "start_time": "2022-08-02T17:23:01.660Z"
   },
   {
    "duration": 17,
    "start_time": "2022-08-02T17:23:01.673Z"
   },
   {
    "duration": 48,
    "start_time": "2022-08-02T17:23:01.692Z"
   },
   {
    "duration": 21,
    "start_time": "2022-08-02T17:23:01.742Z"
   },
   {
    "duration": 64,
    "start_time": "2022-08-02T17:23:01.766Z"
   },
   {
    "duration": 47,
    "start_time": "2022-08-02T17:23:01.832Z"
   },
   {
    "duration": 6,
    "start_time": "2022-08-02T17:23:01.880Z"
   },
   {
    "duration": 30,
    "start_time": "2022-08-02T17:23:01.888Z"
   },
   {
    "duration": 38,
    "start_time": "2022-08-02T17:23:01.920Z"
   },
   {
    "duration": 38,
    "start_time": "2022-08-02T17:23:01.960Z"
   },
   {
    "duration": 13,
    "start_time": "2022-08-02T17:23:01.999Z"
   },
   {
    "duration": 41,
    "start_time": "2022-08-02T17:23:02.013Z"
   },
   {
    "duration": 7,
    "start_time": "2022-08-02T17:23:02.055Z"
   },
   {
    "duration": 7,
    "start_time": "2022-08-02T17:23:02.063Z"
   },
   {
    "duration": 43,
    "start_time": "2022-08-02T17:23:02.071Z"
   },
   {
    "duration": 19,
    "start_time": "2022-08-02T17:23:02.115Z"
   },
   {
    "duration": 12,
    "start_time": "2022-08-02T17:23:02.135Z"
   },
   {
    "duration": 26,
    "start_time": "2022-08-02T17:23:02.149Z"
   },
   {
    "duration": 22,
    "start_time": "2022-08-02T17:23:02.177Z"
   },
   {
    "duration": 20,
    "start_time": "2022-08-02T17:23:02.201Z"
   },
   {
    "duration": 7,
    "start_time": "2022-08-02T17:23:02.223Z"
   },
   {
    "duration": 15,
    "start_time": "2022-08-02T17:23:02.232Z"
   },
   {
    "duration": 18,
    "start_time": "2022-08-02T17:23:02.251Z"
   },
   {
    "duration": 11,
    "start_time": "2022-08-02T17:23:02.271Z"
   },
   {
    "duration": 15,
    "start_time": "2022-08-02T17:23:02.284Z"
   },
   {
    "duration": 19,
    "start_time": "2022-08-02T17:23:02.301Z"
   },
   {
    "duration": 10,
    "start_time": "2022-08-02T17:23:02.321Z"
   },
   {
    "duration": 24,
    "start_time": "2022-08-02T17:23:02.332Z"
   },
   {
    "duration": 21,
    "start_time": "2022-08-02T17:23:02.358Z"
   },
   {
    "duration": 24,
    "start_time": "2022-08-02T17:23:02.380Z"
   },
   {
    "duration": 19,
    "start_time": "2022-08-02T17:23:02.405Z"
   },
   {
    "duration": 28,
    "start_time": "2022-08-02T17:23:02.425Z"
   },
   {
    "duration": 37,
    "start_time": "2022-08-02T17:23:02.455Z"
   },
   {
    "duration": 14,
    "start_time": "2022-08-02T17:23:02.494Z"
   },
   {
    "duration": 18,
    "start_time": "2022-08-02T17:23:02.509Z"
   },
   {
    "duration": 17,
    "start_time": "2022-08-02T17:23:02.528Z"
   },
   {
    "duration": 3,
    "start_time": "2022-08-02T17:23:02.547Z"
   },
   {
    "duration": 23,
    "start_time": "2022-08-02T17:23:02.551Z"
   },
   {
    "duration": 13,
    "start_time": "2022-08-02T17:23:02.575Z"
   },
   {
    "duration": 21,
    "start_time": "2022-08-02T17:23:02.589Z"
   },
   {
    "duration": 17,
    "start_time": "2022-08-02T17:23:02.611Z"
   },
   {
    "duration": 11,
    "start_time": "2022-08-02T17:23:02.629Z"
   },
   {
    "duration": 27,
    "start_time": "2022-08-02T17:23:02.642Z"
   },
   {
    "duration": 40,
    "start_time": "2022-08-02T17:23:02.670Z"
   },
   {
    "duration": 24,
    "start_time": "2022-08-02T17:23:02.711Z"
   },
   {
    "duration": 170,
    "start_time": "2022-08-02T17:23:02.736Z"
   },
   {
    "duration": 145,
    "start_time": "2022-08-02T17:23:02.908Z"
   },
   {
    "duration": 141,
    "start_time": "2022-08-02T17:23:03.055Z"
   },
   {
    "duration": 47,
    "start_time": "2022-08-02T17:23:03.198Z"
   },
   {
    "duration": 118,
    "start_time": "2022-08-02T17:23:03.247Z"
   },
   {
    "duration": 39,
    "start_time": "2022-08-02T17:23:03.366Z"
   },
   {
    "duration": 24,
    "start_time": "2022-08-02T17:23:03.407Z"
   },
   {
    "duration": 14,
    "start_time": "2022-08-02T17:23:03.433Z"
   },
   {
    "duration": 14,
    "start_time": "2022-08-02T17:23:03.448Z"
   },
   {
    "duration": 23,
    "start_time": "2022-08-02T17:23:03.463Z"
   },
   {
    "duration": 13,
    "start_time": "2022-08-02T17:23:03.487Z"
   },
   {
    "duration": 33,
    "start_time": "2022-08-02T17:23:03.501Z"
   },
   {
    "duration": 15,
    "start_time": "2022-08-02T17:23:03.536Z"
   },
   {
    "duration": 189,
    "start_time": "2022-08-02T17:23:03.552Z"
   },
   {
    "duration": 3,
    "start_time": "2022-08-02T17:23:03.742Z"
   },
   {
    "duration": 25,
    "start_time": "2022-08-02T17:23:03.747Z"
   },
   {
    "duration": 17,
    "start_time": "2022-08-02T17:23:03.774Z"
   },
   {
    "duration": 28,
    "start_time": "2022-08-02T17:23:03.793Z"
   },
   {
    "duration": 15,
    "start_time": "2022-08-02T17:23:03.823Z"
   },
   {
    "duration": 11,
    "start_time": "2022-08-02T17:23:03.840Z"
   },
   {
    "duration": 43,
    "start_time": "2022-08-02T17:23:08.365Z"
   },
   {
    "duration": 6,
    "start_time": "2022-08-02T17:23:20.378Z"
   },
   {
    "duration": 6,
    "start_time": "2022-08-02T17:23:33.123Z"
   },
   {
    "duration": 8,
    "start_time": "2022-08-02T17:24:50.119Z"
   },
   {
    "duration": 17,
    "start_time": "2022-08-02T17:24:50.919Z"
   },
   {
    "duration": 18,
    "start_time": "2022-08-02T17:24:51.351Z"
   },
   {
    "duration": 15,
    "start_time": "2022-08-02T17:24:51.919Z"
   },
   {
    "duration": 8,
    "start_time": "2022-08-02T17:24:54.227Z"
   },
   {
    "duration": 12,
    "start_time": "2022-08-02T17:24:54.819Z"
   },
   {
    "duration": 4,
    "start_time": "2022-08-02T17:24:55.289Z"
   },
   {
    "duration": 179,
    "start_time": "2022-08-02T17:24:56.019Z"
   },
   {
    "duration": 4,
    "start_time": "2022-08-02T17:24:56.781Z"
   },
   {
    "duration": 4,
    "start_time": "2022-08-02T17:24:57.012Z"
   },
   {
    "duration": 9,
    "start_time": "2022-08-02T17:24:57.218Z"
   },
   {
    "duration": 10,
    "start_time": "2022-08-02T17:24:57.448Z"
   },
   {
    "duration": 8,
    "start_time": "2022-08-02T17:24:58.659Z"
   },
   {
    "duration": 7,
    "start_time": "2022-08-02T17:25:01.328Z"
   },
   {
    "duration": 7,
    "start_time": "2022-08-02T17:25:11.329Z"
   },
   {
    "duration": 8,
    "start_time": "2022-08-02T17:25:16.982Z"
   },
   {
    "duration": 445,
    "start_time": "2022-08-02T17:28:51.524Z"
   },
   {
    "duration": 7,
    "start_time": "2022-08-02T17:28:51.971Z"
   },
   {
    "duration": 57,
    "start_time": "2022-08-02T17:28:51.980Z"
   },
   {
    "duration": 11,
    "start_time": "2022-08-02T17:28:52.039Z"
   },
   {
    "duration": 14,
    "start_time": "2022-08-02T17:28:52.052Z"
   },
   {
    "duration": 12,
    "start_time": "2022-08-02T17:28:52.067Z"
   },
   {
    "duration": 6,
    "start_time": "2022-08-02T17:28:52.081Z"
   },
   {
    "duration": 4,
    "start_time": "2022-08-02T17:28:52.089Z"
   },
   {
    "duration": 42,
    "start_time": "2022-08-02T17:28:52.094Z"
   },
   {
    "duration": 58,
    "start_time": "2022-08-02T17:28:52.137Z"
   },
   {
    "duration": 58,
    "start_time": "2022-08-02T17:28:52.196Z"
   },
   {
    "duration": 6,
    "start_time": "2022-08-02T17:28:52.256Z"
   },
   {
    "duration": 9,
    "start_time": "2022-08-02T17:28:52.264Z"
   },
   {
    "duration": 6,
    "start_time": "2022-08-02T17:28:52.276Z"
   },
   {
    "duration": 10,
    "start_time": "2022-08-02T17:28:52.283Z"
   },
   {
    "duration": 5,
    "start_time": "2022-08-02T17:28:52.294Z"
   },
   {
    "duration": 51,
    "start_time": "2022-08-02T17:28:52.300Z"
   },
   {
    "duration": 9,
    "start_time": "2022-08-02T17:28:52.353Z"
   },
   {
    "duration": 5,
    "start_time": "2022-08-02T17:28:52.363Z"
   },
   {
    "duration": 1305,
    "start_time": "2022-08-02T17:30:47.743Z"
   },
   {
    "duration": 12,
    "start_time": "2022-08-02T17:32:37.726Z"
   },
   {
    "duration": 1253,
    "start_time": "2022-08-02T17:33:23.051Z"
   },
   {
    "duration": 10,
    "start_time": "2022-08-02T17:33:35.974Z"
   },
   {
    "duration": 9,
    "start_time": "2022-08-02T17:44:14.316Z"
   },
   {
    "duration": 9,
    "start_time": "2022-08-02T17:44:59.578Z"
   },
   {
    "duration": 21,
    "start_time": "2022-08-02T17:45:18.212Z"
   },
   {
    "duration": 9,
    "start_time": "2022-08-02T17:45:29.420Z"
   },
   {
    "duration": 15,
    "start_time": "2022-08-02T17:47:36.155Z"
   },
   {
    "duration": 32,
    "start_time": "2022-08-02T17:48:27.144Z"
   },
   {
    "duration": 70,
    "start_time": "2022-08-02T17:49:22.989Z"
   },
   {
    "duration": 10,
    "start_time": "2022-08-02T17:49:31.063Z"
   },
   {
    "duration": 7,
    "start_time": "2022-08-02T17:50:37.261Z"
   },
   {
    "duration": 3,
    "start_time": "2022-08-02T17:53:56.332Z"
   },
   {
    "duration": 6,
    "start_time": "2022-08-02T17:54:56.530Z"
   },
   {
    "duration": 6,
    "start_time": "2022-08-02T17:55:40.132Z"
   },
   {
    "duration": 8,
    "start_time": "2022-08-02T17:58:15.526Z"
   },
   {
    "duration": 72,
    "start_time": "2022-08-02T17:58:30.336Z"
   },
   {
    "duration": 16,
    "start_time": "2022-08-02T17:58:36.219Z"
   },
   {
    "duration": 17,
    "start_time": "2022-08-02T17:59:02.489Z"
   },
   {
    "duration": 7,
    "start_time": "2022-08-02T18:02:45.898Z"
   },
   {
    "duration": 5,
    "start_time": "2022-08-02T18:05:53.659Z"
   },
   {
    "duration": 4,
    "start_time": "2022-08-02T18:06:10.519Z"
   },
   {
    "duration": 18,
    "start_time": "2022-08-02T18:06:26.078Z"
   },
   {
    "duration": 11,
    "start_time": "2022-08-02T18:08:38.548Z"
   },
   {
    "duration": 16,
    "start_time": "2022-08-02T18:10:48.556Z"
   },
   {
    "duration": 12,
    "start_time": "2022-08-02T18:10:59.053Z"
   },
   {
    "duration": 11,
    "start_time": "2022-08-02T18:11:09.302Z"
   },
   {
    "duration": 9,
    "start_time": "2022-08-02T18:13:31.992Z"
   },
   {
    "duration": 18,
    "start_time": "2022-08-02T18:17:41.427Z"
   },
   {
    "duration": 17,
    "start_time": "2022-08-02T18:18:44.990Z"
   },
   {
    "duration": 18,
    "start_time": "2022-08-02T18:19:05.106Z"
   },
   {
    "duration": 11,
    "start_time": "2022-08-02T18:19:24.916Z"
   },
   {
    "duration": 11,
    "start_time": "2022-08-02T18:19:42.732Z"
   },
   {
    "duration": 12,
    "start_time": "2022-08-02T18:20:21.542Z"
   },
   {
    "duration": 86,
    "start_time": "2022-08-02T18:20:41.655Z"
   },
   {
    "duration": 11,
    "start_time": "2022-08-02T18:20:54.983Z"
   },
   {
    "duration": 11,
    "start_time": "2022-08-02T18:21:46.597Z"
   },
   {
    "duration": 4,
    "start_time": "2022-08-02T18:22:40.164Z"
   },
   {
    "duration": 18,
    "start_time": "2022-08-02T18:22:47.630Z"
   },
   {
    "duration": 13,
    "start_time": "2022-08-02T18:23:02.164Z"
   },
   {
    "duration": 15,
    "start_time": "2022-08-02T18:23:16.882Z"
   },
   {
    "duration": 14,
    "start_time": "2022-08-02T18:23:50.239Z"
   },
   {
    "duration": 17,
    "start_time": "2022-08-02T18:24:02.748Z"
   },
   {
    "duration": 18,
    "start_time": "2022-08-02T18:24:17.802Z"
   },
   {
    "duration": 14,
    "start_time": "2022-08-02T18:24:35.732Z"
   },
   {
    "duration": 11,
    "start_time": "2022-08-02T18:26:07.324Z"
   },
   {
    "duration": 11,
    "start_time": "2022-08-02T18:26:21.551Z"
   },
   {
    "duration": 31,
    "start_time": "2022-08-02T18:28:00.950Z"
   },
   {
    "duration": 80,
    "start_time": "2022-08-02T18:33:47.635Z"
   },
   {
    "duration": 5,
    "start_time": "2022-08-02T18:34:03.027Z"
   },
   {
    "duration": 5,
    "start_time": "2022-08-02T18:34:37.547Z"
   },
   {
    "duration": 5,
    "start_time": "2022-08-02T18:35:35.648Z"
   },
   {
    "duration": 6,
    "start_time": "2022-08-02T18:37:11.691Z"
   },
   {
    "duration": 1208,
    "start_time": "2022-08-02T18:37:47.345Z"
   },
   {
    "duration": 1236,
    "start_time": "2022-08-02T18:37:59.463Z"
   },
   {
    "duration": 17,
    "start_time": "2022-08-02T18:38:46.939Z"
   },
   {
    "duration": 479,
    "start_time": "2022-08-02T18:39:39.927Z"
   },
   {
    "duration": 7,
    "start_time": "2022-08-02T18:39:40.408Z"
   },
   {
    "duration": 53,
    "start_time": "2022-08-02T18:39:40.416Z"
   },
   {
    "duration": 11,
    "start_time": "2022-08-02T18:39:40.471Z"
   },
   {
    "duration": 16,
    "start_time": "2022-08-02T18:39:40.484Z"
   },
   {
    "duration": 12,
    "start_time": "2022-08-02T18:39:40.501Z"
   },
   {
    "duration": 22,
    "start_time": "2022-08-02T18:39:40.514Z"
   },
   {
    "duration": 4,
    "start_time": "2022-08-02T18:39:40.537Z"
   },
   {
    "duration": 22,
    "start_time": "2022-08-02T18:39:40.543Z"
   },
   {
    "duration": 66,
    "start_time": "2022-08-02T18:39:40.566Z"
   },
   {
    "duration": 45,
    "start_time": "2022-08-02T18:39:40.633Z"
   },
   {
    "duration": 6,
    "start_time": "2022-08-02T18:39:40.679Z"
   },
   {
    "duration": 12,
    "start_time": "2022-08-02T18:39:40.686Z"
   },
   {
    "duration": 8,
    "start_time": "2022-08-02T18:39:40.700Z"
   },
   {
    "duration": 10,
    "start_time": "2022-08-02T18:39:40.735Z"
   },
   {
    "duration": 16,
    "start_time": "2022-08-02T18:39:40.746Z"
   },
   {
    "duration": 41,
    "start_time": "2022-08-02T18:39:40.764Z"
   },
   {
    "duration": 11,
    "start_time": "2022-08-02T18:39:40.806Z"
   },
   {
    "duration": 10,
    "start_time": "2022-08-02T18:39:40.818Z"
   },
   {
    "duration": 9,
    "start_time": "2022-08-02T18:39:40.829Z"
   },
   {
    "duration": 29,
    "start_time": "2022-08-02T18:39:40.839Z"
   },
   {
    "duration": 14,
    "start_time": "2022-08-02T18:39:40.869Z"
   },
   {
    "duration": 20,
    "start_time": "2022-08-02T18:39:40.884Z"
   },
   {
    "duration": 14,
    "start_time": "2022-08-02T18:40:20.727Z"
   },
   {
    "duration": 11,
    "start_time": "2022-08-02T18:43:03.934Z"
   },
   {
    "duration": 63,
    "start_time": "2022-08-02T18:44:05.663Z"
   },
   {
    "duration": 21,
    "start_time": "2022-08-02T18:44:15.493Z"
   },
   {
    "duration": 311,
    "start_time": "2022-08-02T18:44:36.562Z"
   },
   {
    "duration": 311,
    "start_time": "2022-08-02T18:44:48.930Z"
   },
   {
    "duration": 419,
    "start_time": "2022-08-02T18:45:30.463Z"
   },
   {
    "duration": 7,
    "start_time": "2022-08-02T18:45:30.884Z"
   },
   {
    "duration": 53,
    "start_time": "2022-08-02T18:45:30.893Z"
   },
   {
    "duration": 12,
    "start_time": "2022-08-02T18:45:30.949Z"
   },
   {
    "duration": 19,
    "start_time": "2022-08-02T18:45:30.963Z"
   },
   {
    "duration": 12,
    "start_time": "2022-08-02T18:45:30.984Z"
   },
   {
    "duration": 9,
    "start_time": "2022-08-02T18:45:30.998Z"
   },
   {
    "duration": 24,
    "start_time": "2022-08-02T18:45:31.009Z"
   },
   {
    "duration": 17,
    "start_time": "2022-08-02T18:45:31.034Z"
   },
   {
    "duration": 59,
    "start_time": "2022-08-02T18:45:31.053Z"
   },
   {
    "duration": 54,
    "start_time": "2022-08-02T18:45:31.113Z"
   },
   {
    "duration": 6,
    "start_time": "2022-08-02T18:45:31.169Z"
   },
   {
    "duration": 13,
    "start_time": "2022-08-02T18:45:31.176Z"
   },
   {
    "duration": 7,
    "start_time": "2022-08-02T18:45:31.190Z"
   },
   {
    "duration": 21,
    "start_time": "2022-08-02T18:45:31.198Z"
   },
   {
    "duration": 14,
    "start_time": "2022-08-02T18:45:31.220Z"
   },
   {
    "duration": 21,
    "start_time": "2022-08-02T18:45:31.236Z"
   },
   {
    "duration": 7,
    "start_time": "2022-08-02T18:45:31.259Z"
   },
   {
    "duration": 4,
    "start_time": "2022-08-02T18:45:31.268Z"
   },
   {
    "duration": 10,
    "start_time": "2022-08-02T18:45:31.273Z"
   },
   {
    "duration": 17,
    "start_time": "2022-08-02T18:45:39.829Z"
   },
   {
    "duration": 16,
    "start_time": "2022-08-02T18:45:57.755Z"
   },
   {
    "duration": 22,
    "start_time": "2022-08-02T18:46:07.926Z"
   },
   {
    "duration": 10,
    "start_time": "2022-08-02T18:46:21.685Z"
   },
   {
    "duration": 8,
    "start_time": "2022-08-02T18:47:40.760Z"
   },
   {
    "duration": 15,
    "start_time": "2022-08-02T18:48:36.500Z"
   },
   {
    "duration": 19,
    "start_time": "2022-08-02T18:52:03.627Z"
   },
   {
    "duration": 8,
    "start_time": "2022-08-02T18:54:34.293Z"
   },
   {
    "duration": 6,
    "start_time": "2022-08-02T18:55:10.240Z"
   },
   {
    "duration": 8,
    "start_time": "2022-08-02T18:55:37.953Z"
   },
   {
    "duration": 4,
    "start_time": "2022-08-02T18:56:02.603Z"
   },
   {
    "duration": 8,
    "start_time": "2022-08-02T18:56:11.118Z"
   },
   {
    "duration": 7,
    "start_time": "2022-08-02T18:56:55.225Z"
   },
   {
    "duration": 6,
    "start_time": "2022-08-02T18:58:13.263Z"
   },
   {
    "duration": 4,
    "start_time": "2022-08-02T18:58:24.888Z"
   },
   {
    "duration": 6,
    "start_time": "2022-08-02T18:58:26.886Z"
   },
   {
    "duration": 3,
    "start_time": "2022-08-02T18:58:52.428Z"
   },
   {
    "duration": 6,
    "start_time": "2022-08-02T18:58:54.933Z"
   },
   {
    "duration": 6,
    "start_time": "2022-08-02T18:59:21.043Z"
   },
   {
    "duration": 14,
    "start_time": "2022-08-02T18:59:34.289Z"
   },
   {
    "duration": 6,
    "start_time": "2022-08-02T19:00:28.070Z"
   },
   {
    "duration": 452,
    "start_time": "2022-08-02T19:01:28.102Z"
   },
   {
    "duration": 7,
    "start_time": "2022-08-02T19:01:28.556Z"
   },
   {
    "duration": 51,
    "start_time": "2022-08-02T19:01:28.564Z"
   },
   {
    "duration": 22,
    "start_time": "2022-08-02T19:01:28.617Z"
   },
   {
    "duration": 16,
    "start_time": "2022-08-02T19:01:28.641Z"
   },
   {
    "duration": 12,
    "start_time": "2022-08-02T19:01:28.659Z"
   },
   {
    "duration": 7,
    "start_time": "2022-08-02T19:01:28.673Z"
   },
   {
    "duration": 4,
    "start_time": "2022-08-02T19:01:28.681Z"
   },
   {
    "duration": 15,
    "start_time": "2022-08-02T19:01:28.686Z"
   },
   {
    "duration": 67,
    "start_time": "2022-08-02T19:01:28.730Z"
   },
   {
    "duration": 56,
    "start_time": "2022-08-02T19:01:28.799Z"
   },
   {
    "duration": 6,
    "start_time": "2022-08-02T19:01:28.857Z"
   },
   {
    "duration": 10,
    "start_time": "2022-08-02T19:01:28.864Z"
   },
   {
    "duration": 9,
    "start_time": "2022-08-02T19:01:28.876Z"
   },
   {
    "duration": 10,
    "start_time": "2022-08-02T19:01:28.886Z"
   },
   {
    "duration": 4,
    "start_time": "2022-08-02T19:01:28.897Z"
   },
   {
    "duration": 49,
    "start_time": "2022-08-02T19:01:28.903Z"
   },
   {
    "duration": 8,
    "start_time": "2022-08-02T19:01:28.953Z"
   },
   {
    "duration": 5,
    "start_time": "2022-08-02T19:01:28.962Z"
   },
   {
    "duration": 9,
    "start_time": "2022-08-02T19:01:28.968Z"
   },
   {
    "duration": 15,
    "start_time": "2022-08-02T19:01:28.979Z"
   },
   {
    "duration": 39,
    "start_time": "2022-08-02T19:01:28.995Z"
   },
   {
    "duration": 18,
    "start_time": "2022-08-02T19:02:09.791Z"
   },
   {
    "duration": 20,
    "start_time": "2022-08-02T19:03:07.934Z"
   },
   {
    "duration": 15,
    "start_time": "2022-08-02T19:03:15.526Z"
   },
   {
    "duration": 7,
    "start_time": "2022-08-02T19:03:17.921Z"
   },
   {
    "duration": 6,
    "start_time": "2022-08-02T19:03:18.997Z"
   },
   {
    "duration": 7,
    "start_time": "2022-08-02T19:03:22.660Z"
   },
   {
    "duration": 8,
    "start_time": "2022-08-02T19:03:25.795Z"
   },
   {
    "duration": 7,
    "start_time": "2022-08-02T19:03:32.195Z"
   },
   {
    "duration": 7,
    "start_time": "2022-08-02T19:03:36.770Z"
   },
   {
    "duration": 4,
    "start_time": "2022-08-02T19:03:37.899Z"
   },
   {
    "duration": 7,
    "start_time": "2022-08-02T19:03:38.622Z"
   },
   {
    "duration": 7,
    "start_time": "2022-08-02T19:03:43.843Z"
   },
   {
    "duration": 14,
    "start_time": "2022-08-02T19:03:50.831Z"
   },
   {
    "duration": 507,
    "start_time": "2022-08-02T19:05:33.763Z"
   },
   {
    "duration": 311,
    "start_time": "2022-08-02T19:05:53.773Z"
   },
   {
    "duration": 318,
    "start_time": "2022-08-02T19:07:27.841Z"
   },
   {
    "duration": 450,
    "start_time": "2022-08-02T19:08:43.689Z"
   },
   {
    "duration": 7,
    "start_time": "2022-08-02T19:08:44.141Z"
   },
   {
    "duration": 52,
    "start_time": "2022-08-02T19:08:44.149Z"
   },
   {
    "duration": 12,
    "start_time": "2022-08-02T19:08:44.203Z"
   },
   {
    "duration": 15,
    "start_time": "2022-08-02T19:08:44.230Z"
   },
   {
    "duration": 13,
    "start_time": "2022-08-02T19:08:44.246Z"
   },
   {
    "duration": 7,
    "start_time": "2022-08-02T19:08:44.260Z"
   },
   {
    "duration": 5,
    "start_time": "2022-08-02T19:08:44.269Z"
   },
   {
    "duration": 16,
    "start_time": "2022-08-02T19:08:44.276Z"
   },
   {
    "duration": 87,
    "start_time": "2022-08-02T19:08:44.293Z"
   },
   {
    "duration": 56,
    "start_time": "2022-08-02T19:08:44.381Z"
   },
   {
    "duration": 6,
    "start_time": "2022-08-02T19:08:44.439Z"
   },
   {
    "duration": 9,
    "start_time": "2022-08-02T19:08:44.447Z"
   },
   {
    "duration": 11,
    "start_time": "2022-08-02T19:08:44.460Z"
   },
   {
    "duration": 12,
    "start_time": "2022-08-02T19:08:44.472Z"
   },
   {
    "duration": 6,
    "start_time": "2022-08-02T19:08:44.486Z"
   },
   {
    "duration": 56,
    "start_time": "2022-08-02T19:08:44.493Z"
   },
   {
    "duration": 10,
    "start_time": "2022-08-02T19:08:44.550Z"
   },
   {
    "duration": 5,
    "start_time": "2022-08-02T19:08:44.561Z"
   },
   {
    "duration": 9,
    "start_time": "2022-08-02T19:08:44.568Z"
   },
   {
    "duration": 15,
    "start_time": "2022-08-02T19:08:44.579Z"
   },
   {
    "duration": 41,
    "start_time": "2022-08-02T19:08:44.595Z"
   },
   {
    "duration": 20,
    "start_time": "2022-08-02T19:08:44.638Z"
   },
   {
    "duration": 13,
    "start_time": "2022-08-02T19:08:44.660Z"
   },
   {
    "duration": 350,
    "start_time": "2022-08-02T19:08:55.144Z"
   },
   {
    "duration": 284,
    "start_time": "2022-08-02T19:09:17.835Z"
   },
   {
    "duration": 494,
    "start_time": "2022-08-02T19:12:39.902Z"
   },
   {
    "duration": 8,
    "start_time": "2022-08-02T19:12:40.398Z"
   },
   {
    "duration": 62,
    "start_time": "2022-08-02T19:12:40.408Z"
   },
   {
    "duration": 12,
    "start_time": "2022-08-02T19:12:40.471Z"
   },
   {
    "duration": 16,
    "start_time": "2022-08-02T19:12:40.485Z"
   },
   {
    "duration": 33,
    "start_time": "2022-08-02T19:12:40.503Z"
   },
   {
    "duration": 6,
    "start_time": "2022-08-02T19:12:40.538Z"
   },
   {
    "duration": 7,
    "start_time": "2022-08-02T19:12:40.546Z"
   },
   {
    "duration": 15,
    "start_time": "2022-08-02T19:12:40.555Z"
   },
   {
    "duration": 80,
    "start_time": "2022-08-02T19:12:40.572Z"
   },
   {
    "duration": 45,
    "start_time": "2022-08-02T19:12:40.654Z"
   },
   {
    "duration": 6,
    "start_time": "2022-08-02T19:12:40.701Z"
   },
   {
    "duration": 24,
    "start_time": "2022-08-02T19:12:40.709Z"
   },
   {
    "duration": 7,
    "start_time": "2022-08-02T19:12:40.736Z"
   },
   {
    "duration": 10,
    "start_time": "2022-08-02T19:12:40.746Z"
   },
   {
    "duration": 5,
    "start_time": "2022-08-02T19:12:40.758Z"
   },
   {
    "duration": 21,
    "start_time": "2022-08-02T19:12:40.765Z"
   },
   {
    "duration": 9,
    "start_time": "2022-08-02T19:12:40.787Z"
   },
   {
    "duration": 7,
    "start_time": "2022-08-02T19:12:40.830Z"
   },
   {
    "duration": 9,
    "start_time": "2022-08-02T19:12:40.839Z"
   },
   {
    "duration": 15,
    "start_time": "2022-08-02T19:12:40.850Z"
   },
   {
    "duration": 15,
    "start_time": "2022-08-02T19:12:59.136Z"
   },
   {
    "duration": 17,
    "start_time": "2022-08-02T19:13:08.928Z"
   },
   {
    "duration": 14,
    "start_time": "2022-08-02T19:13:11.288Z"
   },
   {
    "duration": 92,
    "start_time": "2022-08-02T19:15:34.626Z"
   },
   {
    "duration": 67,
    "start_time": "2022-08-02T19:15:54.051Z"
   },
   {
    "duration": 19,
    "start_time": "2022-08-02T19:16:02.543Z"
   },
   {
    "duration": 68,
    "start_time": "2022-08-02T19:18:13.281Z"
   },
   {
    "duration": 21,
    "start_time": "2022-08-02T19:18:22.903Z"
   },
   {
    "duration": 7,
    "start_time": "2022-08-02T19:21:42.640Z"
   },
   {
    "duration": 6,
    "start_time": "2022-08-02T19:21:50.343Z"
   },
   {
    "duration": 8,
    "start_time": "2022-08-02T19:21:57.332Z"
   },
   {
    "duration": 7,
    "start_time": "2022-08-02T19:22:01.280Z"
   },
   {
    "duration": 7,
    "start_time": "2022-08-02T19:22:04.723Z"
   },
   {
    "duration": 6,
    "start_time": "2022-08-02T19:22:13.586Z"
   },
   {
    "duration": 4,
    "start_time": "2022-08-02T19:22:14.998Z"
   },
   {
    "duration": 6,
    "start_time": "2022-08-02T19:22:16.290Z"
   },
   {
    "duration": 6,
    "start_time": "2022-08-02T19:22:19.710Z"
   },
   {
    "duration": 14,
    "start_time": "2022-08-02T19:22:27.279Z"
   },
   {
    "duration": 17,
    "start_time": "2022-08-02T19:24:11.359Z"
   },
   {
    "duration": 7,
    "start_time": "2022-08-02T19:24:13.003Z"
   },
   {
    "duration": 23,
    "start_time": "2022-08-02T19:24:54.995Z"
   },
   {
    "duration": 30,
    "start_time": "2022-08-02T19:25:05.391Z"
   },
   {
    "duration": 18,
    "start_time": "2022-08-02T19:26:06.928Z"
   },
   {
    "duration": 15,
    "start_time": "2022-08-02T19:26:10.711Z"
   },
   {
    "duration": 16,
    "start_time": "2022-08-02T19:26:19.945Z"
   },
   {
    "duration": 3,
    "start_time": "2022-08-02T19:27:26.962Z"
   },
   {
    "duration": 15,
    "start_time": "2022-08-02T19:31:49.208Z"
   },
   {
    "duration": 13,
    "start_time": "2022-08-02T19:33:40.803Z"
   },
   {
    "duration": 13,
    "start_time": "2022-08-02T19:34:00.089Z"
   },
   {
    "duration": 15,
    "start_time": "2022-08-02T19:34:46.383Z"
   },
   {
    "duration": 14,
    "start_time": "2022-08-02T19:34:48.538Z"
   },
   {
    "duration": 6,
    "start_time": "2022-08-02T19:42:45.835Z"
   },
   {
    "duration": 4,
    "start_time": "2022-08-02T19:42:50.150Z"
   },
   {
    "duration": 8,
    "start_time": "2022-08-02T19:42:50.343Z"
   },
   {
    "duration": 8,
    "start_time": "2022-08-02T19:42:50.755Z"
   },
   {
    "duration": 6,
    "start_time": "2022-08-02T19:42:50.979Z"
   },
   {
    "duration": 10,
    "start_time": "2022-08-02T19:42:51.398Z"
   },
   {
    "duration": 15,
    "start_time": "2022-08-02T19:42:51.810Z"
   },
   {
    "duration": 11,
    "start_time": "2022-08-02T19:42:52.033Z"
   },
   {
    "duration": 18,
    "start_time": "2022-08-02T19:42:52.453Z"
   },
   {
    "duration": 13,
    "start_time": "2022-08-02T19:42:52.663Z"
   },
   {
    "duration": 18,
    "start_time": "2022-08-02T19:42:52.888Z"
   },
   {
    "duration": 19,
    "start_time": "2022-08-02T19:42:53.313Z"
   },
   {
    "duration": 8,
    "start_time": "2022-08-02T19:42:54.177Z"
   },
   {
    "duration": 5,
    "start_time": "2022-08-02T19:42:54.441Z"
   },
   {
    "duration": 4,
    "start_time": "2022-08-02T19:42:55.008Z"
   },
   {
    "duration": 8,
    "start_time": "2022-08-02T19:42:55.248Z"
   },
   {
    "duration": 7,
    "start_time": "2022-08-02T19:42:55.745Z"
   },
   {
    "duration": 6,
    "start_time": "2022-08-02T19:42:56.534Z"
   },
   {
    "duration": 4,
    "start_time": "2022-08-02T19:42:57.037Z"
   },
   {
    "duration": 6,
    "start_time": "2022-08-02T19:42:57.300Z"
   },
   {
    "duration": 6,
    "start_time": "2022-08-02T19:42:58.769Z"
   },
   {
    "duration": 9,
    "start_time": "2022-08-02T19:42:58.993Z"
   },
   {
    "duration": 15,
    "start_time": "2022-08-02T19:42:59.409Z"
   },
   {
    "duration": 7,
    "start_time": "2022-08-02T19:42:59.633Z"
   },
   {
    "duration": 16,
    "start_time": "2022-08-02T19:43:00.080Z"
   },
   {
    "duration": 17,
    "start_time": "2022-08-02T19:43:01.397Z"
   },
   {
    "duration": 16,
    "start_time": "2022-08-02T19:43:04.681Z"
   },
   {
    "duration": 15,
    "start_time": "2022-08-02T19:43:04.894Z"
   },
   {
    "duration": 3,
    "start_time": "2022-08-02T19:43:05.137Z"
   },
   {
    "duration": 13,
    "start_time": "2022-08-02T19:43:05.341Z"
   },
   {
    "duration": 15,
    "start_time": "2022-08-02T19:43:06.374Z"
   },
   {
    "duration": 13,
    "start_time": "2022-08-02T19:43:07.240Z"
   },
   {
    "duration": 3,
    "start_time": "2022-08-02T19:44:30.854Z"
   },
   {
    "duration": 4,
    "start_time": "2022-08-02T19:44:35.514Z"
   },
   {
    "duration": 10,
    "start_time": "2022-08-02T19:44:38.150Z"
   },
   {
    "duration": 14,
    "start_time": "2022-08-02T19:44:44.511Z"
   },
   {
    "duration": 20,
    "start_time": "2022-08-02T19:45:24.482Z"
   },
   {
    "duration": 19,
    "start_time": "2022-08-02T19:48:01.647Z"
   },
   {
    "duration": 953,
    "start_time": "2022-08-02T19:48:19.110Z"
   },
   {
    "duration": 148,
    "start_time": "2022-08-02T19:48:26.012Z"
   },
   {
    "duration": 149,
    "start_time": "2022-08-02T19:48:30.562Z"
   },
   {
    "duration": 40,
    "start_time": "2022-08-02T19:48:34.550Z"
   },
   {
    "duration": 42,
    "start_time": "2022-08-02T19:48:39.747Z"
   },
   {
    "duration": 44,
    "start_time": "2022-08-02T19:48:46.129Z"
   },
   {
    "duration": 8,
    "start_time": "2022-08-02T19:51:54.369Z"
   },
   {
    "duration": 14,
    "start_time": "2022-08-02T19:51:59.545Z"
   },
   {
    "duration": 18,
    "start_time": "2022-08-02T19:52:05.933Z"
   },
   {
    "duration": 17,
    "start_time": "2022-08-02T19:52:15.876Z"
   },
   {
    "duration": 9,
    "start_time": "2022-08-02T19:53:23.534Z"
   },
   {
    "duration": 12,
    "start_time": "2022-08-02T19:53:28.894Z"
   },
   {
    "duration": 85,
    "start_time": "2022-08-02T19:53:54.056Z"
   },
   {
    "duration": 13,
    "start_time": "2022-08-02T19:54:02.966Z"
   },
   {
    "duration": 4,
    "start_time": "2022-08-02T19:54:10.769Z"
   },
   {
    "duration": 184,
    "start_time": "2022-08-02T19:54:15.794Z"
   },
   {
    "duration": 4,
    "start_time": "2022-08-02T19:54:37.402Z"
   },
   {
    "duration": 3,
    "start_time": "2022-08-02T19:54:40.710Z"
   },
   {
    "duration": 9,
    "start_time": "2022-08-02T19:54:42.805Z"
   },
   {
    "duration": 13,
    "start_time": "2022-08-02T19:54:46.332Z"
   },
   {
    "duration": 6,
    "start_time": "2022-08-02T19:54:57.032Z"
   },
   {
    "duration": 8,
    "start_time": "2022-08-02T19:56:34.486Z"
   },
   {
    "duration": 7,
    "start_time": "2022-08-02T19:57:55.342Z"
   },
   {
    "duration": 6,
    "start_time": "2022-08-02T19:58:29.901Z"
   },
   {
    "duration": 17,
    "start_time": "2022-08-02T19:58:55.642Z"
   },
   {
    "duration": 14,
    "start_time": "2022-08-02T19:59:05.205Z"
   },
   {
    "duration": 15,
    "start_time": "2022-08-02T19:59:06.499Z"
   },
   {
    "duration": 29,
    "start_time": "2022-08-02T19:59:09.333Z"
   },
   {
    "duration": 23,
    "start_time": "2022-08-02T19:59:15.443Z"
   },
   {
    "duration": 14,
    "start_time": "2022-08-02T20:03:15.743Z"
   },
   {
    "duration": 37,
    "start_time": "2022-08-02T20:03:17.394Z"
   },
   {
    "duration": 43,
    "start_time": "2022-08-02T20:06:10.173Z"
   },
   {
    "duration": 15,
    "start_time": "2022-08-02T20:06:33.742Z"
   },
   {
    "duration": 37,
    "start_time": "2022-08-02T20:07:16.682Z"
   },
   {
    "duration": 39,
    "start_time": "2022-08-02T20:07:28.483Z"
   },
   {
    "duration": 10,
    "start_time": "2022-08-02T20:08:00.883Z"
   },
   {
    "duration": 25,
    "start_time": "2022-08-02T20:09:29.531Z"
   },
   {
    "duration": 432,
    "start_time": "2022-08-02T20:23:14.477Z"
   },
   {
    "duration": 8,
    "start_time": "2022-08-02T20:23:14.910Z"
   },
   {
    "duration": 51,
    "start_time": "2022-08-02T20:23:14.919Z"
   },
   {
    "duration": 14,
    "start_time": "2022-08-02T20:23:14.972Z"
   },
   {
    "duration": 21,
    "start_time": "2022-08-02T20:23:14.989Z"
   },
   {
    "duration": 29,
    "start_time": "2022-08-02T20:23:15.012Z"
   },
   {
    "duration": 7,
    "start_time": "2022-08-02T20:23:15.043Z"
   },
   {
    "duration": 6,
    "start_time": "2022-08-02T20:23:15.052Z"
   },
   {
    "duration": 17,
    "start_time": "2022-08-02T20:23:15.060Z"
   },
   {
    "duration": 87,
    "start_time": "2022-08-02T20:23:15.080Z"
   },
   {
    "duration": 49,
    "start_time": "2022-08-02T20:23:15.169Z"
   },
   {
    "duration": 14,
    "start_time": "2022-08-02T20:23:15.220Z"
   },
   {
    "duration": 14,
    "start_time": "2022-08-02T20:23:15.236Z"
   },
   {
    "duration": 10,
    "start_time": "2022-08-02T20:23:15.252Z"
   },
   {
    "duration": 13,
    "start_time": "2022-08-02T20:23:15.264Z"
   },
   {
    "duration": 6,
    "start_time": "2022-08-02T20:23:15.278Z"
   },
   {
    "duration": 5,
    "start_time": "2022-08-02T20:23:15.285Z"
   },
   {
    "duration": 49,
    "start_time": "2022-08-02T20:23:15.292Z"
   },
   {
    "duration": 12,
    "start_time": "2022-08-02T20:23:15.343Z"
   },
   {
    "duration": 6,
    "start_time": "2022-08-02T20:23:15.357Z"
   },
   {
    "duration": 13,
    "start_time": "2022-08-02T20:23:15.365Z"
   },
   {
    "duration": 20,
    "start_time": "2022-08-02T20:23:15.380Z"
   },
   {
    "duration": 44,
    "start_time": "2022-08-02T20:23:15.402Z"
   },
   {
    "duration": 19,
    "start_time": "2022-08-02T20:23:15.447Z"
   },
   {
    "duration": 14,
    "start_time": "2022-08-02T20:23:15.468Z"
   },
   {
    "duration": 52,
    "start_time": "2022-08-02T20:23:15.484Z"
   },
   {
    "duration": 21,
    "start_time": "2022-08-02T20:23:15.538Z"
   },
   {
    "duration": 7,
    "start_time": "2022-08-02T20:23:15.563Z"
   },
   {
    "duration": 7,
    "start_time": "2022-08-02T20:23:15.571Z"
   },
   {
    "duration": 9,
    "start_time": "2022-08-02T20:23:15.579Z"
   },
   {
    "duration": 8,
    "start_time": "2022-08-02T20:23:15.589Z"
   },
   {
    "duration": 7,
    "start_time": "2022-08-02T20:23:15.632Z"
   },
   {
    "duration": 11,
    "start_time": "2022-08-02T20:23:15.641Z"
   },
   {
    "duration": 6,
    "start_time": "2022-08-02T20:23:15.653Z"
   },
   {
    "duration": 9,
    "start_time": "2022-08-02T20:23:15.661Z"
   },
   {
    "duration": 9,
    "start_time": "2022-08-02T20:23:15.671Z"
   },
   {
    "duration": 15,
    "start_time": "2022-08-02T20:23:15.682Z"
   },
   {
    "duration": 46,
    "start_time": "2022-08-02T20:23:15.699Z"
   },
   {
    "duration": 7,
    "start_time": "2022-08-02T20:23:15.746Z"
   },
   {
    "duration": 18,
    "start_time": "2022-08-02T20:23:15.755Z"
   },
   {
    "duration": 30,
    "start_time": "2022-08-02T20:23:15.775Z"
   },
   {
    "duration": 37,
    "start_time": "2022-08-02T20:23:15.807Z"
   },
   {
    "duration": 16,
    "start_time": "2022-08-02T20:23:15.846Z"
   },
   {
    "duration": 3,
    "start_time": "2022-08-02T20:23:15.864Z"
   },
   {
    "duration": 14,
    "start_time": "2022-08-02T20:23:15.869Z"
   },
   {
    "duration": 15,
    "start_time": "2022-08-02T20:23:15.885Z"
   },
   {
    "duration": 13,
    "start_time": "2022-08-02T20:23:15.931Z"
   },
   {
    "duration": 3,
    "start_time": "2022-08-02T20:23:15.946Z"
   },
   {
    "duration": 5,
    "start_time": "2022-08-02T20:23:15.951Z"
   },
   {
    "duration": 11,
    "start_time": "2022-08-02T20:23:15.958Z"
   },
   {
    "duration": 14,
    "start_time": "2022-08-02T20:23:15.970Z"
   },
   {
    "duration": 57,
    "start_time": "2022-08-02T20:23:15.986Z"
   },
   {
    "duration": 21,
    "start_time": "2022-08-02T20:23:16.044Z"
   },
   {
    "duration": 926,
    "start_time": "2022-08-02T20:23:16.066Z"
   },
   {
    "duration": 161,
    "start_time": "2022-08-02T20:23:16.994Z"
   },
   {
    "duration": 157,
    "start_time": "2022-08-02T20:23:17.156Z"
   },
   {
    "duration": 50,
    "start_time": "2022-08-02T20:23:17.315Z"
   },
   {
    "duration": 44,
    "start_time": "2022-08-02T20:23:17.367Z"
   },
   {
    "duration": 54,
    "start_time": "2022-08-02T20:23:17.412Z"
   },
   {
    "duration": 9,
    "start_time": "2022-08-02T20:23:17.467Z"
   },
   {
    "duration": 16,
    "start_time": "2022-08-02T20:23:17.477Z"
   },
   {
    "duration": 43,
    "start_time": "2022-08-02T20:23:17.494Z"
   },
   {
    "duration": 16,
    "start_time": "2022-08-02T20:23:17.538Z"
   },
   {
    "duration": 9,
    "start_time": "2022-08-02T20:23:17.555Z"
   },
   {
    "duration": 13,
    "start_time": "2022-08-02T20:23:17.566Z"
   },
   {
    "duration": 3,
    "start_time": "2022-08-02T20:23:17.581Z"
   },
   {
    "duration": 247,
    "start_time": "2022-08-02T20:23:17.585Z"
   },
   {
    "duration": 4,
    "start_time": "2022-08-02T20:23:17.834Z"
   },
   {
    "duration": 16,
    "start_time": "2022-08-02T20:23:17.840Z"
   },
   {
    "duration": 22,
    "start_time": "2022-08-02T20:23:17.858Z"
   },
   {
    "duration": 22,
    "start_time": "2022-08-02T20:23:17.882Z"
   },
   {
    "duration": 6,
    "start_time": "2022-08-02T20:23:17.906Z"
   },
   {
    "duration": 7,
    "start_time": "2022-08-02T20:23:17.914Z"
   },
   {
    "duration": 13,
    "start_time": "2022-08-02T20:23:17.923Z"
   },
   {
    "duration": 6,
    "start_time": "2022-08-02T20:23:17.937Z"
   },
   {
    "duration": 17,
    "start_time": "2022-08-02T20:23:17.945Z"
   },
   {
    "duration": 15,
    "start_time": "2022-08-02T20:23:17.964Z"
   },
   {
    "duration": 15,
    "start_time": "2022-08-02T20:23:17.981Z"
   },
   {
    "duration": 46,
    "start_time": "2022-08-02T20:23:17.998Z"
   },
   {
    "duration": 14,
    "start_time": "2022-08-02T20:23:18.046Z"
   },
   {
    "duration": 23,
    "start_time": "2022-08-02T20:23:18.062Z"
   },
   {
    "duration": 678,
    "start_time": "2022-08-03T21:22:30.688Z"
   },
   {
    "duration": 8,
    "start_time": "2022-08-03T21:22:31.368Z"
   },
   {
    "duration": 66,
    "start_time": "2022-08-03T21:22:31.378Z"
   },
   {
    "duration": 13,
    "start_time": "2022-08-03T21:22:31.446Z"
   },
   {
    "duration": 31,
    "start_time": "2022-08-03T21:22:31.462Z"
   },
   {
    "duration": 16,
    "start_time": "2022-08-03T21:22:31.495Z"
   },
   {
    "duration": 28,
    "start_time": "2022-08-03T21:22:31.513Z"
   },
   {
    "duration": 5,
    "start_time": "2022-08-03T21:22:31.544Z"
   },
   {
    "duration": 24,
    "start_time": "2022-08-03T21:22:31.551Z"
   },
   {
    "duration": 72,
    "start_time": "2022-08-03T21:22:31.577Z"
   },
   {
    "duration": 53,
    "start_time": "2022-08-03T21:22:31.650Z"
   },
   {
    "duration": 7,
    "start_time": "2022-08-03T21:22:31.705Z"
   },
   {
    "duration": 31,
    "start_time": "2022-08-03T21:22:31.713Z"
   },
   {
    "duration": 7,
    "start_time": "2022-08-03T21:22:31.747Z"
   },
   {
    "duration": 23,
    "start_time": "2022-08-03T21:22:31.756Z"
   },
   {
    "duration": 7,
    "start_time": "2022-08-03T21:22:31.781Z"
   },
   {
    "duration": 30,
    "start_time": "2022-08-03T21:22:31.789Z"
   },
   {
    "duration": 25,
    "start_time": "2022-08-03T21:22:31.821Z"
   },
   {
    "duration": 8,
    "start_time": "2022-08-03T21:22:31.847Z"
   },
   {
    "duration": 6,
    "start_time": "2022-08-03T21:22:31.857Z"
   },
   {
    "duration": 10,
    "start_time": "2022-08-03T21:22:31.865Z"
   },
   {
    "duration": 15,
    "start_time": "2022-08-03T21:22:31.876Z"
   },
   {
    "duration": 15,
    "start_time": "2022-08-03T21:22:31.892Z"
   },
   {
    "duration": 45,
    "start_time": "2022-08-03T21:22:31.909Z"
   },
   {
    "duration": 24,
    "start_time": "2022-08-03T21:22:31.955Z"
   },
   {
    "duration": 20,
    "start_time": "2022-08-03T21:22:31.981Z"
   },
   {
    "duration": 45,
    "start_time": "2022-08-03T21:22:32.002Z"
   },
   {
    "duration": 7,
    "start_time": "2022-08-03T21:22:32.048Z"
   },
   {
    "duration": 8,
    "start_time": "2022-08-03T21:22:32.056Z"
   },
   {
    "duration": 11,
    "start_time": "2022-08-03T21:22:32.065Z"
   },
   {
    "duration": 8,
    "start_time": "2022-08-03T21:22:32.077Z"
   },
   {
    "duration": 9,
    "start_time": "2022-08-03T21:22:32.086Z"
   },
   {
    "duration": 13,
    "start_time": "2022-08-03T21:22:32.096Z"
   },
   {
    "duration": 4,
    "start_time": "2022-08-03T21:22:32.138Z"
   },
   {
    "duration": 13,
    "start_time": "2022-08-03T21:22:32.144Z"
   },
   {
    "duration": 13,
    "start_time": "2022-08-03T21:22:32.159Z"
   },
   {
    "duration": 15,
    "start_time": "2022-08-03T21:22:32.174Z"
   },
   {
    "duration": 16,
    "start_time": "2022-08-03T21:22:32.190Z"
   },
   {
    "duration": 32,
    "start_time": "2022-08-03T21:22:32.207Z"
   },
   {
    "duration": 16,
    "start_time": "2022-08-03T21:22:32.240Z"
   },
   {
    "duration": 29,
    "start_time": "2022-08-03T21:22:32.261Z"
   },
   {
    "duration": 16,
    "start_time": "2022-08-03T21:22:32.291Z"
   },
   {
    "duration": 17,
    "start_time": "2022-08-03T21:22:32.338Z"
   },
   {
    "duration": 4,
    "start_time": "2022-08-03T21:22:32.356Z"
   },
   {
    "duration": 16,
    "start_time": "2022-08-03T21:22:32.361Z"
   },
   {
    "duration": 16,
    "start_time": "2022-08-03T21:22:32.379Z"
   },
   {
    "duration": 46,
    "start_time": "2022-08-03T21:22:32.397Z"
   },
   {
    "duration": 5,
    "start_time": "2022-08-03T21:22:32.444Z"
   },
   {
    "duration": 10,
    "start_time": "2022-08-03T21:22:32.451Z"
   },
   {
    "duration": 18,
    "start_time": "2022-08-03T21:22:32.463Z"
   },
   {
    "duration": 17,
    "start_time": "2022-08-03T21:22:32.483Z"
   },
   {
    "duration": 45,
    "start_time": "2022-08-03T21:22:32.502Z"
   },
   {
    "duration": 19,
    "start_time": "2022-08-03T21:22:32.548Z"
   },
   {
    "duration": 1155,
    "start_time": "2022-08-03T21:22:32.569Z"
   },
   {
    "duration": 174,
    "start_time": "2022-08-03T21:22:33.727Z"
   },
   {
    "duration": 158,
    "start_time": "2022-08-03T21:22:33.903Z"
   },
   {
    "duration": 45,
    "start_time": "2022-08-03T21:22:34.063Z"
   },
   {
    "duration": 65,
    "start_time": "2022-08-03T21:22:34.110Z"
   },
   {
    "duration": 43,
    "start_time": "2022-08-03T21:22:34.177Z"
   },
   {
    "duration": 23,
    "start_time": "2022-08-03T21:22:34.221Z"
   },
   {
    "duration": 20,
    "start_time": "2022-08-03T21:22:34.246Z"
   },
   {
    "duration": 16,
    "start_time": "2022-08-03T21:22:34.268Z"
   },
   {
    "duration": 17,
    "start_time": "2022-08-03T21:22:34.285Z"
   },
   {
    "duration": 37,
    "start_time": "2022-08-03T21:22:34.305Z"
   },
   {
    "duration": 16,
    "start_time": "2022-08-03T21:22:34.343Z"
   },
   {
    "duration": 4,
    "start_time": "2022-08-03T21:22:34.361Z"
   },
   {
    "duration": 230,
    "start_time": "2022-08-03T21:22:34.367Z"
   },
   {
    "duration": 4,
    "start_time": "2022-08-03T21:22:34.598Z"
   },
   {
    "duration": 6,
    "start_time": "2022-08-03T21:22:34.603Z"
   },
   {
    "duration": 28,
    "start_time": "2022-08-03T21:22:34.610Z"
   },
   {
    "duration": 15,
    "start_time": "2022-08-03T21:22:34.640Z"
   },
   {
    "duration": 10,
    "start_time": "2022-08-03T21:22:34.657Z"
   },
   {
    "duration": 11,
    "start_time": "2022-08-03T21:22:34.668Z"
   },
   {
    "duration": 12,
    "start_time": "2022-08-03T21:22:34.681Z"
   },
   {
    "duration": 10,
    "start_time": "2022-08-03T21:22:34.694Z"
   },
   {
    "duration": 33,
    "start_time": "2022-08-03T21:22:34.706Z"
   },
   {
    "duration": 15,
    "start_time": "2022-08-03T21:22:34.741Z"
   },
   {
    "duration": 15,
    "start_time": "2022-08-03T21:22:34.758Z"
   },
   {
    "duration": 15,
    "start_time": "2022-08-03T21:22:34.775Z"
   },
   {
    "duration": 16,
    "start_time": "2022-08-03T21:22:34.791Z"
   },
   {
    "duration": 26,
    "start_time": "2022-08-03T21:22:34.839Z"
   },
   {
    "duration": 449,
    "start_time": "2022-08-03T21:23:30.070Z"
   },
   {
    "duration": 9,
    "start_time": "2022-08-03T21:23:30.521Z"
   },
   {
    "duration": 94,
    "start_time": "2022-08-03T21:23:30.532Z"
   },
   {
    "duration": 13,
    "start_time": "2022-08-03T21:23:30.629Z"
   },
   {
    "duration": 31,
    "start_time": "2022-08-03T21:23:30.644Z"
   },
   {
    "duration": 13,
    "start_time": "2022-08-03T21:23:30.677Z"
   },
   {
    "duration": 33,
    "start_time": "2022-08-03T21:23:30.692Z"
   },
   {
    "duration": 31,
    "start_time": "2022-08-03T21:23:30.727Z"
   },
   {
    "duration": 32,
    "start_time": "2022-08-03T21:23:30.759Z"
   },
   {
    "duration": 75,
    "start_time": "2022-08-03T21:23:30.793Z"
   },
   {
    "duration": 49,
    "start_time": "2022-08-03T21:23:30.870Z"
   },
   {
    "duration": 6,
    "start_time": "2022-08-03T21:23:30.921Z"
   },
   {
    "duration": 17,
    "start_time": "2022-08-03T21:23:30.938Z"
   },
   {
    "duration": 28,
    "start_time": "2022-08-03T21:23:30.957Z"
   },
   {
    "duration": 40,
    "start_time": "2022-08-03T21:23:30.986Z"
   },
   {
    "duration": 34,
    "start_time": "2022-08-03T21:23:31.028Z"
   },
   {
    "duration": 21,
    "start_time": "2022-08-03T21:23:31.064Z"
   },
   {
    "duration": 29,
    "start_time": "2022-08-03T21:23:31.087Z"
   },
   {
    "duration": 23,
    "start_time": "2022-08-03T21:23:31.117Z"
   },
   {
    "duration": 37,
    "start_time": "2022-08-03T21:23:31.142Z"
   },
   {
    "duration": 29,
    "start_time": "2022-08-03T21:23:31.180Z"
   },
   {
    "duration": 16,
    "start_time": "2022-08-03T21:23:31.211Z"
   },
   {
    "duration": 25,
    "start_time": "2022-08-03T21:23:31.228Z"
   },
   {
    "duration": 37,
    "start_time": "2022-08-03T21:23:31.255Z"
   },
   {
    "duration": 25,
    "start_time": "2022-08-03T21:23:31.294Z"
   },
   {
    "duration": 32,
    "start_time": "2022-08-03T21:23:31.321Z"
   },
   {
    "duration": 20,
    "start_time": "2022-08-03T21:23:31.355Z"
   },
   {
    "duration": 43,
    "start_time": "2022-08-03T21:23:31.380Z"
   },
   {
    "duration": 17,
    "start_time": "2022-08-03T21:23:31.424Z"
   },
   {
    "duration": 50,
    "start_time": "2022-08-03T21:23:31.443Z"
   },
   {
    "duration": 23,
    "start_time": "2022-08-03T21:23:31.495Z"
   },
   {
    "duration": 15,
    "start_time": "2022-08-03T21:23:31.521Z"
   },
   {
    "duration": 10,
    "start_time": "2022-08-03T21:23:31.537Z"
   },
   {
    "duration": 6,
    "start_time": "2022-08-03T21:23:31.549Z"
   },
   {
    "duration": 12,
    "start_time": "2022-08-03T21:23:31.556Z"
   },
   {
    "duration": 28,
    "start_time": "2022-08-03T21:23:31.570Z"
   },
   {
    "duration": 38,
    "start_time": "2022-08-03T21:23:31.600Z"
   },
   {
    "duration": 29,
    "start_time": "2022-08-03T21:23:31.639Z"
   },
   {
    "duration": 7,
    "start_time": "2022-08-03T21:23:31.670Z"
   },
   {
    "duration": 34,
    "start_time": "2022-08-03T21:23:31.679Z"
   },
   {
    "duration": 29,
    "start_time": "2022-08-03T21:23:31.715Z"
   },
   {
    "duration": 15,
    "start_time": "2022-08-03T21:23:31.746Z"
   },
   {
    "duration": 16,
    "start_time": "2022-08-03T21:23:31.763Z"
   },
   {
    "duration": 4,
    "start_time": "2022-08-03T21:23:31.780Z"
   },
   {
    "duration": 25,
    "start_time": "2022-08-03T21:23:31.785Z"
   },
   {
    "duration": 29,
    "start_time": "2022-08-03T21:23:31.812Z"
   },
   {
    "duration": 14,
    "start_time": "2022-08-03T21:23:31.843Z"
   },
   {
    "duration": 3,
    "start_time": "2022-08-03T21:23:31.859Z"
   },
   {
    "duration": 7,
    "start_time": "2022-08-03T21:23:31.864Z"
   },
   {
    "duration": 16,
    "start_time": "2022-08-03T21:23:31.872Z"
   },
   {
    "duration": 14,
    "start_time": "2022-08-03T21:23:31.889Z"
   },
   {
    "duration": 48,
    "start_time": "2022-08-03T21:23:31.905Z"
   },
   {
    "duration": 20,
    "start_time": "2022-08-03T21:23:31.954Z"
   },
   {
    "duration": 963,
    "start_time": "2022-08-03T21:23:31.975Z"
   },
   {
    "duration": 174,
    "start_time": "2022-08-03T21:23:32.940Z"
   },
   {
    "duration": 150,
    "start_time": "2022-08-03T21:23:33.116Z"
   },
   {
    "duration": 42,
    "start_time": "2022-08-03T21:23:33.268Z"
   },
   {
    "duration": 65,
    "start_time": "2022-08-03T21:23:33.312Z"
   },
   {
    "duration": 43,
    "start_time": "2022-08-03T21:23:33.379Z"
   },
   {
    "duration": 22,
    "start_time": "2022-08-03T21:23:33.423Z"
   },
   {
    "duration": 17,
    "start_time": "2022-08-03T21:23:33.446Z"
   },
   {
    "duration": 21,
    "start_time": "2022-08-03T21:23:33.464Z"
   },
   {
    "duration": 16,
    "start_time": "2022-08-03T21:23:33.486Z"
   },
   {
    "duration": 35,
    "start_time": "2022-08-03T21:23:33.503Z"
   },
   {
    "duration": 13,
    "start_time": "2022-08-03T21:23:33.541Z"
   },
   {
    "duration": 10,
    "start_time": "2022-08-03T21:23:33.555Z"
   },
   {
    "duration": 205,
    "start_time": "2022-08-03T21:23:33.567Z"
   },
   {
    "duration": 3,
    "start_time": "2022-08-03T21:23:33.774Z"
   },
   {
    "duration": 12,
    "start_time": "2022-08-03T21:23:33.779Z"
   },
   {
    "duration": 34,
    "start_time": "2022-08-03T21:23:33.792Z"
   },
   {
    "duration": 23,
    "start_time": "2022-08-03T21:23:33.827Z"
   },
   {
    "duration": 7,
    "start_time": "2022-08-03T21:23:33.851Z"
   },
   {
    "duration": 14,
    "start_time": "2022-08-03T21:23:33.859Z"
   },
   {
    "duration": 15,
    "start_time": "2022-08-03T21:23:33.875Z"
   },
   {
    "duration": 7,
    "start_time": "2022-08-03T21:23:33.892Z"
   },
   {
    "duration": 15,
    "start_time": "2022-08-03T21:23:33.900Z"
   },
   {
    "duration": 18,
    "start_time": "2022-08-03T21:23:33.939Z"
   },
   {
    "duration": 15,
    "start_time": "2022-08-03T21:23:33.959Z"
   },
   {
    "duration": 17,
    "start_time": "2022-08-03T21:23:33.976Z"
   },
   {
    "duration": 16,
    "start_time": "2022-08-03T21:23:33.994Z"
   },
   {
    "duration": 27,
    "start_time": "2022-08-03T21:23:34.039Z"
   }
  ],
  "kernelspec": {
   "display_name": "Python 3",
   "language": "python",
   "name": "python3"
  },
  "language_info": {
   "codemirror_mode": {
    "name": "ipython",
    "version": 3
   },
   "file_extension": ".py",
   "mimetype": "text/x-python",
   "name": "python",
   "nbconvert_exporter": "python",
   "pygments_lexer": "ipython3",
   "version": "3.8.5"
  },
  "toc": {
   "base_numbering": 1,
   "nav_menu": {},
   "number_sections": true,
   "sideBar": true,
   "skip_h1_title": true,
   "title_cell": "Table of Contents",
   "title_sidebar": "Contents",
   "toc_cell": true,
   "toc_position": {
    "height": "calc(100% - 180px)",
    "left": "10px",
    "top": "150px",
    "width": "384px"
   },
   "toc_section_display": true,
   "toc_window_display": true
  }
 },
 "nbformat": 4,
 "nbformat_minor": 2
}

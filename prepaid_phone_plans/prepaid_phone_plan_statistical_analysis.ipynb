{
 "cells": [
  {
   "cell_type": "markdown",
   "metadata": {},
   "source": [
    "<h1><center>Prepaid Plans Comparison</center></h1>\n",
    "\n",
    "*Statistical Analysis Unit*"
   ]
  },
  {
   "cell_type": "markdown",
   "metadata": {},
   "source": [
    "## Description of Project\n",
    "\n",
    "### Objective\n",
    "Telecom operator, Megaline, offers its clients two prepaid plans, Surf and Ultimate. The commercial department wants to know which of the plans brings in more revenue in order to adjust the advertising budget.\n",
    "The following is a preliminary analysis of the plans based on a relatively small client selection: 500 clients. The analysis covers who the clients are, where they're from, which plan they use, and the number of calls they made and text messages they sent in 2018. \n",
    "\n",
    "<u>Description of the plans</u>\n",
    "Note: Megaline rounds seconds up to minutes, and megabytes to gigabytes. For calls, each individual call is rounded up: even if the call lasted just one second, it will be counted as one minute. For web traffic, individual web sessions are not rounded up. Instead, the total for the month is rounded up. If someone uses 1025 megabytes this month, they will be charged for 2 gigabytes.\n",
    "\n",
    "### Data \n",
    "1. **Surf**\n",
    "- Monthly charge: \\$20<br>\n",
    "- 500 monthly minutes, 50 texts, and 15 GB of data<br>\n",
    "- After exceeding the package limits:<br>\n",
    "- 1 minute: 3 cents<br>\n",
    "- 1 text message: 3 cents<br>\n",
    "- 1 GB of data: \\$10\n",
    "<br>\n",
    "<br>\n",
    "2. **Ultimate**\n",
    "- Monthly charge: \\$70<br>\n",
    "- 3000 monthly minutes, 1000 text messages, and 30 GB of data<br>\n",
    "- After exceeding the package limits:<br>\n",
    "- 1 minute: 1 cent<br>\n",
    "- 1 text message: 1 cent<br>\n",
    "- 1 GB of data: \\$7\n",
    "<br>\n",
    "<br>\n",
    "1. The users table (data on users):\n",
    "- `user_id` — unique user identifier\n",
    "- `first_name` — user's name\n",
    "- `last_name` — user's last name\n",
    "- `age` — user's age (years)\n",
    "- `reg_date` — subscription date (dd, mm, yy)\n",
    "- `churn_date` — the date the user stopped using the service (if the value is missing, the calling plan was being used when this database was extracted)\n",
    "- `city` — user's city of residence\n",
    "- `plan` — calling plan name\n",
    "<br>\n",
    "2. The calls table (data on calls):\n",
    "- `id` — unique call identifier\n",
    "- `call_date` — call date\n",
    "- `duration` — call duration (in minutes)\n",
    "- `user_id` — the identifier of the user making the call\n",
    "<br>\n",
    "3. The messages table (data on texts):\n",
    "- `id` — unique text message identifier\n",
    "- `message_date` — text message date\n",
    "- `user_id` — the identifier of the user sending the text\n",
    "<br>\n",
    "4. The internet table (data on web sessions):\n",
    "- `id` — unique session identifier\n",
    "- `mb_used` — the volume of data spent during the session (in megabytes)\n",
    "- `session_date` — web session date\n",
    "- `user_id` — user identifier\n",
    "<br>\n",
    "5.The plans table (data on the plans):\n",
    "- `plan_name` — calling plan name\n",
    "- `usd_monthly_fee` — monthly charge in US dollars\n",
    "- `minutes_included` — monthly minute allowance\n",
    "- `messages_included` — monthly text allowance\n",
    "- `mb_per_month_included` — data volume allowance (in megabytes)\n",
    "- `usd_per_minute` — price per minute after exceeding the package limits (e.g., if the package includes 100 minutes, the 101st minute will be charged)\n",
    "- `usd_per_message` — price per text after exceeding the package limits\n",
    "- `usd_per_gb` — price per extra gigabyte of data after exceeding the package limits (1 GB = 1024 megabytes)\n"
   ]
  },
  {
   "cell_type": "markdown",
   "metadata": {},
   "source": [
    "## Setup "
   ]
  },
  {
   "cell_type": "markdown",
   "metadata": {},
   "source": [
    "### Initialization"
   ]
  },
  {
   "cell_type": "code",
   "execution_count": 1,
   "metadata": {},
   "outputs": [],
   "source": [
    "# Loading all the libraries\n",
    "import pandas as pd\n",
    "import matplotlib.pyplot as plt\n",
    "import matplotlib.transforms as transforms\n",
    "import numpy as np\n",
    "import pylab as pl\n",
    "import math\n",
    "import seaborn as sns\n",
    "from scipy import stats as st"
   ]
  },
  {
   "cell_type": "code",
   "execution_count": 2,
   "metadata": {},
   "outputs": [],
   "source": [
    "#Loading all data\n",
    "calls=pd.read_csv('megaline_calls.csv')\n",
    "internet=pd.read_csv('megaline_internet.csv')\n",
    "messages=pd.read_csv('megaline_messages.csv')\n",
    "plans=pd.read_csv('megaline_plans.csv')\n",
    "users=pd.read_csv('megaline_users.csv')"
   ]
  },
  {
   "cell_type": "markdown",
   "metadata": {},
   "source": [
    "### Explore Each Dataset"
   ]
  },
  {
   "cell_type": "code",
   "execution_count": 3,
   "metadata": {},
   "outputs": [
    {
     "data": {
      "text/plain": [
       "'Calls'"
      ]
     },
     "metadata": {},
     "output_type": "display_data"
    },
    {
     "data": {
      "text/html": [
       "<div>\n",
       "<style scoped>\n",
       "    .dataframe tbody tr th:only-of-type {\n",
       "        vertical-align: middle;\n",
       "    }\n",
       "\n",
       "    .dataframe tbody tr th {\n",
       "        vertical-align: top;\n",
       "    }\n",
       "\n",
       "    .dataframe thead th {\n",
       "        text-align: right;\n",
       "    }\n",
       "</style>\n",
       "<table border=\"1\" class=\"dataframe\">\n",
       "  <thead>\n",
       "    <tr style=\"text-align: right;\">\n",
       "      <th></th>\n",
       "      <th>id</th>\n",
       "      <th>user_id</th>\n",
       "      <th>call_date</th>\n",
       "      <th>duration</th>\n",
       "    </tr>\n",
       "  </thead>\n",
       "  <tbody>\n",
       "    <tr>\n",
       "      <th>0</th>\n",
       "      <td>1000_93</td>\n",
       "      <td>1000</td>\n",
       "      <td>2018-12-27</td>\n",
       "      <td>8.52</td>\n",
       "    </tr>\n",
       "    <tr>\n",
       "      <th>1</th>\n",
       "      <td>1000_145</td>\n",
       "      <td>1000</td>\n",
       "      <td>2018-12-27</td>\n",
       "      <td>13.66</td>\n",
       "    </tr>\n",
       "    <tr>\n",
       "      <th>2</th>\n",
       "      <td>1000_247</td>\n",
       "      <td>1000</td>\n",
       "      <td>2018-12-27</td>\n",
       "      <td>14.48</td>\n",
       "    </tr>\n",
       "    <tr>\n",
       "      <th>3</th>\n",
       "      <td>1000_309</td>\n",
       "      <td>1000</td>\n",
       "      <td>2018-12-28</td>\n",
       "      <td>5.76</td>\n",
       "    </tr>\n",
       "    <tr>\n",
       "      <th>4</th>\n",
       "      <td>1000_380</td>\n",
       "      <td>1000</td>\n",
       "      <td>2018-12-30</td>\n",
       "      <td>4.22</td>\n",
       "    </tr>\n",
       "  </tbody>\n",
       "</table>\n",
       "</div>"
      ],
      "text/plain": [
       "         id  user_id   call_date  duration\n",
       "0   1000_93     1000  2018-12-27      8.52\n",
       "1  1000_145     1000  2018-12-27     13.66\n",
       "2  1000_247     1000  2018-12-27     14.48\n",
       "3  1000_309     1000  2018-12-28      5.76\n",
       "4  1000_380     1000  2018-12-30      4.22"
      ]
     },
     "metadata": {},
     "output_type": "display_data"
    },
    {
     "name": "stdout",
     "output_type": "stream",
     "text": [
      "<class 'pandas.core.frame.DataFrame'>\n",
      "RangeIndex: 137735 entries, 0 to 137734\n",
      "Data columns (total 4 columns):\n",
      " #   Column     Non-Null Count   Dtype  \n",
      "---  ------     --------------   -----  \n",
      " 0   id         137735 non-null  object \n",
      " 1   user_id    137735 non-null  int64  \n",
      " 2   call_date  137735 non-null  object \n",
      " 3   duration   137735 non-null  float64\n",
      "dtypes: float64(1), int64(1), object(2)\n",
      "memory usage: 4.2+ MB\n"
     ]
    },
    {
     "data": {
      "text/plain": [
       "None"
      ]
     },
     "metadata": {},
     "output_type": "display_data"
    },
    {
     "data": {
      "text/plain": [
       "'Internet'"
      ]
     },
     "metadata": {},
     "output_type": "display_data"
    },
    {
     "data": {
      "text/html": [
       "<div>\n",
       "<style scoped>\n",
       "    .dataframe tbody tr th:only-of-type {\n",
       "        vertical-align: middle;\n",
       "    }\n",
       "\n",
       "    .dataframe tbody tr th {\n",
       "        vertical-align: top;\n",
       "    }\n",
       "\n",
       "    .dataframe thead th {\n",
       "        text-align: right;\n",
       "    }\n",
       "</style>\n",
       "<table border=\"1\" class=\"dataframe\">\n",
       "  <thead>\n",
       "    <tr style=\"text-align: right;\">\n",
       "      <th></th>\n",
       "      <th>id</th>\n",
       "      <th>user_id</th>\n",
       "      <th>session_date</th>\n",
       "      <th>mb_used</th>\n",
       "    </tr>\n",
       "  </thead>\n",
       "  <tbody>\n",
       "    <tr>\n",
       "      <th>0</th>\n",
       "      <td>1000_13</td>\n",
       "      <td>1000</td>\n",
       "      <td>2018-12-29</td>\n",
       "      <td>89.86</td>\n",
       "    </tr>\n",
       "    <tr>\n",
       "      <th>1</th>\n",
       "      <td>1000_204</td>\n",
       "      <td>1000</td>\n",
       "      <td>2018-12-31</td>\n",
       "      <td>0.00</td>\n",
       "    </tr>\n",
       "    <tr>\n",
       "      <th>2</th>\n",
       "      <td>1000_379</td>\n",
       "      <td>1000</td>\n",
       "      <td>2018-12-28</td>\n",
       "      <td>660.40</td>\n",
       "    </tr>\n",
       "    <tr>\n",
       "      <th>3</th>\n",
       "      <td>1000_413</td>\n",
       "      <td>1000</td>\n",
       "      <td>2018-12-26</td>\n",
       "      <td>270.99</td>\n",
       "    </tr>\n",
       "    <tr>\n",
       "      <th>4</th>\n",
       "      <td>1000_442</td>\n",
       "      <td>1000</td>\n",
       "      <td>2018-12-27</td>\n",
       "      <td>880.22</td>\n",
       "    </tr>\n",
       "  </tbody>\n",
       "</table>\n",
       "</div>"
      ],
      "text/plain": [
       "         id  user_id session_date  mb_used\n",
       "0   1000_13     1000   2018-12-29    89.86\n",
       "1  1000_204     1000   2018-12-31     0.00\n",
       "2  1000_379     1000   2018-12-28   660.40\n",
       "3  1000_413     1000   2018-12-26   270.99\n",
       "4  1000_442     1000   2018-12-27   880.22"
      ]
     },
     "metadata": {},
     "output_type": "display_data"
    },
    {
     "name": "stdout",
     "output_type": "stream",
     "text": [
      "<class 'pandas.core.frame.DataFrame'>\n",
      "RangeIndex: 104825 entries, 0 to 104824\n",
      "Data columns (total 4 columns):\n",
      " #   Column        Non-Null Count   Dtype  \n",
      "---  ------        --------------   -----  \n",
      " 0   id            104825 non-null  object \n",
      " 1   user_id       104825 non-null  int64  \n",
      " 2   session_date  104825 non-null  object \n",
      " 3   mb_used       104825 non-null  float64\n",
      "dtypes: float64(1), int64(1), object(2)\n",
      "memory usage: 3.2+ MB\n"
     ]
    },
    {
     "data": {
      "text/plain": [
       "None"
      ]
     },
     "metadata": {},
     "output_type": "display_data"
    },
    {
     "data": {
      "text/plain": [
       "'Messages'"
      ]
     },
     "metadata": {},
     "output_type": "display_data"
    },
    {
     "data": {
      "text/html": [
       "<div>\n",
       "<style scoped>\n",
       "    .dataframe tbody tr th:only-of-type {\n",
       "        vertical-align: middle;\n",
       "    }\n",
       "\n",
       "    .dataframe tbody tr th {\n",
       "        vertical-align: top;\n",
       "    }\n",
       "\n",
       "    .dataframe thead th {\n",
       "        text-align: right;\n",
       "    }\n",
       "</style>\n",
       "<table border=\"1\" class=\"dataframe\">\n",
       "  <thead>\n",
       "    <tr style=\"text-align: right;\">\n",
       "      <th></th>\n",
       "      <th>id</th>\n",
       "      <th>user_id</th>\n",
       "      <th>message_date</th>\n",
       "    </tr>\n",
       "  </thead>\n",
       "  <tbody>\n",
       "    <tr>\n",
       "      <th>0</th>\n",
       "      <td>1000_125</td>\n",
       "      <td>1000</td>\n",
       "      <td>2018-12-27</td>\n",
       "    </tr>\n",
       "    <tr>\n",
       "      <th>1</th>\n",
       "      <td>1000_160</td>\n",
       "      <td>1000</td>\n",
       "      <td>2018-12-31</td>\n",
       "    </tr>\n",
       "    <tr>\n",
       "      <th>2</th>\n",
       "      <td>1000_223</td>\n",
       "      <td>1000</td>\n",
       "      <td>2018-12-31</td>\n",
       "    </tr>\n",
       "    <tr>\n",
       "      <th>3</th>\n",
       "      <td>1000_251</td>\n",
       "      <td>1000</td>\n",
       "      <td>2018-12-27</td>\n",
       "    </tr>\n",
       "    <tr>\n",
       "      <th>4</th>\n",
       "      <td>1000_255</td>\n",
       "      <td>1000</td>\n",
       "      <td>2018-12-26</td>\n",
       "    </tr>\n",
       "  </tbody>\n",
       "</table>\n",
       "</div>"
      ],
      "text/plain": [
       "         id  user_id message_date\n",
       "0  1000_125     1000   2018-12-27\n",
       "1  1000_160     1000   2018-12-31\n",
       "2  1000_223     1000   2018-12-31\n",
       "3  1000_251     1000   2018-12-27\n",
       "4  1000_255     1000   2018-12-26"
      ]
     },
     "metadata": {},
     "output_type": "display_data"
    },
    {
     "name": "stdout",
     "output_type": "stream",
     "text": [
      "<class 'pandas.core.frame.DataFrame'>\n",
      "RangeIndex: 76051 entries, 0 to 76050\n",
      "Data columns (total 3 columns):\n",
      " #   Column        Non-Null Count  Dtype \n",
      "---  ------        --------------  ----- \n",
      " 0   id            76051 non-null  object\n",
      " 1   user_id       76051 non-null  int64 \n",
      " 2   message_date  76051 non-null  object\n",
      "dtypes: int64(1), object(2)\n",
      "memory usage: 1.7+ MB\n"
     ]
    },
    {
     "data": {
      "text/plain": [
       "None"
      ]
     },
     "metadata": {},
     "output_type": "display_data"
    },
    {
     "data": {
      "text/plain": [
       "'Plans'"
      ]
     },
     "metadata": {},
     "output_type": "display_data"
    },
    {
     "data": {
      "text/html": [
       "<div>\n",
       "<style scoped>\n",
       "    .dataframe tbody tr th:only-of-type {\n",
       "        vertical-align: middle;\n",
       "    }\n",
       "\n",
       "    .dataframe tbody tr th {\n",
       "        vertical-align: top;\n",
       "    }\n",
       "\n",
       "    .dataframe thead th {\n",
       "        text-align: right;\n",
       "    }\n",
       "</style>\n",
       "<table border=\"1\" class=\"dataframe\">\n",
       "  <thead>\n",
       "    <tr style=\"text-align: right;\">\n",
       "      <th></th>\n",
       "      <th>messages_included</th>\n",
       "      <th>mb_per_month_included</th>\n",
       "      <th>minutes_included</th>\n",
       "      <th>usd_monthly_pay</th>\n",
       "      <th>usd_per_gb</th>\n",
       "      <th>usd_per_message</th>\n",
       "      <th>usd_per_minute</th>\n",
       "      <th>plan_name</th>\n",
       "    </tr>\n",
       "  </thead>\n",
       "  <tbody>\n",
       "    <tr>\n",
       "      <th>0</th>\n",
       "      <td>50</td>\n",
       "      <td>15360</td>\n",
       "      <td>500</td>\n",
       "      <td>20</td>\n",
       "      <td>10</td>\n",
       "      <td>0.03</td>\n",
       "      <td>0.03</td>\n",
       "      <td>surf</td>\n",
       "    </tr>\n",
       "    <tr>\n",
       "      <th>1</th>\n",
       "      <td>1000</td>\n",
       "      <td>30720</td>\n",
       "      <td>3000</td>\n",
       "      <td>70</td>\n",
       "      <td>7</td>\n",
       "      <td>0.01</td>\n",
       "      <td>0.01</td>\n",
       "      <td>ultimate</td>\n",
       "    </tr>\n",
       "  </tbody>\n",
       "</table>\n",
       "</div>"
      ],
      "text/plain": [
       "   messages_included  mb_per_month_included  minutes_included  \\\n",
       "0                 50                  15360               500   \n",
       "1               1000                  30720              3000   \n",
       "\n",
       "   usd_monthly_pay  usd_per_gb  usd_per_message  usd_per_minute plan_name  \n",
       "0               20          10             0.03            0.03      surf  \n",
       "1               70           7             0.01            0.01  ultimate  "
      ]
     },
     "metadata": {},
     "output_type": "display_data"
    },
    {
     "name": "stdout",
     "output_type": "stream",
     "text": [
      "<class 'pandas.core.frame.DataFrame'>\n",
      "RangeIndex: 2 entries, 0 to 1\n",
      "Data columns (total 8 columns):\n",
      " #   Column                 Non-Null Count  Dtype  \n",
      "---  ------                 --------------  -----  \n",
      " 0   messages_included      2 non-null      int64  \n",
      " 1   mb_per_month_included  2 non-null      int64  \n",
      " 2   minutes_included       2 non-null      int64  \n",
      " 3   usd_monthly_pay        2 non-null      int64  \n",
      " 4   usd_per_gb             2 non-null      int64  \n",
      " 5   usd_per_message        2 non-null      float64\n",
      " 6   usd_per_minute         2 non-null      float64\n",
      " 7   plan_name              2 non-null      object \n",
      "dtypes: float64(2), int64(5), object(1)\n",
      "memory usage: 256.0+ bytes\n"
     ]
    },
    {
     "data": {
      "text/plain": [
       "None"
      ]
     },
     "metadata": {},
     "output_type": "display_data"
    },
    {
     "data": {
      "text/plain": [
       "'Users'"
      ]
     },
     "metadata": {},
     "output_type": "display_data"
    },
    {
     "data": {
      "text/html": [
       "<div>\n",
       "<style scoped>\n",
       "    .dataframe tbody tr th:only-of-type {\n",
       "        vertical-align: middle;\n",
       "    }\n",
       "\n",
       "    .dataframe tbody tr th {\n",
       "        vertical-align: top;\n",
       "    }\n",
       "\n",
       "    .dataframe thead th {\n",
       "        text-align: right;\n",
       "    }\n",
       "</style>\n",
       "<table border=\"1\" class=\"dataframe\">\n",
       "  <thead>\n",
       "    <tr style=\"text-align: right;\">\n",
       "      <th></th>\n",
       "      <th>user_id</th>\n",
       "      <th>first_name</th>\n",
       "      <th>last_name</th>\n",
       "      <th>age</th>\n",
       "      <th>city</th>\n",
       "      <th>reg_date</th>\n",
       "      <th>plan</th>\n",
       "      <th>churn_date</th>\n",
       "    </tr>\n",
       "  </thead>\n",
       "  <tbody>\n",
       "    <tr>\n",
       "      <th>0</th>\n",
       "      <td>1000</td>\n",
       "      <td>Anamaria</td>\n",
       "      <td>Bauer</td>\n",
       "      <td>45</td>\n",
       "      <td>Atlanta-Sandy Springs-Roswell, GA MSA</td>\n",
       "      <td>2018-12-24</td>\n",
       "      <td>ultimate</td>\n",
       "      <td>NaN</td>\n",
       "    </tr>\n",
       "    <tr>\n",
       "      <th>1</th>\n",
       "      <td>1001</td>\n",
       "      <td>Mickey</td>\n",
       "      <td>Wilkerson</td>\n",
       "      <td>28</td>\n",
       "      <td>Seattle-Tacoma-Bellevue, WA MSA</td>\n",
       "      <td>2018-08-13</td>\n",
       "      <td>surf</td>\n",
       "      <td>NaN</td>\n",
       "    </tr>\n",
       "    <tr>\n",
       "      <th>2</th>\n",
       "      <td>1002</td>\n",
       "      <td>Carlee</td>\n",
       "      <td>Hoffman</td>\n",
       "      <td>36</td>\n",
       "      <td>Las Vegas-Henderson-Paradise, NV MSA</td>\n",
       "      <td>2018-10-21</td>\n",
       "      <td>surf</td>\n",
       "      <td>NaN</td>\n",
       "    </tr>\n",
       "    <tr>\n",
       "      <th>3</th>\n",
       "      <td>1003</td>\n",
       "      <td>Reynaldo</td>\n",
       "      <td>Jenkins</td>\n",
       "      <td>52</td>\n",
       "      <td>Tulsa, OK MSA</td>\n",
       "      <td>2018-01-28</td>\n",
       "      <td>surf</td>\n",
       "      <td>NaN</td>\n",
       "    </tr>\n",
       "    <tr>\n",
       "      <th>4</th>\n",
       "      <td>1004</td>\n",
       "      <td>Leonila</td>\n",
       "      <td>Thompson</td>\n",
       "      <td>40</td>\n",
       "      <td>Seattle-Tacoma-Bellevue, WA MSA</td>\n",
       "      <td>2018-05-23</td>\n",
       "      <td>surf</td>\n",
       "      <td>NaN</td>\n",
       "    </tr>\n",
       "  </tbody>\n",
       "</table>\n",
       "</div>"
      ],
      "text/plain": [
       "   user_id first_name  last_name  age                                   city  \\\n",
       "0     1000   Anamaria      Bauer   45  Atlanta-Sandy Springs-Roswell, GA MSA   \n",
       "1     1001     Mickey  Wilkerson   28        Seattle-Tacoma-Bellevue, WA MSA   \n",
       "2     1002     Carlee    Hoffman   36   Las Vegas-Henderson-Paradise, NV MSA   \n",
       "3     1003   Reynaldo    Jenkins   52                          Tulsa, OK MSA   \n",
       "4     1004    Leonila   Thompson   40        Seattle-Tacoma-Bellevue, WA MSA   \n",
       "\n",
       "     reg_date      plan churn_date  \n",
       "0  2018-12-24  ultimate        NaN  \n",
       "1  2018-08-13      surf        NaN  \n",
       "2  2018-10-21      surf        NaN  \n",
       "3  2018-01-28      surf        NaN  \n",
       "4  2018-05-23      surf        NaN  "
      ]
     },
     "metadata": {},
     "output_type": "display_data"
    },
    {
     "name": "stdout",
     "output_type": "stream",
     "text": [
      "<class 'pandas.core.frame.DataFrame'>\n",
      "RangeIndex: 500 entries, 0 to 499\n",
      "Data columns (total 8 columns):\n",
      " #   Column      Non-Null Count  Dtype \n",
      "---  ------      --------------  ----- \n",
      " 0   user_id     500 non-null    int64 \n",
      " 1   first_name  500 non-null    object\n",
      " 2   last_name   500 non-null    object\n",
      " 3   age         500 non-null    int64 \n",
      " 4   city        500 non-null    object\n",
      " 5   reg_date    500 non-null    object\n",
      " 6   plan        500 non-null    object\n",
      " 7   churn_date  34 non-null     object\n",
      "dtypes: int64(2), object(6)\n",
      "memory usage: 31.4+ KB\n"
     ]
    },
    {
     "data": {
      "text/plain": [
       "None"
      ]
     },
     "metadata": {},
     "output_type": "display_data"
    }
   ],
   "source": [
    "#list of dfs and names for for loops\n",
    "listdf=[calls,internet,messages,plans,users]\n",
    "\n",
    "calls.myname ='Calls'\n",
    "users.myname ='Users'\n",
    "internet.myname ='Internet'\n",
    "messages.myname ='Messages'\n",
    "plans.myname ='Plans'\n",
    "\n",
    "#Overview of dfs\n",
    "for i in listdf:\n",
    "    display(i.myname,i.head())\n",
    "    display(i.info())"
   ]
  },
  {
   "cell_type": "code",
   "execution_count": 4,
   "metadata": {},
   "outputs": [
    {
     "data": {
      "text/plain": [
       "user_id\n",
       "1306     4.60\n",
       "1034     5.31\n",
       "1104     8.73\n",
       "1323    27.03\n",
       "1481    33.19\n",
       "Name: duration, dtype: float64"
      ]
     },
     "execution_count": 4,
     "metadata": {},
     "output_type": "execute_result"
    }
   ],
   "source": [
    "#Sum duration for each user\n",
    "calls.groupby('user_id')['duration'].sum().sort_values().head()"
   ]
  },
  {
   "cell_type": "code",
   "execution_count": 5,
   "metadata": {},
   "outputs": [
    {
     "data": {
      "text/plain": [
       "0"
      ]
     },
     "execution_count": 5,
     "metadata": {},
     "output_type": "execute_result"
    }
   ],
   "source": [
    "#Checking for duplicates\n",
    "calls.duplicated().sum()+internet.duplicated().sum()+messages.duplicated().sum()+users.duplicated().sum()"
   ]
  },
  {
   "cell_type": "code",
   "execution_count": 6,
   "metadata": {},
   "outputs": [
    {
     "data": {
      "text/plain": [
       "Albany-Schenectady-Troy, NY MSA                      1\n",
       "Albuquerque, NM MSA                                  2\n",
       "Atlanta-Sandy Springs-Roswell, GA MSA               14\n",
       "Austin-Round Rock-Georgetown, TX MSA                 5\n",
       "Bakersfield, CA MSA                                  4\n",
       "Baltimore-Columbia-Towson, MD MSA                    4\n",
       "Baton Rouge, LA MSA                                  6\n",
       "Birmingham-Hoover, AL MSA                            4\n",
       "Boston-Cambridge-Newton, MA-NH MSA                  12\n",
       "Bridgeport-Stamford-Norwalk, CT MSA                  3\n",
       "Buffalo-Cheektowaga, NY MSA                          2\n",
       "Cape Coral-Fort Myers, FL MSA                        1\n",
       "Charleston-North Charleston, SC MSA                  3\n",
       "Charlotte-Concord-Gastonia, NC-SC MSA                8\n",
       "Chicago-Naperville-Elgin, IL-IN-WI MSA              19\n",
       "Cincinnati, OH-KY-IN MSA                             8\n",
       "Cleveland-Elyria, OH MSA                             3\n",
       "Colorado Springs, CO MSA                             2\n",
       "Columbia, SC MSA                                     4\n",
       "Columbus, OH MSA                                     3\n",
       "Dallas-Fort Worth-Arlington, TX MSA                 21\n",
       "Dayton-Kettering, OH MSA                             3\n",
       "Denver-Aurora-Lakewood, CO MSA                       7\n",
       "Detroit-Warren-Dearborn, MI MSA                     10\n",
       "El Paso, TX MSA                                      1\n",
       "Fresno, CA MSA                                       6\n",
       "Grand Rapids-Kentwood, MI MSA                        6\n",
       "Greensboro-High Point, NC MSA                        1\n",
       "Houston-The Woodlands-Sugar Land, TX MSA             6\n",
       "Indianapolis-Carmel-Anderson, IN MSA                 6\n",
       "Jacksonville, FL MSA                                 1\n",
       "Kansas City, MO-KS MSA                               2\n",
       "Knoxville, TN MSA                                    5\n",
       "Las Vegas-Henderson-Paradise, NV MSA                 7\n",
       "Los Angeles-Long Beach-Anaheim, CA MSA              29\n",
       "Louisville/Jefferson County, KY-IN MSA               5\n",
       "Memphis, TN-MS-AR MSA                                2\n",
       "Miami-Fort Lauderdale-West Palm Beach, FL MSA       11\n",
       "Milwaukee-Waukesha, WI MSA                           3\n",
       "Minneapolis-St. Paul-Bloomington, MN-WI MSA         11\n",
       "Nashville-Davidson–Murfreesboro–Franklin, TN MSA     7\n",
       "New Haven-Milford, CT MSA                            3\n",
       "New Orleans-Metairie, LA MSA                         3\n",
       "New York-Newark-Jersey City, NY-NJ-PA MSA           80\n",
       "North Port-Sarasota-Bradenton, FL MSA                3\n",
       "Oklahoma City, OK MSA                                4\n",
       "Omaha-Council Bluffs, NE-IA MSA                      2\n",
       "Orlando-Kissimmee-Sanford, FL MSA                    6\n",
       "Oxnard-Thousand Oaks-Ventura, CA MSA                 1\n",
       "Philadelphia-Camden-Wilmington, PA-NJ-DE-MD MSA     17\n",
       "Phoenix-Mesa-Chandler, AZ MSA                        9\n",
       "Pittsburgh, PA MSA                                   5\n",
       "Portland-Vancouver-Hillsboro, OR-WA MSA              8\n",
       "Providence-Warwick, RI-MA MSA                        3\n",
       "Raleigh-Cary, NC MSA                                 1\n",
       "Richmond, VA MSA                                     4\n",
       "Riverside-San Bernardino-Ontario, CA MSA             9\n",
       "Rochester, NY MSA                                    3\n",
       "Sacramento–Roseville–Folsom, CA MSA                  4\n",
       "Salt Lake City, UT MSA                               3\n",
       "San Antonio-New Braunfels, TX MSA                    6\n",
       "San Diego-Chula Vista-Carlsbad, CA MSA               8\n",
       "San Francisco-Oakland-Berkeley, CA MSA              11\n",
       "San Jose-Sunnyvale-Santa Clara, CA MSA               5\n",
       "Seattle-Tacoma-Bellevue, WA MSA                     13\n",
       "St. Louis, MO-IL MSA                                 3\n",
       "Stockton, CA MSA                                     1\n",
       "Tampa-St. Petersburg-Clearwater, FL MSA              3\n",
       "Tucson, AZ MSA                                       2\n",
       "Tulsa, OK MSA                                        2\n",
       "Urban Honolulu, HI MSA                               5\n",
       "Virginia Beach-Norfolk-Newport News, VA-NC MSA       4\n",
       "Washington-Arlington-Alexandria, DC-VA-MD-WV MSA    11\n",
       "Name: city, dtype: int64"
      ]
     },
     "execution_count": 6,
     "metadata": {},
     "output_type": "execute_result"
    }
   ],
   "source": [
    "#check to see if any mispellings are hiding duplicates\n",
    "pd.set_option('display.max_rows', None)\n",
    "users['city'].value_counts().sort_index()"
   ]
  },
  {
   "cell_type": "markdown",
   "metadata": {},
   "source": [
    "NULL VALUES: The only dataframe with null values in the Users for which `churn_date` only has 34 entries while the rest have 500. According to the explanation given, the `churn_date` is \"the date the user stopped using the service (if the value is missing, the calling plan was being used when this database was extracted)\". Therefore users with no `churn_date` are still using the service.\n",
    "\n",
    "LINKING DATAFRAMES: Each dataframe has a different number of entries. In theory, each can be combined based on the `user_id` (except for plans as this is more of a reference), but best to concatenate and ignore the common factors for the purposes of the combining (will come into play later for the analysis). While each dataframe is not missing values, combining the dataframes may reveal missing values. \n",
    "\n",
    "DATA TYPES: Each column with a date value should be changed to datetime type."
   ]
  },
  {
   "cell_type": "markdown",
   "metadata": {},
   "source": [
    "### Cleaning Data and Combining Datasets\n",
    "\n",
    "I will prepare the datasets to be combined. \n",
    "\n",
    "Steps:\n",
    "1. Change datatypes to datetime where appropriate\n",
    "2. Change the column titles for these to be the same for the messages, calls, and internet dataframes.\n",
    "3. Add column to messages, calls, and internet with the values being the title of the dataset. This way when the sets are combined, it will be easy to identify what type of use it was. \n",
    "4. Add the plan type for each user to the combined dataset.\n",
    "5. Get rid of 'MSA' from the end of each string in the City column"
   ]
  },
  {
   "cell_type": "markdown",
   "metadata": {},
   "source": [
    "#### Change columns to datetime"
   ]
  },
  {
   "cell_type": "code",
   "execution_count": 7,
   "metadata": {},
   "outputs": [
    {
     "data": {
      "text/plain": [
       "'Calls'"
      ]
     },
     "metadata": {},
     "output_type": "display_data"
    },
    {
     "data": {
      "text/plain": [
       "0   2018-12-27\n",
       "1   2018-12-27\n",
       "2   2018-12-27\n",
       "3   2018-12-28\n",
       "4   2018-12-30\n",
       "Name: date, dtype: datetime64[ns]"
      ]
     },
     "metadata": {},
     "output_type": "display_data"
    },
    {
     "data": {
      "text/plain": [
       "'Messages'"
      ]
     },
     "metadata": {},
     "output_type": "display_data"
    },
    {
     "data": {
      "text/plain": [
       "0   2018-12-27\n",
       "1   2018-12-31\n",
       "2   2018-12-31\n",
       "3   2018-12-27\n",
       "4   2018-12-26\n",
       "Name: date, dtype: datetime64[ns]"
      ]
     },
     "metadata": {},
     "output_type": "display_data"
    },
    {
     "data": {
      "text/plain": [
       "'Internet'"
      ]
     },
     "metadata": {},
     "output_type": "display_data"
    },
    {
     "data": {
      "text/plain": [
       "0   2018-12-29\n",
       "1   2018-12-31\n",
       "2   2018-12-28\n",
       "3   2018-12-26\n",
       "4   2018-12-27\n",
       "Name: date, dtype: datetime64[ns]"
      ]
     },
     "metadata": {},
     "output_type": "display_data"
    }
   ],
   "source": [
    "#Uniform date column and change to timedate\n",
    "calls['date'] =  pd.to_datetime(calls['call_date'], infer_datetime_format=True)\n",
    "messages['date'] =  pd.to_datetime(messages['message_date'], infer_datetime_format=True)\n",
    "internet['date'] =  pd.to_datetime(internet['session_date'], infer_datetime_format=True)\n",
    "\n",
    "#Check to ensure in same format\n",
    "frames = [calls, messages, internet]\n",
    "for i in frames:\n",
    "    display(i.myname,i['date'].head())"
   ]
  },
  {
   "cell_type": "code",
   "execution_count": 8,
   "metadata": {},
   "outputs": [],
   "source": [
    "#Drop the original date columns from each\n",
    "calls=calls.drop('call_date',axis=1)\n",
    "messages=messages.drop('message_date',axis=1)\n",
    "internet=internet.drop('session_date',axis=1)"
   ]
  },
  {
   "cell_type": "markdown",
   "metadata": {},
   "source": [
    "#### Prep and combine calls, messages, and internet datasets"
   ]
  },
  {
   "cell_type": "code",
   "execution_count": 9,
   "metadata": {},
   "outputs": [
    {
     "data": {
      "text/plain": [
       "'Calls'"
      ]
     },
     "metadata": {},
     "output_type": "display_data"
    },
    {
     "data": {
      "text/plain": [
       "0    calls\n",
       "1    calls\n",
       "Name: type, dtype: object"
      ]
     },
     "metadata": {},
     "output_type": "display_data"
    },
    {
     "data": {
      "text/plain": [
       "'Messages'"
      ]
     },
     "metadata": {},
     "output_type": "display_data"
    },
    {
     "data": {
      "text/plain": [
       "0    messages\n",
       "1    messages\n",
       "Name: type, dtype: object"
      ]
     },
     "metadata": {},
     "output_type": "display_data"
    },
    {
     "data": {
      "text/plain": [
       "'Internet'"
      ]
     },
     "metadata": {},
     "output_type": "display_data"
    },
    {
     "data": {
      "text/plain": [
       "0    internet\n",
       "1    internet\n",
       "Name: type, dtype: object"
      ]
     },
     "metadata": {},
     "output_type": "display_data"
    }
   ],
   "source": [
    "#Add type column to each of the 3 dataframes\n",
    "for i in frames:\n",
    "    i['type']=i.myname.lower()\n",
    "    display(i.myname,i['type'].head(2))"
   ]
  },
  {
   "cell_type": "code",
   "execution_count": 10,
   "metadata": {},
   "outputs": [
    {
     "name": "stdout",
     "output_type": "stream",
     "text": [
      "Concat worked!\n",
      "          id  user_id   call_date  duration       date   type message_date  \\\n",
      "0   1000_93     1000  2018-12-27      8.52 2018-12-27  calls          NaN   \n",
      "1  1000_145     1000  2018-12-27     13.66 2018-12-27  calls          NaN   \n",
      "2  1000_247     1000  2018-12-27     14.48 2018-12-27  calls          NaN   \n",
      "3  1000_309     1000  2018-12-28      5.76 2018-12-28  calls          NaN   \n",
      "4  1000_380     1000  2018-12-30      4.22 2018-12-30  calls          NaN   \n",
      "\n",
      "  session_date  mb_used  \n",
      "0          NaN      NaN  \n",
      "1          NaN      NaN  \n",
      "2          NaN      NaN  \n",
      "3          NaN      NaN  \n",
      "4          NaN      NaN  \n"
     ]
    }
   ],
   "source": [
    "#Concatenate dataframes\n",
    "all_uses = pd.concat(frames)\n",
    "\n",
    "if len(all_uses)==len(calls)+len(messages)+len(internet):\n",
    "    print('Concat worked!\\n', all_uses.head())\n",
    "else:\n",
    "    print('Something wrong')"
   ]
  },
  {
   "cell_type": "code",
   "execution_count": 11,
   "metadata": {},
   "outputs": [
    {
     "name": "stdout",
     "output_type": "stream",
     "text": [
      "<class 'pandas.core.frame.DataFrame'>\n",
      "Int64Index: 318611 entries, 0 to 104824\n",
      "Data columns (total 9 columns):\n",
      " #   Column        Non-Null Count   Dtype         \n",
      "---  ------        --------------   -----         \n",
      " 0   id            318611 non-null  object        \n",
      " 1   user_id       318611 non-null  int64         \n",
      " 2   call_date     137735 non-null  object        \n",
      " 3   duration      137735 non-null  float64       \n",
      " 4   date          318611 non-null  datetime64[ns]\n",
      " 5   type          318611 non-null  object        \n",
      " 6   message_date  76051 non-null   object        \n",
      " 7   session_date  104825 non-null  object        \n",
      " 8   mb_used       104825 non-null  float64       \n",
      "dtypes: datetime64[ns](1), float64(2), int64(1), object(5)\n",
      "memory usage: 24.3+ MB\n"
     ]
    }
   ],
   "source": [
    "#Checking there are null values for mb_used and duration as these only existed in one of the original dataframes, not all 3.\n",
    "all_uses.info()"
   ]
  },
  {
   "cell_type": "markdown",
   "metadata": {},
   "source": [
    "#### Add select info from remaining datasets\n",
    "\n",
    "First, I will look at the number of users in the combine dataset and compare it to the users dataset, where the plan information lives. As seen above, the users dataset contains 500 users, 34 of which are inactive. If the number of users in the combined dataset != the number of users in the users dataset, I will look at which are not found in 1 or the other."
   ]
  },
  {
   "cell_type": "code",
   "execution_count": 12,
   "metadata": {},
   "outputs": [
    {
     "name": "stdout",
     "output_type": "stream",
     "text": [
      "490\n"
     ]
    }
   ],
   "source": [
    "#Number of unique users in combined dataset\n",
    "print(all_uses['user_id'].nunique())"
   ]
  },
  {
   "cell_type": "code",
   "execution_count": 13,
   "metadata": {},
   "outputs": [
    {
     "data": {
      "text/html": [
       "<div>\n",
       "<style scoped>\n",
       "    .dataframe tbody tr th:only-of-type {\n",
       "        vertical-align: middle;\n",
       "    }\n",
       "\n",
       "    .dataframe tbody tr th {\n",
       "        vertical-align: top;\n",
       "    }\n",
       "\n",
       "    .dataframe thead th {\n",
       "        text-align: right;\n",
       "    }\n",
       "</style>\n",
       "<table border=\"1\" class=\"dataframe\">\n",
       "  <thead>\n",
       "    <tr style=\"text-align: right;\">\n",
       "      <th></th>\n",
       "      <th>user_id</th>\n",
       "      <th>first_name</th>\n",
       "      <th>last_name</th>\n",
       "      <th>age</th>\n",
       "      <th>city</th>\n",
       "      <th>reg_date</th>\n",
       "      <th>plan</th>\n",
       "      <th>churn_date</th>\n",
       "    </tr>\n",
       "  </thead>\n",
       "  <tbody>\n",
       "    <tr>\n",
       "      <th>25</th>\n",
       "      <td>1025</td>\n",
       "      <td>Jess</td>\n",
       "      <td>Wilkinson</td>\n",
       "      <td>64</td>\n",
       "      <td>Atlanta-Sandy Springs-Roswell, GA MSA</td>\n",
       "      <td>2018-10-28</td>\n",
       "      <td>ultimate</td>\n",
       "      <td>NaN</td>\n",
       "    </tr>\n",
       "    <tr>\n",
       "      <th>129</th>\n",
       "      <td>1129</td>\n",
       "      <td>Marin</td>\n",
       "      <td>Bolton</td>\n",
       "      <td>70</td>\n",
       "      <td>Baton Rouge, LA MSA</td>\n",
       "      <td>2018-11-10</td>\n",
       "      <td>surf</td>\n",
       "      <td>2018-12-27</td>\n",
       "    </tr>\n",
       "    <tr>\n",
       "      <th>143</th>\n",
       "      <td>1143</td>\n",
       "      <td>Lorina</td>\n",
       "      <td>Stevens</td>\n",
       "      <td>69</td>\n",
       "      <td>Cincinnati, OH-KY-IN MSA</td>\n",
       "      <td>2018-10-26</td>\n",
       "      <td>surf</td>\n",
       "      <td>NaN</td>\n",
       "    </tr>\n",
       "    <tr>\n",
       "      <th>269</th>\n",
       "      <td>1269</td>\n",
       "      <td>Irving</td>\n",
       "      <td>Thompson</td>\n",
       "      <td>39</td>\n",
       "      <td>Dallas-Fort Worth-Arlington, TX MSA</td>\n",
       "      <td>2018-09-13</td>\n",
       "      <td>ultimate</td>\n",
       "      <td>2018-12-15</td>\n",
       "    </tr>\n",
       "    <tr>\n",
       "      <th>275</th>\n",
       "      <td>1275</td>\n",
       "      <td>Elvie</td>\n",
       "      <td>Velazquez</td>\n",
       "      <td>33</td>\n",
       "      <td>New York-Newark-Jersey City, NY-NJ-PA MSA</td>\n",
       "      <td>2018-11-29</td>\n",
       "      <td>ultimate</td>\n",
       "      <td>NaN</td>\n",
       "    </tr>\n",
       "    <tr>\n",
       "      <th>307</th>\n",
       "      <td>1307</td>\n",
       "      <td>Kristopher</td>\n",
       "      <td>Lang</td>\n",
       "      <td>28</td>\n",
       "      <td>Boston-Cambridge-Newton, MA-NH MSA</td>\n",
       "      <td>2018-12-31</td>\n",
       "      <td>surf</td>\n",
       "      <td>NaN</td>\n",
       "    </tr>\n",
       "    <tr>\n",
       "      <th>319</th>\n",
       "      <td>1319</td>\n",
       "      <td>Eliseo</td>\n",
       "      <td>Carson</td>\n",
       "      <td>21</td>\n",
       "      <td>Colorado Springs, CO MSA</td>\n",
       "      <td>2018-06-17</td>\n",
       "      <td>surf</td>\n",
       "      <td>NaN</td>\n",
       "    </tr>\n",
       "    <tr>\n",
       "      <th>378</th>\n",
       "      <td>1378</td>\n",
       "      <td>Mckinley</td>\n",
       "      <td>Clayton</td>\n",
       "      <td>22</td>\n",
       "      <td>Denver-Aurora-Lakewood, CO MSA</td>\n",
       "      <td>2018-12-17</td>\n",
       "      <td>surf</td>\n",
       "      <td>NaN</td>\n",
       "    </tr>\n",
       "    <tr>\n",
       "      <th>463</th>\n",
       "      <td>1463</td>\n",
       "      <td>Dinorah</td>\n",
       "      <td>Simmons</td>\n",
       "      <td>30</td>\n",
       "      <td>Atlanta-Sandy Springs-Roswell, GA MSA</td>\n",
       "      <td>2018-11-27</td>\n",
       "      <td>ultimate</td>\n",
       "      <td>NaN</td>\n",
       "    </tr>\n",
       "    <tr>\n",
       "      <th>473</th>\n",
       "      <td>1473</td>\n",
       "      <td>Kirk</td>\n",
       "      <td>Velez</td>\n",
       "      <td>61</td>\n",
       "      <td>Louisville/Jefferson County, KY-IN MSA</td>\n",
       "      <td>2018-12-31</td>\n",
       "      <td>surf</td>\n",
       "      <td>NaN</td>\n",
       "    </tr>\n",
       "  </tbody>\n",
       "</table>\n",
       "</div>"
      ],
      "text/plain": [
       "     user_id  first_name  last_name  age  \\\n",
       "25      1025        Jess  Wilkinson   64   \n",
       "129     1129       Marin     Bolton   70   \n",
       "143     1143      Lorina    Stevens   69   \n",
       "269     1269      Irving   Thompson   39   \n",
       "275     1275       Elvie  Velazquez   33   \n",
       "307     1307  Kristopher       Lang   28   \n",
       "319     1319      Eliseo     Carson   21   \n",
       "378     1378    Mckinley    Clayton   22   \n",
       "463     1463     Dinorah    Simmons   30   \n",
       "473     1473        Kirk      Velez   61   \n",
       "\n",
       "                                          city    reg_date      plan  \\\n",
       "25       Atlanta-Sandy Springs-Roswell, GA MSA  2018-10-28  ultimate   \n",
       "129                        Baton Rouge, LA MSA  2018-11-10      surf   \n",
       "143                   Cincinnati, OH-KY-IN MSA  2018-10-26      surf   \n",
       "269        Dallas-Fort Worth-Arlington, TX MSA  2018-09-13  ultimate   \n",
       "275  New York-Newark-Jersey City, NY-NJ-PA MSA  2018-11-29  ultimate   \n",
       "307         Boston-Cambridge-Newton, MA-NH MSA  2018-12-31      surf   \n",
       "319                   Colorado Springs, CO MSA  2018-06-17      surf   \n",
       "378             Denver-Aurora-Lakewood, CO MSA  2018-12-17      surf   \n",
       "463      Atlanta-Sandy Springs-Roswell, GA MSA  2018-11-27  ultimate   \n",
       "473     Louisville/Jefferson County, KY-IN MSA  2018-12-31      surf   \n",
       "\n",
       "     churn_date  \n",
       "25          NaN  \n",
       "129  2018-12-27  \n",
       "143         NaN  \n",
       "269  2018-12-15  \n",
       "275         NaN  \n",
       "307         NaN  \n",
       "319         NaN  \n",
       "378         NaN  \n",
       "463         NaN  \n",
       "473         NaN  "
      ]
     },
     "execution_count": 13,
     "metadata": {},
     "output_type": "execute_result"
    }
   ],
   "source": [
    "#Identify the 10 values in users not found in all_uses\n",
    "ten_values=users[~users['user_id'].isin(all_uses['user_id'])]\n",
    "ten_values"
   ]
  },
  {
   "cell_type": "code",
   "execution_count": 14,
   "metadata": {},
   "outputs": [
    {
     "data": {
      "text/html": [
       "<div>\n",
       "<style scoped>\n",
       "    .dataframe tbody tr th:only-of-type {\n",
       "        vertical-align: middle;\n",
       "    }\n",
       "\n",
       "    .dataframe tbody tr th {\n",
       "        vertical-align: top;\n",
       "    }\n",
       "\n",
       "    .dataframe thead th {\n",
       "        text-align: right;\n",
       "    }\n",
       "</style>\n",
       "<table border=\"1\" class=\"dataframe\">\n",
       "  <thead>\n",
       "    <tr style=\"text-align: right;\">\n",
       "      <th></th>\n",
       "      <th>id</th>\n",
       "      <th>user_id</th>\n",
       "      <th>call_date</th>\n",
       "      <th>duration</th>\n",
       "      <th>date</th>\n",
       "      <th>type</th>\n",
       "      <th>message_date</th>\n",
       "      <th>session_date</th>\n",
       "      <th>mb_used</th>\n",
       "    </tr>\n",
       "  </thead>\n",
       "  <tbody>\n",
       "  </tbody>\n",
       "</table>\n",
       "</div>"
      ],
      "text/plain": [
       "Empty DataFrame\n",
       "Columns: [id, user_id, call_date, duration, date, type, message_date, session_date, mb_used]\n",
       "Index: []"
      ]
     },
     "execution_count": 14,
     "metadata": {},
     "output_type": "execute_result"
    }
   ],
   "source": [
    "#Check if any values in all_uses not in users.\n",
    "sanity_check=all_uses[~all_uses['user_id'].isin(users['user_id'])]\n",
    "sanity_check"
   ]
  },
  {
   "cell_type": "markdown",
   "metadata": {},
   "source": [
    "- I do not see anything in common among the users found in the users df but not the all_uses df. It's plausible that these users did not use their purchased plan during the timeframe of the data export."
   ]
  },
  {
   "cell_type": "code",
   "execution_count": 15,
   "metadata": {},
   "outputs": [
    {
     "name": "stdout",
     "output_type": "stream",
     "text": [
      "<class 'pandas.core.frame.DataFrame'>\n",
      "Int64Index: 318611 entries, 0 to 318610\n",
      "Data columns (total 14 columns):\n",
      " #   Column        Non-Null Count   Dtype         \n",
      "---  ------        --------------   -----         \n",
      " 0   id            318611 non-null  object        \n",
      " 1   user_id       318611 non-null  int64         \n",
      " 2   call_date     137735 non-null  object        \n",
      " 3   duration      137735 non-null  float64       \n",
      " 4   date          318611 non-null  datetime64[ns]\n",
      " 5   type          318611 non-null  object        \n",
      " 6   message_date  76051 non-null   object        \n",
      " 7   session_date  104825 non-null  object        \n",
      " 8   mb_used       104825 non-null  float64       \n",
      " 9   age           318611 non-null  int64         \n",
      " 10  city          318611 non-null  object        \n",
      " 11  reg_date      318611 non-null  object        \n",
      " 12  plan          318611 non-null  object        \n",
      " 13  churn_date    20862 non-null   object        \n",
      "dtypes: datetime64[ns](1), float64(2), int64(2), object(9)\n",
      "memory usage: 36.5+ MB\n",
      "None\n"
     ]
    },
    {
     "data": {
      "text/html": [
       "<div>\n",
       "<style scoped>\n",
       "    .dataframe tbody tr th:only-of-type {\n",
       "        vertical-align: middle;\n",
       "    }\n",
       "\n",
       "    .dataframe tbody tr th {\n",
       "        vertical-align: top;\n",
       "    }\n",
       "\n",
       "    .dataframe thead th {\n",
       "        text-align: right;\n",
       "    }\n",
       "</style>\n",
       "<table border=\"1\" class=\"dataframe\">\n",
       "  <thead>\n",
       "    <tr style=\"text-align: right;\">\n",
       "      <th></th>\n",
       "      <th>id</th>\n",
       "      <th>user_id</th>\n",
       "      <th>call_date</th>\n",
       "      <th>duration</th>\n",
       "      <th>date</th>\n",
       "      <th>type</th>\n",
       "      <th>message_date</th>\n",
       "      <th>session_date</th>\n",
       "      <th>mb_used</th>\n",
       "      <th>age</th>\n",
       "      <th>city</th>\n",
       "      <th>reg_date</th>\n",
       "      <th>plan</th>\n",
       "      <th>churn_date</th>\n",
       "    </tr>\n",
       "  </thead>\n",
       "  <tbody>\n",
       "    <tr>\n",
       "      <th>0</th>\n",
       "      <td>1000_93</td>\n",
       "      <td>1000</td>\n",
       "      <td>2018-12-27</td>\n",
       "      <td>8.52</td>\n",
       "      <td>2018-12-27</td>\n",
       "      <td>calls</td>\n",
       "      <td>NaN</td>\n",
       "      <td>NaN</td>\n",
       "      <td>NaN</td>\n",
       "      <td>45</td>\n",
       "      <td>Atlanta-Sandy Springs-Roswell, GA MSA</td>\n",
       "      <td>2018-12-24</td>\n",
       "      <td>ultimate</td>\n",
       "      <td>NaN</td>\n",
       "    </tr>\n",
       "    <tr>\n",
       "      <th>1</th>\n",
       "      <td>1000_145</td>\n",
       "      <td>1000</td>\n",
       "      <td>2018-12-27</td>\n",
       "      <td>13.66</td>\n",
       "      <td>2018-12-27</td>\n",
       "      <td>calls</td>\n",
       "      <td>NaN</td>\n",
       "      <td>NaN</td>\n",
       "      <td>NaN</td>\n",
       "      <td>45</td>\n",
       "      <td>Atlanta-Sandy Springs-Roswell, GA MSA</td>\n",
       "      <td>2018-12-24</td>\n",
       "      <td>ultimate</td>\n",
       "      <td>NaN</td>\n",
       "    </tr>\n",
       "    <tr>\n",
       "      <th>2</th>\n",
       "      <td>1000_247</td>\n",
       "      <td>1000</td>\n",
       "      <td>2018-12-27</td>\n",
       "      <td>14.48</td>\n",
       "      <td>2018-12-27</td>\n",
       "      <td>calls</td>\n",
       "      <td>NaN</td>\n",
       "      <td>NaN</td>\n",
       "      <td>NaN</td>\n",
       "      <td>45</td>\n",
       "      <td>Atlanta-Sandy Springs-Roswell, GA MSA</td>\n",
       "      <td>2018-12-24</td>\n",
       "      <td>ultimate</td>\n",
       "      <td>NaN</td>\n",
       "    </tr>\n",
       "    <tr>\n",
       "      <th>3</th>\n",
       "      <td>1000_309</td>\n",
       "      <td>1000</td>\n",
       "      <td>2018-12-28</td>\n",
       "      <td>5.76</td>\n",
       "      <td>2018-12-28</td>\n",
       "      <td>calls</td>\n",
       "      <td>NaN</td>\n",
       "      <td>NaN</td>\n",
       "      <td>NaN</td>\n",
       "      <td>45</td>\n",
       "      <td>Atlanta-Sandy Springs-Roswell, GA MSA</td>\n",
       "      <td>2018-12-24</td>\n",
       "      <td>ultimate</td>\n",
       "      <td>NaN</td>\n",
       "    </tr>\n",
       "    <tr>\n",
       "      <th>4</th>\n",
       "      <td>1000_380</td>\n",
       "      <td>1000</td>\n",
       "      <td>2018-12-30</td>\n",
       "      <td>4.22</td>\n",
       "      <td>2018-12-30</td>\n",
       "      <td>calls</td>\n",
       "      <td>NaN</td>\n",
       "      <td>NaN</td>\n",
       "      <td>NaN</td>\n",
       "      <td>45</td>\n",
       "      <td>Atlanta-Sandy Springs-Roswell, GA MSA</td>\n",
       "      <td>2018-12-24</td>\n",
       "      <td>ultimate</td>\n",
       "      <td>NaN</td>\n",
       "    </tr>\n",
       "  </tbody>\n",
       "</table>\n",
       "</div>"
      ],
      "text/plain": [
       "         id  user_id   call_date  duration       date   type message_date  \\\n",
       "0   1000_93     1000  2018-12-27      8.52 2018-12-27  calls          NaN   \n",
       "1  1000_145     1000  2018-12-27     13.66 2018-12-27  calls          NaN   \n",
       "2  1000_247     1000  2018-12-27     14.48 2018-12-27  calls          NaN   \n",
       "3  1000_309     1000  2018-12-28      5.76 2018-12-28  calls          NaN   \n",
       "4  1000_380     1000  2018-12-30      4.22 2018-12-30  calls          NaN   \n",
       "\n",
       "  session_date  mb_used  age                                   city  \\\n",
       "0          NaN      NaN   45  Atlanta-Sandy Springs-Roswell, GA MSA   \n",
       "1          NaN      NaN   45  Atlanta-Sandy Springs-Roswell, GA MSA   \n",
       "2          NaN      NaN   45  Atlanta-Sandy Springs-Roswell, GA MSA   \n",
       "3          NaN      NaN   45  Atlanta-Sandy Springs-Roswell, GA MSA   \n",
       "4          NaN      NaN   45  Atlanta-Sandy Springs-Roswell, GA MSA   \n",
       "\n",
       "     reg_date      plan churn_date  \n",
       "0  2018-12-24  ultimate        NaN  \n",
       "1  2018-12-24  ultimate        NaN  \n",
       "2  2018-12-24  ultimate        NaN  \n",
       "3  2018-12-24  ultimate        NaN  \n",
       "4  2018-12-24  ultimate        NaN  "
      ]
     },
     "execution_count": 15,
     "metadata": {},
     "output_type": "execute_result"
    }
   ],
   "source": [
    "#Create new dataset merging info from users and all_uses. \n",
    "#Drop first and last name columns because not necessary since already have a unique identifier.\n",
    "telecom_all = all_uses.merge(users, on='user_id').drop(['first_name','last_name'],axis=1)\n",
    "print(telecom_all.info())\n",
    "telecom_all.head()"
   ]
  },
  {
   "cell_type": "code",
   "execution_count": 16,
   "metadata": {
    "scrolled": true
   },
   "outputs": [
    {
     "name": "stdout",
     "output_type": "stream",
     "text": [
      "<class 'pandas.core.frame.DataFrame'>\n",
      "Int64Index: 318611 entries, 0 to 318610\n",
      "Data columns (total 15 columns):\n",
      " #   Column        Non-Null Count   Dtype         \n",
      "---  ------        --------------   -----         \n",
      " 0   id            318611 non-null  object        \n",
      " 1   user_id       318611 non-null  int64         \n",
      " 2   call_date     137735 non-null  object        \n",
      " 3   duration      137735 non-null  float64       \n",
      " 4   date          318611 non-null  datetime64[ns]\n",
      " 5   type          318611 non-null  object        \n",
      " 6   message_date  76051 non-null   object        \n",
      " 7   session_date  104825 non-null  object        \n",
      " 8   mb_used       104825 non-null  float64       \n",
      " 9   age           318611 non-null  int64         \n",
      " 10  city          318611 non-null  object        \n",
      " 11  reg_date      318611 non-null  datetime64[ns]\n",
      " 12  plan          318611 non-null  object        \n",
      " 13  churn_date    20862 non-null   datetime64[ns]\n",
      " 14  month         318611 non-null  int64         \n",
      "dtypes: datetime64[ns](3), float64(2), int64(3), object(7)\n",
      "memory usage: 38.9+ MB\n"
     ]
    }
   ],
   "source": [
    "#date columns to datetime\n",
    "telecom_all['reg_date'] =  pd.to_datetime(telecom_all['reg_date'], infer_datetime_format=True)\n",
    "telecom_all['churn_date'] =  pd.to_datetime(telecom_all['churn_date'], infer_datetime_format=True)\n",
    "\n",
    "#create month column needed for analysis\n",
    "telecom_all['month']=pd.DatetimeIndex(telecom_all['date']).month\n",
    "telecom_all.info()"
   ]
  },
  {
   "cell_type": "code",
   "execution_count": 17,
   "metadata": {},
   "outputs": [
    {
     "data": {
      "text/plain": [
       "2"
      ]
     },
     "execution_count": 17,
     "metadata": {},
     "output_type": "execute_result"
    }
   ],
   "source": [
    "#Number of unique plans in combined dataset (which should equal 2)\n",
    "telecom_all['plan'].nunique()"
   ]
  },
  {
   "cell_type": "code",
   "execution_count": 18,
   "metadata": {
    "scrolled": true
   },
   "outputs": [
    {
     "data": {
      "text/plain": [
       "Albany-Schenectady-Troy, NY           1033\n",
       "Albuquerque, NM                       1565\n",
       "Atlanta-Sandy Springs-Roswell, GA     6890\n",
       "Austin-Round Rock-Georgetown, TX      3584\n",
       "Bakersfield, CA                       1027\n",
       "Name: city, dtype: int64"
      ]
     },
     "execution_count": 18,
     "metadata": {},
     "output_type": "execute_result"
    }
   ],
   "source": [
    "#Delete \"MSA\" string from end of City values (just to make it cleaner)\n",
    "telecom_all['city']=telecom_all['city'].str.replace('MSA','')\n",
    "telecom_all['city'].value_counts().sort_index().head()"
   ]
  },
  {
   "cell_type": "code",
   "execution_count": 19,
   "metadata": {},
   "outputs": [],
   "source": [
    "telecom_all['duration']=telecom_all['duration'].apply(np.ceil)"
   ]
  },
  {
   "cell_type": "markdown",
   "metadata": {},
   "source": [
    "## Prepare Data\n",
    "\n",
    "1. Divide data depending on whether the user is from the NY-NJ area or not (to prepare for related hypothesis.)\n",
    "2. For each user, find:\n",
    "    1. The number of calls made and minutes used per month\n",
    "    2. The number of text messages sent per month\n",
    "    3. The volume of data per month\n",
    "    4. The monthly revenue from each user (subtract the free package limit from the total number of calls, text messages, and data; multiply the result by the calling plan value; add the monthly charge depending on the calling plan)"
   ]
  },
  {
   "cell_type": "markdown",
   "metadata": {},
   "source": [
    "### Divide NY-NJ"
   ]
  },
  {
   "cell_type": "code",
   "execution_count": 20,
   "metadata": {},
   "outputs": [
    {
     "data": {
      "text/html": [
       "<div>\n",
       "<style scoped>\n",
       "    .dataframe tbody tr th:only-of-type {\n",
       "        vertical-align: middle;\n",
       "    }\n",
       "\n",
       "    .dataframe tbody tr th {\n",
       "        vertical-align: top;\n",
       "    }\n",
       "\n",
       "    .dataframe thead th {\n",
       "        text-align: right;\n",
       "    }\n",
       "</style>\n",
       "<table border=\"1\" class=\"dataframe\">\n",
       "  <thead>\n",
       "    <tr style=\"text-align: right;\">\n",
       "      <th></th>\n",
       "      <th>id</th>\n",
       "      <th>user_id</th>\n",
       "      <th>call_date</th>\n",
       "      <th>duration</th>\n",
       "      <th>date</th>\n",
       "      <th>type</th>\n",
       "      <th>message_date</th>\n",
       "      <th>session_date</th>\n",
       "      <th>mb_used</th>\n",
       "      <th>age</th>\n",
       "      <th>city</th>\n",
       "      <th>reg_date</th>\n",
       "      <th>plan</th>\n",
       "      <th>churn_date</th>\n",
       "      <th>month</th>\n",
       "      <th>ny_nj</th>\n",
       "    </tr>\n",
       "  </thead>\n",
       "  <tbody>\n",
       "    <tr>\n",
       "      <th>0</th>\n",
       "      <td>1000_93</td>\n",
       "      <td>1000</td>\n",
       "      <td>2018-12-27</td>\n",
       "      <td>9.0</td>\n",
       "      <td>2018-12-27</td>\n",
       "      <td>calls</td>\n",
       "      <td>NaN</td>\n",
       "      <td>NaN</td>\n",
       "      <td>NaN</td>\n",
       "      <td>45</td>\n",
       "      <td>Atlanta-Sandy Springs-Roswell, GA</td>\n",
       "      <td>2018-12-24</td>\n",
       "      <td>ultimate</td>\n",
       "      <td>NaT</td>\n",
       "      <td>12</td>\n",
       "      <td>False</td>\n",
       "    </tr>\n",
       "    <tr>\n",
       "      <th>1</th>\n",
       "      <td>1000_145</td>\n",
       "      <td>1000</td>\n",
       "      <td>2018-12-27</td>\n",
       "      <td>14.0</td>\n",
       "      <td>2018-12-27</td>\n",
       "      <td>calls</td>\n",
       "      <td>NaN</td>\n",
       "      <td>NaN</td>\n",
       "      <td>NaN</td>\n",
       "      <td>45</td>\n",
       "      <td>Atlanta-Sandy Springs-Roswell, GA</td>\n",
       "      <td>2018-12-24</td>\n",
       "      <td>ultimate</td>\n",
       "      <td>NaT</td>\n",
       "      <td>12</td>\n",
       "      <td>False</td>\n",
       "    </tr>\n",
       "    <tr>\n",
       "      <th>2</th>\n",
       "      <td>1000_247</td>\n",
       "      <td>1000</td>\n",
       "      <td>2018-12-27</td>\n",
       "      <td>15.0</td>\n",
       "      <td>2018-12-27</td>\n",
       "      <td>calls</td>\n",
       "      <td>NaN</td>\n",
       "      <td>NaN</td>\n",
       "      <td>NaN</td>\n",
       "      <td>45</td>\n",
       "      <td>Atlanta-Sandy Springs-Roswell, GA</td>\n",
       "      <td>2018-12-24</td>\n",
       "      <td>ultimate</td>\n",
       "      <td>NaT</td>\n",
       "      <td>12</td>\n",
       "      <td>False</td>\n",
       "    </tr>\n",
       "    <tr>\n",
       "      <th>3</th>\n",
       "      <td>1000_309</td>\n",
       "      <td>1000</td>\n",
       "      <td>2018-12-28</td>\n",
       "      <td>6.0</td>\n",
       "      <td>2018-12-28</td>\n",
       "      <td>calls</td>\n",
       "      <td>NaN</td>\n",
       "      <td>NaN</td>\n",
       "      <td>NaN</td>\n",
       "      <td>45</td>\n",
       "      <td>Atlanta-Sandy Springs-Roswell, GA</td>\n",
       "      <td>2018-12-24</td>\n",
       "      <td>ultimate</td>\n",
       "      <td>NaT</td>\n",
       "      <td>12</td>\n",
       "      <td>False</td>\n",
       "    </tr>\n",
       "    <tr>\n",
       "      <th>4</th>\n",
       "      <td>1000_380</td>\n",
       "      <td>1000</td>\n",
       "      <td>2018-12-30</td>\n",
       "      <td>5.0</td>\n",
       "      <td>2018-12-30</td>\n",
       "      <td>calls</td>\n",
       "      <td>NaN</td>\n",
       "      <td>NaN</td>\n",
       "      <td>NaN</td>\n",
       "      <td>45</td>\n",
       "      <td>Atlanta-Sandy Springs-Roswell, GA</td>\n",
       "      <td>2018-12-24</td>\n",
       "      <td>ultimate</td>\n",
       "      <td>NaT</td>\n",
       "      <td>12</td>\n",
       "      <td>False</td>\n",
       "    </tr>\n",
       "  </tbody>\n",
       "</table>\n",
       "</div>"
      ],
      "text/plain": [
       "         id  user_id   call_date  duration       date   type message_date  \\\n",
       "0   1000_93     1000  2018-12-27       9.0 2018-12-27  calls          NaN   \n",
       "1  1000_145     1000  2018-12-27      14.0 2018-12-27  calls          NaN   \n",
       "2  1000_247     1000  2018-12-27      15.0 2018-12-27  calls          NaN   \n",
       "3  1000_309     1000  2018-12-28       6.0 2018-12-28  calls          NaN   \n",
       "4  1000_380     1000  2018-12-30       5.0 2018-12-30  calls          NaN   \n",
       "\n",
       "  session_date  mb_used  age                                city   reg_date  \\\n",
       "0          NaN      NaN   45  Atlanta-Sandy Springs-Roswell, GA  2018-12-24   \n",
       "1          NaN      NaN   45  Atlanta-Sandy Springs-Roswell, GA  2018-12-24   \n",
       "2          NaN      NaN   45  Atlanta-Sandy Springs-Roswell, GA  2018-12-24   \n",
       "3          NaN      NaN   45  Atlanta-Sandy Springs-Roswell, GA  2018-12-24   \n",
       "4          NaN      NaN   45  Atlanta-Sandy Springs-Roswell, GA  2018-12-24   \n",
       "\n",
       "       plan churn_date  month  ny_nj  \n",
       "0  ultimate        NaT     12  False  \n",
       "1  ultimate        NaT     12  False  \n",
       "2  ultimate        NaT     12  False  \n",
       "3  ultimate        NaT     12  False  \n",
       "4  ultimate        NaT     12  False  "
      ]
     },
     "execution_count": 20,
     "metadata": {},
     "output_type": "execute_result"
    }
   ],
   "source": [
    "def assign_nynj_status(city):\n",
    "        \n",
    "    if 'NY' in (city) or 'NJ'in (city):\n",
    "        return True \n",
    "    else: \n",
    "        return False\n",
    "   \n",
    " # Apply function assign_age_group    \n",
    "telecom_all['ny_nj']=telecom_all['city'].apply(assign_nynj_status)\n",
    "telecom_all.head()"
   ]
  },
  {
   "cell_type": "code",
   "execution_count": 21,
   "metadata": {},
   "outputs": [
    {
     "data": {
      "text/plain": [
       "array(['New York-Newark-Jersey City, NY-NJ-PA ',\n",
       "       'Philadelphia-Camden-Wilmington, PA-NJ-DE-MD ',\n",
       "       'Buffalo-Cheektowaga, NY ', 'Albany-Schenectady-Troy, NY ',\n",
       "       'Rochester, NY '], dtype=object)"
      ]
     },
     "execution_count": 21,
     "metadata": {},
     "output_type": "execute_result"
    }
   ],
   "source": [
    "#City values included in ny_nj\n",
    "telecom_all[telecom_all['ny_nj']==True]['city'].unique()"
   ]
  },
  {
   "cell_type": "markdown",
   "metadata": {},
   "source": [
    "### Metrics Per User Per Month\n",
    "\n",
    "<u>Steps</u>:\n",
    "1. Per user\n",
    "2. Billing"
   ]
  },
  {
   "cell_type": "code",
   "execution_count": 22,
   "metadata": {
    "scrolled": false
   },
   "outputs": [
    {
     "data": {
      "text/html": [
       "<div>\n",
       "<style scoped>\n",
       "    .dataframe tbody tr th:only-of-type {\n",
       "        vertical-align: middle;\n",
       "    }\n",
       "\n",
       "    .dataframe tbody tr th {\n",
       "        vertical-align: top;\n",
       "    }\n",
       "\n",
       "    .dataframe thead th {\n",
       "        text-align: right;\n",
       "    }\n",
       "</style>\n",
       "<table border=\"1\" class=\"dataframe\">\n",
       "  <thead>\n",
       "    <tr style=\"text-align: right;\">\n",
       "      <th></th>\n",
       "      <th>type</th>\n",
       "      <th>calls</th>\n",
       "      <th>internet</th>\n",
       "      <th>messages</th>\n",
       "    </tr>\n",
       "    <tr>\n",
       "      <th>user_id</th>\n",
       "      <th>month</th>\n",
       "      <th></th>\n",
       "      <th></th>\n",
       "      <th></th>\n",
       "    </tr>\n",
       "  </thead>\n",
       "  <tbody>\n",
       "    <tr>\n",
       "      <th>1000</th>\n",
       "      <th>12</th>\n",
       "      <td>16.0</td>\n",
       "      <td>5.0</td>\n",
       "      <td>11.0</td>\n",
       "    </tr>\n",
       "    <tr>\n",
       "      <th rowspan=\"5\" valign=\"top\">1001</th>\n",
       "      <th>8</th>\n",
       "      <td>27.0</td>\n",
       "      <td>25.0</td>\n",
       "      <td>30.0</td>\n",
       "    </tr>\n",
       "    <tr>\n",
       "      <th>9</th>\n",
       "      <td>49.0</td>\n",
       "      <td>53.0</td>\n",
       "      <td>44.0</td>\n",
       "    </tr>\n",
       "    <tr>\n",
       "      <th>10</th>\n",
       "      <td>65.0</td>\n",
       "      <td>56.0</td>\n",
       "      <td>53.0</td>\n",
       "    </tr>\n",
       "    <tr>\n",
       "      <th>11</th>\n",
       "      <td>64.0</td>\n",
       "      <td>51.0</td>\n",
       "      <td>36.0</td>\n",
       "    </tr>\n",
       "    <tr>\n",
       "      <th>12</th>\n",
       "      <td>56.0</td>\n",
       "      <td>60.0</td>\n",
       "      <td>44.0</td>\n",
       "    </tr>\n",
       "    <tr>\n",
       "      <th rowspan=\"3\" valign=\"top\">1002</th>\n",
       "      <th>10</th>\n",
       "      <td>11.0</td>\n",
       "      <td>21.0</td>\n",
       "      <td>15.0</td>\n",
       "    </tr>\n",
       "    <tr>\n",
       "      <th>11</th>\n",
       "      <td>55.0</td>\n",
       "      <td>52.0</td>\n",
       "      <td>32.0</td>\n",
       "    </tr>\n",
       "    <tr>\n",
       "      <th>12</th>\n",
       "      <td>47.0</td>\n",
       "      <td>51.0</td>\n",
       "      <td>41.0</td>\n",
       "    </tr>\n",
       "    <tr>\n",
       "      <th>1003</th>\n",
       "      <th>12</th>\n",
       "      <td>149.0</td>\n",
       "      <td>52.0</td>\n",
       "      <td>50.0</td>\n",
       "    </tr>\n",
       "  </tbody>\n",
       "</table>\n",
       "</div>"
      ],
      "text/plain": [
       "type           calls  internet  messages\n",
       "user_id month                           \n",
       "1000    12      16.0       5.0      11.0\n",
       "1001    8       27.0      25.0      30.0\n",
       "        9       49.0      53.0      44.0\n",
       "        10      65.0      56.0      53.0\n",
       "        11      64.0      51.0      36.0\n",
       "        12      56.0      60.0      44.0\n",
       "1002    10      11.0      21.0      15.0\n",
       "        11      55.0      52.0      32.0\n",
       "        12      47.0      51.0      41.0\n",
       "1003    12     149.0      52.0      50.0"
      ]
     },
     "execution_count": 22,
     "metadata": {},
     "output_type": "execute_result"
    }
   ],
   "source": [
    "#Breakdown of type by user\n",
    "type_pivot=telecom_all.pivot_table(index=['user_id','month'], columns='type', values='city', aggfunc='count')\n",
    "type_pivot.head(10)"
   ]
  },
  {
   "cell_type": "code",
   "execution_count": 23,
   "metadata": {},
   "outputs": [
    {
     "data": {
      "text/html": [
       "<div>\n",
       "<style scoped>\n",
       "    .dataframe tbody tr th:only-of-type {\n",
       "        vertical-align: middle;\n",
       "    }\n",
       "\n",
       "    .dataframe tbody tr th {\n",
       "        vertical-align: top;\n",
       "    }\n",
       "\n",
       "    .dataframe thead th {\n",
       "        text-align: right;\n",
       "    }\n",
       "</style>\n",
       "<table border=\"1\" class=\"dataframe\">\n",
       "  <thead>\n",
       "    <tr style=\"text-align: right;\">\n",
       "      <th></th>\n",
       "      <th></th>\n",
       "      <th>duration</th>\n",
       "      <th>mb_used</th>\n",
       "    </tr>\n",
       "    <tr>\n",
       "      <th>user_id</th>\n",
       "      <th>month</th>\n",
       "      <th></th>\n",
       "      <th></th>\n",
       "    </tr>\n",
       "  </thead>\n",
       "  <tbody>\n",
       "    <tr>\n",
       "      <th>1000</th>\n",
       "      <th>12</th>\n",
       "      <td>124.0</td>\n",
       "      <td>1901.47</td>\n",
       "    </tr>\n",
       "    <tr>\n",
       "      <th rowspan=\"4\" valign=\"top\">1001</th>\n",
       "      <th>8</th>\n",
       "      <td>182.0</td>\n",
       "      <td>6919.15</td>\n",
       "    </tr>\n",
       "    <tr>\n",
       "      <th>9</th>\n",
       "      <td>315.0</td>\n",
       "      <td>13314.82</td>\n",
       "    </tr>\n",
       "    <tr>\n",
       "      <th>10</th>\n",
       "      <td>393.0</td>\n",
       "      <td>22330.49</td>\n",
       "    </tr>\n",
       "    <tr>\n",
       "      <th>11</th>\n",
       "      <td>426.0</td>\n",
       "      <td>18504.30</td>\n",
       "    </tr>\n",
       "  </tbody>\n",
       "</table>\n",
       "</div>"
      ],
      "text/plain": [
       "               duration   mb_used\n",
       "user_id month                    \n",
       "1000    12        124.0   1901.47\n",
       "1001    8         182.0   6919.15\n",
       "        9         315.0  13314.82\n",
       "        10        393.0  22330.49\n",
       "        11        426.0  18504.30"
      ]
     },
     "execution_count": 23,
     "metadata": {},
     "output_type": "execute_result"
    }
   ],
   "source": [
    "#Number of calls made and duration by user per month.\n",
    "use_pivot=telecom_all.pivot_table(index=['user_id','month'], values=['mb_used','duration'], aggfunc='sum')\n",
    "use_pivot.head()"
   ]
  },
  {
   "cell_type": "code",
   "execution_count": 24,
   "metadata": {},
   "outputs": [
    {
     "data": {
      "text/html": [
       "<div>\n",
       "<style scoped>\n",
       "    .dataframe tbody tr th:only-of-type {\n",
       "        vertical-align: middle;\n",
       "    }\n",
       "\n",
       "    .dataframe tbody tr th {\n",
       "        vertical-align: top;\n",
       "    }\n",
       "\n",
       "    .dataframe thead th {\n",
       "        text-align: right;\n",
       "    }\n",
       "</style>\n",
       "<table border=\"1\" class=\"dataframe\">\n",
       "  <thead>\n",
       "    <tr style=\"text-align: right;\">\n",
       "      <th></th>\n",
       "      <th></th>\n",
       "      <th>calls</th>\n",
       "      <th>internet</th>\n",
       "      <th>messages</th>\n",
       "      <th>duration</th>\n",
       "      <th>mb_used</th>\n",
       "    </tr>\n",
       "    <tr>\n",
       "      <th>user_id</th>\n",
       "      <th>month</th>\n",
       "      <th></th>\n",
       "      <th></th>\n",
       "      <th></th>\n",
       "      <th></th>\n",
       "      <th></th>\n",
       "    </tr>\n",
       "  </thead>\n",
       "  <tbody>\n",
       "    <tr>\n",
       "      <th>1000</th>\n",
       "      <th>12</th>\n",
       "      <td>16.0</td>\n",
       "      <td>5.0</td>\n",
       "      <td>11.0</td>\n",
       "      <td>124.0</td>\n",
       "      <td>1901.47</td>\n",
       "    </tr>\n",
       "    <tr>\n",
       "      <th rowspan=\"4\" valign=\"top\">1001</th>\n",
       "      <th>8</th>\n",
       "      <td>27.0</td>\n",
       "      <td>25.0</td>\n",
       "      <td>30.0</td>\n",
       "      <td>182.0</td>\n",
       "      <td>6919.15</td>\n",
       "    </tr>\n",
       "    <tr>\n",
       "      <th>9</th>\n",
       "      <td>49.0</td>\n",
       "      <td>53.0</td>\n",
       "      <td>44.0</td>\n",
       "      <td>315.0</td>\n",
       "      <td>13314.82</td>\n",
       "    </tr>\n",
       "    <tr>\n",
       "      <th>10</th>\n",
       "      <td>65.0</td>\n",
       "      <td>56.0</td>\n",
       "      <td>53.0</td>\n",
       "      <td>393.0</td>\n",
       "      <td>22330.49</td>\n",
       "    </tr>\n",
       "    <tr>\n",
       "      <th>11</th>\n",
       "      <td>64.0</td>\n",
       "      <td>51.0</td>\n",
       "      <td>36.0</td>\n",
       "      <td>426.0</td>\n",
       "      <td>18504.30</td>\n",
       "    </tr>\n",
       "  </tbody>\n",
       "</table>\n",
       "</div>"
      ],
      "text/plain": [
       "               calls  internet  messages  duration   mb_used\n",
       "user_id month                                               \n",
       "1000    12      16.0       5.0      11.0     124.0   1901.47\n",
       "1001    8       27.0      25.0      30.0     182.0   6919.15\n",
       "        9       49.0      53.0      44.0     315.0  13314.82\n",
       "        10      65.0      56.0      53.0     393.0  22330.49\n",
       "        11      64.0      51.0      36.0     426.0  18504.30"
      ]
     },
     "execution_count": 24,
     "metadata": {},
     "output_type": "execute_result"
    }
   ],
   "source": [
    "#Merge pivots\n",
    "user_merge=type_pivot.merge(use_pivot,on=['user_id','month'])\n",
    "user_merge.head()"
   ]
  },
  {
   "cell_type": "code",
   "execution_count": 25,
   "metadata": {},
   "outputs": [
    {
     "name": "stdout",
     "output_type": "stream",
     "text": [
      "490\n"
     ]
    },
    {
     "data": {
      "text/html": [
       "<div>\n",
       "<style scoped>\n",
       "    .dataframe tbody tr th:only-of-type {\n",
       "        vertical-align: middle;\n",
       "    }\n",
       "\n",
       "    .dataframe tbody tr th {\n",
       "        vertical-align: top;\n",
       "    }\n",
       "\n",
       "    .dataframe thead th {\n",
       "        text-align: right;\n",
       "    }\n",
       "</style>\n",
       "<table border=\"1\" class=\"dataframe\">\n",
       "  <thead>\n",
       "    <tr style=\"text-align: right;\">\n",
       "      <th></th>\n",
       "      <th>user_id</th>\n",
       "      <th>month</th>\n",
       "      <th>calls</th>\n",
       "      <th>internet</th>\n",
       "      <th>messages</th>\n",
       "      <th>duration</th>\n",
       "      <th>mb_used</th>\n",
       "      <th>plan</th>\n",
       "      <th>ny_nj</th>\n",
       "    </tr>\n",
       "  </thead>\n",
       "  <tbody>\n",
       "    <tr>\n",
       "      <th>0</th>\n",
       "      <td>1000</td>\n",
       "      <td>12</td>\n",
       "      <td>16.0</td>\n",
       "      <td>5.0</td>\n",
       "      <td>11.0</td>\n",
       "      <td>124.0</td>\n",
       "      <td>1901.47</td>\n",
       "      <td>ultimate</td>\n",
       "      <td>False</td>\n",
       "    </tr>\n",
       "    <tr>\n",
       "      <th>1</th>\n",
       "      <td>1001</td>\n",
       "      <td>8</td>\n",
       "      <td>27.0</td>\n",
       "      <td>25.0</td>\n",
       "      <td>30.0</td>\n",
       "      <td>182.0</td>\n",
       "      <td>6919.15</td>\n",
       "      <td>surf</td>\n",
       "      <td>False</td>\n",
       "    </tr>\n",
       "    <tr>\n",
       "      <th>2</th>\n",
       "      <td>1001</td>\n",
       "      <td>9</td>\n",
       "      <td>49.0</td>\n",
       "      <td>53.0</td>\n",
       "      <td>44.0</td>\n",
       "      <td>315.0</td>\n",
       "      <td>13314.82</td>\n",
       "      <td>surf</td>\n",
       "      <td>False</td>\n",
       "    </tr>\n",
       "    <tr>\n",
       "      <th>3</th>\n",
       "      <td>1001</td>\n",
       "      <td>10</td>\n",
       "      <td>65.0</td>\n",
       "      <td>56.0</td>\n",
       "      <td>53.0</td>\n",
       "      <td>393.0</td>\n",
       "      <td>22330.49</td>\n",
       "      <td>surf</td>\n",
       "      <td>False</td>\n",
       "    </tr>\n",
       "    <tr>\n",
       "      <th>4</th>\n",
       "      <td>1001</td>\n",
       "      <td>11</td>\n",
       "      <td>64.0</td>\n",
       "      <td>51.0</td>\n",
       "      <td>36.0</td>\n",
       "      <td>426.0</td>\n",
       "      <td>18504.30</td>\n",
       "      <td>surf</td>\n",
       "      <td>False</td>\n",
       "    </tr>\n",
       "  </tbody>\n",
       "</table>\n",
       "</div>"
      ],
      "text/plain": [
       "   user_id  month  calls  internet  messages  duration   mb_used      plan  \\\n",
       "0     1000     12   16.0       5.0      11.0     124.0   1901.47  ultimate   \n",
       "1     1001      8   27.0      25.0      30.0     182.0   6919.15      surf   \n",
       "2     1001      9   49.0      53.0      44.0     315.0  13314.82      surf   \n",
       "3     1001     10   65.0      56.0      53.0     393.0  22330.49      surf   \n",
       "4     1001     11   64.0      51.0      36.0     426.0  18504.30      surf   \n",
       "\n",
       "   ny_nj  \n",
       "0  False  \n",
       "1  False  \n",
       "2  False  \n",
       "3  False  \n",
       "4  False  "
      ]
     },
     "execution_count": 25,
     "metadata": {},
     "output_type": "execute_result"
    }
   ],
   "source": [
    "#merge with other useful info from telecom_all dataset\n",
    "final_data=user_merge.merge(telecom_all[['plan','ny_nj','user_id','month']], on=['user_id','month'], how='left').drop_duplicates().reset_index().drop('index',axis=1)\n",
    "print(final_data['user_id'].nunique())\n",
    "final_data.head()"
   ]
  },
  {
   "cell_type": "code",
   "execution_count": 26,
   "metadata": {
    "scrolled": true
   },
   "outputs": [
    {
     "data": {
      "text/html": [
       "<div>\n",
       "<style scoped>\n",
       "    .dataframe tbody tr th:only-of-type {\n",
       "        vertical-align: middle;\n",
       "    }\n",
       "\n",
       "    .dataframe tbody tr th {\n",
       "        vertical-align: top;\n",
       "    }\n",
       "\n",
       "    .dataframe thead th {\n",
       "        text-align: right;\n",
       "    }\n",
       "</style>\n",
       "<table border=\"1\" class=\"dataframe\">\n",
       "  <thead>\n",
       "    <tr style=\"text-align: right;\">\n",
       "      <th></th>\n",
       "      <th>count</th>\n",
       "      <th>mean</th>\n",
       "      <th>std</th>\n",
       "      <th>min</th>\n",
       "      <th>25%</th>\n",
       "      <th>50%</th>\n",
       "      <th>75%</th>\n",
       "      <th>max</th>\n",
       "    </tr>\n",
       "  </thead>\n",
       "  <tbody>\n",
       "    <tr>\n",
       "      <th>user_id</th>\n",
       "      <td>2293.0</td>\n",
       "      <td>1246.075883</td>\n",
       "      <td>143.051927</td>\n",
       "      <td>1000.0</td>\n",
       "      <td>1122.00</td>\n",
       "      <td>1245.00</td>\n",
       "      <td>1368.00</td>\n",
       "      <td>1499.00</td>\n",
       "    </tr>\n",
       "    <tr>\n",
       "      <th>month</th>\n",
       "      <td>2293.0</td>\n",
       "      <td>9.172700</td>\n",
       "      <td>2.496386</td>\n",
       "      <td>1.0</td>\n",
       "      <td>8.00</td>\n",
       "      <td>10.00</td>\n",
       "      <td>11.00</td>\n",
       "      <td>12.00</td>\n",
       "    </tr>\n",
       "    <tr>\n",
       "      <th>calls</th>\n",
       "      <td>2258.0</td>\n",
       "      <td>60.998671</td>\n",
       "      <td>31.770869</td>\n",
       "      <td>1.0</td>\n",
       "      <td>39.00</td>\n",
       "      <td>60.00</td>\n",
       "      <td>80.00</td>\n",
       "      <td>205.00</td>\n",
       "    </tr>\n",
       "    <tr>\n",
       "      <th>internet</th>\n",
       "      <td>2277.0</td>\n",
       "      <td>46.036451</td>\n",
       "      <td>19.275885</td>\n",
       "      <td>1.0</td>\n",
       "      <td>35.00</td>\n",
       "      <td>48.00</td>\n",
       "      <td>58.00</td>\n",
       "      <td>138.00</td>\n",
       "    </tr>\n",
       "    <tr>\n",
       "      <th>messages</th>\n",
       "      <td>1806.0</td>\n",
       "      <td>42.110188</td>\n",
       "      <td>33.122931</td>\n",
       "      <td>1.0</td>\n",
       "      <td>17.00</td>\n",
       "      <td>34.00</td>\n",
       "      <td>59.00</td>\n",
       "      <td>266.00</td>\n",
       "    </tr>\n",
       "    <tr>\n",
       "      <th>duration</th>\n",
       "      <td>2293.0</td>\n",
       "      <td>429.283471</td>\n",
       "      <td>236.320077</td>\n",
       "      <td>0.0</td>\n",
       "      <td>265.00</td>\n",
       "      <td>425.00</td>\n",
       "      <td>572.00</td>\n",
       "      <td>1510.00</td>\n",
       "    </tr>\n",
       "    <tr>\n",
       "      <th>mb_used</th>\n",
       "      <td>2293.0</td>\n",
       "      <td>16764.397606</td>\n",
       "      <td>7967.237527</td>\n",
       "      <td>0.0</td>\n",
       "      <td>12235.76</td>\n",
       "      <td>16830.64</td>\n",
       "      <td>20999.84</td>\n",
       "      <td>70931.59</td>\n",
       "    </tr>\n",
       "  </tbody>\n",
       "</table>\n",
       "</div>"
      ],
      "text/plain": [
       "           count          mean          std     min       25%       50%  \\\n",
       "user_id   2293.0   1246.075883   143.051927  1000.0   1122.00   1245.00   \n",
       "month     2293.0      9.172700     2.496386     1.0      8.00     10.00   \n",
       "calls     2258.0     60.998671    31.770869     1.0     39.00     60.00   \n",
       "internet  2277.0     46.036451    19.275885     1.0     35.00     48.00   \n",
       "messages  1806.0     42.110188    33.122931     1.0     17.00     34.00   \n",
       "duration  2293.0    429.283471   236.320077     0.0    265.00    425.00   \n",
       "mb_used   2293.0  16764.397606  7967.237527     0.0  12235.76  16830.64   \n",
       "\n",
       "               75%       max  \n",
       "user_id    1368.00   1499.00  \n",
       "month        11.00     12.00  \n",
       "calls        80.00    205.00  \n",
       "internet     58.00    138.00  \n",
       "messages     59.00    266.00  \n",
       "duration    572.00   1510.00  \n",
       "mb_used   20999.84  70931.59  "
      ]
     },
     "execution_count": 26,
     "metadata": {},
     "output_type": "execute_result"
    }
   ],
   "source": [
    "final_data.describe().T"
   ]
  },
  {
   "cell_type": "code",
   "execution_count": 27,
   "metadata": {},
   "outputs": [
    {
     "data": {
      "text/html": [
       "<div>\n",
       "<style scoped>\n",
       "    .dataframe tbody tr th:only-of-type {\n",
       "        vertical-align: middle;\n",
       "    }\n",
       "\n",
       "    .dataframe tbody tr th {\n",
       "        vertical-align: top;\n",
       "    }\n",
       "\n",
       "    .dataframe thead th {\n",
       "        text-align: right;\n",
       "    }\n",
       "</style>\n",
       "<table border=\"1\" class=\"dataframe\">\n",
       "  <thead>\n",
       "    <tr style=\"text-align: right;\">\n",
       "      <th></th>\n",
       "      <th>user_id</th>\n",
       "      <th>month</th>\n",
       "      <th>calls</th>\n",
       "      <th>internet</th>\n",
       "      <th>messages</th>\n",
       "      <th>duration</th>\n",
       "      <th>mb_used</th>\n",
       "      <th>plan</th>\n",
       "      <th>ny_nj</th>\n",
       "    </tr>\n",
       "  </thead>\n",
       "  <tbody>\n",
       "    <tr>\n",
       "      <th>0</th>\n",
       "      <td>1000</td>\n",
       "      <td>12</td>\n",
       "      <td>16.0</td>\n",
       "      <td>5.0</td>\n",
       "      <td>11.0</td>\n",
       "      <td>124.0</td>\n",
       "      <td>1901.47</td>\n",
       "      <td>ultimate</td>\n",
       "      <td>False</td>\n",
       "    </tr>\n",
       "    <tr>\n",
       "      <th>1</th>\n",
       "      <td>1001</td>\n",
       "      <td>8</td>\n",
       "      <td>27.0</td>\n",
       "      <td>25.0</td>\n",
       "      <td>30.0</td>\n",
       "      <td>182.0</td>\n",
       "      <td>6919.15</td>\n",
       "      <td>surf</td>\n",
       "      <td>False</td>\n",
       "    </tr>\n",
       "    <tr>\n",
       "      <th>2</th>\n",
       "      <td>1001</td>\n",
       "      <td>9</td>\n",
       "      <td>49.0</td>\n",
       "      <td>53.0</td>\n",
       "      <td>44.0</td>\n",
       "      <td>315.0</td>\n",
       "      <td>13314.82</td>\n",
       "      <td>surf</td>\n",
       "      <td>False</td>\n",
       "    </tr>\n",
       "    <tr>\n",
       "      <th>3</th>\n",
       "      <td>1001</td>\n",
       "      <td>10</td>\n",
       "      <td>65.0</td>\n",
       "      <td>56.0</td>\n",
       "      <td>53.0</td>\n",
       "      <td>393.0</td>\n",
       "      <td>22330.49</td>\n",
       "      <td>surf</td>\n",
       "      <td>False</td>\n",
       "    </tr>\n",
       "    <tr>\n",
       "      <th>4</th>\n",
       "      <td>1001</td>\n",
       "      <td>11</td>\n",
       "      <td>64.0</td>\n",
       "      <td>51.0</td>\n",
       "      <td>36.0</td>\n",
       "      <td>426.0</td>\n",
       "      <td>18504.30</td>\n",
       "      <td>surf</td>\n",
       "      <td>False</td>\n",
       "    </tr>\n",
       "  </tbody>\n",
       "</table>\n",
       "</div>"
      ],
      "text/plain": [
       "   user_id  month  calls  internet  messages  duration   mb_used      plan  \\\n",
       "0     1000     12   16.0       5.0      11.0     124.0   1901.47  ultimate   \n",
       "1     1001      8   27.0      25.0      30.0     182.0   6919.15      surf   \n",
       "2     1001      9   49.0      53.0      44.0     315.0  13314.82      surf   \n",
       "3     1001     10   65.0      56.0      53.0     393.0  22330.49      surf   \n",
       "4     1001     11   64.0      51.0      36.0     426.0  18504.30      surf   \n",
       "\n",
       "   ny_nj  \n",
       "0  False  \n",
       "1  False  \n",
       "2  False  \n",
       "3  False  \n",
       "4  False  "
      ]
     },
     "execution_count": 27,
     "metadata": {},
     "output_type": "execute_result"
    }
   ],
   "source": [
    "#Round up duration column as fraction of minute counts as a minute for billing\n",
    "final_data['duration']=final_data['duration'].apply(np.ceil)\n",
    "final_data.head()"
   ]
  },
  {
   "cell_type": "code",
   "execution_count": 28,
   "metadata": {},
   "outputs": [
    {
     "name": "stdout",
     "output_type": "stream",
     "text": [
      "Duration max for surf:\n",
      " 1510.0\n",
      "\n",
      "Duration max for ultimate:\n",
      " 1369.0\n"
     ]
    }
   ],
   "source": [
    "#max duration based on plan\n",
    "print('Duration max for surf:\\n',final_data.query('plan==\"surf\"')['duration'].max())\n",
    "print()\n",
    "print('Duration max for ultimate:\\n',final_data.query('plan==\"ultimate\"')['duration'].max())"
   ]
  },
  {
   "cell_type": "markdown",
   "metadata": {},
   "source": [
    "With a duration max of 1369, no user with the ultimate plan would exceed their free package."
   ]
  },
  {
   "cell_type": "code",
   "execution_count": 29,
   "metadata": {},
   "outputs": [
    {
     "data": {
      "text/html": [
       "<div>\n",
       "<style scoped>\n",
       "    .dataframe tbody tr th:only-of-type {\n",
       "        vertical-align: middle;\n",
       "    }\n",
       "\n",
       "    .dataframe tbody tr th {\n",
       "        vertical-align: top;\n",
       "    }\n",
       "\n",
       "    .dataframe thead th {\n",
       "        text-align: right;\n",
       "    }\n",
       "</style>\n",
       "<table border=\"1\" class=\"dataframe\">\n",
       "  <thead>\n",
       "    <tr style=\"text-align: right;\">\n",
       "      <th></th>\n",
       "      <th>user_id</th>\n",
       "      <th>month</th>\n",
       "      <th>calls</th>\n",
       "      <th>internet</th>\n",
       "      <th>messages</th>\n",
       "      <th>duration</th>\n",
       "      <th>mb_used</th>\n",
       "      <th>new_dur</th>\n",
       "    </tr>\n",
       "  </thead>\n",
       "  <tbody>\n",
       "    <tr>\n",
       "      <th>count</th>\n",
       "      <td>2293.000000</td>\n",
       "      <td>2293.000000</td>\n",
       "      <td>2258.000000</td>\n",
       "      <td>2277.000000</td>\n",
       "      <td>1806.000000</td>\n",
       "      <td>2293.000000</td>\n",
       "      <td>2293.000000</td>\n",
       "      <td>2293.000000</td>\n",
       "    </tr>\n",
       "    <tr>\n",
       "      <th>mean</th>\n",
       "      <td>1246.075883</td>\n",
       "      <td>9.172700</td>\n",
       "      <td>60.998671</td>\n",
       "      <td>46.036451</td>\n",
       "      <td>42.110188</td>\n",
       "      <td>429.283471</td>\n",
       "      <td>16764.397606</td>\n",
       "      <td>42.160925</td>\n",
       "    </tr>\n",
       "    <tr>\n",
       "      <th>std</th>\n",
       "      <td>143.051927</td>\n",
       "      <td>2.496386</td>\n",
       "      <td>31.770869</td>\n",
       "      <td>19.275885</td>\n",
       "      <td>33.122931</td>\n",
       "      <td>236.320077</td>\n",
       "      <td>7967.237527</td>\n",
       "      <td>107.799717</td>\n",
       "    </tr>\n",
       "    <tr>\n",
       "      <th>min</th>\n",
       "      <td>1000.000000</td>\n",
       "      <td>1.000000</td>\n",
       "      <td>1.000000</td>\n",
       "      <td>1.000000</td>\n",
       "      <td>1.000000</td>\n",
       "      <td>0.000000</td>\n",
       "      <td>0.000000</td>\n",
       "      <td>0.000000</td>\n",
       "    </tr>\n",
       "    <tr>\n",
       "      <th>25%</th>\n",
       "      <td>1122.000000</td>\n",
       "      <td>8.000000</td>\n",
       "      <td>39.000000</td>\n",
       "      <td>35.000000</td>\n",
       "      <td>17.000000</td>\n",
       "      <td>265.000000</td>\n",
       "      <td>12235.760000</td>\n",
       "      <td>0.000000</td>\n",
       "    </tr>\n",
       "    <tr>\n",
       "      <th>50%</th>\n",
       "      <td>1245.000000</td>\n",
       "      <td>10.000000</td>\n",
       "      <td>60.000000</td>\n",
       "      <td>48.000000</td>\n",
       "      <td>34.000000</td>\n",
       "      <td>425.000000</td>\n",
       "      <td>16830.640000</td>\n",
       "      <td>0.000000</td>\n",
       "    </tr>\n",
       "    <tr>\n",
       "      <th>75%</th>\n",
       "      <td>1368.000000</td>\n",
       "      <td>11.000000</td>\n",
       "      <td>80.000000</td>\n",
       "      <td>58.000000</td>\n",
       "      <td>59.000000</td>\n",
       "      <td>572.000000</td>\n",
       "      <td>20999.840000</td>\n",
       "      <td>0.000000</td>\n",
       "    </tr>\n",
       "    <tr>\n",
       "      <th>max</th>\n",
       "      <td>1499.000000</td>\n",
       "      <td>12.000000</td>\n",
       "      <td>205.000000</td>\n",
       "      <td>138.000000</td>\n",
       "      <td>266.000000</td>\n",
       "      <td>1510.000000</td>\n",
       "      <td>70931.590000</td>\n",
       "      <td>1010.000000</td>\n",
       "    </tr>\n",
       "  </tbody>\n",
       "</table>\n",
       "</div>"
      ],
      "text/plain": [
       "           user_id        month        calls     internet     messages  \\\n",
       "count  2293.000000  2293.000000  2258.000000  2277.000000  1806.000000   \n",
       "mean   1246.075883     9.172700    60.998671    46.036451    42.110188   \n",
       "std     143.051927     2.496386    31.770869    19.275885    33.122931   \n",
       "min    1000.000000     1.000000     1.000000     1.000000     1.000000   \n",
       "25%    1122.000000     8.000000    39.000000    35.000000    17.000000   \n",
       "50%    1245.000000    10.000000    60.000000    48.000000    34.000000   \n",
       "75%    1368.000000    11.000000    80.000000    58.000000    59.000000   \n",
       "max    1499.000000    12.000000   205.000000   138.000000   266.000000   \n",
       "\n",
       "          duration       mb_used      new_dur  \n",
       "count  2293.000000   2293.000000  2293.000000  \n",
       "mean    429.283471  16764.397606    42.160925  \n",
       "std     236.320077   7967.237527   107.799717  \n",
       "min       0.000000      0.000000     0.000000  \n",
       "25%     265.000000  12235.760000     0.000000  \n",
       "50%     425.000000  16830.640000     0.000000  \n",
       "75%     572.000000  20999.840000     0.000000  \n",
       "max    1510.000000  70931.590000  1010.000000  "
      ]
     },
     "execution_count": 29,
     "metadata": {},
     "output_type": "execute_result"
    }
   ],
   "source": [
    "#Duration after free package\n",
    "final_data['new_dur'] = np.where(final_data['plan']== 'surf', final_data['duration']-500, final_data['duration']-3000).clip(min=0)\n",
    "final_data.describe()"
   ]
  },
  {
   "cell_type": "code",
   "execution_count": 30,
   "metadata": {},
   "outputs": [
    {
     "name": "stdout",
     "output_type": "stream",
     "text": [
      "Messages max for surf:\n",
      " 266.0\n",
      "\n",
      "Messages max for ultimate:\n",
      " 166.0\n"
     ]
    }
   ],
   "source": [
    "#max messages based on plan\n",
    "print('Messages max for surf:\\n',final_data.query('plan==\"surf\"')['messages'].max())\n",
    "print()\n",
    "print('Messages max for ultimate:\\n',final_data.query('plan==\"ultimate\"')['messages'].max())"
   ]
  },
  {
   "cell_type": "markdown",
   "metadata": {},
   "source": [
    "With a message max of 166, no user with the ultimate plan would exceed their free package."
   ]
  },
  {
   "cell_type": "code",
   "execution_count": 31,
   "metadata": {},
   "outputs": [
    {
     "data": {
      "text/html": [
       "<div>\n",
       "<style scoped>\n",
       "    .dataframe tbody tr th:only-of-type {\n",
       "        vertical-align: middle;\n",
       "    }\n",
       "\n",
       "    .dataframe tbody tr th {\n",
       "        vertical-align: top;\n",
       "    }\n",
       "\n",
       "    .dataframe thead th {\n",
       "        text-align: right;\n",
       "    }\n",
       "</style>\n",
       "<table border=\"1\" class=\"dataframe\">\n",
       "  <thead>\n",
       "    <tr style=\"text-align: right;\">\n",
       "      <th></th>\n",
       "      <th>user_id</th>\n",
       "      <th>month</th>\n",
       "      <th>calls</th>\n",
       "      <th>internet</th>\n",
       "      <th>messages</th>\n",
       "      <th>duration</th>\n",
       "      <th>mb_used</th>\n",
       "      <th>new_dur</th>\n",
       "      <th>new_mess</th>\n",
       "    </tr>\n",
       "  </thead>\n",
       "  <tbody>\n",
       "    <tr>\n",
       "      <th>count</th>\n",
       "      <td>2293.000000</td>\n",
       "      <td>2293.000000</td>\n",
       "      <td>2258.000000</td>\n",
       "      <td>2277.000000</td>\n",
       "      <td>1806.000000</td>\n",
       "      <td>2293.000000</td>\n",
       "      <td>2293.000000</td>\n",
       "      <td>2293.000000</td>\n",
       "      <td>1806.000000</td>\n",
       "    </tr>\n",
       "    <tr>\n",
       "      <th>mean</th>\n",
       "      <td>1246.075883</td>\n",
       "      <td>9.172700</td>\n",
       "      <td>60.998671</td>\n",
       "      <td>46.036451</td>\n",
       "      <td>42.110188</td>\n",
       "      <td>429.283471</td>\n",
       "      <td>16764.397606</td>\n",
       "      <td>42.160925</td>\n",
       "      <td>6.107973</td>\n",
       "    </tr>\n",
       "    <tr>\n",
       "      <th>std</th>\n",
       "      <td>143.051927</td>\n",
       "      <td>2.496386</td>\n",
       "      <td>31.770869</td>\n",
       "      <td>19.275885</td>\n",
       "      <td>33.122931</td>\n",
       "      <td>236.320077</td>\n",
       "      <td>7967.237527</td>\n",
       "      <td>107.799717</td>\n",
       "      <td>18.322291</td>\n",
       "    </tr>\n",
       "    <tr>\n",
       "      <th>min</th>\n",
       "      <td>1000.000000</td>\n",
       "      <td>1.000000</td>\n",
       "      <td>1.000000</td>\n",
       "      <td>1.000000</td>\n",
       "      <td>1.000000</td>\n",
       "      <td>0.000000</td>\n",
       "      <td>0.000000</td>\n",
       "      <td>0.000000</td>\n",
       "      <td>0.000000</td>\n",
       "    </tr>\n",
       "    <tr>\n",
       "      <th>25%</th>\n",
       "      <td>1122.000000</td>\n",
       "      <td>8.000000</td>\n",
       "      <td>39.000000</td>\n",
       "      <td>35.000000</td>\n",
       "      <td>17.000000</td>\n",
       "      <td>265.000000</td>\n",
       "      <td>12235.760000</td>\n",
       "      <td>0.000000</td>\n",
       "      <td>0.000000</td>\n",
       "    </tr>\n",
       "    <tr>\n",
       "      <th>50%</th>\n",
       "      <td>1245.000000</td>\n",
       "      <td>10.000000</td>\n",
       "      <td>60.000000</td>\n",
       "      <td>48.000000</td>\n",
       "      <td>34.000000</td>\n",
       "      <td>425.000000</td>\n",
       "      <td>16830.640000</td>\n",
       "      <td>0.000000</td>\n",
       "      <td>0.000000</td>\n",
       "    </tr>\n",
       "    <tr>\n",
       "      <th>75%</th>\n",
       "      <td>1368.000000</td>\n",
       "      <td>11.000000</td>\n",
       "      <td>80.000000</td>\n",
       "      <td>58.000000</td>\n",
       "      <td>59.000000</td>\n",
       "      <td>572.000000</td>\n",
       "      <td>20999.840000</td>\n",
       "      <td>0.000000</td>\n",
       "      <td>0.000000</td>\n",
       "    </tr>\n",
       "    <tr>\n",
       "      <th>max</th>\n",
       "      <td>1499.000000</td>\n",
       "      <td>12.000000</td>\n",
       "      <td>205.000000</td>\n",
       "      <td>138.000000</td>\n",
       "      <td>266.000000</td>\n",
       "      <td>1510.000000</td>\n",
       "      <td>70931.590000</td>\n",
       "      <td>1010.000000</td>\n",
       "      <td>216.000000</td>\n",
       "    </tr>\n",
       "  </tbody>\n",
       "</table>\n",
       "</div>"
      ],
      "text/plain": [
       "           user_id        month        calls     internet     messages  \\\n",
       "count  2293.000000  2293.000000  2258.000000  2277.000000  1806.000000   \n",
       "mean   1246.075883     9.172700    60.998671    46.036451    42.110188   \n",
       "std     143.051927     2.496386    31.770869    19.275885    33.122931   \n",
       "min    1000.000000     1.000000     1.000000     1.000000     1.000000   \n",
       "25%    1122.000000     8.000000    39.000000    35.000000    17.000000   \n",
       "50%    1245.000000    10.000000    60.000000    48.000000    34.000000   \n",
       "75%    1368.000000    11.000000    80.000000    58.000000    59.000000   \n",
       "max    1499.000000    12.000000   205.000000   138.000000   266.000000   \n",
       "\n",
       "          duration       mb_used      new_dur     new_mess  \n",
       "count  2293.000000   2293.000000  2293.000000  1806.000000  \n",
       "mean    429.283471  16764.397606    42.160925     6.107973  \n",
       "std     236.320077   7967.237527   107.799717    18.322291  \n",
       "min       0.000000      0.000000     0.000000     0.000000  \n",
       "25%     265.000000  12235.760000     0.000000     0.000000  \n",
       "50%     425.000000  16830.640000     0.000000     0.000000  \n",
       "75%     572.000000  20999.840000     0.000000     0.000000  \n",
       "max    1510.000000  70931.590000  1010.000000   216.000000  "
      ]
     },
     "execution_count": 31,
     "metadata": {},
     "output_type": "execute_result"
    }
   ],
   "source": [
    "#Messages after free package\n",
    "final_data['new_mess'] = np.where(final_data['plan']== 'surf', \n",
    "                                  final_data['messages']-50, \n",
    "                                  final_data['messages']-1000).clip(min=0)\n",
    "final_data.describe()"
   ]
  },
  {
   "cell_type": "code",
   "execution_count": 32,
   "metadata": {},
   "outputs": [
    {
     "name": "stdout",
     "output_type": "stream",
     "text": [
      "4000\n"
     ]
    },
    {
     "data": {
      "text/html": [
       "<div>\n",
       "<style scoped>\n",
       "    .dataframe tbody tr th:only-of-type {\n",
       "        vertical-align: middle;\n",
       "    }\n",
       "\n",
       "    .dataframe tbody tr th {\n",
       "        vertical-align: top;\n",
       "    }\n",
       "\n",
       "    .dataframe thead th {\n",
       "        text-align: right;\n",
       "    }\n",
       "</style>\n",
       "<table border=\"1\" class=\"dataframe\">\n",
       "  <thead>\n",
       "    <tr style=\"text-align: right;\">\n",
       "      <th></th>\n",
       "      <th>user_id</th>\n",
       "      <th>month</th>\n",
       "      <th>calls</th>\n",
       "      <th>internet</th>\n",
       "      <th>messages</th>\n",
       "      <th>duration</th>\n",
       "      <th>mb_used</th>\n",
       "      <th>plan</th>\n",
       "      <th>ny_nj</th>\n",
       "      <th>new_dur</th>\n",
       "      <th>new_mess</th>\n",
       "    </tr>\n",
       "  </thead>\n",
       "  <tbody>\n",
       "    <tr>\n",
       "      <th>0</th>\n",
       "      <td>1000</td>\n",
       "      <td>12</td>\n",
       "      <td>16.0</td>\n",
       "      <td>5.0</td>\n",
       "      <td>11.0</td>\n",
       "      <td>124.0</td>\n",
       "      <td>2000.0</td>\n",
       "      <td>ultimate</td>\n",
       "      <td>False</td>\n",
       "      <td>0.0</td>\n",
       "      <td>0.0</td>\n",
       "    </tr>\n",
       "    <tr>\n",
       "      <th>1</th>\n",
       "      <td>1001</td>\n",
       "      <td>8</td>\n",
       "      <td>27.0</td>\n",
       "      <td>25.0</td>\n",
       "      <td>30.0</td>\n",
       "      <td>182.0</td>\n",
       "      <td>7000.0</td>\n",
       "      <td>surf</td>\n",
       "      <td>False</td>\n",
       "      <td>0.0</td>\n",
       "      <td>0.0</td>\n",
       "    </tr>\n",
       "    <tr>\n",
       "      <th>2</th>\n",
       "      <td>1001</td>\n",
       "      <td>9</td>\n",
       "      <td>49.0</td>\n",
       "      <td>53.0</td>\n",
       "      <td>44.0</td>\n",
       "      <td>315.0</td>\n",
       "      <td>14000.0</td>\n",
       "      <td>surf</td>\n",
       "      <td>False</td>\n",
       "      <td>0.0</td>\n",
       "      <td>0.0</td>\n",
       "    </tr>\n",
       "    <tr>\n",
       "      <th>3</th>\n",
       "      <td>1001</td>\n",
       "      <td>10</td>\n",
       "      <td>65.0</td>\n",
       "      <td>56.0</td>\n",
       "      <td>53.0</td>\n",
       "      <td>393.0</td>\n",
       "      <td>23000.0</td>\n",
       "      <td>surf</td>\n",
       "      <td>False</td>\n",
       "      <td>0.0</td>\n",
       "      <td>3.0</td>\n",
       "    </tr>\n",
       "    <tr>\n",
       "      <th>4</th>\n",
       "      <td>1001</td>\n",
       "      <td>11</td>\n",
       "      <td>64.0</td>\n",
       "      <td>51.0</td>\n",
       "      <td>36.0</td>\n",
       "      <td>426.0</td>\n",
       "      <td>19000.0</td>\n",
       "      <td>surf</td>\n",
       "      <td>False</td>\n",
       "      <td>0.0</td>\n",
       "      <td>0.0</td>\n",
       "    </tr>\n",
       "  </tbody>\n",
       "</table>\n",
       "</div>"
      ],
      "text/plain": [
       "   user_id  month  calls  internet  messages  duration  mb_used      plan  \\\n",
       "0     1000     12   16.0       5.0      11.0     124.0   2000.0  ultimate   \n",
       "1     1001      8   27.0      25.0      30.0     182.0   7000.0      surf   \n",
       "2     1001      9   49.0      53.0      44.0     315.0  14000.0      surf   \n",
       "3     1001     10   65.0      56.0      53.0     393.0  23000.0      surf   \n",
       "4     1001     11   64.0      51.0      36.0     426.0  19000.0      surf   \n",
       "\n",
       "   ny_nj  new_dur  new_mess  \n",
       "0  False      0.0       0.0  \n",
       "1  False      0.0       0.0  \n",
       "2  False      0.0       0.0  \n",
       "3  False      0.0       3.0  \n",
       "4  False      0.0       0.0  "
      ]
     },
     "execution_count": 32,
     "metadata": {},
     "output_type": "execute_result"
    }
   ],
   "source": [
    "#Mb_used is rounded up for billing purposes EACH MONTH (vs for each use)\n",
    "\n",
    "def round_up_to_nearest_1000(mb_used):\n",
    "    if mb_used>0:\n",
    "        return math.ceil(mb_used / 1000) * 1000\n",
    "    else:\n",
    "        return None\n",
    "\n",
    "#test\n",
    "print(round_up_to_nearest_1000(3100)) \n",
    "\n",
    "#Create new column\n",
    "final_data['mb_used']=final_data['mb_used'].apply(round_up_to_nearest_1000)\n",
    "final_data.head()"
   ]
  },
  {
   "cell_type": "code",
   "execution_count": 33,
   "metadata": {
    "scrolled": true
   },
   "outputs": [
    {
     "data": {
      "text/html": [
       "<div>\n",
       "<style scoped>\n",
       "    .dataframe tbody tr th:only-of-type {\n",
       "        vertical-align: middle;\n",
       "    }\n",
       "\n",
       "    .dataframe tbody tr th {\n",
       "        vertical-align: top;\n",
       "    }\n",
       "\n",
       "    .dataframe thead th {\n",
       "        text-align: right;\n",
       "    }\n",
       "</style>\n",
       "<table border=\"1\" class=\"dataframe\">\n",
       "  <thead>\n",
       "    <tr style=\"text-align: right;\">\n",
       "      <th></th>\n",
       "      <th>user_id</th>\n",
       "      <th>month</th>\n",
       "      <th>calls</th>\n",
       "      <th>internet</th>\n",
       "      <th>messages</th>\n",
       "      <th>duration</th>\n",
       "      <th>mb_used</th>\n",
       "      <th>new_dur</th>\n",
       "      <th>new_mess</th>\n",
       "      <th>new_mb</th>\n",
       "    </tr>\n",
       "  </thead>\n",
       "  <tbody>\n",
       "    <tr>\n",
       "      <th>count</th>\n",
       "      <td>2293.000000</td>\n",
       "      <td>2293.000000</td>\n",
       "      <td>2258.000000</td>\n",
       "      <td>2277.000000</td>\n",
       "      <td>1806.000000</td>\n",
       "      <td>2293.000000</td>\n",
       "      <td>2277.000000</td>\n",
       "      <td>2293.000000</td>\n",
       "      <td>1806.000000</td>\n",
       "      <td>2277.000000</td>\n",
       "    </tr>\n",
       "    <tr>\n",
       "      <th>mean</th>\n",
       "      <td>1246.075883</td>\n",
       "      <td>9.172700</td>\n",
       "      <td>60.998671</td>\n",
       "      <td>46.036451</td>\n",
       "      <td>42.110188</td>\n",
       "      <td>429.283471</td>\n",
       "      <td>17372.859025</td>\n",
       "      <td>42.160925</td>\n",
       "      <td>6.107973</td>\n",
       "      <td>2.992973</td>\n",
       "    </tr>\n",
       "    <tr>\n",
       "      <th>std</th>\n",
       "      <td>143.051927</td>\n",
       "      <td>2.496386</td>\n",
       "      <td>31.770869</td>\n",
       "      <td>19.275885</td>\n",
       "      <td>33.122931</td>\n",
       "      <td>236.320077</td>\n",
       "      <td>7869.052492</td>\n",
       "      <td>107.799717</td>\n",
       "      <td>18.322291</td>\n",
       "      <td>5.107538</td>\n",
       "    </tr>\n",
       "    <tr>\n",
       "      <th>min</th>\n",
       "      <td>1000.000000</td>\n",
       "      <td>1.000000</td>\n",
       "      <td>1.000000</td>\n",
       "      <td>1.000000</td>\n",
       "      <td>1.000000</td>\n",
       "      <td>0.000000</td>\n",
       "      <td>1000.000000</td>\n",
       "      <td>0.000000</td>\n",
       "      <td>0.000000</td>\n",
       "      <td>0.000000</td>\n",
       "    </tr>\n",
       "    <tr>\n",
       "      <th>25%</th>\n",
       "      <td>1122.000000</td>\n",
       "      <td>8.000000</td>\n",
       "      <td>39.000000</td>\n",
       "      <td>35.000000</td>\n",
       "      <td>17.000000</td>\n",
       "      <td>265.000000</td>\n",
       "      <td>13000.000000</td>\n",
       "      <td>0.000000</td>\n",
       "      <td>0.000000</td>\n",
       "      <td>0.000000</td>\n",
       "    </tr>\n",
       "    <tr>\n",
       "      <th>50%</th>\n",
       "      <td>1245.000000</td>\n",
       "      <td>10.000000</td>\n",
       "      <td>60.000000</td>\n",
       "      <td>48.000000</td>\n",
       "      <td>34.000000</td>\n",
       "      <td>425.000000</td>\n",
       "      <td>17000.000000</td>\n",
       "      <td>0.000000</td>\n",
       "      <td>0.000000</td>\n",
       "      <td>0.000000</td>\n",
       "    </tr>\n",
       "    <tr>\n",
       "      <th>75%</th>\n",
       "      <td>1368.000000</td>\n",
       "      <td>11.000000</td>\n",
       "      <td>80.000000</td>\n",
       "      <td>58.000000</td>\n",
       "      <td>59.000000</td>\n",
       "      <td>572.000000</td>\n",
       "      <td>22000.000000</td>\n",
       "      <td>0.000000</td>\n",
       "      <td>0.000000</td>\n",
       "      <td>5.000000</td>\n",
       "    </tr>\n",
       "    <tr>\n",
       "      <th>max</th>\n",
       "      <td>1499.000000</td>\n",
       "      <td>12.000000</td>\n",
       "      <td>205.000000</td>\n",
       "      <td>138.000000</td>\n",
       "      <td>266.000000</td>\n",
       "      <td>1510.000000</td>\n",
       "      <td>71000.000000</td>\n",
       "      <td>1010.000000</td>\n",
       "      <td>216.000000</td>\n",
       "      <td>56.000000</td>\n",
       "    </tr>\n",
       "  </tbody>\n",
       "</table>\n",
       "</div>"
      ],
      "text/plain": [
       "           user_id        month        calls     internet     messages  \\\n",
       "count  2293.000000  2293.000000  2258.000000  2277.000000  1806.000000   \n",
       "mean   1246.075883     9.172700    60.998671    46.036451    42.110188   \n",
       "std     143.051927     2.496386    31.770869    19.275885    33.122931   \n",
       "min    1000.000000     1.000000     1.000000     1.000000     1.000000   \n",
       "25%    1122.000000     8.000000    39.000000    35.000000    17.000000   \n",
       "50%    1245.000000    10.000000    60.000000    48.000000    34.000000   \n",
       "75%    1368.000000    11.000000    80.000000    58.000000    59.000000   \n",
       "max    1499.000000    12.000000   205.000000   138.000000   266.000000   \n",
       "\n",
       "          duration       mb_used      new_dur     new_mess       new_mb  \n",
       "count  2293.000000   2277.000000  2293.000000  1806.000000  2277.000000  \n",
       "mean    429.283471  17372.859025    42.160925     6.107973     2.992973  \n",
       "std     236.320077   7869.052492   107.799717    18.322291     5.107538  \n",
       "min       0.000000   1000.000000     0.000000     0.000000     0.000000  \n",
       "25%     265.000000  13000.000000     0.000000     0.000000     0.000000  \n",
       "50%     425.000000  17000.000000     0.000000     0.000000     0.000000  \n",
       "75%     572.000000  22000.000000     0.000000     0.000000     5.000000  \n",
       "max    1510.000000  71000.000000  1010.000000   216.000000    56.000000  "
      ]
     },
     "execution_count": 33,
     "metadata": {},
     "output_type": "execute_result"
    }
   ],
   "source": [
    "#Mb_used after free package and convert to GB\n",
    "final_data['new_mb'] = np.where(final_data['plan']== 'surf', (final_data['mb_used']-15000)/1000, (final_data['mb_used']-30000)/1000).clip(min=0)\n",
    "final_data.describe()"
   ]
  },
  {
   "cell_type": "code",
   "execution_count": 34,
   "metadata": {},
   "outputs": [
    {
     "name": "stdout",
     "output_type": "stream",
     "text": [
      "Mb_used max for surf:\n",
      " 56.0\n",
      "\n",
      "Mb_used  max for ultimate:\n",
      " 17.0\n"
     ]
    }
   ],
   "source": [
    "#max mb_used based on plan\n",
    "print('Mb_used max for surf:\\n',final_data.query('plan==\"surf\"')['new_mb'].max())\n",
    "print()\n",
    "print('Mb_used  max for ultimate:\\n',final_data.query('plan==\"ultimate\"')['new_mb'].max())"
   ]
  },
  {
   "cell_type": "markdown",
   "metadata": {},
   "source": [
    "- With a GB max of 17, no user with the ultimate plan would exceed their free package. This means that users with the ultimate plan should all be paying the base fee of $70.\n",
    "\n",
    "<u>Next Steps</u>:\n",
    "1. Add bill per month for each type of use."
   ]
  },
  {
   "cell_type": "code",
   "execution_count": 35,
   "metadata": {},
   "outputs": [
    {
     "data": {
      "text/html": [
       "<div>\n",
       "<style scoped>\n",
       "    .dataframe tbody tr th:only-of-type {\n",
       "        vertical-align: middle;\n",
       "    }\n",
       "\n",
       "    .dataframe tbody tr th {\n",
       "        vertical-align: top;\n",
       "    }\n",
       "\n",
       "    .dataframe thead th {\n",
       "        text-align: right;\n",
       "    }\n",
       "</style>\n",
       "<table border=\"1\" class=\"dataframe\">\n",
       "  <thead>\n",
       "    <tr style=\"text-align: right;\">\n",
       "      <th></th>\n",
       "      <th>user_id</th>\n",
       "      <th>month</th>\n",
       "      <th>calls</th>\n",
       "      <th>internet</th>\n",
       "      <th>messages</th>\n",
       "      <th>duration</th>\n",
       "      <th>mb_used</th>\n",
       "      <th>plan</th>\n",
       "      <th>ny_nj</th>\n",
       "      <th>new_dur</th>\n",
       "      <th>new_mess</th>\n",
       "      <th>new_mb</th>\n",
       "      <th>dur_bill</th>\n",
       "      <th>mess_bill</th>\n",
       "      <th>mb_bill</th>\n",
       "    </tr>\n",
       "  </thead>\n",
       "  <tbody>\n",
       "    <tr>\n",
       "      <th>0</th>\n",
       "      <td>1000</td>\n",
       "      <td>12</td>\n",
       "      <td>16.0</td>\n",
       "      <td>5.0</td>\n",
       "      <td>11.0</td>\n",
       "      <td>124.0</td>\n",
       "      <td>2000.0</td>\n",
       "      <td>ultimate</td>\n",
       "      <td>False</td>\n",
       "      <td>0.0</td>\n",
       "      <td>0.0</td>\n",
       "      <td>0.0</td>\n",
       "      <td>0.0</td>\n",
       "      <td>0.00</td>\n",
       "      <td>0.00</td>\n",
       "    </tr>\n",
       "    <tr>\n",
       "      <th>1</th>\n",
       "      <td>1001</td>\n",
       "      <td>8</td>\n",
       "      <td>27.0</td>\n",
       "      <td>25.0</td>\n",
       "      <td>30.0</td>\n",
       "      <td>182.0</td>\n",
       "      <td>7000.0</td>\n",
       "      <td>surf</td>\n",
       "      <td>False</td>\n",
       "      <td>0.0</td>\n",
       "      <td>0.0</td>\n",
       "      <td>0.0</td>\n",
       "      <td>0.0</td>\n",
       "      <td>0.00</td>\n",
       "      <td>0.00</td>\n",
       "    </tr>\n",
       "    <tr>\n",
       "      <th>2</th>\n",
       "      <td>1001</td>\n",
       "      <td>9</td>\n",
       "      <td>49.0</td>\n",
       "      <td>53.0</td>\n",
       "      <td>44.0</td>\n",
       "      <td>315.0</td>\n",
       "      <td>14000.0</td>\n",
       "      <td>surf</td>\n",
       "      <td>False</td>\n",
       "      <td>0.0</td>\n",
       "      <td>0.0</td>\n",
       "      <td>0.0</td>\n",
       "      <td>0.0</td>\n",
       "      <td>0.00</td>\n",
       "      <td>0.00</td>\n",
       "    </tr>\n",
       "    <tr>\n",
       "      <th>3</th>\n",
       "      <td>1001</td>\n",
       "      <td>10</td>\n",
       "      <td>65.0</td>\n",
       "      <td>56.0</td>\n",
       "      <td>53.0</td>\n",
       "      <td>393.0</td>\n",
       "      <td>23000.0</td>\n",
       "      <td>surf</td>\n",
       "      <td>False</td>\n",
       "      <td>0.0</td>\n",
       "      <td>3.0</td>\n",
       "      <td>8.0</td>\n",
       "      <td>0.0</td>\n",
       "      <td>0.09</td>\n",
       "      <td>0.24</td>\n",
       "    </tr>\n",
       "    <tr>\n",
       "      <th>4</th>\n",
       "      <td>1001</td>\n",
       "      <td>11</td>\n",
       "      <td>64.0</td>\n",
       "      <td>51.0</td>\n",
       "      <td>36.0</td>\n",
       "      <td>426.0</td>\n",
       "      <td>19000.0</td>\n",
       "      <td>surf</td>\n",
       "      <td>False</td>\n",
       "      <td>0.0</td>\n",
       "      <td>0.0</td>\n",
       "      <td>4.0</td>\n",
       "      <td>0.0</td>\n",
       "      <td>0.00</td>\n",
       "      <td>0.12</td>\n",
       "    </tr>\n",
       "  </tbody>\n",
       "</table>\n",
       "</div>"
      ],
      "text/plain": [
       "   user_id  month  calls  internet  messages  duration  mb_used      plan  \\\n",
       "0     1000     12   16.0       5.0      11.0     124.0   2000.0  ultimate   \n",
       "1     1001      8   27.0      25.0      30.0     182.0   7000.0      surf   \n",
       "2     1001      9   49.0      53.0      44.0     315.0  14000.0      surf   \n",
       "3     1001     10   65.0      56.0      53.0     393.0  23000.0      surf   \n",
       "4     1001     11   64.0      51.0      36.0     426.0  19000.0      surf   \n",
       "\n",
       "   ny_nj  new_dur  new_mess  new_mb  dur_bill  mess_bill  mb_bill  \n",
       "0  False      0.0       0.0     0.0       0.0       0.00     0.00  \n",
       "1  False      0.0       0.0     0.0       0.0       0.00     0.00  \n",
       "2  False      0.0       0.0     0.0       0.0       0.00     0.00  \n",
       "3  False      0.0       3.0     8.0       0.0       0.09     0.24  \n",
       "4  False      0.0       0.0     4.0       0.0       0.00     0.12  "
      ]
     },
     "execution_count": 35,
     "metadata": {},
     "output_type": "execute_result"
    }
   ],
   "source": [
    "#udf\n",
    "def add_bill(x,y):\n",
    "    if y == 'surf':\n",
    "        return x*.03\n",
    "    else:\n",
    "        return x*.01\n",
    "\n",
    "#create new columns\n",
    "final_data[['dur_bill','mess_bill','mb_bill']]  = \\\n",
    "final_data.apply( lambda x: add_bill( x[['new_dur','new_mess','new_mb']], x.plan), axis = 1 )\n",
    "\n",
    "#check\n",
    "final_data.head()"
   ]
  },
  {
   "cell_type": "code",
   "execution_count": 36,
   "metadata": {},
   "outputs": [
    {
     "data": {
      "text/html": [
       "<div>\n",
       "<style scoped>\n",
       "    .dataframe tbody tr th:only-of-type {\n",
       "        vertical-align: middle;\n",
       "    }\n",
       "\n",
       "    .dataframe tbody tr th {\n",
       "        vertical-align: top;\n",
       "    }\n",
       "\n",
       "    .dataframe thead th {\n",
       "        text-align: right;\n",
       "    }\n",
       "</style>\n",
       "<table border=\"1\" class=\"dataframe\">\n",
       "  <thead>\n",
       "    <tr style=\"text-align: right;\">\n",
       "      <th></th>\n",
       "      <th>count</th>\n",
       "      <th>mean</th>\n",
       "      <th>std</th>\n",
       "      <th>min</th>\n",
       "      <th>25%</th>\n",
       "      <th>50%</th>\n",
       "      <th>75%</th>\n",
       "      <th>max</th>\n",
       "    </tr>\n",
       "  </thead>\n",
       "  <tbody>\n",
       "    <tr>\n",
       "      <th>user_id</th>\n",
       "      <td>2293.0</td>\n",
       "      <td>1246.075883</td>\n",
       "      <td>143.051927</td>\n",
       "      <td>1000.0</td>\n",
       "      <td>1122.00</td>\n",
       "      <td>1245.00</td>\n",
       "      <td>1368.00</td>\n",
       "      <td>1499.00</td>\n",
       "    </tr>\n",
       "    <tr>\n",
       "      <th>month</th>\n",
       "      <td>2293.0</td>\n",
       "      <td>9.172700</td>\n",
       "      <td>2.496386</td>\n",
       "      <td>1.0</td>\n",
       "      <td>8.00</td>\n",
       "      <td>10.00</td>\n",
       "      <td>11.00</td>\n",
       "      <td>12.00</td>\n",
       "    </tr>\n",
       "    <tr>\n",
       "      <th>calls</th>\n",
       "      <td>2258.0</td>\n",
       "      <td>60.998671</td>\n",
       "      <td>31.770869</td>\n",
       "      <td>1.0</td>\n",
       "      <td>39.00</td>\n",
       "      <td>60.00</td>\n",
       "      <td>80.00</td>\n",
       "      <td>205.00</td>\n",
       "    </tr>\n",
       "    <tr>\n",
       "      <th>internet</th>\n",
       "      <td>2277.0</td>\n",
       "      <td>46.036451</td>\n",
       "      <td>19.275885</td>\n",
       "      <td>1.0</td>\n",
       "      <td>35.00</td>\n",
       "      <td>48.00</td>\n",
       "      <td>58.00</td>\n",
       "      <td>138.00</td>\n",
       "    </tr>\n",
       "    <tr>\n",
       "      <th>messages</th>\n",
       "      <td>1806.0</td>\n",
       "      <td>42.110188</td>\n",
       "      <td>33.122931</td>\n",
       "      <td>1.0</td>\n",
       "      <td>17.00</td>\n",
       "      <td>34.00</td>\n",
       "      <td>59.00</td>\n",
       "      <td>266.00</td>\n",
       "    </tr>\n",
       "    <tr>\n",
       "      <th>duration</th>\n",
       "      <td>2293.0</td>\n",
       "      <td>429.283471</td>\n",
       "      <td>236.320077</td>\n",
       "      <td>0.0</td>\n",
       "      <td>265.00</td>\n",
       "      <td>425.00</td>\n",
       "      <td>572.00</td>\n",
       "      <td>1510.00</td>\n",
       "    </tr>\n",
       "    <tr>\n",
       "      <th>mb_used</th>\n",
       "      <td>2277.0</td>\n",
       "      <td>17372.859025</td>\n",
       "      <td>7869.052492</td>\n",
       "      <td>1000.0</td>\n",
       "      <td>13000.00</td>\n",
       "      <td>17000.00</td>\n",
       "      <td>22000.00</td>\n",
       "      <td>71000.00</td>\n",
       "    </tr>\n",
       "    <tr>\n",
       "      <th>new_dur</th>\n",
       "      <td>2293.0</td>\n",
       "      <td>42.160925</td>\n",
       "      <td>107.799717</td>\n",
       "      <td>0.0</td>\n",
       "      <td>0.00</td>\n",
       "      <td>0.00</td>\n",
       "      <td>0.00</td>\n",
       "      <td>1010.00</td>\n",
       "    </tr>\n",
       "    <tr>\n",
       "      <th>new_mess</th>\n",
       "      <td>1806.0</td>\n",
       "      <td>6.107973</td>\n",
       "      <td>18.322291</td>\n",
       "      <td>0.0</td>\n",
       "      <td>0.00</td>\n",
       "      <td>0.00</td>\n",
       "      <td>0.00</td>\n",
       "      <td>216.00</td>\n",
       "    </tr>\n",
       "    <tr>\n",
       "      <th>new_mb</th>\n",
       "      <td>2277.0</td>\n",
       "      <td>2.992973</td>\n",
       "      <td>5.107538</td>\n",
       "      <td>0.0</td>\n",
       "      <td>0.00</td>\n",
       "      <td>0.00</td>\n",
       "      <td>5.00</td>\n",
       "      <td>56.00</td>\n",
       "    </tr>\n",
       "    <tr>\n",
       "      <th>dur_bill</th>\n",
       "      <td>2293.0</td>\n",
       "      <td>1.264828</td>\n",
       "      <td>3.233992</td>\n",
       "      <td>0.0</td>\n",
       "      <td>0.00</td>\n",
       "      <td>0.00</td>\n",
       "      <td>0.00</td>\n",
       "      <td>30.30</td>\n",
       "    </tr>\n",
       "    <tr>\n",
       "      <th>mess_bill</th>\n",
       "      <td>1806.0</td>\n",
       "      <td>0.183239</td>\n",
       "      <td>0.549669</td>\n",
       "      <td>0.0</td>\n",
       "      <td>0.00</td>\n",
       "      <td>0.00</td>\n",
       "      <td>0.00</td>\n",
       "      <td>6.48</td>\n",
       "    </tr>\n",
       "    <tr>\n",
       "      <th>mb_bill</th>\n",
       "      <td>2277.0</td>\n",
       "      <td>0.087347</td>\n",
       "      <td>0.151805</td>\n",
       "      <td>0.0</td>\n",
       "      <td>0.00</td>\n",
       "      <td>0.00</td>\n",
       "      <td>0.12</td>\n",
       "      <td>1.68</td>\n",
       "    </tr>\n",
       "    <tr>\n",
       "      <th>monthly_bill</th>\n",
       "      <td>1791.0</td>\n",
       "      <td>37.873735</td>\n",
       "      <td>22.599065</td>\n",
       "      <td>20.0</td>\n",
       "      <td>20.15</td>\n",
       "      <td>22.88</td>\n",
       "      <td>70.00</td>\n",
       "      <td>70.17</td>\n",
       "    </tr>\n",
       "  </tbody>\n",
       "</table>\n",
       "</div>"
      ],
      "text/plain": [
       "               count          mean          std     min       25%       50%  \\\n",
       "user_id       2293.0   1246.075883   143.051927  1000.0   1122.00   1245.00   \n",
       "month         2293.0      9.172700     2.496386     1.0      8.00     10.00   \n",
       "calls         2258.0     60.998671    31.770869     1.0     39.00     60.00   \n",
       "internet      2277.0     46.036451    19.275885     1.0     35.00     48.00   \n",
       "messages      1806.0     42.110188    33.122931     1.0     17.00     34.00   \n",
       "duration      2293.0    429.283471   236.320077     0.0    265.00    425.00   \n",
       "mb_used       2277.0  17372.859025  7869.052492  1000.0  13000.00  17000.00   \n",
       "new_dur       2293.0     42.160925   107.799717     0.0      0.00      0.00   \n",
       "new_mess      1806.0      6.107973    18.322291     0.0      0.00      0.00   \n",
       "new_mb        2277.0      2.992973     5.107538     0.0      0.00      0.00   \n",
       "dur_bill      2293.0      1.264828     3.233992     0.0      0.00      0.00   \n",
       "mess_bill     1806.0      0.183239     0.549669     0.0      0.00      0.00   \n",
       "mb_bill       2277.0      0.087347     0.151805     0.0      0.00      0.00   \n",
       "monthly_bill  1791.0     37.873735    22.599065    20.0     20.15     22.88   \n",
       "\n",
       "                   75%       max  \n",
       "user_id        1368.00   1499.00  \n",
       "month            11.00     12.00  \n",
       "calls            80.00    205.00  \n",
       "internet         58.00    138.00  \n",
       "messages         59.00    266.00  \n",
       "duration        572.00   1510.00  \n",
       "mb_used       22000.00  71000.00  \n",
       "new_dur           0.00   1010.00  \n",
       "new_mess          0.00    216.00  \n",
       "new_mb            5.00     56.00  \n",
       "dur_bill          0.00     30.30  \n",
       "mess_bill         0.00      6.48  \n",
       "mb_bill           0.12      1.68  \n",
       "monthly_bill     70.00     70.17  "
      ]
     },
     "execution_count": 36,
     "metadata": {},
     "output_type": "execute_result"
    }
   ],
   "source": [
    "#Monthly bill per user \n",
    "final_data['monthly_bill'] = np.where(final_data['plan'] == 'surf', \n",
    "                                      final_data['dur_bill']+final_data['mess_bill']+final_data['mb_bill']+20, \n",
    "                                      final_data['dur_bill']+final_data['mess_bill']+final_data['mb_bill']+70)\n",
    "final_data.describe().T"
   ]
  },
  {
   "cell_type": "markdown",
   "metadata": {},
   "source": [
    "## Analyze Data"
   ]
  },
  {
   "cell_type": "markdown",
   "metadata": {},
   "source": [
    "### Monthly_bill analysis"
   ]
  },
  {
   "cell_type": "code",
   "execution_count": 37,
   "metadata": {},
   "outputs": [
    {
     "data": {
      "text/plain": [
       "plan\n",
       "surf        333\n",
       "ultimate    157\n",
       "Name: user_id, dtype: int64"
      ]
     },
     "execution_count": 37,
     "metadata": {},
     "output_type": "execute_result"
    }
   ],
   "source": [
    "#Count of users using each plan\n",
    "final_data.groupby(['plan'])['user_id'].nunique()"
   ]
  },
  {
   "cell_type": "code",
   "execution_count": 38,
   "metadata": {},
   "outputs": [
    {
     "data": {
      "text/plain": [
       "plan\n",
       "surf        27019.60\n",
       "ultimate    40812.26\n",
       "Name: monthly_bill, dtype: float64"
      ]
     },
     "execution_count": 38,
     "metadata": {},
     "output_type": "execute_result"
    }
   ],
   "source": [
    "#Total revenue per plan\n",
    "final_data.groupby(['plan'])['monthly_bill'].sum()"
   ]
  },
  {
   "cell_type": "code",
   "execution_count": 39,
   "metadata": {},
   "outputs": [
    {
     "data": {
      "text/plain": [
       "plan\n",
       "surf             NaN\n",
       "ultimate    0.510469\n",
       "Name: monthly_bill, dtype: float64"
      ]
     },
     "execution_count": 39,
     "metadata": {},
     "output_type": "execute_result"
    }
   ],
   "source": [
    "final_data.groupby(['plan'])['monthly_bill'].sum().pct_change()"
   ]
  },
  {
   "cell_type": "code",
   "execution_count": 40,
   "metadata": {
    "scrolled": true
   },
   "outputs": [
    {
     "data": {
      "text/plain": [
       "plan\n",
       "surf         81.139940\n",
       "ultimate    259.950701\n",
       "dtype: float64"
      ]
     },
     "execution_count": 40,
     "metadata": {},
     "output_type": "execute_result"
    }
   ],
   "source": [
    "#Revenue per customer per year\n",
    "final_data.groupby(['plan'])['monthly_bill'].sum()/final_data.groupby(['plan'])['user_id'].nunique()"
   ]
  },
  {
   "cell_type": "code",
   "execution_count": 41,
   "metadata": {},
   "outputs": [
    {
     "data": {
      "text/plain": [
       "plan\n",
       "surf             NaN\n",
       "ultimate    2.203733\n",
       "dtype: float64"
      ]
     },
     "execution_count": 41,
     "metadata": {},
     "output_type": "execute_result"
    }
   ],
   "source": [
    "(final_data.groupby(['plan'])['monthly_bill'].sum()/final_data.groupby(['plan'])['user_id'].nunique()).pct_change()"
   ]
  },
  {
   "cell_type": "markdown",
   "metadata": {},
   "source": [
    "Note: The reason why the revenue per customer per year for the ultimate plan is less than the base pay * months in a year is because many users did not have the membership for the full 12 months. This analysis assumes that the customer acquition and dropout rate for 2018 is representative of other years."
   ]
  },
  {
   "cell_type": "code",
   "execution_count": 42,
   "metadata": {
    "scrolled": true
   },
   "outputs": [
    {
     "data": {
      "text/html": [
       "<div>\n",
       "<style scoped>\n",
       "    .dataframe tbody tr th:only-of-type {\n",
       "        vertical-align: middle;\n",
       "    }\n",
       "\n",
       "    .dataframe tbody tr th {\n",
       "        vertical-align: top;\n",
       "    }\n",
       "\n",
       "    .dataframe thead th {\n",
       "        text-align: right;\n",
       "    }\n",
       "</style>\n",
       "<table border=\"1\" class=\"dataframe\">\n",
       "  <thead>\n",
       "    <tr style=\"text-align: right;\">\n",
       "      <th></th>\n",
       "      <th>count</th>\n",
       "      <th>mean</th>\n",
       "      <th>std</th>\n",
       "      <th>min</th>\n",
       "      <th>25%</th>\n",
       "      <th>50%</th>\n",
       "      <th>75%</th>\n",
       "      <th>max</th>\n",
       "    </tr>\n",
       "  </thead>\n",
       "  <tbody>\n",
       "    <tr>\n",
       "      <th>user_id</th>\n",
       "      <td>1573.0</td>\n",
       "      <td>1242.755245</td>\n",
       "      <td>139.227939</td>\n",
       "      <td>1001.0</td>\n",
       "      <td>1120.00</td>\n",
       "      <td>1245.00</td>\n",
       "      <td>1358.00</td>\n",
       "      <td>1499.00</td>\n",
       "    </tr>\n",
       "    <tr>\n",
       "      <th>month</th>\n",
       "      <td>1573.0</td>\n",
       "      <td>9.182454</td>\n",
       "      <td>2.468199</td>\n",
       "      <td>1.0</td>\n",
       "      <td>8.00</td>\n",
       "      <td>10.00</td>\n",
       "      <td>11.00</td>\n",
       "      <td>12.00</td>\n",
       "    </tr>\n",
       "    <tr>\n",
       "      <th>calls</th>\n",
       "      <td>1545.0</td>\n",
       "      <td>60.895793</td>\n",
       "      <td>31.268044</td>\n",
       "      <td>1.0</td>\n",
       "      <td>40.00</td>\n",
       "      <td>60.00</td>\n",
       "      <td>80.00</td>\n",
       "      <td>205.00</td>\n",
       "    </tr>\n",
       "    <tr>\n",
       "      <th>internet</th>\n",
       "      <td>1558.0</td>\n",
       "      <td>45.947368</td>\n",
       "      <td>19.723127</td>\n",
       "      <td>1.0</td>\n",
       "      <td>35.00</td>\n",
       "      <td>48.00</td>\n",
       "      <td>59.00</td>\n",
       "      <td>138.00</td>\n",
       "    </tr>\n",
       "    <tr>\n",
       "      <th>messages</th>\n",
       "      <td>1222.0</td>\n",
       "      <td>40.109656</td>\n",
       "      <td>33.035500</td>\n",
       "      <td>1.0</td>\n",
       "      <td>16.00</td>\n",
       "      <td>32.00</td>\n",
       "      <td>54.00</td>\n",
       "      <td>266.00</td>\n",
       "    </tr>\n",
       "    <tr>\n",
       "      <th>duration</th>\n",
       "      <td>1573.0</td>\n",
       "      <td>428.749523</td>\n",
       "      <td>234.453150</td>\n",
       "      <td>0.0</td>\n",
       "      <td>272.00</td>\n",
       "      <td>425.00</td>\n",
       "      <td>576.00</td>\n",
       "      <td>1510.00</td>\n",
       "    </tr>\n",
       "    <tr>\n",
       "      <th>mb_used</th>\n",
       "      <td>1558.0</td>\n",
       "      <td>17201.540436</td>\n",
       "      <td>7877.706743</td>\n",
       "      <td>1000.0</td>\n",
       "      <td>13000.00</td>\n",
       "      <td>17000.00</td>\n",
       "      <td>22000.00</td>\n",
       "      <td>71000.00</td>\n",
       "    </tr>\n",
       "    <tr>\n",
       "      <th>new_dur</th>\n",
       "      <td>1573.0</td>\n",
       "      <td>61.458996</td>\n",
       "      <td>125.524813</td>\n",
       "      <td>0.0</td>\n",
       "      <td>0.00</td>\n",
       "      <td>0.00</td>\n",
       "      <td>76.00</td>\n",
       "      <td>1010.00</td>\n",
       "    </tr>\n",
       "    <tr>\n",
       "      <th>new_mess</th>\n",
       "      <td>1222.0</td>\n",
       "      <td>9.027005</td>\n",
       "      <td>21.677219</td>\n",
       "      <td>0.0</td>\n",
       "      <td>0.00</td>\n",
       "      <td>0.00</td>\n",
       "      <td>4.00</td>\n",
       "      <td>216.00</td>\n",
       "    </tr>\n",
       "    <tr>\n",
       "      <th>new_mb</th>\n",
       "      <td>1558.0</td>\n",
       "      <td>4.195764</td>\n",
       "      <td>5.659992</td>\n",
       "      <td>0.0</td>\n",
       "      <td>0.00</td>\n",
       "      <td>2.00</td>\n",
       "      <td>7.00</td>\n",
       "      <td>56.00</td>\n",
       "    </tr>\n",
       "    <tr>\n",
       "      <th>dur_bill</th>\n",
       "      <td>1573.0</td>\n",
       "      <td>1.843770</td>\n",
       "      <td>3.765744</td>\n",
       "      <td>0.0</td>\n",
       "      <td>0.00</td>\n",
       "      <td>0.00</td>\n",
       "      <td>2.28</td>\n",
       "      <td>30.30</td>\n",
       "    </tr>\n",
       "    <tr>\n",
       "      <th>mess_bill</th>\n",
       "      <td>1222.0</td>\n",
       "      <td>0.270810</td>\n",
       "      <td>0.650317</td>\n",
       "      <td>0.0</td>\n",
       "      <td>0.00</td>\n",
       "      <td>0.00</td>\n",
       "      <td>0.12</td>\n",
       "      <td>6.48</td>\n",
       "    </tr>\n",
       "    <tr>\n",
       "      <th>mb_bill</th>\n",
       "      <td>1558.0</td>\n",
       "      <td>0.125873</td>\n",
       "      <td>0.169800</td>\n",
       "      <td>0.0</td>\n",
       "      <td>0.00</td>\n",
       "      <td>0.06</td>\n",
       "      <td>0.21</td>\n",
       "      <td>1.68</td>\n",
       "    </tr>\n",
       "    <tr>\n",
       "      <th>monthly_bill</th>\n",
       "      <td>1208.0</td>\n",
       "      <td>22.367219</td>\n",
       "      <td>4.255780</td>\n",
       "      <td>20.0</td>\n",
       "      <td>20.03</td>\n",
       "      <td>20.36</td>\n",
       "      <td>23.06</td>\n",
       "      <td>53.24</td>\n",
       "    </tr>\n",
       "  </tbody>\n",
       "</table>\n",
       "</div>"
      ],
      "text/plain": [
       "               count          mean          std     min       25%       50%  \\\n",
       "user_id       1573.0   1242.755245   139.227939  1001.0   1120.00   1245.00   \n",
       "month         1573.0      9.182454     2.468199     1.0      8.00     10.00   \n",
       "calls         1545.0     60.895793    31.268044     1.0     40.00     60.00   \n",
       "internet      1558.0     45.947368    19.723127     1.0     35.00     48.00   \n",
       "messages      1222.0     40.109656    33.035500     1.0     16.00     32.00   \n",
       "duration      1573.0    428.749523   234.453150     0.0    272.00    425.00   \n",
       "mb_used       1558.0  17201.540436  7877.706743  1000.0  13000.00  17000.00   \n",
       "new_dur       1573.0     61.458996   125.524813     0.0      0.00      0.00   \n",
       "new_mess      1222.0      9.027005    21.677219     0.0      0.00      0.00   \n",
       "new_mb        1558.0      4.195764     5.659992     0.0      0.00      2.00   \n",
       "dur_bill      1573.0      1.843770     3.765744     0.0      0.00      0.00   \n",
       "mess_bill     1222.0      0.270810     0.650317     0.0      0.00      0.00   \n",
       "mb_bill       1558.0      0.125873     0.169800     0.0      0.00      0.06   \n",
       "monthly_bill  1208.0     22.367219     4.255780    20.0     20.03     20.36   \n",
       "\n",
       "                   75%       max  \n",
       "user_id        1358.00   1499.00  \n",
       "month            11.00     12.00  \n",
       "calls            80.00    205.00  \n",
       "internet         59.00    138.00  \n",
       "messages         54.00    266.00  \n",
       "duration        576.00   1510.00  \n",
       "mb_used       22000.00  71000.00  \n",
       "new_dur          76.00   1010.00  \n",
       "new_mess          4.00    216.00  \n",
       "new_mb            7.00     56.00  \n",
       "dur_bill          2.28     30.30  \n",
       "mess_bill         0.12      6.48  \n",
       "mb_bill           0.21      1.68  \n",
       "monthly_bill     23.06     53.24  "
      ]
     },
     "execution_count": 42,
     "metadata": {},
     "output_type": "execute_result"
    }
   ],
   "source": [
    "final_data.query('plan==\"surf\"').describe().T"
   ]
  },
  {
   "cell_type": "code",
   "execution_count": 43,
   "metadata": {},
   "outputs": [
    {
     "data": {
      "text/html": [
       "<div>\n",
       "<style scoped>\n",
       "    .dataframe tbody tr th:only-of-type {\n",
       "        vertical-align: middle;\n",
       "    }\n",
       "\n",
       "    .dataframe tbody tr th {\n",
       "        vertical-align: top;\n",
       "    }\n",
       "\n",
       "    .dataframe thead th {\n",
       "        text-align: right;\n",
       "    }\n",
       "</style>\n",
       "<table border=\"1\" class=\"dataframe\">\n",
       "  <thead>\n",
       "    <tr style=\"text-align: right;\">\n",
       "      <th></th>\n",
       "      <th>count</th>\n",
       "      <th>mean</th>\n",
       "      <th>std</th>\n",
       "      <th>min</th>\n",
       "      <th>25%</th>\n",
       "      <th>50%</th>\n",
       "      <th>75%</th>\n",
       "      <th>max</th>\n",
       "    </tr>\n",
       "  </thead>\n",
       "  <tbody>\n",
       "    <tr>\n",
       "      <th>user_id</th>\n",
       "      <td>720.0</td>\n",
       "      <td>1253.330556</td>\n",
       "      <td>150.915644</td>\n",
       "      <td>1000.0</td>\n",
       "      <td>1126.0</td>\n",
       "      <td>1241.5</td>\n",
       "      <td>1401.00</td>\n",
       "      <td>1497.00</td>\n",
       "    </tr>\n",
       "    <tr>\n",
       "      <th>month</th>\n",
       "      <td>720.0</td>\n",
       "      <td>9.151389</td>\n",
       "      <td>2.558495</td>\n",
       "      <td>1.0</td>\n",
       "      <td>8.0</td>\n",
       "      <td>10.0</td>\n",
       "      <td>11.00</td>\n",
       "      <td>12.00</td>\n",
       "    </tr>\n",
       "    <tr>\n",
       "      <th>calls</th>\n",
       "      <td>713.0</td>\n",
       "      <td>61.221599</td>\n",
       "      <td>32.855296</td>\n",
       "      <td>2.0</td>\n",
       "      <td>37.0</td>\n",
       "      <td>61.0</td>\n",
       "      <td>80.00</td>\n",
       "      <td>191.00</td>\n",
       "    </tr>\n",
       "    <tr>\n",
       "      <th>internet</th>\n",
       "      <td>719.0</td>\n",
       "      <td>46.229485</td>\n",
       "      <td>18.281120</td>\n",
       "      <td>1.0</td>\n",
       "      <td>36.0</td>\n",
       "      <td>49.0</td>\n",
       "      <td>58.00</td>\n",
       "      <td>111.00</td>\n",
       "    </tr>\n",
       "    <tr>\n",
       "      <th>messages</th>\n",
       "      <td>584.0</td>\n",
       "      <td>46.296233</td>\n",
       "      <td>32.942118</td>\n",
       "      <td>1.0</td>\n",
       "      <td>21.0</td>\n",
       "      <td>41.0</td>\n",
       "      <td>66.00</td>\n",
       "      <td>166.00</td>\n",
       "    </tr>\n",
       "    <tr>\n",
       "      <th>duration</th>\n",
       "      <td>720.0</td>\n",
       "      <td>430.450000</td>\n",
       "      <td>240.508762</td>\n",
       "      <td>0.0</td>\n",
       "      <td>260.0</td>\n",
       "      <td>424.0</td>\n",
       "      <td>565.25</td>\n",
       "      <td>1369.00</td>\n",
       "    </tr>\n",
       "    <tr>\n",
       "      <th>mb_used</th>\n",
       "      <td>719.0</td>\n",
       "      <td>17744.089013</td>\n",
       "      <td>7842.896150</td>\n",
       "      <td>1000.0</td>\n",
       "      <td>13000.0</td>\n",
       "      <td>17000.0</td>\n",
       "      <td>22000.00</td>\n",
       "      <td>47000.00</td>\n",
       "    </tr>\n",
       "    <tr>\n",
       "      <th>new_dur</th>\n",
       "      <td>720.0</td>\n",
       "      <td>0.000000</td>\n",
       "      <td>0.000000</td>\n",
       "      <td>0.0</td>\n",
       "      <td>0.0</td>\n",
       "      <td>0.0</td>\n",
       "      <td>0.00</td>\n",
       "      <td>0.00</td>\n",
       "    </tr>\n",
       "    <tr>\n",
       "      <th>new_mess</th>\n",
       "      <td>584.0</td>\n",
       "      <td>0.000000</td>\n",
       "      <td>0.000000</td>\n",
       "      <td>0.0</td>\n",
       "      <td>0.0</td>\n",
       "      <td>0.0</td>\n",
       "      <td>0.00</td>\n",
       "      <td>0.00</td>\n",
       "    </tr>\n",
       "    <tr>\n",
       "      <th>new_mb</th>\n",
       "      <td>719.0</td>\n",
       "      <td>0.386648</td>\n",
       "      <td>1.811643</td>\n",
       "      <td>0.0</td>\n",
       "      <td>0.0</td>\n",
       "      <td>0.0</td>\n",
       "      <td>0.00</td>\n",
       "      <td>17.00</td>\n",
       "    </tr>\n",
       "    <tr>\n",
       "      <th>dur_bill</th>\n",
       "      <td>720.0</td>\n",
       "      <td>0.000000</td>\n",
       "      <td>0.000000</td>\n",
       "      <td>0.0</td>\n",
       "      <td>0.0</td>\n",
       "      <td>0.0</td>\n",
       "      <td>0.00</td>\n",
       "      <td>0.00</td>\n",
       "    </tr>\n",
       "    <tr>\n",
       "      <th>mess_bill</th>\n",
       "      <td>584.0</td>\n",
       "      <td>0.000000</td>\n",
       "      <td>0.000000</td>\n",
       "      <td>0.0</td>\n",
       "      <td>0.0</td>\n",
       "      <td>0.0</td>\n",
       "      <td>0.00</td>\n",
       "      <td>0.00</td>\n",
       "    </tr>\n",
       "    <tr>\n",
       "      <th>mb_bill</th>\n",
       "      <td>719.0</td>\n",
       "      <td>0.003866</td>\n",
       "      <td>0.018116</td>\n",
       "      <td>0.0</td>\n",
       "      <td>0.0</td>\n",
       "      <td>0.0</td>\n",
       "      <td>0.00</td>\n",
       "      <td>0.17</td>\n",
       "    </tr>\n",
       "    <tr>\n",
       "      <th>monthly_bill</th>\n",
       "      <td>583.0</td>\n",
       "      <td>70.003877</td>\n",
       "      <td>0.017783</td>\n",
       "      <td>70.0</td>\n",
       "      <td>70.0</td>\n",
       "      <td>70.0</td>\n",
       "      <td>70.00</td>\n",
       "      <td>70.17</td>\n",
       "    </tr>\n",
       "  </tbody>\n",
       "</table>\n",
       "</div>"
      ],
      "text/plain": [
       "              count          mean          std     min      25%      50%  \\\n",
       "user_id       720.0   1253.330556   150.915644  1000.0   1126.0   1241.5   \n",
       "month         720.0      9.151389     2.558495     1.0      8.0     10.0   \n",
       "calls         713.0     61.221599    32.855296     2.0     37.0     61.0   \n",
       "internet      719.0     46.229485    18.281120     1.0     36.0     49.0   \n",
       "messages      584.0     46.296233    32.942118     1.0     21.0     41.0   \n",
       "duration      720.0    430.450000   240.508762     0.0    260.0    424.0   \n",
       "mb_used       719.0  17744.089013  7842.896150  1000.0  13000.0  17000.0   \n",
       "new_dur       720.0      0.000000     0.000000     0.0      0.0      0.0   \n",
       "new_mess      584.0      0.000000     0.000000     0.0      0.0      0.0   \n",
       "new_mb        719.0      0.386648     1.811643     0.0      0.0      0.0   \n",
       "dur_bill      720.0      0.000000     0.000000     0.0      0.0      0.0   \n",
       "mess_bill     584.0      0.000000     0.000000     0.0      0.0      0.0   \n",
       "mb_bill       719.0      0.003866     0.018116     0.0      0.0      0.0   \n",
       "monthly_bill  583.0     70.003877     0.017783    70.0     70.0     70.0   \n",
       "\n",
       "                   75%       max  \n",
       "user_id        1401.00   1497.00  \n",
       "month            11.00     12.00  \n",
       "calls            80.00    191.00  \n",
       "internet         58.00    111.00  \n",
       "messages         66.00    166.00  \n",
       "duration        565.25   1369.00  \n",
       "mb_used       22000.00  47000.00  \n",
       "new_dur           0.00      0.00  \n",
       "new_mess          0.00      0.00  \n",
       "new_mb            0.00     17.00  \n",
       "dur_bill          0.00      0.00  \n",
       "mess_bill         0.00      0.00  \n",
       "mb_bill           0.00      0.17  \n",
       "monthly_bill     70.00     70.17  "
      ]
     },
     "execution_count": 43,
     "metadata": {},
     "output_type": "execute_result"
    }
   ],
   "source": [
    "final_data.query('plan==\"ultimate\"').describe().T"
   ]
  },
  {
   "cell_type": "code",
   "execution_count": 44,
   "metadata": {},
   "outputs": [],
   "source": [
    "#histogram for overall spread\n",
    "def hist(column):\n",
    "    plt.figure(figsize=(9, 9))\n",
    "    plt.rcParams['patch.linewidth'] = 0\n",
    "    h=sns.histplot(final_data, x=column,bins=10,color='c')\n",
    "    sns.despine(offset=10, trim=True)\n",
    "    plt.title('Overall Spread of ' +str(column.name.upper()),\n",
    "          fontsize=20,pad=30)\n",
    "    h.set_xlabel(\"\")\n",
    "    h.set_ylabel(\"\")\n",
    "    min_ylim, max_ylim = plt.ylim()\n",
    "    mean = column.mean()\n",
    "    h.axvline(mean,label='mean',color='darkslateblue')\n",
    "    trans = transforms.blended_transform_factory(h.get_xticklabels()[0].get_transform(), h.transData)\n",
    "    h.text(mean,max_ylim,\"Mean: {:.2f}\".format(mean), color=\"red\", transform=trans, ha=\"center\"); "
   ]
  },
  {
   "cell_type": "code",
   "execution_count": 45,
   "metadata": {},
   "outputs": [],
   "source": [
    "#histogram and boxplot for spread by plan\n",
    "palette = {\n",
    "    'surf': 'mediumvioletred',\n",
    "    'ultimate': 'darkmagenta'}\n",
    "\n",
    "def subplots(column):\n",
    "    # Create one row with 2 columns\n",
    "    fig, axes = plt.subplots(1, 2, figsize=(16, 5))\n",
    "\n",
    "    # Create a histogram \n",
    "    h = sns.histplot(final_data,x=column,hue='plan',palette=palette, ax=axes[0])\n",
    "    plt.legend(title='', loc='upper right', labels=['Ultimate', 'Surf'])\n",
    "    h.set_xlabel(column.name.capitalize(),fontsize=14)\n",
    "                    \n",
    "    h.set_ylabel(\"\")\n",
    "    h.legend_.set_title(None)\n",
    "\n",
    "    # Create a boxplot for both plans\n",
    "    b=sns.boxplot( x='plan',y=column,\n",
    "                 data=final_data, palette=palette, ax=axes[1])\n",
    "    b.set_ylabel(\"\")\n",
    "    b.set_xlabel(\"\")\n",
    "    b.set_xticklabels([\"Ultimate\",\"Surf\"])\n",
    "\n",
    "    sns.despine(offset=10, trim=True)\n",
    "\n",
    "    fig.suptitle('Spread of ' +str(column.name.upper())+ ' by Plan:',fontsize=20);"
   ]
  },
  {
   "cell_type": "code",
   "execution_count": 46,
   "metadata": {},
   "outputs": [
    {
     "data": {
      "image/png": "[encoded data removed]",
      "text/plain": [
       "<Figure size 648x648 with 1 Axes>"
      ]
     },
     "metadata": {
      "needs_background": "light"
     },
     "output_type": "display_data"
    },
    {
     "data": {
      "image/png": "[encoded data removed]",
      "text/plain": [
       "<Figure size 1152x360 with 2 Axes>"
      ]
     },
     "metadata": {
      "needs_background": "light"
     },
     "output_type": "display_data"
    }
   ],
   "source": [
    "final_data[['monthly_bill']].apply(hist)\n",
    "final_data[['monthly_bill']].apply(subplots);"
   ]
  },
  {
   "cell_type": "code",
   "execution_count": 47,
   "metadata": {
    "scrolled": true
   },
   "outputs": [
    {
     "name": "stdout",
     "output_type": "stream",
     "text": [
      "Number of bills that exceeded base for SURF: 919\n",
      "Number of bills that exceeded base for ULTIMATE: 39\n",
      "Percent of bills that exceeded base for SURF: 0.5842339478703115\n",
      "Percent of bills that exceeded base for ULTIMATE: 0.05416666666666667\n"
     ]
    },
    {
     "name": "stderr",
     "output_type": "stream",
     "text": [
      "<ipython-input-47-4737a5d675c3>:2: UserWarning: Boolean Series key will be reindexed to match DataFrame index.\n",
      "  print('Number of bills that exceeded base for SURF:',len(final_data.query('plan==\"surf\"')[final_data['monthly_bill']>20]))\n",
      "<ipython-input-47-4737a5d675c3>:4: UserWarning: Boolean Series key will be reindexed to match DataFrame index.\n",
      "  print('Number of bills that exceeded base for ULTIMATE:',len(final_data.query('plan==\"ultimate\"')[final_data['monthly_bill']>70]))\n",
      "<ipython-input-47-4737a5d675c3>:6: UserWarning: Boolean Series key will be reindexed to match DataFrame index.\n",
      "  print('Percent of bills that exceeded base for SURF:',len(final_data.query('plan==\"surf\"')[final_data['monthly_bill']>20])/\n",
      "<ipython-input-47-4737a5d675c3>:8: UserWarning: Boolean Series key will be reindexed to match DataFrame index.\n",
      "  print('Percent of bills that exceeded base for ULTIMATE:',len(final_data.query('plan==\"ultimate\"')[final_data['monthly_bill']>70])/\n"
     ]
    }
   ],
   "source": [
    "#Number of instances exceeding base for both plans\n",
    "print('Number of bills that exceeded base for SURF:',len(final_data.query('plan==\"surf\"')[final_data['monthly_bill']>20]))\n",
    "\n",
    "print('Number of bills that exceeded base for ULTIMATE:',len(final_data.query('plan==\"ultimate\"')[final_data['monthly_bill']>70]))\n",
    "\n",
    "print('Percent of bills that exceeded base for SURF:',len(final_data.query('plan==\"surf\"')[final_data['monthly_bill']>20])/\n",
    "      len(final_data.query('plan==\"surf\"')))\n",
    "print('Percent of bills that exceeded base for ULTIMATE:',len(final_data.query('plan==\"ultimate\"')[final_data['monthly_bill']>70])/\n",
    "      len(final_data.query('plan==\"ultimate\"')))"
   ]
  },
  {
   "cell_type": "code",
   "execution_count": 48,
   "metadata": {},
   "outputs": [
    {
     "name": "stdout",
     "output_type": "stream",
     "text": [
      "Number of users that have exceeded base for surf: 242\n",
      "Percent of users that have exceeded base for surf: 0.7267267267267268\n",
      "Number of users that have exceeded base for ultimate: 17\n",
      "Percent of users that have exceeded base for ultimate: 0.10828025477707007\n"
     ]
    }
   ],
   "source": [
    "surf_limit=final_data[final_data['plan']==\"surf\"] \n",
    "surf_limit=surf_limit[surf_limit['monthly_bill']>20]\n",
    "ultimate_limit=final_data[final_data['plan']==\"ultimate\"] \n",
    "ultimate_limit=ultimate_limit[ultimate_limit['monthly_bill']>70]\n",
    "print('Number of users that have exceeded base for surf:',surf_limit['user_id'].nunique())\n",
    "print('Percent of users that have exceeded base for surf:',surf_limit['user_id'].nunique()/final_data.query('plan==\"surf\"')['user_id'].nunique())\n",
    "print('Number of users that have exceeded base for ultimate:',ultimate_limit['user_id'].nunique())\n",
    "print('Percent of users that have exceeded base for ultimate:',ultimate_limit['user_id'].nunique()/final_data.query('plan==\"ultimate\"')['user_id'].nunique())"
   ]
  },
  {
   "cell_type": "code",
   "execution_count": 49,
   "metadata": {},
   "outputs": [
    {
     "name": "stdout",
     "output_type": "stream",
     "text": [
      "Number of bills that exceeded base for SURF: 0\n",
      "Percent of bills that exceeded base for SURF: 0.0\n",
      "Number of surf users that have exceeded base for ultimate: 0\n",
      "Percent of surf users that have exceeded base for ultimate: 0.0\n"
     ]
    },
    {
     "name": "stderr",
     "output_type": "stream",
     "text": [
      "<ipython-input-49-4a15363b7dfb>:2: UserWarning: Boolean Series key will be reindexed to match DataFrame index.\n",
      "  print('Number of bills that exceeded base for SURF:',len(final_data.query('plan==\"surf\"')[final_data['monthly_bill']>70]))\n",
      "<ipython-input-49-4a15363b7dfb>:3: UserWarning: Boolean Series key will be reindexed to match DataFrame index.\n",
      "  print('Percent of bills that exceeded base for SURF:',len(final_data.query('plan==\"surf\"')[final_data['monthly_bill']>70])/\n"
     ]
    }
   ],
   "source": [
    "#Surf instances/users exceeding ultimate base fee\n",
    "print('Number of bills that exceeded base for SURF:',len(final_data.query('plan==\"surf\"')[final_data['monthly_bill']>70]))\n",
    "print('Percent of bills that exceeded base for SURF:',len(final_data.query('plan==\"surf\"')[final_data['monthly_bill']>70])/\n",
    "      len(final_data.query('plan==\"surf\"')))\n",
    "surf_exceed_ultimate=final_data[final_data['plan']==\"surf\"] \n",
    "surf_exceed_ultimate=surf_exceed_ultimate[surf_exceed_ultimate['monthly_bill']>70]\n",
    "print('Number of surf users that have exceeded base for ultimate:',surf_exceed_ultimate['user_id'].nunique())\n",
    "print('Percent of surf users that have exceeded base for ultimate:',surf_exceed_ultimate['user_id'].nunique()/final_data.query('plan==\"surf\"')['user_id'].nunique())"
   ]
  },
  {
   "cell_type": "markdown",
   "metadata": {},
   "source": [
    "These histograms make sense: They are skewed right because of the base plans. More than 1/2 of the bills for the surf plan exceed the base fee, accounting for nearly a quarter of the users of this plan. In fact, nearly 1/2 of surf users have exceeded the ultimate base fee at least once accounting for 1/4 of all surf bills. On the other hand, few users of the ultimate plan are going over their base fees each month.  \n",
    "\n",
    "Now I will look at the differences in the plans for call duration, messages, and mb_used."
   ]
  },
  {
   "cell_type": "markdown",
   "metadata": {},
   "source": [
    "### Duration analysis"
   ]
  },
  {
   "cell_type": "code",
   "execution_count": 50,
   "metadata": {
    "scrolled": true
   },
   "outputs": [
    {
     "data": {
      "image/png": "[encoded data removed]",
      "text/plain": [
       "<Figure size 648x648 with 1 Axes>"
      ]
     },
     "metadata": {
      "needs_background": "light"
     },
     "output_type": "display_data"
    },
    {
     "data": {
      "image/png": "[encoded data removed]",
      "text/plain": [
       "<Figure size 1152x360 with 2 Axes>"
      ]
     },
     "metadata": {
      "needs_background": "light"
     },
     "output_type": "display_data"
    }
   ],
   "source": [
    "#Apply functions \n",
    "final_data[['duration']].apply(hist)\n",
    "final_data[['duration']].apply(subplots);"
   ]
  },
  {
   "cell_type": "code",
   "execution_count": 51,
   "metadata": {},
   "outputs": [
    {
     "data": {
      "text/html": [
       "<div>\n",
       "<style scoped>\n",
       "    .dataframe tbody tr th:only-of-type {\n",
       "        vertical-align: middle;\n",
       "    }\n",
       "\n",
       "    .dataframe tbody tr th {\n",
       "        vertical-align: top;\n",
       "    }\n",
       "\n",
       "    .dataframe thead th {\n",
       "        text-align: right;\n",
       "    }\n",
       "</style>\n",
       "<table border=\"1\" class=\"dataframe\">\n",
       "  <thead>\n",
       "    <tr style=\"text-align: right;\">\n",
       "      <th></th>\n",
       "      <th>plan</th>\n",
       "      <th>mean</th>\n",
       "      <th>median</th>\n",
       "      <th>max</th>\n",
       "      <th>var</th>\n",
       "      <th>std</th>\n",
       "    </tr>\n",
       "  </thead>\n",
       "  <tbody>\n",
       "    <tr>\n",
       "      <th>0</th>\n",
       "      <td>surf</td>\n",
       "      <td>428.749523</td>\n",
       "      <td>425.0</td>\n",
       "      <td>1510.0</td>\n",
       "      <td>54968.279461</td>\n",
       "      <td>234.453150</td>\n",
       "    </tr>\n",
       "    <tr>\n",
       "      <th>1</th>\n",
       "      <td>ultimate</td>\n",
       "      <td>430.450000</td>\n",
       "      <td>424.0</td>\n",
       "      <td>1369.0</td>\n",
       "      <td>57844.464812</td>\n",
       "      <td>240.508762</td>\n",
       "    </tr>\n",
       "  </tbody>\n",
       "</table>\n",
       "</div>"
      ],
      "text/plain": [
       "       plan        mean  median     max           var         std\n",
       "0      surf  428.749523   425.0  1510.0  54968.279461  234.453150\n",
       "1  ultimate  430.450000   424.0  1369.0  57844.464812  240.508762"
      ]
     },
     "execution_count": 51,
     "metadata": {},
     "output_type": "execute_result"
    }
   ],
   "source": [
    "final_data.groupby(['plan'])['duration'].agg(['mean','median','max','var','std']).reset_index()"
   ]
  },
  {
   "cell_type": "markdown",
   "metadata": {},
   "source": [
    "Users from both plans seems to follow the same behavior in terms of duration of call as can be seen by similar patterns in the histograms above; except, there are many instances on the surf plan where calls have a low duration. Also, as expected, the ultimate's histogram peaks at a slightly higher x value/slightly more to the right which is not surprising given that users on this plan have a higher free limit. Nonetheless, the mean and median for users of both plans are nearly the same indicating that the time spent on a call is only mildly guided by the plans free limitations."
   ]
  },
  {
   "cell_type": "markdown",
   "metadata": {},
   "source": [
    "### Messages analysis"
   ]
  },
  {
   "cell_type": "code",
   "execution_count": 52,
   "metadata": {},
   "outputs": [
    {
     "data": {
      "image/png": "[encoded data removed]",
      "text/plain": [
       "<Figure size 648x648 with 1 Axes>"
      ]
     },
     "metadata": {
      "needs_background": "light"
     },
     "output_type": "display_data"
    },
    {
     "data": {
      "image/png": "[encoded data removed]",
      "text/plain": [
       "<Figure size 1152x360 with 2 Axes>"
      ]
     },
     "metadata": {
      "needs_background": "light"
     },
     "output_type": "display_data"
    }
   ],
   "source": [
    "#Apply functions \n",
    "final_data[['messages']].apply(hist)\n",
    "final_data[['messages']].apply(subplots);"
   ]
  },
  {
   "cell_type": "code",
   "execution_count": 53,
   "metadata": {
    "scrolled": false
   },
   "outputs": [
    {
     "data": {
      "text/html": [
       "<div>\n",
       "<style scoped>\n",
       "    .dataframe tbody tr th:only-of-type {\n",
       "        vertical-align: middle;\n",
       "    }\n",
       "\n",
       "    .dataframe tbody tr th {\n",
       "        vertical-align: top;\n",
       "    }\n",
       "\n",
       "    .dataframe thead th {\n",
       "        text-align: right;\n",
       "    }\n",
       "</style>\n",
       "<table border=\"1\" class=\"dataframe\">\n",
       "  <thead>\n",
       "    <tr style=\"text-align: right;\">\n",
       "      <th></th>\n",
       "      <th>plan</th>\n",
       "      <th>mean</th>\n",
       "      <th>median</th>\n",
       "      <th>max</th>\n",
       "      <th>var</th>\n",
       "      <th>std</th>\n",
       "    </tr>\n",
       "  </thead>\n",
       "  <tbody>\n",
       "    <tr>\n",
       "      <th>0</th>\n",
       "      <td>surf</td>\n",
       "      <td>40.109656</td>\n",
       "      <td>32.0</td>\n",
       "      <td>266.0</td>\n",
       "      <td>1091.344231</td>\n",
       "      <td>33.035500</td>\n",
       "    </tr>\n",
       "    <tr>\n",
       "      <th>1</th>\n",
       "      <td>ultimate</td>\n",
       "      <td>46.296233</td>\n",
       "      <td>41.0</td>\n",
       "      <td>166.0</td>\n",
       "      <td>1085.183108</td>\n",
       "      <td>32.942118</td>\n",
       "    </tr>\n",
       "  </tbody>\n",
       "</table>\n",
       "</div>"
      ],
      "text/plain": [
       "       plan       mean  median    max          var        std\n",
       "0      surf  40.109656    32.0  266.0  1091.344231  33.035500\n",
       "1  ultimate  46.296233    41.0  166.0  1085.183108  32.942118"
      ]
     },
     "execution_count": 53,
     "metadata": {},
     "output_type": "execute_result"
    }
   ],
   "source": [
    "final_data.groupby(['plan'])['messages'].agg(['mean','median','max','var','std']).reset_index()"
   ]
  },
  {
   "cell_type": "markdown",
   "metadata": {},
   "source": [
    "The slopes for the surf plan are steaper and the gap between the mean and median indicates that there is greater variation in message use for users in this plan. The pattern for the ultimate plan users is more steady and the mean and median are closer together."
   ]
  },
  {
   "cell_type": "markdown",
   "metadata": {},
   "source": [
    "### Mb analysis"
   ]
  },
  {
   "cell_type": "code",
   "execution_count": 54,
   "metadata": {},
   "outputs": [
    {
     "data": {
      "image/png": "[encoded data removed]",
      "text/plain": [
       "<Figure size 648x648 with 1 Axes>"
      ]
     },
     "metadata": {
      "needs_background": "light"
     },
     "output_type": "display_data"
    },
    {
     "data": {
      "image/png": "[encoded data removed]",
      "text/plain": [
       "<Figure size 1152x360 with 2 Axes>"
      ]
     },
     "metadata": {
      "needs_background": "light"
     },
     "output_type": "display_data"
    }
   ],
   "source": [
    "#Apply functions \n",
    "final_data[['mb_used']].apply(hist)\n",
    "final_data[['mb_used']].apply(subplots);"
   ]
  },
  {
   "cell_type": "code",
   "execution_count": 55,
   "metadata": {
    "scrolled": true
   },
   "outputs": [
    {
     "data": {
      "text/html": [
       "<div>\n",
       "<style scoped>\n",
       "    .dataframe tbody tr th:only-of-type {\n",
       "        vertical-align: middle;\n",
       "    }\n",
       "\n",
       "    .dataframe tbody tr th {\n",
       "        vertical-align: top;\n",
       "    }\n",
       "\n",
       "    .dataframe thead th {\n",
       "        text-align: right;\n",
       "    }\n",
       "</style>\n",
       "<table border=\"1\" class=\"dataframe\">\n",
       "  <thead>\n",
       "    <tr style=\"text-align: right;\">\n",
       "      <th></th>\n",
       "      <th>plan</th>\n",
       "      <th>mean</th>\n",
       "      <th>median</th>\n",
       "      <th>max</th>\n",
       "      <th>var</th>\n",
       "      <th>std</th>\n",
       "    </tr>\n",
       "  </thead>\n",
       "  <tbody>\n",
       "    <tr>\n",
       "      <th>0</th>\n",
       "      <td>surf</td>\n",
       "      <td>17201.540436</td>\n",
       "      <td>17000.0</td>\n",
       "      <td>71000.0</td>\n",
       "      <td>6.205826e+07</td>\n",
       "      <td>7877.706743</td>\n",
       "    </tr>\n",
       "    <tr>\n",
       "      <th>1</th>\n",
       "      <td>ultimate</td>\n",
       "      <td>17744.089013</td>\n",
       "      <td>17000.0</td>\n",
       "      <td>47000.0</td>\n",
       "      <td>6.151102e+07</td>\n",
       "      <td>7842.896150</td>\n",
       "    </tr>\n",
       "  </tbody>\n",
       "</table>\n",
       "</div>"
      ],
      "text/plain": [
       "       plan          mean   median      max           var          std\n",
       "0      surf  17201.540436  17000.0  71000.0  6.205826e+07  7877.706743\n",
       "1  ultimate  17744.089013  17000.0  47000.0  6.151102e+07  7842.896150"
      ]
     },
     "execution_count": 55,
     "metadata": {},
     "output_type": "execute_result"
    }
   ],
   "source": [
    "final_data.groupby(['plan'])['mb_used'].agg(['mean','median','max','var','std']).reset_index()"
   ]
  },
  {
   "cell_type": "markdown",
   "metadata": {},
   "source": [
    "The graphs above indicate that the behavior of the users does not differ too much between plans. For example, Q1 through Q3 on the boxplots are leveled. The histograms are skewed left asn there are few instances of users going over the free plan. The Surf boxplots have more \"outliers\" because there are more instances of users exceeding their free limit (which means they are not actually outlier, rather just a result of users trying to stay close to or below their free limit)."
   ]
  },
  {
   "cell_type": "markdown",
   "metadata": {},
   "source": [
    "## Test hypothesis\n",
    "\n",
    "1. The average revenue from users of Ultimate and Surf calling plans differs.\n",
    "2. The average revenue from users in NY-NJ area is different from that of the users from other regions.\n",
    "\n",
    "alpha=.05"
   ]
  },
  {
   "cell_type": "markdown",
   "metadata": {},
   "source": [
    "### Ultimate vs Surf calling plans "
   ]
  },
  {
   "cell_type": "markdown",
   "metadata": {},
   "source": [
    "H0: The average revenue from users of Ultimate and Surf calling does NOT differ.\n",
    "\n",
    "H1: The average revenue from users of Ultimate and Surf calling plans differs."
   ]
  },
  {
   "cell_type": "code",
   "execution_count": 56,
   "metadata": {},
   "outputs": [],
   "source": [
    "#Create 2 sample based on plan\n",
    "surf_sample=final_data[final_data['plan']=='surf']\n",
    "ultimate_sample=final_data[final_data['plan']=='ultimate']"
   ]
  },
  {
   "cell_type": "code",
   "execution_count": 57,
   "metadata": {},
   "outputs": [
    {
     "name": "stdout",
     "output_type": "stream",
     "text": [
      "p-value: 0.0\n",
      "We reject the null hypothesis\n"
     ]
    }
   ],
   "source": [
    "#test hypothesis on equality of mean\n",
    "results = st.ttest_ind(surf_sample['monthly_bill'], ultimate_sample['monthly_bill'],nan_policy='omit')\n",
    "\n",
    "alpha=.05\n",
    "\n",
    "print('p-value:', results.pvalue)\n",
    "\n",
    "if results.pvalue < alpha:\n",
    "    print(\"We reject the null hypothesis\")\n",
    "else:\n",
    "    print(\"We can't reject the null hypothesis\") "
   ]
  },
  {
   "cell_type": "code",
   "execution_count": 58,
   "metadata": {},
   "outputs": [
    {
     "name": "stdout",
     "output_type": "stream",
     "text": [
      "Result for : duration\n",
      "Reject H0: average of the first sample is not equal to average of the second sample\n",
      "----------------------------\n",
      "Result for : mb_used\n",
      "Reject H0: average of the first sample is not equal to average of the second sample\n",
      "----------------------------\n",
      "Result for : monthly_bill\n",
      "Reject H0: average of the first sample is not equal to average of the second sample\n",
      "----------------------------\n"
     ]
    }
   ],
   "source": [
    "#create user defined function\n",
    "def t_test(surf_sample,ultimate_sample,alpha=0.05):\n",
    "    p_value_levene=st.levene(surf_sample,ultimate_sample).pvalue.astype(int)\n",
    "    if p_value_levene<alpha:\n",
    "        option_var=False\n",
    "    else:\n",
    "        option_var=True\n",
    "    p_value=st.ttest_ind(surf_sample,ultimate_sample,nan_policy='omit',equal_var=option_var).pvalue.astype(int)\n",
    "    if p_value<alpha:\n",
    "        print('Reject H0: average of the first sample is not equal to average of the second sample')\n",
    "    else:\n",
    "        print( \"Fail to Reject H0: We don't have enough evidence to say that averages of the first sample \\\n",
    "  and the second sample are not the same\") \n",
    "\n",
    "#run columns \n",
    "for i in final_data.columns:\n",
    "    if i not in ['message','duration','mb_used', 'monthly_bill']:\n",
    "        continue\n",
    "    else:\n",
    "        print('Result for :',i)\n",
    "        t_test(surf_sample[i],ultimate_sample[i],alpha=0.05)\n",
    "        print('----------------------------')  "
   ]
  },
  {
   "cell_type": "markdown",
   "metadata": {},
   "source": [
    "### NY-NJ vs Other states"
   ]
  },
  {
   "cell_type": "markdown",
   "metadata": {},
   "source": [
    "H0: The average revenue from users in NY-NJ area is NOT different from that of the users from other regions.\n",
    "   \n",
    "H1: The average revenue from users in NY-NJ area is different from that of the users from other regions."
   ]
  },
  {
   "cell_type": "code",
   "execution_count": 59,
   "metadata": {},
   "outputs": [],
   "source": [
    "#Create 2 samples based on whether from NY-NJ area\n",
    "nynj_sample=final_data[final_data['ny_nj']==True]\n",
    "other_sample=final_data[final_data['ny_nj']==False]"
   ]
  },
  {
   "cell_type": "code",
   "execution_count": 60,
   "metadata": {},
   "outputs": [
    {
     "name": "stdout",
     "output_type": "stream",
     "text": [
      "p-value: 1.4471316661427175e-05\n",
      "We reject the null hypothesis\n"
     ]
    }
   ],
   "source": [
    "results = st.ttest_ind(nynj_sample['monthly_bill'], other_sample['monthly_bill'],nan_policy='omit')\n",
    "\n",
    "alpha=.05\n",
    "\n",
    "print('p-value:', results.pvalue)\n",
    "\n",
    "if results.pvalue < alpha:\n",
    "    print(\"We reject the null hypothesis\")\n",
    "else:\n",
    "    print(\"We can't reject the null hypothesis\") "
   ]
  },
  {
   "cell_type": "code",
   "execution_count": 61,
   "metadata": {},
   "outputs": [
    {
     "name": "stdout",
     "output_type": "stream",
     "text": [
      "Result for : duration\n",
      "Reject H0: average of the first sample is not equal to average of the second sample\n",
      "----------------------------\n",
      "Result for : mb_used\n",
      "Reject H0: average of the first sample is not equal to average of the second sample\n",
      "----------------------------\n",
      "Result for : monthly_bill\n",
      "Reject H0: average of the first sample is not equal to average of the second sample\n",
      "----------------------------\n"
     ]
    }
   ],
   "source": [
    "#run columns \n",
    "for i in final_data.columns:\n",
    "    if i not in ['message','duration','mb_used', 'monthly_bill']:\n",
    "        continue\n",
    "    else:\n",
    "        print('Result for :',i)\n",
    "        t_test(nynj_sample[i],other_sample[i],alpha=0.05)\n",
    "        print('----------------------------')  "
   ]
  },
  {
   "cell_type": "markdown",
   "metadata": {},
   "source": [
    "## Conclusion"
   ]
  },
  {
   "cell_type": "markdown",
   "metadata": {},
   "source": [
    "1. 68% of customers prefer the Surf plan to the Ultimate plan.\n",
    "2. Exceeding free limits: \n",
    "    1. More than 1/2 of the bills for the surf plan exceed the base fee, accounting for nearly a quarter of the users of this plan. \n",
    "        1. In fact, nearly 1/2 of surf users even exceeded the ultimate base fee at least once accounting for 1/4 of all surf bills. \n",
    "    2. On the other hand, few users of the ultimate plan are going over their base fees each month.  \n",
    "  \n",
    "3. Overal annual revenue in 2018 was 45% higher from the surf plan. However, revenue per user was 16% higher for the ultimate plan. \n",
    "    1. The difference in revenue is statistically significant.\n",
    "    2. More users are on the surf plan which is what accounts for the higher revenue, but the ultimate plan generates more revenue. \n",
    "    3. Possibly pointing out to the surf users who have gone over their limit once, immediately following that event, that they may benefit from the ultimate plan, could encourage them to switch to the plan that is more profitable for the company.\n",
    "\n",
    "3. User activity was only mildly guided by their plan. Median and means for the Ultimate plan were only slightly higher than for the Surf plan for call duration and mb used; for messages the differences between the 2 plans was slightly more significant.\n",
    "\n",
    "4. The difference between the average revenue from users in NY-NJ area vs. other regions is not statistically significant.\n"
   ]
  }
 ],
 "metadata": {
  "ExecuteTimeLog": [
   {
    "duration": 703,
    "start_time": "2022-08-22T07:22:29.016Z"
   },
   {
    "duration": 854,
    "start_time": "2022-08-22T07:25:59.654Z"
   },
   {
    "duration": 21,
    "start_time": "2022-08-22T07:29:29.038Z"
   },
   {
    "duration": 17,
    "start_time": "2022-08-22T07:29:37.255Z"
   },
   {
    "duration": 58,
    "start_time": "2022-08-22T07:29:46.814Z"
   },
   {
    "duration": 21,
    "start_time": "2022-08-22T07:29:54.664Z"
   },
   {
    "duration": 20,
    "start_time": "2022-08-22T07:30:42.613Z"
   },
   {
    "duration": 82,
    "start_time": "2022-08-22T07:32:38.592Z"
   },
   {
    "duration": 19,
    "start_time": "2022-08-22T07:33:05.120Z"
   },
   {
    "duration": 164,
    "start_time": "2022-08-22T07:35:50.623Z"
   },
   {
    "duration": 53,
    "start_time": "2022-08-22T07:37:41.259Z"
   },
   {
    "duration": 48,
    "start_time": "2022-08-22T07:55:30.199Z"
   },
   {
    "duration": 7,
    "start_time": "2022-08-22T07:56:11.881Z"
   },
   {
    "duration": 53,
    "start_time": "2022-08-22T07:56:23.701Z"
   },
   {
    "duration": 96,
    "start_time": "2022-08-22T07:57:27.567Z"
   },
   {
    "duration": 61,
    "start_time": "2022-08-22T07:57:45.661Z"
   },
   {
    "duration": 97,
    "start_time": "2022-08-22T07:57:56.179Z"
   },
   {
    "duration": 20,
    "start_time": "2022-08-22T08:06:58.906Z"
   },
   {
    "duration": 1092,
    "start_time": "2022-08-22T08:09:56.482Z"
   },
   {
    "duration": 50,
    "start_time": "2022-08-22T08:10:11.200Z"
   },
   {
    "duration": 846,
    "start_time": "2022-08-22T08:11:00.883Z"
   },
   {
    "duration": 1285,
    "start_time": "2022-08-22T08:12:07.375Z"
   },
   {
    "duration": 46,
    "start_time": "2022-08-22T08:12:35.083Z"
   },
   {
    "duration": 46,
    "start_time": "2022-08-22T08:12:48.613Z"
   },
   {
    "duration": 47,
    "start_time": "2022-08-22T08:12:57.348Z"
   },
   {
    "duration": 73,
    "start_time": "2022-08-22T08:13:33.374Z"
   },
   {
    "duration": 54,
    "start_time": "2022-08-22T08:19:03.154Z"
   },
   {
    "duration": 54,
    "start_time": "2022-08-22T08:21:00.569Z"
   },
   {
    "duration": 52,
    "start_time": "2022-08-22T08:21:09.119Z"
   },
   {
    "duration": 51,
    "start_time": "2022-08-22T08:21:45.660Z"
   },
   {
    "duration": 51,
    "start_time": "2022-08-22T08:21:49.541Z"
   },
   {
    "duration": 41,
    "start_time": "2022-08-22T08:22:29.322Z"
   },
   {
    "duration": 6,
    "start_time": "2022-08-22T08:25:21.221Z"
   },
   {
    "duration": 40,
    "start_time": "2022-08-22T08:26:03.231Z"
   },
   {
    "duration": 46,
    "start_time": "2022-08-22T08:35:10.892Z"
   },
   {
    "duration": 34,
    "start_time": "2022-08-22T08:36:33.828Z"
   },
   {
    "duration": 37,
    "start_time": "2022-08-22T08:37:29.563Z"
   },
   {
    "duration": 34,
    "start_time": "2022-08-22T08:37:40.853Z"
   },
   {
    "duration": 32,
    "start_time": "2022-08-22T08:38:30.211Z"
   },
   {
    "duration": 269,
    "start_time": "2022-08-22T08:41:24.252Z"
   },
   {
    "duration": 8,
    "start_time": "2022-08-22T08:41:41.463Z"
   },
   {
    "duration": 8,
    "start_time": "2022-08-22T08:42:45.679Z"
   },
   {
    "duration": 8,
    "start_time": "2022-08-22T08:49:17.016Z"
   },
   {
    "duration": 9,
    "start_time": "2022-08-22T08:49:28.428Z"
   },
   {
    "duration": 7,
    "start_time": "2022-08-22T08:49:37.101Z"
   },
   {
    "duration": 7,
    "start_time": "2022-08-22T08:59:11.384Z"
   },
   {
    "duration": 8,
    "start_time": "2022-08-22T08:59:24.949Z"
   },
   {
    "duration": 14,
    "start_time": "2022-08-22T08:59:41.472Z"
   },
   {
    "duration": 27,
    "start_time": "2022-08-22T09:01:57.224Z"
   },
   {
    "duration": 209,
    "start_time": "2022-08-22T09:14:21.562Z"
   },
   {
    "duration": 192,
    "start_time": "2022-08-22T09:14:37.175Z"
   },
   {
    "duration": 238,
    "start_time": "2022-08-22T09:15:55.448Z"
   },
   {
    "duration": 1127,
    "start_time": "2022-08-22T09:19:36.101Z"
   },
   {
    "duration": 1372,
    "start_time": "2022-08-22T09:20:25.984Z"
   },
   {
    "duration": 258,
    "start_time": "2022-08-22T09:20:50.222Z"
   },
   {
    "duration": 1173,
    "start_time": "2022-08-22T09:20:52.353Z"
   },
   {
    "duration": 933,
    "start_time": "2022-08-22T09:22:19.323Z"
   },
   {
    "duration": 120,
    "start_time": "2022-08-22T09:23:27.366Z"
   },
   {
    "duration": 28,
    "start_time": "2022-08-22T09:33:33.514Z"
   },
   {
    "duration": 45,
    "start_time": "2022-08-22T09:48:31.655Z"
   },
   {
    "duration": 23,
    "start_time": "2022-08-22T09:49:01.779Z"
   },
   {
    "duration": 21,
    "start_time": "2022-08-22T09:49:09.792Z"
   },
   {
    "duration": 24,
    "start_time": "2022-08-22T09:50:56.757Z"
   },
   {
    "duration": 29,
    "start_time": "2022-08-22T09:51:17.695Z"
   },
   {
    "duration": 22,
    "start_time": "2022-08-22T09:51:23.844Z"
   },
   {
    "duration": 28,
    "start_time": "2022-08-22T09:51:44.027Z"
   },
   {
    "duration": 25,
    "start_time": "2022-08-22T09:51:49.023Z"
   },
   {
    "duration": 25,
    "start_time": "2022-08-22T09:53:05.410Z"
   },
   {
    "duration": 25,
    "start_time": "2022-08-22T09:53:51.534Z"
   },
   {
    "duration": 95,
    "start_time": "2022-08-22T10:10:06.860Z"
   },
   {
    "duration": 7,
    "start_time": "2022-08-22T10:10:18.896Z"
   },
   {
    "duration": 7,
    "start_time": "2022-08-22T10:10:31.225Z"
   },
   {
    "duration": 66,
    "start_time": "2022-08-22T10:10:45.232Z"
   },
   {
    "duration": 639,
    "start_time": "2022-08-22T10:12:25.459Z"
   },
   {
    "duration": 762,
    "start_time": "2022-08-23T06:19:19.006Z"
   },
   {
    "duration": 851,
    "start_time": "2022-08-23T06:19:19.770Z"
   },
   {
    "duration": 53,
    "start_time": "2022-08-23T06:19:20.622Z"
   },
   {
    "duration": 106,
    "start_time": "2022-08-23T06:19:20.677Z"
   },
   {
    "duration": 49,
    "start_time": "2022-08-23T06:19:20.785Z"
   },
   {
    "duration": 15,
    "start_time": "2022-08-23T06:19:20.836Z"
   },
   {
    "duration": 6,
    "start_time": "2022-08-23T06:19:20.853Z"
   },
   {
    "duration": 69,
    "start_time": "2022-08-23T06:19:20.860Z"
   },
   {
    "duration": 60,
    "start_time": "2022-08-23T06:19:20.930Z"
   },
   {
    "duration": 33,
    "start_time": "2022-08-23T06:19:20.993Z"
   },
   {
    "duration": 9,
    "start_time": "2022-08-23T06:19:21.028Z"
   },
   {
    "duration": 13,
    "start_time": "2022-08-23T06:19:21.038Z"
   },
   {
    "duration": 62,
    "start_time": "2022-08-23T06:19:21.053Z"
   },
   {
    "duration": 290,
    "start_time": "2022-08-23T06:19:21.116Z"
   },
   {
    "duration": 130,
    "start_time": "2022-08-23T06:19:21.407Z"
   },
   {
    "duration": 26,
    "start_time": "2022-08-23T06:19:21.539Z"
   },
   {
    "duration": 50,
    "start_time": "2022-08-23T06:19:21.566Z"
   },
   {
    "duration": 24,
    "start_time": "2022-08-23T06:19:21.618Z"
   },
   {
    "duration": 88,
    "start_time": "2022-08-23T06:34:15.215Z"
   },
   {
    "duration": 48,
    "start_time": "2022-08-23T06:35:12.419Z"
   },
   {
    "duration": 37,
    "start_time": "2022-08-23T06:38:13.059Z"
   },
   {
    "duration": 15,
    "start_time": "2022-08-23T06:39:17.560Z"
   },
   {
    "duration": 61,
    "start_time": "2022-08-23T06:48:26.183Z"
   },
   {
    "duration": 219,
    "start_time": "2022-08-23T06:48:31.294Z"
   },
   {
    "duration": 181,
    "start_time": "2022-08-23T06:49:35.355Z"
   },
   {
    "duration": 59,
    "start_time": "2022-08-23T06:50:15.342Z"
   },
   {
    "duration": 67,
    "start_time": "2022-08-23T06:50:17.044Z"
   },
   {
    "duration": 17,
    "start_time": "2022-08-23T06:50:18.530Z"
   },
   {
    "duration": 42,
    "start_time": "2022-08-23T07:23:56.938Z"
   },
   {
    "duration": 87,
    "start_time": "2022-08-23T07:45:11.946Z"
   },
   {
    "duration": 9,
    "start_time": "2022-08-23T07:45:42.675Z"
   },
   {
    "duration": 840,
    "start_time": "2022-08-23T07:46:01.738Z"
   },
   {
    "duration": 453,
    "start_time": "2022-08-23T07:46:05.305Z"
   },
   {
    "duration": 4766,
    "start_time": "2022-08-23T07:47:22.238Z"
   },
   {
    "duration": 15,
    "start_time": "2022-08-23T07:47:53.158Z"
   },
   {
    "duration": 23,
    "start_time": "2022-08-23T07:49:10.534Z"
   },
   {
    "duration": 21,
    "start_time": "2022-08-23T07:49:37.580Z"
   },
   {
    "duration": 19,
    "start_time": "2022-08-23T07:56:26.357Z"
   },
   {
    "duration": 29,
    "start_time": "2022-08-23T07:57:15.512Z"
   },
   {
    "duration": 23,
    "start_time": "2022-08-23T07:57:41.772Z"
   },
   {
    "duration": 54,
    "start_time": "2022-08-23T07:59:50.764Z"
   },
   {
    "duration": 625,
    "start_time": "2022-08-23T08:00:06.497Z"
   },
   {
    "duration": 328,
    "start_time": "2022-08-23T08:00:07.124Z"
   },
   {
    "duration": 68,
    "start_time": "2022-08-23T08:00:07.454Z"
   },
   {
    "duration": 139,
    "start_time": "2022-08-23T08:00:07.524Z"
   },
   {
    "duration": 68,
    "start_time": "2022-08-23T08:00:07.664Z"
   },
   {
    "duration": 1,
    "start_time": "2022-08-23T08:00:07.733Z"
   },
   {
    "duration": 48,
    "start_time": "2022-08-23T08:00:14.302Z"
   },
   {
    "duration": 8,
    "start_time": "2022-08-23T08:00:17.003Z"
   },
   {
    "duration": 550,
    "start_time": "2022-08-23T08:00:33.223Z"
   },
   {
    "duration": 7,
    "start_time": "2022-08-23T08:01:06.924Z"
   },
   {
    "duration": 13,
    "start_time": "2022-08-23T08:01:46.910Z"
   },
   {
    "duration": 1413,
    "start_time": "2022-08-23T08:02:21.458Z"
   },
   {
    "duration": 1183,
    "start_time": "2022-08-23T08:02:32.864Z"
   },
   {
    "duration": 577,
    "start_time": "2022-08-23T08:03:01.120Z"
   },
   {
    "duration": 10,
    "start_time": "2022-08-23T08:06:43.267Z"
   },
   {
    "duration": 115,
    "start_time": "2022-08-23T08:08:57.195Z"
   },
   {
    "duration": 1196,
    "start_time": "2022-08-23T08:09:06.170Z"
   },
   {
    "duration": 756,
    "start_time": "2022-08-23T08:09:28.520Z"
   },
   {
    "duration": 326,
    "start_time": "2022-08-23T08:09:29.278Z"
   },
   {
    "duration": 64,
    "start_time": "2022-08-23T08:09:29.606Z"
   },
   {
    "duration": 21,
    "start_time": "2022-08-23T08:09:29.672Z"
   },
   {
    "duration": 143,
    "start_time": "2022-08-23T08:09:29.701Z"
   },
   {
    "duration": 10,
    "start_time": "2022-08-23T08:09:29.845Z"
   },
   {
    "duration": 71,
    "start_time": "2022-08-23T08:09:29.857Z"
   },
   {
    "duration": 88,
    "start_time": "2022-08-23T08:09:32.297Z"
   },
   {
    "duration": 1955,
    "start_time": "2022-08-23T08:10:02.401Z"
   },
   {
    "duration": 1023,
    "start_time": "2022-08-23T08:10:53.513Z"
   },
   {
    "duration": 669,
    "start_time": "2022-08-23T08:11:10.257Z"
   },
   {
    "duration": 314,
    "start_time": "2022-08-23T08:11:10.928Z"
   },
   {
    "duration": 62,
    "start_time": "2022-08-23T08:11:11.244Z"
   },
   {
    "duration": 14,
    "start_time": "2022-08-23T08:11:11.308Z"
   },
   {
    "duration": 163,
    "start_time": "2022-08-23T08:11:11.324Z"
   },
   {
    "duration": 11,
    "start_time": "2022-08-23T08:11:11.496Z"
   },
   {
    "duration": 61,
    "start_time": "2022-08-23T08:11:11.509Z"
   },
   {
    "duration": 89,
    "start_time": "2022-08-23T08:11:14.075Z"
   },
   {
    "duration": 1261,
    "start_time": "2022-08-23T08:12:38.659Z"
   },
   {
    "duration": 728,
    "start_time": "2022-08-23T08:12:52.025Z"
   },
   {
    "duration": 358,
    "start_time": "2022-08-23T08:12:52.755Z"
   },
   {
    "duration": 60,
    "start_time": "2022-08-23T08:12:53.115Z"
   },
   {
    "duration": 25,
    "start_time": "2022-08-23T08:12:53.177Z"
   },
   {
    "duration": 133,
    "start_time": "2022-08-23T08:12:53.203Z"
   },
   {
    "duration": 7,
    "start_time": "2022-08-23T08:12:53.337Z"
   },
   {
    "duration": 65,
    "start_time": "2022-08-23T08:12:53.346Z"
   },
   {
    "duration": 545,
    "start_time": "2022-08-23T08:12:55.884Z"
   },
   {
    "duration": 685,
    "start_time": "2022-08-23T08:13:22.063Z"
   },
   {
    "duration": 353,
    "start_time": "2022-08-23T08:13:22.750Z"
   },
   {
    "duration": 58,
    "start_time": "2022-08-23T08:13:23.105Z"
   },
   {
    "duration": 12,
    "start_time": "2022-08-23T08:13:23.165Z"
   },
   {
    "duration": 133,
    "start_time": "2022-08-23T08:13:23.178Z"
   },
   {
    "duration": 7,
    "start_time": "2022-08-23T08:13:23.312Z"
   },
   {
    "duration": 52,
    "start_time": "2022-08-23T08:13:23.320Z"
   },
   {
    "duration": 26,
    "start_time": "2022-08-23T08:13:25.936Z"
   },
   {
    "duration": 665,
    "start_time": "2022-08-23T08:15:45.627Z"
   },
   {
    "duration": 347,
    "start_time": "2022-08-23T08:15:46.298Z"
   },
   {
    "duration": 62,
    "start_time": "2022-08-23T08:15:46.647Z"
   },
   {
    "duration": 12,
    "start_time": "2022-08-23T08:15:46.711Z"
   },
   {
    "duration": 157,
    "start_time": "2022-08-23T08:15:46.725Z"
   },
   {
    "duration": 15,
    "start_time": "2022-08-23T08:15:46.888Z"
   },
   {
    "duration": 62,
    "start_time": "2022-08-23T08:15:46.905Z"
   },
   {
    "duration": 27,
    "start_time": "2022-08-23T08:15:52.825Z"
   },
   {
    "duration": 78,
    "start_time": "2022-08-23T08:20:47.994Z"
   },
   {
    "duration": 830,
    "start_time": "2022-08-23T08:20:56.948Z"
   },
   {
    "duration": 5,
    "start_time": "2022-08-23T08:21:22.168Z"
   },
   {
    "duration": 663,
    "start_time": "2022-08-23T08:21:39.314Z"
   },
   {
    "duration": 343,
    "start_time": "2022-08-23T08:21:39.980Z"
   },
   {
    "duration": 89,
    "start_time": "2022-08-23T08:21:40.325Z"
   },
   {
    "duration": 17,
    "start_time": "2022-08-23T08:21:40.416Z"
   },
   {
    "duration": 163,
    "start_time": "2022-08-23T08:21:40.435Z"
   },
   {
    "duration": 8,
    "start_time": "2022-08-23T08:21:40.602Z"
   },
   {
    "duration": 105,
    "start_time": "2022-08-23T08:21:40.612Z"
   },
   {
    "duration": 6,
    "start_time": "2022-08-23T08:21:40.718Z"
   },
   {
    "duration": 821,
    "start_time": "2022-08-23T08:21:51.900Z"
   },
   {
    "duration": 603,
    "start_time": "2022-08-23T08:22:38.229Z"
   },
   {
    "duration": 314,
    "start_time": "2022-08-23T08:22:38.834Z"
   },
   {
    "duration": 66,
    "start_time": "2022-08-23T08:22:39.150Z"
   },
   {
    "duration": 13,
    "start_time": "2022-08-23T08:22:39.218Z"
   },
   {
    "duration": 152,
    "start_time": "2022-08-23T08:22:39.234Z"
   },
   {
    "duration": 17,
    "start_time": "2022-08-23T08:22:39.392Z"
   },
   {
    "duration": 61,
    "start_time": "2022-08-23T08:22:39.411Z"
   },
   {
    "duration": 5,
    "start_time": "2022-08-23T08:22:39.474Z"
   },
   {
    "duration": 82,
    "start_time": "2022-08-23T08:22:44.856Z"
   },
   {
    "duration": 650,
    "start_time": "2022-08-23T08:23:10.813Z"
   },
   {
    "duration": 334,
    "start_time": "2022-08-23T08:23:11.465Z"
   },
   {
    "duration": 63,
    "start_time": "2022-08-23T08:23:11.803Z"
   },
   {
    "duration": 21,
    "start_time": "2022-08-23T08:23:11.869Z"
   },
   {
    "duration": 130,
    "start_time": "2022-08-23T08:23:11.893Z"
   },
   {
    "duration": 6,
    "start_time": "2022-08-23T08:23:12.024Z"
   },
   {
    "duration": 60,
    "start_time": "2022-08-23T08:23:12.032Z"
   },
   {
    "duration": 12,
    "start_time": "2022-08-23T08:23:12.094Z"
   },
   {
    "duration": 1187,
    "start_time": "2022-08-23T08:23:57.083Z"
   },
   {
    "duration": 806,
    "start_time": "2022-08-23T08:24:18.037Z"
   },
   {
    "duration": 719,
    "start_time": "2022-08-23T08:24:33.882Z"
   },
   {
    "duration": 306,
    "start_time": "2022-08-23T08:24:34.604Z"
   },
   {
    "duration": 55,
    "start_time": "2022-08-23T08:24:34.912Z"
   },
   {
    "duration": 12,
    "start_time": "2022-08-23T08:24:34.970Z"
   },
   {
    "duration": 158,
    "start_time": "2022-08-23T08:24:34.984Z"
   },
   {
    "duration": 8,
    "start_time": "2022-08-23T08:24:35.144Z"
   },
   {
    "duration": 86,
    "start_time": "2022-08-23T08:24:35.154Z"
   },
   {
    "duration": 6,
    "start_time": "2022-08-23T08:24:35.242Z"
   },
   {
    "duration": 1219,
    "start_time": "2022-08-23T08:24:35.249Z"
   },
   {
    "duration": 597,
    "start_time": "2022-08-23T08:26:12.147Z"
   },
   {
    "duration": 320,
    "start_time": "2022-08-23T08:26:12.745Z"
   },
   {
    "duration": 65,
    "start_time": "2022-08-23T08:26:13.067Z"
   },
   {
    "duration": 11,
    "start_time": "2022-08-23T08:26:13.134Z"
   },
   {
    "duration": 132,
    "start_time": "2022-08-23T08:26:13.147Z"
   },
   {
    "duration": 18,
    "start_time": "2022-08-23T08:26:13.280Z"
   },
   {
    "duration": 50,
    "start_time": "2022-08-23T08:26:13.299Z"
   },
   {
    "duration": 5,
    "start_time": "2022-08-23T08:26:13.350Z"
   },
   {
    "duration": 756,
    "start_time": "2022-08-23T08:26:16.959Z"
   },
   {
    "duration": 654,
    "start_time": "2022-08-23T08:26:40.127Z"
   },
   {
    "duration": 322,
    "start_time": "2022-08-23T08:26:40.783Z"
   },
   {
    "duration": 65,
    "start_time": "2022-08-23T08:26:41.107Z"
   },
   {
    "duration": 25,
    "start_time": "2022-08-23T08:26:41.175Z"
   },
   {
    "duration": 132,
    "start_time": "2022-08-23T08:26:41.202Z"
   },
   {
    "duration": 7,
    "start_time": "2022-08-23T08:26:41.337Z"
   },
   {
    "duration": 77,
    "start_time": "2022-08-23T08:26:41.346Z"
   },
   {
    "duration": 5,
    "start_time": "2022-08-23T08:26:41.425Z"
   },
   {
    "duration": 760,
    "start_time": "2022-08-23T08:26:46.728Z"
   },
   {
    "duration": 644,
    "start_time": "2022-08-23T08:27:16.173Z"
   },
   {
    "duration": 300,
    "start_time": "2022-08-23T08:27:16.819Z"
   },
   {
    "duration": 61,
    "start_time": "2022-08-23T08:27:17.120Z"
   },
   {
    "duration": 17,
    "start_time": "2022-08-23T08:27:17.183Z"
   },
   {
    "duration": 126,
    "start_time": "2022-08-23T08:27:17.201Z"
   },
   {
    "duration": 7,
    "start_time": "2022-08-23T08:27:17.329Z"
   },
   {
    "duration": 68,
    "start_time": "2022-08-23T08:27:17.338Z"
   },
   {
    "duration": 6,
    "start_time": "2022-08-23T08:27:17.408Z"
   },
   {
    "duration": 840,
    "start_time": "2022-08-23T08:27:23.571Z"
   },
   {
    "duration": 2239,
    "start_time": "2022-08-23T08:27:48.759Z"
   },
   {
    "duration": 673,
    "start_time": "2022-08-23T08:29:43.079Z"
   },
   {
    "duration": 342,
    "start_time": "2022-08-23T08:29:43.754Z"
   },
   {
    "duration": 71,
    "start_time": "2022-08-23T08:29:44.099Z"
   },
   {
    "duration": 29,
    "start_time": "2022-08-23T08:29:44.173Z"
   },
   {
    "duration": 135,
    "start_time": "2022-08-23T08:29:44.204Z"
   },
   {
    "duration": 7,
    "start_time": "2022-08-23T08:29:44.341Z"
   },
   {
    "duration": 70,
    "start_time": "2022-08-23T08:29:44.349Z"
   },
   {
    "duration": 7,
    "start_time": "2022-08-23T08:29:44.421Z"
   },
   {
    "duration": 765,
    "start_time": "2022-08-23T08:29:47.637Z"
   },
   {
    "duration": 660,
    "start_time": "2022-08-23T08:32:50.164Z"
   },
   {
    "duration": 319,
    "start_time": "2022-08-23T08:32:50.827Z"
   },
   {
    "duration": 65,
    "start_time": "2022-08-23T08:32:51.148Z"
   },
   {
    "duration": 11,
    "start_time": "2022-08-23T08:32:51.216Z"
   },
   {
    "duration": 137,
    "start_time": "2022-08-23T08:32:51.229Z"
   },
   {
    "duration": 6,
    "start_time": "2022-08-23T08:32:51.367Z"
   },
   {
    "duration": 63,
    "start_time": "2022-08-23T08:32:51.386Z"
   },
   {
    "duration": 5,
    "start_time": "2022-08-23T08:32:51.451Z"
   },
   {
    "duration": 753,
    "start_time": "2022-08-23T08:32:53.457Z"
   },
   {
    "duration": 5,
    "start_time": "2022-08-23T08:33:26.951Z"
   },
   {
    "duration": 649,
    "start_time": "2022-08-23T08:33:50.544Z"
   },
   {
    "duration": 307,
    "start_time": "2022-08-23T08:33:51.196Z"
   },
   {
    "duration": 63,
    "start_time": "2022-08-23T08:33:51.505Z"
   },
   {
    "duration": 20,
    "start_time": "2022-08-23T08:33:51.571Z"
   },
   {
    "duration": 134,
    "start_time": "2022-08-23T08:33:51.595Z"
   },
   {
    "duration": 6,
    "start_time": "2022-08-23T08:33:51.731Z"
   },
   {
    "duration": 67,
    "start_time": "2022-08-23T08:33:51.740Z"
   },
   {
    "duration": 6,
    "start_time": "2022-08-23T08:33:51.809Z"
   },
   {
    "duration": 800,
    "start_time": "2022-08-23T08:35:20.475Z"
   },
   {
    "duration": 42,
    "start_time": "2022-08-23T08:36:11.403Z"
   },
   {
    "duration": 8,
    "start_time": "2022-08-23T08:36:11.938Z"
   },
   {
    "duration": 55,
    "start_time": "2022-08-23T08:36:12.458Z"
   },
   {
    "duration": 71,
    "start_time": "2022-08-23T08:36:12.858Z"
   },
   {
    "duration": 42,
    "start_time": "2022-08-23T08:36:13.321Z"
   },
   {
    "duration": 12,
    "start_time": "2022-08-23T08:36:14.645Z"
   },
   {
    "duration": 25,
    "start_time": "2022-08-23T08:36:15.174Z"
   },
   {
    "duration": 51,
    "start_time": "2022-08-23T08:36:15.709Z"
   },
   {
    "duration": 334,
    "start_time": "2022-08-23T08:36:17.146Z"
   },
   {
    "duration": 157,
    "start_time": "2022-08-23T08:36:17.745Z"
   },
   {
    "duration": 33,
    "start_time": "2022-08-23T08:36:18.377Z"
   },
   {
    "duration": 238,
    "start_time": "2022-08-23T08:36:18.954Z"
   },
   {
    "duration": 67,
    "start_time": "2022-08-23T08:36:21.006Z"
   },
   {
    "duration": 23,
    "start_time": "2022-08-23T08:36:22.538Z"
   },
   {
    "duration": 113,
    "start_time": "2022-08-23T08:36:24.183Z"
   },
   {
    "duration": 622,
    "start_time": "2022-08-23T08:37:51.430Z"
   },
   {
    "duration": 53,
    "start_time": "2022-08-23T08:38:34.102Z"
   },
   {
    "duration": 74,
    "start_time": "2022-08-23T08:39:17.482Z"
   },
   {
    "duration": 51,
    "start_time": "2022-08-23T08:40:17.615Z"
   },
   {
    "duration": 8,
    "start_time": "2022-08-23T08:40:24.223Z"
   },
   {
    "duration": 84,
    "start_time": "2022-08-23T08:40:32.822Z"
   },
   {
    "duration": 389,
    "start_time": "2022-08-23T08:42:14.470Z"
   },
   {
    "duration": 37,
    "start_time": "2022-08-23T08:44:46.324Z"
   },
   {
    "duration": 192,
    "start_time": "2022-08-23T08:45:14.462Z"
   },
   {
    "duration": 165,
    "start_time": "2022-08-23T08:45:38.698Z"
   },
   {
    "duration": 646,
    "start_time": "2022-08-23T08:46:28.513Z"
   },
   {
    "duration": 332,
    "start_time": "2022-08-23T08:46:29.161Z"
   },
   {
    "duration": 62,
    "start_time": "2022-08-23T08:46:29.495Z"
   },
   {
    "duration": 14,
    "start_time": "2022-08-23T08:46:29.559Z"
   },
   {
    "duration": 133,
    "start_time": "2022-08-23T08:46:29.586Z"
   },
   {
    "duration": 6,
    "start_time": "2022-08-23T08:46:29.721Z"
   },
   {
    "duration": 68,
    "start_time": "2022-08-23T08:46:29.729Z"
   },
   {
    "duration": 5,
    "start_time": "2022-08-23T08:46:29.799Z"
   },
   {
    "duration": 7,
    "start_time": "2022-08-23T08:46:29.806Z"
   },
   {
    "duration": 18,
    "start_time": "2022-08-23T08:46:29.815Z"
   },
   {
    "duration": 5,
    "start_time": "2022-08-23T08:46:29.835Z"
   },
   {
    "duration": 69,
    "start_time": "2022-08-23T08:46:29.842Z"
   },
   {
    "duration": 53,
    "start_time": "2022-08-23T08:46:29.913Z"
   },
   {
    "duration": 53,
    "start_time": "2022-08-23T08:46:29.968Z"
   },
   {
    "duration": 12,
    "start_time": "2022-08-23T08:46:30.023Z"
   },
   {
    "duration": 37,
    "start_time": "2022-08-23T08:46:30.037Z"
   },
   {
    "duration": 44,
    "start_time": "2022-08-23T08:46:30.086Z"
   },
   {
    "duration": 327,
    "start_time": "2022-08-23T08:46:30.132Z"
   },
   {
    "duration": 170,
    "start_time": "2022-08-23T08:46:30.461Z"
   },
   {
    "duration": 32,
    "start_time": "2022-08-23T08:46:30.633Z"
   },
   {
    "duration": 265,
    "start_time": "2022-08-23T08:46:30.666Z"
   },
   {
    "duration": 76,
    "start_time": "2022-08-23T08:46:30.933Z"
   },
   {
    "duration": 23,
    "start_time": "2022-08-23T08:46:31.011Z"
   },
   {
    "duration": 103,
    "start_time": "2022-08-23T08:46:31.036Z"
   },
   {
    "duration": 52,
    "start_time": "2022-08-23T08:47:58.721Z"
   },
   {
    "duration": 212,
    "start_time": "2022-08-23T08:49:46.202Z"
   },
   {
    "duration": 265,
    "start_time": "2022-08-23T08:49:54.693Z"
   },
   {
    "duration": 120,
    "start_time": "2022-08-23T08:55:23.720Z"
   },
   {
    "duration": 57,
    "start_time": "2022-08-23T08:55:37.255Z"
   },
   {
    "duration": 79,
    "start_time": "2022-08-23T09:02:45.231Z"
   },
   {
    "duration": 26,
    "start_time": "2022-08-23T09:08:54.106Z"
   },
   {
    "duration": 635,
    "start_time": "2022-08-23T09:09:11.379Z"
   },
   {
    "duration": 298,
    "start_time": "2022-08-23T09:09:12.016Z"
   },
   {
    "duration": 58,
    "start_time": "2022-08-23T09:09:12.316Z"
   },
   {
    "duration": 13,
    "start_time": "2022-08-23T09:09:12.376Z"
   },
   {
    "duration": 114,
    "start_time": "2022-08-23T09:09:12.391Z"
   },
   {
    "duration": 8,
    "start_time": "2022-08-23T09:09:12.507Z"
   },
   {
    "duration": 68,
    "start_time": "2022-08-23T09:09:12.517Z"
   },
   {
    "duration": 5,
    "start_time": "2022-08-23T09:09:12.587Z"
   },
   {
    "duration": 6,
    "start_time": "2022-08-23T09:09:12.594Z"
   },
   {
    "duration": 19,
    "start_time": "2022-08-23T09:09:12.603Z"
   },
   {
    "duration": 5,
    "start_time": "2022-08-23T09:09:12.624Z"
   },
   {
    "duration": 73,
    "start_time": "2022-08-23T09:09:12.631Z"
   },
   {
    "duration": 55,
    "start_time": "2022-08-23T09:09:12.706Z"
   },
   {
    "duration": 55,
    "start_time": "2022-08-23T09:09:12.763Z"
   },
   {
    "duration": 11,
    "start_time": "2022-08-23T09:09:12.820Z"
   },
   {
    "duration": 20,
    "start_time": "2022-08-23T09:09:12.832Z"
   },
   {
    "duration": 68,
    "start_time": "2022-08-23T09:09:12.854Z"
   },
   {
    "duration": 305,
    "start_time": "2022-08-23T09:09:12.923Z"
   },
   {
    "duration": 137,
    "start_time": "2022-08-23T09:09:13.230Z"
   },
   {
    "duration": 30,
    "start_time": "2022-08-23T09:09:13.369Z"
   },
   {
    "duration": 253,
    "start_time": "2022-08-23T09:09:13.401Z"
   },
   {
    "duration": 77,
    "start_time": "2022-08-23T09:09:13.655Z"
   },
   {
    "duration": 24,
    "start_time": "2022-08-23T09:09:13.734Z"
   },
   {
    "duration": 230,
    "start_time": "2022-08-23T09:09:13.759Z"
   },
   {
    "duration": 95,
    "start_time": "2022-08-23T09:09:13.991Z"
   },
   {
    "duration": 32,
    "start_time": "2022-08-23T09:10:09.753Z"
   },
   {
    "duration": 30,
    "start_time": "2022-08-23T09:10:51.180Z"
   },
   {
    "duration": 1186,
    "start_time": "2022-08-23T09:11:31.902Z"
   },
   {
    "duration": 1589,
    "start_time": "2022-08-23T09:11:42.276Z"
   },
   {
    "duration": 20,
    "start_time": "2022-08-23T09:12:00.804Z"
   },
   {
    "duration": 624,
    "start_time": "2022-08-23T09:13:30.952Z"
   },
   {
    "duration": 52,
    "start_time": "2022-08-23T09:14:37.706Z"
   },
   {
    "duration": 22,
    "start_time": "2022-08-23T09:14:45.320Z"
   },
   {
    "duration": 149,
    "start_time": "2022-08-23T09:14:57.563Z"
   },
   {
    "duration": 41,
    "start_time": "2022-08-23T09:24:00.701Z"
   },
   {
    "duration": 4,
    "start_time": "2022-08-23T09:24:52.210Z"
   },
   {
    "duration": 16,
    "start_time": "2022-08-23T09:25:02.264Z"
   },
   {
    "duration": 75,
    "start_time": "2022-08-23T09:26:01.303Z"
   },
   {
    "duration": 19,
    "start_time": "2022-08-23T09:29:59.001Z"
   },
   {
    "duration": 640,
    "start_time": "2022-08-23T09:30:31.579Z"
   },
   {
    "duration": 309,
    "start_time": "2022-08-23T09:30:32.221Z"
   },
   {
    "duration": 61,
    "start_time": "2022-08-23T09:30:32.531Z"
   },
   {
    "duration": 13,
    "start_time": "2022-08-23T09:30:32.594Z"
   },
   {
    "duration": 135,
    "start_time": "2022-08-23T09:30:32.609Z"
   },
   {
    "duration": 7,
    "start_time": "2022-08-23T09:30:32.745Z"
   },
   {
    "duration": 69,
    "start_time": "2022-08-23T09:30:32.753Z"
   },
   {
    "duration": 5,
    "start_time": "2022-08-23T09:30:32.824Z"
   },
   {
    "duration": 10,
    "start_time": "2022-08-23T09:30:32.830Z"
   },
   {
    "duration": 24,
    "start_time": "2022-08-23T09:30:32.841Z"
   },
   {
    "duration": 22,
    "start_time": "2022-08-23T09:30:32.867Z"
   },
   {
    "duration": 56,
    "start_time": "2022-08-23T09:30:32.891Z"
   },
   {
    "duration": 72,
    "start_time": "2022-08-23T09:30:32.949Z"
   },
   {
    "duration": 33,
    "start_time": "2022-08-23T09:30:33.025Z"
   },
   {
    "duration": 25,
    "start_time": "2022-08-23T09:30:33.060Z"
   },
   {
    "duration": 13,
    "start_time": "2022-08-23T09:30:33.087Z"
   },
   {
    "duration": 40,
    "start_time": "2022-08-23T09:30:33.101Z"
   },
   {
    "duration": 309,
    "start_time": "2022-08-23T09:30:33.143Z"
   },
   {
    "duration": 144,
    "start_time": "2022-08-23T09:30:33.453Z"
   },
   {
    "duration": 32,
    "start_time": "2022-08-23T09:30:33.599Z"
   },
   {
    "duration": 247,
    "start_time": "2022-08-23T09:30:33.632Z"
   },
   {
    "duration": 69,
    "start_time": "2022-08-23T09:30:33.880Z"
   },
   {
    "duration": 38,
    "start_time": "2022-08-23T09:30:33.950Z"
   },
   {
    "duration": 248,
    "start_time": "2022-08-23T09:30:33.990Z"
   },
   {
    "duration": 83,
    "start_time": "2022-08-23T09:30:34.240Z"
   },
   {
    "duration": 17,
    "start_time": "2022-08-23T09:30:34.325Z"
   },
   {
    "duration": 4,
    "start_time": "2022-08-23T09:32:29.749Z"
   },
   {
    "duration": 10,
    "start_time": "2022-08-23T09:32:51.705Z"
   },
   {
    "duration": 68,
    "start_time": "2022-08-23T09:37:27.418Z"
   },
   {
    "duration": 60,
    "start_time": "2022-08-23T09:37:35.369Z"
   },
   {
    "duration": 69,
    "start_time": "2022-08-23T09:42:45.294Z"
   },
   {
    "duration": 9,
    "start_time": "2022-08-23T09:43:08.443Z"
   },
   {
    "duration": 641,
    "start_time": "2022-08-23T09:46:51.978Z"
   },
   {
    "duration": 318,
    "start_time": "2022-08-23T09:46:52.620Z"
   },
   {
    "duration": 62,
    "start_time": "2022-08-23T09:46:52.940Z"
   },
   {
    "duration": 13,
    "start_time": "2022-08-23T09:46:53.004Z"
   },
   {
    "duration": 144,
    "start_time": "2022-08-23T09:46:53.018Z"
   },
   {
    "duration": 7,
    "start_time": "2022-08-23T09:46:53.164Z"
   },
   {
    "duration": 61,
    "start_time": "2022-08-23T09:46:53.172Z"
   },
   {
    "duration": 5,
    "start_time": "2022-08-23T09:46:53.235Z"
   },
   {
    "duration": 4,
    "start_time": "2022-08-23T09:46:53.242Z"
   },
   {
    "duration": 19,
    "start_time": "2022-08-23T09:46:53.249Z"
   },
   {
    "duration": 7,
    "start_time": "2022-08-23T09:46:53.285Z"
   },
   {
    "duration": 45,
    "start_time": "2022-08-23T09:46:53.293Z"
   },
   {
    "duration": 82,
    "start_time": "2022-08-23T09:46:53.339Z"
   },
   {
    "duration": 32,
    "start_time": "2022-08-23T09:46:53.424Z"
   },
   {
    "duration": 29,
    "start_time": "2022-08-23T09:46:53.457Z"
   },
   {
    "duration": 14,
    "start_time": "2022-08-23T09:46:53.488Z"
   },
   {
    "duration": 39,
    "start_time": "2022-08-23T09:46:53.503Z"
   },
   {
    "duration": 321,
    "start_time": "2022-08-23T09:46:53.544Z"
   },
   {
    "duration": 142,
    "start_time": "2022-08-23T09:46:53.866Z"
   },
   {
    "duration": 30,
    "start_time": "2022-08-23T09:46:54.010Z"
   },
   {
    "duration": 250,
    "start_time": "2022-08-23T09:46:54.042Z"
   },
   {
    "duration": 80,
    "start_time": "2022-08-23T09:46:54.293Z"
   },
   {
    "duration": 27,
    "start_time": "2022-08-23T09:46:54.374Z"
   },
   {
    "duration": 257,
    "start_time": "2022-08-23T09:46:54.404Z"
   },
   {
    "duration": 56,
    "start_time": "2022-08-23T09:46:54.663Z"
   },
   {
    "duration": 9,
    "start_time": "2022-08-23T09:46:54.720Z"
   },
   {
    "duration": 46,
    "start_time": "2022-08-23T09:48:49.989Z"
   },
   {
    "duration": 19,
    "start_time": "2022-08-23T09:51:10.711Z"
   },
   {
    "duration": 71,
    "start_time": "2022-08-23T09:51:56.303Z"
   },
   {
    "duration": 6,
    "start_time": "2022-08-23T09:52:04.259Z"
   },
   {
    "duration": 12,
    "start_time": "2022-08-23T09:52:15.750Z"
   },
   {
    "duration": 9,
    "start_time": "2022-08-23T09:57:49.666Z"
   },
   {
    "duration": 69,
    "start_time": "2022-08-23T09:58:03.126Z"
   },
   {
    "duration": 9,
    "start_time": "2022-08-23T09:58:10.427Z"
   },
   {
    "duration": 13,
    "start_time": "2022-08-23T09:59:16.183Z"
   },
   {
    "duration": 996,
    "start_time": "2022-08-23T10:01:29.953Z"
   },
   {
    "duration": 8,
    "start_time": "2022-08-23T10:02:35.250Z"
   },
   {
    "duration": 16,
    "start_time": "2022-08-23T10:04:13.948Z"
   },
   {
    "duration": 848,
    "start_time": "2022-08-23T10:05:03.831Z"
   },
   {
    "duration": 305,
    "start_time": "2022-08-23T10:05:04.681Z"
   },
   {
    "duration": 58,
    "start_time": "2022-08-23T10:05:04.988Z"
   },
   {
    "duration": 12,
    "start_time": "2022-08-23T10:05:05.048Z"
   },
   {
    "duration": 145,
    "start_time": "2022-08-23T10:05:05.062Z"
   },
   {
    "duration": 7,
    "start_time": "2022-08-23T10:05:05.208Z"
   },
   {
    "duration": 58,
    "start_time": "2022-08-23T10:05:05.216Z"
   },
   {
    "duration": 11,
    "start_time": "2022-08-23T10:05:05.275Z"
   },
   {
    "duration": 13,
    "start_time": "2022-08-23T10:05:05.287Z"
   },
   {
    "duration": 28,
    "start_time": "2022-08-23T10:05:05.302Z"
   },
   {
    "duration": 4,
    "start_time": "2022-08-23T10:05:05.332Z"
   },
   {
    "duration": 53,
    "start_time": "2022-08-23T10:05:05.338Z"
   },
   {
    "duration": 53,
    "start_time": "2022-08-23T10:05:05.393Z"
   },
   {
    "duration": 42,
    "start_time": "2022-08-23T10:05:05.449Z"
   },
   {
    "duration": 9,
    "start_time": "2022-08-23T10:05:05.493Z"
   },
   {
    "duration": 39,
    "start_time": "2022-08-23T10:05:05.503Z"
   },
   {
    "duration": 40,
    "start_time": "2022-08-23T10:05:05.544Z"
   },
   {
    "duration": 287,
    "start_time": "2022-08-23T10:05:05.585Z"
   },
   {
    "duration": 136,
    "start_time": "2022-08-23T10:05:05.873Z"
   },
   {
    "duration": 29,
    "start_time": "2022-08-23T10:05:06.011Z"
   },
   {
    "duration": 260,
    "start_time": "2022-08-23T10:05:06.042Z"
   },
   {
    "duration": 82,
    "start_time": "2022-08-23T10:05:06.304Z"
   },
   {
    "duration": 24,
    "start_time": "2022-08-23T10:05:06.387Z"
   },
   {
    "duration": 225,
    "start_time": "2022-08-23T10:05:06.413Z"
   },
   {
    "duration": 63,
    "start_time": "2022-08-23T10:05:06.640Z"
   },
   {
    "duration": 20,
    "start_time": "2022-08-23T10:05:06.705Z"
   },
   {
    "duration": 13,
    "start_time": "2022-08-23T10:05:06.726Z"
   },
   {
    "duration": 11,
    "start_time": "2022-08-23T10:05:06.741Z"
   },
   {
    "duration": 103,
    "start_time": "2022-08-23T10:05:06.754Z"
   },
   {
    "duration": 15,
    "start_time": "2022-08-23T10:06:53.614Z"
   },
   {
    "duration": 47,
    "start_time": "2022-08-23T10:09:11.625Z"
   },
   {
    "duration": 19,
    "start_time": "2022-08-23T10:09:54.376Z"
   },
   {
    "duration": 58,
    "start_time": "2022-08-23T10:10:36.551Z"
   },
   {
    "duration": 57,
    "start_time": "2022-08-23T10:11:07.796Z"
   },
   {
    "duration": 54,
    "start_time": "2022-08-23T10:12:35.127Z"
   },
   {
    "duration": 39,
    "start_time": "2022-08-23T10:20:11.495Z"
   },
   {
    "duration": 25,
    "start_time": "2022-08-23T10:20:24.609Z"
   },
   {
    "duration": 117,
    "start_time": "2022-08-23T10:31:35.460Z"
   },
   {
    "duration": 115,
    "start_time": "2022-08-23T10:33:17.763Z"
   },
   {
    "duration": 114,
    "start_time": "2022-08-23T10:33:27.697Z"
   },
   {
    "duration": 116,
    "start_time": "2022-08-23T10:34:26.014Z"
   },
   {
    "duration": 142,
    "start_time": "2022-08-23T10:35:14.090Z"
   },
   {
    "duration": 126,
    "start_time": "2022-08-23T10:37:41.267Z"
   },
   {
    "duration": 21,
    "start_time": "2022-08-23T10:43:23.115Z"
   },
   {
    "duration": 13,
    "start_time": "2022-08-23T10:43:23.717Z"
   },
   {
    "duration": 14,
    "start_time": "2022-08-23T10:43:24.125Z"
   },
   {
    "duration": 127,
    "start_time": "2022-08-23T10:43:24.446Z"
   },
   {
    "duration": 52,
    "start_time": "2022-08-23T10:43:25.260Z"
   },
   {
    "duration": 23,
    "start_time": "2022-08-23T10:44:45.531Z"
   },
   {
    "duration": 540,
    "start_time": "2022-08-23T10:49:15.743Z"
   },
   {
    "duration": 304,
    "start_time": "2022-08-23T10:49:16.285Z"
   },
   {
    "duration": 52,
    "start_time": "2022-08-23T10:49:16.591Z"
   },
   {
    "duration": 10,
    "start_time": "2022-08-23T10:49:16.645Z"
   },
   {
    "duration": 138,
    "start_time": "2022-08-23T10:49:16.656Z"
   },
   {
    "duration": 7,
    "start_time": "2022-08-23T10:49:16.796Z"
   },
   {
    "duration": 48,
    "start_time": "2022-08-23T10:49:16.805Z"
   },
   {
    "duration": 5,
    "start_time": "2022-08-23T10:49:16.855Z"
   },
   {
    "duration": 24,
    "start_time": "2022-08-23T10:49:16.862Z"
   },
   {
    "duration": 20,
    "start_time": "2022-08-23T10:49:16.888Z"
   },
   {
    "duration": 5,
    "start_time": "2022-08-23T10:49:16.909Z"
   },
   {
    "duration": 47,
    "start_time": "2022-08-23T10:49:16.915Z"
   },
   {
    "duration": 61,
    "start_time": "2022-08-23T10:49:16.963Z"
   },
   {
    "duration": 30,
    "start_time": "2022-08-23T10:49:17.026Z"
   },
   {
    "duration": 33,
    "start_time": "2022-08-23T10:49:17.058Z"
   },
   {
    "duration": 14,
    "start_time": "2022-08-23T10:49:17.092Z"
   },
   {
    "duration": 41,
    "start_time": "2022-08-23T10:49:17.108Z"
   },
   {
    "duration": 313,
    "start_time": "2022-08-23T10:49:17.152Z"
   },
   {
    "duration": 140,
    "start_time": "2022-08-23T10:49:17.467Z"
   },
   {
    "duration": 29,
    "start_time": "2022-08-23T10:49:17.609Z"
   },
   {
    "duration": 232,
    "start_time": "2022-08-23T10:49:17.640Z"
   },
   {
    "duration": 68,
    "start_time": "2022-08-23T10:49:17.874Z"
   },
   {
    "duration": 21,
    "start_time": "2022-08-23T10:49:17.944Z"
   },
   {
    "duration": 217,
    "start_time": "2022-08-23T10:49:17.967Z"
   },
   {
    "duration": 53,
    "start_time": "2022-08-23T10:49:18.186Z"
   },
   {
    "duration": 20,
    "start_time": "2022-08-23T10:49:18.241Z"
   },
   {
    "duration": 32,
    "start_time": "2022-08-23T10:49:18.262Z"
   },
   {
    "duration": 11,
    "start_time": "2022-08-23T10:49:18.297Z"
   },
   {
    "duration": 135,
    "start_time": "2022-08-23T10:49:18.309Z"
   },
   {
    "duration": 26,
    "start_time": "2022-08-23T10:49:18.446Z"
   },
   {
    "duration": 99,
    "start_time": "2022-08-23T10:51:19.963Z"
   },
   {
    "duration": 15,
    "start_time": "2022-08-23T10:51:34.066Z"
   },
   {
    "duration": 666,
    "start_time": "2022-08-23T10:52:51.469Z"
   },
   {
    "duration": 285,
    "start_time": "2022-08-23T10:52:52.137Z"
   },
   {
    "duration": 50,
    "start_time": "2022-08-23T10:52:52.423Z"
   },
   {
    "duration": 11,
    "start_time": "2022-08-23T10:52:52.476Z"
   },
   {
    "duration": 67,
    "start_time": "2022-08-23T10:52:52.489Z"
   },
   {
    "duration": 0,
    "start_time": "2022-08-23T10:52:52.558Z"
   },
   {
    "duration": 0,
    "start_time": "2022-08-23T10:52:52.559Z"
   },
   {
    "duration": 0,
    "start_time": "2022-08-23T10:52:52.560Z"
   },
   {
    "duration": 0,
    "start_time": "2022-08-23T10:52:52.561Z"
   },
   {
    "duration": 0,
    "start_time": "2022-08-23T10:52:52.562Z"
   },
   {
    "duration": 0,
    "start_time": "2022-08-23T10:52:52.563Z"
   },
   {
    "duration": 0,
    "start_time": "2022-08-23T10:52:52.563Z"
   },
   {
    "duration": 0,
    "start_time": "2022-08-23T10:52:52.564Z"
   },
   {
    "duration": 0,
    "start_time": "2022-08-23T10:52:52.566Z"
   },
   {
    "duration": 0,
    "start_time": "2022-08-23T10:52:52.567Z"
   },
   {
    "duration": 0,
    "start_time": "2022-08-23T10:52:52.586Z"
   },
   {
    "duration": 0,
    "start_time": "2022-08-23T10:52:52.587Z"
   },
   {
    "duration": 0,
    "start_time": "2022-08-23T10:52:52.589Z"
   },
   {
    "duration": 0,
    "start_time": "2022-08-23T10:52:52.590Z"
   },
   {
    "duration": 0,
    "start_time": "2022-08-23T10:52:52.592Z"
   },
   {
    "duration": 0,
    "start_time": "2022-08-23T10:52:52.593Z"
   },
   {
    "duration": 7,
    "start_time": "2022-08-23T10:53:36.019Z"
   },
   {
    "duration": 9,
    "start_time": "2022-08-23T10:54:49.392Z"
   },
   {
    "duration": 9,
    "start_time": "2022-08-23T10:55:06.911Z"
   },
   {
    "duration": 3,
    "start_time": "2022-08-23T10:55:52.893Z"
   },
   {
    "duration": 293,
    "start_time": "2022-08-23T10:55:52.899Z"
   },
   {
    "duration": 54,
    "start_time": "2022-08-23T10:55:53.194Z"
   },
   {
    "duration": 7,
    "start_time": "2022-08-23T10:55:53.250Z"
   },
   {
    "duration": 11,
    "start_time": "2022-08-23T10:55:53.259Z"
   },
   {
    "duration": 102,
    "start_time": "2022-08-23T10:55:53.284Z"
   },
   {
    "duration": 6,
    "start_time": "2022-08-23T10:55:53.387Z"
   },
   {
    "duration": 52,
    "start_time": "2022-08-23T10:55:53.395Z"
   },
   {
    "duration": 5,
    "start_time": "2022-08-23T10:55:53.449Z"
   },
   {
    "duration": 6,
    "start_time": "2022-08-23T10:55:53.456Z"
   },
   {
    "duration": 30,
    "start_time": "2022-08-23T10:55:53.463Z"
   },
   {
    "duration": 8,
    "start_time": "2022-08-23T10:55:53.495Z"
   },
   {
    "duration": 42,
    "start_time": "2022-08-23T10:55:53.504Z"
   },
   {
    "duration": 69,
    "start_time": "2022-08-23T10:55:53.547Z"
   },
   {
    "duration": 31,
    "start_time": "2022-08-23T10:55:53.618Z"
   },
   {
    "duration": 9,
    "start_time": "2022-08-23T10:55:53.650Z"
   },
   {
    "duration": 31,
    "start_time": "2022-08-23T10:55:53.661Z"
   },
   {
    "duration": 38,
    "start_time": "2022-08-23T10:55:53.693Z"
   },
   {
    "duration": 282,
    "start_time": "2022-08-23T10:55:53.733Z"
   },
   {
    "duration": 140,
    "start_time": "2022-08-23T10:55:54.017Z"
   },
   {
    "duration": 34,
    "start_time": "2022-08-23T10:55:54.158Z"
   },
   {
    "duration": 244,
    "start_time": "2022-08-23T10:55:54.193Z"
   },
   {
    "duration": 87,
    "start_time": "2022-08-23T10:55:54.439Z"
   },
   {
    "duration": 25,
    "start_time": "2022-08-23T10:55:54.528Z"
   },
   {
    "duration": 225,
    "start_time": "2022-08-23T10:55:54.555Z"
   },
   {
    "duration": 50,
    "start_time": "2022-08-23T10:55:54.781Z"
   },
   {
    "duration": 18,
    "start_time": "2022-08-23T10:55:54.833Z"
   },
   {
    "duration": 11,
    "start_time": "2022-08-23T10:55:54.853Z"
   },
   {
    "duration": 11,
    "start_time": "2022-08-23T10:55:54.885Z"
   },
   {
    "duration": 112,
    "start_time": "2022-08-23T10:55:54.897Z"
   },
   {
    "duration": 22,
    "start_time": "2022-08-23T10:55:55.011Z"
   },
   {
    "duration": 14,
    "start_time": "2022-08-23T10:55:55.034Z"
   },
   {
    "duration": 0,
    "start_time": "2022-08-23T10:55:55.050Z"
   },
   {
    "duration": 29,
    "start_time": "2022-08-23T10:56:36.132Z"
   },
   {
    "duration": 6,
    "start_time": "2022-08-23T11:05:05.956Z"
   },
   {
    "duration": 9,
    "start_time": "2022-08-23T11:05:21.710Z"
   },
   {
    "duration": 8,
    "start_time": "2022-08-23T11:05:46.786Z"
   },
   {
    "duration": 30,
    "start_time": "2022-08-23T11:06:07.497Z"
   },
   {
    "duration": 42,
    "start_time": "2022-08-23T11:06:22.182Z"
   },
   {
    "duration": 189,
    "start_time": "2022-08-23T11:07:47.853Z"
   },
   {
    "duration": 50,
    "start_time": "2022-08-23T11:11:15.165Z"
   },
   {
    "duration": 28,
    "start_time": "2022-08-23T11:11:26.975Z"
   },
   {
    "duration": 51,
    "start_time": "2022-08-23T11:12:44.813Z"
   },
   {
    "duration": 14,
    "start_time": "2022-08-23T11:13:08.466Z"
   },
   {
    "duration": 24,
    "start_time": "2022-08-23T11:14:20.622Z"
   },
   {
    "duration": 679,
    "start_time": "2022-08-23T11:14:56.497Z"
   },
   {
    "duration": 25,
    "start_time": "2022-08-23T11:15:09.807Z"
   },
   {
    "duration": 20,
    "start_time": "2022-08-23T11:16:09.072Z"
   },
   {
    "duration": 648,
    "start_time": "2022-08-23T11:16:26.163Z"
   },
   {
    "duration": 284,
    "start_time": "2022-08-23T11:16:26.813Z"
   },
   {
    "duration": 56,
    "start_time": "2022-08-23T11:16:27.099Z"
   },
   {
    "duration": 11,
    "start_time": "2022-08-23T11:16:27.158Z"
   },
   {
    "duration": 20,
    "start_time": "2022-08-23T11:16:27.171Z"
   },
   {
    "duration": 123,
    "start_time": "2022-08-23T11:16:27.193Z"
   },
   {
    "duration": 6,
    "start_time": "2022-08-23T11:16:27.317Z"
   },
   {
    "duration": 71,
    "start_time": "2022-08-23T11:16:27.325Z"
   },
   {
    "duration": 2,
    "start_time": "2022-08-23T11:16:27.398Z"
   },
   {
    "duration": 18,
    "start_time": "2022-08-23T11:16:27.403Z"
   },
   {
    "duration": 6,
    "start_time": "2022-08-23T11:16:27.422Z"
   },
   {
    "duration": 73,
    "start_time": "2022-08-23T11:16:27.429Z"
   },
   {
    "duration": 52,
    "start_time": "2022-08-23T11:16:27.503Z"
   },
   {
    "duration": 47,
    "start_time": "2022-08-23T11:16:27.557Z"
   },
   {
    "duration": 10,
    "start_time": "2022-08-23T11:16:27.606Z"
   },
   {
    "duration": 15,
    "start_time": "2022-08-23T11:16:27.617Z"
   },
   {
    "duration": 62,
    "start_time": "2022-08-23T11:16:27.633Z"
   },
   {
    "duration": 287,
    "start_time": "2022-08-23T11:16:27.698Z"
   },
   {
    "duration": 141,
    "start_time": "2022-08-23T11:16:27.986Z"
   },
   {
    "duration": 45,
    "start_time": "2022-08-23T11:16:28.129Z"
   },
   {
    "duration": 34,
    "start_time": "2022-08-23T11:16:28.185Z"
   },
   {
    "duration": 268,
    "start_time": "2022-08-23T11:16:28.221Z"
   },
   {
    "duration": 68,
    "start_time": "2022-08-23T11:16:28.491Z"
   },
   {
    "duration": 42,
    "start_time": "2022-08-23T11:16:28.561Z"
   },
   {
    "duration": 67,
    "start_time": "2022-08-23T11:16:28.604Z"
   },
   {
    "duration": 29,
    "start_time": "2022-08-23T11:16:28.686Z"
   },
   {
    "duration": 17,
    "start_time": "2022-08-23T11:16:28.717Z"
   },
   {
    "duration": 93,
    "start_time": "2022-08-23T11:16:34.349Z"
   },
   {
    "duration": 17,
    "start_time": "2022-08-23T11:16:45.967Z"
   },
   {
    "duration": 132,
    "start_time": "2022-08-23T11:16:57.733Z"
   },
   {
    "duration": 32,
    "start_time": "2022-08-23T11:17:16.964Z"
   },
   {
    "duration": 132,
    "start_time": "2022-08-23T11:18:08.892Z"
   },
   {
    "duration": 131,
    "start_time": "2022-08-23T11:18:51.336Z"
   },
   {
    "duration": 138,
    "start_time": "2022-08-23T11:18:56.546Z"
   },
   {
    "duration": 127,
    "start_time": "2022-08-23T11:22:51.977Z"
   },
   {
    "duration": 33,
    "start_time": "2022-08-23T11:23:05.448Z"
   },
   {
    "duration": 55,
    "start_time": "2022-08-23T11:23:24.522Z"
   },
   {
    "duration": 5,
    "start_time": "2022-08-23T11:23:34.475Z"
   },
   {
    "duration": 9,
    "start_time": "2022-08-23T11:23:40.083Z"
   },
   {
    "duration": 6,
    "start_time": "2022-08-23T11:24:17.324Z"
   },
   {
    "duration": 9,
    "start_time": "2022-08-23T11:24:34.231Z"
   },
   {
    "duration": 11,
    "start_time": "2022-08-23T11:24:40.412Z"
   },
   {
    "duration": 11,
    "start_time": "2022-08-23T11:33:01.660Z"
   },
   {
    "duration": 3,
    "start_time": "2022-08-23T11:33:28.748Z"
   },
   {
    "duration": 11,
    "start_time": "2022-08-23T11:33:44.936Z"
   },
   {
    "duration": 3,
    "start_time": "2022-08-23T11:34:37.601Z"
   },
   {
    "duration": 13,
    "start_time": "2022-08-23T11:34:52.170Z"
   },
   {
    "duration": 10,
    "start_time": "2022-08-23T11:35:01.677Z"
   },
   {
    "duration": 685,
    "start_time": "2022-08-23T11:44:09.674Z"
   },
   {
    "duration": 309,
    "start_time": "2022-08-23T11:44:10.361Z"
   },
   {
    "duration": 58,
    "start_time": "2022-08-23T11:44:10.672Z"
   },
   {
    "duration": 13,
    "start_time": "2022-08-23T11:44:10.732Z"
   },
   {
    "duration": 14,
    "start_time": "2022-08-23T11:44:10.746Z"
   },
   {
    "duration": 132,
    "start_time": "2022-08-23T11:44:10.762Z"
   },
   {
    "duration": 7,
    "start_time": "2022-08-23T11:44:10.896Z"
   },
   {
    "duration": 50,
    "start_time": "2022-08-23T11:44:10.905Z"
   },
   {
    "duration": 3,
    "start_time": "2022-08-23T11:44:10.956Z"
   },
   {
    "duration": 37,
    "start_time": "2022-08-23T11:44:10.961Z"
   },
   {
    "duration": 9,
    "start_time": "2022-08-23T11:44:10.999Z"
   },
   {
    "duration": 43,
    "start_time": "2022-08-23T11:44:11.010Z"
   },
   {
    "duration": 69,
    "start_time": "2022-08-23T11:44:11.055Z"
   },
   {
    "duration": 34,
    "start_time": "2022-08-23T11:44:11.125Z"
   },
   {
    "duration": 28,
    "start_time": "2022-08-23T11:44:11.161Z"
   },
   {
    "duration": 13,
    "start_time": "2022-08-23T11:44:11.191Z"
   },
   {
    "duration": 38,
    "start_time": "2022-08-23T11:44:11.206Z"
   },
   {
    "duration": 318,
    "start_time": "2022-08-23T11:44:11.246Z"
   },
   {
    "duration": 142,
    "start_time": "2022-08-23T11:44:11.566Z"
   },
   {
    "duration": 44,
    "start_time": "2022-08-23T11:44:11.710Z"
   },
   {
    "duration": 44,
    "start_time": "2022-08-23T11:44:11.757Z"
   },
   {
    "duration": 243,
    "start_time": "2022-08-23T11:44:11.803Z"
   },
   {
    "duration": 5,
    "start_time": "2022-08-23T11:44:12.047Z"
   },
   {
    "duration": 88,
    "start_time": "2022-08-23T11:44:12.053Z"
   },
   {
    "duration": 27,
    "start_time": "2022-08-23T11:44:12.143Z"
   },
   {
    "duration": 74,
    "start_time": "2022-08-23T11:44:12.172Z"
   },
   {
    "duration": 44,
    "start_time": "2022-08-23T11:44:12.248Z"
   },
   {
    "duration": 16,
    "start_time": "2022-08-23T11:44:12.296Z"
   },
   {
    "duration": 148,
    "start_time": "2022-08-23T11:44:12.314Z"
   },
   {
    "duration": 32,
    "start_time": "2022-08-23T11:44:12.464Z"
   },
   {
    "duration": 12,
    "start_time": "2022-08-23T11:44:12.498Z"
   },
   {
    "duration": 11,
    "start_time": "2022-08-23T11:44:12.511Z"
   },
   {
    "duration": 94,
    "start_time": "2022-08-23T11:44:12.524Z"
   },
   {
    "duration": 0,
    "start_time": "2022-08-23T11:44:12.620Z"
   },
   {
    "duration": 15,
    "start_time": "2022-08-23T11:49:31.847Z"
   },
   {
    "duration": 14,
    "start_time": "2022-08-23T11:49:43.972Z"
   },
   {
    "duration": 19,
    "start_time": "2022-08-23T11:54:34.593Z"
   },
   {
    "duration": 16,
    "start_time": "2022-08-23T11:59:26.223Z"
   },
   {
    "duration": 32,
    "start_time": "2022-08-23T11:59:41.718Z"
   },
   {
    "duration": 21,
    "start_time": "2022-08-23T12:00:17.027Z"
   },
   {
    "duration": 639,
    "start_time": "2022-08-23T12:00:36.770Z"
   },
   {
    "duration": 303,
    "start_time": "2022-08-23T12:00:37.411Z"
   },
   {
    "duration": 60,
    "start_time": "2022-08-23T12:00:37.716Z"
   },
   {
    "duration": 12,
    "start_time": "2022-08-23T12:00:37.779Z"
   },
   {
    "duration": 10,
    "start_time": "2022-08-23T12:00:37.793Z"
   },
   {
    "duration": 144,
    "start_time": "2022-08-23T12:00:37.805Z"
   },
   {
    "duration": 6,
    "start_time": "2022-08-23T12:00:37.951Z"
   },
   {
    "duration": 56,
    "start_time": "2022-08-23T12:00:37.959Z"
   },
   {
    "duration": 2,
    "start_time": "2022-08-23T12:00:38.017Z"
   },
   {
    "duration": 20,
    "start_time": "2022-08-23T12:00:38.021Z"
   },
   {
    "duration": 6,
    "start_time": "2022-08-23T12:00:38.042Z"
   },
   {
    "duration": 67,
    "start_time": "2022-08-23T12:00:38.050Z"
   },
   {
    "duration": 70,
    "start_time": "2022-08-23T12:00:38.120Z"
   },
   {
    "duration": 31,
    "start_time": "2022-08-23T12:00:38.191Z"
   },
   {
    "duration": 10,
    "start_time": "2022-08-23T12:00:38.224Z"
   },
   {
    "duration": 14,
    "start_time": "2022-08-23T12:00:38.235Z"
   },
   {
    "duration": 70,
    "start_time": "2022-08-23T12:00:38.251Z"
   },
   {
    "duration": 297,
    "start_time": "2022-08-23T12:00:38.322Z"
   },
   {
    "duration": 139,
    "start_time": "2022-08-23T12:00:38.620Z"
   },
   {
    "duration": 47,
    "start_time": "2022-08-23T12:00:38.761Z"
   },
   {
    "duration": 28,
    "start_time": "2022-08-23T12:00:38.810Z"
   },
   {
    "duration": 236,
    "start_time": "2022-08-23T12:00:38.840Z"
   },
   {
    "duration": 8,
    "start_time": "2022-08-23T12:00:39.077Z"
   },
   {
    "duration": 69,
    "start_time": "2022-08-23T12:00:39.086Z"
   },
   {
    "duration": 38,
    "start_time": "2022-08-23T12:00:39.157Z"
   },
   {
    "duration": 66,
    "start_time": "2022-08-23T12:00:39.197Z"
   },
   {
    "duration": 50,
    "start_time": "2022-08-23T12:00:39.265Z"
   },
   {
    "duration": 16,
    "start_time": "2022-08-23T12:00:39.319Z"
   },
   {
    "duration": 157,
    "start_time": "2022-08-23T12:00:39.337Z"
   },
   {
    "duration": 31,
    "start_time": "2022-08-23T12:00:39.496Z"
   },
   {
    "duration": 13,
    "start_time": "2022-08-23T12:00:39.529Z"
   },
   {
    "duration": 11,
    "start_time": "2022-08-23T12:00:39.544Z"
   },
   {
    "duration": 84,
    "start_time": "2022-08-23T12:00:39.585Z"
   },
   {
    "duration": 33,
    "start_time": "2022-08-23T12:07:33.595Z"
   },
   {
    "duration": 34,
    "start_time": "2022-08-23T12:08:47.619Z"
   },
   {
    "duration": 32,
    "start_time": "2022-08-23T12:09:03.408Z"
   },
   {
    "duration": 1265,
    "start_time": "2022-08-23T12:12:32.335Z"
   },
   {
    "duration": 34,
    "start_time": "2022-08-23T12:12:51.824Z"
   },
   {
    "duration": 16,
    "start_time": "2022-08-23T12:13:06.187Z"
   },
   {
    "duration": 36,
    "start_time": "2022-08-23T12:13:20.069Z"
   },
   {
    "duration": 617,
    "start_time": "2022-08-23T12:13:43.253Z"
   },
   {
    "duration": 308,
    "start_time": "2022-08-23T12:13:43.872Z"
   },
   {
    "duration": 57,
    "start_time": "2022-08-23T12:13:44.181Z"
   },
   {
    "duration": 12,
    "start_time": "2022-08-23T12:13:44.240Z"
   },
   {
    "duration": 10,
    "start_time": "2022-08-23T12:13:44.254Z"
   },
   {
    "duration": 137,
    "start_time": "2022-08-23T12:13:44.284Z"
   },
   {
    "duration": 8,
    "start_time": "2022-08-23T12:13:44.423Z"
   },
   {
    "duration": 77,
    "start_time": "2022-08-23T12:13:44.433Z"
   },
   {
    "duration": 3,
    "start_time": "2022-08-23T12:13:44.513Z"
   },
   {
    "duration": 27,
    "start_time": "2022-08-23T12:13:44.519Z"
   },
   {
    "duration": 11,
    "start_time": "2022-08-23T12:13:44.548Z"
   },
   {
    "duration": 71,
    "start_time": "2022-08-23T12:13:44.561Z"
   },
   {
    "duration": 70,
    "start_time": "2022-08-23T12:13:44.634Z"
   },
   {
    "duration": 32,
    "start_time": "2022-08-23T12:13:44.706Z"
   },
   {
    "duration": 10,
    "start_time": "2022-08-23T12:13:44.740Z"
   },
   {
    "duration": 36,
    "start_time": "2022-08-23T12:13:44.752Z"
   },
   {
    "duration": 39,
    "start_time": "2022-08-23T12:13:44.790Z"
   },
   {
    "duration": 317,
    "start_time": "2022-08-23T12:13:44.831Z"
   },
   {
    "duration": 170,
    "start_time": "2022-08-23T12:13:45.150Z"
   },
   {
    "duration": 46,
    "start_time": "2022-08-23T12:13:45.322Z"
   },
   {
    "duration": 42,
    "start_time": "2022-08-23T12:13:45.370Z"
   },
   {
    "duration": 246,
    "start_time": "2022-08-23T12:13:45.414Z"
   },
   {
    "duration": 5,
    "start_time": "2022-08-23T12:13:45.662Z"
   },
   {
    "duration": 79,
    "start_time": "2022-08-23T12:13:45.668Z"
   },
   {
    "duration": 38,
    "start_time": "2022-08-23T12:13:45.750Z"
   },
   {
    "duration": 67,
    "start_time": "2022-08-23T12:13:45.790Z"
   },
   {
    "duration": 43,
    "start_time": "2022-08-23T12:13:45.859Z"
   },
   {
    "duration": 15,
    "start_time": "2022-08-23T12:13:45.906Z"
   },
   {
    "duration": 154,
    "start_time": "2022-08-23T12:13:45.923Z"
   },
   {
    "duration": 33,
    "start_time": "2022-08-23T12:13:46.078Z"
   },
   {
    "duration": 18,
    "start_time": "2022-08-23T12:13:46.112Z"
   },
   {
    "duration": 29,
    "start_time": "2022-08-23T12:13:46.131Z"
   },
   {
    "duration": 32,
    "start_time": "2022-08-23T12:13:48.346Z"
   },
   {
    "duration": 35,
    "start_time": "2022-08-23T12:14:08.953Z"
   },
   {
    "duration": 9,
    "start_time": "2022-08-23T12:15:15.632Z"
   },
   {
    "duration": 655,
    "start_time": "2022-08-23T12:15:29.285Z"
   },
   {
    "duration": 311,
    "start_time": "2022-08-23T12:15:29.942Z"
   },
   {
    "duration": 60,
    "start_time": "2022-08-23T12:15:30.254Z"
   },
   {
    "duration": 12,
    "start_time": "2022-08-23T12:15:30.317Z"
   },
   {
    "duration": 18,
    "start_time": "2022-08-23T12:15:30.331Z"
   },
   {
    "duration": 141,
    "start_time": "2022-08-23T12:15:30.350Z"
   },
   {
    "duration": 6,
    "start_time": "2022-08-23T12:15:30.493Z"
   },
   {
    "duration": 54,
    "start_time": "2022-08-23T12:15:30.500Z"
   },
   {
    "duration": 3,
    "start_time": "2022-08-23T12:15:30.556Z"
   },
   {
    "duration": 44,
    "start_time": "2022-08-23T12:15:30.561Z"
   },
   {
    "duration": 7,
    "start_time": "2022-08-23T12:15:30.607Z"
   },
   {
    "duration": 55,
    "start_time": "2022-08-23T12:15:30.615Z"
   },
   {
    "duration": 55,
    "start_time": "2022-08-23T12:15:30.672Z"
   },
   {
    "duration": 33,
    "start_time": "2022-08-23T12:15:30.729Z"
   },
   {
    "duration": 35,
    "start_time": "2022-08-23T12:15:30.764Z"
   },
   {
    "duration": 41,
    "start_time": "2022-08-23T12:15:30.801Z"
   },
   {
    "duration": 48,
    "start_time": "2022-08-23T12:15:30.843Z"
   },
   {
    "duration": 282,
    "start_time": "2022-08-23T12:15:30.893Z"
   },
   {
    "duration": 130,
    "start_time": "2022-08-23T12:15:31.176Z"
   },
   {
    "duration": 40,
    "start_time": "2022-08-23T12:15:31.308Z"
   },
   {
    "duration": 42,
    "start_time": "2022-08-23T12:15:31.350Z"
   },
   {
    "duration": 229,
    "start_time": "2022-08-23T12:15:31.394Z"
   },
   {
    "duration": 5,
    "start_time": "2022-08-23T12:15:31.624Z"
   },
   {
    "duration": 103,
    "start_time": "2022-08-23T12:15:31.630Z"
   },
   {
    "duration": 27,
    "start_time": "2022-08-23T12:15:31.735Z"
   },
   {
    "duration": 76,
    "start_time": "2022-08-23T12:15:31.763Z"
   },
   {
    "duration": 28,
    "start_time": "2022-08-23T12:15:31.841Z"
   },
   {
    "duration": 15,
    "start_time": "2022-08-23T12:15:31.884Z"
   },
   {
    "duration": 140,
    "start_time": "2022-08-23T12:15:31.901Z"
   },
   {
    "duration": 29,
    "start_time": "2022-08-23T12:15:32.043Z"
   },
   {
    "duration": 14,
    "start_time": "2022-08-23T12:15:32.085Z"
   },
   {
    "duration": 23,
    "start_time": "2022-08-23T12:15:32.100Z"
   },
   {
    "duration": 43,
    "start_time": "2022-08-23T12:15:32.125Z"
   },
   {
    "duration": 16,
    "start_time": "2022-08-23T12:15:32.170Z"
   },
   {
    "duration": 592,
    "start_time": "2022-08-23T12:17:39.310Z"
   },
   {
    "duration": 299,
    "start_time": "2022-08-23T12:17:39.904Z"
   },
   {
    "duration": 65,
    "start_time": "2022-08-23T12:17:40.205Z"
   },
   {
    "duration": 13,
    "start_time": "2022-08-23T12:17:40.272Z"
   },
   {
    "duration": 7,
    "start_time": "2022-08-23T12:17:40.287Z"
   },
   {
    "duration": 9,
    "start_time": "2022-08-23T12:17:59.475Z"
   },
   {
    "duration": 2,
    "start_time": "2022-08-23T12:18:25.675Z"
   },
   {
    "duration": 306,
    "start_time": "2022-08-23T12:18:25.680Z"
   },
   {
    "duration": 55,
    "start_time": "2022-08-23T12:18:25.987Z"
   },
   {
    "duration": 8,
    "start_time": "2022-08-23T12:18:26.044Z"
   },
   {
    "duration": 9,
    "start_time": "2022-08-23T12:18:26.053Z"
   },
   {
    "duration": 24,
    "start_time": "2022-08-23T12:18:26.063Z"
   },
   {
    "duration": 16,
    "start_time": "2022-08-23T12:18:26.089Z"
   },
   {
    "duration": 114,
    "start_time": "2022-08-23T12:18:26.107Z"
   },
   {
    "duration": 6,
    "start_time": "2022-08-23T12:18:26.223Z"
   },
   {
    "duration": 64,
    "start_time": "2022-08-23T12:18:26.230Z"
   },
   {
    "duration": 2,
    "start_time": "2022-08-23T12:18:26.295Z"
   },
   {
    "duration": 24,
    "start_time": "2022-08-23T12:18:26.298Z"
   },
   {
    "duration": 5,
    "start_time": "2022-08-23T12:18:26.324Z"
   },
   {
    "duration": 45,
    "start_time": "2022-08-23T12:18:37.605Z"
   },
   {
    "duration": 55,
    "start_time": "2022-08-23T12:18:45.594Z"
   },
   {
    "duration": 32,
    "start_time": "2022-08-23T12:18:49.639Z"
   },
   {
    "duration": 10,
    "start_time": "2022-08-23T12:18:55.833Z"
   },
   {
    "duration": 15,
    "start_time": "2022-08-23T12:18:58.223Z"
   },
   {
    "duration": 39,
    "start_time": "2022-08-23T12:18:58.778Z"
   },
   {
    "duration": 278,
    "start_time": "2022-08-23T12:19:07.037Z"
   },
   {
    "duration": 126,
    "start_time": "2022-08-23T12:19:56.360Z"
   },
   {
    "duration": 44,
    "start_time": "2022-08-23T12:19:58.549Z"
   },
   {
    "duration": 29,
    "start_time": "2022-08-23T12:19:59.130Z"
   },
   {
    "duration": 230,
    "start_time": "2022-08-23T12:20:01.455Z"
   },
   {
    "duration": 4,
    "start_time": "2022-08-23T12:20:02.023Z"
   },
   {
    "duration": 68,
    "start_time": "2022-08-23T12:20:06.679Z"
   },
   {
    "duration": 28,
    "start_time": "2022-08-23T12:20:09.036Z"
   },
   {
    "duration": 61,
    "start_time": "2022-08-23T12:20:18.411Z"
   },
   {
    "duration": 54,
    "start_time": "2022-08-23T12:20:40.632Z"
   },
   {
    "duration": 79,
    "start_time": "2022-08-23T12:21:42.029Z"
   },
   {
    "duration": 28,
    "start_time": "2022-08-23T12:21:46.072Z"
   },
   {
    "duration": 17,
    "start_time": "2022-08-23T12:21:46.471Z"
   },
   {
    "duration": 136,
    "start_time": "2022-08-23T12:21:46.678Z"
   },
   {
    "duration": 32,
    "start_time": "2022-08-23T12:21:46.956Z"
   },
   {
    "duration": 13,
    "start_time": "2022-08-23T12:21:47.157Z"
   },
   {
    "duration": 11,
    "start_time": "2022-08-23T12:21:47.385Z"
   },
   {
    "duration": 33,
    "start_time": "2022-08-23T12:21:48.251Z"
   },
   {
    "duration": 10,
    "start_time": "2022-08-23T12:21:48.762Z"
   },
   {
    "duration": 32,
    "start_time": "2022-08-23T12:21:54.236Z"
   },
   {
    "duration": 9,
    "start_time": "2022-08-23T12:24:07.541Z"
   },
   {
    "duration": 4,
    "start_time": "2022-08-23T12:25:46.966Z"
   },
   {
    "duration": 9,
    "start_time": "2022-08-23T12:25:49.210Z"
   },
   {
    "duration": 525,
    "start_time": "2022-08-23T12:34:47.107Z"
   },
   {
    "duration": 130,
    "start_time": "2022-08-23T12:37:24.376Z"
   },
   {
    "duration": 16,
    "start_time": "2022-08-23T12:46:44.876Z"
   },
   {
    "duration": 89,
    "start_time": "2022-08-23T12:47:03.393Z"
   },
   {
    "duration": 17,
    "start_time": "2022-08-23T12:47:23.487Z"
   },
   {
    "duration": 10,
    "start_time": "2022-08-23T12:48:14.041Z"
   },
   {
    "duration": 664,
    "start_time": "2022-08-23T12:50:04.205Z"
   },
   {
    "duration": 296,
    "start_time": "2022-08-23T12:50:04.870Z"
   },
   {
    "duration": 59,
    "start_time": "2022-08-23T12:50:05.168Z"
   },
   {
    "duration": 12,
    "start_time": "2022-08-23T12:50:05.229Z"
   },
   {
    "duration": 6,
    "start_time": "2022-08-23T12:50:05.243Z"
   },
   {
    "duration": 9,
    "start_time": "2022-08-23T12:50:05.250Z"
   },
   {
    "duration": 28,
    "start_time": "2022-08-23T12:50:05.261Z"
   },
   {
    "duration": 128,
    "start_time": "2022-08-23T12:50:05.290Z"
   },
   {
    "duration": 7,
    "start_time": "2022-08-23T12:50:05.419Z"
   },
   {
    "duration": 57,
    "start_time": "2022-08-23T12:50:05.428Z"
   },
   {
    "duration": 2,
    "start_time": "2022-08-23T12:50:05.486Z"
   },
   {
    "duration": 20,
    "start_time": "2022-08-23T12:50:05.490Z"
   },
   {
    "duration": 6,
    "start_time": "2022-08-23T12:50:05.511Z"
   },
   {
    "duration": 47,
    "start_time": "2022-08-23T12:50:05.518Z"
   },
   {
    "duration": 72,
    "start_time": "2022-08-23T12:50:05.566Z"
   },
   {
    "duration": 48,
    "start_time": "2022-08-23T12:50:05.640Z"
   },
   {
    "duration": 10,
    "start_time": "2022-08-23T12:50:05.689Z"
   },
   {
    "duration": 12,
    "start_time": "2022-08-23T12:50:05.700Z"
   },
   {
    "duration": 37,
    "start_time": "2022-08-23T12:50:05.714Z"
   },
   {
    "duration": 302,
    "start_time": "2022-08-23T12:50:05.753Z"
   },
   {
    "duration": 161,
    "start_time": "2022-08-23T12:50:06.057Z"
   },
   {
    "duration": 45,
    "start_time": "2022-08-23T12:50:06.220Z"
   },
   {
    "duration": 41,
    "start_time": "2022-08-23T12:50:06.267Z"
   },
   {
    "duration": 236,
    "start_time": "2022-08-23T12:50:06.310Z"
   },
   {
    "duration": 5,
    "start_time": "2022-08-23T12:50:06.548Z"
   },
   {
    "duration": 78,
    "start_time": "2022-08-23T12:50:06.554Z"
   },
   {
    "duration": 27,
    "start_time": "2022-08-23T12:50:06.634Z"
   },
   {
    "duration": 94,
    "start_time": "2022-08-23T12:50:06.665Z"
   },
   {
    "duration": 42,
    "start_time": "2022-08-23T12:50:06.761Z"
   },
   {
    "duration": 16,
    "start_time": "2022-08-23T12:50:06.805Z"
   },
   {
    "duration": 148,
    "start_time": "2022-08-23T12:50:06.822Z"
   },
   {
    "duration": 33,
    "start_time": "2022-08-23T12:50:06.972Z"
   },
   {
    "duration": 11,
    "start_time": "2022-08-23T12:50:07.007Z"
   },
   {
    "duration": 11,
    "start_time": "2022-08-23T12:50:07.019Z"
   },
   {
    "duration": 31,
    "start_time": "2022-08-23T12:50:07.031Z"
   },
   {
    "duration": 28,
    "start_time": "2022-08-23T12:50:07.063Z"
   },
   {
    "duration": 32,
    "start_time": "2022-08-23T12:50:07.092Z"
   },
   {
    "duration": 16,
    "start_time": "2022-08-23T12:50:07.125Z"
   },
   {
    "duration": 11,
    "start_time": "2022-08-23T12:51:08.136Z"
   },
   {
    "duration": 626,
    "start_time": "2022-08-23T12:53:23.161Z"
   },
   {
    "duration": 281,
    "start_time": "2022-08-23T12:53:23.788Z"
   },
   {
    "duration": 57,
    "start_time": "2022-08-23T12:53:24.071Z"
   },
   {
    "duration": 11,
    "start_time": "2022-08-23T12:53:24.130Z"
   },
   {
    "duration": 13,
    "start_time": "2022-08-23T12:53:24.143Z"
   },
   {
    "duration": 27,
    "start_time": "2022-08-23T12:53:24.158Z"
   },
   {
    "duration": 11,
    "start_time": "2022-08-23T12:53:24.186Z"
   },
   {
    "duration": 125,
    "start_time": "2022-08-23T12:53:24.199Z"
   },
   {
    "duration": 7,
    "start_time": "2022-08-23T12:53:24.325Z"
   },
   {
    "duration": 63,
    "start_time": "2022-08-23T12:53:24.335Z"
   },
   {
    "duration": 3,
    "start_time": "2022-08-23T12:53:24.400Z"
   },
   {
    "duration": 19,
    "start_time": "2022-08-23T12:53:24.404Z"
   },
   {
    "duration": 8,
    "start_time": "2022-08-23T12:53:24.425Z"
   },
   {
    "duration": 84,
    "start_time": "2022-08-23T12:53:24.435Z"
   },
   {
    "duration": 73,
    "start_time": "2022-08-23T12:53:24.520Z"
   },
   {
    "duration": 39,
    "start_time": "2022-08-23T12:53:24.595Z"
   },
   {
    "duration": 10,
    "start_time": "2022-08-23T12:53:24.636Z"
   },
   {
    "duration": 39,
    "start_time": "2022-08-23T12:53:24.648Z"
   },
   {
    "duration": 40,
    "start_time": "2022-08-23T12:53:24.688Z"
   },
   {
    "duration": 295,
    "start_time": "2022-08-23T12:53:24.729Z"
   },
   {
    "duration": 139,
    "start_time": "2022-08-23T12:53:25.025Z"
   },
   {
    "duration": 46,
    "start_time": "2022-08-23T12:53:25.166Z"
   },
   {
    "duration": 26,
    "start_time": "2022-08-23T12:53:25.214Z"
   },
   {
    "duration": 228,
    "start_time": "2022-08-23T12:53:25.242Z"
   },
   {
    "duration": 4,
    "start_time": "2022-08-23T12:53:25.472Z"
   },
   {
    "duration": 67,
    "start_time": "2022-08-23T12:53:25.477Z"
   },
   {
    "duration": 43,
    "start_time": "2022-08-23T12:53:25.546Z"
   },
   {
    "duration": 95,
    "start_time": "2022-08-23T12:53:25.592Z"
   },
   {
    "duration": 31,
    "start_time": "2022-08-23T12:53:25.689Z"
   },
   {
    "duration": 17,
    "start_time": "2022-08-23T12:53:25.722Z"
   },
   {
    "duration": 163,
    "start_time": "2022-08-23T12:53:25.741Z"
   },
   {
    "duration": 29,
    "start_time": "2022-08-23T12:53:25.906Z"
   },
   {
    "duration": 12,
    "start_time": "2022-08-23T12:53:25.937Z"
   },
   {
    "duration": 34,
    "start_time": "2022-08-23T12:53:25.951Z"
   },
   {
    "duration": 31,
    "start_time": "2022-08-23T12:53:25.986Z"
   },
   {
    "duration": 9,
    "start_time": "2022-08-23T12:53:26.018Z"
   },
   {
    "duration": 57,
    "start_time": "2022-08-23T12:53:26.028Z"
   },
   {
    "duration": 19,
    "start_time": "2022-08-23T12:53:26.086Z"
   },
   {
    "duration": 37,
    "start_time": "2022-08-23T12:53:26.107Z"
   },
   {
    "duration": 33,
    "start_time": "2022-08-23T12:54:57.277Z"
   },
   {
    "duration": 17,
    "start_time": "2022-08-23T13:01:03.204Z"
   },
   {
    "duration": 39,
    "start_time": "2022-08-23T13:01:17.601Z"
   },
   {
    "duration": 40,
    "start_time": "2022-08-23T13:05:57.274Z"
   },
   {
    "duration": 20,
    "start_time": "2022-08-23T13:13:51.842Z"
   },
   {
    "duration": 44,
    "start_time": "2022-08-23T13:16:38.671Z"
   },
   {
    "duration": 38,
    "start_time": "2022-08-23T13:17:01.512Z"
   },
   {
    "duration": 42,
    "start_time": "2022-08-23T13:17:18.355Z"
   },
   {
    "duration": 42,
    "start_time": "2022-08-23T13:17:20.599Z"
   },
   {
    "duration": 1291,
    "start_time": "2022-08-23T13:20:58.737Z"
   },
   {
    "duration": 46,
    "start_time": "2022-08-23T13:21:26.618Z"
   },
   {
    "duration": 19,
    "start_time": "2022-08-23T13:22:01.153Z"
   },
   {
    "duration": 760,
    "start_time": "2022-08-23T17:18:58.628Z"
   },
   {
    "duration": 843,
    "start_time": "2022-08-23T17:18:59.390Z"
   },
   {
    "duration": 55,
    "start_time": "2022-08-23T17:19:00.234Z"
   },
   {
    "duration": 12,
    "start_time": "2022-08-23T17:19:00.291Z"
   },
   {
    "duration": 13,
    "start_time": "2022-08-23T17:19:00.305Z"
   },
   {
    "duration": 11,
    "start_time": "2022-08-23T17:19:00.319Z"
   },
   {
    "duration": 29,
    "start_time": "2022-08-23T17:19:00.331Z"
   },
   {
    "duration": 110,
    "start_time": "2022-08-23T17:19:00.361Z"
   },
   {
    "duration": 7,
    "start_time": "2022-08-23T17:19:00.473Z"
   },
   {
    "duration": 111,
    "start_time": "2022-08-23T17:19:00.481Z"
   },
   {
    "duration": 2,
    "start_time": "2022-08-23T17:19:00.594Z"
   },
   {
    "duration": 26,
    "start_time": "2022-08-23T17:19:00.597Z"
   },
   {
    "duration": 14,
    "start_time": "2022-08-23T17:19:00.625Z"
   },
   {
    "duration": 43,
    "start_time": "2022-08-23T17:19:00.641Z"
   },
   {
    "duration": 61,
    "start_time": "2022-08-23T17:19:00.686Z"
   },
   {
    "duration": 29,
    "start_time": "2022-08-23T17:19:00.748Z"
   },
   {
    "duration": 10,
    "start_time": "2022-08-23T17:19:00.779Z"
   },
   {
    "duration": 29,
    "start_time": "2022-08-23T17:19:00.791Z"
   },
   {
    "duration": 37,
    "start_time": "2022-08-23T17:19:00.821Z"
   },
   {
    "duration": 321,
    "start_time": "2022-08-23T17:19:00.859Z"
   },
   {
    "duration": 143,
    "start_time": "2022-08-23T17:19:01.181Z"
   },
   {
    "duration": 29,
    "start_time": "2022-08-23T17:19:01.326Z"
   },
   {
    "duration": 31,
    "start_time": "2022-08-23T17:19:01.357Z"
   },
   {
    "duration": 244,
    "start_time": "2022-08-23T17:19:01.390Z"
   },
   {
    "duration": 4,
    "start_time": "2022-08-23T17:19:01.636Z"
   },
   {
    "duration": 79,
    "start_time": "2022-08-23T17:19:01.642Z"
   },
   {
    "duration": 26,
    "start_time": "2022-08-23T17:19:01.723Z"
   },
   {
    "duration": 125,
    "start_time": "2022-08-23T17:19:01.751Z"
   },
   {
    "duration": 27,
    "start_time": "2022-08-23T17:19:01.878Z"
   },
   {
    "duration": 44,
    "start_time": "2022-08-23T17:19:01.910Z"
   },
   {
    "duration": 130,
    "start_time": "2022-08-23T17:19:01.956Z"
   },
   {
    "duration": 24,
    "start_time": "2022-08-23T17:19:02.087Z"
   },
   {
    "duration": 20,
    "start_time": "2022-08-23T17:19:02.113Z"
   },
   {
    "duration": 26,
    "start_time": "2022-08-23T17:19:02.134Z"
   },
   {
    "duration": 38,
    "start_time": "2022-08-23T17:19:02.162Z"
   },
   {
    "duration": 8,
    "start_time": "2022-08-23T17:19:02.202Z"
   },
   {
    "duration": 49,
    "start_time": "2022-08-23T17:19:02.211Z"
   },
   {
    "duration": 15,
    "start_time": "2022-08-23T17:19:02.261Z"
   },
   {
    "duration": 17,
    "start_time": "2022-08-23T17:19:02.278Z"
   },
   {
    "duration": 32,
    "start_time": "2022-08-23T17:19:02.296Z"
   },
   {
    "duration": 12,
    "start_time": "2022-08-23T17:19:02.331Z"
   },
   {
    "duration": 38,
    "start_time": "2022-08-23T17:19:02.345Z"
   },
   {
    "duration": 44,
    "start_time": "2022-08-23T17:19:02.384Z"
   },
   {
    "duration": 38,
    "start_time": "2022-08-23T17:19:02.429Z"
   },
   {
    "duration": 59,
    "start_time": "2022-08-23T17:19:02.469Z"
   },
   {
    "duration": 19,
    "start_time": "2022-08-23T17:19:02.530Z"
   },
   {
    "duration": 746,
    "start_time": "2022-08-24T08:56:19.670Z"
   },
   {
    "duration": 869,
    "start_time": "2022-08-24T08:56:20.418Z"
   },
   {
    "duration": 58,
    "start_time": "2022-08-24T08:56:21.288Z"
   },
   {
    "duration": 11,
    "start_time": "2022-08-24T08:56:21.348Z"
   },
   {
    "duration": 6,
    "start_time": "2022-08-24T08:56:21.361Z"
   },
   {
    "duration": 22,
    "start_time": "2022-08-24T08:56:21.369Z"
   },
   {
    "duration": 18,
    "start_time": "2022-08-24T08:56:21.393Z"
   },
   {
    "duration": 117,
    "start_time": "2022-08-24T08:56:21.412Z"
   },
   {
    "duration": 6,
    "start_time": "2022-08-24T08:56:21.531Z"
   },
   {
    "duration": 63,
    "start_time": "2022-08-24T08:56:21.539Z"
   },
   {
    "duration": 2,
    "start_time": "2022-08-24T08:56:21.603Z"
   },
   {
    "duration": 15,
    "start_time": "2022-08-24T08:56:21.606Z"
   },
   {
    "duration": 7,
    "start_time": "2022-08-24T08:56:21.623Z"
   },
   {
    "duration": 60,
    "start_time": "2022-08-24T08:56:21.631Z"
   },
   {
    "duration": 53,
    "start_time": "2022-08-24T08:56:21.692Z"
   },
   {
    "duration": 43,
    "start_time": "2022-08-24T08:56:21.746Z"
   },
   {
    "duration": 9,
    "start_time": "2022-08-24T08:56:21.791Z"
   },
   {
    "duration": 12,
    "start_time": "2022-08-24T08:56:21.801Z"
   },
   {
    "duration": 34,
    "start_time": "2022-08-24T08:56:21.815Z"
   },
   {
    "duration": 297,
    "start_time": "2022-08-24T08:56:21.850Z"
   },
   {
    "duration": 143,
    "start_time": "2022-08-24T08:56:22.149Z"
   },
   {
    "duration": 42,
    "start_time": "2022-08-24T08:56:22.293Z"
   },
   {
    "duration": 49,
    "start_time": "2022-08-24T08:56:22.337Z"
   },
   {
    "duration": 247,
    "start_time": "2022-08-24T08:56:22.388Z"
   },
   {
    "duration": 5,
    "start_time": "2022-08-24T08:56:22.636Z"
   },
   {
    "duration": 77,
    "start_time": "2022-08-24T08:56:22.643Z"
   },
   {
    "duration": 25,
    "start_time": "2022-08-24T08:56:22.722Z"
   },
   {
    "duration": 118,
    "start_time": "2022-08-24T08:56:22.752Z"
   },
   {
    "duration": 50,
    "start_time": "2022-08-24T08:56:22.872Z"
   },
   {
    "duration": 22,
    "start_time": "2022-08-24T08:56:22.924Z"
   },
   {
    "duration": 146,
    "start_time": "2022-08-24T08:56:22.948Z"
   },
   {
    "duration": 26,
    "start_time": "2022-08-24T08:56:23.095Z"
   },
   {
    "duration": 11,
    "start_time": "2022-08-24T08:56:23.123Z"
   },
   {
    "duration": 35,
    "start_time": "2022-08-24T08:56:23.135Z"
   },
   {
    "duration": 39,
    "start_time": "2022-08-24T08:56:23.171Z"
   },
   {
    "duration": 8,
    "start_time": "2022-08-24T08:56:23.211Z"
   },
   {
    "duration": 52,
    "start_time": "2022-08-24T08:56:23.221Z"
   },
   {
    "duration": 16,
    "start_time": "2022-08-24T08:56:23.275Z"
   },
   {
    "duration": 40,
    "start_time": "2022-08-24T08:56:23.292Z"
   },
   {
    "duration": 58,
    "start_time": "2022-08-24T08:56:23.333Z"
   },
   {
    "duration": 12,
    "start_time": "2022-08-24T08:56:23.392Z"
   },
   {
    "duration": 53,
    "start_time": "2022-08-24T08:56:23.406Z"
   },
   {
    "duration": 51,
    "start_time": "2022-08-24T08:56:23.460Z"
   },
   {
    "duration": 40,
    "start_time": "2022-08-24T08:56:23.512Z"
   },
   {
    "duration": 59,
    "start_time": "2022-08-24T08:56:23.554Z"
   },
   {
    "duration": 16,
    "start_time": "2022-08-24T08:56:23.614Z"
   },
   {
    "duration": 7,
    "start_time": "2022-08-24T09:01:02.124Z"
   },
   {
    "duration": 126,
    "start_time": "2022-08-24T10:54:38.701Z"
   },
   {
    "duration": 97,
    "start_time": "2022-08-24T10:59:12.226Z"
   },
   {
    "duration": 85,
    "start_time": "2022-08-24T10:59:30.736Z"
   },
   {
    "duration": 218,
    "start_time": "2022-08-24T10:59:32.788Z"
   },
   {
    "duration": 77,
    "start_time": "2022-08-24T11:25:44.953Z"
   },
   {
    "duration": 9,
    "start_time": "2022-08-24T11:25:51.777Z"
   },
   {
    "duration": 241,
    "start_time": "2022-08-24T11:26:01.034Z"
   },
   {
    "duration": 50,
    "start_time": "2022-08-24T11:30:58.010Z"
   },
   {
    "duration": 49,
    "start_time": "2022-08-24T11:31:29.563Z"
   },
   {
    "duration": 619,
    "start_time": "2022-08-24T11:34:25.960Z"
   },
   {
    "duration": 273,
    "start_time": "2022-08-24T11:34:26.581Z"
   },
   {
    "duration": 51,
    "start_time": "2022-08-24T11:34:26.856Z"
   },
   {
    "duration": 11,
    "start_time": "2022-08-24T11:34:26.908Z"
   },
   {
    "duration": 7,
    "start_time": "2022-08-24T11:34:26.920Z"
   },
   {
    "duration": 14,
    "start_time": "2022-08-24T11:34:26.928Z"
   },
   {
    "duration": 11,
    "start_time": "2022-08-24T11:34:26.943Z"
   },
   {
    "duration": 120,
    "start_time": "2022-08-24T11:34:26.955Z"
   },
   {
    "duration": 13,
    "start_time": "2022-08-24T11:34:27.076Z"
   },
   {
    "duration": 50,
    "start_time": "2022-08-24T11:34:27.092Z"
   },
   {
    "duration": 2,
    "start_time": "2022-08-24T11:34:27.144Z"
   },
   {
    "duration": 37,
    "start_time": "2022-08-24T11:34:27.148Z"
   },
   {
    "duration": 6,
    "start_time": "2022-08-24T11:34:27.186Z"
   },
   {
    "duration": 42,
    "start_time": "2022-08-24T11:34:27.194Z"
   },
   {
    "duration": 73,
    "start_time": "2022-08-24T11:34:27.238Z"
   },
   {
    "duration": 31,
    "start_time": "2022-08-24T11:34:27.313Z"
   },
   {
    "duration": 10,
    "start_time": "2022-08-24T11:34:27.346Z"
   },
   {
    "duration": 31,
    "start_time": "2022-08-24T11:34:27.357Z"
   },
   {
    "duration": 37,
    "start_time": "2022-08-24T11:34:27.390Z"
   },
   {
    "duration": 297,
    "start_time": "2022-08-24T11:34:27.428Z"
   },
   {
    "duration": 139,
    "start_time": "2022-08-24T11:34:27.726Z"
   },
   {
    "duration": 60,
    "start_time": "2022-08-24T11:34:27.866Z"
   },
   {
    "duration": 32,
    "start_time": "2022-08-24T11:34:27.928Z"
   },
   {
    "duration": 250,
    "start_time": "2022-08-24T11:34:27.961Z"
   },
   {
    "duration": 4,
    "start_time": "2022-08-24T11:34:28.213Z"
   },
   {
    "duration": 70,
    "start_time": "2022-08-24T11:34:28.218Z"
   },
   {
    "duration": 25,
    "start_time": "2022-08-24T11:34:28.289Z"
   },
   {
    "duration": 97,
    "start_time": "2022-08-24T11:34:28.317Z"
   },
   {
    "duration": 26,
    "start_time": "2022-08-24T11:34:28.416Z"
   },
   {
    "duration": 15,
    "start_time": "2022-08-24T11:34:28.444Z"
   },
   {
    "duration": 143,
    "start_time": "2022-08-24T11:34:28.460Z"
   },
   {
    "duration": 26,
    "start_time": "2022-08-24T11:34:28.604Z"
   },
   {
    "duration": 11,
    "start_time": "2022-08-24T11:34:28.632Z"
   },
   {
    "duration": 10,
    "start_time": "2022-08-24T11:34:28.644Z"
   },
   {
    "duration": 49,
    "start_time": "2022-08-24T11:34:28.655Z"
   },
   {
    "duration": 9,
    "start_time": "2022-08-24T11:34:28.705Z"
   },
   {
    "duration": 32,
    "start_time": "2022-08-24T11:34:28.715Z"
   },
   {
    "duration": 16,
    "start_time": "2022-08-24T11:34:59.637Z"
   },
   {
    "duration": 9,
    "start_time": "2022-08-24T11:35:11.920Z"
   },
   {
    "duration": 38,
    "start_time": "2022-08-24T11:36:08.979Z"
   },
   {
    "duration": 10,
    "start_time": "2022-08-24T11:36:31.867Z"
   },
   {
    "duration": 11,
    "start_time": "2022-08-24T11:37:01.220Z"
   },
   {
    "duration": 13,
    "start_time": "2022-08-24T11:38:52.505Z"
   },
   {
    "duration": 42,
    "start_time": "2022-08-24T11:38:55.163Z"
   },
   {
    "duration": 43,
    "start_time": "2022-08-24T11:39:20.766Z"
   },
   {
    "duration": 636,
    "start_time": "2022-08-24T11:39:35.655Z"
   },
   {
    "duration": 293,
    "start_time": "2022-08-24T11:39:36.293Z"
   },
   {
    "duration": 57,
    "start_time": "2022-08-24T11:39:36.587Z"
   },
   {
    "duration": 11,
    "start_time": "2022-08-24T11:39:36.646Z"
   },
   {
    "duration": 7,
    "start_time": "2022-08-24T11:39:36.658Z"
   },
   {
    "duration": 25,
    "start_time": "2022-08-24T11:39:36.666Z"
   },
   {
    "duration": 13,
    "start_time": "2022-08-24T11:39:36.692Z"
   },
   {
    "duration": 127,
    "start_time": "2022-08-24T11:39:36.707Z"
   },
   {
    "duration": 7,
    "start_time": "2022-08-24T11:39:36.836Z"
   },
   {
    "duration": 63,
    "start_time": "2022-08-24T11:39:36.846Z"
   },
   {
    "duration": 3,
    "start_time": "2022-08-24T11:39:36.911Z"
   },
   {
    "duration": 20,
    "start_time": "2022-08-24T11:39:36.915Z"
   },
   {
    "duration": 12,
    "start_time": "2022-08-24T11:39:36.937Z"
   },
   {
    "duration": 52,
    "start_time": "2022-08-24T11:39:36.951Z"
   },
   {
    "duration": 61,
    "start_time": "2022-08-24T11:39:37.005Z"
   },
   {
    "duration": 47,
    "start_time": "2022-08-24T11:39:37.068Z"
   },
   {
    "duration": 11,
    "start_time": "2022-08-24T11:39:37.117Z"
   },
   {
    "duration": 15,
    "start_time": "2022-08-24T11:39:37.130Z"
   },
   {
    "duration": 63,
    "start_time": "2022-08-24T11:39:37.146Z"
   },
   {
    "duration": 312,
    "start_time": "2022-08-24T11:39:37.211Z"
   },
   {
    "duration": 146,
    "start_time": "2022-08-24T11:39:37.524Z"
   },
   {
    "duration": 51,
    "start_time": "2022-08-24T11:39:37.672Z"
   },
   {
    "duration": 31,
    "start_time": "2022-08-24T11:39:37.725Z"
   },
   {
    "duration": 242,
    "start_time": "2022-08-24T11:39:37.757Z"
   },
   {
    "duration": 5,
    "start_time": "2022-08-24T11:39:38.001Z"
   },
   {
    "duration": 78,
    "start_time": "2022-08-24T11:39:38.007Z"
   },
   {
    "duration": 29,
    "start_time": "2022-08-24T11:39:38.087Z"
   },
   {
    "duration": 108,
    "start_time": "2022-08-24T11:39:38.120Z"
   },
   {
    "duration": 33,
    "start_time": "2022-08-24T11:39:38.230Z"
   },
   {
    "duration": 32,
    "start_time": "2022-08-24T11:39:38.264Z"
   },
   {
    "duration": 166,
    "start_time": "2022-08-24T11:39:38.298Z"
   },
   {
    "duration": 34,
    "start_time": "2022-08-24T11:39:38.466Z"
   },
   {
    "duration": 12,
    "start_time": "2022-08-24T11:39:38.501Z"
   },
   {
    "duration": 11,
    "start_time": "2022-08-24T11:39:38.515Z"
   },
   {
    "duration": 32,
    "start_time": "2022-08-24T11:39:38.528Z"
   },
   {
    "duration": 30,
    "start_time": "2022-08-24T11:39:38.561Z"
   },
   {
    "duration": 34,
    "start_time": "2022-08-24T11:39:38.592Z"
   },
   {
    "duration": 16,
    "start_time": "2022-08-24T11:39:38.628Z"
   },
   {
    "duration": 63,
    "start_time": "2022-08-24T11:39:38.646Z"
   },
   {
    "duration": 9,
    "start_time": "2022-08-24T11:39:38.711Z"
   },
   {
    "duration": 14,
    "start_time": "2022-08-24T11:39:38.721Z"
   },
   {
    "duration": 50,
    "start_time": "2022-08-24T11:39:38.737Z"
   },
   {
    "duration": 40,
    "start_time": "2022-08-24T11:39:38.789Z"
   },
   {
    "duration": 57,
    "start_time": "2022-08-24T11:39:38.831Z"
   },
   {
    "duration": 43,
    "start_time": "2022-08-24T11:39:38.889Z"
   },
   {
    "duration": 15,
    "start_time": "2022-08-24T11:39:38.933Z"
   },
   {
    "duration": 6,
    "start_time": "2022-08-24T11:39:48.202Z"
   },
   {
    "duration": 45,
    "start_time": "2022-08-24T11:41:56.719Z"
   },
   {
    "duration": 53,
    "start_time": "2022-08-24T11:41:59.746Z"
   },
   {
    "duration": 131,
    "start_time": "2022-08-24T11:42:04.656Z"
   },
   {
    "duration": 218,
    "start_time": "2022-08-24T11:42:07.572Z"
   },
   {
    "duration": 1145,
    "start_time": "2022-08-24T11:45:58.953Z"
   },
   {
    "duration": 568,
    "start_time": "2022-08-24T11:46:04.753Z"
   },
   {
    "duration": 16,
    "start_time": "2022-08-24T11:46:23.881Z"
   },
   {
    "duration": 8,
    "start_time": "2022-08-24T11:47:06.693Z"
   },
   {
    "duration": 10,
    "start_time": "2022-08-24T11:47:29.412Z"
   },
   {
    "duration": 18,
    "start_time": "2022-08-24T11:48:38.743Z"
   },
   {
    "duration": 18,
    "start_time": "2022-08-24T11:50:08.071Z"
   },
   {
    "duration": 10,
    "start_time": "2022-08-24T11:50:23.621Z"
   },
   {
    "duration": 11,
    "start_time": "2022-08-24T11:51:06.683Z"
   },
   {
    "duration": 628,
    "start_time": "2022-08-24T11:51:36.557Z"
   },
   {
    "duration": 290,
    "start_time": "2022-08-24T11:51:37.187Z"
   },
   {
    "duration": 52,
    "start_time": "2022-08-24T11:51:37.478Z"
   },
   {
    "duration": 11,
    "start_time": "2022-08-24T11:51:37.532Z"
   },
   {
    "duration": 8,
    "start_time": "2022-08-24T11:51:37.544Z"
   },
   {
    "duration": 14,
    "start_time": "2022-08-24T11:51:37.553Z"
   },
   {
    "duration": 23,
    "start_time": "2022-08-24T11:51:37.568Z"
   },
   {
    "duration": 116,
    "start_time": "2022-08-24T11:51:37.592Z"
   },
   {
    "duration": 6,
    "start_time": "2022-08-24T11:51:37.710Z"
   },
   {
    "duration": 46,
    "start_time": "2022-08-24T11:51:37.719Z"
   },
   {
    "duration": 19,
    "start_time": "2022-08-24T11:51:37.766Z"
   },
   {
    "duration": 14,
    "start_time": "2022-08-24T11:51:37.786Z"
   },
   {
    "duration": 6,
    "start_time": "2022-08-24T11:51:37.802Z"
   },
   {
    "duration": 45,
    "start_time": "2022-08-24T11:51:37.809Z"
   },
   {
    "duration": 81,
    "start_time": "2022-08-24T11:51:37.855Z"
   },
   {
    "duration": 31,
    "start_time": "2022-08-24T11:51:37.937Z"
   },
   {
    "duration": 25,
    "start_time": "2022-08-24T11:51:37.969Z"
   },
   {
    "duration": 14,
    "start_time": "2022-08-24T11:51:37.995Z"
   },
   {
    "duration": 41,
    "start_time": "2022-08-24T11:51:38.011Z"
   },
   {
    "duration": 322,
    "start_time": "2022-08-24T11:51:38.053Z"
   },
   {
    "duration": 133,
    "start_time": "2022-08-24T11:51:38.377Z"
   },
   {
    "duration": 41,
    "start_time": "2022-08-24T11:51:38.512Z"
   },
   {
    "duration": 47,
    "start_time": "2022-08-24T11:51:38.554Z"
   },
   {
    "duration": 238,
    "start_time": "2022-08-24T11:51:38.603Z"
   },
   {
    "duration": 5,
    "start_time": "2022-08-24T11:51:38.843Z"
   },
   {
    "duration": 74,
    "start_time": "2022-08-24T11:51:38.849Z"
   },
   {
    "duration": 28,
    "start_time": "2022-08-24T11:51:38.925Z"
   },
   {
    "duration": 110,
    "start_time": "2022-08-24T11:51:38.957Z"
   },
   {
    "duration": 39,
    "start_time": "2022-08-24T11:51:39.068Z"
   },
   {
    "duration": 15,
    "start_time": "2022-08-24T11:51:39.108Z"
   },
   {
    "duration": 149,
    "start_time": "2022-08-24T11:51:39.125Z"
   },
   {
    "duration": 27,
    "start_time": "2022-08-24T11:51:39.285Z"
   },
   {
    "duration": 12,
    "start_time": "2022-08-24T11:51:39.313Z"
   },
   {
    "duration": 12,
    "start_time": "2022-08-24T11:51:39.327Z"
   },
   {
    "duration": 56,
    "start_time": "2022-08-24T11:51:39.340Z"
   },
   {
    "duration": 11,
    "start_time": "2022-08-24T11:51:39.397Z"
   },
   {
    "duration": 34,
    "start_time": "2022-08-24T11:51:39.409Z"
   },
   {
    "duration": 15,
    "start_time": "2022-08-24T11:51:39.444Z"
   },
   {
    "duration": 57,
    "start_time": "2022-08-24T11:51:39.461Z"
   },
   {
    "duration": 8,
    "start_time": "2022-08-24T11:51:39.520Z"
   },
   {
    "duration": 16,
    "start_time": "2022-08-24T11:51:39.530Z"
   },
   {
    "duration": 58,
    "start_time": "2022-08-24T11:51:39.547Z"
   },
   {
    "duration": 40,
    "start_time": "2022-08-24T11:51:39.607Z"
   },
   {
    "duration": 57,
    "start_time": "2022-08-24T11:51:39.648Z"
   },
   {
    "duration": 45,
    "start_time": "2022-08-24T11:51:39.707Z"
   },
   {
    "duration": 16,
    "start_time": "2022-08-24T11:51:39.754Z"
   },
   {
    "duration": 6,
    "start_time": "2022-08-24T11:51:39.785Z"
   },
   {
    "duration": 42,
    "start_time": "2022-08-24T11:51:39.793Z"
   },
   {
    "duration": 70,
    "start_time": "2022-08-24T11:51:39.836Z"
   },
   {
    "duration": 142,
    "start_time": "2022-08-24T11:51:39.907Z"
   },
   {
    "duration": 218,
    "start_time": "2022-08-24T11:51:40.050Z"
   },
   {
    "duration": 11,
    "start_time": "2022-08-24T11:51:43.762Z"
   },
   {
    "duration": 12,
    "start_time": "2022-08-24T11:54:36.254Z"
   },
   {
    "duration": 32,
    "start_time": "2022-08-24T11:54:55.062Z"
   },
   {
    "duration": 23,
    "start_time": "2022-08-24T11:55:16.843Z"
   },
   {
    "duration": 37,
    "start_time": "2022-08-24T11:55:27.411Z"
   },
   {
    "duration": 11,
    "start_time": "2022-08-24T11:57:22.571Z"
   },
   {
    "duration": 127,
    "start_time": "2022-08-24T12:06:54.828Z"
   },
   {
    "duration": 211,
    "start_time": "2022-08-24T12:07:44.481Z"
   },
   {
    "duration": 213,
    "start_time": "2022-08-24T12:08:09.458Z"
   },
   {
    "duration": 230,
    "start_time": "2022-08-24T12:08:32.001Z"
   },
   {
    "duration": 293,
    "start_time": "2022-08-24T12:14:34.962Z"
   },
   {
    "duration": 213,
    "start_time": "2022-08-24T12:17:31.290Z"
   },
   {
    "duration": 523,
    "start_time": "2022-08-24T12:17:53.782Z"
   },
   {
    "duration": 369,
    "start_time": "2022-08-24T12:18:00.359Z"
   },
   {
    "duration": 272,
    "start_time": "2022-08-24T12:18:13.041Z"
   },
   {
    "duration": 216,
    "start_time": "2022-08-24T12:19:17.953Z"
   },
   {
    "duration": 126,
    "start_time": "2022-08-24T12:24:15.203Z"
   },
   {
    "duration": 184,
    "start_time": "2022-08-24T12:24:56.408Z"
   },
   {
    "duration": 267,
    "start_time": "2022-08-24T12:25:15.508Z"
   },
   {
    "duration": 17,
    "start_time": "2022-08-24T12:39:56.254Z"
   },
   {
    "duration": 11,
    "start_time": "2022-08-24T12:40:53.121Z"
   },
   {
    "duration": 9,
    "start_time": "2022-08-24T12:42:51.516Z"
   },
   {
    "duration": 131,
    "start_time": "2022-08-24T13:45:23.474Z"
   },
   {
    "duration": 282,
    "start_time": "2022-08-24T13:46:15.021Z"
   },
   {
    "duration": 316,
    "start_time": "2022-08-24T13:46:45.243Z"
   },
   {
    "duration": 11,
    "start_time": "2022-08-24T13:47:19.370Z"
   },
   {
    "duration": 12,
    "start_time": "2022-08-24T13:47:57.192Z"
   },
   {
    "duration": 10,
    "start_time": "2022-08-24T13:48:23.549Z"
   },
   {
    "duration": 12,
    "start_time": "2022-08-24T13:48:42.752Z"
   },
   {
    "duration": 11,
    "start_time": "2022-08-24T13:48:49.396Z"
   },
   {
    "duration": 8,
    "start_time": "2022-08-24T13:50:21.012Z"
   },
   {
    "duration": 15,
    "start_time": "2022-08-24T13:50:40.569Z"
   },
   {
    "duration": 17,
    "start_time": "2022-08-24T13:51:32.632Z"
   },
   {
    "duration": 4,
    "start_time": "2022-08-24T13:53:27.343Z"
   },
   {
    "duration": 4,
    "start_time": "2022-08-24T13:53:48.220Z"
   },
   {
    "duration": 48,
    "start_time": "2022-08-24T13:54:05.813Z"
   },
   {
    "duration": 84,
    "start_time": "2022-08-24T13:54:46.847Z"
   },
   {
    "duration": 1142,
    "start_time": "2022-08-24T13:55:12.379Z"
   },
   {
    "duration": 301,
    "start_time": "2022-08-24T13:55:13.523Z"
   },
   {
    "duration": 56,
    "start_time": "2022-08-24T13:55:13.826Z"
   },
   {
    "duration": 15,
    "start_time": "2022-08-24T13:55:13.885Z"
   },
   {
    "duration": 11,
    "start_time": "2022-08-24T13:55:13.901Z"
   },
   {
    "duration": 10,
    "start_time": "2022-08-24T13:55:13.913Z"
   },
   {
    "duration": 11,
    "start_time": "2022-08-24T13:55:13.925Z"
   },
   {
    "duration": 139,
    "start_time": "2022-08-24T13:55:13.938Z"
   },
   {
    "duration": 8,
    "start_time": "2022-08-24T13:55:14.084Z"
   },
   {
    "duration": 73,
    "start_time": "2022-08-24T13:55:14.095Z"
   },
   {
    "duration": 2,
    "start_time": "2022-08-24T13:55:14.170Z"
   },
   {
    "duration": 19,
    "start_time": "2022-08-24T13:55:14.173Z"
   },
   {
    "duration": 12,
    "start_time": "2022-08-24T13:55:14.194Z"
   },
   {
    "duration": 45,
    "start_time": "2022-08-24T13:55:14.207Z"
   },
   {
    "duration": 67,
    "start_time": "2022-08-24T13:55:14.253Z"
   },
   {
    "duration": 33,
    "start_time": "2022-08-24T13:55:14.321Z"
   },
   {
    "duration": 40,
    "start_time": "2022-08-24T13:55:14.355Z"
   },
   {
    "duration": 19,
    "start_time": "2022-08-24T13:55:14.399Z"
   },
   {
    "duration": 44,
    "start_time": "2022-08-24T13:55:14.420Z"
   },
   {
    "duration": 331,
    "start_time": "2022-08-24T13:55:14.465Z"
   },
   {
    "duration": 136,
    "start_time": "2022-08-24T13:55:14.797Z"
   },
   {
    "duration": 38,
    "start_time": "2022-08-24T13:55:14.934Z"
   },
   {
    "duration": 44,
    "start_time": "2022-08-24T13:55:14.973Z"
   },
   {
    "duration": 256,
    "start_time": "2022-08-24T13:55:15.018Z"
   },
   {
    "duration": 9,
    "start_time": "2022-08-24T13:55:15.276Z"
   },
   {
    "duration": 76,
    "start_time": "2022-08-24T13:55:15.286Z"
   },
   {
    "duration": 44,
    "start_time": "2022-08-24T13:55:15.363Z"
   },
   {
    "duration": 95,
    "start_time": "2022-08-24T13:55:15.410Z"
   },
   {
    "duration": 28,
    "start_time": "2022-08-24T13:55:15.507Z"
   },
   {
    "duration": 15,
    "start_time": "2022-08-24T13:55:15.536Z"
   },
   {
    "duration": 155,
    "start_time": "2022-08-24T13:55:15.553Z"
   },
   {
    "duration": 25,
    "start_time": "2022-08-24T13:55:15.709Z"
   },
   {
    "duration": 12,
    "start_time": "2022-08-24T13:55:15.735Z"
   },
   {
    "duration": 10,
    "start_time": "2022-08-24T13:55:15.748Z"
   },
   {
    "duration": 55,
    "start_time": "2022-08-24T13:55:15.760Z"
   },
   {
    "duration": 8,
    "start_time": "2022-08-24T13:55:15.816Z"
   },
   {
    "duration": 33,
    "start_time": "2022-08-24T13:55:15.826Z"
   },
   {
    "duration": 42,
    "start_time": "2022-08-24T13:55:15.860Z"
   },
   {
    "duration": 38,
    "start_time": "2022-08-24T13:55:15.904Z"
   },
   {
    "duration": 10,
    "start_time": "2022-08-24T13:55:15.943Z"
   },
   {
    "duration": 46,
    "start_time": "2022-08-24T13:55:15.954Z"
   },
   {
    "duration": 38,
    "start_time": "2022-08-24T13:55:16.002Z"
   },
   {
    "duration": 57,
    "start_time": "2022-08-24T13:55:16.042Z"
   },
   {
    "duration": 45,
    "start_time": "2022-08-24T13:55:16.100Z"
   },
   {
    "duration": 58,
    "start_time": "2022-08-24T13:55:16.147Z"
   },
   {
    "duration": 17,
    "start_time": "2022-08-24T13:55:16.206Z"
   },
   {
    "duration": 8,
    "start_time": "2022-08-24T13:55:16.224Z"
   },
   {
    "duration": 67,
    "start_time": "2022-08-24T13:55:16.233Z"
   },
   {
    "duration": 45,
    "start_time": "2022-08-24T13:55:16.302Z"
   },
   {
    "duration": 164,
    "start_time": "2022-08-24T13:55:16.348Z"
   },
   {
    "duration": 218,
    "start_time": "2022-08-24T13:55:16.513Z"
   },
   {
    "duration": 127,
    "start_time": "2022-08-24T13:55:16.733Z"
   },
   {
    "duration": 12,
    "start_time": "2022-08-24T13:55:40.266Z"
   },
   {
    "duration": 101,
    "start_time": "2022-08-24T13:56:25.511Z"
   },
   {
    "duration": 53,
    "start_time": "2022-08-24T13:57:29.048Z"
   },
   {
    "duration": 18,
    "start_time": "2022-08-24T13:57:48.385Z"
   },
   {
    "duration": 110,
    "start_time": "2022-08-24T13:58:10.956Z"
   },
   {
    "duration": 17,
    "start_time": "2022-08-24T13:58:26.144Z"
   },
   {
    "duration": 4,
    "start_time": "2022-08-24T14:18:04.702Z"
   },
   {
    "duration": 39,
    "start_time": "2022-08-24T14:18:24.845Z"
   },
   {
    "duration": 10,
    "start_time": "2022-08-24T14:20:20.832Z"
   },
   {
    "duration": 10,
    "start_time": "2022-08-24T14:20:43.102Z"
   },
   {
    "duration": 3,
    "start_time": "2022-08-24T14:21:13.328Z"
   },
   {
    "duration": 4,
    "start_time": "2022-08-24T14:21:18.088Z"
   },
   {
    "duration": 11,
    "start_time": "2022-08-24T14:21:27.287Z"
   },
   {
    "duration": 20,
    "start_time": "2022-08-24T14:22:32.416Z"
   },
   {
    "duration": 8,
    "start_time": "2022-08-24T14:22:54.687Z"
   },
   {
    "duration": 8,
    "start_time": "2022-08-24T14:23:08.451Z"
   },
   {
    "duration": 9,
    "start_time": "2022-08-24T14:24:12.199Z"
   },
   {
    "duration": 9,
    "start_time": "2022-08-24T14:26:09.599Z"
   },
   {
    "duration": 10,
    "start_time": "2022-08-24T14:27:24.658Z"
   },
   {
    "duration": 7,
    "start_time": "2022-08-24T14:28:47.831Z"
   },
   {
    "duration": 9,
    "start_time": "2022-08-24T14:29:47.644Z"
   },
   {
    "duration": 8,
    "start_time": "2022-08-24T14:30:12.774Z"
   },
   {
    "duration": 7,
    "start_time": "2022-08-24T14:31:48.244Z"
   },
   {
    "duration": 8,
    "start_time": "2022-08-24T14:35:31.431Z"
   },
   {
    "duration": 3,
    "start_time": "2022-08-24T14:39:51.002Z"
   },
   {
    "duration": 298,
    "start_time": "2022-08-24T14:39:51.007Z"
   },
   {
    "duration": 60,
    "start_time": "2022-08-24T14:39:51.307Z"
   },
   {
    "duration": 8,
    "start_time": "2022-08-24T14:39:51.369Z"
   },
   {
    "duration": 10,
    "start_time": "2022-08-24T14:39:51.379Z"
   },
   {
    "duration": 25,
    "start_time": "2022-08-24T14:39:51.393Z"
   },
   {
    "duration": 29,
    "start_time": "2022-08-24T14:39:51.420Z"
   },
   {
    "duration": 100,
    "start_time": "2022-08-24T14:39:51.451Z"
   },
   {
    "duration": 8,
    "start_time": "2022-08-24T14:39:51.553Z"
   },
   {
    "duration": 67,
    "start_time": "2022-08-24T14:39:51.562Z"
   },
   {
    "duration": 2,
    "start_time": "2022-08-24T14:39:51.631Z"
   },
   {
    "duration": 12,
    "start_time": "2022-08-24T14:39:51.635Z"
   },
   {
    "duration": 7,
    "start_time": "2022-08-24T14:39:51.649Z"
   },
   {
    "duration": 63,
    "start_time": "2022-08-24T14:39:51.659Z"
   },
   {
    "duration": 43,
    "start_time": "2022-08-24T14:39:51.723Z"
   },
   {
    "duration": 48,
    "start_time": "2022-08-24T14:39:51.768Z"
   },
   {
    "duration": 7,
    "start_time": "2022-08-24T14:39:51.817Z"
   },
   {
    "duration": 11,
    "start_time": "2022-08-24T14:39:51.825Z"
   },
   {
    "duration": 49,
    "start_time": "2022-08-24T14:39:51.837Z"
   },
   {
    "duration": 281,
    "start_time": "2022-08-24T14:39:51.891Z"
   },
   {
    "duration": 146,
    "start_time": "2022-08-24T14:39:52.173Z"
   },
   {
    "duration": 40,
    "start_time": "2022-08-24T14:39:52.321Z"
   },
   {
    "duration": 46,
    "start_time": "2022-08-24T14:39:52.362Z"
   },
   {
    "duration": 235,
    "start_time": "2022-08-24T14:39:52.410Z"
   },
   {
    "duration": 5,
    "start_time": "2022-08-24T14:39:52.647Z"
   },
   {
    "duration": 91,
    "start_time": "2022-08-24T14:39:52.654Z"
   },
   {
    "duration": 25,
    "start_time": "2022-08-24T14:39:52.746Z"
   },
   {
    "duration": 104,
    "start_time": "2022-08-24T14:39:52.785Z"
   },
   {
    "duration": 33,
    "start_time": "2022-08-24T14:39:52.891Z"
   },
   {
    "duration": 21,
    "start_time": "2022-08-24T14:39:52.926Z"
   },
   {
    "duration": 193,
    "start_time": "2022-08-24T14:39:52.950Z"
   },
   {
    "duration": 28,
    "start_time": "2022-08-24T14:39:53.145Z"
   },
   {
    "duration": 16,
    "start_time": "2022-08-24T14:39:53.184Z"
   },
   {
    "duration": 18,
    "start_time": "2022-08-24T14:39:53.203Z"
   },
   {
    "duration": 34,
    "start_time": "2022-08-24T14:39:53.223Z"
   },
   {
    "duration": 29,
    "start_time": "2022-08-24T14:39:53.259Z"
   },
   {
    "duration": 36,
    "start_time": "2022-08-24T14:39:53.290Z"
   },
   {
    "duration": 16,
    "start_time": "2022-08-24T14:39:53.328Z"
   },
   {
    "duration": 63,
    "start_time": "2022-08-24T14:39:53.346Z"
   },
   {
    "duration": 10,
    "start_time": "2022-08-24T14:39:53.410Z"
   },
   {
    "duration": 14,
    "start_time": "2022-08-24T14:39:53.423Z"
   },
   {
    "duration": 61,
    "start_time": "2022-08-24T14:39:53.439Z"
   },
   {
    "duration": 38,
    "start_time": "2022-08-24T14:39:53.502Z"
   },
   {
    "duration": 54,
    "start_time": "2022-08-24T14:39:53.542Z"
   },
   {
    "duration": 45,
    "start_time": "2022-08-24T14:39:53.598Z"
   },
   {
    "duration": 16,
    "start_time": "2022-08-24T14:39:53.644Z"
   },
   {
    "duration": 25,
    "start_time": "2022-08-24T14:39:53.661Z"
   },
   {
    "duration": 28,
    "start_time": "2022-08-24T14:39:53.687Z"
   },
   {
    "duration": 42,
    "start_time": "2022-08-24T14:39:53.717Z"
   },
   {
    "duration": 57,
    "start_time": "2022-08-24T14:39:53.760Z"
   },
   {
    "duration": 156,
    "start_time": "2022-08-24T14:39:53.819Z"
   },
   {
    "duration": 255,
    "start_time": "2022-08-24T14:39:53.977Z"
   },
   {
    "duration": 21,
    "start_time": "2022-08-24T14:39:54.234Z"
   },
   {
    "duration": 31,
    "start_time": "2022-08-24T14:39:54.257Z"
   },
   {
    "duration": 164,
    "start_time": "2022-08-24T14:39:54.289Z"
   },
   {
    "duration": 270,
    "start_time": "2022-08-24T14:39:54.455Z"
   },
   {
    "duration": 335,
    "start_time": "2022-08-24T14:39:54.727Z"
   },
   {
    "duration": 11,
    "start_time": "2022-08-24T14:39:55.064Z"
   },
   {
    "duration": 148,
    "start_time": "2022-08-24T14:39:55.076Z"
   },
   {
    "duration": 200,
    "start_time": "2022-08-24T14:39:55.226Z"
   },
   {
    "duration": 277,
    "start_time": "2022-08-24T14:39:55.428Z"
   },
   {
    "duration": 11,
    "start_time": "2022-08-24T14:39:55.706Z"
   },
   {
    "duration": 154,
    "start_time": "2022-08-24T14:39:55.718Z"
   },
   {
    "duration": 206,
    "start_time": "2022-08-24T14:39:55.873Z"
   },
   {
    "duration": 345,
    "start_time": "2022-08-24T14:39:56.081Z"
   },
   {
    "duration": 11,
    "start_time": "2022-08-24T14:39:56.428Z"
   },
   {
    "duration": 14,
    "start_time": "2022-08-24T14:39:56.440Z"
   },
   {
    "duration": 12,
    "start_time": "2022-08-24T14:43:08.387Z"
   },
   {
    "duration": 18,
    "start_time": "2022-08-24T14:43:34.283Z"
   },
   {
    "duration": 14,
    "start_time": "2022-08-24T14:43:51.670Z"
   },
   {
    "duration": 13,
    "start_time": "2022-08-24T14:44:15.429Z"
   },
   {
    "duration": 7,
    "start_time": "2022-08-24T14:47:31.497Z"
   },
   {
    "duration": 11,
    "start_time": "2022-08-24T14:57:05.153Z"
   },
   {
    "duration": 22,
    "start_time": "2022-08-24T14:57:18.375Z"
   },
   {
    "duration": 7,
    "start_time": "2022-08-24T14:57:54.520Z"
   },
   {
    "duration": 8,
    "start_time": "2022-08-24T14:58:20.885Z"
   },
   {
    "duration": 3,
    "start_time": "2022-08-24T14:59:00.001Z"
   },
   {
    "duration": 91,
    "start_time": "2022-08-24T14:59:06.584Z"
   },
   {
    "duration": 117,
    "start_time": "2022-08-24T14:59:23.442Z"
   },
   {
    "duration": 12,
    "start_time": "2022-08-24T15:00:23.380Z"
   },
   {
    "duration": 5,
    "start_time": "2022-08-24T15:00:35.866Z"
   },
   {
    "duration": 1882,
    "start_time": "2022-08-24T15:04:41.529Z"
   },
   {
    "duration": 5,
    "start_time": "2022-08-24T15:05:07.114Z"
   },
   {
    "duration": 7,
    "start_time": "2022-08-24T15:06:04.726Z"
   },
   {
    "duration": 8,
    "start_time": "2022-08-24T15:06:42.609Z"
   },
   {
    "duration": 7,
    "start_time": "2022-08-24T15:06:46.104Z"
   },
   {
    "duration": 16,
    "start_time": "2022-08-24T15:08:36.115Z"
   },
   {
    "duration": 10,
    "start_time": "2022-08-24T15:30:41.696Z"
   },
   {
    "duration": 10,
    "start_time": "2022-08-24T15:31:10.565Z"
   },
   {
    "duration": 13,
    "start_time": "2022-08-24T15:33:20.327Z"
   },
   {
    "duration": 18,
    "start_time": "2022-08-24T15:34:58.383Z"
   },
   {
    "duration": 14,
    "start_time": "2022-08-24T15:39:40.950Z"
   },
   {
    "duration": 11,
    "start_time": "2022-08-24T15:41:01.005Z"
   },
   {
    "duration": 15,
    "start_time": "2022-08-24T15:45:47.186Z"
   },
   {
    "duration": 15,
    "start_time": "2022-08-24T15:47:16.097Z"
   },
   {
    "duration": 14,
    "start_time": "2022-08-24T15:47:43.835Z"
   },
   {
    "duration": 28,
    "start_time": "2022-08-24T15:48:13.864Z"
   },
   {
    "duration": 1130,
    "start_time": "2022-08-24T15:48:37.288Z"
   },
   {
    "duration": 339,
    "start_time": "2022-08-24T15:48:38.420Z"
   },
   {
    "duration": 59,
    "start_time": "2022-08-24T15:48:38.761Z"
   },
   {
    "duration": 12,
    "start_time": "2022-08-24T15:48:38.822Z"
   },
   {
    "duration": 10,
    "start_time": "2022-08-24T15:48:38.835Z"
   },
   {
    "duration": 14,
    "start_time": "2022-08-24T15:48:38.846Z"
   },
   {
    "duration": 28,
    "start_time": "2022-08-24T15:48:38.862Z"
   },
   {
    "duration": 132,
    "start_time": "2022-08-24T15:48:38.892Z"
   },
   {
    "duration": 9,
    "start_time": "2022-08-24T15:48:39.026Z"
   },
   {
    "duration": 94,
    "start_time": "2022-08-24T15:48:39.038Z"
   },
   {
    "duration": 3,
    "start_time": "2022-08-24T15:48:39.134Z"
   },
   {
    "duration": 23,
    "start_time": "2022-08-24T15:48:39.138Z"
   },
   {
    "duration": 7,
    "start_time": "2022-08-24T15:48:39.163Z"
   },
   {
    "duration": 68,
    "start_time": "2022-08-24T15:48:39.171Z"
   },
   {
    "duration": 68,
    "start_time": "2022-08-24T15:48:39.241Z"
   },
   {
    "duration": 38,
    "start_time": "2022-08-24T15:48:39.311Z"
   },
   {
    "duration": 11,
    "start_time": "2022-08-24T15:48:39.351Z"
   },
   {
    "duration": 36,
    "start_time": "2022-08-24T15:48:39.364Z"
   },
   {
    "duration": 40,
    "start_time": "2022-08-24T15:48:39.402Z"
   },
   {
    "duration": 318,
    "start_time": "2022-08-24T15:48:39.444Z"
   },
   {
    "duration": 144,
    "start_time": "2022-08-24T15:48:39.764Z"
   },
   {
    "duration": 43,
    "start_time": "2022-08-24T15:48:39.909Z"
   },
   {
    "duration": 47,
    "start_time": "2022-08-24T15:48:39.953Z"
   },
   {
    "duration": 306,
    "start_time": "2022-08-24T15:48:40.002Z"
   },
   {
    "duration": 5,
    "start_time": "2022-08-24T15:48:40.310Z"
   },
   {
    "duration": 84,
    "start_time": "2022-08-24T15:48:40.317Z"
   },
   {
    "duration": 27,
    "start_time": "2022-08-24T15:48:40.403Z"
   },
   {
    "duration": 112,
    "start_time": "2022-08-24T15:48:40.434Z"
   },
   {
    "duration": 39,
    "start_time": "2022-08-24T15:48:40.547Z"
   },
   {
    "duration": 16,
    "start_time": "2022-08-24T15:48:40.587Z"
   },
   {
    "duration": 141,
    "start_time": "2022-08-24T15:48:40.604Z"
   },
   {
    "duration": 26,
    "start_time": "2022-08-24T15:48:40.747Z"
   },
   {
    "duration": 12,
    "start_time": "2022-08-24T15:48:40.785Z"
   },
   {
    "duration": 11,
    "start_time": "2022-08-24T15:48:40.799Z"
   },
   {
    "duration": 30,
    "start_time": "2022-08-24T15:48:40.811Z"
   },
   {
    "duration": 9,
    "start_time": "2022-08-24T15:48:40.842Z"
   },
   {
    "duration": 58,
    "start_time": "2022-08-24T15:48:40.852Z"
   },
   {
    "duration": 15,
    "start_time": "2022-08-24T15:48:40.911Z"
   },
   {
    "duration": 36,
    "start_time": "2022-08-24T15:48:40.927Z"
   },
   {
    "duration": 30,
    "start_time": "2022-08-24T15:48:40.965Z"
   },
   {
    "duration": 18,
    "start_time": "2022-08-24T15:48:40.997Z"
   },
   {
    "duration": 69,
    "start_time": "2022-08-24T15:48:41.017Z"
   },
   {
    "duration": 45,
    "start_time": "2022-08-24T15:48:41.088Z"
   },
   {
    "duration": 71,
    "start_time": "2022-08-24T15:48:41.135Z"
   },
   {
    "duration": 49,
    "start_time": "2022-08-24T15:48:41.208Z"
   },
   {
    "duration": 33,
    "start_time": "2022-08-24T15:48:41.258Z"
   },
   {
    "duration": 7,
    "start_time": "2022-08-24T15:48:41.292Z"
   },
   {
    "duration": 8,
    "start_time": "2022-08-24T15:48:41.301Z"
   },
   {
    "duration": 48,
    "start_time": "2022-08-24T15:48:41.311Z"
   },
   {
    "duration": 69,
    "start_time": "2022-08-24T15:48:41.360Z"
   },
   {
    "duration": 164,
    "start_time": "2022-08-24T15:48:41.431Z"
   },
   {
    "duration": 228,
    "start_time": "2022-08-24T15:48:41.597Z"
   },
   {
    "duration": 20,
    "start_time": "2022-08-24T15:48:41.826Z"
   },
   {
    "duration": 10,
    "start_time": "2022-08-24T15:48:41.848Z"
   },
   {
    "duration": 161,
    "start_time": "2022-08-24T15:48:41.860Z"
   },
   {
    "duration": 212,
    "start_time": "2022-08-24T15:48:42.023Z"
   },
   {
    "duration": 265,
    "start_time": "2022-08-24T15:48:42.237Z"
   },
   {
    "duration": 13,
    "start_time": "2022-08-24T15:48:42.504Z"
   },
   {
    "duration": 148,
    "start_time": "2022-08-24T15:48:42.519Z"
   },
   {
    "duration": 307,
    "start_time": "2022-08-24T15:48:42.668Z"
   },
   {
    "duration": 298,
    "start_time": "2022-08-24T15:48:42.977Z"
   },
   {
    "duration": 18,
    "start_time": "2022-08-24T15:48:43.276Z"
   },
   {
    "duration": 161,
    "start_time": "2022-08-24T15:48:43.295Z"
   },
   {
    "duration": 210,
    "start_time": "2022-08-24T15:48:43.457Z"
   },
   {
    "duration": 325,
    "start_time": "2022-08-24T15:48:43.669Z"
   },
   {
    "duration": 18,
    "start_time": "2022-08-24T15:48:43.996Z"
   },
   {
    "duration": 5,
    "start_time": "2022-08-24T15:48:44.016Z"
   },
   {
    "duration": 9,
    "start_time": "2022-08-24T15:48:44.022Z"
   },
   {
    "duration": 135,
    "start_time": "2022-08-24T15:48:44.032Z"
   },
   {
    "duration": 0,
    "start_time": "2022-08-24T15:48:44.168Z"
   },
   {
    "duration": 0,
    "start_time": "2022-08-24T15:48:44.169Z"
   },
   {
    "duration": 10,
    "start_time": "2022-08-24T15:48:58.547Z"
   },
   {
    "duration": 19,
    "start_time": "2022-08-24T15:49:24.640Z"
   },
   {
    "duration": 5,
    "start_time": "2022-08-24T15:49:34.025Z"
   },
   {
    "duration": 7,
    "start_time": "2022-08-24T15:49:34.783Z"
   },
   {
    "duration": 14,
    "start_time": "2022-08-24T15:49:35.662Z"
   },
   {
    "duration": 133,
    "start_time": "2022-08-24T15:52:20.072Z"
   },
   {
    "duration": 110,
    "start_time": "2022-08-24T15:52:53.738Z"
   },
   {
    "duration": 140,
    "start_time": "2022-08-24T15:53:14.262Z"
   },
   {
    "duration": 1289,
    "start_time": "2022-08-24T16:26:21.461Z"
   },
   {
    "duration": 324,
    "start_time": "2022-08-24T16:26:22.752Z"
   },
   {
    "duration": 64,
    "start_time": "2022-08-24T16:26:23.078Z"
   },
   {
    "duration": 11,
    "start_time": "2022-08-24T16:26:23.144Z"
   },
   {
    "duration": 7,
    "start_time": "2022-08-24T16:26:23.157Z"
   },
   {
    "duration": 9,
    "start_time": "2022-08-24T16:26:23.165Z"
   },
   {
    "duration": 29,
    "start_time": "2022-08-24T16:26:23.176Z"
   },
   {
    "duration": 109,
    "start_time": "2022-08-24T16:26:23.207Z"
   },
   {
    "duration": 6,
    "start_time": "2022-08-24T16:26:23.318Z"
   },
   {
    "duration": 58,
    "start_time": "2022-08-24T16:26:23.327Z"
   },
   {
    "duration": 2,
    "start_time": "2022-08-24T16:26:23.387Z"
   },
   {
    "duration": 20,
    "start_time": "2022-08-24T16:26:23.391Z"
   },
   {
    "duration": 8,
    "start_time": "2022-08-24T16:26:23.412Z"
   },
   {
    "duration": 64,
    "start_time": "2022-08-24T16:26:23.421Z"
   },
   {
    "duration": 54,
    "start_time": "2022-08-24T16:26:23.487Z"
   },
   {
    "duration": 51,
    "start_time": "2022-08-24T16:26:23.543Z"
   },
   {
    "duration": 13,
    "start_time": "2022-08-24T16:26:23.596Z"
   },
   {
    "duration": 21,
    "start_time": "2022-08-24T16:26:23.611Z"
   },
   {
    "duration": 55,
    "start_time": "2022-08-24T16:26:23.634Z"
   },
   {
    "duration": 294,
    "start_time": "2022-08-24T16:26:23.691Z"
   },
   {
    "duration": 156,
    "start_time": "2022-08-24T16:26:23.987Z"
   },
   {
    "duration": 52,
    "start_time": "2022-08-24T16:26:24.147Z"
   },
   {
    "duration": 27,
    "start_time": "2022-08-24T16:26:24.200Z"
   },
   {
    "duration": 276,
    "start_time": "2022-08-24T16:26:24.229Z"
   },
   {
    "duration": 6,
    "start_time": "2022-08-24T16:26:24.508Z"
   },
   {
    "duration": 89,
    "start_time": "2022-08-24T16:26:24.516Z"
   },
   {
    "duration": 32,
    "start_time": "2022-08-24T16:26:24.607Z"
   },
   {
    "duration": 122,
    "start_time": "2022-08-24T16:26:24.643Z"
   },
   {
    "duration": 42,
    "start_time": "2022-08-24T16:26:24.766Z"
   },
   {
    "duration": 16,
    "start_time": "2022-08-24T16:26:24.809Z"
   },
   {
    "duration": 167,
    "start_time": "2022-08-24T16:26:24.827Z"
   },
   {
    "duration": 28,
    "start_time": "2022-08-24T16:26:25.000Z"
   },
   {
    "duration": 16,
    "start_time": "2022-08-24T16:26:25.030Z"
   },
   {
    "duration": 14,
    "start_time": "2022-08-24T16:26:25.048Z"
   },
   {
    "duration": 38,
    "start_time": "2022-08-24T16:26:25.063Z"
   },
   {
    "duration": 9,
    "start_time": "2022-08-24T16:26:25.103Z"
   },
   {
    "duration": 33,
    "start_time": "2022-08-24T16:26:25.113Z"
   },
   {
    "duration": 51,
    "start_time": "2022-08-24T16:26:25.148Z"
   },
   {
    "duration": 36,
    "start_time": "2022-08-24T16:26:25.200Z"
   },
   {
    "duration": 8,
    "start_time": "2022-08-24T16:26:25.237Z"
   },
   {
    "duration": 17,
    "start_time": "2022-08-24T16:26:25.247Z"
   },
   {
    "duration": 42,
    "start_time": "2022-08-24T16:26:25.266Z"
   },
   {
    "duration": 37,
    "start_time": "2022-08-24T16:26:25.310Z"
   },
   {
    "duration": 59,
    "start_time": "2022-08-24T16:26:25.349Z"
   },
   {
    "duration": 43,
    "start_time": "2022-08-24T16:26:25.409Z"
   },
   {
    "duration": 41,
    "start_time": "2022-08-24T16:26:25.454Z"
   },
   {
    "duration": 7,
    "start_time": "2022-08-24T16:26:25.496Z"
   },
   {
    "duration": 7,
    "start_time": "2022-08-24T16:26:25.504Z"
   },
   {
    "duration": 46,
    "start_time": "2022-08-24T16:26:25.512Z"
   },
   {
    "duration": 74,
    "start_time": "2022-08-24T16:26:25.559Z"
   },
   {
    "duration": 139,
    "start_time": "2022-08-24T16:26:25.634Z"
   },
   {
    "duration": 229,
    "start_time": "2022-08-24T16:26:25.775Z"
   },
   {
    "duration": 16,
    "start_time": "2022-08-24T16:26:26.006Z"
   },
   {
    "duration": 8,
    "start_time": "2022-08-24T16:26:26.023Z"
   },
   {
    "duration": 159,
    "start_time": "2022-08-24T16:26:26.033Z"
   },
   {
    "duration": 252,
    "start_time": "2022-08-24T16:26:26.193Z"
   },
   {
    "duration": 310,
    "start_time": "2022-08-24T16:26:26.447Z"
   },
   {
    "duration": 134,
    "start_time": "2022-08-24T16:26:26.759Z"
   },
   {
    "duration": 19,
    "start_time": "2022-08-24T16:26:26.895Z"
   },
   {
    "duration": 229,
    "start_time": "2022-08-24T16:26:26.916Z"
   },
   {
    "duration": 208,
    "start_time": "2022-08-24T16:26:27.147Z"
   },
   {
    "duration": 271,
    "start_time": "2022-08-24T16:26:27.357Z"
   },
   {
    "duration": 116,
    "start_time": "2022-08-24T16:26:27.629Z"
   },
   {
    "duration": 13,
    "start_time": "2022-08-24T16:26:27.746Z"
   },
   {
    "duration": 147,
    "start_time": "2022-08-24T16:26:27.761Z"
   },
   {
    "duration": 200,
    "start_time": "2022-08-24T16:26:27.910Z"
   },
   {
    "duration": 345,
    "start_time": "2022-08-24T16:26:28.112Z"
   },
   {
    "duration": 142,
    "start_time": "2022-08-24T16:26:28.459Z"
   },
   {
    "duration": 16,
    "start_time": "2022-08-24T16:26:28.603Z"
   },
   {
    "duration": 5,
    "start_time": "2022-08-24T16:26:28.621Z"
   },
   {
    "duration": 7,
    "start_time": "2022-08-24T16:26:28.627Z"
   },
   {
    "duration": 14,
    "start_time": "2022-08-24T16:26:28.636Z"
   },
   {
    "duration": 5,
    "start_time": "2022-08-24T16:26:28.651Z"
   },
   {
    "duration": 6,
    "start_time": "2022-08-24T16:26:28.696Z"
   },
   {
    "duration": 11,
    "start_time": "2022-08-24T16:26:28.704Z"
   },
   {
    "duration": 1455,
    "start_time": "2022-08-25T14:58:51.096Z"
   },
   {
    "duration": 1041,
    "start_time": "2022-08-25T14:58:52.553Z"
   },
   {
    "duration": 71,
    "start_time": "2022-08-25T14:58:53.596Z"
   },
   {
    "duration": 13,
    "start_time": "2022-08-25T14:58:53.669Z"
   },
   {
    "duration": 9,
    "start_time": "2022-08-25T14:58:53.702Z"
   },
   {
    "duration": 16,
    "start_time": "2022-08-25T14:58:53.713Z"
   },
   {
    "duration": 14,
    "start_time": "2022-08-25T14:58:53.731Z"
   },
   {
    "duration": 155,
    "start_time": "2022-08-25T14:58:53.746Z"
   },
   {
    "duration": 9,
    "start_time": "2022-08-25T14:58:53.903Z"
   },
   {
    "duration": 63,
    "start_time": "2022-08-25T14:58:53.916Z"
   },
   {
    "duration": 2,
    "start_time": "2022-08-25T14:58:53.981Z"
   },
   {
    "duration": 16,
    "start_time": "2022-08-25T14:58:54.003Z"
   },
   {
    "duration": 9,
    "start_time": "2022-08-25T14:58:54.020Z"
   },
   {
    "duration": 57,
    "start_time": "2022-08-25T14:58:54.031Z"
   },
   {
    "duration": 71,
    "start_time": "2022-08-25T14:58:54.089Z"
   },
   {
    "duration": 54,
    "start_time": "2022-08-25T14:58:54.162Z"
   },
   {
    "duration": 14,
    "start_time": "2022-08-25T14:58:54.218Z"
   },
   {
    "duration": 20,
    "start_time": "2022-08-25T14:58:54.234Z"
   },
   {
    "duration": 71,
    "start_time": "2022-08-25T14:58:54.256Z"
   },
   {
    "duration": 317,
    "start_time": "2022-08-25T14:58:54.329Z"
   },
   {
    "duration": 161,
    "start_time": "2022-08-25T14:58:54.648Z"
   },
   {
    "duration": 46,
    "start_time": "2022-08-25T14:58:54.811Z"
   },
   {
    "duration": 47,
    "start_time": "2022-08-25T14:58:54.859Z"
   },
   {
    "duration": 257,
    "start_time": "2022-08-25T14:58:54.908Z"
   },
   {
    "duration": 6,
    "start_time": "2022-08-25T14:58:55.167Z"
   },
   {
    "duration": 85,
    "start_time": "2022-08-25T14:58:55.175Z"
   },
   {
    "duration": 41,
    "start_time": "2022-08-25T14:58:55.262Z"
   },
   {
    "duration": 110,
    "start_time": "2022-08-25T14:58:55.308Z"
   },
   {
    "duration": 32,
    "start_time": "2022-08-25T14:58:55.420Z"
   },
   {
    "duration": 18,
    "start_time": "2022-08-25T14:58:55.454Z"
   },
   {
    "duration": 165,
    "start_time": "2022-08-25T14:58:55.473Z"
   },
   {
    "duration": 30,
    "start_time": "2022-08-25T14:58:55.640Z"
   },
   {
    "duration": 13,
    "start_time": "2022-08-25T14:58:55.672Z"
   },
   {
    "duration": 12,
    "start_time": "2022-08-25T14:58:55.703Z"
   },
   {
    "duration": 41,
    "start_time": "2022-08-25T14:58:55.716Z"
   },
   {
    "duration": 13,
    "start_time": "2022-08-25T14:58:55.759Z"
   },
   {
    "duration": 46,
    "start_time": "2022-08-25T14:58:55.802Z"
   },
   {
    "duration": 18,
    "start_time": "2022-08-25T14:58:55.849Z"
   },
   {
    "duration": 72,
    "start_time": "2022-08-25T14:58:55.869Z"
   },
   {
    "duration": 12,
    "start_time": "2022-08-25T14:58:55.943Z"
   },
   {
    "duration": 32,
    "start_time": "2022-08-25T14:58:55.957Z"
   },
   {
    "duration": 57,
    "start_time": "2022-08-25T14:58:55.991Z"
   },
   {
    "duration": 59,
    "start_time": "2022-08-25T14:58:56.051Z"
   },
   {
    "duration": 47,
    "start_time": "2022-08-25T14:58:56.112Z"
   },
   {
    "duration": 67,
    "start_time": "2022-08-25T14:58:56.161Z"
   },
   {
    "duration": 19,
    "start_time": "2022-08-25T14:58:56.230Z"
   },
   {
    "duration": 10,
    "start_time": "2022-08-25T14:58:56.250Z"
   },
   {
    "duration": 9,
    "start_time": "2022-08-25T14:58:56.262Z"
   },
   {
    "duration": 72,
    "start_time": "2022-08-25T14:58:56.274Z"
   },
   {
    "duration": 65,
    "start_time": "2022-08-25T14:58:56.348Z"
   },
   {
    "duration": 176,
    "start_time": "2022-08-25T14:58:56.415Z"
   },
   {
    "duration": 262,
    "start_time": "2022-08-25T14:58:56.593Z"
   },
   {
    "duration": 19,
    "start_time": "2022-08-25T14:58:56.857Z"
   },
   {
    "duration": 25,
    "start_time": "2022-08-25T14:58:56.878Z"
   },
   {
    "duration": 162,
    "start_time": "2022-08-25T14:58:56.905Z"
   },
   {
    "duration": 255,
    "start_time": "2022-08-25T14:58:57.069Z"
   },
   {
    "duration": 331,
    "start_time": "2022-08-25T14:58:57.327Z"
   },
   {
    "duration": 143,
    "start_time": "2022-08-25T14:58:57.660Z"
   },
   {
    "duration": 15,
    "start_time": "2022-08-25T14:58:57.804Z"
   },
   {
    "duration": 243,
    "start_time": "2022-08-25T14:58:57.820Z"
   },
   {
    "duration": 227,
    "start_time": "2022-08-25T14:58:58.065Z"
   },
   {
    "duration": 330,
    "start_time": "2022-08-25T14:58:58.294Z"
   },
   {
    "duration": 136,
    "start_time": "2022-08-25T14:58:58.625Z"
   },
   {
    "duration": 14,
    "start_time": "2022-08-25T14:58:58.763Z"
   },
   {
    "duration": 190,
    "start_time": "2022-08-25T14:58:58.779Z"
   },
   {
    "duration": 249,
    "start_time": "2022-08-25T14:58:58.971Z"
   },
   {
    "duration": 372,
    "start_time": "2022-08-25T14:58:59.222Z"
   },
   {
    "duration": 140,
    "start_time": "2022-08-25T14:58:59.596Z"
   },
   {
    "duration": 15,
    "start_time": "2022-08-25T14:58:59.738Z"
   },
   {
    "duration": 17,
    "start_time": "2022-08-25T14:58:59.755Z"
   },
   {
    "duration": 8,
    "start_time": "2022-08-25T14:58:59.774Z"
   },
   {
    "duration": 27,
    "start_time": "2022-08-25T14:58:59.784Z"
   },
   {
    "duration": 5,
    "start_time": "2022-08-25T14:58:59.812Z"
   },
   {
    "duration": 8,
    "start_time": "2022-08-25T14:58:59.819Z"
   },
   {
    "duration": 22,
    "start_time": "2022-08-25T14:58:59.829Z"
   },
   {
    "duration": 1566,
    "start_time": "2022-08-25T15:02:40.171Z"
   },
   {
    "duration": 15,
    "start_time": "2022-08-25T15:02:56.632Z"
   },
   {
    "duration": 25,
    "start_time": "2022-08-25T15:04:07.209Z"
   },
   {
    "duration": 51,
    "start_time": "2022-08-29T11:53:06.820Z"
   },
   {
    "duration": 1518,
    "start_time": "2022-08-29T11:53:23.666Z"
   },
   {
    "duration": 925,
    "start_time": "2022-08-29T11:53:25.186Z"
   },
   {
    "duration": 65,
    "start_time": "2022-08-29T11:53:26.113Z"
   },
   {
    "duration": 14,
    "start_time": "2022-08-29T11:53:26.180Z"
   },
   {
    "duration": 28,
    "start_time": "2022-08-29T11:53:26.201Z"
   },
   {
    "duration": 41,
    "start_time": "2022-08-29T11:53:26.231Z"
   },
   {
    "duration": 23,
    "start_time": "2022-08-29T11:53:26.274Z"
   },
   {
    "duration": 162,
    "start_time": "2022-08-29T11:53:26.299Z"
   },
   {
    "duration": 9,
    "start_time": "2022-08-29T11:53:26.463Z"
   },
   {
    "duration": 86,
    "start_time": "2022-08-29T11:53:26.476Z"
   },
   {
    "duration": 2,
    "start_time": "2022-08-29T11:53:26.564Z"
   },
   {
    "duration": 36,
    "start_time": "2022-08-29T11:53:26.568Z"
   },
   {
    "duration": 18,
    "start_time": "2022-08-29T11:53:26.606Z"
   },
   {
    "duration": 55,
    "start_time": "2022-08-29T11:53:26.626Z"
   },
   {
    "duration": 70,
    "start_time": "2022-08-29T11:53:26.683Z"
   },
   {
    "duration": 50,
    "start_time": "2022-08-29T11:53:26.755Z"
   },
   {
    "duration": 12,
    "start_time": "2022-08-29T11:53:26.806Z"
   },
   {
    "duration": 15,
    "start_time": "2022-08-29T11:53:26.819Z"
   },
   {
    "duration": 70,
    "start_time": "2022-08-29T11:53:26.837Z"
   },
   {
    "duration": 360,
    "start_time": "2022-08-29T11:53:26.910Z"
   },
   {
    "duration": 186,
    "start_time": "2022-08-29T11:53:27.273Z"
   },
   {
    "duration": 63,
    "start_time": "2022-08-29T11:53:27.462Z"
   },
   {
    "duration": 32,
    "start_time": "2022-08-29T11:53:27.527Z"
   },
   {
    "duration": 322,
    "start_time": "2022-08-29T11:53:27.561Z"
   },
   {
    "duration": 16,
    "start_time": "2022-08-29T11:53:27.885Z"
   },
   {
    "duration": 109,
    "start_time": "2022-08-29T11:53:27.904Z"
   },
   {
    "duration": 38,
    "start_time": "2022-08-29T11:53:28.015Z"
   },
   {
    "duration": 137,
    "start_time": "2022-08-29T11:53:28.058Z"
   },
   {
    "duration": 44,
    "start_time": "2022-08-29T11:53:28.199Z"
   },
   {
    "duration": 32,
    "start_time": "2022-08-29T11:53:28.245Z"
   },
   {
    "duration": 176,
    "start_time": "2022-08-29T11:53:28.279Z"
   },
   {
    "duration": 53,
    "start_time": "2022-08-29T11:53:28.457Z"
   },
   {
    "duration": 17,
    "start_time": "2022-08-29T11:53:28.512Z"
   },
   {
    "duration": 36,
    "start_time": "2022-08-29T11:53:28.531Z"
   },
   {
    "duration": 59,
    "start_time": "2022-08-29T11:53:28.570Z"
   },
   {
    "duration": 14,
    "start_time": "2022-08-29T11:53:28.632Z"
   },
   {
    "duration": 58,
    "start_time": "2022-08-29T11:53:28.647Z"
   },
   {
    "duration": 20,
    "start_time": "2022-08-29T11:53:28.707Z"
   },
   {
    "duration": 43,
    "start_time": "2022-08-29T11:53:28.730Z"
   },
   {
    "duration": 32,
    "start_time": "2022-08-29T11:53:28.775Z"
   },
   {
    "duration": 25,
    "start_time": "2022-08-29T11:53:28.809Z"
   },
   {
    "duration": 50,
    "start_time": "2022-08-29T11:53:28.836Z"
   },
   {
    "duration": 53,
    "start_time": "2022-08-29T11:53:28.888Z"
   },
   {
    "duration": 64,
    "start_time": "2022-08-29T11:53:28.943Z"
   },
   {
    "duration": 52,
    "start_time": "2022-08-29T11:53:29.008Z"
   },
   {
    "duration": 47,
    "start_time": "2022-08-29T11:53:29.063Z"
   },
   {
    "duration": 39,
    "start_time": "2022-08-29T11:53:29.112Z"
   },
   {
    "duration": 47,
    "start_time": "2022-08-29T11:53:29.153Z"
   },
   {
    "duration": 77,
    "start_time": "2022-08-29T11:53:29.203Z"
   },
   {
    "duration": 72,
    "start_time": "2022-08-29T11:53:29.282Z"
   },
   {
    "duration": 173,
    "start_time": "2022-08-29T11:53:29.357Z"
   },
   {
    "duration": 275,
    "start_time": "2022-08-29T11:53:29.533Z"
   },
   {
    "duration": 20,
    "start_time": "2022-08-29T11:53:29.810Z"
   },
   {
    "duration": 32,
    "start_time": "2022-08-29T11:53:29.832Z"
   },
   {
    "duration": 188,
    "start_time": "2022-08-29T11:53:29.866Z"
   },
   {
    "duration": 265,
    "start_time": "2022-08-29T11:53:30.056Z"
   },
   {
    "duration": 348,
    "start_time": "2022-08-29T11:53:30.324Z"
   },
   {
    "duration": 174,
    "start_time": "2022-08-29T11:53:30.674Z"
   },
   {
    "duration": 25,
    "start_time": "2022-08-29T11:53:30.850Z"
   },
   {
    "duration": 298,
    "start_time": "2022-08-29T11:53:30.877Z"
   },
   {
    "duration": 259,
    "start_time": "2022-08-29T11:53:31.177Z"
   },
   {
    "duration": 480,
    "start_time": "2022-08-29T11:53:31.439Z"
   },
   {
    "duration": 150,
    "start_time": "2022-08-29T11:53:31.922Z"
   },
   {
    "duration": 16,
    "start_time": "2022-08-29T11:53:32.074Z"
   },
   {
    "duration": 169,
    "start_time": "2022-08-29T11:53:32.101Z"
   },
   {
    "duration": 235,
    "start_time": "2022-08-29T11:53:32.272Z"
   },
   {
    "duration": 387,
    "start_time": "2022-08-29T11:53:32.510Z"
   },
   {
    "duration": 164,
    "start_time": "2022-08-29T11:53:32.901Z"
   },
   {
    "duration": 16,
    "start_time": "2022-08-29T11:53:33.066Z"
   },
   {
    "duration": 45,
    "start_time": "2022-08-29T11:53:33.084Z"
   },
   {
    "duration": 43,
    "start_time": "2022-08-29T11:53:33.131Z"
   },
   {
    "duration": 45,
    "start_time": "2022-08-29T11:53:33.176Z"
   },
   {
    "duration": 37,
    "start_time": "2022-08-29T11:53:33.223Z"
   },
   {
    "duration": 20,
    "start_time": "2022-08-29T11:53:33.261Z"
   },
   {
    "duration": 24,
    "start_time": "2022-08-29T11:53:33.283Z"
   },
   {
    "duration": 137,
    "start_time": "2022-08-29T12:00:54.649Z"
   },
   {
    "duration": 325,
    "start_time": "2022-08-29T12:01:01.950Z"
   },
   {
    "duration": 24,
    "start_time": "2022-08-29T12:03:16.703Z"
   },
   {
    "duration": 107,
    "start_time": "2022-08-29T12:05:20.652Z"
   },
   {
    "duration": 18,
    "start_time": "2022-08-29T12:05:42.797Z"
   },
   {
    "duration": 1151,
    "start_time": "2022-08-29T12:06:16.298Z"
   },
   {
    "duration": 325,
    "start_time": "2022-08-29T12:06:17.451Z"
   },
   {
    "duration": 63,
    "start_time": "2022-08-29T12:06:17.778Z"
   },
   {
    "duration": 14,
    "start_time": "2022-08-29T12:06:17.843Z"
   },
   {
    "duration": 19,
    "start_time": "2022-08-29T12:06:17.860Z"
   },
   {
    "duration": 22,
    "start_time": "2022-08-29T12:06:17.881Z"
   },
   {
    "duration": 24,
    "start_time": "2022-08-29T12:06:17.905Z"
   },
   {
    "duration": 124,
    "start_time": "2022-08-29T12:06:17.931Z"
   },
   {
    "duration": 7,
    "start_time": "2022-08-29T12:06:18.056Z"
   },
   {
    "duration": 65,
    "start_time": "2022-08-29T12:06:18.064Z"
   },
   {
    "duration": 2,
    "start_time": "2022-08-29T12:06:18.130Z"
   },
   {
    "duration": 17,
    "start_time": "2022-08-29T12:06:18.134Z"
   },
   {
    "duration": 7,
    "start_time": "2022-08-29T12:06:18.152Z"
   },
   {
    "duration": 70,
    "start_time": "2022-08-29T12:06:18.162Z"
   },
   {
    "duration": 72,
    "start_time": "2022-08-29T12:06:18.233Z"
   },
   {
    "duration": 33,
    "start_time": "2022-08-29T12:06:18.306Z"
   },
   {
    "duration": 10,
    "start_time": "2022-08-29T12:06:18.341Z"
   },
   {
    "duration": 14,
    "start_time": "2022-08-29T12:06:18.352Z"
   },
   {
    "duration": 65,
    "start_time": "2022-08-29T12:06:18.368Z"
   },
   {
    "duration": 305,
    "start_time": "2022-08-29T12:06:18.435Z"
   },
   {
    "duration": 140,
    "start_time": "2022-08-29T12:06:18.742Z"
   },
   {
    "duration": 49,
    "start_time": "2022-08-29T12:06:18.883Z"
   },
   {
    "duration": 30,
    "start_time": "2022-08-29T12:06:18.934Z"
   },
   {
    "duration": 265,
    "start_time": "2022-08-29T12:06:18.965Z"
   },
   {
    "duration": 6,
    "start_time": "2022-08-29T12:06:19.231Z"
   },
   {
    "duration": 82,
    "start_time": "2022-08-29T12:06:19.238Z"
   },
   {
    "duration": 28,
    "start_time": "2022-08-29T12:06:19.322Z"
   },
   {
    "duration": 115,
    "start_time": "2022-08-29T12:06:19.352Z"
   },
   {
    "duration": 42,
    "start_time": "2022-08-29T12:06:19.468Z"
   },
   {
    "duration": 16,
    "start_time": "2022-08-29T12:06:19.512Z"
   },
   {
    "duration": 150,
    "start_time": "2022-08-29T12:06:19.530Z"
   },
   {
    "duration": 34,
    "start_time": "2022-08-29T12:06:19.682Z"
   },
   {
    "duration": 12,
    "start_time": "2022-08-29T12:06:19.717Z"
   },
   {
    "duration": 12,
    "start_time": "2022-08-29T12:06:19.731Z"
   },
   {
    "duration": 30,
    "start_time": "2022-08-29T12:06:19.744Z"
   },
   {
    "duration": 11,
    "start_time": "2022-08-29T12:06:19.799Z"
   },
   {
    "duration": 36,
    "start_time": "2022-08-29T12:06:19.812Z"
   },
   {
    "duration": 17,
    "start_time": "2022-08-29T12:06:19.849Z"
   },
   {
    "duration": 62,
    "start_time": "2022-08-29T12:06:19.867Z"
   },
   {
    "duration": 9,
    "start_time": "2022-08-29T12:06:19.930Z"
   },
   {
    "duration": 16,
    "start_time": "2022-08-29T12:06:19.943Z"
   },
   {
    "duration": 68,
    "start_time": "2022-08-29T12:06:19.961Z"
   },
   {
    "duration": 44,
    "start_time": "2022-08-29T12:06:20.031Z"
   },
   {
    "duration": 65,
    "start_time": "2022-08-29T12:06:20.077Z"
   },
   {
    "duration": 61,
    "start_time": "2022-08-29T12:06:20.144Z"
   },
   {
    "duration": 16,
    "start_time": "2022-08-29T12:06:20.207Z"
   },
   {
    "duration": 8,
    "start_time": "2022-08-29T12:06:20.225Z"
   },
   {
    "duration": 9,
    "start_time": "2022-08-29T12:06:20.234Z"
   },
   {
    "duration": 72,
    "start_time": "2022-08-29T12:06:20.244Z"
   },
   {
    "duration": 46,
    "start_time": "2022-08-29T12:06:20.319Z"
   },
   {
    "duration": 165,
    "start_time": "2022-08-29T12:06:20.367Z"
   },
   {
    "duration": 208,
    "start_time": "2022-08-29T12:06:20.534Z"
   },
   {
    "duration": 23,
    "start_time": "2022-08-29T12:06:20.743Z"
   },
   {
    "duration": 118,
    "start_time": "2022-08-29T12:06:20.768Z"
   },
   {
    "duration": 16,
    "start_time": "2022-08-29T12:06:59.648Z"
   },
   {
    "duration": 10,
    "start_time": "2022-08-29T12:15:07.303Z"
   },
   {
    "duration": 20,
    "start_time": "2022-08-29T12:17:15.141Z"
   },
   {
    "duration": 145,
    "start_time": "2022-08-29T12:19:27.231Z"
   },
   {
    "duration": 232,
    "start_time": "2022-08-29T12:19:39.695Z"
   },
   {
    "duration": 287,
    "start_time": "2022-08-29T12:19:46.076Z"
   },
   {
    "duration": 136,
    "start_time": "2022-08-29T12:19:54.456Z"
   },
   {
    "duration": 15,
    "start_time": "2022-08-29T12:20:01.188Z"
   },
   {
    "duration": 236,
    "start_time": "2022-08-29T12:20:19.752Z"
   },
   {
    "duration": 235,
    "start_time": "2022-08-29T12:20:20.434Z"
   },
   {
    "duration": 309,
    "start_time": "2022-08-29T12:20:21.052Z"
   },
   {
    "duration": 121,
    "start_time": "2022-08-29T12:20:26.553Z"
   },
   {
    "duration": 16,
    "start_time": "2022-08-29T12:20:31.341Z"
   },
   {
    "duration": 135,
    "start_time": "2022-08-29T12:20:37.728Z"
   },
   {
    "duration": 238,
    "start_time": "2022-08-29T12:20:41.234Z"
   },
   {
    "duration": 345,
    "start_time": "2022-08-29T12:20:46.196Z"
   },
   {
    "duration": 134,
    "start_time": "2022-08-29T12:20:50.328Z"
   },
   {
    "duration": 14,
    "start_time": "2022-08-29T12:20:59.429Z"
   },
   {
    "duration": 10,
    "start_time": "2022-08-29T12:23:43.338Z"
   },
   {
    "duration": 13,
    "start_time": "2022-08-29T12:25:00.035Z"
   },
   {
    "duration": 194,
    "start_time": "2022-08-29T12:26:45.016Z"
   },
   {
    "duration": 5,
    "start_time": "2022-08-29T12:40:15.696Z"
   },
   {
    "duration": 8,
    "start_time": "2022-08-29T12:40:20.403Z"
   },
   {
    "duration": 114,
    "start_time": "2022-08-29T12:40:28.031Z"
   },
   {
    "duration": 5,
    "start_time": "2022-08-29T12:40:36.599Z"
   },
   {
    "duration": 8,
    "start_time": "2022-08-29T12:40:38.600Z"
   },
   {
    "duration": 13,
    "start_time": "2022-08-29T12:41:16.203Z"
   },
   {
    "duration": 16,
    "start_time": "2022-08-29T12:44:23.926Z"
   },
   {
    "duration": 12,
    "start_time": "2022-08-29T12:44:29.233Z"
   },
   {
    "duration": 43,
    "start_time": "2022-08-29T16:00:54.762Z"
   },
   {
    "duration": 1317,
    "start_time": "2022-08-29T16:01:08.611Z"
   },
   {
    "duration": 1480,
    "start_time": "2022-08-29T16:01:09.930Z"
   },
   {
    "duration": 63,
    "start_time": "2022-08-29T16:01:11.412Z"
   },
   {
    "duration": 12,
    "start_time": "2022-08-29T16:01:11.477Z"
   },
   {
    "duration": 11,
    "start_time": "2022-08-29T16:01:11.491Z"
   },
   {
    "duration": 12,
    "start_time": "2022-08-29T16:01:11.504Z"
   },
   {
    "duration": 12,
    "start_time": "2022-08-29T16:01:11.517Z"
   },
   {
    "duration": 155,
    "start_time": "2022-08-29T16:01:11.531Z"
   },
   {
    "duration": 6,
    "start_time": "2022-08-29T16:01:11.688Z"
   },
   {
    "duration": 63,
    "start_time": "2022-08-29T16:01:11.697Z"
   },
   {
    "duration": 4,
    "start_time": "2022-08-29T16:01:11.763Z"
   },
   {
    "duration": 23,
    "start_time": "2022-08-29T16:01:11.770Z"
   },
   {
    "duration": 5,
    "start_time": "2022-08-29T16:01:11.795Z"
   },
   {
    "duration": 58,
    "start_time": "2022-08-29T16:01:11.802Z"
   },
   {
    "duration": 61,
    "start_time": "2022-08-29T16:01:11.862Z"
   },
   {
    "duration": 60,
    "start_time": "2022-08-29T16:01:11.924Z"
   },
   {
    "duration": 10,
    "start_time": "2022-08-29T16:01:11.985Z"
   },
   {
    "duration": 23,
    "start_time": "2022-08-29T16:01:11.996Z"
   },
   {
    "duration": 67,
    "start_time": "2022-08-29T16:01:12.021Z"
   },
   {
    "duration": 314,
    "start_time": "2022-08-29T16:01:12.090Z"
   },
   {
    "duration": 149,
    "start_time": "2022-08-29T16:01:12.406Z"
   },
   {
    "duration": 41,
    "start_time": "2022-08-29T16:01:12.557Z"
   },
   {
    "duration": 27,
    "start_time": "2022-08-29T16:01:12.600Z"
   },
   {
    "duration": 226,
    "start_time": "2022-08-29T16:01:12.629Z"
   },
   {
    "duration": 6,
    "start_time": "2022-08-29T16:01:12.857Z"
   },
   {
    "duration": 68,
    "start_time": "2022-08-29T16:01:12.864Z"
   },
   {
    "duration": 40,
    "start_time": "2022-08-29T16:01:12.934Z"
   },
   {
    "duration": 117,
    "start_time": "2022-08-29T16:01:12.982Z"
   },
   {
    "duration": 25,
    "start_time": "2022-08-29T16:01:13.100Z"
   },
   {
    "duration": 14,
    "start_time": "2022-08-29T16:01:13.126Z"
   },
   {
    "duration": 164,
    "start_time": "2022-08-29T16:01:13.141Z"
   },
   {
    "duration": 25,
    "start_time": "2022-08-29T16:01:13.306Z"
   },
   {
    "duration": 30,
    "start_time": "2022-08-29T16:01:13.333Z"
   },
   {
    "duration": 16,
    "start_time": "2022-08-29T16:01:13.366Z"
   },
   {
    "duration": 34,
    "start_time": "2022-08-29T16:01:13.383Z"
   },
   {
    "duration": 8,
    "start_time": "2022-08-29T16:01:13.419Z"
   },
   {
    "duration": 51,
    "start_time": "2022-08-29T16:01:13.428Z"
   },
   {
    "duration": 15,
    "start_time": "2022-08-29T16:01:13.481Z"
   },
   {
    "duration": 37,
    "start_time": "2022-08-29T16:01:13.498Z"
   },
   {
    "duration": 34,
    "start_time": "2022-08-29T16:01:13.536Z"
   },
   {
    "duration": 20,
    "start_time": "2022-08-29T16:01:13.573Z"
   },
   {
    "duration": 41,
    "start_time": "2022-08-29T16:01:13.595Z"
   },
   {
    "duration": 52,
    "start_time": "2022-08-29T16:01:13.637Z"
   },
   {
    "duration": 39,
    "start_time": "2022-08-29T16:01:13.691Z"
   },
   {
    "duration": 59,
    "start_time": "2022-08-29T16:01:13.731Z"
   },
   {
    "duration": 14,
    "start_time": "2022-08-29T16:01:13.792Z"
   },
   {
    "duration": 6,
    "start_time": "2022-08-29T16:01:13.808Z"
   },
   {
    "duration": 12,
    "start_time": "2022-08-29T16:01:13.815Z"
   },
   {
    "duration": 7,
    "start_time": "2022-08-29T16:01:13.828Z"
   },
   {
    "duration": 65,
    "start_time": "2022-08-29T16:01:13.836Z"
   },
   {
    "duration": 57,
    "start_time": "2022-08-29T16:01:13.903Z"
   },
   {
    "duration": 151,
    "start_time": "2022-08-29T16:01:13.962Z"
   },
   {
    "duration": 193,
    "start_time": "2022-08-29T16:01:14.115Z"
   },
   {
    "duration": 19,
    "start_time": "2022-08-29T16:01:14.309Z"
   },
   {
    "duration": 27,
    "start_time": "2022-08-29T16:01:14.329Z"
   },
   {
    "duration": 18,
    "start_time": "2022-08-29T16:01:14.358Z"
   },
   {
    "duration": 164,
    "start_time": "2022-08-29T16:01:14.380Z"
   },
   {
    "duration": 252,
    "start_time": "2022-08-29T16:01:14.546Z"
   },
   {
    "duration": 296,
    "start_time": "2022-08-29T16:01:14.800Z"
   },
   {
    "duration": 144,
    "start_time": "2022-08-29T16:01:15.097Z"
   },
   {
    "duration": 29,
    "start_time": "2022-08-29T16:01:15.243Z"
   },
   {
    "duration": 227,
    "start_time": "2022-08-29T16:01:15.273Z"
   },
   {
    "duration": 225,
    "start_time": "2022-08-29T16:01:15.502Z"
   },
   {
    "duration": 300,
    "start_time": "2022-08-29T16:01:15.728Z"
   },
   {
    "duration": 126,
    "start_time": "2022-08-29T16:01:16.029Z"
   },
   {
    "duration": 20,
    "start_time": "2022-08-29T16:01:16.157Z"
   },
   {
    "duration": 156,
    "start_time": "2022-08-29T16:01:16.180Z"
   },
   {
    "duration": 206,
    "start_time": "2022-08-29T16:01:16.337Z"
   },
   {
    "duration": 384,
    "start_time": "2022-08-29T16:01:16.545Z"
   },
   {
    "duration": 158,
    "start_time": "2022-08-29T16:01:16.931Z"
   },
   {
    "duration": 12,
    "start_time": "2022-08-29T16:01:17.091Z"
   },
   {
    "duration": 5,
    "start_time": "2022-08-29T16:01:17.104Z"
   },
   {
    "duration": 17,
    "start_time": "2022-08-29T16:01:17.110Z"
   },
   {
    "duration": 24,
    "start_time": "2022-08-29T16:01:17.128Z"
   },
   {
    "duration": 12,
    "start_time": "2022-08-29T16:01:17.154Z"
   },
   {
    "duration": 17,
    "start_time": "2022-08-29T16:01:17.168Z"
   },
   {
    "duration": 13,
    "start_time": "2022-08-29T16:01:17.187Z"
   },
   {
    "duration": 8,
    "start_time": "2022-08-29T16:01:48.635Z"
   },
   {
    "duration": 28,
    "start_time": "2022-08-29T16:05:21.184Z"
   },
   {
    "duration": 8,
    "start_time": "2022-08-29T16:05:45.770Z"
   },
   {
    "duration": 8,
    "start_time": "2022-08-29T16:05:59.833Z"
   },
   {
    "duration": 7,
    "start_time": "2022-08-29T16:06:46.401Z"
   },
   {
    "duration": 7,
    "start_time": "2022-08-29T16:07:22.205Z"
   },
   {
    "duration": 7,
    "start_time": "2022-08-29T16:10:03.839Z"
   },
   {
    "duration": 9,
    "start_time": "2022-08-29T16:11:51.190Z"
   },
   {
    "duration": 1024,
    "start_time": "2022-08-29T16:19:56.194Z"
   },
   {
    "duration": 344,
    "start_time": "2022-08-29T16:19:57.219Z"
   },
   {
    "duration": 59,
    "start_time": "2022-08-29T16:19:57.564Z"
   },
   {
    "duration": 13,
    "start_time": "2022-08-29T16:19:57.626Z"
   },
   {
    "duration": 31,
    "start_time": "2022-08-29T16:19:57.641Z"
   },
   {
    "duration": 11,
    "start_time": "2022-08-29T16:19:57.674Z"
   },
   {
    "duration": 18,
    "start_time": "2022-08-29T16:19:57.687Z"
   },
   {
    "duration": 124,
    "start_time": "2022-08-29T16:19:57.706Z"
   },
   {
    "duration": 7,
    "start_time": "2022-08-29T16:19:57.832Z"
   },
   {
    "duration": 64,
    "start_time": "2022-08-29T16:19:57.841Z"
   },
   {
    "duration": 2,
    "start_time": "2022-08-29T16:19:57.907Z"
   },
   {
    "duration": 18,
    "start_time": "2022-08-29T16:19:57.910Z"
   },
   {
    "duration": 6,
    "start_time": "2022-08-29T16:19:57.930Z"
   },
   {
    "duration": 54,
    "start_time": "2022-08-29T16:19:57.937Z"
   },
   {
    "duration": 87,
    "start_time": "2022-08-29T16:19:57.993Z"
   },
   {
    "duration": 33,
    "start_time": "2022-08-29T16:19:58.082Z"
   },
   {
    "duration": 10,
    "start_time": "2022-08-29T16:19:58.116Z"
   },
   {
    "duration": 33,
    "start_time": "2022-08-29T16:19:58.127Z"
   },
   {
    "duration": 35,
    "start_time": "2022-08-29T16:19:58.162Z"
   },
   {
    "duration": 286,
    "start_time": "2022-08-29T16:19:58.199Z"
   },
   {
    "duration": 125,
    "start_time": "2022-08-29T16:19:58.487Z"
   },
   {
    "duration": 49,
    "start_time": "2022-08-29T16:19:58.614Z"
   },
   {
    "duration": 29,
    "start_time": "2022-08-29T16:19:58.665Z"
   },
   {
    "duration": 222,
    "start_time": "2022-08-29T16:19:58.695Z"
   },
   {
    "duration": 5,
    "start_time": "2022-08-29T16:19:58.919Z"
   },
   {
    "duration": 74,
    "start_time": "2022-08-29T16:19:58.926Z"
   },
   {
    "duration": 41,
    "start_time": "2022-08-29T16:19:59.002Z"
   },
   {
    "duration": 85,
    "start_time": "2022-08-29T16:19:59.054Z"
   },
   {
    "duration": 37,
    "start_time": "2022-08-29T16:19:59.140Z"
   },
   {
    "duration": 14,
    "start_time": "2022-08-29T16:19:59.178Z"
   },
   {
    "duration": 138,
    "start_time": "2022-08-29T16:19:59.194Z"
   },
   {
    "duration": 35,
    "start_time": "2022-08-29T16:19:59.334Z"
   },
   {
    "duration": 11,
    "start_time": "2022-08-29T16:19:59.370Z"
   },
   {
    "duration": 12,
    "start_time": "2022-08-29T16:19:59.382Z"
   },
   {
    "duration": 33,
    "start_time": "2022-08-29T16:19:59.395Z"
   },
   {
    "duration": 29,
    "start_time": "2022-08-29T16:19:59.430Z"
   },
   {
    "duration": 31,
    "start_time": "2022-08-29T16:19:59.461Z"
   },
   {
    "duration": 15,
    "start_time": "2022-08-29T16:19:59.493Z"
   },
   {
    "duration": 69,
    "start_time": "2022-08-29T16:19:59.509Z"
   },
   {
    "duration": 8,
    "start_time": "2022-08-29T16:19:59.579Z"
   },
   {
    "duration": 15,
    "start_time": "2022-08-29T16:19:59.588Z"
   },
   {
    "duration": 57,
    "start_time": "2022-08-29T16:19:59.605Z"
   },
   {
    "duration": 40,
    "start_time": "2022-08-29T16:19:59.664Z"
   },
   {
    "duration": 60,
    "start_time": "2022-08-29T16:19:59.705Z"
   },
   {
    "duration": 44,
    "start_time": "2022-08-29T16:19:59.766Z"
   },
   {
    "duration": 16,
    "start_time": "2022-08-29T16:19:59.812Z"
   },
   {
    "duration": 28,
    "start_time": "2022-08-29T16:19:59.830Z"
   },
   {
    "duration": 6,
    "start_time": "2022-08-29T16:19:59.859Z"
   },
   {
    "duration": 7,
    "start_time": "2022-08-29T16:19:59.866Z"
   },
   {
    "duration": 7,
    "start_time": "2022-08-29T16:19:59.875Z"
   },
   {
    "duration": 7,
    "start_time": "2022-08-29T16:19:59.884Z"
   },
   {
    "duration": 79,
    "start_time": "2022-08-29T16:19:59.893Z"
   },
   {
    "duration": 42,
    "start_time": "2022-08-29T16:19:59.973Z"
   },
   {
    "duration": 153,
    "start_time": "2022-08-29T16:20:00.017Z"
   },
   {
    "duration": 187,
    "start_time": "2022-08-29T16:20:00.171Z"
   },
   {
    "duration": 21,
    "start_time": "2022-08-29T16:20:00.360Z"
   },
   {
    "duration": 15,
    "start_time": "2022-08-29T16:20:00.382Z"
   },
   {
    "duration": 26,
    "start_time": "2022-08-29T16:20:00.398Z"
   },
   {
    "duration": 163,
    "start_time": "2022-08-29T16:20:00.426Z"
   },
   {
    "duration": 205,
    "start_time": "2022-08-29T16:20:00.591Z"
   },
   {
    "duration": 262,
    "start_time": "2022-08-29T16:20:00.798Z"
   },
   {
    "duration": 127,
    "start_time": "2022-08-29T16:20:01.062Z"
   },
   {
    "duration": 12,
    "start_time": "2022-08-29T16:20:01.190Z"
   },
   {
    "duration": 209,
    "start_time": "2022-08-29T16:20:01.204Z"
   },
   {
    "duration": 187,
    "start_time": "2022-08-29T16:20:01.415Z"
   },
   {
    "duration": 253,
    "start_time": "2022-08-29T16:20:01.604Z"
   },
   {
    "duration": 113,
    "start_time": "2022-08-29T16:20:01.859Z"
   },
   {
    "duration": 13,
    "start_time": "2022-08-29T16:20:01.973Z"
   },
   {
    "duration": 136,
    "start_time": "2022-08-29T16:20:01.988Z"
   },
   {
    "duration": 185,
    "start_time": "2022-08-29T16:20:02.125Z"
   },
   {
    "duration": 314,
    "start_time": "2022-08-29T16:20:02.312Z"
   },
   {
    "duration": 135,
    "start_time": "2022-08-29T16:20:02.628Z"
   },
   {
    "duration": 13,
    "start_time": "2022-08-29T16:20:02.764Z"
   },
   {
    "duration": 17,
    "start_time": "2022-08-29T16:20:02.778Z"
   },
   {
    "duration": 29,
    "start_time": "2022-08-29T16:20:02.797Z"
   },
   {
    "duration": 16,
    "start_time": "2022-08-29T16:20:02.827Z"
   },
   {
    "duration": 19,
    "start_time": "2022-08-29T16:20:02.845Z"
   },
   {
    "duration": 21,
    "start_time": "2022-08-29T16:20:02.866Z"
   },
   {
    "duration": 27,
    "start_time": "2022-08-29T16:20:02.888Z"
   },
   {
    "duration": 1186,
    "start_time": "2022-08-30T15:02:00.420Z"
   },
   {
    "duration": 776,
    "start_time": "2022-08-30T15:02:01.608Z"
   },
   {
    "duration": 58,
    "start_time": "2022-08-30T15:02:02.385Z"
   },
   {
    "duration": 12,
    "start_time": "2022-08-30T15:02:02.445Z"
   },
   {
    "duration": 15,
    "start_time": "2022-08-30T15:02:02.459Z"
   },
   {
    "duration": 21,
    "start_time": "2022-08-30T15:02:02.476Z"
   },
   {
    "duration": 16,
    "start_time": "2022-08-30T15:02:02.499Z"
   },
   {
    "duration": 124,
    "start_time": "2022-08-30T15:02:02.516Z"
   },
   {
    "duration": 7,
    "start_time": "2022-08-30T15:02:02.642Z"
   },
   {
    "duration": 60,
    "start_time": "2022-08-30T15:02:02.650Z"
   },
   {
    "duration": 3,
    "start_time": "2022-08-30T15:02:02.711Z"
   },
   {
    "duration": 26,
    "start_time": "2022-08-30T15:02:02.715Z"
   },
   {
    "duration": 23,
    "start_time": "2022-08-30T15:02:02.742Z"
   },
   {
    "duration": 51,
    "start_time": "2022-08-30T15:02:02.768Z"
   },
   {
    "duration": 60,
    "start_time": "2022-08-30T15:02:02.820Z"
   },
   {
    "duration": 31,
    "start_time": "2022-08-30T15:02:02.882Z"
   },
   {
    "duration": 11,
    "start_time": "2022-08-30T15:02:02.914Z"
   },
   {
    "duration": 14,
    "start_time": "2022-08-30T15:02:02.927Z"
   },
   {
    "duration": 66,
    "start_time": "2022-08-30T15:02:02.942Z"
   },
   {
    "duration": 311,
    "start_time": "2022-08-30T15:02:03.010Z"
   },
   {
    "duration": 149,
    "start_time": "2022-08-30T15:02:03.322Z"
   },
   {
    "duration": 47,
    "start_time": "2022-08-30T15:02:03.472Z"
   },
   {
    "duration": 54,
    "start_time": "2022-08-30T15:02:03.520Z"
   },
   {
    "duration": 244,
    "start_time": "2022-08-30T15:02:03.576Z"
   },
   {
    "duration": 5,
    "start_time": "2022-08-30T15:02:03.822Z"
   },
   {
    "duration": 81,
    "start_time": "2022-08-30T15:02:03.829Z"
   },
   {
    "duration": 31,
    "start_time": "2022-08-30T15:02:03.912Z"
   },
   {
    "duration": 117,
    "start_time": "2022-08-30T15:02:03.945Z"
   },
   {
    "duration": 29,
    "start_time": "2022-08-30T15:02:04.068Z"
   },
   {
    "duration": 17,
    "start_time": "2022-08-30T15:02:04.099Z"
   },
   {
    "duration": 166,
    "start_time": "2022-08-30T15:02:04.118Z"
   },
   {
    "duration": 31,
    "start_time": "2022-08-30T15:02:04.286Z"
   },
   {
    "duration": 13,
    "start_time": "2022-08-30T15:02:04.319Z"
   },
   {
    "duration": 34,
    "start_time": "2022-08-30T15:02:04.334Z"
   },
   {
    "duration": 32,
    "start_time": "2022-08-30T15:02:04.370Z"
   },
   {
    "duration": 10,
    "start_time": "2022-08-30T15:02:04.404Z"
   },
   {
    "duration": 60,
    "start_time": "2022-08-30T15:02:04.415Z"
   },
   {
    "duration": 18,
    "start_time": "2022-08-30T15:02:04.477Z"
   },
   {
    "duration": 46,
    "start_time": "2022-08-30T15:02:04.498Z"
   },
   {
    "duration": 30,
    "start_time": "2022-08-30T15:02:04.545Z"
   },
   {
    "duration": 15,
    "start_time": "2022-08-30T15:02:04.580Z"
   },
   {
    "duration": 43,
    "start_time": "2022-08-30T15:02:04.597Z"
   },
   {
    "duration": 65,
    "start_time": "2022-08-30T15:02:04.642Z"
   },
   {
    "duration": 42,
    "start_time": "2022-08-30T15:02:04.709Z"
   },
   {
    "duration": 48,
    "start_time": "2022-08-30T15:02:04.768Z"
   },
   {
    "duration": 16,
    "start_time": "2022-08-30T15:02:04.817Z"
   },
   {
    "duration": 8,
    "start_time": "2022-08-30T15:02:04.835Z"
   },
   {
    "duration": 24,
    "start_time": "2022-08-30T15:02:04.844Z"
   },
   {
    "duration": 6,
    "start_time": "2022-08-30T15:02:04.869Z"
   },
   {
    "duration": 7,
    "start_time": "2022-08-30T15:02:04.877Z"
   },
   {
    "duration": 8,
    "start_time": "2022-08-30T15:02:04.886Z"
   },
   {
    "duration": 46,
    "start_time": "2022-08-30T15:02:04.896Z"
   },
   {
    "duration": 68,
    "start_time": "2022-08-30T15:02:04.944Z"
   },
   {
    "duration": 155,
    "start_time": "2022-08-30T15:02:05.014Z"
   },
   {
    "duration": 203,
    "start_time": "2022-08-30T15:02:05.170Z"
   },
   {
    "duration": 23,
    "start_time": "2022-08-30T15:02:05.375Z"
   },
   {
    "duration": 14,
    "start_time": "2022-08-30T15:02:05.399Z"
   },
   {
    "duration": 18,
    "start_time": "2022-08-30T15:02:05.415Z"
   },
   {
    "duration": 191,
    "start_time": "2022-08-30T15:02:05.434Z"
   },
   {
    "duration": 221,
    "start_time": "2022-08-30T15:02:05.627Z"
   },
   {
    "duration": 286,
    "start_time": "2022-08-30T15:02:05.850Z"
   },
   {
    "duration": 133,
    "start_time": "2022-08-30T15:02:06.138Z"
   },
   {
    "duration": 13,
    "start_time": "2022-08-30T15:02:06.273Z"
   },
   {
    "duration": 257,
    "start_time": "2022-08-30T15:02:06.288Z"
   },
   {
    "duration": 264,
    "start_time": "2022-08-30T15:02:06.548Z"
   },
   {
    "duration": 286,
    "start_time": "2022-08-30T15:02:06.813Z"
   },
   {
    "duration": 113,
    "start_time": "2022-08-30T15:02:07.100Z"
   },
   {
    "duration": 12,
    "start_time": "2022-08-30T15:02:07.215Z"
   },
   {
    "duration": 147,
    "start_time": "2022-08-30T15:02:07.229Z"
   },
   {
    "duration": 211,
    "start_time": "2022-08-30T15:02:07.377Z"
   },
   {
    "duration": 334,
    "start_time": "2022-08-30T15:02:07.590Z"
   },
   {
    "duration": 133,
    "start_time": "2022-08-30T15:02:07.926Z"
   },
   {
    "duration": 14,
    "start_time": "2022-08-30T15:02:08.068Z"
   },
   {
    "duration": 5,
    "start_time": "2022-08-30T15:02:08.084Z"
   },
   {
    "duration": 9,
    "start_time": "2022-08-30T15:02:08.091Z"
   },
   {
    "duration": 15,
    "start_time": "2022-08-30T15:02:08.102Z"
   },
   {
    "duration": 4,
    "start_time": "2022-08-30T15:02:08.119Z"
   },
   {
    "duration": 8,
    "start_time": "2022-08-30T15:02:08.125Z"
   },
   {
    "duration": 13,
    "start_time": "2022-08-30T15:02:08.168Z"
   },
   {
    "duration": 27,
    "start_time": "2022-08-30T15:06:41.859Z"
   },
   {
    "duration": 148,
    "start_time": "2022-08-30T15:10:05.573Z"
   }
  ],
  "kernelspec": {
   "display_name": "Python 3",
   "language": "python",
   "name": "python3"
  },
  "language_info": {
   "codemirror_mode": {
    "name": "ipython",
    "version": 3
   },
   "file_extension": ".py",
   "mimetype": "text/x-python",
   "name": "python",
   "nbconvert_exporter": "python",
   "pygments_lexer": "ipython3",
   "version": "3.8.5"
  },
  "toc": {
   "base_numbering": 1,
   "nav_menu": {},
   "number_sections": true,
   "sideBar": true,
   "skip_h1_title": true,
   "title_cell": "Table of Contents",
   "title_sidebar": "Contents",
   "toc_cell": false,
   "toc_position": {
    "height": "calc(100% - 180px)",
    "left": "10px",
    "top": "150px",
    "width": "366.181px"
   },
   "toc_section_display": true,
   "toc_window_display": true
  }
 },
 "nbformat": 4,
 "nbformat_minor": 2
}
